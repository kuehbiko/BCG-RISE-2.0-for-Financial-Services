{
 "cells": [
  {
   "cell_type": "markdown",
   "metadata": {},
   "source": [
    "<table class=\"table table-bordered\">\n",
    "    <tr>\n",
    "        <th style=\"width:200px;\">\n",
    "            <img src='https://bcgriseacademy.com/hs-fs/hubfs/RISE%202.0%20Logo_Options_25Jan23_RISE%20-%20For%20Black%20Background.png?width=3522&height=1986&name=RISE%202.0%20Logo_Options_25Jan23_RISE%20-%20For%20Black%20Background.png' style=\"background-color:black; width: 100%; height: 100%;\">\n",
    "        </th>\n",
    "        <th style=\"text-align:center;\">\n",
    "            <h1>IBF TFIP</h1>\n",
    "            <h2>Pandas I - Data Analysis using Pandas</h2>\n",
    "        </th>\n",
    "    </tr>\n",
    "</table>"
   ]
  },
  {
   "cell_type": "markdown",
   "metadata": {},
   "source": [
    "# Learning Objectives\n",
    "#### After completing this lesson, you should be able to:\n",
    "\n",
    "1. LO1 : Understand the importance of Pandas in Data Analysis\n",
    "2. LO2 : Understand various Pandas functions\n",
    "3. LO3 : Apply operations on Pandas DataFrame and Series\n",
    "\n",
    "\n"
   ]
  },
  {
   "cell_type": "markdown",
   "metadata": {},
   "source": [
    "# Table of Contents <a id='tc'></a>\n",
    "\n",
    "1. [Introduction to Pandas](#p1)\n",
    "2. [Pandas Data Structures](#p2)\n",
    "3. [Pandas Functions](#p3)\n",
    "3. [Hands On Practice Exercise](#p4)\n"
   ]
  },
  {
   "cell_type": "markdown",
   "metadata": {},
   "source": [
    "# 1. Introduction to Pandas <a id='p1' />\n",
    "\n",
    "The pandas library is a popular open-source Python library widely used for data manipulation, analysis, and preparation. It provides powerful and flexible data structures to work with structured data, primarily two main data structures:\n",
    "\n",
    "`Series`: A one-dimensional labeled array that can hold data of various types (numeric, string, boolean, etc.). It is similar to a Python list or array but comes with additional functionalities and methods.\n",
    "\n",
    "`DataFrame`: A two-dimensional labeled data structure, similar to a table or spreadsheet, that consists of rows and columns. It is the primary data structure used in pandas for data analysis tasks and is a highly efficient way to handle structured data.\n",
    "\n",
    "Pandas offers a wide range of functionalities and tools, including:\n",
    "\n",
    "`Reading and writing data`: Pandas can read and write data from various file formats such as CSV, Excel, SQL databases, JSON, and more.\n",
    "\n",
    "`Data cleaning`: It provides methods to handle missing data, deal with duplicates, and perform data transformations.\n",
    "\n",
    "`Data manipulation`: Pandas allows you to filter, sort, group, aggregate, and reshape data, enabling complex data operations with ease.\n",
    "\n",
    "`Time series data`: It includes specialized functionalities to work with time series data, such as date range generation, resampling, and time-based operations.\n",
    "\n",
    "`Data visualization`: While pandas itself doesn't offer built-in plotting capabilities, it integrates seamlessly with other popular visualization libraries like Matplotlib and Seaborn to create insightful visualizations."
   ]
  },
  {
   "cell_type": "markdown",
   "metadata": {},
   "source": [
    "# 2. Pandas Data Structures <a id='p2' />\n",
    "\n",
    "\n",
    "- Primary data structure of pandas\n",
    "    * Series (1-dimensional) — It is one-dimensional labelled array capable of holding any data type \n",
    "        - The basic method to create a Series is to call: \n",
    "    \n",
    "        `series = pandas.Series(data= d, index=index)`\n",
    "\n",
    "    * DataFrame (2-dimensional) — It is a 2-dimensional labelled data structure with columns of potentially different data types.\n",
    "    \n",
    "        - The basic method to create a DataFrame is to call: \n",
    "\n",
    "        `dataFrame = pandas.DataFrame(data = d, index = index)`\n",
    "\n",
    "__Note__: d and index can be any Dict of ID ndarrays, lists, dicts, or Series etc.\n"
   ]
  },
  {
   "cell_type": "markdown",
   "metadata": {},
   "source": [
    "###### Standard way to import pandas  "
   ]
  },
  {
   "cell_type": "code",
   "execution_count": 1,
   "metadata": {},
   "outputs": [],
   "source": [
    "# importing the pandas library\n",
    "import pandas as pd"
   ]
  },
  {
   "cell_type": "markdown",
   "metadata": {},
   "source": [
    "## 2.1 Series \n",
    "Series is a one-dimensional labeled array capable of holding any data type (integers, strings, floating point numbers, Python objects, etc.). The axis labels are collectively referred to as the index. The basic method to create a Series is to call:\n",
    "\n",
    "`>>> s = pd.Series(data, index=index)`\n",
    "\n",
    "Here, data can be many different things:\n",
    "\n",
    "- a Python dict\n",
    "- an ndarray\n",
    "- a scalar value (like 5)\n",
    "\n",
    "The passed index is a list of axis labels.\n",
    "\n",
    "If you don't define the index, then by default the index are 0,1,2,..."
   ]
  },
  {
   "cell_type": "code",
   "execution_count": 2,
   "metadata": {},
   "outputs": [
    {
     "data": {
      "text/plain": [
       "0    9\n",
       "1    8\n",
       "2    7\n",
       "3    6\n",
       "4    5\n",
       "dtype: object"
      ]
     },
     "execution_count": 2,
     "metadata": {},
     "output_type": "execute_result"
    }
   ],
   "source": [
    "# defining a series\n",
    "series = pd.Series(['9','8','7','6','5'])\n",
    "series"
   ]
  },
  {
   "cell_type": "code",
   "execution_count": 3,
   "metadata": {},
   "outputs": [
    {
     "data": {
      "text/plain": [
       "0    9\n",
       "1    8\n",
       "2    7\n",
       "3    6\n",
       "4    5\n",
       "dtype: object"
      ]
     },
     "execution_count": 3,
     "metadata": {},
     "output_type": "execute_result"
    }
   ],
   "source": [
    "# the above series can also be defined in this way\n",
    "series = pd.Series(list('98765'))\n",
    "series"
   ]
  },
  {
   "cell_type": "markdown",
   "metadata": {},
   "source": [
    "#### We can create a series with our own index as well"
   ]
  },
  {
   "cell_type": "code",
   "execution_count": 4,
   "metadata": {},
   "outputs": [
    {
     "data": {
      "text/plain": [
       "a    1\n",
       "b    2\n",
       "c    3\n",
       "d    4\n",
       "dtype: int64"
      ]
     },
     "execution_count": 4,
     "metadata": {},
     "output_type": "execute_result"
    }
   ],
   "source": [
    "# We can create a series with our own index\n",
    "series = pd.Series([1,2,3,4], index=['a','b','c','d'])\n",
    "series"
   ]
  },
  {
   "cell_type": "code",
   "execution_count": 5,
   "metadata": {},
   "outputs": [
    {
     "data": {
      "text/plain": [
       "4"
      ]
     },
     "execution_count": 5,
     "metadata": {},
     "output_type": "execute_result"
    }
   ],
   "source": [
    "# If we want to access element 4 using it's index, we do it like this\n",
    "series['d']"
   ]
  },
  {
   "cell_type": "code",
   "execution_count": 6,
   "metadata": {},
   "outputs": [
    {
     "data": {
      "text/plain": [
       "x    0\n",
       "y    1\n",
       "z    2\n",
       "x    3\n",
       "y    4\n",
       "dtype: int64"
      ]
     },
     "execution_count": 6,
     "metadata": {},
     "output_type": "execute_result"
    }
   ],
   "source": [
    "# Another way of creating a series with custom index\n",
    "series = pd.Series(range(5), index = list('xyzxy'))\n",
    "series"
   ]
  },
  {
   "cell_type": "code",
   "execution_count": 7,
   "metadata": {},
   "outputs": [
    {
     "data": {
      "text/plain": [
       "x    0\n",
       "x    3\n",
       "dtype: int64"
      ]
     },
     "execution_count": 7,
     "metadata": {},
     "output_type": "execute_result"
    }
   ],
   "source": [
    "# Now we can see from the above series that there are duplicated indexes. Accessing the index gives both values\n",
    "series['x']"
   ]
  },
  {
   "cell_type": "markdown",
   "metadata": {},
   "source": [
    "##### Incomplete data in the series\n",
    "* data can be filtered using conditions\n",
    "* pandas can accommodate incomplete data. Incomplete data is replaced with 'NaN' and 'NaN' value is not an issue in arithmetic operations. Unlike numpy ndarray, data is automatically aligned."
   ]
  },
  {
   "cell_type": "code",
   "execution_count": 8,
   "metadata": {},
   "outputs": [
    {
     "data": {
      "text/plain": [
       "1    10.0\n",
       "2    20.0\n",
       "3    30.0\n",
       "4     NaN\n",
       "dtype: float64"
      ]
     },
     "execution_count": 8,
     "metadata": {},
     "output_type": "execute_result"
    }
   ],
   "source": [
    "series = pd.Series({1:10, 2:20, 3:30}, index=[1,2,3,4])\n",
    "series"
   ]
  },
  {
   "cell_type": "code",
   "execution_count": 9,
   "metadata": {},
   "outputs": [
    {
     "data": {
      "text/plain": [
       "1     40.0\n",
       "2     80.0\n",
       "3    120.0\n",
       "4      NaN\n",
       "dtype: float64"
      ]
     },
     "execution_count": 9,
     "metadata": {},
     "output_type": "execute_result"
    }
   ],
   "source": [
    "# you can perform operations on series\n",
    "series*4"
   ]
  },
  {
   "cell_type": "markdown",
   "metadata": {},
   "source": [
    "You can also create a series with the help of a dictionary.\n",
    "\n"
   ]
  },
  {
   "cell_type": "code",
   "execution_count": 11,
   "metadata": {},
   "outputs": [
    {
     "data": {
      "text/plain": [
       "Singapore       5.6\n",
       "Indonesia      11.6\n",
       "Italy          15.4\n",
       "UK             65.0\n",
       "Netherlands    17.3\n",
       "dtype: float64"
      ]
     },
     "execution_count": 11,
     "metadata": {},
     "output_type": "execute_result"
    }
   ],
   "source": [
    "popu_dict = {'Singapore': 5.6,\n",
    "           'Indonesia': 11.6,\n",
    "           'Italy': 15.4,\n",
    "           'UK': 65,\n",
    "           'Netherlands': 17.3}\n",
    "\n",
    "popu_series = pd.Series(popu_dict)\n",
    "popu_series"
   ]
  },
  {
   "cell_type": "code",
   "execution_count": 12,
   "metadata": {},
   "outputs": [
    {
     "data": {
      "text/plain": [
       "15.4"
      ]
     },
     "execution_count": 12,
     "metadata": {},
     "output_type": "execute_result"
    }
   ],
   "source": [
    "# If we want to extract population of Italy - how can we do that?\n",
    "popu_series['Italy']"
   ]
  },
  {
   "cell_type": "markdown",
   "metadata": {},
   "source": [
    "## 2.2 DataFrame\n",
    "\n",
    "* 2 dimensional data structures. \n",
    "* Spreadsheet-like data structure containing an ordered collection of columns. \n",
    "* Has both row and column index. \n",
    "\n"
   ]
  },
  {
   "cell_type": "code",
   "execution_count": 13,
   "metadata": {},
   "outputs": [
    {
     "data": {
      "text/html": [
       "<div>\n",
       "<style scoped>\n",
       "    .dataframe tbody tr th:only-of-type {\n",
       "        vertical-align: middle;\n",
       "    }\n",
       "\n",
       "    .dataframe tbody tr th {\n",
       "        vertical-align: top;\n",
       "    }\n",
       "\n",
       "    .dataframe thead th {\n",
       "        text-align: right;\n",
       "    }\n",
       "</style>\n",
       "<table border=\"1\" class=\"dataframe\">\n",
       "  <thead>\n",
       "    <tr style=\"text-align: right;\">\n",
       "      <th></th>\n",
       "      <th>country</th>\n",
       "      <th>population</th>\n",
       "      <th>area</th>\n",
       "      <th>capital</th>\n",
       "    </tr>\n",
       "  </thead>\n",
       "  <tbody>\n",
       "    <tr>\n",
       "      <th>0</th>\n",
       "      <td>Singapore</td>\n",
       "      <td>5.6</td>\n",
       "      <td>722</td>\n",
       "      <td>Singapore</td>\n",
       "    </tr>\n",
       "    <tr>\n",
       "      <th>1</th>\n",
       "      <td>France</td>\n",
       "      <td>67.0</td>\n",
       "      <td>551695</td>\n",
       "      <td>Paris</td>\n",
       "    </tr>\n",
       "    <tr>\n",
       "      <th>2</th>\n",
       "      <td>Germany</td>\n",
       "      <td>83.0</td>\n",
       "      <td>357022</td>\n",
       "      <td>Berlin</td>\n",
       "    </tr>\n",
       "  </tbody>\n",
       "</table>\n",
       "</div>"
      ],
      "text/plain": [
       "     country  population    area    capital\n",
       "0  Singapore         5.6     722  Singapore\n",
       "1     France        67.0  551695      Paris\n",
       "2    Germany        83.0  357022     Berlin"
      ]
     },
     "execution_count": 13,
     "metadata": {},
     "output_type": "execute_result"
    }
   ],
   "source": [
    "# creating a dataframe\n",
    "\n",
    "data = {'country': ['Singapore', 'France', 'Germany'],\n",
    "        'population': [5.6, 67, 83],\n",
    "        'area': [722, 551695, 357022],\n",
    "        'capital': ['Singapore', 'Paris', 'Berlin']}\n",
    "\n",
    "# Convert to a dataframe\n",
    "countries = pd.DataFrame(data)\n",
    "countries"
   ]
  },
  {
   "cell_type": "markdown",
   "metadata": {},
   "source": [
    "We can change the index of the above dataframe. We want to change the index of the above dataframe to 'country'."
   ]
  },
  {
   "cell_type": "code",
   "execution_count": 14,
   "metadata": {},
   "outputs": [
    {
     "data": {
      "text/html": [
       "<div>\n",
       "<style scoped>\n",
       "    .dataframe tbody tr th:only-of-type {\n",
       "        vertical-align: middle;\n",
       "    }\n",
       "\n",
       "    .dataframe tbody tr th {\n",
       "        vertical-align: top;\n",
       "    }\n",
       "\n",
       "    .dataframe thead th {\n",
       "        text-align: right;\n",
       "    }\n",
       "</style>\n",
       "<table border=\"1\" class=\"dataframe\">\n",
       "  <thead>\n",
       "    <tr style=\"text-align: right;\">\n",
       "      <th></th>\n",
       "      <th>population</th>\n",
       "      <th>area</th>\n",
       "      <th>capital</th>\n",
       "    </tr>\n",
       "    <tr>\n",
       "      <th>country</th>\n",
       "      <th></th>\n",
       "      <th></th>\n",
       "      <th></th>\n",
       "    </tr>\n",
       "  </thead>\n",
       "  <tbody>\n",
       "    <tr>\n",
       "      <th>Singapore</th>\n",
       "      <td>5.6</td>\n",
       "      <td>722</td>\n",
       "      <td>Singapore</td>\n",
       "    </tr>\n",
       "    <tr>\n",
       "      <th>France</th>\n",
       "      <td>67.0</td>\n",
       "      <td>551695</td>\n",
       "      <td>Paris</td>\n",
       "    </tr>\n",
       "    <tr>\n",
       "      <th>Germany</th>\n",
       "      <td>83.0</td>\n",
       "      <td>357022</td>\n",
       "      <td>Berlin</td>\n",
       "    </tr>\n",
       "  </tbody>\n",
       "</table>\n",
       "</div>"
      ],
      "text/plain": [
       "           population    area    capital\n",
       "country                                 \n",
       "Singapore         5.6     722  Singapore\n",
       "France           67.0  551695      Paris\n",
       "Germany          83.0  357022     Berlin"
      ]
     },
     "execution_count": 14,
     "metadata": {},
     "output_type": "execute_result"
    }
   ],
   "source": [
    "# Change the index of the dataframe to country\n",
    "countries = countries.set_index('country')\n",
    "countries"
   ]
  },
  {
   "cell_type": "code",
   "execution_count": 15,
   "metadata": {},
   "outputs": [
    {
     "data": {
      "text/plain": [
       "country\n",
       "Singapore       722\n",
       "France       551695\n",
       "Germany      357022\n",
       "Name: area, dtype: int64"
      ]
     },
     "execution_count": 15,
     "metadata": {},
     "output_type": "execute_result"
    }
   ],
   "source": [
    "# Now, we can access an individual column like this\n",
    "countries['area']"
   ]
  },
  {
   "cell_type": "markdown",
   "metadata": {},
   "source": [
    "So, what is the data structure of the above column?\n"
   ]
  },
  {
   "cell_type": "code",
   "execution_count": 16,
   "metadata": {},
   "outputs": [
    {
     "data": {
      "text/plain": [
       "pandas.core.series.Series"
      ]
     },
     "execution_count": 16,
     "metadata": {},
     "output_type": "execute_result"
    }
   ],
   "source": [
    "type(countries['area'])"
   ]
  },
  {
   "cell_type": "markdown",
   "metadata": {},
   "source": [
    "There are plenty of operations that can be performed on series and dataframes."
   ]
  },
  {
   "cell_type": "code",
   "execution_count": 17,
   "metadata": {},
   "outputs": [
    {
     "data": {
      "text/plain": [
       "country\n",
       "Singapore    0.007756\n",
       "France       0.000121\n",
       "Germany      0.000232\n",
       "dtype: float64"
      ]
     },
     "execution_count": 17,
     "metadata": {},
     "output_type": "execute_result"
    }
   ],
   "source": [
    "# Let's say now from the countries dataframe, we want to calculate the population density of every country\n",
    "# population density = population / area\n",
    "countries['population']/countries['area']"
   ]
  },
  {
   "cell_type": "code",
   "execution_count": 18,
   "metadata": {},
   "outputs": [
    {
     "data": {
      "text/html": [
       "<div>\n",
       "<style scoped>\n",
       "    .dataframe tbody tr th:only-of-type {\n",
       "        vertical-align: middle;\n",
       "    }\n",
       "\n",
       "    .dataframe tbody tr th {\n",
       "        vertical-align: top;\n",
       "    }\n",
       "\n",
       "    .dataframe thead th {\n",
       "        text-align: right;\n",
       "    }\n",
       "</style>\n",
       "<table border=\"1\" class=\"dataframe\">\n",
       "  <thead>\n",
       "    <tr style=\"text-align: right;\">\n",
       "      <th></th>\n",
       "      <th>population</th>\n",
       "      <th>area</th>\n",
       "      <th>capital</th>\n",
       "    </tr>\n",
       "    <tr>\n",
       "      <th>country</th>\n",
       "      <th></th>\n",
       "      <th></th>\n",
       "      <th></th>\n",
       "    </tr>\n",
       "  </thead>\n",
       "  <tbody>\n",
       "    <tr>\n",
       "      <th>Singapore</th>\n",
       "      <td>5.6</td>\n",
       "      <td>722</td>\n",
       "      <td>Singapore</td>\n",
       "    </tr>\n",
       "    <tr>\n",
       "      <th>France</th>\n",
       "      <td>67.0</td>\n",
       "      <td>551695</td>\n",
       "      <td>Paris</td>\n",
       "    </tr>\n",
       "    <tr>\n",
       "      <th>Germany</th>\n",
       "      <td>83.0</td>\n",
       "      <td>357022</td>\n",
       "      <td>Berlin</td>\n",
       "    </tr>\n",
       "  </tbody>\n",
       "</table>\n",
       "</div>"
      ],
      "text/plain": [
       "           population    area    capital\n",
       "country                                 \n",
       "Singapore         5.6     722  Singapore\n",
       "France           67.0  551695      Paris\n",
       "Germany          83.0  357022     Berlin"
      ]
     },
     "execution_count": 18,
     "metadata": {},
     "output_type": "execute_result"
    }
   ],
   "source": [
    "countries"
   ]
  },
  {
   "cell_type": "markdown",
   "metadata": {},
   "source": [
    "We can see that even though we calculated the population density of the country, we haven't yet added this column to the dataframe. However, we can add the column to the dataframe too."
   ]
  },
  {
   "cell_type": "code",
   "execution_count": 20,
   "metadata": {},
   "outputs": [
    {
     "data": {
      "text/html": [
       "<div>\n",
       "<style scoped>\n",
       "    .dataframe tbody tr th:only-of-type {\n",
       "        vertical-align: middle;\n",
       "    }\n",
       "\n",
       "    .dataframe tbody tr th {\n",
       "        vertical-align: top;\n",
       "    }\n",
       "\n",
       "    .dataframe thead th {\n",
       "        text-align: right;\n",
       "    }\n",
       "</style>\n",
       "<table border=\"1\" class=\"dataframe\">\n",
       "  <thead>\n",
       "    <tr style=\"text-align: right;\">\n",
       "      <th></th>\n",
       "      <th>population</th>\n",
       "      <th>area</th>\n",
       "      <th>capital</th>\n",
       "      <th>pop_density</th>\n",
       "      <th>density</th>\n",
       "    </tr>\n",
       "    <tr>\n",
       "      <th>country</th>\n",
       "      <th></th>\n",
       "      <th></th>\n",
       "      <th></th>\n",
       "      <th></th>\n",
       "      <th></th>\n",
       "    </tr>\n",
       "  </thead>\n",
       "  <tbody>\n",
       "    <tr>\n",
       "      <th>Singapore</th>\n",
       "      <td>5.6</td>\n",
       "      <td>722</td>\n",
       "      <td>Singapore</td>\n",
       "      <td>0.007756</td>\n",
       "      <td>0.007756</td>\n",
       "    </tr>\n",
       "    <tr>\n",
       "      <th>France</th>\n",
       "      <td>67.0</td>\n",
       "      <td>551695</td>\n",
       "      <td>Paris</td>\n",
       "      <td>0.000121</td>\n",
       "      <td>0.000121</td>\n",
       "    </tr>\n",
       "    <tr>\n",
       "      <th>Germany</th>\n",
       "      <td>83.0</td>\n",
       "      <td>357022</td>\n",
       "      <td>Berlin</td>\n",
       "      <td>0.000232</td>\n",
       "      <td>0.000232</td>\n",
       "    </tr>\n",
       "  </tbody>\n",
       "</table>\n",
       "</div>"
      ],
      "text/plain": [
       "           population    area    capital  pop_density   density\n",
       "country                                                        \n",
       "Singapore         5.6     722  Singapore     0.007756  0.007756\n",
       "France           67.0  551695      Paris     0.000121  0.000121\n",
       "Germany          83.0  357022     Berlin     0.000232  0.000232"
      ]
     },
     "execution_count": 20,
     "metadata": {},
     "output_type": "execute_result"
    }
   ],
   "source": [
    "countries['density'] = countries['population']/countries['area']\n",
    "countries"
   ]
  },
  {
   "cell_type": "code",
   "execution_count": 21,
   "metadata": {},
   "outputs": [
    {
     "data": {
      "text/plain": [
       "83.0"
      ]
     },
     "execution_count": 21,
     "metadata": {},
     "output_type": "execute_result"
    }
   ],
   "source": [
    "# We want to get the max population from all the countries\n",
    "\n",
    "countries['population'].max()"
   ]
  },
  {
   "cell_type": "code",
   "execution_count": 23,
   "metadata": {},
   "outputs": [
    {
     "data": {
      "text/html": [
       "<div>\n",
       "<style scoped>\n",
       "    .dataframe tbody tr th:only-of-type {\n",
       "        vertical-align: middle;\n",
       "    }\n",
       "\n",
       "    .dataframe tbody tr th {\n",
       "        vertical-align: top;\n",
       "    }\n",
       "\n",
       "    .dataframe thead th {\n",
       "        text-align: right;\n",
       "    }\n",
       "</style>\n",
       "<table border=\"1\" class=\"dataframe\">\n",
       "  <thead>\n",
       "    <tr style=\"text-align: right;\">\n",
       "      <th></th>\n",
       "      <th>population</th>\n",
       "      <th>area</th>\n",
       "      <th>capital</th>\n",
       "      <th>pop_density</th>\n",
       "      <th>density</th>\n",
       "    </tr>\n",
       "    <tr>\n",
       "      <th>country</th>\n",
       "      <th></th>\n",
       "      <th></th>\n",
       "      <th></th>\n",
       "      <th></th>\n",
       "      <th></th>\n",
       "    </tr>\n",
       "  </thead>\n",
       "  <tbody>\n",
       "    <tr>\n",
       "      <th>Singapore</th>\n",
       "      <td>5.6</td>\n",
       "      <td>722</td>\n",
       "      <td>Singapore</td>\n",
       "      <td>0.007756</td>\n",
       "      <td>0.007756</td>\n",
       "    </tr>\n",
       "    <tr>\n",
       "      <th>Germany</th>\n",
       "      <td>83.0</td>\n",
       "      <td>357022</td>\n",
       "      <td>Berlin</td>\n",
       "      <td>0.000232</td>\n",
       "      <td>0.000232</td>\n",
       "    </tr>\n",
       "    <tr>\n",
       "      <th>France</th>\n",
       "      <td>67.0</td>\n",
       "      <td>551695</td>\n",
       "      <td>Paris</td>\n",
       "      <td>0.000121</td>\n",
       "      <td>0.000121</td>\n",
       "    </tr>\n",
       "  </tbody>\n",
       "</table>\n",
       "</div>"
      ],
      "text/plain": [
       "           population    area    capital  pop_density   density\n",
       "country                                                        \n",
       "Singapore         5.6     722  Singapore     0.007756  0.007756\n",
       "Germany          83.0  357022     Berlin     0.000232  0.000232\n",
       "France           67.0  551695      Paris     0.000121  0.000121"
      ]
     },
     "execution_count": 23,
     "metadata": {},
     "output_type": "execute_result"
    }
   ],
   "source": [
    "# You can sort values in the countries dataframe based on a certain column\n",
    "countries.sort_values('area') # sort by ascending as default"
   ]
  },
  {
   "cell_type": "markdown",
   "metadata": {},
   "source": [
    "## 2.3 Indexing and Slicing Data\n",
    "\n",
    "* Indexing - Being able to access different parts of the data using rows and columns index.\n",
    "* Slicing - Being able to extract a subset of data using index of rows/columns.\n",
    "\n",
    "\n",
    "Indexing and Slicing in Pandas can be performed by two very powerful methods: `loc` and `iloc`.\n",
    "\n",
    "`loc`: \n",
    "\n",
    "* loc is primarily label-based indexing, meaning it is used to access data using the row and column labels (index and column names) in the DataFrame.\n",
    "* The syntax for loc is df.loc[row_label, column_label], where df is the DataFrame.\n",
    "* You can use single labels, lists, slices, or boolean arrays to index rows or columns with loc.\n",
    "\n",
    "`iloc`:\n",
    "\n",
    "* iloc is integer-based indexing, meaning it is used to access data using the integer positions of rows and columns in the DataFrame (0-based index).\n",
    "* The syntax for iloc is df.iloc[row_position, column_position], where df is the DataFrame.\n",
    "* You can use single integers, lists of integers, slices, or boolean arrays to index rows or columns with iloc.\n",
    "\n",
    "\n",
    "##### Some notations worth understanding:\n",
    "\n",
    "* df.loc[:, :] or df.iloc[:, :]  - Select all rows and all columns\n",
    "* df.loc[2:4, :] - Select rows from index 2 to 4 (inclusive) and all columns\n",
    "* df.loc[[0, 2, 4], ['A', 'B']] - Select rows with labels 0, 2, and 4, and columns 'A' and 'B'\n",
    "* df.iloc[2:4, :] - Select rows from position 2 to 4 (exclusive) and all columns\n",
    "* df.iloc[[0, 2, 4], [0, 1]] - Select rows at positions 0, 2, and 4, and columns at positions 0 and 1\n",
    "\n",
    "\n",
    "Now, let's say we want to access the area and population of Singapore and France. This will be slicing of the data.\n"
   ]
  },
  {
   "cell_type": "code",
   "execution_count": 24,
   "metadata": {},
   "outputs": [
    {
     "name": "stdout",
     "output_type": "stream",
     "text": [
      "population           5.6\n",
      "area                 722\n",
      "capital        Singapore\n",
      "pop_density     0.007756\n",
      "density         0.007756\n",
      "Name: Singapore, dtype: object\n",
      "-----------\n",
      "population         67.0\n",
      "area             551695\n",
      "capital           Paris\n",
      "pop_density    0.000121\n",
      "density        0.000121\n",
      "Name: France, dtype: object\n",
      "-----------\n",
      "population         83.0\n",
      "area             357022\n",
      "capital          Berlin\n",
      "pop_density    0.000232\n",
      "density        0.000232\n",
      "Name: Germany, dtype: object\n",
      "-----------\n"
     ]
    }
   ],
   "source": [
    "# rows\n",
    "print(countries.iloc[0]) # first row of data frame - Note a Series data type output.\n",
    "print('-----------')\n",
    "print(countries.iloc[1]) # second row of data frame \n",
    "print('-----------')\n",
    "print(countries.iloc[-1]) # last row of data frame \n",
    "print('-----------')\n"
   ]
  },
  {
   "cell_type": "code",
   "execution_count": 25,
   "metadata": {},
   "outputs": [
    {
     "name": "stdout",
     "output_type": "stream",
     "text": [
      "country\n",
      "Singapore     5.6\n",
      "France       67.0\n",
      "Germany      83.0\n",
      "Name: population, dtype: float64\n",
      "--------------\n",
      "country\n",
      "Singapore       722\n",
      "France       551695\n",
      "Germany      357022\n",
      "Name: area, dtype: int64\n",
      "--------------\n",
      "country\n",
      "Singapore    0.007756\n",
      "France       0.000121\n",
      "Germany      0.000232\n",
      "Name: density, dtype: float64\n",
      "--------------\n"
     ]
    }
   ],
   "source": [
    "# Columns:\n",
    "print(countries.iloc[:,0]) # first column of data frame \n",
    "print('--------------')\n",
    "print(countries.iloc[:,1]) # second column of data frame \n",
    "print('--------------')\n",
    "print(countries.iloc[:,-1]) # last column of data frame \n",
    "print('--------------')"
   ]
  },
  {
   "cell_type": "code",
   "execution_count": 26,
   "metadata": {},
   "outputs": [
    {
     "data": {
      "text/html": [
       "<div>\n",
       "<style scoped>\n",
       "    .dataframe tbody tr th:only-of-type {\n",
       "        vertical-align: middle;\n",
       "    }\n",
       "\n",
       "    .dataframe tbody tr th {\n",
       "        vertical-align: top;\n",
       "    }\n",
       "\n",
       "    .dataframe thead th {\n",
       "        text-align: right;\n",
       "    }\n",
       "</style>\n",
       "<table border=\"1\" class=\"dataframe\">\n",
       "  <thead>\n",
       "    <tr style=\"text-align: right;\">\n",
       "      <th></th>\n",
       "      <th>population</th>\n",
       "      <th>area</th>\n",
       "      <th>capital</th>\n",
       "      <th>pop_density</th>\n",
       "      <th>density</th>\n",
       "    </tr>\n",
       "    <tr>\n",
       "      <th>country</th>\n",
       "      <th></th>\n",
       "      <th></th>\n",
       "      <th></th>\n",
       "      <th></th>\n",
       "      <th></th>\n",
       "    </tr>\n",
       "  </thead>\n",
       "  <tbody>\n",
       "    <tr>\n",
       "      <th>Singapore</th>\n",
       "      <td>5.6</td>\n",
       "      <td>722</td>\n",
       "      <td>Singapore</td>\n",
       "      <td>0.007756</td>\n",
       "      <td>0.007756</td>\n",
       "    </tr>\n",
       "    <tr>\n",
       "      <th>France</th>\n",
       "      <td>67.0</td>\n",
       "      <td>551695</td>\n",
       "      <td>Paris</td>\n",
       "      <td>0.000121</td>\n",
       "      <td>0.000121</td>\n",
       "    </tr>\n",
       "    <tr>\n",
       "      <th>Germany</th>\n",
       "      <td>83.0</td>\n",
       "      <td>357022</td>\n",
       "      <td>Berlin</td>\n",
       "      <td>0.000232</td>\n",
       "      <td>0.000232</td>\n",
       "    </tr>\n",
       "  </tbody>\n",
       "</table>\n",
       "</div>"
      ],
      "text/plain": [
       "           population    area    capital  pop_density   density\n",
       "country                                                        \n",
       "Singapore         5.6     722  Singapore     0.007756  0.007756\n",
       "France           67.0  551695      Paris     0.000121  0.000121\n",
       "Germany          83.0  357022     Berlin     0.000232  0.000232"
      ]
     },
     "execution_count": 26,
     "metadata": {},
     "output_type": "execute_result"
    }
   ],
   "source": [
    "countries"
   ]
  },
  {
   "cell_type": "code",
   "execution_count": 31,
   "metadata": {},
   "outputs": [
    {
     "data": {
      "text/html": [
       "<div>\n",
       "<style scoped>\n",
       "    .dataframe tbody tr th:only-of-type {\n",
       "        vertical-align: middle;\n",
       "    }\n",
       "\n",
       "    .dataframe tbody tr th {\n",
       "        vertical-align: top;\n",
       "    }\n",
       "\n",
       "    .dataframe thead th {\n",
       "        text-align: right;\n",
       "    }\n",
       "</style>\n",
       "<table border=\"1\" class=\"dataframe\">\n",
       "  <thead>\n",
       "    <tr style=\"text-align: right;\">\n",
       "      <th></th>\n",
       "      <th>capital</th>\n",
       "    </tr>\n",
       "    <tr>\n",
       "      <th>country</th>\n",
       "      <th></th>\n",
       "    </tr>\n",
       "  </thead>\n",
       "  <tbody>\n",
       "    <tr>\n",
       "      <th>Singapore</th>\n",
       "      <td>Singapore</td>\n",
       "    </tr>\n",
       "    <tr>\n",
       "      <th>France</th>\n",
       "      <td>Paris</td>\n",
       "    </tr>\n",
       "  </tbody>\n",
       "</table>\n",
       "</div>"
      ],
      "text/plain": [
       "             capital\n",
       "country             \n",
       "Singapore  Singapore\n",
       "France         Paris"
      ]
     },
     "execution_count": 31,
     "metadata": {},
     "output_type": "execute_result"
    }
   ],
   "source": [
    "# accessing elements of single column\n",
    "countries.loc['Singapore':'France',['capital']]"
   ]
  },
  {
   "cell_type": "code",
   "execution_count": 30,
   "metadata": {},
   "outputs": [
    {
     "data": {
      "text/html": [
       "<div>\n",
       "<style scoped>\n",
       "    .dataframe tbody tr th:only-of-type {\n",
       "        vertical-align: middle;\n",
       "    }\n",
       "\n",
       "    .dataframe tbody tr th {\n",
       "        vertical-align: top;\n",
       "    }\n",
       "\n",
       "    .dataframe thead th {\n",
       "        text-align: right;\n",
       "    }\n",
       "</style>\n",
       "<table border=\"1\" class=\"dataframe\">\n",
       "  <thead>\n",
       "    <tr style=\"text-align: right;\">\n",
       "      <th></th>\n",
       "      <th>population</th>\n",
       "      <th>capital</th>\n",
       "    </tr>\n",
       "    <tr>\n",
       "      <th>country</th>\n",
       "      <th></th>\n",
       "      <th></th>\n",
       "    </tr>\n",
       "  </thead>\n",
       "  <tbody>\n",
       "    <tr>\n",
       "      <th>Singapore</th>\n",
       "      <td>5.6</td>\n",
       "      <td>Singapore</td>\n",
       "    </tr>\n",
       "    <tr>\n",
       "      <th>France</th>\n",
       "      <td>67.0</td>\n",
       "      <td>Paris</td>\n",
       "    </tr>\n",
       "  </tbody>\n",
       "</table>\n",
       "</div>"
      ],
      "text/plain": [
       "           population    capital\n",
       "country                         \n",
       "Singapore         5.6  Singapore\n",
       "France           67.0      Paris"
      ]
     },
     "execution_count": 30,
     "metadata": {},
     "output_type": "execute_result"
    }
   ],
   "source": [
    "# accessing elements from multiple columns\n",
    "countries.loc['Singapore':'France', ['population', 'capital']]"
   ]
  },
  {
   "cell_type": "code",
   "execution_count": 32,
   "metadata": {},
   "outputs": [
    {
     "data": {
      "text/html": [
       "<div>\n",
       "<style scoped>\n",
       "    .dataframe tbody tr th:only-of-type {\n",
       "        vertical-align: middle;\n",
       "    }\n",
       "\n",
       "    .dataframe tbody tr th {\n",
       "        vertical-align: top;\n",
       "    }\n",
       "\n",
       "    .dataframe thead th {\n",
       "        text-align: right;\n",
       "    }\n",
       "</style>\n",
       "<table border=\"1\" class=\"dataframe\">\n",
       "  <thead>\n",
       "    <tr style=\"text-align: right;\">\n",
       "      <th></th>\n",
       "      <th>population</th>\n",
       "      <th>capital</th>\n",
       "    </tr>\n",
       "    <tr>\n",
       "      <th>country</th>\n",
       "      <th></th>\n",
       "      <th></th>\n",
       "    </tr>\n",
       "  </thead>\n",
       "  <tbody>\n",
       "    <tr>\n",
       "      <th>Singapore</th>\n",
       "      <td>5.6</td>\n",
       "      <td>Singapore</td>\n",
       "    </tr>\n",
       "    <tr>\n",
       "      <th>France</th>\n",
       "      <td>67.0</td>\n",
       "      <td>Paris</td>\n",
       "    </tr>\n",
       "  </tbody>\n",
       "</table>\n",
       "</div>"
      ],
      "text/plain": [
       "           population    capital\n",
       "country                         \n",
       "Singapore         5.6  Singapore\n",
       "France           67.0      Paris"
      ]
     },
     "execution_count": 32,
     "metadata": {},
     "output_type": "execute_result"
    }
   ],
   "source": [
    "# you can access the same using iloc too\n",
    "\n",
    "countries.iloc[0:2, [0,2]]"
   ]
  },
  {
   "cell_type": "markdown",
   "metadata": {},
   "source": [
    "Another type of slicing is to access a subset of the data based on a condition: `Boolean Indexing`\n",
    "\n",
    "We want to select a subset of the data where area of the country is more than 100000."
   ]
  },
  {
   "cell_type": "code",
   "execution_count": 33,
   "metadata": {},
   "outputs": [
    {
     "data": {
      "text/html": [
       "<div>\n",
       "<style scoped>\n",
       "    .dataframe tbody tr th:only-of-type {\n",
       "        vertical-align: middle;\n",
       "    }\n",
       "\n",
       "    .dataframe tbody tr th {\n",
       "        vertical-align: top;\n",
       "    }\n",
       "\n",
       "    .dataframe thead th {\n",
       "        text-align: right;\n",
       "    }\n",
       "</style>\n",
       "<table border=\"1\" class=\"dataframe\">\n",
       "  <thead>\n",
       "    <tr style=\"text-align: right;\">\n",
       "      <th></th>\n",
       "      <th>population</th>\n",
       "      <th>area</th>\n",
       "      <th>capital</th>\n",
       "      <th>pop_density</th>\n",
       "      <th>density</th>\n",
       "    </tr>\n",
       "    <tr>\n",
       "      <th>country</th>\n",
       "      <th></th>\n",
       "      <th></th>\n",
       "      <th></th>\n",
       "      <th></th>\n",
       "      <th></th>\n",
       "    </tr>\n",
       "  </thead>\n",
       "  <tbody>\n",
       "    <tr>\n",
       "      <th>France</th>\n",
       "      <td>67.0</td>\n",
       "      <td>551695</td>\n",
       "      <td>Paris</td>\n",
       "      <td>0.000121</td>\n",
       "      <td>0.000121</td>\n",
       "    </tr>\n",
       "    <tr>\n",
       "      <th>Germany</th>\n",
       "      <td>83.0</td>\n",
       "      <td>357022</td>\n",
       "      <td>Berlin</td>\n",
       "      <td>0.000232</td>\n",
       "      <td>0.000232</td>\n",
       "    </tr>\n",
       "  </tbody>\n",
       "</table>\n",
       "</div>"
      ],
      "text/plain": [
       "         population    area capital  pop_density   density\n",
       "country                                                   \n",
       "France         67.0  551695   Paris     0.000121  0.000121\n",
       "Germany        83.0  357022  Berlin     0.000232  0.000232"
      ]
     },
     "execution_count": 33,
     "metadata": {},
     "output_type": "execute_result"
    }
   ],
   "source": [
    "countries[countries['area'] > 100000]"
   ]
  },
  {
   "cell_type": "markdown",
   "metadata": {},
   "source": [
    "This time, we want to update the value of Singapore's population from `5.6` to `5.7`."
   ]
  },
  {
   "cell_type": "code",
   "execution_count": 34,
   "metadata": {},
   "outputs": [
    {
     "data": {
      "text/html": [
       "<div>\n",
       "<style scoped>\n",
       "    .dataframe tbody tr th:only-of-type {\n",
       "        vertical-align: middle;\n",
       "    }\n",
       "\n",
       "    .dataframe tbody tr th {\n",
       "        vertical-align: top;\n",
       "    }\n",
       "\n",
       "    .dataframe thead th {\n",
       "        text-align: right;\n",
       "    }\n",
       "</style>\n",
       "<table border=\"1\" class=\"dataframe\">\n",
       "  <thead>\n",
       "    <tr style=\"text-align: right;\">\n",
       "      <th></th>\n",
       "      <th>population</th>\n",
       "      <th>area</th>\n",
       "      <th>capital</th>\n",
       "      <th>pop_density</th>\n",
       "      <th>density</th>\n",
       "    </tr>\n",
       "    <tr>\n",
       "      <th>country</th>\n",
       "      <th></th>\n",
       "      <th></th>\n",
       "      <th></th>\n",
       "      <th></th>\n",
       "      <th></th>\n",
       "    </tr>\n",
       "  </thead>\n",
       "  <tbody>\n",
       "    <tr>\n",
       "      <th>Singapore</th>\n",
       "      <td>5.7</td>\n",
       "      <td>722</td>\n",
       "      <td>Singapore</td>\n",
       "      <td>0.007756</td>\n",
       "      <td>0.007756</td>\n",
       "    </tr>\n",
       "    <tr>\n",
       "      <th>France</th>\n",
       "      <td>67.0</td>\n",
       "      <td>551695</td>\n",
       "      <td>Paris</td>\n",
       "      <td>0.000121</td>\n",
       "      <td>0.000121</td>\n",
       "    </tr>\n",
       "    <tr>\n",
       "      <th>Germany</th>\n",
       "      <td>83.0</td>\n",
       "      <td>357022</td>\n",
       "      <td>Berlin</td>\n",
       "      <td>0.000232</td>\n",
       "      <td>0.000232</td>\n",
       "    </tr>\n",
       "  </tbody>\n",
       "</table>\n",
       "</div>"
      ],
      "text/plain": [
       "           population    area    capital  pop_density   density\n",
       "country                                                        \n",
       "Singapore         5.7     722  Singapore     0.007756  0.007756\n",
       "France           67.0  551695      Paris     0.000121  0.000121\n",
       "Germany          83.0  357022     Berlin     0.000232  0.000232"
      ]
     },
     "execution_count": 34,
     "metadata": {},
     "output_type": "execute_result"
    }
   ],
   "source": [
    "countries.loc['Singapore', 'population'] = 5.7\n",
    "countries"
   ]
  },
  {
   "cell_type": "markdown",
   "metadata": {},
   "source": [
    "##### You can also rename columns in a dataframe.\n",
    "\n"
   ]
  },
  {
   "cell_type": "code",
   "execution_count": 35,
   "metadata": {},
   "outputs": [
    {
     "data": {
      "text/html": [
       "<div>\n",
       "<style scoped>\n",
       "    .dataframe tbody tr th:only-of-type {\n",
       "        vertical-align: middle;\n",
       "    }\n",
       "\n",
       "    .dataframe tbody tr th {\n",
       "        vertical-align: top;\n",
       "    }\n",
       "\n",
       "    .dataframe thead th {\n",
       "        text-align: right;\n",
       "    }\n",
       "</style>\n",
       "<table border=\"1\" class=\"dataframe\">\n",
       "  <thead>\n",
       "    <tr style=\"text-align: right;\">\n",
       "      <th></th>\n",
       "      <th>pop</th>\n",
       "      <th>area</th>\n",
       "      <th>capital</th>\n",
       "      <th>pop_density</th>\n",
       "      <th>density</th>\n",
       "    </tr>\n",
       "    <tr>\n",
       "      <th>country</th>\n",
       "      <th></th>\n",
       "      <th></th>\n",
       "      <th></th>\n",
       "      <th></th>\n",
       "      <th></th>\n",
       "    </tr>\n",
       "  </thead>\n",
       "  <tbody>\n",
       "    <tr>\n",
       "      <th>Singapore</th>\n",
       "      <td>5.7</td>\n",
       "      <td>722</td>\n",
       "      <td>Singapore</td>\n",
       "      <td>0.007756</td>\n",
       "      <td>0.007756</td>\n",
       "    </tr>\n",
       "    <tr>\n",
       "      <th>France</th>\n",
       "      <td>67.0</td>\n",
       "      <td>551695</td>\n",
       "      <td>Paris</td>\n",
       "      <td>0.000121</td>\n",
       "      <td>0.000121</td>\n",
       "    </tr>\n",
       "    <tr>\n",
       "      <th>Germany</th>\n",
       "      <td>83.0</td>\n",
       "      <td>357022</td>\n",
       "      <td>Berlin</td>\n",
       "      <td>0.000232</td>\n",
       "      <td>0.000232</td>\n",
       "    </tr>\n",
       "  </tbody>\n",
       "</table>\n",
       "</div>"
      ],
      "text/plain": [
       "            pop    area    capital  pop_density   density\n",
       "country                                                  \n",
       "Singapore   5.7     722  Singapore     0.007756  0.007756\n",
       "France     67.0  551695      Paris     0.000121  0.000121\n",
       "Germany    83.0  357022     Berlin     0.000232  0.000232"
      ]
     },
     "execution_count": 35,
     "metadata": {},
     "output_type": "execute_result"
    }
   ],
   "source": [
    "countries = countries.rename(columns= {'population': 'pop'})\n",
    "countries"
   ]
  },
  {
   "cell_type": "markdown",
   "metadata": {},
   "source": [
    "##### You can also reset the index back to original."
   ]
  },
  {
   "cell_type": "code",
   "execution_count": 36,
   "metadata": {},
   "outputs": [
    {
     "data": {
      "text/html": [
       "<div>\n",
       "<style scoped>\n",
       "    .dataframe tbody tr th:only-of-type {\n",
       "        vertical-align: middle;\n",
       "    }\n",
       "\n",
       "    .dataframe tbody tr th {\n",
       "        vertical-align: top;\n",
       "    }\n",
       "\n",
       "    .dataframe thead th {\n",
       "        text-align: right;\n",
       "    }\n",
       "</style>\n",
       "<table border=\"1\" class=\"dataframe\">\n",
       "  <thead>\n",
       "    <tr style=\"text-align: right;\">\n",
       "      <th></th>\n",
       "      <th>country</th>\n",
       "      <th>pop</th>\n",
       "      <th>area</th>\n",
       "      <th>capital</th>\n",
       "      <th>pop_density</th>\n",
       "      <th>density</th>\n",
       "    </tr>\n",
       "  </thead>\n",
       "  <tbody>\n",
       "    <tr>\n",
       "      <th>0</th>\n",
       "      <td>Singapore</td>\n",
       "      <td>5.7</td>\n",
       "      <td>722</td>\n",
       "      <td>Singapore</td>\n",
       "      <td>0.007756</td>\n",
       "      <td>0.007756</td>\n",
       "    </tr>\n",
       "    <tr>\n",
       "      <th>1</th>\n",
       "      <td>France</td>\n",
       "      <td>67.0</td>\n",
       "      <td>551695</td>\n",
       "      <td>Paris</td>\n",
       "      <td>0.000121</td>\n",
       "      <td>0.000121</td>\n",
       "    </tr>\n",
       "    <tr>\n",
       "      <th>2</th>\n",
       "      <td>Germany</td>\n",
       "      <td>83.0</td>\n",
       "      <td>357022</td>\n",
       "      <td>Berlin</td>\n",
       "      <td>0.000232</td>\n",
       "      <td>0.000232</td>\n",
       "    </tr>\n",
       "  </tbody>\n",
       "</table>\n",
       "</div>"
      ],
      "text/plain": [
       "     country   pop    area    capital  pop_density   density\n",
       "0  Singapore   5.7     722  Singapore     0.007756  0.007756\n",
       "1     France  67.0  551695      Paris     0.000121  0.000121\n",
       "2    Germany  83.0  357022     Berlin     0.000232  0.000232"
      ]
     },
     "execution_count": 36,
     "metadata": {},
     "output_type": "execute_result"
    }
   ],
   "source": [
    "countries.reset_index(inplace = True)\n",
    "countries"
   ]
  },
  {
   "cell_type": "markdown",
   "metadata": {},
   "source": [
    "By default, reset_index() does not modify the original DataFrame; instead, it returns a new DataFrame with the reset index. If you want to modify the original DataFrame in place, you can set the inplace=True parameter."
   ]
  },
  {
   "cell_type": "markdown",
   "metadata": {},
   "source": [
    "# 3. Pandas Functions <a id='p3' />\n",
    "\n",
    "## 3.1 Reading Data : CSV\n",
    "\n",
    "\n",
    "We can use the Pandas library to read data from various datasources. First, we will see how to read data from flat files (csv) in various ways.\n"
   ]
  },
  {
   "attachments": {
    "image-2.png": {
     "image/png": "[encoded data removed]"
    }
   },
   "cell_type": "markdown",
   "metadata": {},
   "source": [
    "In this example, you can see that the first row is an additional information saying \"Below is the stockdata\". This is not the column header.\n",
    "\n",
    "![image-2.png](attachment:image-2.png)\n",
    "\n",
    "In order to let Pandas know, where the column header is, we need to specify this."
   ]
  },
  {
   "cell_type": "code",
   "execution_count": 67,
   "metadata": {},
   "outputs": [
    {
     "data": {
      "text/html": [
       "<div>\n",
       "<style scoped>\n",
       "    .dataframe tbody tr th:only-of-type {\n",
       "        vertical-align: middle;\n",
       "    }\n",
       "\n",
       "    .dataframe tbody tr th {\n",
       "        vertical-align: top;\n",
       "    }\n",
       "\n",
       "    .dataframe thead th {\n",
       "        text-align: right;\n",
       "    }\n",
       "</style>\n",
       "<table border=\"1\" class=\"dataframe\">\n",
       "  <thead>\n",
       "    <tr style=\"text-align: right;\">\n",
       "      <th></th>\n",
       "      <th>tickers</th>\n",
       "      <th>eps</th>\n",
       "      <th>revenue</th>\n",
       "      <th>price</th>\n",
       "      <th>people</th>\n",
       "    </tr>\n",
       "  </thead>\n",
       "  <tbody>\n",
       "    <tr>\n",
       "      <th>0</th>\n",
       "      <td>GOOGLE</td>\n",
       "      <td>27.82</td>\n",
       "      <td>87</td>\n",
       "      <td>845</td>\n",
       "      <td>larry page</td>\n",
       "    </tr>\n",
       "    <tr>\n",
       "      <th>1</th>\n",
       "      <td>WMT</td>\n",
       "      <td>4.61</td>\n",
       "      <td>484</td>\n",
       "      <td>65</td>\n",
       "      <td>n.a.</td>\n",
       "    </tr>\n",
       "    <tr>\n",
       "      <th>2</th>\n",
       "      <td>MSFT</td>\n",
       "      <td>-1</td>\n",
       "      <td>85</td>\n",
       "      <td>64</td>\n",
       "      <td>bill gates</td>\n",
       "    </tr>\n",
       "    <tr>\n",
       "      <th>3</th>\n",
       "      <td>RIL</td>\n",
       "      <td>not available</td>\n",
       "      <td>50</td>\n",
       "      <td>1023</td>\n",
       "      <td>mukesh ambani</td>\n",
       "    </tr>\n",
       "    <tr>\n",
       "      <th>4</th>\n",
       "      <td>TATA</td>\n",
       "      <td>5.6</td>\n",
       "      <td>-1</td>\n",
       "      <td>n.a.</td>\n",
       "      <td>ratan tata</td>\n",
       "    </tr>\n",
       "  </tbody>\n",
       "</table>\n",
       "</div>"
      ],
      "text/plain": [
       "  tickers            eps  revenue price         people\n",
       "0  GOOGLE          27.82       87   845     larry page\n",
       "1     WMT           4.61      484    65           n.a.\n",
       "2    MSFT             -1       85    64     bill gates\n",
       "3     RIL  not available       50  1023  mukesh ambani\n",
       "4    TATA            5.6       -1  n.a.     ratan tata"
      ]
     },
     "execution_count": 67,
     "metadata": {},
     "output_type": "execute_result"
    }
   ],
   "source": [
    "import pandas as pd\n",
    "df = pd.read_csv('C:/Users/User/Documents/TFIP - BCG RISE/Datasets/stock_data.csv',\n",
    "                 header=1) #this will say my header is located at row1\n",
    "df"
   ]
  },
  {
   "attachments": {
    "image.png": {
     "image/png": "[encoded data removed]"
    }
   },
   "cell_type": "markdown",
   "metadata": {},
   "source": [
    "In this dataset, there is no column header at all.\n",
    "\n",
    "![image.png](attachment:image.png)"
   ]
  },
  {
   "cell_type": "code",
   "execution_count": null,
   "metadata": {},
   "outputs": [],
   "source": [
    "df1 = pd.read_csv('./data/stock_data_without_header.csv',header=None) #Will generate default number headers\n",
    "df1"
   ]
  },
  {
   "cell_type": "code",
   "execution_count": null,
   "metadata": {},
   "outputs": [],
   "source": [
    "# But, you can specify own column headers too.\n",
    "df2 = pd.read_csv('./data/stock_data_without_header.csv',header=None, names = [\"ticker\",\"eps\",\"revenue\",\"price\",\"people\"])\n",
    "df2"
   ]
  },
  {
   "cell_type": "code",
   "execution_count": null,
   "metadata": {},
   "outputs": [],
   "source": [
    "# to load only a few rows of the data. We are loading the data from stock_data\n",
    "df3 = pd.read_csv('./data/stock_data.csv',nrows=4,header=1)\n",
    "df3"
   ]
  },
  {
   "cell_type": "markdown",
   "metadata": {},
   "source": [
    "We can see that in some places where data is not available, it is specified by \"not available\" and some places its \"n.a.\"\n",
    "We want to stanadardise this and replace all \"not available\" and \"n.a.\" values to NaN.\n",
    "\n",
    "\n",
    "\n"
   ]
  },
  {
   "cell_type": "code",
   "execution_count": null,
   "metadata": {},
   "outputs": [],
   "source": [
    "df = pd.read_csv('./data/stock_data.csv',header=1,na_values=[\"not available\",\"n.a.\"]) #na_values will replace the specified values with NaN\n",
    "df\n"
   ]
  },
  {
   "cell_type": "markdown",
   "metadata": {},
   "source": [
    "Sometimes there are irrelevant data in the dataset as well. Like for example, in this dataset, there is a revenue with a value of -1. Such irrelevant values can be considered to be missings as well."
   ]
  },
  {
   "cell_type": "code",
   "execution_count": null,
   "metadata": {},
   "outputs": [],
   "source": [
    "# Replace not available & n.a. to NaN (Data munging/cleaning)\n",
    "df = pd.read_csv('./data/stock_data.csv',header=1,na_values=[\"not available\",\"n.a.\",-1])\n",
    "df"
   ]
  },
  {
   "cell_type": "markdown",
   "metadata": {},
   "source": [
    "But the problem here is, this will convert eps value with -1 also to NaN. So, we need to specify, what are the null values for every column.\n",
    "\n"
   ]
  },
  {
   "cell_type": "code",
   "execution_count": null,
   "metadata": {},
   "outputs": [],
   "source": [
    "# Convert revenue -1 to NaN\n",
    "df = pd.read_csv('./data/stock_data.csv',header=1,na_values={\n",
    "        'eps':[\"not available\",\"n.a.\"],\n",
    "        'revenue':[\"not available\",\"n.a.\",-1],\n",
    "        'people':[\"not available\",\"n.a.\"],\n",
    "        'price':[\"not available\",\"n.a.\"]\n",
    "    }) \n",
    "df"
   ]
  },
  {
   "cell_type": "markdown",
   "metadata": {},
   "source": [
    "## 3.2 Reading Data : Excel\n",
    "\n",
    "Here, we will see how you can read data from excel. Remember excel files have multiple sheets in it that can contain data. So, we need to specify the sheet name when reading the data.\n",
    "\n"
   ]
  },
  {
   "cell_type": "code",
   "execution_count": null,
   "metadata": {},
   "outputs": [],
   "source": [
    "df = pd.read_excel('./data/stock_data.xlsx',\"Sheet1\")\n",
    "df"
   ]
  },
  {
   "cell_type": "markdown",
   "metadata": {},
   "source": [
    "##### You can use function while reading the dataset too.\n",
    "\n",
    "Below function changes \"people\" column while reading the dataset and replaces the n.a. values to something that you specify."
   ]
  },
  {
   "cell_type": "code",
   "execution_count": null,
   "metadata": {},
   "outputs": [],
   "source": [
    "def convert_people_cell(cell):\n",
    "    if cell==\"n.a.\":\n",
    "        return 'sam walton'\n",
    "    return cell\n",
    "\n",
    "def convert_eps_cell(cell):\n",
    "    if cell==\"not available\":\n",
    "        return None\n",
    "    return cell"
   ]
  },
  {
   "cell_type": "code",
   "execution_count": null,
   "metadata": {},
   "outputs": [],
   "source": [
    "df = pd.read_excel('./data/stock_data.xlsx',\"Sheet1\",converters = {\n",
    "        'people': convert_people_cell,\n",
    "        'eps': convert_eps_cell\n",
    "    })\n",
    "df"
   ]
  },
  {
   "cell_type": "markdown",
   "metadata": {},
   "source": [
    "## 3.3 Basic EDA\n",
    "\n",
    "* __head()__ function: lists the first 5 rows as default. If we want to display first n rows. Use . \n",
    "```python\n",
    "data.head(2) \n",
    "```\n",
    "\n",
    "* __head()__ function can be applied on columns too. \n",
    "```python\n",
    "data.ID.head(2)\n",
    "```\n",
    "\n",
    "*To view a small sample of a Series or DataFrame object, use the head() and tail() methods. The default number of elements to display is five, but you may pass a custom number*\n",
    "\n",
    "* We can use other methods like tail(), max(), min(), std(), mean() etc. \n",
    "\n"
   ]
  },
  {
   "cell_type": "markdown",
   "metadata": {},
   "source": [
    "### 3.3.1 Gathering basic information about data"
   ]
  },
  {
   "cell_type": "code",
   "execution_count": null,
   "metadata": {},
   "outputs": [],
   "source": [
    "data = pd.read_csv('./data/sample-supplier.csv')\n",
    "\n",
    "# to preview the first 10 rows of the data\n",
    "data.head(10) #by default it shows 5 rows"
   ]
  },
  {
   "cell_type": "code",
   "execution_count": null,
   "metadata": {},
   "outputs": [],
   "source": [
    "# to preview the last 10 rows of the data\n",
    "data.tail(10) #by default it shows 5 rows"
   ]
  },
  {
   "cell_type": "code",
   "execution_count": null,
   "metadata": {},
   "outputs": [],
   "source": [
    "# to know the shape of the data (number of rows and columns)\n",
    "\n",
    "data.shape"
   ]
  },
  {
   "cell_type": "code",
   "execution_count": null,
   "metadata": {},
   "outputs": [],
   "source": [
    "# the columns in the dataset \n",
    "\n",
    "data.columns"
   ]
  },
  {
   "cell_type": "code",
   "execution_count": null,
   "metadata": {},
   "outputs": [],
   "source": [
    "# the index in the dataset\n",
    "\n",
    "data.index"
   ]
  },
  {
   "cell_type": "code",
   "execution_count": null,
   "metadata": {},
   "outputs": [],
   "source": [
    "# count of non null data. This gives the total non null counts of every column in the dataset.\n",
    "\n",
    "data.count()"
   ]
  },
  {
   "cell_type": "markdown",
   "metadata": {},
   "source": [
    "### 3.3.2  Describe \n",
    "\n",
    "`describe()` will give descriptive summary statistics of all numeric columns of dataframe.\n",
    "\n"
   ]
  },
  {
   "cell_type": "code",
   "execution_count": null,
   "metadata": {},
   "outputs": [],
   "source": [
    "data.describe()"
   ]
  },
  {
   "cell_type": "markdown",
   "metadata": {},
   "source": [
    "We can use `.describe(include = ['O'])` for summary of all categorical columns."
   ]
  },
  {
   "cell_type": "code",
   "execution_count": null,
   "metadata": {},
   "outputs": [],
   "source": [
    "data.describe(include = ['O'])"
   ]
  },
  {
   "cell_type": "markdown",
   "metadata": {},
   "source": [
    "### 3.3.3 Transposing the data\n",
    "\n",
    "If for easier operational purposes, you need to transpose the data, we can do that as well.\n",
    "\n"
   ]
  },
  {
   "cell_type": "code",
   "execution_count": null,
   "metadata": {},
   "outputs": [],
   "source": [
    "\n",
    "import pandas as pd\n",
    "\n",
    "# Let's create a dataframe\n",
    "data = {\n",
    "    'Date': ['2023-07-01', '2023-07-02', '2023-07-03'],\n",
    "    'Product_A': [100, 150, 200],\n",
    "    'Product_B': [120, 180, 250],\n",
    "    'Product_C': [80, 100, 120]\n",
    "}\n",
    "\n",
    "df = pd.DataFrame(data)\n",
    "df"
   ]
  },
  {
   "cell_type": "markdown",
   "metadata": {},
   "source": [
    "We want this data to be transposed."
   ]
  },
  {
   "cell_type": "code",
   "execution_count": null,
   "metadata": {},
   "outputs": [],
   "source": [
    "df.T"
   ]
  },
  {
   "cell_type": "code",
   "execution_count": null,
   "metadata": {},
   "outputs": [],
   "source": [
    "# you can also set date as the index \n",
    "\n",
    "df = df.set_index('Date').T.reset_index()\n",
    "df"
   ]
  },
  {
   "cell_type": "code",
   "execution_count": null,
   "metadata": {},
   "outputs": [],
   "source": [
    "# you can also rename the column index to Product\n",
    "\n",
    "df = df.rename(columns={'index': 'Product'})\n",
    "df"
   ]
  },
  {
   "cell_type": "markdown",
   "metadata": {},
   "source": [
    "In the example above, we first created a DataFrame with sales data for three products (Product_A, Product_B, and Product_C) on three different dates. Then, we used the set_index() method to set the \"Date\" column as the index, effectively switching it to the rows. Next, we used the T attribute to transpose the DataFrame, changing the rows to columns and columns to rows. Finally, we used the reset_index() method to reset the index and rename the new index column as \"Product\" to match the new data orientation.\n",
    "\n",
    "As a result, the transposed DataFrame shows products as rows and dates as columns, providing an alternative view of the sales data that may be more suitable for certain types of analysis or visualization."
   ]
  },
  {
   "cell_type": "markdown",
   "metadata": {},
   "source": [
    "### 3.3.4 SUM\n",
    "\n",
    "The sum function will sum all numeric columns of dataframe giving sum of each columns and aggregate string for string columns."
   ]
  },
  {
   "cell_type": "code",
   "execution_count": null,
   "metadata": {},
   "outputs": [],
   "source": [
    "\n",
    "\n",
    "# Create a sample DataFrame with relevant column names\n",
    "data = {\n",
    "    'Product': ['Product A', 'Product B', 'Product C', 'Product D'],\n",
    "    'Sales': [1000, 1500, 800, 1200],\n",
    "    'Expenses': [400, 300, 200, 500],\n",
    "    'Profit': [600, 1200, 600, 700]\n",
    "}\n",
    "\n",
    "df = pd.DataFrame(data)\n",
    "print(\"Original DataFrame:\")\n",
    "df\n"
   ]
  },
  {
   "cell_type": "code",
   "execution_count": null,
   "metadata": {},
   "outputs": [],
   "source": [
    "# Calculate the sum along rows (axis=1) and add a new column \"Total\"\n",
    "df['Total'] = df.sum(axis=1)\n",
    "df"
   ]
  },
  {
   "cell_type": "code",
   "execution_count": null,
   "metadata": {},
   "outputs": [],
   "source": [
    "# Calculate the sum along columns (axis=0). \n",
    "column_sum = df.sum(axis=0)\n",
    "column_sum"
   ]
  },
  {
   "cell_type": "markdown",
   "metadata": {},
   "source": [
    "Using the sum can be used for data validation too. You can validate the sum of Sales, Profit, Expenses etc. if you know a rough ballpark of these numbers. You can inspect the data further if the numbers you get after summing looks suspicious."
   ]
  },
  {
   "cell_type": "markdown",
   "metadata": {},
   "source": [
    "### 3.3.5  Mean \n",
    "The mean() function will average all numeric columns of dataframe giving mean of each columns."
   ]
  },
  {
   "cell_type": "code",
   "execution_count": null,
   "metadata": {},
   "outputs": [],
   "source": [
    "# Calculate the mean of the dataframe\n",
    "df.mean()\n"
   ]
  },
  {
   "cell_type": "markdown",
   "metadata": {},
   "source": [
    "### 3.3.6  Median \n",
    "The median() function will give median value of all numeric columns of dataframe."
   ]
  },
  {
   "cell_type": "code",
   "execution_count": null,
   "metadata": {},
   "outputs": [],
   "source": [
    "df.median()"
   ]
  },
  {
   "cell_type": "markdown",
   "metadata": {},
   "source": [
    "### 3.3.7  Sorting Data\n"
   ]
  },
  {
   "cell_type": "code",
   "execution_count": null,
   "metadata": {},
   "outputs": [],
   "source": [
    "df"
   ]
  },
  {
   "cell_type": "code",
   "execution_count": null,
   "metadata": {},
   "outputs": [],
   "source": [
    "df.sort_values(by='Sales', ascending = False, inplace = True) #inplace = True updates the original dataframe\n",
    "df"
   ]
  },
  {
   "cell_type": "markdown",
   "metadata": {},
   "source": [
    "This sorts the data in descending order of Sales."
   ]
  },
  {
   "cell_type": "markdown",
   "metadata": {},
   "source": [
    "You can sort the data according to index as well."
   ]
  },
  {
   "cell_type": "code",
   "execution_count": null,
   "metadata": {},
   "outputs": [],
   "source": [
    "df.sort_index(ascending = False, inplace = True)\n",
    "df"
   ]
  },
  {
   "cell_type": "markdown",
   "metadata": {},
   "source": [
    "Here, if you wish to reset the index back to 0,1,2,3 with the data being intact in this order, you know the trick!\n",
    "\n",
    "You can use reset_index."
   ]
  },
  {
   "cell_type": "code",
   "execution_count": null,
   "metadata": {},
   "outputs": [],
   "source": [
    "df.reset_index(inplace=True)\n",
    "df"
   ]
  },
  {
   "cell_type": "markdown",
   "metadata": {},
   "source": [
    "### 3.3.8 Accessing Columns in a DataFrame\n",
    "\n",
    "Columns can be accessed in two ways in a DataFrame.\n",
    "\n",
    "* The first is using the DataFrame like a dictionary with string keys. Multiple columns can be accessed by passing multiple column names. \n",
    "\n",
    "`data[\"column\"]`\n",
    "\n",
    "* The second way to access columns is using the dot syntax. This only works if your column name could also be a Python variable name (i.e., no spaces), and if it doesn't collide with another DataFrame property or function name (e.g., count, sum)\n",
    "\n",
    "`data.column `"
   ]
  },
  {
   "cell_type": "code",
   "execution_count": null,
   "metadata": {},
   "outputs": [],
   "source": [
    "df['Sales'].head(2)"
   ]
  },
  {
   "cell_type": "code",
   "execution_count": null,
   "metadata": {},
   "outputs": [],
   "source": [
    "df.Profit.head(2)"
   ]
  },
  {
   "cell_type": "markdown",
   "metadata": {},
   "source": [
    "### 3.3.9 Pandas Profiling\n",
    "\n",
    "\n",
    "__*Directly creates EDA reports using Pandas Profiling*__ : https://github.com/pandas-profiling/pandas-profiling\n",
    "- Install pandas_profiling if not already installed\n"
   ]
  },
  {
   "cell_type": "code",
   "execution_count": null,
   "metadata": {},
   "outputs": [],
   "source": [
    "data = pd.read_csv('./data/sample-supplier.csv')\n",
    "\n",
    "# to preview the first 10 rows of the data\n",
    "data.head(10) #by default it shows 5 rows"
   ]
  },
  {
   "cell_type": "code",
   "execution_count": null,
   "metadata": {},
   "outputs": [],
   "source": [
    "# !pip install pandas_profiling"
   ]
  },
  {
   "cell_type": "code",
   "execution_count": null,
   "metadata": {},
   "outputs": [],
   "source": [
    "import pandas_profiling\n",
    "pandas_profiling.ProfileReport(data)"
   ]
  },
  {
   "cell_type": "markdown",
   "metadata": {},
   "source": [
    "### 3.3.10 Converting datatypes of columns"
   ]
  },
  {
   "cell_type": "code",
   "execution_count": null,
   "metadata": {},
   "outputs": [],
   "source": [
    "# getting the datatypes of every column\n",
    "\n",
    "data.dtypes"
   ]
  },
  {
   "cell_type": "markdown",
   "metadata": {},
   "source": [
    "We can see that from the above data, Item Class Cd are codes and as they are numeric the datatype read by pandas is int64.\n",
    "We can convert these to object instead. "
   ]
  },
  {
   "cell_type": "code",
   "execution_count": null,
   "metadata": {},
   "outputs": [],
   "source": [
    "data['Item Class Cd'] = data['Item Class Cd'].astype(\"object\")\n",
    "data.dtypes"
   ]
  },
  {
   "cell_type": "markdown",
   "metadata": {},
   "source": [
    "### 3.3.11 Pandas Datatypes\n",
    "\n",
    "The different datatypes in Pandas are given in the below table:\n",
    "\n",
    "| Data Type        | Description                                     | Example        |\n",
    "|------------------|-------------------------------------------------|----------------|\n",
    "| int64            | 64-bit integer data type                       | 42             |\n",
    "| int32            | 32-bit integer data type                       | 42             |\n",
    "| float64          | 64-bit floating-point data type                | 3.14           |\n",
    "| float32          | 32-bit floating-point data type                | 3.14           |\n",
    "| bool             | Boolean data type (True or False)              | True           |\n",
    "| object           | Generic data type for strings and mixed types   | \"hello\", 42    |\n",
    "| datetime64[ns]   | Date and time data type with nanosecond precision | 2023-07-19    |\n",
    "| timedelta64[ns]  | Time differences or durations                    | 2 days        |\n",
    "| category         | Categorical data type with fixed unique values   | \"category_A\"  |\n",
    "| Sparse[int]      | Sparse data type for integers                     | 0, 1, 0, 2    |\n",
    "| Sparse[float]    | Sparse data type for floating-point numbers      | 0.0, 1.2, 0.0 |\n"
   ]
  },
  {
   "cell_type": "markdown",
   "metadata": {},
   "source": [
    "##### Categorical vs Object in Python: \n",
    "\n",
    "The categorical data type is useful in the following cases:\n",
    "\n",
    "A string variable consisting of only a few different values. Converting such a string variable to a categorical variable will save some memory, see here.\n",
    "The lexical order of a variable is not the same as the logical order (“one”, “two”, “three”). By converting to a categorical and specifying an order on the categories, sorting and min/max will use the logical order instead of the lexical order, see here.\n",
    "As a signal to other Python libraries that this column should be treated as a categorical variable (e.g. to use suitable statistical methods or plot types)."
   ]
  },
  {
   "cell_type": "markdown",
   "metadata": {},
   "source": [
    "# 4. Hands-On Practice Exercise <a id='p4' />\n",
    "\n"
   ]
  },
  {
   "cell_type": "code",
   "execution_count": null,
   "metadata": {},
   "outputs": [],
   "source": [
    "# Run the following code before attempting questions 1,2 and 3\n",
    "# Consider the following data representing sales data for different products and their corresponding quantities:\n",
    "data = {\n",
    "    'Product': ['Product A', 'Product B', 'Product C', 'Product A', 'Product B'],\n",
    "    'Quantity': [100, 150, 200, 120, 180],\n",
    "    'Price': [10, 15, 20, 12, 18]\n",
    "}\n",
    "\n",
    "df = pd.DataFrame(data)\n",
    "df"
   ]
  },
  {
   "cell_type": "markdown",
   "metadata": {},
   "source": [
    "From the above dataframe:\n",
    "\n",
    "1. Calculate the total revenue (Quantity * Price) for each product and add a new column \"Revenue\" to the DataFrame.\n"
   ]
  },
  {
   "cell_type": "code",
   "execution_count": null,
   "metadata": {},
   "outputs": [],
   "source": []
  },
  {
   "cell_type": "markdown",
   "metadata": {},
   "source": [
    "2. Filter the DataFrame to show only products with revenue greater than $2000.\n"
   ]
  },
  {
   "cell_type": "code",
   "execution_count": null,
   "metadata": {},
   "outputs": [],
   "source": []
  },
  {
   "cell_type": "markdown",
   "metadata": {},
   "source": [
    "\n",
    "3. Sort the DataFrame based on the \"Price\" column in descending order.\n",
    "\n"
   ]
  },
  {
   "cell_type": "code",
   "execution_count": null,
   "metadata": {},
   "outputs": [],
   "source": []
  },
  {
   "cell_type": "code",
   "execution_count": null,
   "metadata": {},
   "outputs": [],
   "source": [
    "# Run the following code before attempting questions 4 and 5\n",
    "# Consider the below dataframe\n",
    "temperatures = pd.Series([28, 30, 25, 32, 27, 26, 29])\n",
    "temperatures\n"
   ]
  },
  {
   "cell_type": "markdown",
   "metadata": {},
   "source": [
    "4. Convert the temperatures to Fahrenheit (F = (C * 9/5) + 32) and update the Series with the new values."
   ]
  },
  {
   "cell_type": "code",
   "execution_count": null,
   "metadata": {},
   "outputs": [],
   "source": []
  },
  {
   "cell_type": "markdown",
   "metadata": {},
   "source": [
    "5. Find the maximum and minimum temperatures in the Series."
   ]
  },
  {
   "cell_type": "code",
   "execution_count": null,
   "metadata": {},
   "outputs": [],
   "source": [
    "\n"
   ]
  },
  {
   "cell_type": "code",
   "execution_count": null,
   "metadata": {},
   "outputs": [],
   "source": [
    "# Run the following code before attempting questions 6 and 7\n",
    "# Consider the below dataframe\n",
    "\n",
    "data = {\n",
    "    'City': ['New York', 'Los Angeles', 'Chicago', 'Houston', 'Miami'],\n",
    "    'Temp_Day1': [28, 32, 25, 30, 27],\n",
    "    'Temp_Day2': [30, 35, 28, 32, 30],\n",
    "    'Temp_Day3': [27, 29, 26, 33, 28],\n",
    "    'Temp_Day4': [32, 33, 30, 35, 29],\n",
    "    'Temp_Day5': [29, 31, 27, 30, 26]\n",
    "}\n",
    "df = pd.DataFrame(data)\n",
    "df.set_index('City', inplace=True)\n",
    "df\n"
   ]
  },
  {
   "cell_type": "markdown",
   "metadata": {},
   "source": [
    "6. Select the temperatures for Day 2 and Day 4 for the cities \"New York\" and \"Chicago.\""
   ]
  },
  {
   "cell_type": "code",
   "execution_count": null,
   "metadata": {},
   "outputs": [],
   "source": [
    "\n",
    "\n",
    "\n"
   ]
  },
  {
   "cell_type": "markdown",
   "metadata": {},
   "source": [
    "7. Calculate the mean temperature for each city and add it as a new row in the DataFrame."
   ]
  },
  {
   "cell_type": "code",
   "execution_count": null,
   "metadata": {},
   "outputs": [],
   "source": []
  },
  {
   "cell_type": "code",
   "execution_count": null,
   "metadata": {},
   "outputs": [],
   "source": [
    "# Run the following code before attempting question 8\n",
    "# Consider the below dataframe\n",
    "data = {\n",
    "    'Date': pd.date_range(start='2023-07-01', periods=10, freq='D'),\n",
    "    'Sales': [100, 120, 150, 130, 200, 180, 220, 210, 250, 240]\n",
    "}\n",
    "df = pd.DataFrame(data)\n",
    "df\n",
    "\n"
   ]
  },
  {
   "cell_type": "markdown",
   "metadata": {},
   "source": [
    "8. Set the \"Date\" column as the index of the DataFrame."
   ]
  },
  {
   "cell_type": "code",
   "execution_count": null,
   "metadata": {},
   "outputs": [],
   "source": []
  },
  {
   "cell_type": "code",
   "execution_count": null,
   "metadata": {},
   "outputs": [],
   "source": [
    "# Run the following code before attempting questions 9 and 10\n",
    "# consider the dataframe\n",
    "\n",
    "\n",
    "\n",
    "data = {\n",
    "    'Country': ['China', 'India', 'United States', 'Indonesia', 'Pakistan'],\n",
    "    '1960': [667070000, 449480608, 180671000, 87792519, 44908293],\n",
    "    '1970': [818315000, 553571164, 205052000, 114793177, 65098503],\n",
    "    '1980': [981235000, 696783021, 227225000, 147447836, 79369912],\n",
    "    '1990': [1135185000, 873277798, 249623000, 181413402, 104674523],\n",
    "    '2000': [1262645000, 1006307812, 281421906, 212081024, 144522192],\n",
    "    '2010': [1337705000, 1189172906, 308745538, 242325638, 177276594]\n",
    "}\n",
    "\n",
    "df = pd.DataFrame(data)\n",
    "df.set_index('Country', inplace=True)\n",
    "df\n"
   ]
  },
  {
   "cell_type": "markdown",
   "metadata": {},
   "source": [
    "9. Use loc to select the population data for the countries 'India', 'China', and 'Pakistan' for the years 1980 to 2000 (inclusive)."
   ]
  },
  {
   "cell_type": "code",
   "execution_count": null,
   "metadata": {},
   "outputs": [],
   "source": []
  },
  {
   "cell_type": "markdown",
   "metadata": {},
   "source": [
    "10. Use iloc to select the population data for the first three countries and the last three years."
   ]
  },
  {
   "cell_type": "code",
   "execution_count": null,
   "metadata": {},
   "outputs": [],
   "source": []
  },
  {
   "cell_type": "markdown",
   "metadata": {},
   "source": [
    "##### The End\n",
    "[Back to Content](#tc)"
   ]
  },
  {
   "cell_type": "markdown",
   "metadata": {},
   "source": [
    "Copyright © 2023 by Boston Consulting Group. All rights reserved."
   ]
  }
 ],
 "metadata": {
  "anaconda-cloud": {},
  "celltoolbar": "Raw Cell Format",
  "kernelspec": {
   "display_name": "Python 3 (ipykernel)",
   "language": "python",
   "name": "python3"
  },
  "language_info": {
   "codemirror_mode": {
    "name": "ipython",
    "version": 3
   },
   "file_extension": ".py",
   "mimetype": "text/x-python",
   "name": "python",
   "nbconvert_exporter": "python",
   "pygments_lexer": "ipython3",
   "version": "3.11.5"
  }
 },
 "nbformat": 4,
 "nbformat_minor": 1
}
