{
 "cells": [
  {
   "cell_type": "markdown",
   "metadata": {},
   "source": [
    "<table class=\"table table-bordered\">\n",
    "    <tr>\n",
    "        <th style=\"width:200px;\">\n",
    "            <img src='https://bcgriseacademy.com/hs-fs/hubfs/RISE%202.0%20Logo_Options_25Jan23_RISE%20-%20For%20Black%20Background.png?width=3522&height=1986&name=RISE%202.0%20Logo_Options_25Jan23_RISE%20-%20For%20Black%20Background.png' style=\"background-color:black; width: 100%; height: 100%;\">\n",
    "        </th>\n",
    "        <th style=\"text-align:center;\">\n",
    "            <h1>IBF TFIP</h1>\n",
    "            <h2>Pandas II - Data Visualization</h2>\n",
    "        </th>\n",
    "    </tr>\n",
    "</table>"
   ]
  },
  {
   "cell_type": "markdown",
   "metadata": {},
   "source": [
    "# Learning Objectives\n",
    "#### After completing this lesson, you should be able to:\n",
    "\n",
    "1. LO1 : Understand Data Visualization with Python\n",
    "2. LO2 : Understand functions in Matplotlib and Seaborn libraries\n",
    "3. LO3 : Apply Matplotlib and Seaborn libraries to create visualizations\n"
   ]
  },
  {
   "cell_type": "markdown",
   "metadata": {},
   "source": [
    "# Table of Contents <a id='tc'></a>\n",
    "\n",
    "1. [Plotting and Visualization in Python](#p1)\n",
    "2. [MatplotLib](#p2)\n",
    "3. [Seaborn](#p3)\n",
    "4. [DIY debugging for data visualization using ChatGPT](#p4)\n",
    "5. [Hands-On Practice Exercise](#p5)"
   ]
  },
  {
   "cell_type": "markdown",
   "metadata": {},
   "source": [
    "# 1. Plotting and Visualization in Python <a id='p1' />\n",
    "\n",
    "Plotting and visualization are essential aspects of data analysis and communication. Python provides several libraries that make it easy to create visually appealing and informative plots. Some popular libraries for plotting and visualization in Python are:\n",
    "\n",
    "`Matplotlib:` Matplotlib is one of the most widely used libraries for creating static, interactive, and animated visualizations. It provides a wide range of plot types, including line plots, bar plots, scatter plots, histograms, and more.\n",
    "\n",
    "`Seaborn:` Seaborn is built on top of Matplotlib and provides a higher-level interface for creating attractive statistical graphics. It is particularly useful for visualizing data distributions and relationships.\n",
    "\n",
    "`Plotly:` Plotly is a versatile library that supports interactive and web-based visualizations. It allows users to create interactive plots, 3D plots, maps, and more.\n",
    "\n",
    "`Pandas Plotting:` The Pandas library provides built-in plotting functionality that allows users to create basic plots directly from Pandas data structures, such as DataFrames and Series.\n",
    "\n",
    "`Bokeh:` Bokeh is another interactive visualization library that supports web-based visualizations. It is designed for creating interactive plots with large datasets.\n"
   ]
  },
  {
   "cell_type": "markdown",
   "metadata": {},
   "source": [
    "# 2. Matplotlib <a id='p2' />\n",
    "\n",
    "Matplotlib is an excellent 2D and 3D graphics library for generating scientific figures in Python. Some of the many advantages of this library includes:\n",
    "\n",
    "* Easy to get started\n",
    "* Support for $\\LaTeX$ formatted labels and texts\n",
    "* Great control of every element in a figure, including figure size and DPI. \n",
    "* High-quality output in many formats, including PNG, PDF, SVG, EPS.\n",
    "* GUI for interactively exploring figures *and* support for headless generation of figure files (useful for batch jobs).\n",
    "\n",
    "One of the of the key features of matplotlib that I would like to emphasize, and that I think makes matplotlib highly suitable for generating figures for scientific publications is that all aspects of the figure can be controlled *programmatically*. This is important for reproducibility, convenient when one need to regenerate the figure with updated data or change its appearance. "
   ]
  },
  {
   "cell_type": "code",
   "execution_count": null,
   "metadata": {},
   "outputs": [],
   "source": [
    "# import the required libraries\n",
    "%matplotlib inline\n",
    "import pandas as pd\n",
    "import numpy as np\n",
    "import matplotlib.pyplot as plt\n",
    "import warnings\n",
    "warnings.filterwarnings('ignore')"
   ]
  },
  {
   "cell_type": "markdown",
   "metadata": {},
   "source": [
    "## 2.1 Basic Visualizations with Matplotlib"
   ]
  },
  {
   "cell_type": "code",
   "execution_count": null,
   "metadata": {},
   "outputs": [],
   "source": [
    "# line chat\n",
    "# Sample data\n",
    "months = ['Jan', 'Feb', 'Mar', 'Apr', 'May', 'Jun']\n",
    "revenue = [1000, 1200, 1100, 1300, 1500, 1400]\n",
    "\n",
    "# Create a line chart\n",
    "plt.plot(months, revenue, marker='o', linestyle='-', color='b', alpha = 0.5)\n",
    "\n",
    "# Add labels and title\n",
    "plt.xlabel('Months')\n",
    "plt.ylabel('Revenue ($)')\n",
    "plt.title('Monthly Revenue')\n",
    "plt.show()"
   ]
  },
  {
   "cell_type": "code",
   "execution_count": null,
   "metadata": {},
   "outputs": [],
   "source": [
    "# Scatter plot\n",
    "# Understanding relationships between columns of data\n",
    "\n",
    "# Sample data for age and income\n",
    "age = [25, 30, 35, 40, 45, 50, 55, 60]\n",
    "income = [42000, 57000, 58000, 60000, 61000, 70000, 75000, 80000]\n",
    "\n",
    "# Create a scatter plot\n",
    "plt.scatter(age, income, marker='o', color='b', alpha = 0.5)\n",
    "\n",
    "# Add labels and title\n",
    "plt.xlabel('Age')\n",
    "plt.ylabel('Income ($)')\n",
    "plt.title('Income vs. Age for Employees')\n",
    "plt.show()"
   ]
  },
  {
   "cell_type": "code",
   "execution_count": null,
   "metadata": {},
   "outputs": [],
   "source": [
    "# HISTOGRAM - This is important to understand distribution of any column of data\n",
    "\n",
    "# Sample data\n",
    "ages = [25, 30, 35, 40, 45, 50, 55, 60, 65, 70, 75, 80, 85, 90, 95]\n",
    "\n",
    "# Create a histogram plot\n",
    "plt.hist(ages, bins=10, color='blue', alpha = 0.3)\n",
    "\n",
    "# Add labels and title\n",
    "plt.xlabel('Age')\n",
    "plt.ylabel('Frequency')\n",
    "plt.title('Age Distribution of Survey Respondents')\n",
    "plt.show()"
   ]
  },
  {
   "cell_type": "code",
   "execution_count": null,
   "metadata": {},
   "outputs": [],
   "source": [
    "# Bar/Column chart/plot\n",
    "\n",
    "labels = [\"Javascript\", \"Java\", \"Python\", \"R\"]\n",
    "usage = [62.8, 43.5, 37.2, 25]\n",
    "\n",
    "# Plotting the bar itself\n",
    "plt.bar(labels, usage, color= 'blue', alpha = 0.3)\n",
    "plt.title(\"Usage of different programming languages\")\n",
    "plt.xlabel(\"Programming Languages\")\n",
    "plt.ylabel('Usage')\n",
    "plt.show()\n",
    "\n"
   ]
  },
  {
   "cell_type": "code",
   "execution_count": null,
   "metadata": {},
   "outputs": [],
   "source": [
    "# Horizontal Bar Chart\n",
    "\n",
    "labels = [\"Javascript\", \"Java\", \"Python\", \"R\"]\n",
    "usage = [62.8, 43.5, 37.2, 25]\n",
    "\n",
    "# Plotting the bar itself\n",
    "plt.barh(labels, usage, color = 'green', alpha = 0.3)\n",
    "plt.title(\"Usage of different programming languages\")\n",
    "plt.xlabel(\"Programming Languages\")\n",
    "plt.ylabel('Usage')\n",
    "plt.show()\n"
   ]
  },
  {
   "cell_type": "markdown",
   "metadata": {},
   "source": [
    "## 2.2 Subplots in Matplotlib"
   ]
  },
  {
   "cell_type": "code",
   "execution_count": null,
   "metadata": {},
   "outputs": [],
   "source": [
    "# Subplots in Matplotlib\n",
    "\n",
    "import numpy as np\n",
    "\n",
    "# Create a total of two plots - one below the other\n",
    "plt.figure(figsize=(20,10)) # length/width, height\n",
    "\n",
    "# create the first plot\n",
    "plt.subplot(1,2,1) # (rows, columns, panel number/subplot area number)\n",
    "\n",
    "plt.bar(labels, usage)\n",
    "plt.title(\"Usage of different programming languages\")\n",
    "plt.xlabel(\"Programming Languages\")\n",
    "plt.ylabel('Usage')\n",
    "\n",
    "# create the second plot\n",
    "plt.subplot(1,2,2)\n",
    "\n",
    "plt.barh(labels, usage)\n",
    "plt.title(\"Usage of different programming languages\")\n",
    "plt.xlabel(\"Programming Languages\")\n",
    "plt.ylabel('Usage')\n",
    "plt.show()"
   ]
  },
  {
   "cell_type": "markdown",
   "metadata": {},
   "source": [
    "## 2.3 More Visualizations using Matplotlib\n",
    "\n",
    "Let's import some data and plot a simple figure with the MATLAB-like plotting API.\n"
   ]
  },
  {
   "cell_type": "code",
   "execution_count": null,
   "metadata": {},
   "outputs": [],
   "source": [
    "rain = pd.read_table('./data/nashville_precip.txt', delimiter='\\s+', na_values='NA', index_col=0)\n",
    "rain.head()"
   ]
  },
  {
   "cell_type": "code",
   "execution_count": null,
   "metadata": {},
   "outputs": [],
   "source": [
    "# We want to plot the January rainfall for all years\n",
    "x = rain.index.values\n",
    "y = rain['Jan'].values"
   ]
  },
  {
   "cell_type": "code",
   "execution_count": null,
   "metadata": {},
   "outputs": [],
   "source": [
    "plt.figure()\n",
    "plt.plot(x, y, 'r')\n",
    "plt.xlabel('Year')\n",
    "plt.ylabel('Rainfall')\n",
    "plt.title('January rainfall in Nashville')\n",
    "plt.show()"
   ]
  },
  {
   "cell_type": "markdown",
   "metadata": {},
   "source": [
    "#### Adding data labels to the chart"
   ]
  },
  {
   "cell_type": "code",
   "execution_count": null,
   "metadata": {},
   "outputs": [],
   "source": [
    "# Set size of the plot\n",
    "plt.figure()\n",
    "\n",
    "# Set x-axis and y-axis values\n",
    "rain_jan = rain.loc[2007:2012, 'Jan'].values\n",
    "months = [2007, 2008 ,2009, 2010, 2011]\n",
    "\n",
    "# Set style of the plot\n",
    "plt.style.use('tableau-colorblind10')\n",
    "\n",
    "# Set title for plot (with fontsize change)\n",
    "plt.title('January rainfall in Nashville', fontsize = 20)\n",
    "\n",
    "# Set labels for x-axis and y-axis (with fontsize change)\n",
    "plt.xlabel('Year', fontsize = 15)\n",
    "plt.ylabel('Rainfall', fontsize = 15)\n",
    "\n",
    "# Set font size of ticks on the x-axis and y-axis\n",
    "plt.xticks(fontsize = 10)\n",
    "plt.yticks(fontsize = 10)\n",
    "\n",
    "# Set ranges for the x-axis and y-axis\n",
    "plt.xlim(left=2006,right=2012)\n",
    "plt.ylim(bottom=0,top=8)\n",
    "\n",
    "# Turn grid on or off (0 = off, 1 = on)\n",
    "plt.grid(c = 'r', alpha = .2, linestyle = '--')\n",
    "\n",
    "# Display Data Labels (annotations)\n",
    "for x, y in zip(months, rain_jan): # zip joins x and y coordinates in pairs\n",
    "\n",
    "    label = y # value of data label to display\n",
    "\n",
    "    plt.annotate(label, # this is data label to display\n",
    "                 (x, y), # this is the position to insert the data label\n",
    "                 textcoords=\"offset points\", # define how to position the text\n",
    "                 xytext=(0,10), # distance from text to points (x,y)\n",
    "                 ha='center') # horizontal alignment can be left, right or center\n",
    "    \n",
    "# Create plot\n",
    "plt.plot(months, rain_jan, 'b-o', label = 'January rainfall') # remember to set legend labels\n",
    "\n",
    "# Set the location of the legend\n",
    "# plt.legend(loc=(1.02,0.9))\n",
    "\n",
    "plt.legend()\n",
    "\n",
    "# Display the plot\n",
    "plt.show()"
   ]
  },
  {
   "cell_type": "markdown",
   "metadata": {},
   "source": [
    "#### Customize plotting symbols"
   ]
  },
  {
   "cell_type": "code",
   "execution_count": null,
   "metadata": {},
   "outputs": [],
   "source": [
    "x = rain.index.values\n",
    "y = rain['Jan'].values\n",
    "\n",
    "plt.figure(figsize=(14,6))\n",
    "plt.subplot(1,2,1)\n",
    "plt.plot(x, y, 'r--')\n",
    "plt.subplot(1,2,2)\n",
    "plt.plot(x, rain['Feb'].values, 'g*-')"
   ]
  },
  {
   "cell_type": "markdown",
   "metadata": {},
   "source": [
    "## 2.4 Object-oriented API <a id='p2.2' />\n",
    "\n",
    "\n",
    "While the MATLAB-like API is easy and convenient, it is worth learning matplotlib's object-oriented plotting API. It is remarkably powerful and for advanced figures, with subplots, insets and other components it is very nice to work with. \n",
    "\n",
    "The main idea with object-oriented programming is to have objects with associated methods and functions that operate on them, and no object or program states should be global.\n",
    "\n",
    "To use the object-oriented API we start out very much like in the previous example, but instead of creating a new global figure instance we store a reference to the newly created figure instance in the `fig` variable, and from it we create a new axis instance `axes` using the `add_axes` method in the `Figure` class instance `fig`.\n"
   ]
  },
  {
   "cell_type": "code",
   "execution_count": null,
   "metadata": {},
   "outputs": [],
   "source": [
    "fig = plt.figure()\n",
    "\n",
    "# left, bottom, width, height (range 0 to 1)\n",
    "# as fractions of figure size\n",
    "axes = fig.add_axes([0.1, 0.1, 0.8, 0.8]) \n",
    "\n",
    "axes.plot(x, y, 'r')\n",
    "\n",
    "axes.set_xlabel('Year')\n",
    "axes.set_ylabel('Rainfall')\n",
    "axes.set_title('January rainfall in Nashville');"
   ]
  },
  {
   "cell_type": "markdown",
   "metadata": {},
   "source": [
    "Although a little bit more code is involved, the advantage is that we now have full control of where the plot axes are place, and we can easily add more than one axis to the figure."
   ]
  },
  {
   "cell_type": "code",
   "execution_count": null,
   "metadata": {},
   "outputs": [],
   "source": [
    "fig = plt.figure()\n",
    "\n",
    "axes1 = fig.add_axes([0.1, 0.1, 0.9, 0.9]) # main axes\n",
    "axes2 = fig.add_axes([0.65, 0.65, 0.3, 0.3]) # inset axes\n",
    "\n",
    "# main figure\n",
    "axes1.plot(x, y, 'r')\n",
    "axes1.set_xlabel('Year')\n",
    "axes1.set_ylabel('Rainfall')\n",
    "axes1.set_title('January rainfall in Nashville');\n",
    "\n",
    "# inset figure\n",
    "axes2.plot(x, np.log(y), 'g')\n",
    "axes2.set_title('Log rainfall');"
   ]
  },
  {
   "cell_type": "markdown",
   "metadata": {},
   "source": [
    "If we don't care to be explicit about where our plot axes are placed in the figure canvas, then we can use one of the many axis layout managers in matplotlib, such as `subplots` too."
   ]
  },
  {
   "cell_type": "code",
   "execution_count": null,
   "metadata": {},
   "outputs": [],
   "source": [
    "fig, axes = plt.subplots(nrows=4, ncols=1)\n",
    "\n",
    "months = rain.columns\n",
    "\n",
    "for i,ax in enumerate(axes):\n",
    "    ax.plot(x, rain[months[i]], 'r')\n",
    "    ax.set_xlabel('Year')\n",
    "    ax.set_ylabel('Rainfall')\n",
    "    ax.set_title(months[i])\n",
    "    "
   ]
  },
  {
   "cell_type": "markdown",
   "metadata": {},
   "source": [
    "That was easy, but it's not so pretty with overlapping figure axes and labels, right?\n",
    "\n",
    "We can deal with that by using the `fig.tight_layout` method, which automatically adjusts the positions of the axes on the figure canvas so that there is no overlapping content:"
   ]
  },
  {
   "cell_type": "code",
   "execution_count": null,
   "metadata": {},
   "outputs": [],
   "source": [
    "fig, axes = plt.subplots(nrows=4, ncols=1, figsize=(10,10))\n",
    "\n",
    "for i,ax in enumerate(axes):\n",
    "    ax.plot(x, rain[months[i]], 'r')\n",
    "    ax.set_xlabel('Year')\n",
    "    ax.set_ylabel('Rainfall')\n",
    "    ax.set_title(months[i])\n",
    "    \n",
    "fig.tight_layout()"
   ]
  },
  {
   "cell_type": "markdown",
   "metadata": {},
   "source": [
    "## 2.5 Manipulating figure attributes <a id='p2.3' />\n",
    "\n",
    "Matplotlib allows the aspect ratio, DPI and figure size to be specified when the `Figure` object is created, using the `figsize` and `dpi` keyword arguments. `figsize` is a tuple with width and height of the figure in inches, and `dpi` is the dot-per-inch (pixel per inch). To create a figure with size 12 by 3 pixels we can do: "
   ]
  },
  {
   "cell_type": "code",
   "execution_count": null,
   "metadata": {},
   "outputs": [],
   "source": [
    "fig, axes = plt.subplots(figsize=(12,3))\n",
    "\n",
    "axes.plot(x, y, 'r')\n",
    "axes.set_xlabel('Year')\n",
    "axes.set_ylabel('Rainfall')"
   ]
  },
  {
   "cell_type": "markdown",
   "metadata": {},
   "source": [
    "#### Legends can also be added to identify labelled data."
   ]
  },
  {
   "cell_type": "code",
   "execution_count": null,
   "metadata": {},
   "outputs": [],
   "source": [
    "fig, ax = plt.subplots(figsize=(12,3))\n",
    "\n",
    "ax.plot(x, rain['Jan'], label=\"Jan\")\n",
    "ax.plot(x, rain['Aug'], label=\"Aug\")\n",
    "ax.set_xlabel('Year')\n",
    "ax.set_ylabel('Rainfall')\n",
    "ax.legend(loc=1); # upper left corner"
   ]
  },
  {
   "cell_type": "markdown",
   "metadata": {},
   "source": [
    "#### Visualizations can be fine-tuned in maplotlib, using the attributes of the figure and axes."
   ]
  },
  {
   "cell_type": "code",
   "execution_count": null,
   "metadata": {},
   "outputs": [],
   "source": [
    "# Use the following data to create the required plot\n",
    "month = ['Jan','Feb','Mar','Apr','May','Jun','Jul','Aug','Sep','Oct','Nov','Dec']\n",
    "revenue = np.random.randint(500, 10000, size=12)  # randomly generate revenue for each month\n",
    "profits = np.random.randint(-1000, 5000, size=12) # randomly generate profits for each month"
   ]
  },
  {
   "cell_type": "code",
   "execution_count": null,
   "metadata": {},
   "outputs": [],
   "source": [
    "# Create a figure and subplot with 1 row and 1 column, set figure size to 10 by 5\n",
    "fig, axes = plt.subplots(nrows = 1, ncols = 1, figsize=(10, 5) )\n",
    "\n",
    "# Create one plot containing line charts for revenue and profits (remember to set legend labels)\n",
    "axes.plot(month, revenue, 'b-x', label = 'Revenue')\n",
    "axes.plot(month, profits, 'g-o', label = 'Profits')\n",
    "\n",
    "# Set appropriate title for plot (set font size to 20))\n",
    "axes.set_title('Revenue and Profits Earned Each Month', fontsize = 20)\n",
    "\n",
    "# Set labels for x-axis and y-axis (set font size to 15)\n",
    "axes.set_xlabel('Month', fontsize = 15)\n",
    "axes.set_ylabel('Dollars', fontsize = 15)\n",
    "\n",
    "# Set font size of ticks on the x-axis and y-axis to 10\n",
    "axes.tick_params(axis = 'x', labelsize = 10)\n",
    "axes.tick_params(axis = 'y', labelsize = 10)\n",
    "\n",
    "# Set appropriate ranges for the x-axis and y-axis\n",
    "axes.set_ylim(bottom = -1000, top = 10000)\n",
    "\n",
    "# Set grid lines to red, 0.2 transparency and dashed linestyle\n",
    "axes.grid(c = 'r', alpha = .2, linestyle = '--')\n",
    "\n",
    "# Set appropriate appropriate position for the legend\n",
    "axes.legend(loc=(1.02,0), borderaxespad=0, fontsize = 15)\n",
    "\n",
    "# Set tight layout for figure\n",
    "fig.tight_layout()\n",
    "\n",
    "# Save plot as 'practice1.png' in same folder as notebook\n",
    "fig.savefig('./final deliverable/practice1.png', dpi = 300)\n",
    "\n",
    "# Display the plot\n",
    "plt.show()"
   ]
  },
  {
   "cell_type": "markdown",
   "metadata": {},
   "source": [
    "# 3. Seaborn <a id='p3' />\n",
    "\n",
    "Seaborn is a Python data visualization library built on top of Matplotlib. It provides a high-level interface for creating attractive and informative statistical graphics. Seaborn is particularly useful for visualizing complex datasets and exploring the relationships between variables.\n",
    "\n",
    "Some key features of Seaborn include:\n",
    "\n",
    "`Attractive Default Styles:` Seaborn comes with attractive and well-designed default styles, making it easy to create visually appealing plots without much customization.\n",
    "\n",
    "`High-Level Plotting Functions:` Seaborn provides high-level functions to create a wide range of statistical plots, including scatter plots, line plots, bar plots, box plots, violin plots, heatmaps, and more.\n",
    "\n",
    "`Color Palettes:` Seaborn offers a variety of color palettes to make it easy to apply consistent and aesthetically pleasing colors to your plots.\n",
    "\n",
    "`Statistical Estimations:` Seaborn can automatically compute and display statistical estimates such as confidence intervals and regression lines on your plots.\n",
    "\n",
    "`Facet Grids:` Seaborn allows you to create facet grids for visualizing data across multiple dimensions or subsets of the data.\n",
    "\n",
    "\n"
   ]
  },
  {
   "cell_type": "markdown",
   "metadata": {},
   "source": [
    "Seaborn is conventionally imported using the `sns` alias. Simply importing Seaborn invokes the default Seaborn settings. These are generally more muted colors with a light gray background and subtle white grid lines. "
   ]
  },
  {
   "cell_type": "code",
   "execution_count": null,
   "metadata": {},
   "outputs": [],
   "source": [
    "import matplotlib.pyplot as plt\n",
    "import seaborn as sns"
   ]
  },
  {
   "cell_type": "code",
   "execution_count": null,
   "metadata": {},
   "outputs": [],
   "source": [
    "# Load data to construct the seaborn plots. We will be using one of the datasets available in seaborn library\n",
    "\n",
    "df = sns.load_dataset('car_crashes')\n",
    "\n",
    "df.head()"
   ]
  },
  {
   "cell_type": "markdown",
   "metadata": {},
   "source": [
    "## 3.1 Styling and Themes in Seaborn\n",
    "\n",
    "Visualizations are essential for gaining insights from large datasets and presenting findings to stakeholders. Enhancing the visual appeal of plots can improve both data exploration and communication. Beautiful and attractive visualizations capture attention and engage audiences more effectively than dull plots. Therefore, styling plays a crucial role in data visualization.\n",
    "\n",
    "While Matplotlib is highly customizable, it can be challenging to fine-tune settings for visually appealing plots. Seaborn, on the other hand, provides pre-designed themes and a high-level interface to easily customize the appearance of Matplotlib figures. This feature allows users to effortlessly create visually appealing plots without delving into intricate customization details."
   ]
  },
  {
   "cell_type": "code",
   "execution_count": null,
   "metadata": {},
   "outputs": [],
   "source": [
    "# First, let's see how we can style a simple Matplotlib plot using Seaborn’s function.\n",
    "\n",
    "sns.set_style(\"whitegrid\") #set the style to whitegrid\n",
    "plt.scatter(df.speeding,df.alcohol)\n",
    "\n",
    "plt.show()"
   ]
  },
  {
   "cell_type": "code",
   "execution_count": null,
   "metadata": {},
   "outputs": [],
   "source": [
    "sns.set_style(\"ticks\") #set style to add ticks\n",
    "plt.scatter(df.speeding,df.alcohol)\n",
    "\n",
    "plt.show()\n"
   ]
  },
  {
   "cell_type": "code",
   "execution_count": null,
   "metadata": {},
   "outputs": [],
   "source": [
    "sns.set_style(\"dark\") #set style to dark\n",
    "plt.scatter(df.speeding,df.alcohol)\n",
    "\n",
    "plt.show()"
   ]
  },
  {
   "cell_type": "markdown",
   "metadata": {},
   "source": [
    "If we don't want to include the top and right axis spines, we can remove the top and right axis spines using the despine() function."
   ]
  },
  {
   "cell_type": "code",
   "execution_count": null,
   "metadata": {},
   "outputs": [],
   "source": [
    "sns.set_style(\"ticks\")\n",
    "plt.scatter(df.speeding,df.alcohol)\n",
    "sns.despine()\n",
    "plt.show()"
   ]
  },
  {
   "cell_type": "markdown",
   "metadata": {},
   "source": [
    "Playing around by changing the values of any of the parameters will alter the plot style and make our plots attractive."
   ]
  },
  {
   "cell_type": "code",
   "execution_count": null,
   "metadata": {},
   "outputs": [],
   "source": [
    "sns.set_style(\"darkgrid\", {'grid.color': '.5'})\n",
    "plt.scatter('speeding','alcohol',data=df)\n",
    "plt.show()"
   ]
  },
  {
   "cell_type": "markdown",
   "metadata": {},
   "source": [
    "You can also add matplotlib's pyplot to add the chart elements, like the title, x-axis label, y-axis label etc."
   ]
  },
  {
   "cell_type": "code",
   "execution_count": null,
   "metadata": {},
   "outputs": [],
   "source": [
    "sns.set_style(\"darkgrid\", {'grid.color': '.5'})\n",
    "plt.scatter('speeding','alcohol',data=df)\n",
    "plt.title(\"Relationship between speeding car and alcohol consumption\")\n",
    "plt.xlabel(\"carspeed\")\n",
    "plt.ylabel(\"alcohol consumption\")\n",
    "plt.show()"
   ]
  },
  {
   "cell_type": "markdown",
   "metadata": {},
   "source": [
    "In Seaborn, we have the flexibility to control specific elements of our graphs, enabling us to adjust the scale of these elements or the overall plot appearance using the set_context() function. There are four preset templates for contexts, each based on relative size, and they are named as follows:\n",
    "\n",
    "* Paper\n",
    "* Notebook\n",
    "* Talk\n",
    "* Poster\n",
    "\n",
    "By default, the context is set to 'notebook', which is the context used in the examples above. However, we can easily try a different context to observe how it influences the appearance of our plots. Changing the context allows us to quickly adapt the visual style of our visualizations to better suit the specific use case or presentation medium."
   ]
  },
  {
   "cell_type": "code",
   "execution_count": null,
   "metadata": {},
   "outputs": [],
   "source": [
    "sns.set_style(\"dark\")\n",
    "sns.set_context(\"notebook\")\n",
    "plt.scatter(df.speeding,df.alcohol)\n",
    "plt.show()"
   ]
  },
  {
   "cell_type": "code",
   "execution_count": null,
   "metadata": {},
   "outputs": [],
   "source": [
    "sns.set_style(\"dark\")\n",
    "sns.set_context(\"poster\")\n",
    "plt.scatter(df.speeding,df.alcohol)\n",
    "plt.show()"
   ]
  },
  {
   "attachments": {
    "image.png": {
     "image/png": "[encoded data removed]"
    }
   },
   "cell_type": "markdown",
   "metadata": {},
   "source": [
    "## 3.2 Seaborn Color Palette\n",
    "\n",
    "Seaborn is renowned for enhancing the appeal of plots and graphs by using attractive color combinations. In data visualization, color is a crucial element that significantly influences how observers perceive and interpret visualizations. Effective use of color can add substantial value to the plot and enhance its overall impact.\n",
    "\n",
    "Seaborn provides a wide range of color palettes, totaling 170 options. A palette, analogous to a painter's mixing surface, allows users to arrange and blend colors harmoniously. These diverse color palettes in Seaborn enable users to create visually appealing and engaging visualizations that captivate audiences and effectively communicate insights from data.\n",
    "\n",
    "\n",
    "![image.png](attachment:image.png)"
   ]
  },
  {
   "cell_type": "markdown",
   "metadata": {},
   "source": [
    "## 3.3 Seaborn Functions"
   ]
  },
  {
   "cell_type": "markdown",
   "metadata": {},
   "source": [
    "### 3.3.1 Relplot\n",
    "\n",
    "Seaborn's relplot() function is a powerful tool that offers access to various axes-level functions, each demonstrating the relationship between two variables while incorporating semantic mappings of subsets. The kind parameter enables users to choose the specific underlying axes-level function to utilize for the visualization. This flexibility allows users to explore and present relationships in the data effectively, catering to different use cases and preferences."
   ]
  },
  {
   "cell_type": "code",
   "execution_count": null,
   "metadata": {},
   "outputs": [],
   "source": [
    "# loading new data\n",
    "\n",
    "tips = sns.load_dataset(\"tips\")\n",
    "tips.head()"
   ]
  },
  {
   "cell_type": "code",
   "execution_count": null,
   "metadata": {},
   "outputs": [],
   "source": [
    "# creating relplot\n",
    "sns.set_context(\"notebook\")\n",
    "sns.relplot(data=tips, x=\"total_bill\", y=\"tip\")\n"
   ]
  },
  {
   "cell_type": "code",
   "execution_count": null,
   "metadata": {},
   "outputs": [],
   "source": [
    "# adding hue\n",
    "sns.relplot(data=tips, x=\"total_bill\", y=\"tip\", hue=\"day\")"
   ]
  },
  {
   "cell_type": "code",
   "execution_count": null,
   "metadata": {},
   "outputs": [],
   "source": [
    "# adding more details to the chart and making it more readable\n",
    "sns.relplot(data=tips, x=\"total_bill\", y=\"tip\", hue=\"sex\", col=\"day\", col_wrap=2)"
   ]
  },
  {
   "cell_type": "code",
   "execution_count": null,
   "metadata": {},
   "outputs": [],
   "source": [
    "# you can also use a line chart by changing to kind = 'line'\n",
    "sns.relplot(data=tips, x=\"size\", y=\"tip\",kind=\"line\",ci=None)"
   ]
  },
  {
   "cell_type": "markdown",
   "metadata": {},
   "source": [
    "As observed in the plot, we have introduced an additional dimension by color-coding the points based on a third variable. In Seaborn, this approach is known as using a \"hue semantic\" since the color of each point gains significance. This is achieved by passing the third variable to the hue parameter of the relplot() function. We will cover the col parameter later when discussing the facetGrid section, which allows for further visualization customization across multiple dimensions. The hue parameter is particularly useful for visually representing relationships between variables and highlighting patterns or differences within the data."
   ]
  },
  {
   "cell_type": "markdown",
   "metadata": {},
   "source": [
    "### 3.3.2 Histogram\n",
    "\n",
    "Histograms are used to visualize the distribution of data by dividing it into bins based on the range of values and then displaying bars to represent the number of observations falling within each bin. In Seaborn, we can create histograms using the distplot() function. Let's see an example of how to use this function to plot a histogram."
   ]
  },
  {
   "cell_type": "code",
   "execution_count": null,
   "metadata": {},
   "outputs": [],
   "source": [
    "sns.distplot(tips['total_bill'])"
   ]
  },
  {
   "cell_type": "markdown",
   "metadata": {},
   "source": [
    "By default this gives a histogram and a density plot. You may choose to only visualize the histogram."
   ]
  },
  {
   "cell_type": "code",
   "execution_count": null,
   "metadata": {},
   "outputs": [],
   "source": [
    "sns.distplot(tips['total_bill'], kde = False)"
   ]
  },
  {
   "cell_type": "markdown",
   "metadata": {},
   "source": [
    "### 3.3.3 Barplot\n",
    "\n",
    "Seaborn offers a wide range of bar plots, and we will explore some of them here. As mentioned earlier, we will combine Seaborn with Matplotlib to showcase various types of bar plots. This combination allows us to leverage the strengths of both libraries and create visually appealing and informative visualizations. By using Seaborn's specialized bar plot functions in conjunction with Matplotlib's customization capabilities, we can effectively communicate insights and patterns present in the data."
   ]
  },
  {
   "cell_type": "markdown",
   "metadata": {},
   "source": [
    "#### Vertical Bar Plot"
   ]
  },
  {
   "cell_type": "code",
   "execution_count": null,
   "metadata": {},
   "outputs": [],
   "source": [
    "sns.set_context('paper')\n",
    " \n",
    "# load dataset\n",
    "titanic = sns.load_dataset('titanic')\n",
    "\n",
    "# create plot\n",
    "sns.barplot(x = 'embark_town', y = 'age', data = titanic,\n",
    "            palette = 'PiYG',ci=None \n",
    "            )\n",
    "plt.legend()\n",
    "plt.show()\n",
    "print(titanic.columns)"
   ]
  },
  {
   "cell_type": "markdown",
   "metadata": {},
   "source": [
    "`sns.set_context('paper'):` This line sets the context of the plot to 'paper', which means the plot will be optimized for paper publication. Seaborn provides four preset contexts: 'paper', 'notebook', 'talk', and 'poster', with 'paper' being suitable for publication-quality plots.\n",
    "\n",
    "`titanic = sns.load_dataset('titanic'):` This line loads the 'titanic' dataset from Seaborn's built-in datasets. The dataset contains information about passengers aboard the Titanic, including their age, embarkation town, and other details.\n",
    "\n",
    "`sns.barplot(x='embark_town', y='age', data=titanic, palette='PiYG', ci=None):` This line creates the bar plot using Seaborn's barplot() function. We specify 'embark_town' on the x-axis and 'age' on the y-axis to represent the relationship between the passengers' age and the embarkation town. The 'palette' parameter sets the color palette for the plot. In this case, 'PiYG' is used, which stands for Pink-Yellow-Green. The ci parameter is set to None, indicating that no confidence intervals will be shown on the plot.\n",
    "\n",
    "`plt.legend():` This line adds a legend to the plot, but in this case, since there are no separate groups being represented by different colors, the legend will not show any labels.\n",
    "\n",
    "`plt.show():` This line displays the bar plot.\n",
    "\n",
    "`print(titanic.columns):` This line prints the column names of the 'titanic' dataset, which allows us to see the available columns and their names."
   ]
  },
  {
   "cell_type": "code",
   "execution_count": null,
   "metadata": {},
   "outputs": [],
   "source": [
    "sns.barplot(x = 'sex', y = 'survived', hue = 'class', data = titanic,\n",
    "            palette = 'GnBu',\n",
    "            order = ['male', 'female'],  \n",
    "            capsize = 0.05,             \n",
    "            saturation = 8,             \n",
    "            errcolor = 'gray', errwidth = 2,  \n",
    "            ci = None \n",
    "            )\n",
    "plt.legend()\n",
    "plt.show()"
   ]
  },
  {
   "cell_type": "markdown",
   "metadata": {},
   "source": [
    "#### Horizontal Bar Plot"
   ]
  },
  {
   "cell_type": "code",
   "execution_count": null,
   "metadata": {},
   "outputs": [],
   "source": [
    "sns.set_context('paper')\n",
    "sns.barplot(x = 'age', y = 'embark_town', data = titanic,\n",
    "            palette = 'GnBu', orient = 'h', ci = None\n",
    "            )\n",
    "plt.show()"
   ]
  },
  {
   "cell_type": "markdown",
   "metadata": {},
   "source": [
    "### 3.3.4 Count Plot\n",
    "\n",
    "The count plot is a visualization that can be likened to a histogram for categorical variables. It displays the frequency of each category in the categorical variable. The following example demonstrates the count plot."
   ]
  },
  {
   "cell_type": "code",
   "execution_count": null,
   "metadata": {},
   "outputs": [],
   "source": [
    "sns.set_context('paper')\n",
    "# create plot\n",
    "sns.countplot(x = 'class', hue = 'who', data = titanic, palette = 'magma')\n",
    "plt.title('Survivors')\n",
    "plt.show()"
   ]
  },
  {
   "cell_type": "markdown",
   "metadata": {},
   "source": [
    "### 3.3.5 Box Plot\n",
    "\n",
    "The box plot, commonly referred to as the box and whisker diagram, is a visualization technique used to display numerical data in groups, emphasizing the distribution through quartiles. The name \"box and whisker\" originates from its visual elements, comprising a box and whiskers.\n",
    "\n",
    "The box plot provides a summary of five essential data points:\n",
    "\n",
    "* Minimum value\n",
    "* First Quartile (25th percentile)\n",
    "* Median (Second Quartile or 50th percentile)\n",
    "* Third Quartile (75th percentile)\n",
    "* Maximum value\n",
    "\n",
    "By presenting these key statistics, the box plot enables us to understand the spread and central tendency of the data. Additionally, it is an effective tool for identifying potential outliers in the dataset."
   ]
  },
  {
   "cell_type": "code",
   "execution_count": null,
   "metadata": {},
   "outputs": [],
   "source": [
    "tips = sns.load_dataset(\"tips\")\n",
    "sns.boxplot(x=\"day\", y=\"total_bill\", data=tips, palette='GnBu')"
   ]
  },
  {
   "cell_type": "markdown",
   "metadata": {},
   "source": [
    "* The bottom black horizontal line of the box plot is the minimum value\n",
    "* The first black horizontal line of the rectangle shape of the box plot is the first quartile\n",
    " or 25%\n",
    "* The second black horizontal line of the rectangle shape of the box plot is Second quartile or 50% or median.\n",
    "* The third black horizontal line of rectangle shape of the same box plot is third quartile or 75%\n",
    "* The top black horizontal line of the rectangle shape of the box plot is the maximum value.\n",
    "* The small diamond shape of the box plot is outlier data."
   ]
  },
  {
   "cell_type": "markdown",
   "metadata": {},
   "source": [
    "### 3.3.6 Heatmap\n",
    "\n",
    "A heatmap is a graphical representation of data presented in a matrix format, where each value in the matrix is depicted using colors. Seaborn allows us to create annotated heatmaps, providing additional information by annotating each cell with its actual value. Furthermore, Seaborn's heatmaps can be customized and modified using Matplotlib, allowing for flexibility in visualizing and presenting the data in the desired format."
   ]
  },
  {
   "cell_type": "code",
   "execution_count": null,
   "metadata": {},
   "outputs": [],
   "source": [
    "# load a new dataset\n",
    "car_crashes = sns.load_dataset(\"car_crashes\")\n",
    "corr=car_crashes.corr()\n",
    "sns.heatmap(corr,annot=True,linewidths=.5,cmap=\"YlGnBu\")"
   ]
  },
  {
   "cell_type": "markdown",
   "metadata": {},
   "source": [
    "### 3.3.7 Pair Plot\n",
    "\n",
    "Pair plot is a visualization technique in Seaborn that creates a grid of axes, where each numeric variable in the dataset is shared across the y-axes in a single row and the x-axes in a single column. The diagonal plots of the grid are treated specially, as they show univariate distribution plots to display the marginal distribution of the data in each column. Pair plots are particularly useful for exploring relationships between multiple numerical variables and identifying patterns and correlations within the data."
   ]
  },
  {
   "cell_type": "code",
   "execution_count": null,
   "metadata": {},
   "outputs": [],
   "source": [
    "# load a new dataset\n",
    "df = sns.load_dataset('iris')\n",
    "sns.set_style(\"ticks\")\n",
    "sns.pairplot(df,hue = 'species',diag_kind = \"kde\",kind = \"scatter\",palette = \"husl\")\n",
    "plt.show()"
   ]
  },
  {
   "cell_type": "markdown",
   "metadata": {},
   "source": [
    "### [Optional] 3.3.8 Joint Plot\n",
    "\n",
    "A Joint Plot is a visualization that combines bivariate and univariate graphs for two variables. It utilizes both Scatter Plots and Histograms to depict the relationship between the variables. Additionally, Joint Plot can present data using Kernel Density Estimates (KDE) and Hexagons for a more detailed view. Furthermore, it allows us to include a Regression Line in the Scatter Plot to show the trend between the variables. Below are some examples of Joint Plot usage."
   ]
  },
  {
   "cell_type": "code",
   "execution_count": null,
   "metadata": {},
   "outputs": [],
   "source": [
    "# we are using the restaurant tips data\n",
    "sns.set_style(\"dark\")\n",
    "sns.jointplot(x='total_bill', y='tip',data=tips)"
   ]
  },
  {
   "cell_type": "code",
   "execution_count": null,
   "metadata": {},
   "outputs": [],
   "source": [
    "# You can also add a line to this scatter plot\n",
    "sns.jointplot(x='total_bill', y='tip', data=tips, kind='reg') "
   ]
  },
  {
   "cell_type": "code",
   "execution_count": null,
   "metadata": {},
   "outputs": [],
   "source": [
    "# Display kernel density estimate instead of scatter plot and histogram\n",
    "sns.jointplot(x='total_bill', y='tip', data=tips, kind='kde', fill=True)"
   ]
  },
  {
   "cell_type": "code",
   "execution_count": null,
   "metadata": {},
   "outputs": [],
   "source": [
    "# Display hexagons instead of points in scatter plot\n",
    "sns.jointplot(x='total_bill', y='tip', data=tips, kind='hex') "
   ]
  },
  {
   "cell_type": "markdown",
   "metadata": {},
   "source": [
    "### [Optional] 3.3.9 Regplot\n",
    "\n",
    "Seaborn's regplot function is utilized for visualizing linear relationships determined through regression analysis. It displays a regression line representing the relationship between two variables, along with a slightly shaded area around the line. This shaded portion indicates the density of points and how they are scattered around a certain region. When the points are more densely populated in an area, the shaded portion around the regression line becomes narrower, while it becomes more spread out in regions where the points are more scattered. In the next example, we will plot a discrete x variable and apply some jitter to further explore these patterns."
   ]
  },
  {
   "cell_type": "code",
   "execution_count": null,
   "metadata": {},
   "outputs": [],
   "source": [
    "ax = sns.regplot(x=\"total_bill\", y=\"tip\", data=tips)"
   ]
  },
  {
   "cell_type": "markdown",
   "metadata": {},
   "source": [
    "### [Optional] 3.3.10 LM Plot\n",
    "\n",
    "In Seaborn, both regplot and lmplot can be used to visualize the regression between two variables. However, there is a difference between the two plots.\n",
    "\n",
    "The regplot function is used to perform a simple linear regression model fit and plot the relationship between the variables. It provides a straightforward way to visualize the linear relationship without considering other factors.\n",
    "\n",
    "On the other hand, the lmplot function combines the functionality of regplot with the power of FacetGrid. FacetGrid allows you to create multiple panels or subplots to visualize the distribution of one variable and the relationship between multiple variables within subsets of your dataset. This means you can plot separate regression lines for different subsets of your data.\n",
    "\n",
    "It's important to keep in mind that using lmplot can be more computationally intensive compared to regplot, as it allows you to fit regression models across conditional subsets of your dataset, making it a more flexible and powerful tool for data exploration."
   ]
  },
  {
   "cell_type": "code",
   "execution_count": null,
   "metadata": {},
   "outputs": [],
   "source": [
    "tips = sns.load_dataset(\"tips\")\n",
    "sns.lmplot(x=\"total_bill\", y=\"tip\", data=tips)"
   ]
  },
  {
   "cell_type": "markdown",
   "metadata": {},
   "source": [
    "Here is how we can use the advance features of lmplot() and use it with multi-plot grid for plotting conditional relationships."
   ]
  },
  {
   "cell_type": "code",
   "execution_count": null,
   "metadata": {},
   "outputs": [],
   "source": [
    "sns.lmplot(x=\"total_bill\", y=\"tip\", col=\"day\", hue=\"day\",\n",
    "               data=tips, col_wrap=2, height=3)"
   ]
  },
  {
   "cell_type": "markdown",
   "metadata": {},
   "source": [
    "### [Optional] 3.3.11 KDE plot\n",
    "\n",
    "A KDE plot (Kernel Density Estimate) is a visualization technique used to represent the Probability Density Function of continuous or non-parametric data variables. It allows us to visualize the distribution of a single variable (univariate) or multiple variables simultaneously. By using KDE, we can gain insights into the underlying probability distribution of the data, making it a useful tool for exploring the data's characteristics and patterns."
   ]
  },
  {
   "cell_type": "code",
   "execution_count": null,
   "metadata": {},
   "outputs": [],
   "source": [
    "# load another dataset\n",
    "sns.set_style(\"dark\")\n",
    "iris = sns.load_dataset(\"iris\")\n",
    "# Plotting the KDE Plot \n",
    "sns.kdeplot(iris.loc[(iris['species']=='setosa'), \n",
    "            'sepal_length'], color='b', shade=True, label='setosa') \n",
    "sns.kdeplot(iris.loc[(iris['species']=='virginica'), \n",
    "            'sepal_length'], color='r', shade=True, label='virginica')\n",
    "\n",
    "plt.legend()"
   ]
  },
  {
   "cell_type": "markdown",
   "metadata": {},
   "source": [
    "### External Resource Links\n",
    "\n",
    "Below are some external resources link to learn more about Matplotlib and Seaborn:\n",
    "\n",
    "`Matplotlib:` \n",
    "\n",
    "- https://matplotlib.org/tutorials/index.html \n",
    "- https://jakevdp.github.io/PythonDataScienceHandbook/04.00-introduction-to-matplotlib.html \n",
    "\n",
    "`Seaborn: `\n",
    "\n",
    "- https://seaborn.pydata.org/\n",
    "- https://jakevdp.github.io/PythonDataScienceHandbook/04.14-visualization-with-seaborn.html\n"
   ]
  },
  {
   "attachments": {
    "image-2.png": {
     "image/png": "[encoded data removed]"
    },
    "image-3.png": {
     "image/png": "[encoded data removed]"
    },
    "image.png": {
     "image/png": "[encoded data removed]"
    }
   },
   "cell_type": "markdown",
   "metadata": {},
   "source": [
    "# 4. DIY debugging for data visualization using ChatGPT <a id='p4' />\n",
    "\n",
    "You may leverage ChatGPT to help create visualizations using matplotlib and seaborn.\n",
    "\n",
    "Some prompt examples when:\n",
    "\n",
    "- you are not sure what is the best visualization to create.\n",
    "\n",
    "![image.png](attachment:image.png)\n",
    "\n",
    "You can see that ChatGPT clearly states that if we are to show distribution of age, histogram will be a good option.\n",
    "\n",
    "It also gives a code snippet to create a histogram using matplotlib. It provides an explanation on the code too.\n",
    "\n",
    "![image-2.png](attachment:image-2.png)\n",
    "\n",
    "- you want to create the visualization using different library with a specific color palette.\n",
    "\n",
    "![image-3.png](attachment:image-3.png)\n",
    "\n",
    "Again, ChatGPT seamlessly does the task of providing the code to create a histogram using seaborn library with a specific color palette.\n"
   ]
  },
  {
   "cell_type": "markdown",
   "metadata": {},
   "source": [
    "# 5. Hands-On Practice Exercise <a id='p4' />\n",
    "\n",
    "You can use chatGPT to complete this hands-on practice exercise.\n",
    "\n",
    "For the hands-on practice exercise, we will be using the below dataset.  \n",
    "\n",
    "**Dataset: census_data.csv**"
   ]
  },
  {
   "cell_type": "code",
   "execution_count": null,
   "metadata": {},
   "outputs": [],
   "source": [
    "# load the dataset\n",
    "import pandas as pd\n",
    "import matplotlib.pyplot as plt\n",
    "import seaborn as sns\n",
    "census_data = pd.read_csv(\"data/census_data.csv\")\n",
    "\n",
    "census_data.head()"
   ]
  },
  {
   "cell_type": "markdown",
   "metadata": {},
   "source": [
    "<b>1. Create a heatmap to find the correlation between numeric columns in the dataset.</b>"
   ]
  },
  {
   "cell_type": "code",
   "execution_count": null,
   "metadata": {},
   "outputs": [],
   "source": []
  },
  {
   "cell_type": "markdown",
   "metadata": {},
   "source": [
    "<b>2. Create a line chart to plot age vs hours per week worked. </b>\n"
   ]
  },
  {
   "cell_type": "code",
   "execution_count": null,
   "metadata": {},
   "outputs": [],
   "source": []
  },
  {
   "cell_type": "markdown",
   "metadata": {},
   "source": [
    "<b>3. Create a horizontal boxplot to understand the distribution of age with respect to marital status.</b>"
   ]
  },
  {
   "cell_type": "code",
   "execution_count": null,
   "metadata": {},
   "outputs": [],
   "source": []
  },
  {
   "cell_type": "markdown",
   "metadata": {},
   "source": [
    "<b>4. Add the gender dimension to the above chart to see a more detailed age distribution.</b>"
   ]
  },
  {
   "cell_type": "code",
   "execution_count": null,
   "metadata": {},
   "outputs": [],
   "source": []
  },
  {
   "cell_type": "markdown",
   "metadata": {},
   "source": [
    "<b>5. Create a count plot to get the number of people in different categories of marital status.</b>"
   ]
  },
  {
   "cell_type": "code",
   "execution_count": null,
   "metadata": {},
   "outputs": [],
   "source": []
  },
  {
   "cell_type": "markdown",
   "metadata": {},
   "source": [
    "<b>6. Use the components of matplotlib to create a dashboard from any 4 visualizations above and save it as a jpg file.</b>"
   ]
  },
  {
   "cell_type": "code",
   "execution_count": null,
   "metadata": {},
   "outputs": [],
   "source": []
  },
  {
   "cell_type": "code",
   "execution_count": null,
   "metadata": {},
   "outputs": [],
   "source": []
  },
  {
   "cell_type": "markdown",
   "metadata": {},
   "source": [
    "##### The End\n",
    "[Back to Content](#tc)"
   ]
  },
  {
   "cell_type": "markdown",
   "metadata": {},
   "source": [
    "Copyright © 2023 by Boston Consulting Group. All rights reserved."
   ]
  }
 ],
 "metadata": {
  "anaconda-cloud": {},
  "kernelspec": {
   "display_name": "Python 3 (ipykernel)",
   "language": "python",
   "name": "python3"
  },
  "language_info": {
   "codemirror_mode": {
    "name": "ipython",
    "version": 3
   },
   "file_extension": ".py",
   "mimetype": "text/x-python",
   "name": "python",
   "nbconvert_exporter": "python",
   "pygments_lexer": "ipython3",
   "version": "3.9.13"
  },
  "latex_envs": {
   "bibliofile": "biblio.bib",
   "cite_by": "apalike",
   "current_citInitial": 1,
   "eqLabelWithNumbers": true,
   "eqNumInitial": 0
  },
  "nav_menu": {},
  "toc": {
   "base_numbering": 1,
   "nav_menu": {},
   "number_sections": false,
   "sideBar": true,
   "skip_h1_title": false,
   "title_cell": "Contents of Notebook",
   "title_sidebar": "Contents",
   "toc_cell": true,
   "toc_position": {},
   "toc_section_display": false,
   "toc_window_display": true
  }
 },
 "nbformat": 4,
 "nbformat_minor": 4
}
