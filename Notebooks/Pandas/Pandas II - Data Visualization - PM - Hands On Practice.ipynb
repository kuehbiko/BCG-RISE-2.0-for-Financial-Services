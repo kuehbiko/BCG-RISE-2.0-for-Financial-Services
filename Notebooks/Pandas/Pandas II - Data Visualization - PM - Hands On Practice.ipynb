{
 "cells": [
  {
   "cell_type": "markdown",
   "metadata": {},
   "source": [
    "<table class=\"table table-bordered\">\n",
    "    <tr>\n",
    "        <th style=\"width:200px;\">\n",
    "            <img src='https://bcgriseacademy.com/hs-fs/hubfs/RISE%202.0%20Logo_Options_25Jan23_RISE%20-%20For%20Black%20Background.png?width=3522&height=1986&name=RISE%202.0%20Logo_Options_25Jan23_RISE%20-%20For%20Black%20Background.png' style=\"background-color:black; width: 100%; height: 100%;\">\n",
    "        </th>\n",
    "        <th style=\"text-align:center;\">\n",
    "            <h1>IBF TFIP</h1>\n",
    "            <h2>Pandas II - Data Visualization</h2>\n",
    "        </th>\n",
    "    </tr>\n",
    "</table>"
   ]
  },
  {
   "cell_type": "markdown",
   "metadata": {},
   "source": [
    "# Learning Objectives\n",
    "#### After completing this lesson, you should be able to:\n",
    "\n",
    "1. LO1 : Understand Data Visualization with Pandas\n",
    "2. LO2 : Understand Data Exploration using data visualization packages\n",
    "3. LO3 : Apply Pandas libraries to create visualizations\n"
   ]
  },
  {
   "cell_type": "markdown",
   "metadata": {},
   "source": [
    "# Table of Contents <a id='tc'></a>\n",
    "\n",
    "1. [Plotting Visualization with Pandas](#p1)\n",
    "2. [[Optional] Plotting Visualization with Plotly](#p2)\n",
    "3. [Data Exploration](#p3)\n",
    "4. [Hands-On Practice Exercise](#p4)\n",
    "4. [Kahoot Quiz](#)"
   ]
  },
  {
   "cell_type": "markdown",
   "metadata": {},
   "source": [
    "# 1. Plotting Visualization with Pandas <a id='p1' />\n",
    "\n",
    "matplotlib is a relatively *low-level* plotting package, relative to others. It makes very few assumptions about what constitutes good layout (by design), but has a lot of flexibility to allow the user to completely customize the look of the output.\n",
    "\n",
    "On the other hand, Pandas includes methods for DataFrame and Series objects that are relatively high-level, and that make reasonable assumptions about how the plot should look."
   ]
  },
  {
   "cell_type": "code",
   "execution_count": null,
   "metadata": {},
   "outputs": [],
   "source": [
    "# Import the required libraries\n",
    "import pandas as pd\n",
    "import numpy as np"
   ]
  },
  {
   "cell_type": "code",
   "execution_count": null,
   "metadata": {},
   "outputs": [],
   "source": [
    "normals = pd.Series(np.random.normal(size=10))\n",
    "normals.plot()"
   ]
  },
  {
   "cell_type": "markdown",
   "metadata": {},
   "source": [
    "Notice that by default a line plot is drawn, and light background is included. These decisions were made on your behalf by pandas.\n",
    "\n",
    "However, all of this can be changed:"
   ]
  },
  {
   "cell_type": "code",
   "execution_count": null,
   "metadata": {},
   "outputs": [],
   "source": [
    "normals.cumsum().plot(grid=True) #The cumsum() method is a pandas function that calculates the cumulative sum of the elements in a series or dataframe. "
   ]
  },
  {
   "cell_type": "markdown",
   "metadata": {},
   "source": [
    "## 1.1 Plotting on DataFrame"
   ]
  },
  {
   "cell_type": "code",
   "execution_count": null,
   "metadata": {},
   "outputs": [],
   "source": [
    "variables = pd.DataFrame({'normal': np.random.normal(size=100), \n",
    "                       'gamma': np.random.gamma(1, size=100), \n",
    "                       'poisson': np.random.poisson(size=100)})\n",
    "variables.cumsum(0).plot()"
   ]
  },
  {
   "cell_type": "markdown",
   "metadata": {},
   "source": [
    "As an illustration of the high-level nature of Pandas plots, we can split multiple series into subplots with a single argument for `plot`:"
   ]
  },
  {
   "cell_type": "code",
   "execution_count": null,
   "metadata": {},
   "outputs": [],
   "source": [
    "variables.cumsum(0).plot(subplots=True, grid=True)"
   ]
  },
  {
   "cell_type": "markdown",
   "metadata": {},
   "source": [
    "Or, we may want to have some series displayed on the secondary y-axis, which can allow for greater detail and less empty space:"
   ]
  },
  {
   "cell_type": "code",
   "execution_count": null,
   "metadata": {},
   "outputs": [],
   "source": [
    "variables.cumsum(0).plot(secondary_y='normal', grid=True)"
   ]
  },
  {
   "cell_type": "markdown",
   "metadata": {},
   "source": [
    "If we would like a little more control, we can use matplotlib's `subplots` function directly, and manually assign plots to its axes:"
   ]
  },
  {
   "cell_type": "code",
   "execution_count": null,
   "metadata": {},
   "outputs": [],
   "source": [
    "import matplotlib.pyplot as plt\n",
    "fig, axes = plt.subplots(nrows=1, ncols=3, figsize=(12, 4))\n",
    "for i,var in enumerate(['normal','gamma','poisson']):\n",
    "    variables[var].cumsum(0).plot(ax=axes[i], title=var)\n",
    "axes[0].set_ylabel('cumulative sum')"
   ]
  },
  {
   "cell_type": "markdown",
   "metadata": {},
   "source": [
    "## 1.2 Bar plots \n",
    "\n",
    "Bar plots are useful for displaying and comparing measurable quantities, such as counts or volumes. In Pandas, we just use the `plot` method with a `kind='bar'` argument.\n",
    "\n",
    "For this series of examples, let's load up the Titanic dataset:"
   ]
  },
  {
   "cell_type": "code",
   "execution_count": null,
   "metadata": {},
   "outputs": [],
   "source": [
    "titanic = pd.read_excel(\"./data/titanic.xls\", \"titanic\")\n",
    "titanic.head()"
   ]
  },
  {
   "cell_type": "markdown",
   "metadata": {},
   "source": [
    "### 1.2.1 Vertical Bar Chart"
   ]
  },
  {
   "cell_type": "code",
   "execution_count": null,
   "metadata": {},
   "outputs": [],
   "source": [
    "titanic.groupby('pclass').survived.sum().plot.bar()"
   ]
  },
  {
   "cell_type": "markdown",
   "metadata": {},
   "source": [
    "### 1.2.2 Horizontal Bar Chart"
   ]
  },
  {
   "cell_type": "code",
   "execution_count": null,
   "metadata": {},
   "outputs": [],
   "source": [
    "titanic.groupby(['sex','pclass']).survived.sum().plot.barh()"
   ]
  },
  {
   "cell_type": "markdown",
   "metadata": {},
   "source": [
    "### 1.2.3 Stacked Bar Chart"
   ]
  },
  {
   "cell_type": "code",
   "execution_count": null,
   "metadata": {},
   "outputs": [],
   "source": [
    "death_counts = pd.crosstab([titanic.pclass, titanic.sex], titanic.survived.astype(bool))\n",
    "death_counts.plot.bar(stacked=True, color=['black','gold'], grid=True)"
   ]
  },
  {
   "cell_type": "markdown",
   "metadata": {},
   "source": [
    "### 1.2.4 Stacked Bar Chart (%)"
   ]
  },
  {
   "cell_type": "markdown",
   "metadata": {},
   "source": [
    "Another way of comparing the groups is to look at the survival *rate*, by adjusting for the number of people in each group."
   ]
  },
  {
   "cell_type": "code",
   "execution_count": null,
   "metadata": {},
   "outputs": [],
   "source": [
    "death_counts.div(death_counts.sum(1).astype(float), axis=0).plot.barh(stacked=True, color=['black','gold'])"
   ]
  },
  {
   "cell_type": "markdown",
   "metadata": {},
   "source": [
    "## 1.3 Histograms\n",
    "\n",
    "Frequently it is useful to look at the *distribution* of data before you analyze it. Histograms are a sort of bar graph that displays relative frequencies of data values; hence, the y-axis is always some measure of frequency. This can either be raw counts of values or scaled proportions.\n",
    "\n",
    "For example, we might want to see how the fares were distributed aboard the titanic:"
   ]
  },
  {
   "cell_type": "code",
   "execution_count": null,
   "metadata": {},
   "outputs": [],
   "source": [
    "titanic.fare.hist(grid=False)"
   ]
  },
  {
   "cell_type": "markdown",
   "metadata": {},
   "source": [
    "The `hist` method puts the continuous fare values into **bins**, trying to make a sensible decision about how many bins to use (or equivalently, how wide the bins are). We can override the default value (10):"
   ]
  },
  {
   "cell_type": "code",
   "execution_count": null,
   "metadata": {},
   "outputs": [],
   "source": [
    "titanic.fare.hist(bins=30)"
   ]
  },
  {
   "cell_type": "markdown",
   "metadata": {},
   "source": [
    "A **density plot** is similar to a histogram in that it describes the distribution of the underlying data, but rather than being a pure empirical representation, it is an *estimate* of the underlying \"true\" distribution. As a result, it is smoothed into a continuous line plot. We create them in Pandas using the `plot` method with `kind='kde'`, where `kde` stands for **kernel density estimate**."
   ]
  },
  {
   "cell_type": "code",
   "execution_count": null,
   "metadata": {},
   "outputs": [],
   "source": [
    "titanic.fare.dropna().plot.kde(xlim=(0,600))"
   ]
  },
  {
   "cell_type": "markdown",
   "metadata": {},
   "source": [
    "Often, histograms and density plots are shown together:"
   ]
  },
  {
   "cell_type": "code",
   "execution_count": null,
   "metadata": {},
   "outputs": [],
   "source": [
    "titanic.fare.hist(bins=30, density=True, color='lightseagreen')\n",
    "titanic.fare.dropna().plot.kde(xlim=(0,600), style='r--')"
   ]
  },
  {
   "cell_type": "markdown",
   "metadata": {},
   "source": [
    "Here, we had to normalize the histogram (`density=True`), since the kernel density is normalized by definition (it is a probability distribution).\n",
    "\n",
    "- `density=True` represents the frequency distribution\n",
    "- `density=False` represents the probability density distribution"
   ]
  },
  {
   "cell_type": "markdown",
   "metadata": {},
   "source": [
    "We will explore kernel density estimates more in the next section."
   ]
  },
  {
   "cell_type": "markdown",
   "metadata": {},
   "source": [
    "## 1.4 Boxplots\n",
    "\n",
    "A different way of visualizing the distribution of data is the boxplot, which is a display of common quantiles; these are typically the quartiles and the lower and upper 5 percent values."
   ]
  },
  {
   "cell_type": "code",
   "execution_count": null,
   "metadata": {},
   "outputs": [],
   "source": [
    "titanic.boxplot(column='fare', by='pclass', grid=False)"
   ]
  },
  {
   "cell_type": "markdown",
   "metadata": {},
   "source": [
    "You can think of the box plot as viewing the distribution from above. The blue crosses are \"outlier\" points that occur outside the extreme quantiles."
   ]
  },
  {
   "cell_type": "markdown",
   "metadata": {},
   "source": [
    "One way to add additional information to a boxplot is to overlay the actual data; this is generally most suitable with small- or moderate-sized data series."
   ]
  },
  {
   "cell_type": "code",
   "execution_count": null,
   "metadata": {},
   "outputs": [],
   "source": [
    "bp = titanic.boxplot(column='age', by='pclass', grid=False)\n",
    "for i in [1,2,3]:\n",
    "    y = titanic.age[titanic.pclass==i].dropna()\n",
    "    # Add some random \"jitter\" to the x-axis\n",
    "    x = np.random.normal(i, 0.04, size=len(y))\n",
    "    plt.plot(x, y.values, 'r.', alpha=0.2)"
   ]
  },
  {
   "cell_type": "markdown",
   "metadata": {},
   "source": [
    "When data are dense, a couple of tricks used above help the visualization:\n",
    "\n",
    "1. reducing the alpha level to make the points partially transparent\n",
    "2. adding random \"jitter\" along the x-axis to avoid overstriking"
   ]
  },
  {
   "cell_type": "markdown",
   "metadata": {},
   "source": [
    "## 1.5 Scatterplots <a id='p3.4' />\n",
    "\n",
    "To look at how Pandas does scatterplots, let's look at a small dataset in wine chemistry."
   ]
  },
  {
   "cell_type": "code",
   "execution_count": null,
   "metadata": {},
   "outputs": [],
   "source": [
    "wine = pd.read_table(\"./data/wine.data\", sep=',')\n",
    "\n",
    "attributes = ['Grape',\n",
    "              'Alcohol',\n",
    "              'Malic acid',\n",
    "              'Ash',\n",
    "              'Alcalinity of ash',\n",
    "              'Magnesium',\n",
    "              'Total phenols',\n",
    "              'Flavanoids',\n",
    "              'Nonflavanoid phenols',\n",
    "              'Proanthocyanins',\n",
    "              'Color intensity',\n",
    "              'Hue',\n",
    "              'OD280/OD315 of diluted wines',\n",
    "              'Proline']\n",
    "\n",
    "wine.columns = attributes"
   ]
  },
  {
   "cell_type": "markdown",
   "metadata": {},
   "source": [
    "Scatterplots are useful for data exploration, where we seek to uncover relationships among variables."
   ]
  },
  {
   "cell_type": "code",
   "execution_count": null,
   "metadata": {},
   "outputs": [],
   "source": [
    "wine.plot.scatter('Color intensity', 'Hue')"
   ]
  },
  {
   "cell_type": "markdown",
   "metadata": {},
   "source": [
    "We can add additional information to scatterplots by assigning variables to either the size of the symbols or their colors."
   ]
  },
  {
   "cell_type": "code",
   "execution_count": null,
   "metadata": {},
   "outputs": [],
   "source": [
    "wine.plot.scatter('Color intensity', 'Hue', s=wine.Alcohol*100, alpha=0.5)"
   ]
  },
  {
   "cell_type": "code",
   "execution_count": null,
   "metadata": {},
   "outputs": [],
   "source": [
    "wine.plot.scatter('Color intensity', 'Hue', c=wine.Grape)"
   ]
  },
  {
   "cell_type": "code",
   "execution_count": null,
   "metadata": {},
   "outputs": [],
   "source": [
    "wine.plot.scatter('Color intensity', 'Hue', c=wine.Alcohol*100, cmap='hot')"
   ]
  },
  {
   "cell_type": "markdown",
   "metadata": {},
   "source": [
    "To view scatterplots of a large numbers of variables simultaneously, we can use the `scatter_matrix` function that was recently added to Pandas. It generates a matrix of pair-wise scatterplots, optionally with histograms or kernel density estimates on the diagonal."
   ]
  },
  {
   "cell_type": "code",
   "execution_count": null,
   "metadata": {},
   "outputs": [],
   "source": [
    "_ = pd.plotting.scatter_matrix(wine.loc[:, 'Alcohol':'Flavanoids'], figsize=(14,14), diagonal='kde')"
   ]
  },
  {
   "cell_type": "markdown",
   "metadata": {},
   "source": [
    "# 2. [Optional] Data Visualization with Plotly <a id='p2' />\n",
    "\n",
    "Plotly is a data visualization library that provides interactive and high-quality visualizations in various programming languages, including Python, R, JavaScript, and Julia. It is widely used for creating interactive web-based dashboards, charts, and plots for data analysis and presentation.\n",
    "\n",
    "Some key features of Plotly include:\n",
    "\n",
    "`Interactive Visualizations:` Plotly generates interactive plots that allow users to explore and interact with the data. The plots are rendered using web-based technologies like D3.js, which enables interactive features such as zooming, panning, hovering, and data point selection.\n",
    "\n",
    "`Wide Range of Plot Types:` Plotly supports a wide variety of plot types, including scatter plots, line plots, bar plots, histograms, pie charts, 3D plots, heatmaps, box plots, and more. It also provides specialized plots for geospatial data visualization.\n",
    "\n",
    "`Flexible Configuration:` Plotly offers a high degree of customization for visual elements like colors, labels, markers, annotations, and layouts. Users have fine-grained control over the appearance and style of the plots.\n",
    "\n",
    "`Seamless Integration:` Plotly can be easily integrated with popular data analysis libraries like Pandas and NumPy in Python. It also integrates well with Jupyter Notebooks, allowing for interactive data exploration and analysis.\n",
    "\n",
    "`Dashboard Creation:` Plotly is commonly used for creating interactive dashboards and web applications that can be shared and accessed online. These dashboards can contain multiple plots, charts, and visualizations to present complex data insights.\n",
    "\n",
    "`Collaboration and Sharing:` Plotly offers cloud-based services that enable users to share their visualizations and dashboards with others. It supports collaboration and allows users to work together on projects.\n",
    "\n",
    "`Cross-platform Compatibility:` Plotly supports multiple programming languages, making it easy to create and share visualizations across different platforms and environments.\n"
   ]
  },
  {
   "cell_type": "markdown",
   "metadata": {},
   "source": [
    "## 2.1 Plotly Express\n",
    "\n",
    "Plotly Express is a high-level data visualization library in Python that is built on top of the Plotly library. It provides a simple and concise syntax for creating interactive and visually appealing plots and charts. Plotly Express is designed to make it easy for users to create complex visualizations with minimal code and effort.\n",
    "\n",
    "Some key features of Plotly Express include:\n",
    "\n",
    "`Easy-to-use API:` Plotly Express provides a wide range of functions for creating various types of plots, such as scatter plots, line plots, bar plots, histograms, pie charts, box plots, and more. These functions have a simple and intuitive syntax that allows users to create plots with just a few lines of code.\n",
    "\n",
    "`Interactive Visualizations:` Plotly Express generates interactive plots that can be explored and manipulated by the user. The plots are rendered using the Plotly JavaScript library, which allows for interactive features like zooming, panning, hovering, and data point selection.\n",
    "\n",
    "`Wide Range of Plot Types:` Plotly Express supports a wide variety of plot types, making it suitable for different types of data and analysis. It provides support for both 2D and 3D plots, as well as specialized plots for geospatial data.\n",
    "\n",
    "`Faceting and Subplots:` Plotly Express allows users to create faceted plots and subplots, which are useful for visualizing multiple aspects of the data side by side.\n",
    "\n",
    "`Easy Customization:` While Plotly Express provides a simple API for creating plots, it also allows for fine-grained customization. Users can easily modify various aspects of the plot, such as color, size, labels, annotations, and more.\n",
    "\n",
    "`Seamless Integration:` Plotly Express can be easily integrated with other Python libraries like Pandas, NumPy, and SciPy, making it a powerful tool for data analysis and visualization.\n",
    "\n",
    "We are goining to use **Plotly Express** for this session."
   ]
  },
  {
   "cell_type": "code",
   "execution_count": null,
   "metadata": {},
   "outputs": [],
   "source": [
    "# Importing the libraries\n",
    "import numpy as np \n",
    "import pandas as pd \n",
    "import plotly.express as px"
   ]
  },
  {
   "cell_type": "markdown",
   "metadata": {},
   "source": [
    "## 2.2 Scatterplots using Plotly"
   ]
  },
  {
   "cell_type": "code",
   "execution_count": null,
   "metadata": {},
   "outputs": [],
   "source": [
    "x=[0, 1, 2, 3, 4, 5, 6]\n",
    "y=[0, 2, 4, 5, 5.5, 7, 9]\n",
    "fig = px.scatter(x, y)\n",
    "fig.show()"
   ]
  },
  {
   "cell_type": "markdown",
   "metadata": {},
   "source": [
    "Creating a visualization with Plotly is that easy! Plotly stands out for its remarkable interactivity, making the plots truly engaging and user-friendly. By simply hovering over the plots, we can access precise data values and other relevant information. "
   ]
  },
  {
   "cell_type": "code",
   "execution_count": null,
   "metadata": {},
   "outputs": [],
   "source": [
    "# We will now use the 'iris dataset' from sklearn and create scatter plot to understand the data relationships\n",
    "\n",
    "from sklearn import datasets\n",
    "iris = datasets.load_iris()\n",
    "\n",
    "df = pd.DataFrame(data = iris.data, columns = iris.feature_names)\n",
    "# adding the species\n",
    "df['species'] = iris.target\n",
    "df['species'] = df['species'].map({0:'Setosa', 1:'Virginica', 2:'Versicolor'})\n",
    "\n",
    "df.head()"
   ]
  },
  {
   "cell_type": "code",
   "execution_count": null,
   "metadata": {},
   "outputs": [],
   "source": [
    "# creating a scatter plot from the data\n",
    "fig = px.scatter(df, x=\"sepal length (cm)\", y=\"petal length (cm)\")\n",
    "fig.show()"
   ]
  },
  {
   "cell_type": "markdown",
   "metadata": {},
   "source": [
    "We can see a positive relationship between sepal length and sepal width."
   ]
  },
  {
   "cell_type": "code",
   "execution_count": null,
   "metadata": {},
   "outputs": [],
   "source": [
    "# adding some styles to the plot\n",
    "fig = px.scatter(df, y=\"petal length (cm)\", x=\"petal width (cm)\", color=\"species\", symbol=\"species\")\n",
    "fig.update_traces(marker_size=10)"
   ]
  },
  {
   "cell_type": "markdown",
   "metadata": {},
   "source": [
    "## 2.3 Lineplots using Plotly"
   ]
  },
  {
   "cell_type": "code",
   "execution_count": null,
   "metadata": {},
   "outputs": [],
   "source": [
    "x = np.linspace(0, 10, 1000)\n",
    "y= 3*x**2 - 2*x**2 + 4*x- 5\n",
    "fig = px.line(x=x ,y =y,labels={'x':'x', 'y':'y'})\n",
    "fig.show()"
   ]
  },
  {
   "cell_type": "code",
   "execution_count": null,
   "metadata": {},
   "outputs": [],
   "source": [
    "# add some stocks data from plotly\n",
    "df = px.data.stocks()\n",
    "fig = px.line(df, x='date', y=\"MSFT\")\n",
    "fig.show()"
   ]
  },
  {
   "cell_type": "code",
   "execution_count": null,
   "metadata": {},
   "outputs": [],
   "source": [
    "# Adding trend of more stocks to the plot\n",
    "df = px.data.stocks()\n",
    "fig = px.line(df, x='date', y=[\"MSFT\",\"GOOG\",'FB',\"AMZN\"])\n",
    "fig.show()"
   ]
  },
  {
   "cell_type": "markdown",
   "metadata": {},
   "source": [
    "## 2.4 Barplots using Plotly"
   ]
  },
  {
   "cell_type": "code",
   "execution_count": null,
   "metadata": {},
   "outputs": [],
   "source": [
    "# adding some data and plotting the barplots\n",
    "df = px.data.gapminder().query(\"country == 'Australia'\")\n",
    "fig = px.bar(df, x='year', y='pop')\n",
    "fig.show()"
   ]
  },
  {
   "cell_type": "code",
   "execution_count": null,
   "metadata": {},
   "outputs": [],
   "source": [
    "# we can add more details by creating a stack bar chart as well\n",
    "df = px.data.gapminder().query(\"continent == 'Oceania'\")\n",
    "fig = px.bar(df, x='year', y='pop',barmode='stack',color='country')\n",
    "fig.show()"
   ]
  },
  {
   "cell_type": "markdown",
   "metadata": {},
   "source": [
    "The above chart shows us the population of Australia and New Zealand. We can also try to see the life expectancy of these countries.\n",
    "\n"
   ]
  },
  {
   "cell_type": "code",
   "execution_count": null,
   "metadata": {},
   "outputs": [],
   "source": [
    "fig = px.bar(df, x='year', y='lifeExp',barmode='stack',color='country')\n",
    "fig.show()"
   ]
  },
  {
   "cell_type": "markdown",
   "metadata": {},
   "source": [
    "Let us plot the populations of the most populous nations in Asia."
   ]
  },
  {
   "cell_type": "code",
   "execution_count": null,
   "metadata": {},
   "outputs": [],
   "source": [
    "#uniform text size\n",
    "df = px.data.gapminder().query(\"continent == 'Asia' and year == 2007and pop > 8000000\")\n",
    "fig = px.bar(df, y='pop', x='country', text='pop')\n",
    "fig.update_traces(texttemplate='%{text:.2s}', textposition='outside')\n",
    "fig.show()"
   ]
  },
  {
   "cell_type": "markdown",
   "metadata": {},
   "source": [
    "## 2.5 Pie charts using Plotly"
   ]
  },
  {
   "cell_type": "code",
   "execution_count": null,
   "metadata": {},
   "outputs": [],
   "source": [
    "# adding some data\n",
    "df = px.data.tips()\n",
    "fig = px.pie(df, values='tip', names='day')\n",
    "fig.show()"
   ]
  },
  {
   "cell_type": "code",
   "execution_count": null,
   "metadata": {},
   "outputs": [],
   "source": [
    "# adding colors\n",
    "df = px.data.tips()\n",
    "fig = px.pie(df, values='tip', names='day', color_discrete_sequence=px.colors.sequential.RdBu)\n",
    "fig.show()"
   ]
  },
  {
   "cell_type": "markdown",
   "metadata": {},
   "source": [
    "# 3. Data Exploration <a id='p3' />\n",
    "\n",
    "1. In statistics, exploratory data analysis (EDA) is an approach analyzing data sets to summarize their main characteristics, often with visual methods\n",
    "\n",
    "2. Primarily, EDA is for seeing what the data can tell us beyond the formal modelling or hypothesis testing task\n",
    "\n",
    "3. EDA can be done individually per variable (Univariate) or to analyze relations between pairs or even groups of variables (Multivariate)"
   ]
  },
  {
   "cell_type": "markdown",
   "metadata": {},
   "source": [
    "<b>Univariate Analysis</b>\n",
    "\n",
    "Univariate analysis involves analyzing a single variable at a time.\n",
    "It doesn’t deal with causes or relationships.\n",
    "\n",
    "There are several options for describing data with univariate analysis such as\n",
    "1. Frequency Distribution Tables\n",
    "2. Histograms\n",
    "3. Frequency Polygons\n",
    "4. Box plots\n",
    "\n",
    "\n",
    "Some ways of describing patterns found in univariate data include\n",
    "1. Central tendency (mean, mode and median), and \n",
    "2. Dispersion: range, maximum, minimum and standard deviation\n"
   ]
  },
  {
   "cell_type": "markdown",
   "metadata": {},
   "source": [
    "<b>Bivariate analysis</b>\n",
    "\n",
    "Bivariate analysis involves analyzing the relationship between a pair of variables.\n",
    "The analyses could be between the independent and all dependent variables or between pairs of dependent variables.\n",
    "\n",
    "Several options for describing data with bivariate analysis are mentioned below- \n",
    "1. Scatter Plots\n",
    "2. Regression\n",
    "3. Correlation"
   ]
  },
  {
   "cell_type": "markdown",
   "metadata": {},
   "source": [
    "<b>Let us take an example and explore both univariate and bivariate plots in detail. </b>\n",
    "\n",
    "<b> Importing packages</b>"
   ]
  },
  {
   "cell_type": "code",
   "execution_count": null,
   "metadata": {},
   "outputs": [],
   "source": [
    "# Import packages\n",
    "import pandas as pd\n",
    "import numpy as np\n",
    "import seaborn as sns\n",
    "import matplotlib\n",
    "from matplotlib import pyplot as plt\n",
    "import warnings\n",
    "warnings.filterwarnings('ignore')"
   ]
  },
  {
   "cell_type": "markdown",
   "metadata": {},
   "source": [
    "<b> Loading the data and looking at a sample</b>"
   ]
  },
  {
   "cell_type": "code",
   "execution_count": null,
   "metadata": {},
   "outputs": [],
   "source": [
    "#loading the dataset and looking at the sample\n",
    "sales_data = pd.read_csv(\"./data/SalesKaggle.csv\")\n",
    "sales_data.head()"
   ]
  },
  {
   "cell_type": "markdown",
   "metadata": {},
   "source": [
    "<b>Here are the definitions for a few of the columns:</b>\n",
    "1. <b>File_Type</b>: The value “Active\" means that the particular product needs investigation\n",
    "2. <b>SoldFlag</b>: The value 1 = sale, 0 = no sale in past six months\n",
    "3. <b>SKU_number</b>: This is the unique identifier for each product.\n",
    "4. <b>Order</b>: Just a sequential counter. Can be ignored.\n",
    "5. <b>SoldFlag</b>: 1 = sold in past 6 mos. 0 = Not sold\n",
    "6. <b>MarketingType</b>: Two categories of how we market the product.\n",
    "7. <b>New_Release_Flag</b>: Any product that has had a future release (i.e., Release Number > 1)"
   ]
  },
  {
   "cell_type": "markdown",
   "metadata": {},
   "source": [
    "<b>Looking at # of records by File_Type</b>"
   ]
  },
  {
   "cell_type": "code",
   "execution_count": null,
   "metadata": {},
   "outputs": [],
   "source": [
    "#looking at # of records by File_Type\n",
    "sales_data['File_Type'].value_counts()"
   ]
  },
  {
   "cell_type": "markdown",
   "metadata": {},
   "source": [
    "<b>Let's explore all descriptive statistics like mean, median, percentiles for the above dataset.</b>\n",
    "\n",
    "<mark style=\"background-color:#ADD8E6;\">Adding the 'include' parameter to 'describe' gives the output for all columns and not just numerical columns.</mark>"
   ]
  },
  {
   "cell_type": "code",
   "execution_count": null,
   "metadata": {},
   "outputs": [],
   "source": [
    "sales_data.describe(include='all').transpose()"
   ]
  },
  {
   "cell_type": "markdown",
   "metadata": {},
   "source": [
    "As can be seen, for the categorical variables the output contains the <b># of unique values</b>, <b>the most frequent value</b> and <b>the frequency for the most frequent value</b>.\n",
    "\n",
    "The above table gives <b>mode</b> (most frequent value) only for categorical variables. If you want to look at the mode for a numerical column, use below code:"
   ]
  },
  {
   "cell_type": "code",
   "execution_count": null,
   "metadata": {},
   "outputs": [],
   "source": [
    "sales_data['ReleaseYear'].mode()"
   ]
  },
  {
   "cell_type": "markdown",
   "metadata": {},
   "source": [
    " "
   ]
  },
  {
   "cell_type": "markdown",
   "metadata": {},
   "source": [
    "## 3.1 Univariate analysis <a id='p4.1' />\n",
    "The univariate distribution plots help us to study a single variable and determine its characteristic.\n",
    "\n",
    "Below codes give frequency plots, histograms and boxplots for various variables."
   ]
  },
  {
   "cell_type": "markdown",
   "metadata": {},
   "source": [
    "### 3.1.1 Categorical variables\n",
    "\n",
    "For categorical columns we plot frequency distribution, which is commonly used for representing categorical data using rectangular bars with value counts of the categorical values. \n",
    "\n",
    "<mark>Example, we have two types of marketing (S and D) and two types of Files (Active and Historical) and the bar plot shows the # of records split by the categorical variable.</mark>"
   ]
  },
  {
   "cell_type": "code",
   "execution_count": null,
   "metadata": {},
   "outputs": [],
   "source": [
    "sales_data['MarketingType'].value_counts().plot.bar(title=\"Freq dist of Marketing Type\")"
   ]
  },
  {
   "cell_type": "code",
   "execution_count": null,
   "metadata": {},
   "outputs": [],
   "source": [
    "sales_data['File_Type'].value_counts().plot.bar(title=\"Freq dist of File Type\")"
   ]
  },
  {
   "cell_type": "markdown",
   "metadata": {},
   "source": [
    "Similarly, by changing the column name in the code above, we can analyze every categorical column."
   ]
  },
  {
   "cell_type": "markdown",
   "metadata": {},
   "source": [
    "### 3.1.2 Numerical variables\n",
    "    \n",
    "Below is the code to plot the univariate distribution of the numerical columns which contains the histograms and the estimated PDF."
   ]
  },
  {
   "cell_type": "code",
   "execution_count": null,
   "metadata": {},
   "outputs": [],
   "source": [
    "#selecting 5 columns for readability\n",
    "col_names = ['StrengthFactor','PriceReg', 'ReleaseYear', 'ItemCount', 'LowUserPrice']\n",
    "\n",
    "fig, ax = plt.subplots(len(col_names), figsize=(10,10))\n",
    "plt.tight_layout()\n",
    "for i, col_val in enumerate(col_names):\n",
    "\n",
    "    sns.distplot(sales_data[col_val], hist=True, ax=ax[i])\n",
    "    ax[i].set_xlabel(col_val, fontsize=8)\n",
    "    ax[i].set_ylabel('Count', fontsize=8)\n",
    "\n",
    "plt.show()"
   ]
  },
  {
   "cell_type": "markdown",
   "metadata": {},
   "source": [
    "We can see that except ReleaseYear column every other column is skewed to the left which indicates most of the values lie in the lower range values and vice versa in the case of a ReleaseYear attribute."
   ]
  },
  {
   "attachments": {
    "image.png": {
     "image/png": "[encoded data removed]"
    }
   },
   "cell_type": "markdown",
   "metadata": {},
   "source": [
    "<b>Boxplots</b>\n",
    "\n",
    "For numerical columns, we can also use Boxplots to summarize their distribution.\n",
    "\n",
    "<b>Components of  Boxplot</b>\n",
    "1. The Box in the middle is made of quartiles Q1 and Q3 with the band in between representing the median (or Q2)\n",
    " - The first quartile (Q1) is the value such that one quarter (25%) of the data points fall below it, or the median of the bottom half of the data\n",
    " - The third quartile (Q3) is the value such that three quarters (75%) of the data points fall below it, or the median of the top half of the data.\n",
    " - Difference between the above two is known as Interquartile range (IQR)\n",
    "2. The two lines outside of the box are known as Whiskers\n",
    " - In a plot made using seaborn package, the whiskers represent Q3 + 1.5\\*IQR and Q1 - 1.5\\*IQR\n",
    " \n",
    "\n",
    "![image.png](attachment:image.png)\n",
    "\n",
    "<b>Plotting a boxplot</b>\n",
    "\n",
    "The inner box with the median in between, and the two whiskers can be seen in the chart below."
   ]
  },
  {
   "cell_type": "code",
   "execution_count": null,
   "metadata": {},
   "outputs": [],
   "source": [
    "plt.figure(figsize=(4,8))\n",
    "\n",
    "sns.boxplot(y=sales_data['ItemCount'])"
   ]
  },
  {
   "cell_type": "markdown",
   "metadata": {},
   "source": [
    "## 3.2 Bivariate analysis  <a id='p4.2' />\n",
    "The bivariate distribution plots help us to study the relationship between two variables by analyzing the scatter plot and correlation matrix.\n",
    "\n",
    "### 3.2.1 Scatter plots\n",
    "\n",
    "Below code gives Scatter plots between all pairs of numerical variables as a single chart.\n",
    "\n",
    "<mark style=\"background-color:#ADD8E6;\">pairplot function from Seaborn package plots all possible pairs of numerical variables together in a single chart.</mark>"
   ]
  },
  {
   "cell_type": "code",
   "execution_count": null,
   "metadata": {},
   "outputs": [],
   "source": [
    "import seaborn as sns\n",
    "#selecting 5 columns for readability\n",
    "col_names = ['StrengthFactor','PriceReg', 'ReleaseYear', 'ItemCount', 'LowUserPrice']\n",
    "sales_data_hist = sales_data[['StrengthFactor','PriceReg', 'ReleaseYear', 'ItemCount', 'LowUserPrice']]\n",
    "\n",
    "#Dropping NULLs for the chart\n",
    "sales_data_hist=sales_data_hist.dropna()\n",
    "\n",
    "sns.pairplot(sales_data_hist)"
   ]
  },
  {
   "cell_type": "markdown",
   "metadata": {},
   "source": [
    "### 3.2.2 Joint plots\n",
    "<b>Charts for selected pair of variables can be plotted using below code</b>"
   ]
  },
  {
   "cell_type": "code",
   "execution_count": null,
   "metadata": {},
   "outputs": [],
   "source": [
    "sns.jointplot(x='StrengthFactor',y='ItemCount',data=sales_data_hist)"
   ]
  },
  {
   "cell_type": "markdown",
   "metadata": {},
   "source": [
    "We often look out for scatter plots that follow a clear linear pattern with an either increasing or decreasing slope so that we can draw conclusions, but don’t notice these patterns in this particular dataset.\n",
    "\n",
    "That said, there’s always room to derive other insights that might be useful by comparing the nature of the plots between the variables of interest."
   ]
  },
  {
   "cell_type": "markdown",
   "metadata": {},
   "source": [
    "### 3.2.3 The correlation matrix\n",
    "\n",
    "<b>Correlation coefficients are used in statistics to measure how strong a relationship is between two variables.</b>"
   ]
  },
  {
   "cell_type": "code",
   "execution_count": null,
   "metadata": {},
   "outputs": [],
   "source": [
    "corr = sales_data_hist.corr()\n",
    "corr"
   ]
  },
  {
   "cell_type": "code",
   "execution_count": null,
   "metadata": {},
   "outputs": [],
   "source": [
    "#plotting it as a heatmap\n",
    "f, ax = plt.subplots(figsize=(8, 6))\n",
    "sns.heatmap(corr, annot=True,xticklabels=corr.columns.values, yticklabels=corr.columns.values, cmap='viridis')"
   ]
  },
  {
   "cell_type": "markdown",
   "metadata": {},
   "source": [
    "Above you can see the correlation network of all the variables selected, correlation value lies between -1 to +1. Highly correlated variables will have correlation value close to +1 and less correlated variables will have correlation value close to -1.In this dataset, we don’t see any attributes to be correlated and the diagonal elements of the matrix value are always 1 as we are finding the correlation between the same columns."
   ]
  },
  {
   "cell_type": "markdown",
   "metadata": {},
   "source": [
    "## 3.3 Outlier Detection\n",
    "\n",
    "\n",
    "Outlier is an observation that appears far away and diverges from an overall pattern in a sample.<br/><mark>Example: Census data might show a median monthly household income of INR 70,000 and a mean monthly household income of INR 80,000.\n",
    "But one or two households might have an income of INR 200,000. These cases are identified as outliers</mark>\n",
    "\n",
    "Outliers could be valid data points or could occur due to Data Entry Errors, Measurement Errors, Data Processing Errors, etc.<br/>Outliers must be removed or treated as they could adversely affect the analysis.<br/>\n",
    "\n",
    "\n",
    "The box plot allows us to visually analyze the outliers in the dataset.\n",
    "\n",
    "The key terminology to note here are as follows:\n",
    "1. <b>Range</b>: The range of the data provides us with a measure of spread and is equal to a value between the smallest data point (min) and the largest one (Max).\n",
    "2. <b>Interquartile range (IQR)</b>: the range of the middle 50% of the data.\n",
    " - IQR = Q3 - Q1, the difference between the third and first quartiles\n",
    " - The first quartile (Q1) is the value such that one quarter (25%) of the data points fall below it, or the median of the bottom half of the data\n",
    " - The third quartile is the value such that three quarters (75%) of the data points fall below it, or the median of the top half of the data.\n",
    "\n",
    "The IQR can be used to detect outliers using the 1.5\\*IQR criteria. Outliers are observations that fall below Q1 - 1.5\\*IQR or above Q3 + 1.5\\*IQR."
   ]
  },
  {
   "cell_type": "code",
   "execution_count": null,
   "metadata": {},
   "outputs": [],
   "source": [
    "#plotting a box plot\n",
    "plt.figure(figsize=(4,8))\n",
    "sns.boxplot(y=sales_data['ItemCount'])"
   ]
  },
  {
   "cell_type": "markdown",
   "metadata": {},
   "source": [
    "<b>Let's look at each of the components for the above chart.</b>\n",
    "\n",
    "<mark style=\"background-color:#ADD8E6;\">We will use the 'quantile' method available for a dataframe to get the value at our selected quantile (0.5 is median)</mark>"
   ]
  },
  {
   "cell_type": "code",
   "execution_count": null,
   "metadata": {},
   "outputs": [],
   "source": [
    "ItemCount_q1 = sales_data.quantile(0.25)['ItemCount']\n",
    "ItemCount_median = sales_data.quantile(0.5)['ItemCount']\n",
    "ItemCount_q3 = sales_data.quantile(0.75)['ItemCount']\n",
    "\n",
    "print('Min:',sales_data['ItemCount'].min())\n",
    "print('Q1:',ItemCount_q1)\n",
    "print('Median:',ItemCount_median)\n",
    "print('Q3:',ItemCount_q3)\n",
    "print('Max:',sales_data['ItemCount'].max())"
   ]
  },
  {
   "cell_type": "code",
   "execution_count": null,
   "metadata": {},
   "outputs": [],
   "source": [
    "# IQR\n",
    "ItemCount_iqr = ItemCount_q3-ItemCount_q1\n",
    "print(ItemCount_iqr)"
   ]
  },
  {
   "cell_type": "code",
   "execution_count": null,
   "metadata": {},
   "outputs": [],
   "source": [
    "#Q1 - 1.5*IQR\n",
    "lower_whisker = ItemCount_q1-1.5*ItemCount_iqr\n",
    "print('Q1 - 1.5*IQR:',lower_whisker)"
   ]
  },
  {
   "cell_type": "code",
   "execution_count": null,
   "metadata": {},
   "outputs": [],
   "source": [
    "#Q3 + 1.5*IQR\n",
    "upper_whisker = ItemCount_q3+1.5*ItemCount_iqr\n",
    "print('Q3 + 1.5*IQR:',upper_whisker)"
   ]
  },
  {
   "cell_type": "markdown",
   "metadata": {},
   "source": [
    "Summarizing the above observations:\n",
    "- Our data has a minimum value of 0, which is higher than the lower whisker value, and hence the lower whisker has been plotted at 0 instead\n",
    "- The median (middle line in the box) is plotted at 32\n",
    "- The lower and upper bound of the box in middle are plotted at 50 and 21\n",
    "- The upper whisker has been plotted at 93.5\n",
    "- Data above and below the upper and lower whiskers can be called outliers\n",
    "\n",
    "<b>We will remove the outlier data points and redo the above exercise</b>"
   ]
  },
  {
   "cell_type": "code",
   "execution_count": null,
   "metadata": {},
   "outputs": [],
   "source": [
    "#Removing the outliers\n",
    "ItemCount_cleaned = sales_data[(sales_data['ItemCount'] >= lower_whisker) & (sales_data['ItemCount'] <= upper_whisker)][['ItemCount']]"
   ]
  },
  {
   "cell_type": "markdown",
   "metadata": {},
   "source": [
    "Use the above data array 'ItemCount_cleaned' and plot a Boxplot.\n"
   ]
  },
  {
   "cell_type": "code",
   "execution_count": null,
   "metadata": {},
   "outputs": [],
   "source": [
    "#Box plot code here\n",
    "plt.figure(figsize=(4,8))\n",
    "sns.boxplot(y=ItemCount_cleaned['ItemCount'])"
   ]
  },
  {
   "cell_type": "markdown",
   "metadata": {},
   "source": [
    "Do you see any outliers now? Can you address the reason of still having the outliers?\n",
    "\n",
    "Well, it's because after removing the outliers if we re-calculate the statistical values like Q1, Median, Q3 etc., they will change. Hence, the datapoints above `Q3+1.5*IQR` and below `Q1-1.5*IQR` will also change."
   ]
  },
  {
   "cell_type": "code",
   "execution_count": null,
   "metadata": {},
   "outputs": [],
   "source": [
    "ItemCount_cleaned_q1 = ItemCount_cleaned.quantile(0.25)['ItemCount']\n",
    "ItemCount_cleaned_median = ItemCount_cleaned.quantile(0.5)['ItemCount']\n",
    "ItemCount_cleaned_q3 = ItemCount_cleaned.quantile(0.75)['ItemCount']\n",
    "\n",
    "print('Min:',ItemCount_cleaned['ItemCount'].min())\n",
    "print('Q1:',ItemCount_cleaned_q1)\n",
    "print('Median:',ItemCount_cleaned_median)\n",
    "print('Q3:',ItemCount_cleaned_q3)\n",
    "print('Max:',ItemCount_cleaned['ItemCount'].max())"
   ]
  },
  {
   "cell_type": "markdown",
   "metadata": {},
   "source": [
    "# 4. Hands-On Practice Exercise <a id='p4' />\n",
    "\n",
    "You can use ChatGPT to answer these questions.\n",
    "\n",
    "We will be using the `tips` dataset from seaborn library for **Task 1** to **Task 4**.\n"
   ]
  },
  {
   "cell_type": "code",
   "execution_count": null,
   "metadata": {},
   "outputs": [],
   "source": [
    "# load the dataset\n",
    "tips = sns.load_dataset('tips')\n",
    "tips.head(10)"
   ]
  },
  {
   "cell_type": "markdown",
   "metadata": {},
   "source": [
    "**Task 1: Create a scatter plot of \"total_bill\" vs \"tip\"**"
   ]
  },
  {
   "cell_type": "code",
   "execution_count": null,
   "metadata": {},
   "outputs": [],
   "source": [
    "# Task 1\n"
   ]
  },
  {
   "cell_type": "markdown",
   "metadata": {},
   "source": [
    "**Task 2: Create a box plot of total bills for smokers vs non-smokers**"
   ]
  },
  {
   "cell_type": "code",
   "execution_count": null,
   "metadata": {},
   "outputs": [],
   "source": [
    "# Task 2\n"
   ]
  },
  {
   "cell_type": "markdown",
   "metadata": {},
   "source": [
    "**Task 3: Create a bar plot to show the average total bill for each day of the week.**"
   ]
  },
  {
   "cell_type": "code",
   "execution_count": null,
   "metadata": {},
   "outputs": [],
   "source": [
    "# Task 3"
   ]
  },
  {
   "cell_type": "markdown",
   "metadata": {},
   "source": [
    "**Task 4: Create a count plot to visualize the distribution of customers by gender.**"
   ]
  },
  {
   "cell_type": "code",
   "execution_count": null,
   "metadata": {},
   "outputs": [],
   "source": [
    "# Task 4\n"
   ]
  },
  {
   "cell_type": "markdown",
   "metadata": {},
   "source": [
    "We will be using the `titanic` dataset from seaborn library for **Task 5** to **Task 8**."
   ]
  },
  {
   "cell_type": "code",
   "execution_count": null,
   "metadata": {},
   "outputs": [],
   "source": [
    "# Load the \"titanic\" dataset\n",
    "titanic = sns.load_dataset('titanic')\n",
    "titanic.head(10)"
   ]
  },
  {
   "cell_type": "markdown",
   "metadata": {},
   "source": [
    "**Task 5: Create a pie chart to visualize the distribution of passengers based on their survival status.**"
   ]
  },
  {
   "cell_type": "code",
   "execution_count": null,
   "metadata": {},
   "outputs": [],
   "source": [
    "# Task 5\n"
   ]
  },
  {
   "cell_type": "markdown",
   "metadata": {},
   "source": [
    "**Task 6: Create a histogram for passenger age distribution.**"
   ]
  },
  {
   "cell_type": "code",
   "execution_count": null,
   "metadata": {},
   "outputs": [],
   "source": [
    "# Task 6\n"
   ]
  },
  {
   "cell_type": "markdown",
   "metadata": {},
   "source": [
    "**Task 7: Create a bar chart to show the count of male and female passengers.**"
   ]
  },
  {
   "cell_type": "code",
   "execution_count": null,
   "metadata": {},
   "outputs": [],
   "source": [
    "# Task 7\n"
   ]
  },
  {
   "cell_type": "markdown",
   "metadata": {},
   "source": [
    "**Task 8: Create a box plot to compare the age distribution of survivors and non-survivors.**"
   ]
  },
  {
   "cell_type": "code",
   "execution_count": null,
   "metadata": {},
   "outputs": [],
   "source": [
    "# Task 8\n"
   ]
  },
  {
   "cell_type": "markdown",
   "metadata": {},
   "source": [
    "##### The End\n",
    "[Back to Content](#tc)"
   ]
  },
  {
   "cell_type": "markdown",
   "metadata": {},
   "source": [
    "Copyright © 2023 by Boston Consulting Group. All rights reserved."
   ]
  }
 ],
 "metadata": {
  "anaconda-cloud": {},
  "kernelspec": {
   "display_name": "Python 3 (ipykernel)",
   "language": "python",
   "name": "python3"
  },
  "language_info": {
   "codemirror_mode": {
    "name": "ipython",
    "version": 3
   },
   "file_extension": ".py",
   "mimetype": "text/x-python",
   "name": "python",
   "nbconvert_exporter": "python",
   "pygments_lexer": "ipython3",
   "version": "3.9.13"
  },
  "latex_envs": {
   "bibliofile": "biblio.bib",
   "cite_by": "apalike",
   "current_citInitial": 1,
   "eqLabelWithNumbers": true,
   "eqNumInitial": 0
  },
  "nav_menu": {},
  "toc": {
   "base_numbering": 1,
   "nav_menu": {},
   "number_sections": false,
   "sideBar": true,
   "skip_h1_title": false,
   "title_cell": "Contents of Notebook",
   "title_sidebar": "Contents",
   "toc_cell": true,
   "toc_position": {},
   "toc_section_display": false,
   "toc_window_display": true
  }
 },
 "nbformat": 4,
 "nbformat_minor": 4
}
