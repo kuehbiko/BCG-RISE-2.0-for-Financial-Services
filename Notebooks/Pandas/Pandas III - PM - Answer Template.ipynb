{
 "cells": [
  {
   "cell_type": "markdown",
   "id": "a1db17f3",
   "metadata": {},
   "source": [
    "<table class=\"table table-bordered\">\n",
    "    <tr>\n",
    "        <th style=\"width:200px;\">\n",
    "            <img src='https://bcgriseacademy.com/hs-fs/hubfs/RISE%202.0%20Logo_Options_25Jan23_RISE%20-%20For%20Black%20Background.png?width=3522&height=1986&name=RISE%202.0%20Logo_Options_25Jan23_RISE%20-%20For%20Black%20Background.png' style=\"background-color:black; width: 100%; height: 100%;\">\n",
    "        </th>\n",
    "        <th style=\"text-align:center;\">\n",
    "            <h1>IBF TFIP</h1>\n",
    "            <h2>Pandas III - Answer Template</h2>\n",
    "        </th>\n",
    "    </tr>\n",
    "</table>"
   ]
  },
  {
   "cell_type": "markdown",
   "id": "efcb8c96",
   "metadata": {},
   "source": [
    "# Business Case <a id='p2' />\n",
    "\n",
    "## Client Context\n",
    "\n",
    "Client is a salad making retailer which promotes healthy and conscious eating. The Chief growth officer is responsible for building a good strategy around marketing and operational excellence.\n",
    "\n",
    "\n",
    "## Business Problem\n",
    "\n",
    "The client wants to understand the Sales of the company in details and want you to address some business questions like:\n",
    "- Which platforms/stores/categories generate maximum revenue? \n",
    "- Did weekday sales performed better with respect to weekend in terms of average daily sales (qty)?\n",
    "\n",
    "Furthermore, the client also wants to perform a Market Basket Analysis to see the products that go well together. But this kind of analysis requires the data to be formatted in a particular format. \n",
    "\n",
    "## Data Provided\n",
    "\n",
    "There are multiple data sources around transaction history, price changes, store and category mapping. There is a data dictionary provided as well."
   ]
  },
  {
   "cell_type": "markdown",
   "id": "72760d08",
   "metadata": {},
   "source": [
    "## Data Preprocessing "
   ]
  },
  {
   "cell_type": "code",
   "execution_count": 1,
   "id": "a763a3b5",
   "metadata": {},
   "outputs": [],
   "source": [
    "import pandas as pd"
   ]
  },
  {
   "cell_type": "markdown",
   "id": "40405b47",
   "metadata": {},
   "source": [
    "1. The Dataset provided are in different file formats (xlsx and csv). Load the following files:\n",
    "\n",
    "    * \"Aggregated Data\"\n",
    "    * \"category mapping\"\n",
    "    * \"price change\"\n",
    "    * \"stores mapping\"\n",
    "    * \"Transaction Data\""
   ]
  },
  {
   "cell_type": "code",
   "execution_count": 27,
   "id": "d635eb2a",
   "metadata": {},
   "outputs": [],
   "source": [
    "# insert your code here \n",
    "agg_data_df = pd.read_csv(\"../Data/Aggregated Data.csv\")\n",
    "category_df = pd.read_excel(\"../Data/category mapping.xlsx\", header=0)\n",
    "price_chg_df = pd.read_excel(\"../Data/price change.xlsx\", header=0)\n",
    "stores_df = pd.read_excel(\"../Data/stores mapping.xlsx\", header=0)\n",
    "txn_data_df = pd.read_csv(\"../Data/Transaction Data.csv\")"
   ]
  },
  {
   "cell_type": "code",
   "execution_count": 10,
   "id": "5b2db4cc",
   "metadata": {},
   "outputs": [
    {
     "data": {
      "text/html": [
       "<div>\n",
       "<style scoped>\n",
       "    .dataframe tbody tr th:only-of-type {\n",
       "        vertical-align: middle;\n",
       "    }\n",
       "\n",
       "    .dataframe tbody tr th {\n",
       "        vertical-align: top;\n",
       "    }\n",
       "\n",
       "    .dataframe thead th {\n",
       "        text-align: right;\n",
       "    }\n",
       "</style>\n",
       "<table border=\"1\" class=\"dataframe\">\n",
       "  <thead>\n",
       "    <tr style=\"text-align: right;\">\n",
       "      <th></th>\n",
       "      <th>Brand/Outlet</th>\n",
       "      <th>Item</th>\n",
       "      <th>Platform</th>\n",
       "      <th>Date</th>\n",
       "      <th>Quantity</th>\n",
       "    </tr>\n",
       "  </thead>\n",
       "  <tbody>\n",
       "    <tr>\n",
       "      <th>0</th>\n",
       "      <td>XXX SG - Duo (Extended Delivery)</td>\n",
       "      <td>Banana Cake with Acai Superfruit</td>\n",
       "      <td>DELIVEROO</td>\n",
       "      <td>1-Jan-22</td>\n",
       "      <td>0</td>\n",
       "    </tr>\n",
       "    <tr>\n",
       "      <th>1</th>\n",
       "      <td>XXX SG - Duo (Extended Delivery)</td>\n",
       "      <td>Banana Cake with Acai Superfruit</td>\n",
       "      <td>DELIVEROO</td>\n",
       "      <td>2-Jan-22</td>\n",
       "      <td>0</td>\n",
       "    </tr>\n",
       "    <tr>\n",
       "      <th>2</th>\n",
       "      <td>XXX SG - Duo (Extended Delivery)</td>\n",
       "      <td>Banana Cake with Acai Superfruit</td>\n",
       "      <td>DELIVEROO</td>\n",
       "      <td>3-Jan-22</td>\n",
       "      <td>0</td>\n",
       "    </tr>\n",
       "    <tr>\n",
       "      <th>3</th>\n",
       "      <td>XXX SG - Duo (Extended Delivery)</td>\n",
       "      <td>Banana Cake with Acai Superfruit</td>\n",
       "      <td>DELIVEROO</td>\n",
       "      <td>4-Jan-22</td>\n",
       "      <td>0</td>\n",
       "    </tr>\n",
       "    <tr>\n",
       "      <th>4</th>\n",
       "      <td>XXX SG - Duo (Extended Delivery)</td>\n",
       "      <td>Banana Cake with Acai Superfruit</td>\n",
       "      <td>DELIVEROO</td>\n",
       "      <td>5-Jan-22</td>\n",
       "      <td>0</td>\n",
       "    </tr>\n",
       "  </tbody>\n",
       "</table>\n",
       "</div>"
      ],
      "text/plain": [
       "                       Brand/Outlet                              Item  \\\n",
       "0  XXX SG - Duo (Extended Delivery)  Banana Cake with Acai Superfruit   \n",
       "1  XXX SG - Duo (Extended Delivery)  Banana Cake with Acai Superfruit   \n",
       "2  XXX SG - Duo (Extended Delivery)  Banana Cake with Acai Superfruit   \n",
       "3  XXX SG - Duo (Extended Delivery)  Banana Cake with Acai Superfruit   \n",
       "4  XXX SG - Duo (Extended Delivery)  Banana Cake with Acai Superfruit   \n",
       "\n",
       "    Platform      Date  Quantity  \n",
       "0  DELIVEROO  1-Jan-22         0  \n",
       "1  DELIVEROO  2-Jan-22         0  \n",
       "2  DELIVEROO  3-Jan-22         0  \n",
       "3  DELIVEROO  4-Jan-22         0  \n",
       "4  DELIVEROO  5-Jan-22         0  "
      ]
     },
     "execution_count": 10,
     "metadata": {},
     "output_type": "execute_result"
    }
   ],
   "source": [
    "agg_data_df.head()"
   ]
  },
  {
   "cell_type": "code",
   "execution_count": 19,
   "id": "7b682348",
   "metadata": {},
   "outputs": [
    {
     "data": {
      "text/html": [
       "<div>\n",
       "<style scoped>\n",
       "    .dataframe tbody tr th:only-of-type {\n",
       "        vertical-align: middle;\n",
       "    }\n",
       "\n",
       "    .dataframe tbody tr th {\n",
       "        vertical-align: top;\n",
       "    }\n",
       "\n",
       "    .dataframe thead th {\n",
       "        text-align: right;\n",
       "    }\n",
       "</style>\n",
       "<table border=\"1\" class=\"dataframe\">\n",
       "  <thead>\n",
       "    <tr style=\"text-align: right;\">\n",
       "      <th></th>\n",
       "      <th>Main Item Names</th>\n",
       "      <th>Category</th>\n",
       "    </tr>\n",
       "  </thead>\n",
       "  <tbody>\n",
       "    <tr>\n",
       "      <th>0</th>\n",
       "      <td>Salad</td>\n",
       "      <td>CYO</td>\n",
       "    </tr>\n",
       "    <tr>\n",
       "      <th>1</th>\n",
       "      <td>Hail Caesar</td>\n",
       "      <td>Signature Salads</td>\n",
       "    </tr>\n",
       "    <tr>\n",
       "      <th>2</th>\n",
       "      <td>Wrap</td>\n",
       "      <td>CYO</td>\n",
       "    </tr>\n",
       "    <tr>\n",
       "      <th>3</th>\n",
       "      <td>Warm Grain Bowl</td>\n",
       "      <td>CYO</td>\n",
       "    </tr>\n",
       "    <tr>\n",
       "      <th>4</th>\n",
       "      <td>Tuna San</td>\n",
       "      <td>Signature Salads</td>\n",
       "    </tr>\n",
       "  </tbody>\n",
       "</table>\n",
       "</div>"
      ],
      "text/plain": [
       "   Main Item Names          Category\n",
       "0            Salad               CYO\n",
       "1      Hail Caesar  Signature Salads\n",
       "2             Wrap               CYO\n",
       "3  Warm Grain Bowl               CYO\n",
       "4         Tuna San  Signature Salads"
      ]
     },
     "execution_count": 19,
     "metadata": {},
     "output_type": "execute_result"
    }
   ],
   "source": [
    "category_df.head()"
   ]
  },
  {
   "cell_type": "markdown",
   "id": "62b2e49e",
   "metadata": {},
   "source": [
    "2. Find a suitable way to bring the Aggregated Data, category mapping, price change and stores mapping data together to one master dataset and name the dataframe df. [3%]"
   ]
  },
  {
   "cell_type": "code",
   "execution_count": 23,
   "id": "302f7bb3",
   "metadata": {},
   "outputs": [
    {
     "data": {
      "text/html": [
       "<div>\n",
       "<style scoped>\n",
       "    .dataframe tbody tr th:only-of-type {\n",
       "        vertical-align: middle;\n",
       "    }\n",
       "\n",
       "    .dataframe tbody tr th {\n",
       "        vertical-align: top;\n",
       "    }\n",
       "\n",
       "    .dataframe thead th {\n",
       "        text-align: right;\n",
       "    }\n",
       "</style>\n",
       "<table border=\"1\" class=\"dataframe\">\n",
       "  <thead>\n",
       "    <tr style=\"text-align: right;\">\n",
       "      <th></th>\n",
       "      <th>Brand/Outlet</th>\n",
       "      <th>Item_x</th>\n",
       "      <th>Platform</th>\n",
       "      <th>Date</th>\n",
       "      <th>Quantity</th>\n",
       "      <th>Outlet/Listings</th>\n",
       "      <th>Address</th>\n",
       "      <th>Postal Code</th>\n",
       "      <th>Main Item Names</th>\n",
       "      <th>Category</th>\n",
       "      <th>Item_y</th>\n",
       "      <th>Old Price</th>\n",
       "      <th>New Price</th>\n",
       "    </tr>\n",
       "  </thead>\n",
       "  <tbody>\n",
       "    <tr>\n",
       "      <th>0</th>\n",
       "      <td>XXX SG - Duo (Extended Delivery)</td>\n",
       "      <td>Banana Cake with Acai Superfruit</td>\n",
       "      <td>DELIVEROO</td>\n",
       "      <td>1-Jan-22</td>\n",
       "      <td>0</td>\n",
       "      <td>XXX SG - Duo (Extended Delivery)</td>\n",
       "      <td>7 Fraser Street,#01-58, DUO Galleria</td>\n",
       "      <td>189356</td>\n",
       "      <td>NaN</td>\n",
       "      <td>NaN</td>\n",
       "      <td>NaN</td>\n",
       "      <td>NaN</td>\n",
       "      <td>NaN</td>\n",
       "    </tr>\n",
       "    <tr>\n",
       "      <th>1</th>\n",
       "      <td>XXX SG - Duo (Extended Delivery)</td>\n",
       "      <td>Banana Cake with Acai Superfruit</td>\n",
       "      <td>DELIVEROO</td>\n",
       "      <td>2-Jan-22</td>\n",
       "      <td>0</td>\n",
       "      <td>XXX SG - Duo (Extended Delivery)</td>\n",
       "      <td>7 Fraser Street,#01-58, DUO Galleria</td>\n",
       "      <td>189356</td>\n",
       "      <td>NaN</td>\n",
       "      <td>NaN</td>\n",
       "      <td>NaN</td>\n",
       "      <td>NaN</td>\n",
       "      <td>NaN</td>\n",
       "    </tr>\n",
       "    <tr>\n",
       "      <th>2</th>\n",
       "      <td>XXX SG - Duo (Extended Delivery)</td>\n",
       "      <td>Banana Cake with Acai Superfruit</td>\n",
       "      <td>DELIVEROO</td>\n",
       "      <td>3-Jan-22</td>\n",
       "      <td>0</td>\n",
       "      <td>XXX SG - Duo (Extended Delivery)</td>\n",
       "      <td>7 Fraser Street,#01-58, DUO Galleria</td>\n",
       "      <td>189356</td>\n",
       "      <td>NaN</td>\n",
       "      <td>NaN</td>\n",
       "      <td>NaN</td>\n",
       "      <td>NaN</td>\n",
       "      <td>NaN</td>\n",
       "    </tr>\n",
       "    <tr>\n",
       "      <th>3</th>\n",
       "      <td>XXX SG - Duo (Extended Delivery)</td>\n",
       "      <td>Banana Cake with Acai Superfruit</td>\n",
       "      <td>DELIVEROO</td>\n",
       "      <td>4-Jan-22</td>\n",
       "      <td>0</td>\n",
       "      <td>XXX SG - Duo (Extended Delivery)</td>\n",
       "      <td>7 Fraser Street,#01-58, DUO Galleria</td>\n",
       "      <td>189356</td>\n",
       "      <td>NaN</td>\n",
       "      <td>NaN</td>\n",
       "      <td>NaN</td>\n",
       "      <td>NaN</td>\n",
       "      <td>NaN</td>\n",
       "    </tr>\n",
       "    <tr>\n",
       "      <th>4</th>\n",
       "      <td>XXX SG - Duo (Extended Delivery)</td>\n",
       "      <td>Banana Cake with Acai Superfruit</td>\n",
       "      <td>DELIVEROO</td>\n",
       "      <td>5-Jan-22</td>\n",
       "      <td>0</td>\n",
       "      <td>XXX SG - Duo (Extended Delivery)</td>\n",
       "      <td>7 Fraser Street,#01-58, DUO Galleria</td>\n",
       "      <td>189356</td>\n",
       "      <td>NaN</td>\n",
       "      <td>NaN</td>\n",
       "      <td>NaN</td>\n",
       "      <td>NaN</td>\n",
       "      <td>NaN</td>\n",
       "    </tr>\n",
       "    <tr>\n",
       "      <th>...</th>\n",
       "      <td>...</td>\n",
       "      <td>...</td>\n",
       "      <td>...</td>\n",
       "      <td>...</td>\n",
       "      <td>...</td>\n",
       "      <td>...</td>\n",
       "      <td>...</td>\n",
       "      <td>...</td>\n",
       "      <td>...</td>\n",
       "      <td>...</td>\n",
       "      <td>...</td>\n",
       "      <td>...</td>\n",
       "      <td>...</td>\n",
       "    </tr>\n",
       "    <tr>\n",
       "      <th>496926</th>\n",
       "      <td>XXX SG - Tangs</td>\n",
       "      <td>Yogurt with Granola</td>\n",
       "      <td>FOODPANDA</td>\n",
       "      <td>3-Apr-22</td>\n",
       "      <td>0</td>\n",
       "      <td>XXX SG - Tangs</td>\n",
       "      <td>310 Orchard Road, Basement 1</td>\n",
       "      <td>238864</td>\n",
       "      <td>NaN</td>\n",
       "      <td>NaN</td>\n",
       "      <td>NaN</td>\n",
       "      <td>NaN</td>\n",
       "      <td>NaN</td>\n",
       "    </tr>\n",
       "    <tr>\n",
       "      <th>496927</th>\n",
       "      <td>XXX SG - Tangs</td>\n",
       "      <td>Yogurt with Granola</td>\n",
       "      <td>FOODPANDA</td>\n",
       "      <td>4-Apr-22</td>\n",
       "      <td>1</td>\n",
       "      <td>XXX SG - Tangs</td>\n",
       "      <td>310 Orchard Road, Basement 1</td>\n",
       "      <td>238864</td>\n",
       "      <td>NaN</td>\n",
       "      <td>NaN</td>\n",
       "      <td>NaN</td>\n",
       "      <td>NaN</td>\n",
       "      <td>NaN</td>\n",
       "    </tr>\n",
       "    <tr>\n",
       "      <th>496928</th>\n",
       "      <td>XXX SG - Tangs</td>\n",
       "      <td>Yogurt with Granola</td>\n",
       "      <td>FOODPANDA</td>\n",
       "      <td>5-Apr-22</td>\n",
       "      <td>0</td>\n",
       "      <td>XXX SG - Tangs</td>\n",
       "      <td>310 Orchard Road, Basement 1</td>\n",
       "      <td>238864</td>\n",
       "      <td>NaN</td>\n",
       "      <td>NaN</td>\n",
       "      <td>NaN</td>\n",
       "      <td>NaN</td>\n",
       "      <td>NaN</td>\n",
       "    </tr>\n",
       "    <tr>\n",
       "      <th>496929</th>\n",
       "      <td>XXX SG - Tangs</td>\n",
       "      <td>Yogurt with Granola</td>\n",
       "      <td>FOODPANDA</td>\n",
       "      <td>6-Apr-22</td>\n",
       "      <td>0</td>\n",
       "      <td>XXX SG - Tangs</td>\n",
       "      <td>310 Orchard Road, Basement 1</td>\n",
       "      <td>238864</td>\n",
       "      <td>NaN</td>\n",
       "      <td>NaN</td>\n",
       "      <td>NaN</td>\n",
       "      <td>NaN</td>\n",
       "      <td>NaN</td>\n",
       "    </tr>\n",
       "    <tr>\n",
       "      <th>496930</th>\n",
       "      <td>XXX SG - Tangs</td>\n",
       "      <td>Yogurt with Granola</td>\n",
       "      <td>FOODPANDA</td>\n",
       "      <td>7-Apr-22</td>\n",
       "      <td>0</td>\n",
       "      <td>XXX SG - Tangs</td>\n",
       "      <td>310 Orchard Road, Basement 1</td>\n",
       "      <td>238864</td>\n",
       "      <td>NaN</td>\n",
       "      <td>NaN</td>\n",
       "      <td>NaN</td>\n",
       "      <td>NaN</td>\n",
       "      <td>NaN</td>\n",
       "    </tr>\n",
       "  </tbody>\n",
       "</table>\n",
       "<p>496931 rows × 13 columns</p>\n",
       "</div>"
      ],
      "text/plain": [
       "                            Brand/Outlet                            Item_x  \\\n",
       "0       XXX SG - Duo (Extended Delivery)  Banana Cake with Acai Superfruit   \n",
       "1       XXX SG - Duo (Extended Delivery)  Banana Cake with Acai Superfruit   \n",
       "2       XXX SG - Duo (Extended Delivery)  Banana Cake with Acai Superfruit   \n",
       "3       XXX SG - Duo (Extended Delivery)  Banana Cake with Acai Superfruit   \n",
       "4       XXX SG - Duo (Extended Delivery)  Banana Cake with Acai Superfruit   \n",
       "...                                  ...                               ...   \n",
       "496926                    XXX SG - Tangs               Yogurt with Granola   \n",
       "496927                    XXX SG - Tangs               Yogurt with Granola   \n",
       "496928                    XXX SG - Tangs               Yogurt with Granola   \n",
       "496929                    XXX SG - Tangs               Yogurt with Granola   \n",
       "496930                    XXX SG - Tangs               Yogurt with Granola   \n",
       "\n",
       "         Platform      Date  Quantity                   Outlet/Listings  \\\n",
       "0       DELIVEROO  1-Jan-22         0  XXX SG - Duo (Extended Delivery)   \n",
       "1       DELIVEROO  2-Jan-22         0  XXX SG - Duo (Extended Delivery)   \n",
       "2       DELIVEROO  3-Jan-22         0  XXX SG - Duo (Extended Delivery)   \n",
       "3       DELIVEROO  4-Jan-22         0  XXX SG - Duo (Extended Delivery)   \n",
       "4       DELIVEROO  5-Jan-22         0  XXX SG - Duo (Extended Delivery)   \n",
       "...           ...       ...       ...                               ...   \n",
       "496926  FOODPANDA  3-Apr-22         0                    XXX SG - Tangs   \n",
       "496927  FOODPANDA  4-Apr-22         1                    XXX SG - Tangs   \n",
       "496928  FOODPANDA  5-Apr-22         0                    XXX SG - Tangs   \n",
       "496929  FOODPANDA  6-Apr-22         0                    XXX SG - Tangs   \n",
       "496930  FOODPANDA  7-Apr-22         0                    XXX SG - Tangs   \n",
       "\n",
       "                                     Address  Postal Code Main Item Names  \\\n",
       "0       7 Fraser Street,#01-58, DUO Galleria       189356             NaN   \n",
       "1       7 Fraser Street,#01-58, DUO Galleria       189356             NaN   \n",
       "2       7 Fraser Street,#01-58, DUO Galleria       189356             NaN   \n",
       "3       7 Fraser Street,#01-58, DUO Galleria       189356             NaN   \n",
       "4       7 Fraser Street,#01-58, DUO Galleria       189356             NaN   \n",
       "...                                      ...          ...             ...   \n",
       "496926          310 Orchard Road, Basement 1       238864             NaN   \n",
       "496927          310 Orchard Road, Basement 1       238864             NaN   \n",
       "496928          310 Orchard Road, Basement 1       238864             NaN   \n",
       "496929          310 Orchard Road, Basement 1       238864             NaN   \n",
       "496930          310 Orchard Road, Basement 1       238864             NaN   \n",
       "\n",
       "       Category Item_y  Old Price  New Price  \n",
       "0           NaN    NaN        NaN        NaN  \n",
       "1           NaN    NaN        NaN        NaN  \n",
       "2           NaN    NaN        NaN        NaN  \n",
       "3           NaN    NaN        NaN        NaN  \n",
       "4           NaN    NaN        NaN        NaN  \n",
       "...         ...    ...        ...        ...  \n",
       "496926      NaN    NaN        NaN        NaN  \n",
       "496927      NaN    NaN        NaN        NaN  \n",
       "496928      NaN    NaN        NaN        NaN  \n",
       "496929      NaN    NaN        NaN        NaN  \n",
       "496930      NaN    NaN        NaN        NaN  \n",
       "\n",
       "[496931 rows x 13 columns]"
      ]
     },
     "execution_count": 23,
     "metadata": {},
     "output_type": "execute_result"
    }
   ],
   "source": [
    "# 2. Merge aggregated data with store: insert your code here\n",
    "df = agg_data_df.merge(stores_df, how='left', left_on='Brand/Outlet', right_on='Outlet/Listings')\n",
    "df = df.merge(category_df, how='left', left_on='Item', right_on='Main Item Names')\n",
    "df = df.merge(price_chg_df, how='left', on=['Category')\n",
    "df"
   ]
  },
  {
   "cell_type": "markdown",
   "id": "97144190",
   "metadata": {},
   "source": [
    "3. In the transaction data, remove the 0th index column (as this is unnecessary). [1%]"
   ]
  },
  {
   "cell_type": "code",
   "execution_count": 28,
   "id": "2d378fb5",
   "metadata": {},
   "outputs": [
    {
     "data": {
      "text/html": [
       "<div>\n",
       "<style scoped>\n",
       "    .dataframe tbody tr th:only-of-type {\n",
       "        vertical-align: middle;\n",
       "    }\n",
       "\n",
       "    .dataframe tbody tr th {\n",
       "        vertical-align: top;\n",
       "    }\n",
       "\n",
       "    .dataframe thead th {\n",
       "        text-align: right;\n",
       "    }\n",
       "</style>\n",
       "<table border=\"1\" class=\"dataframe\">\n",
       "  <thead>\n",
       "    <tr style=\"text-align: right;\">\n",
       "      <th></th>\n",
       "      <th>day_start</th>\n",
       "      <th>created_datetime</th>\n",
       "      <th>brand_name</th>\n",
       "      <th>outlet</th>\n",
       "      <th>orderid</th>\n",
       "      <th>order_delivery_platform</th>\n",
       "      <th>order_subtotal</th>\n",
       "      <th>order_discount</th>\n",
       "      <th>order_delivery_fee</th>\n",
       "      <th>order_fulfillment_mode</th>\n",
       "      <th>item_id</th>\n",
       "      <th>item_name</th>\n",
       "      <th>item_price</th>\n",
       "      <th>item_quantity</th>\n",
       "      <th>modifier_name</th>\n",
       "      <th>modifier_price</th>\n",
       "      <th>modifier_quantity</th>\n",
       "    </tr>\n",
       "  </thead>\n",
       "  <tbody>\n",
       "    <tr>\n",
       "      <th>0</th>\n",
       "      <td>3/1/2022 0:00</td>\n",
       "      <td>3/1/2022 9:21</td>\n",
       "      <td>XXX</td>\n",
       "      <td>XXX - One George Street</td>\n",
       "      <td>GF-696</td>\n",
       "      <td>grabfood-api</td>\n",
       "      <td>32.8</td>\n",
       "      <td>0.0</td>\n",
       "      <td>4.7</td>\n",
       "      <td>FULFILLMENT_MODE_UNKNOWN</td>\n",
       "      <td>80605218-2b20-45ff-8b80-003e3fb8debf</td>\n",
       "      <td>Kokoro</td>\n",
       "      <td>15.9</td>\n",
       "      <td>1</td>\n",
       "      <td>Warm Protein Bowl</td>\n",
       "      <td>0.0</td>\n",
       "      <td>1</td>\n",
       "    </tr>\n",
       "    <tr>\n",
       "      <th>1</th>\n",
       "      <td>3/1/2022 0:00</td>\n",
       "      <td>3/1/2022 9:33</td>\n",
       "      <td>XXX</td>\n",
       "      <td>XXX - Great World City</td>\n",
       "      <td>5116</td>\n",
       "      <td>deliveroo-web</td>\n",
       "      <td>24.7</td>\n",
       "      <td>NaN</td>\n",
       "      <td>NaN</td>\n",
       "      <td>FULFILLMENT_MODE_UNKNOWN</td>\n",
       "      <td>d941f5bb-b064-48dd-919c-283c9906b7ac</td>\n",
       "      <td>Salad</td>\n",
       "      <td>11.9</td>\n",
       "      <td>1</td>\n",
       "      <td>Black Olives</td>\n",
       "      <td>0.0</td>\n",
       "      <td>1</td>\n",
       "    </tr>\n",
       "    <tr>\n",
       "      <th>2</th>\n",
       "      <td>3/1/2022 0:00</td>\n",
       "      <td>3/1/2022 9:33</td>\n",
       "      <td>XXX</td>\n",
       "      <td>XXX - Great World City</td>\n",
       "      <td>5116</td>\n",
       "      <td>deliveroo-web</td>\n",
       "      <td>24.7</td>\n",
       "      <td>NaN</td>\n",
       "      <td>NaN</td>\n",
       "      <td>FULFILLMENT_MODE_UNKNOWN</td>\n",
       "      <td>d941f5bb-b064-48dd-919c-283c9906b7ac</td>\n",
       "      <td>Salad</td>\n",
       "      <td>11.9</td>\n",
       "      <td>1</td>\n",
       "      <td>French Beans</td>\n",
       "      <td>0.0</td>\n",
       "      <td>1</td>\n",
       "    </tr>\n",
       "    <tr>\n",
       "      <th>3</th>\n",
       "      <td>3/1/2022 0:00</td>\n",
       "      <td>3/1/2022 9:33</td>\n",
       "      <td>XXX</td>\n",
       "      <td>XXX - Great World City</td>\n",
       "      <td>5116</td>\n",
       "      <td>deliveroo-web</td>\n",
       "      <td>24.7</td>\n",
       "      <td>NaN</td>\n",
       "      <td>NaN</td>\n",
       "      <td>FULFILLMENT_MODE_UNKNOWN</td>\n",
       "      <td>d941f5bb-b064-48dd-919c-283c9906b7ac</td>\n",
       "      <td>Salad</td>\n",
       "      <td>11.9</td>\n",
       "      <td>1</td>\n",
       "      <td>Warm Baked Mushrooms</td>\n",
       "      <td>2.9</td>\n",
       "      <td>1</td>\n",
       "    </tr>\n",
       "    <tr>\n",
       "      <th>4</th>\n",
       "      <td>3/1/2022 0:00</td>\n",
       "      <td>3/1/2022 9:33</td>\n",
       "      <td>XXX</td>\n",
       "      <td>XXX - Great World City</td>\n",
       "      <td>5116</td>\n",
       "      <td>deliveroo-web</td>\n",
       "      <td>24.7</td>\n",
       "      <td>NaN</td>\n",
       "      <td>NaN</td>\n",
       "      <td>FULFILLMENT_MODE_UNKNOWN</td>\n",
       "      <td>d941f5bb-b064-48dd-919c-283c9906b7ac</td>\n",
       "      <td>Salad</td>\n",
       "      <td>11.9</td>\n",
       "      <td>1</td>\n",
       "      <td>Baby Spinach</td>\n",
       "      <td>3.0</td>\n",
       "      <td>1</td>\n",
       "    </tr>\n",
       "  </tbody>\n",
       "</table>\n",
       "</div>"
      ],
      "text/plain": [
       "       day_start created_datetime brand_name                   outlet orderid  \\\n",
       "0  3/1/2022 0:00    3/1/2022 9:21       XXX   XXX - One George Street  GF-696   \n",
       "1  3/1/2022 0:00    3/1/2022 9:33       XXX    XXX - Great World City    5116   \n",
       "2  3/1/2022 0:00    3/1/2022 9:33       XXX    XXX - Great World City    5116   \n",
       "3  3/1/2022 0:00    3/1/2022 9:33       XXX    XXX - Great World City    5116   \n",
       "4  3/1/2022 0:00    3/1/2022 9:33       XXX    XXX - Great World City    5116   \n",
       "\n",
       "  order_delivery_platform  order_subtotal  order_discount  order_delivery_fee  \\\n",
       "0            grabfood-api            32.8             0.0                 4.7   \n",
       "1           deliveroo-web            24.7             NaN                 NaN   \n",
       "2           deliveroo-web            24.7             NaN                 NaN   \n",
       "3           deliveroo-web            24.7             NaN                 NaN   \n",
       "4           deliveroo-web            24.7             NaN                 NaN   \n",
       "\n",
       "     order_fulfillment_mode                               item_id item_name  \\\n",
       "0  FULFILLMENT_MODE_UNKNOWN  80605218-2b20-45ff-8b80-003e3fb8debf    Kokoro   \n",
       "1  FULFILLMENT_MODE_UNKNOWN  d941f5bb-b064-48dd-919c-283c9906b7ac     Salad   \n",
       "2  FULFILLMENT_MODE_UNKNOWN  d941f5bb-b064-48dd-919c-283c9906b7ac     Salad   \n",
       "3  FULFILLMENT_MODE_UNKNOWN  d941f5bb-b064-48dd-919c-283c9906b7ac     Salad   \n",
       "4  FULFILLMENT_MODE_UNKNOWN  d941f5bb-b064-48dd-919c-283c9906b7ac     Salad   \n",
       "\n",
       "   item_price  item_quantity         modifier_name  modifier_price  \\\n",
       "0        15.9              1     Warm Protein Bowl             0.0   \n",
       "1        11.9              1          Black Olives             0.0   \n",
       "2        11.9              1          French Beans             0.0   \n",
       "3        11.9              1  Warm Baked Mushrooms             2.9   \n",
       "4        11.9              1          Baby Spinach             3.0   \n",
       "\n",
       "   modifier_quantity  \n",
       "0                  1  \n",
       "1                  1  \n",
       "2                  1  \n",
       "3                  1  \n",
       "4                  1  "
      ]
     },
     "execution_count": 28,
     "metadata": {},
     "output_type": "execute_result"
    }
   ],
   "source": [
    "# insert your code here \n",
    "txn_data_df = txn_data_df.drop('Unnamed: 0', axis=1)\n",
    "txn_data_df.head()"
   ]
  },
  {
   "cell_type": "markdown",
   "id": "6a177082",
   "metadata": {},
   "source": [
    "4. Identify the % of missing values in each column in the transaction data. [1%]"
   ]
  },
  {
   "cell_type": "code",
   "execution_count": 33,
   "id": "abd066bc",
   "metadata": {},
   "outputs": [
    {
     "data": {
      "text/plain": [
       "day_start                  False\n",
       "created_datetime           False\n",
       "brand_name                 False\n",
       "outlet                     False\n",
       "orderid                    False\n",
       "order_delivery_platform    False\n",
       "order_subtotal             False\n",
       "order_discount              True\n",
       "order_delivery_fee          True\n",
       "order_fulfillment_mode     False\n",
       "item_id                    False\n",
       "item_name                  False\n",
       "item_price                 False\n",
       "item_quantity              False\n",
       "modifier_name              False\n",
       "modifier_price             False\n",
       "modifier_quantity          False\n",
       "dtype: bool"
      ]
     },
     "execution_count": 33,
     "metadata": {},
     "output_type": "execute_result"
    }
   ],
   "source": [
    "# insert your code here \n",
    "round((txn_data_df.isna().sum()/txn_data_df.shape[0])*100,2) > 50"
   ]
  },
  {
   "cell_type": "markdown",
   "id": "453136b9",
   "metadata": {},
   "source": [
    "5. Remove the columns with more than 50% missing data. [1%]"
   ]
  },
  {
   "cell_type": "code",
   "execution_count": null,
   "id": "4ed80839",
   "metadata": {},
   "outputs": [],
   "source": [
    "# insert your code here \n",
    "txn_data_df = txn_data_df"
   ]
  },
  {
   "cell_type": "markdown",
   "id": "a28a40f8",
   "metadata": {},
   "source": [
    "6. For the remaining missing values, identify and implement the best way to handle them. [1%]"
   ]
  },
  {
   "cell_type": "code",
   "execution_count": 30,
   "id": "58ca4e85",
   "metadata": {},
   "outputs": [
    {
     "name": "stdout",
     "output_type": "stream",
     "text": [
      "<class 'pandas.core.frame.DataFrame'>\n",
      "RangeIndex: 204379 entries, 0 to 204378\n",
      "Data columns (total 17 columns):\n",
      " #   Column                   Non-Null Count   Dtype  \n",
      "---  ------                   --------------   -----  \n",
      " 0   day_start                204379 non-null  object \n",
      " 1   created_datetime         204379 non-null  object \n",
      " 2   brand_name               204379 non-null  object \n",
      " 3   outlet                   204379 non-null  object \n",
      " 4   orderid                  204379 non-null  object \n",
      " 5   order_delivery_platform  204379 non-null  object \n",
      " 6   order_subtotal           203886 non-null  float64\n",
      " 7   order_discount           38219 non-null   float64\n",
      " 8   order_delivery_fee       38219 non-null   float64\n",
      " 9   order_fulfillment_mode   204379 non-null  object \n",
      " 10  item_id                  204379 non-null  object \n",
      " 11  item_name                204340 non-null  object \n",
      " 12  item_price               204379 non-null  float64\n",
      " 13  item_quantity            204379 non-null  int64  \n",
      " 14  modifier_name            204339 non-null  object \n",
      " 15  modifier_price           204379 non-null  float64\n",
      " 16  modifier_quantity        204379 non-null  int64  \n",
      "dtypes: float64(5), int64(2), object(10)\n",
      "memory usage: 26.5+ MB\n"
     ]
    }
   ],
   "source": [
    "# insert your code here \n",
    "txn_data_df.info()"
   ]
  },
  {
   "cell_type": "code",
   "execution_count": null,
   "id": "d469a13d",
   "metadata": {},
   "outputs": [],
   "source": [
    "# insert your code here \n"
   ]
  },
  {
   "cell_type": "markdown",
   "id": "c211607a",
   "metadata": {},
   "source": [
    "7. Check the datatypes of the transaction data and df to see if there are any issues with the datatype of the columns. Change to the correct datatype. [1%]\n",
    "\n",
    "    [Hint: Check the dates]"
   ]
  },
  {
   "cell_type": "code",
   "execution_count": null,
   "id": "7b2d878b",
   "metadata": {},
   "outputs": [],
   "source": [
    "# insert your code here \n"
   ]
  },
  {
   "cell_type": "markdown",
   "id": "0da394d2",
   "metadata": {},
   "source": [
    "8. In the transaction data and df, generate month name column, day of week column and year column from the date column. [3%]"
   ]
  },
  {
   "cell_type": "code",
   "execution_count": null,
   "id": "87180126",
   "metadata": {},
   "outputs": [],
   "source": [
    "# insert your code here \n"
   ]
  },
  {
   "cell_type": "markdown",
   "id": "9639167a",
   "metadata": {},
   "source": [
    "9. Check if there are any duplicates in the transaction data and remove them. [1%]"
   ]
  },
  {
   "cell_type": "code",
   "execution_count": null,
   "id": "3e5547ef",
   "metadata": {},
   "outputs": [],
   "source": [
    "# insert your code here \n"
   ]
  },
  {
   "cell_type": "markdown",
   "id": "421e2c68",
   "metadata": {},
   "source": [
    "##  Exploratory Data Analysis "
   ]
  },
  {
   "cell_type": "markdown",
   "id": "4d913d3c",
   "metadata": {},
   "source": [
    "1. Identify the top platform having maximum sales (quantity wise) for each month. Create a suitable visualization to display the same. [5%]"
   ]
  },
  {
   "cell_type": "code",
   "execution_count": null,
   "id": "3aad97bc",
   "metadata": {},
   "outputs": [],
   "source": [
    "# insert your code here \n"
   ]
  },
  {
   "cell_type": "markdown",
   "id": "9fd1c1dc",
   "metadata": {},
   "source": [
    "2. What are the top 5 stores having maximum sales (quantity wise) for each month. Create a suitable visualization to show the monthly quantity sold trend for these top 5 stores. [5%]"
   ]
  },
  {
   "cell_type": "code",
   "execution_count": null,
   "id": "faf43ed3",
   "metadata": {},
   "outputs": [],
   "source": [
    "# insert your code here\n"
   ]
  },
  {
   "cell_type": "markdown",
   "id": "f1b0c9e7",
   "metadata": {},
   "source": [
    "3. Identify the top 5 categories having percentage of maximum sales (quantity wise). [5%]"
   ]
  },
  {
   "cell_type": "code",
   "execution_count": null,
   "id": "7c6edccf",
   "metadata": {},
   "outputs": [],
   "source": [
    "# insert your code here\n"
   ]
  },
  {
   "cell_type": "markdown",
   "id": "844098e8",
   "metadata": {},
   "source": [
    "4. Did weekday performed better with respect to weekend in terms of average daily quantity sold for all the platforms? Create a suitable visualization to show the daily trend. [7%]"
   ]
  },
  {
   "cell_type": "code",
   "execution_count": null,
   "id": "fa4c0307",
   "metadata": {},
   "outputs": [],
   "source": [
    "# insert your code here\n"
   ]
  },
  {
   "cell_type": "markdown",
   "id": "41bc8c01",
   "metadata": {},
   "source": [
    "#### Question 4 answer: "
   ]
  },
  {
   "cell_type": "markdown",
   "id": "d00d3188",
   "metadata": {},
   "source": [
    "Answer:"
   ]
  },
  {
   "cell_type": "markdown",
   "id": "a456bdf5",
   "metadata": {},
   "source": [
    "5. Provide appropriate title and axis labels for all charts created. [3%]"
   ]
  },
  {
   "cell_type": "markdown",
   "id": "15053ebe",
   "metadata": {},
   "source": [
    "## Data Aggregation / Transformation "
   ]
  },
  {
   "cell_type": "markdown",
   "id": "f0629e5d",
   "metadata": {},
   "source": [
    "1. Modify the transaction data to create two dataframes by selecting orderid, itemname, itemqty and orderid, modifiername and modifierqty. [1%]"
   ]
  },
  {
   "cell_type": "code",
   "execution_count": null,
   "id": "b956b479",
   "metadata": {},
   "outputs": [],
   "source": [
    "# insert your code here\n"
   ]
  },
  {
   "cell_type": "markdown",
   "id": "d41944cd",
   "metadata": {},
   "source": [
    "2. Append the above two dataframes to create a new dataframe, call it df_temp. [1%]"
   ]
  },
  {
   "cell_type": "code",
   "execution_count": null,
   "id": "a57170ee",
   "metadata": {},
   "outputs": [],
   "source": [
    "# insert your code here\n"
   ]
  },
  {
   "cell_type": "markdown",
   "id": "7ec964a7",
   "metadata": {},
   "source": [
    "3. Remove the rows with item_price of 0 from df_temp. [1%]"
   ]
  },
  {
   "cell_type": "code",
   "execution_count": null,
   "id": "f32502f7",
   "metadata": {},
   "outputs": [],
   "source": [
    "# insert your code here\n"
   ]
  },
  {
   "attachments": {
    "image-3.png": {
     "image/png": "[encoded data removed]"
    }
   },
   "cell_type": "markdown",
   "id": "d1b517b2",
   "metadata": {},
   "source": [
    "4. Find a way to prepare the data* in the format given in the screenshot below: [10%]\n",
    "\n",
    "    - The index is the order id.\n",
    "    - The columns are individual products in the dataset.\n",
    "    - Encode them such that if a product is purchased in a transaction, the value is 1 else the value is 0.\n",
    "    \n",
    "![image-3.png](attachment:image-3.png)\n",
    "\n",
    "    *This kind of encoding is helpful in performing market basket analysis."
   ]
  },
  {
   "cell_type": "code",
   "execution_count": null,
   "id": "30ecf694",
   "metadata": {},
   "outputs": [],
   "source": [
    "# insert your code here\n"
   ]
  },
  {
   "cell_type": "markdown",
   "id": "35c7905c",
   "metadata": {},
   "source": [
    "##### The End\n",
    "[Back to Content](#tc)\n"
   ]
  },
  {
   "cell_type": "markdown",
   "id": "3ec34e9b",
   "metadata": {},
   "source": [
    "Copyright © 2023 by Boston Consulting Group. All rights reserved."
   ]
  }
 ],
 "metadata": {
  "kernelspec": {
   "display_name": "Python 3 (ipykernel)",
   "language": "python",
   "name": "python3"
  },
  "language_info": {
   "codemirror_mode": {
    "name": "ipython",
    "version": 3
   },
   "file_extension": ".py",
   "mimetype": "text/x-python",
   "name": "python",
   "nbconvert_exporter": "python",
   "pygments_lexer": "ipython3",
   "version": "3.11.5"
  }
 },
 "nbformat": 4,
 "nbformat_minor": 5
}
