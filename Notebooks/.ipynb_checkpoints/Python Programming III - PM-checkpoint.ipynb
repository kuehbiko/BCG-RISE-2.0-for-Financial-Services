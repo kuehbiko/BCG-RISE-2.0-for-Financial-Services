{
 "cells": [
  {
   "cell_type": "markdown",
   "metadata": {},
   "source": [
    "<table class=\"table table-bordered\">\n",
    "    <tr>\n",
    "        <th style=\"width:200px;\">\n",
    "            <img src='https://bcgriseacademy.com/hs-fs/hubfs/RISE%202.0%20Logo_Options_25Jan23_RISE%20-%20For%20Black%20Background.png?width=3522&height=1986&name=RISE%202.0%20Logo_Options_25Jan23_RISE%20-%20For%20Black%20Background.png' style=\"background-color:black; width: 100%; height: 100%;\">\n",
    "        </th>\n",
    "        <th style=\"text-align:center;\">\n",
    "            <h1>IBF TFIP</h1>\n",
    "            <h2>Python Programming III </h2>\n",
    "        </th>\n",
    "    </tr>\n",
    "</table>"
   ]
  },
  {
   "cell_type": "markdown",
   "metadata": {},
   "source": [
    "# Learning Objectives\n",
    "#### After completing this lesson, you should be able to:\n",
    "\n",
    "1. LO1 : Understand and Implement Regex using Python\n",
    "2. LO2 : Understand working of File Input/Output in Python\n",
    "3. LO3 : Apply concepts of Python to solve problems\n",
    "\n",
    "\n"
   ]
  },
  {
   "cell_type": "markdown",
   "metadata": {},
   "source": [
    "# Table of Contents <a id='tc'></a>\n",
    "\n",
    "1. [Regular Expression](#p1)\n",
    "2. [File Operations](#p2)\n",
    "3. [Python Summary: Hands-On Practice Exercise](#p3)\n"
   ]
  },
  {
   "cell_type": "markdown",
   "metadata": {},
   "source": [
    "# 1. Regular Expression <a id='p1' />\n",
    "\n",
    "Frequently we are simply looking for specific words or phrases in a block of text and do not care about the rest of the text. However, sometimes we are interested in a pattern of text (such as a phone number), where the format is consistent but the actual text itself changes. If we have such a situation, we can use regular expressions.\n",
    "\n",
    "[Regular expressions](https://en.wikipedia.org/wiki/Regular_expression) (or regexes in shorthand) are essentially a language in their own and are not unique to Python. What they do is allow for complicated searches through text according to various criteria. If you're looking at a large document of text, it's easy enough to search for the word \"Northwestern\". But what if we want to search for a pattern rather than a particular word such as (xxx)xxx-xxxx where we want all the x's to be numbers? This would be a great way to find a phone number but we'd have to do a lot of Ctrl+F searches if we searched for all possibilities of 10 digit phone numbers. \n",
    "\n",
    "We can use regular expressions. Regexes allow us to construct a generic text pattern that will then be matched through the entire body of text. There is a specific language that is used to build a regex and this language is both extremely powerful and complicated. \n",
    "\n",
    "You can construct very complicated and detailed regular expressions. However, as with any tool that is extremely powerful, obtuse, and difficult to debug, it is easy to construct a regular expression that does far more (or less) than you expect and have it generate incorrect answers. Constructing regular expressions at a master-level is an entire course in its own, so keep that in mind and remember that the best way to build complex regular expressions is to **test, test, and test some more**.\n",
    "\n"
   ]
  },
  {
   "cell_type": "markdown",
   "metadata": {},
   "source": [
    "## 1.1 Regex in Python\n",
    "\n",
    "Regular expressions in Python are implemented using the `re` package. There are a few basic functions in the package that we will use:\n",
    "\n",
    "\n",
    "* `re.match()` : Determine if the RE matches at the beginning of the string.\n",
    "* `re.search()` : Scan through a string, looking for any location where this RE matches.\n",
    "* `re.findall()` : Find all substrings where the RE matches, and returns them as a list.\n",
    "* `re.finditer()` : Find all substrings where the RE matches, and returns them as an iterator object.\n",
    "* `re.sub()`: Replaces occurrences of a pattern of a string with a specified replacement.\n",
    "* `re.compile()`: Used to compile a regular expression pattern into a pattern object.\n",
    "\n",
    "Now, let's go over an example so this is less abstract. We'll start with something easy - making a direct match to an explicit string using all of the different `re` methods.\n",
    "\n"
   ]
  },
  {
   "cell_type": "code",
   "execution_count": null,
   "metadata": {},
   "outputs": [],
   "source": [
    "# to use regex in python, we would have to import re.\n",
    "import re"
   ]
  },
  {
   "cell_type": "code",
   "execution_count": null,
   "metadata": {},
   "outputs": [],
   "source": [
    "text_sample  = \"Hi I am in BDA!\"\n",
    "print(re.match('BDA', text_sample))\n",
    "print(re.findall('BDA', text_sample))\n",
    "print(re.search('BDA!', text_sample))\n",
    "print(re.finditer('BDA', text_sample))"
   ]
  },
  {
   "cell_type": "markdown",
   "metadata": {},
   "source": [
    "`re.match` did what we would expect, returning none since the string didn't start with 'BDA'.\n",
    "\n",
    "`re.findall` gave us an answer that we would mostly expect (i.e. a list of all occurrences it could find). \n",
    "\n",
    "Let's deep dive on `re.search` and `re.finditer`.\n"
   ]
  },
  {
   "cell_type": "code",
   "execution_count": null,
   "metadata": {},
   "outputs": [],
   "source": [
    "# search\n",
    "search_results = re.search('BDA', text_sample)\n",
    "\n",
    "print(search_results.start()) #Returns index of the start of the substring matched by group.\n",
    "print(search_results.end()) #Returns index of the start of the substring matched by group.\n",
    "print(search_results.span()) #For matched object m, returnd the 2-tuple (m.start(group), m.end(group))\n",
    " "
   ]
  },
  {
   "cell_type": "markdown",
   "metadata": {},
   "source": [
    "\n",
    "`re.finditer` is doing essentially the same thing as `re.search` but it's wrapping the results in an iterator."
   ]
  },
  {
   "cell_type": "code",
   "execution_count": null,
   "metadata": {},
   "outputs": [],
   "source": [
    "# finditer\n",
    "\n",
    "text_sample  = \"Hi I am new to Regex! But Regex is so powerful.\"\n",
    "for found_item in re.finditer('Regex', text_sample):\n",
    "    print(found_item)\n"
   ]
  },
  {
   "cell_type": "markdown",
   "metadata": {},
   "source": [
    "As you can see, that finditer is able to find all substrings where the string matches, and returns them as an iterator object. `re.finditer` does multiple occurrences (as you might expect since it is an iterator) and it includes all of the annotation data about where the substring occured.\n",
    "\n",
    "Let's see what happens with other functions for multiple occurrence of a string."
   ]
  },
  {
   "cell_type": "code",
   "execution_count": null,
   "metadata": {},
   "outputs": [],
   "source": [
    "text_sample  = \"Hi I am new to Regex! But Regex is so powerful.\"\n",
    "print(re.match('Regex', text_sample))\n",
    "print(re.search('Regex', text_sample))\n",
    "print(re.findall('Regex', text_sample))\n",
    "\n"
   ]
  },
  {
   "cell_type": "markdown",
   "metadata": {},
   "source": [
    "- match returns None as the string doesn't start with 'Regex'.\n",
    "- search returns the first occurence of the match.\n",
    "- findall returns the matched string as many times it appears.\n",
    "\n",
    "The difference between search and finditer is that, search only returns the first occurrence of a match, whereas, finditer returns all occurrences of a match. "
   ]
  },
  {
   "cell_type": "code",
   "execution_count": null,
   "metadata": {},
   "outputs": [],
   "source": [
    "# re.sub()\n",
    "\n",
    "emails = 'joe@gmail.com, gwen@yahoo.com, bill@gmail.com' #we have a list of emails\n",
    "\n",
    "# We can replace 'gmail' with 'yahoo' in the emails using sub.\n",
    "\n",
    "new_emails = re.sub('gmail', 'yahoo', emails)\n",
    "\n",
    "print(new_emails)"
   ]
  },
  {
   "cell_type": "code",
   "execution_count": null,
   "metadata": {},
   "outputs": [],
   "source": [
    "# re.compile()\n",
    "\n",
    "pattern = re.compile('gmail') #compiling the pattern that we want to search for\n",
    "pattern.findall(emails) #using the compiled pattern to make the search"
   ]
  },
  {
   "cell_type": "markdown",
   "metadata": {},
   "source": [
    "## 1.2 Cheat Sheet to create Regular Expressions\n",
    "\n",
    "| Metacharacter | Description                                                   |\n",
    "|---------------|---------------------------------------------------------------|\n",
    "| `.`           | Matches any character except a newline                         |\n",
    "| `^`           | Matches the start of a string                                 |\n",
    "| `$`           | Matches the end of a string                                   |\n",
    "| `\\b`          | Matches a word boundary                                       |\n",
    "| `\\d`          | Matches any digit                                             |\n",
    "| `\\D`          | Matches any non-digit character                               |\n",
    "| `\\w`          | Matches any alphanumeric character (word character)           |\n",
    "| `\\W`          | Matches any non-alphanumeric character                        |\n",
    "| `\\s`          | Matches any whitespace character                              |\n",
    "| `\\S`          | Matches any non-whitespace character                          |\n",
    "| `[abc]`       | Matches any character in the set (a, b, or c)                 |\n",
    "| `[^abc]`      | Matches any character not in the set (a, b, or c)             |\n",
    "| `a*`          | Matches zero or more occurrences of 'a'                       |\n",
    "| `a+`          | Matches one or more occurrences of 'a'                        |\n",
    "| `a?`          | Matches zero or one occurrence of 'a'                         |\n",
    "| `a{3}`        | Matches exactly three occurrences of 'a'                      |\n",
    "| `a{3,}`       | Matches three or more occurrences of 'a'                      |\n",
    "| `a{3,6}`      | Matches between three and six occurrences of 'a'              |\n",
    "| `(pattern)`   | Capturing group - matches and captures the pattern            |\n",
    "| `(?:pattern)` | Non-capturing group - matches the pattern, but does not capture it |\n",
    "| `(?=pattern)` | Positive lookahead - matches the pattern if followed by another pattern |\n",
    "| `(?!pattern)` | Negative lookahead - matches the pattern if not followed by another pattern |\n"
   ]
  },
  {
   "cell_type": "markdown",
   "metadata": {},
   "source": [
    "## 1.3 Creating Regular Expressions\n",
    "\n",
    "So far we have only covered the basic methods to use in the `re` package to find strings. However, this could be accomplished with just regular string matching in Python.\n",
    "\n",
    "Now let's move towards creating a regular expression. To do that we'll work with time. \n",
    "\n",
    "Time is an excellent example of a very regularly formatted object that couldn't be matched easily with regular string matching. Just to give you a reminder a time looks like:\n",
    "\n",
    "HH:MM\n",
    "\n",
    "Hours can only be in the set [01, 02, 03, 04, 05, 06, 07, 08, 09, 10, 11, 12] while minutes can range from [01 .. 59]\n",
    "\n",
    "So 3:26 is a time, while 3:62 is not a time.\n",
    "\n",
    "So, to start off creating a regular expression to extract times, we're going to create two lists. One list is times (all positive results) and the other is not_times (all negative results). So whatever we create should find every value in the `times` variable and nothing in `not_times`. The approach of creating one list of all positives and another of all negatives is one of the best ways to create and test a regular expression to make **sure** that it is doing what you want it to do."
   ]
  },
  {
   "cell_type": "code",
   "execution_count": null,
   "metadata": {},
   "outputs": [],
   "source": [
    "# Consider a 12 hour clock\n",
    "times = ['03:43', '01:00', '12:59']\n",
    "not_times = ['orange', '03:60', '26:14', '0155', '13:00']"
   ]
  },
  {
   "cell_type": "markdown",
   "metadata": {},
   "source": [
    "So let's think about approaching how to write this, by tackling the hours first. \n",
    "\n",
    "If an hour starts with `0` then the second digit can be any number from 1 to 9. If the hour starts with 1 though, it can only be 0, 1, or 2. We need to write a regular expression that treats those conditions separately, because one condition has a different range of available second digits than the other.\n",
    "\n",
    "To write one condition with multiple values, we put the multiple values inside brackets `[]`. So to match 01 - 09, we would write:\n",
    "\n",
    "`0[1-9]`\n",
    "\n",
    "Which means that the first digit is always 0 and then second digit is any number from 1 to 9. We can test that first."
   ]
  },
  {
   "cell_type": "code",
   "execution_count": null,
   "metadata": {},
   "outputs": [],
   "source": [
    "early_hours_expression = '0[1-9]'\n",
    "for i in times:\n",
    "    print(i)\n",
    "    print(re.match(early_hours_expression, i))\n",
    "    print('---')"
   ]
  },
  {
   "cell_type": "markdown",
   "metadata": {},
   "source": [
    "Great! We can see that we matched all of the values that start with an early hour.\n",
    "\n",
    "Now let's add in the double-digit hours. We would construct a regular expression for that similarly:\n",
    "\n",
    "`1[0-2]`\n",
    "\n",
    "and we can see that it would work similarly."
   ]
  },
  {
   "cell_type": "code",
   "execution_count": null,
   "metadata": {},
   "outputs": [],
   "source": [
    "late_hours_expression = '1[0-2]'\n",
    "for i in times:\n",
    "    print(i)\n",
    "    print(re.match(late_hours_expression, i))\n",
    "    print('---')"
   ]
  },
  {
   "cell_type": "markdown",
   "metadata": {},
   "source": [
    "Now we need to put the two together. Since there isn't any overlap between the two conditions, we are really just looking to combine them with an `OR` statement. So we want `re` to match one or the other conditions. \n",
    "\n",
    "We write the logic of `OR` using the `|` symbol. The two regexes should be put into parentheticals and combined with the `|` symbol so the code knows that either regex match is acceptable (but not both)."
   ]
  },
  {
   "cell_type": "code",
   "execution_count": null,
   "metadata": {},
   "outputs": [],
   "source": [
    "hours_expression = '(0[1-9]|1[0-2])' # combining the two expressions\n",
    "for dataset in [times, not_times]: # combines the two lists\n",
    "    for i in dataset:\n",
    "        print(i)\n",
    "        print(re.match(hours_expression, i))"
   ]
  },
  {
   "cell_type": "markdown",
   "metadata": {},
   "source": [
    "Let's try to understand a few more search patterns with another example."
   ]
  },
  {
   "cell_type": "code",
   "execution_count": null,
   "metadata": {},
   "outputs": [],
   "source": [
    "\n",
    "text_to_search = '''\n",
    "abcdefghijklmnopqrstuvwxyz\n",
    "ABCDEFGHIJKLMNOPQRSTUVWXYZ\n",
    "1234567890\n",
    "\n",
    "MetaCharacters (Need to be escaped):\n",
    ". ^ $ * + ? { } [ ] \\ | ( )\n",
    "\n",
    "BCG.com\n",
    "BCG*com\n",
    "\n",
    "8932-5555\n",
    "8723.4444\n",
    "8383*2000\n",
    "\n",
    "Mr. Schafer\n",
    "Mr Smith\n",
    "Ms Davis\n",
    "Mrs. Robinson\n",
    "Mr. T\n",
    "'''\n",
    "\n",
    "sentence = 'Start a sentence and then bring it to an end'"
   ]
  },
  {
   "cell_type": "code",
   "execution_count": null,
   "metadata": {},
   "outputs": [],
   "source": [
    "# search abc\n",
    "res = 'abc'\n",
    "\n",
    "pattern = re.compile(res)\n",
    "reMatch = pattern.findall(text_to_search)\n",
    "print(reMatch)"
   ]
  },
  {
   "cell_type": "code",
   "execution_count": null,
   "metadata": {},
   "outputs": [],
   "source": [
    "# search for '.' There are a total of 7 dots. \n",
    "res = '\\.'\n",
    "\n",
    "pattern = re.compile(res)\n",
    "reMatch = pattern.findall(text_to_search)\n",
    "print(reMatch)"
   ]
  },
  {
   "cell_type": "markdown",
   "metadata": {},
   "source": [
    "Here, you cannot use a '.' directly, as '.' matches any character except a newline. If you give a '.' instead of a '\\.', let's see what happens.\n",
    "\n"
   ]
  },
  {
   "cell_type": "code",
   "execution_count": null,
   "metadata": {},
   "outputs": [],
   "source": [
    "res = '.'\n",
    "\n",
    "pattern = re.compile(res)\n",
    "reMatch = pattern.findall(text_to_search)\n",
    "print(reMatch)"
   ]
  },
  {
   "cell_type": "markdown",
   "metadata": {},
   "source": [
    "Let's see a practical example of this. We would like to search for all 'BCG.com' in the text. What happens if you try to search with the pattern 'BCG.com'?"
   ]
  },
  {
   "cell_type": "code",
   "execution_count": null,
   "metadata": {},
   "outputs": [],
   "source": [
    "\n",
    "res = 'BCG.com'\n",
    "\n",
    "pattern = re.compile(res)\n",
    "reMatch = pattern.findall(text_to_search)\n",
    "print(reMatch)"
   ]
  },
  {
   "cell_type": "markdown",
   "metadata": {},
   "source": [
    "It outputs both 'BCG.com' as well as 'BCG*com', why so? Because '.' has a meaning in regex. To inform Python that we are trying to search for a string with a '.', we need to explicitly specify this."
   ]
  },
  {
   "cell_type": "code",
   "execution_count": null,
   "metadata": {},
   "outputs": [],
   "source": [
    "# this will give us the intended result\n",
    "res = 'BCG\\.com'\n",
    "\n",
    "pattern = re.compile(res)\n",
    "reMatch = pattern.findall(text_to_search)\n",
    "print(reMatch)"
   ]
  },
  {
   "cell_type": "code",
   "execution_count": null,
   "metadata": {},
   "outputs": [],
   "source": [
    "# to extract all digits from the text\n",
    "res = '\\d'\n",
    "\n",
    "pattern = re.compile(res)\n",
    "reMatch = pattern.findall(text_to_search)\n",
    "print(reMatch)"
   ]
  },
  {
   "cell_type": "code",
   "execution_count": null,
   "metadata": {},
   "outputs": [],
   "source": [
    "# ^ beginning of a sentence\n",
    "\n",
    "res = '^Start'\n",
    "\n",
    "pattern = re.compile(res)\n",
    "reMatch = pattern.findall(sentence)\n",
    "print(reMatch)"
   ]
  },
  {
   "cell_type": "code",
   "execution_count": null,
   "metadata": {},
   "outputs": [],
   "source": [
    "# $ end of a sentence\n",
    "\n",
    "res = 'end$'\n",
    "\n",
    "pattern = re.compile(res)\n",
    "reMatch = pattern.findall(sentence)\n",
    "print(reMatch)"
   ]
  },
  {
   "cell_type": "code",
   "execution_count": null,
   "metadata": {},
   "outputs": [],
   "source": [
    "# We cannot use literal strings always but might need to use metacharacters\n",
    "# phone numbers\n",
    "\n",
    "res = '\\d\\d\\d\\d.\\d\\d\\d\\d'\n",
    "\n",
    "pattern = re.compile(res)\n",
    "reMatch = pattern.findall(text_to_search)\n",
    "print(reMatch)"
   ]
  },
  {
   "cell_type": "markdown",
   "metadata": {},
   "source": [
    "You may see that the above gave us all digits and clearly some of them are not phone numbers. Only '8932-5555', '8723.4444' are phone numbers.\n",
    "\n",
    "So we can put a character set. Match either - or . in the []"
   ]
  },
  {
   "cell_type": "code",
   "execution_count": null,
   "metadata": {},
   "outputs": [],
   "source": [
    "\n",
    "\n",
    "res = '\\d\\d\\d\\d[-.]\\d\\d\\d\\d'\n",
    "\n",
    "pattern = re.compile(res)\n",
    "reMatch = pattern.findall(text_to_search)\n",
    "print(reMatch)"
   ]
  },
  {
   "cell_type": "code",
   "execution_count": null,
   "metadata": {},
   "outputs": [],
   "source": [
    "# another text\n",
    "text_to_search = '''\n",
    "abcdefghijklmnopqrstuvwxyz\n",
    "ABCDEFGHIJKLMNOPQRSTUVWXYZ\n",
    "1234567890\n",
    "\n",
    "MetaCharacters (Need to be escaped):\n",
    ". ^ $ * + ? { } [ ] \\ | ( )\n",
    "\n",
    "BCG.com\n",
    "\n",
    "321-555-4321\n",
    "123.555.1234\n",
    "321*555*4321\n",
    "800.555.1234\n",
    "900.555.1234\n",
    "\n",
    "Mr. Schafer\n",
    "Mr Smith\n",
    "Ms Davis\n",
    "Mrs. Robinson\n",
    "Mr. T\n",
    "\n",
    "'''\n",
    "\n",
    "sentence = 'Start a sentence and then bring it to an end'"
   ]
  },
  {
   "cell_type": "code",
   "execution_count": null,
   "metadata": {},
   "outputs": [],
   "source": [
    "# search for all alphabets\n",
    "\n",
    "\n",
    "res = '[a-z]|[A-Z]'\n",
    "\n",
    "pattern = re.compile(res)\n",
    "reMatch = pattern.findall(text_to_search)\n",
    "print(reMatch)"
   ]
  },
  {
   "cell_type": "code",
   "execution_count": null,
   "metadata": {},
   "outputs": [],
   "source": [
    "# match phone numbers that start with 8 or 9 only.\n",
    "\n",
    "res = '[89]00[-.]\\d\\d\\d[-.]\\d\\d\\d\\d'\n",
    "\n",
    "pattern = re.compile(res)\n",
    "reMatch = pattern.findall(text_to_search)\n",
    "print(reMatch)"
   ]
  },
  {
   "cell_type": "markdown",
   "metadata": {},
   "source": [
    "You can also put Quantifiers. For example, consider that the pattern of phone number for a country is 3 digits-3 digits-4 digits. Instead of writing \\d\\d\\d, you can also write d{3}.\n",
    "\n",
    "Let's write the pattern using quantifiers to extract phone numbers:"
   ]
  },
  {
   "cell_type": "code",
   "execution_count": null,
   "metadata": {},
   "outputs": [],
   "source": [
    "res = '\\d{3}[.-]\\d{3}[.-]\\d{4}'\n",
    "\n",
    "pattern = re.compile(res)\n",
    "reMatch = pattern.findall(text_to_search)\n",
    "print(reMatch)"
   ]
  },
  {
   "cell_type": "code",
   "execution_count": null,
   "metadata": {},
   "outputs": [],
   "source": [
    "# Let's try to extract all 'Mr' from the text\n",
    "res = 'Mr\\..*'\n",
    "\n",
    "pattern = re.compile(res)\n",
    "reMatch = pattern.findall(text_to_search)\n",
    "print(reMatch)\n"
   ]
  },
  {
   "cell_type": "markdown",
   "metadata": {},
   "source": [
    "This may look good in the first instance, but if you look at the text closely, you will notice that we are missing out on a  Mr without '.' like Mr Smith."
   ]
  },
  {
   "cell_type": "code",
   "execution_count": null,
   "metadata": {},
   "outputs": [],
   "source": [
    "# we using the '?' wildcard that matches 0 or 1 occurrence of a character, '.' in this case\n",
    "res = 'Mr\\.?.*'\n",
    "\n",
    "pattern = re.compile(res)\n",
    "reMatch = pattern.findall(text_to_search)\n",
    "print(reMatch)"
   ]
  },
  {
   "cell_type": "markdown",
   "metadata": {},
   "source": [
    "\n",
    "The regular expression `Mr\\.?.*` can be broken down as follows:\n",
    "\n",
    "`Mr`: Matches the literal characters \"Mr\" exactly.\n",
    "\n",
    "`\\.`: Matches a dot character (\".\") exactly.\n",
    "\n",
    "`?:` Makes the preceding dot character optional. It allows for zero or one occurrence of the dot.\n",
    "\n",
    "`.*`: Matches any character (except a newline) zero or more times. The dot matches any character, and the asterisk allows for any number of occurrences.\n",
    "\n",
    "So, the regex `Mr\\.?.*` matches strings that start with \"Mr\" followed by an optional dot and then followed by any sequence of characters."
   ]
  },
  {
   "cell_type": "markdown",
   "metadata": {},
   "source": [
    "But, we can see that even this is not working as Mrs. Robinson who is a Mrs. is also extracted. Let's try to restrict the pattern to cater to our need.\n",
    "\n"
   ]
  },
  {
   "cell_type": "code",
   "execution_count": null,
   "metadata": {},
   "outputs": [],
   "source": [
    "res = 'Mr\\.?\\s[A-Z]\\w*'\n",
    "\n",
    "pattern = re.compile(res)\n",
    "reMatch = pattern.findall(text_to_search)\n",
    "print(reMatch)"
   ]
  },
  {
   "cell_type": "markdown",
   "metadata": {},
   "source": [
    "The regular expression `Mr\\.?\\s[A-Z]\\w*` can be broken down as follows:\n",
    "\n",
    "`Mr`: Matches the literal characters \"Mr\" exactly.\n",
    "\n",
    "`\\.?`: Matches an optional dot character (\".\") exactly. The question mark indicates that the dot is optional, allowing for zero or one occurrence.\n",
    "\n",
    "`\\s`: Matches a whitespace character (space, tab, or newline).\n",
    "\n",
    "`[A-Z]`: Matches a single uppercase letter.\n",
    "\n",
    "`\\w*`: Matches zero or more word characters (alphanumeric characters or underscores).\n",
    "\n",
    "So, the regex `Mr\\.?\\s[A-Z]\\w*` matches strings that start with \"Mr\" followed by an optional dot, then a whitespace character, an uppercase letter, and finally, any number of word characters."
   ]
  },
  {
   "cell_type": "markdown",
   "metadata": {},
   "source": [
    "What if we want to extract all the personnel's names from the above text?"
   ]
  },
  {
   "cell_type": "code",
   "execution_count": null,
   "metadata": {},
   "outputs": [],
   "source": [
    "res = 'Mr\\.?\\s[A-Z]\\w*|Ms\\.?\\s[A-Z]\\w*|Mrs\\.?\\s[A-Z]\\w*'\n",
    "\n",
    "pattern = re.compile(res)\n",
    "reMatch = pattern.findall(text_to_search)\n",
    "print(reMatch)"
   ]
  },
  {
   "cell_type": "markdown",
   "metadata": {},
   "source": [
    "The above regex can be broken down into the following:\n",
    "\n",
    "`Mr\\.?\\s[A-Z]\\w*`: Matches strings that start with \"Mr\" followed by an optional dot, a whitespace character, an uppercase letter, and any number of word characters.\n",
    "\n",
    "`Ms\\.?\\s[A-Z]\\w*`: Matches strings that start with \"Ms\" followed by an optional dot, a whitespace character, an uppercase letter, and any number of word characters.\n",
    "\n",
    "`Mrs\\.?\\s[A-Z]\\w*`: Matches strings that start with \"Mrs\" followed by an optional dot, a whitespace character, an uppercase letter, and any number of word characters."
   ]
  },
  {
   "cell_type": "markdown",
   "metadata": {},
   "source": [
    "One of the widely used application using regex is to retrieve correct email addresses from text. Let's see how we can write a regex to perform this."
   ]
  },
  {
   "cell_type": "code",
   "execution_count": null,
   "metadata": {},
   "outputs": [],
   "source": [
    "text = '''\n",
    "\n",
    "Email addresses:\n",
    "- john.doe@example.com\n",
    "- jane_12@example.co.uk\n",
    "- alexander-smith123@example.net\n",
    "- jennifer@subdomain.example.org\n",
    "- firstname.lastname@example.com\n",
    "\n",
    "\n",
    "\n",
    "Email addresses:\n",
    "- john.doe@example (missing the top-level domain)\n",
    "- jane_12.example.com (missing the @ symbol)\n",
    "- jennifer@subdomain (incomplete domain name)\n",
    "- firstname.lastname@example (missing the top-level domain)\n",
    "\n",
    "\n",
    "\n",
    "\n",
    "'''"
   ]
  },
  {
   "cell_type": "code",
   "execution_count": null,
   "metadata": {},
   "outputs": [],
   "source": [
    "# extract all the correct email addresses from the above text.\n",
    "\n",
    "pattern = r'\\b[A-Za-z0-9._%+-]+@[A-Za-z0-9.-]+\\.[A-Za-z]{2,}\\b'\n",
    "matches = re.findall(pattern, text)\n",
    "\n",
    "print(matches)"
   ]
  },
  {
   "cell_type": "markdown",
   "metadata": {},
   "source": [
    "In the example, we use the regular expression pattern `r\"\\b[A-Za-z0-9._%+-]+@[A-Za-z0-9.-]+\\.[A-Za-z]{2,}\\b\"` to match valid email addresses. Here's an explanation of the pattern:\n",
    "\n",
    "`\\b`: Matches a word boundary to ensure that the email address is a separate word.\n",
    "\n",
    "`[A-Za-z0-9._%+-]+`: Matches one or more occurrences of alphanumeric characters, dots, underscores, percent signs, plus signs, or hyphens (before the @ symbol).\n",
    "\n",
    "`@`: Matches the @ symbol.\n",
    "\n",
    "`[A-Za-z0-9.-]+`: Matches one or more occurrences of alphanumeric characters, dots, or hyphens (after the @ symbol, before the domain name).\n",
    "\n",
    "`\\.`: Matches a dot (before the top-level domain).\n",
    "\n",
    "`[A-Za-z]{2,}`: Matches two or more occurrences of alphabetical characters (the top-level domain).\n",
    "\n",
    "`\\b`: Matches another word boundary."
   ]
  },
  {
   "cell_type": "markdown",
   "metadata": {},
   "source": [
    "# 2. File Operations <a id='p2' />\n",
    "\n",
    "The file input/output (I/O) system is a mechanism that allows programs to read data from and write data to files on a computer's storage system. It provides a way to interact with files, which are persistent storage entities used to store data for later retrieval or modification.\n",
    "\n",
    "In most programming languages, including Python the file I/O system typically involves the following concepts:\n",
    "\n",
    "`File Handling`: The process of opening, reading from, writing to, and closing files. It involves operations such as creating a file, opening an existing file, reading data from a file, writing data to a file, and closing the file.\n",
    "\n",
    "`File Modes`: Files can be opened in different modes, which define the intended operations on the file. Common modes include:\n",
    "\n",
    "`Read Mode (e.g., \"r\")`: Allows reading data from a file.\n",
    "\n",
    "`Write Mode (e.g., \"w\")`: Allows writing data to a file, overwriting the existing contents.\n",
    "\n",
    "`Append Mode (e.g., \"a\")`: Allows writing data to the end of a file, preserving the existing contents.\n",
    "\n",
    "`Binary Mode (e.g., \"b\")`: Handles binary data, such as images or audio files.\n",
    "\n",
    "`File Pointers`: When reading or writing data from/to a file, a file pointer is used to keep track of the current position within the file. It determines where the next read or write operation will occur.\n",
    "\n",
    "`Reading and Writing Data`: Data can be read from a file in chunks or lines, depending on the requirements. Similarly, data can be written to a file in specified formats or structures.\n",
    "\n",
    "`Error Handling`: When performing file I/O operations, it is essential to handle potential errors, such as file not found, permissions issues, or disk full errors. Proper error handling ensures that the program can gracefully handle such scenarios and provide appropriate feedback to the user.\n",
    "\n",
    "The file I/O system provides a way to persist data beyond the program's runtime and allows for data sharing between different programs or users. It is widely used in various applications, such as reading configuration files, logging data, processing large datasets, and storing application data."
   ]
  },
  {
   "cell_type": "markdown",
   "metadata": {},
   "source": [
    "## 2.1 Creating a text file\n",
    "\n",
    "As a first step, let us see how we can create a text file."
   ]
  },
  {
   "cell_type": "code",
   "execution_count": null,
   "metadata": {},
   "outputs": [],
   "source": [
    "file = open(\"./output/testfile.txt\",\"w\") #giving the path of where you would like to create the file\n",
    "# w is write mode\n",
    "print(type(file))\n",
    " \n",
    "file.write(\"Hello, My name is Joe! \\n\")  #\\n actually indicates a next line!\n",
    "file.write(\"I want to enroll for the BDA program. \\n\") \n",
    "file.write(\"Who is the best person to contact? \\n\") \n",
    "file.write(\"Please let me know.\") \n",
    " \n",
    "file.close() #a text file named testfile.txt is created \n",
    "print('File has been created successfully')"
   ]
  },
  {
   "cell_type": "markdown",
   "metadata": {},
   "source": [
    "## 2.2 Reading the created text file\n",
    "\n",
    "Once the file is created, you can read the text file.\n"
   ]
  },
  {
   "cell_type": "code",
   "execution_count": null,
   "metadata": {},
   "outputs": [],
   "source": [
    "file = open(\"./output/testfile.txt\", \"r\") \n",
    "print(file.read()) "
   ]
  },
  {
   "cell_type": "code",
   "execution_count": null,
   "metadata": {},
   "outputs": [],
   "source": [
    "# Printing the first n characters of the file\n",
    "file = open(\"./output/testfile.txt\", \"r\") \n",
    "print(file.read(6))"
   ]
  },
  {
   "cell_type": "markdown",
   "metadata": {},
   "source": [
    "The pointer of the file now moves from start of the line to after the ',' (which is the 6th character in this case)."
   ]
  },
  {
   "cell_type": "code",
   "execution_count": null,
   "metadata": {},
   "outputs": [],
   "source": [
    "print(file.read(10)) #it reads 10 characters from ','. This includes any spaces in between as well."
   ]
  },
  {
   "cell_type": "markdown",
   "metadata": {},
   "source": [
    "If you keep on running the above code multiple times, it will keep on displaying the next 10 characters consequently."
   ]
  },
  {
   "cell_type": "markdown",
   "metadata": {},
   "source": [
    "## 2.3 Reading the text file line by line"
   ]
  },
  {
   "cell_type": "code",
   "execution_count": null,
   "metadata": {},
   "outputs": [],
   "source": [
    "file = open(\"./output/testfile.txt\", \"r\") \n",
    "print(file.readline())\n"
   ]
  },
  {
   "cell_type": "code",
   "execution_count": null,
   "metadata": {},
   "outputs": [],
   "source": [
    "# Reading the next line\n",
    "print(file.readline())"
   ]
  },
  {
   "cell_type": "markdown",
   "metadata": {},
   "source": [
    "You may choose to run the above code to see how python is reading the file line by line."
   ]
  },
  {
   "cell_type": "markdown",
   "metadata": {},
   "source": [
    "## 2.4 Reading all the lines in the text file together\n",
    "\n",
    "Instead of reading the lines one by one in the text file, you may choose to read all the lines in the file at one go."
   ]
  },
  {
   "cell_type": "code",
   "execution_count": null,
   "metadata": {},
   "outputs": [],
   "source": [
    "file = open(\"./output/testfile.txt\", \"r\") \n",
    "all_lines_from_file = file.readlines() #give all the lines as elements of a list\n",
    "print(type(all_lines_from_file)) #this gives all lines in the file inside a list \n",
    "\n",
    "# running a loop to print all lines from the file one by one\n",
    "for i in all_lines_from_file:\n",
    "    print(i) \n",
    "\n",
    "# or\n",
    "    \n",
    "print(\"------------ printing one at a time ----------\")\n",
    "print(all_lines_from_file)\n",
    "print(all_lines_from_file[1])\n",
    "print(all_lines_from_file[2])\n",
    "print(all_lines_from_file[0:3])"
   ]
  },
  {
   "cell_type": "markdown",
   "metadata": {},
   "source": [
    "## 2.5 Overwriting existing files\n",
    "\n",
    "If you are trying to write new lines to the file and open the file in 'w' (write) mode, then you may end up losing the existing lines as 'w' mode will overwrite existing content. So be careful when opening a file in 'w' mode."
   ]
  },
  {
   "cell_type": "code",
   "execution_count": null,
   "metadata": {},
   "outputs": [],
   "source": [
    "# open the file in write mode\n",
    "file = open(\"./output/testfile.txt\",\"w\") \n",
    "\n",
    "\n",
    "\n",
    "file.write(\"I have already enrolled in the course. \\n\") \n",
    "file.write(\"I am learning Python now. \\n\") \n",
    "\n",
    "file.close()"
   ]
  },
  {
   "cell_type": "code",
   "execution_count": null,
   "metadata": {},
   "outputs": [],
   "source": [
    "# open the file in read\n",
    "file = open(\"./output/testfile.txt\", \"r\") \n",
    "print(file.read()) "
   ]
  },
  {
   "cell_type": "markdown",
   "metadata": {},
   "source": [
    "You can see that all the existing lines in the file is now over written with new lines."
   ]
  },
  {
   "cell_type": "markdown",
   "metadata": {},
   "source": [
    "## 2.6 Appending to a file\n",
    "\n",
    "If you wish to add new lines to an existing file, instead of opening the file in 'w' write mode, you must open the file in 'a' (append) mode."
   ]
  },
  {
   "cell_type": "code",
   "execution_count": null,
   "metadata": {},
   "outputs": [],
   "source": [
    "file = open(\"./output/testfile.txt\",\"a\") #now we are opening the file in append mode.\n",
    " \n",
    "file.write(\"Next I will learn about Regular Expressions. \\n\") #adding new lines, this will append to the existing file\n",
    "file.write(\"Python is amazing! \\n\") \n",
    "\n",
    "file.close()"
   ]
  },
  {
   "cell_type": "code",
   "execution_count": null,
   "metadata": {},
   "outputs": [],
   "source": [
    "# reading the file \n",
    "\n",
    "file = open(\"./output/testfile.txt\", \"r\") \n",
    "print(file.read()) \n"
   ]
  },
  {
   "cell_type": "markdown",
   "metadata": {},
   "source": [
    "## 2.7 With Statement\n",
    "\n",
    "Python also provides the `with` statement, which automatically takes care of closing the file once you are done with it. It ensures proper file cleanup even if an exception occurs."
   ]
  },
  {
   "cell_type": "code",
   "execution_count": null,
   "metadata": {},
   "outputs": [],
   "source": [
    "with open('./output/testfile.txt', 'r') as file:\n",
    "    print(file.read())  \n",
    "\n",
    "# The file is automatically closed after exiting the `with` block\n"
   ]
  },
  {
   "cell_type": "markdown",
   "metadata": {},
   "source": [
    "## 2.8 Checking file Existence\n",
    "\n",
    "We can use the os.path module to check if a file exists before performing operations on it."
   ]
  },
  {
   "cell_type": "code",
   "execution_count": null,
   "metadata": {},
   "outputs": [],
   "source": [
    "import os #importing the os module\n",
    "\n",
    "filename = './output/testfile.txt'\n",
    "if os.path.exists(filename):\n",
    "    print(f\"The file '{filename}' exists.\")\n",
    "else:\n",
    "    print(f\"The file '{filename}' does not exist.\")\n"
   ]
  },
  {
   "cell_type": "code",
   "execution_count": null,
   "metadata": {},
   "outputs": [],
   "source": [
    "# try with another file that does not exist\n",
    "\n",
    "filename = './output/donotexist.txt'\n",
    "if os.path.exists(filename):\n",
    "    print(f\"The file '{filename}' exists.\")\n",
    "else:\n",
    "    print(f\"The file '{filename}' does not exist.\")\n"
   ]
  },
  {
   "cell_type": "markdown",
   "metadata": {},
   "source": [
    "## 2.9 Deleting a file\n",
    "\n",
    "You can delete a file using os.remove\n",
    "\n"
   ]
  },
  {
   "cell_type": "code",
   "execution_count": null,
   "metadata": {},
   "outputs": [],
   "source": [
    "filename = './output/testfile.txt'\n",
    "if os.path.exists(filename):\n",
    "    os.remove(filename)\n",
    "    print(f\"The file '{filename}' has been deleted.\")\n",
    "else:\n",
    "    print(f\"The file '{filename}' does not exist.\")\n"
   ]
  },
  {
   "cell_type": "code",
   "execution_count": null,
   "metadata": {},
   "outputs": [],
   "source": [
    "# checking if the file exists anymore\n",
    "\n",
    "import os #importing the os module\n",
    "\n",
    "filename = './output/testfile.txt'\n",
    "if os.path.exists(filename):\n",
    "    print(f\"The file '{filename}' exists.\")\n",
    "else:\n",
    "    print(f\"The file '{filename}' does not exist.\")\n",
    "    \n"
   ]
  },
  {
   "cell_type": "markdown",
   "metadata": {},
   "source": [
    "The file doesn't exist anymore and has been deleted."
   ]
  },
  {
   "cell_type": "markdown",
   "metadata": {},
   "source": [
    "## 2.10 File operation modes in Python\n",
    "\n",
    "\n",
    "Here's a table summarizing the file operation modes in Python, including the modes involving the '+' symbol:\n",
    "\n",
    "| Mode   | Description                                                      |\n",
    "|:--------|:------------------------------------------------------------------|\n",
    "| `'r'`  | Read mode - Open for reading (default).                          |\n",
    "| `'w'`  | Write mode - Open for writing. If the file exists, it's truncated. If it doesn't exist, a new file is created. |\n",
    "| `'a'`  | Append mode - Open for appending data at the end of the file. If the file exists, data is added to the end. If it doesn't exist, a new file is created. |\n",
    "| `'b'`  | Binary mode - Open in binary mode for working with binary files. |\n",
    "| `'t'`  | Text mode - Open in text mode for working with text files (default). |\n",
    "| `'x'`  | Exclusive creation mode - Open for writing exclusively. If the file exists, a `FileExistsError` exception is raised. |\n",
    "| `'r+'` | Read and Write mode - Open for both reading and writing.           |\n",
    "| `'w+'` | Write and Read mode - Open for both writing and reading.           |\n",
    "| `'a+'` | Append and Read mode - Open for both appending and reading.        |\n"
   ]
  },
  {
   "cell_type": "markdown",
   "metadata": {},
   "source": [
    "# 3. Python Summary: Hands-On Practice Exercise <a id='p3' />\n",
    "\n",
    "### Learners are to perform DIY debugging and troubleshooting using ChatGPT where necessary."
   ]
  },
  {
   "cell_type": "markdown",
   "metadata": {},
   "source": [
    "<b>1. Create a function to print the Fibonacci sequence up to a given number.</b>\n",
    "\n",
    ">*Hint : A fibonacci series till 100 is [0, 1, 1, 2, 3, 5, 8, 13, 21, 34, 55, 89], starts with a 0 & 1, and it keeps on adding the past two numbers in the series to get the next number.*"
   ]
  },
  {
   "cell_type": "code",
   "execution_count": 22,
   "metadata": {},
   "outputs": [
    {
     "name": "stdout",
     "output_type": "stream",
     "text": [
      "Enter a number: 21\n"
     ]
    },
    {
     "data": {
      "text/plain": [
       "[0, 1, 1, 2, 3, 5, 8, 13, 21]"
      ]
     },
     "execution_count": 22,
     "metadata": {},
     "output_type": "execute_result"
    }
   ],
   "source": [
    "def fibo(x = input(\"Enter a number: \")):\n",
    "    \n",
    "    x = int(x)    \n",
    "    ff = [0,1]\n",
    "    \n",
    "    while ff[-1] < x:\n",
    "        next = ff[-1] + ff[-2]\n",
    "        ff.append(next)\n",
    "    \n",
    "    return ff\n",
    "\n",
    "fibo()"
   ]
  },
  {
   "cell_type": "markdown",
   "metadata": {},
   "source": [
    "\n",
    "<b>2. Create a function to check if a given string is Palindrome or not.</b>\n",
    "\n",
    ">*Hint: A given string is palindrome if it reads the same forward or backward. Example: radar*"
   ]
  },
  {
   "cell_type": "code",
   "execution_count": 25,
   "metadata": {},
   "outputs": [
    {
     "data": {
      "text/plain": [
       "True"
      ]
     },
     "execution_count": 25,
     "metadata": {},
     "output_type": "execute_result"
    }
   ],
   "source": [
    "def palindrome(s):\n",
    "    return s == s[::-1]\n",
    "\n",
    "palindrome('radar')"
   ]
  },
  {
   "cell_type": "markdown",
   "metadata": {},
   "source": [
    "<b>3. Create a function to determine if a given year is a leap year using a function.</b>"
   ]
  },
  {
   "cell_type": "code",
   "execution_count": null,
   "metadata": {},
   "outputs": [],
   "source": []
  },
  {
   "cell_type": "markdown",
   "metadata": {},
   "source": [
    "<b>4. Create a file and write 10 lines in the file as follows:</b>\n",
    "\n",
    ">This is number 1 <br>\n",
    "This is number 2 <br>\n",
    ". <br>\n",
    ". <br>\n",
    ". <br>\n",
    ".\n",
    "This is number 10\n",
    "<br><br>and open and read all the lines of the file.\n"
   ]
  },
  {
   "cell_type": "code",
   "execution_count": 4,
   "metadata": {},
   "outputs": [
    {
     "name": "stdout",
     "output_type": "stream",
     "text": [
      "\n"
     ]
    }
   ],
   "source": [
    "with open('newfile2.txt', 'w+') as file:\n",
    "    \n",
    "    for i in range(10):\n",
    "        file.write(f'This is number {i}')\n",
    "    \n",
    "    print(file.read())"
   ]
  },
  {
   "cell_type": "code",
   "execution_count": null,
   "metadata": {},
   "outputs": [],
   "source": [
    "# Reading the file to show that everything is written\n",
    "file = open(\"./output/newfile.txt\",\"r\")\n",
    "print(file.read())"
   ]
  },
  {
   "cell_type": "markdown",
   "metadata": {},
   "source": [
    "<b>5. Following on question 4, write only rows where the numbers are greater than 5 into another new text file.</b>"
   ]
  },
  {
   "cell_type": "code",
   "execution_count": null,
   "metadata": {},
   "outputs": [],
   "source": []
  },
  {
   "cell_type": "code",
   "execution_count": null,
   "metadata": {},
   "outputs": [],
   "source": [
    "# Reading the file \n",
    "file = open(\"./output/newfile2.txt\",\"r\")\n",
    "print(file.read())"
   ]
  },
  {
   "cell_type": "markdown",
   "metadata": {},
   "source": [
    "<b>6. Following on question 5, write a function to count the number of lines in the text file.</b>"
   ]
  },
  {
   "cell_type": "code",
   "execution_count": null,
   "metadata": {},
   "outputs": [],
   "source": []
  },
  {
   "cell_type": "markdown",
   "metadata": {},
   "source": [
    "<b>7. You are given a list of dictionaries representing information about students. Each dictionary contains the following keys:</b>\n",
    "- 'name' (string), \n",
    "- 'age' (integer), \n",
    "- 'grades' (list of integers)\n",
    "\n",
    "<b>Write a function that takes the list of student dictionaries as input and returns a new list of dictionaries containing the following information for each student:</b>\n",
    "\n",
    "- 'name': The name of the student.\n",
    "- 'average_grade': The average of the student's grades (round to 1 decimal place).\n",
    "- 'passing': A boolean indicating whether the student's average grade is above or equal to 60 (passing) or below 60 (failing).\n",
    "\n",
    "<b>Input:</b>\n",
    "\n",
    "students = [\n",
    "    {'name': 'John', 'age': 18, 'grades': [75, 80, 95]},\n",
    "    {'name': 'Jane', 'age': 17, 'grades': [90, 85, 92]},\n",
    "    {'name': 'Alex', 'age': 19, 'grades': [55, 60, 65]}\n",
    "]\n",
    "\n",
    "<b>Output:</b>\n",
    "\n",
    "[\n",
    "    {'name': 'John', 'average_grade': 83.3, 'passing': True},\n",
    "    {'name': 'Jane', 'average_grade': 89.0, 'passing': True},\n",
    "    {'name': 'Alex', 'average_grade': 60.0, 'passing': True}\n",
    "]\n"
   ]
  },
  {
   "cell_type": "code",
   "execution_count": 5,
   "metadata": {},
   "outputs": [],
   "source": [
    "students = [{'name': 'John', 'age': 18, 'grades': [75, 80, 95]},\n",
    "            {'name': 'Jane', 'age': 17, 'grades': [90, 85, 92]},\n",
    "            {'name': 'Alex', 'age': 19, 'grades': [55, 60, 65]}]"
   ]
  },
  {
   "cell_type": "code",
   "execution_count": 17,
   "metadata": {},
   "outputs": [
    {
     "data": {
      "text/plain": [
       "[{'name': 'John', 'average_grade': 83.3, 'passing': True},\n",
       " {'name': 'Jane', 'average_grade': 89, 'passing': True},\n",
       " {'name': 'Alex', 'average_grade': 60, 'passing': True}]"
      ]
     },
     "execution_count": 17,
     "metadata": {},
     "output_type": "execute_result"
    }
   ],
   "source": [
    "import statistics as s\n",
    "\n",
    "[{'name'          : d['name'], \n",
    "  'average_grade' : round(s.mean(d['grades']),1),\n",
    "  'passing'       : round(s.mean(d['grades']),1) >= 60} for d in students]"
   ]
  },
  {
   "cell_type": "markdown",
   "metadata": {},
   "source": [
    "<b>Answer questions 8, 9 and 10 based on the following scenario and data.</b>\n",
    "\n",
    "`Scenario:`\n",
    "\n",
    "Below are some stocks data for 5 days:\n",
    "\n",
    ">date = ['23/07/2023', '22/07/2023', '21/07/2023', '20/07/2023', '19/07/2023']\n",
    "<br>close = [2984.55, 3097.91, 3136.29, 3195.84, 2962.97]\n",
    "<br>volume = [100,120,140,125,355]\n",
    "<br>high = [3000.55, 3200.34, 3206.56, 3300.44, 3000.09]"
   ]
  },
  {
   "cell_type": "markdown",
   "metadata": {},
   "source": [
    "<b>8. Write a Python program to extract the maximum value from ‘high’ using a loop.</b>"
   ]
  },
  {
   "cell_type": "code",
   "execution_count": 24,
   "metadata": {},
   "outputs": [
    {
     "name": "stdout",
     "output_type": "stream",
     "text": [
      "3300.44\n"
     ]
    }
   ],
   "source": [
    "high = [3000.55, 3200.34, 3206.56, 3300.44, 3000.09]\n",
    "x = high[0]\n",
    "\n",
    "for i in high:\n",
    "    x = i if i > x else x\n",
    "print(x)"
   ]
  },
  {
   "cell_type": "markdown",
   "metadata": {},
   "source": [
    "<b>9. Write a Python program to calculate the total sum of all elements in the volume list which are greater than 100.</b>"
   ]
  },
  {
   "cell_type": "code",
   "execution_count": 27,
   "metadata": {},
   "outputs": [
    {
     "name": "stdout",
     "output_type": "stream",
     "text": [
      "740\n",
      "740\n"
     ]
    }
   ],
   "source": [
    "volume = [100,120,140,125,355]\n",
    "x = 0\n",
    "ans = 120+140+125+355\n",
    "\n",
    "for i in volume:\n",
    "    x = x + i  if i > 100 else x\n",
    "print(x)\n",
    "print(ans)"
   ]
  },
  {
   "cell_type": "markdown",
   "metadata": {},
   "source": [
    "<b>10. A stakeholder indicates the following:</b>\n",
    ">When the day’s close price exceeds 3100, you are to buy 30 more stocks than the usual 60 stocks.\n",
    "    <br>If the day’s close price amount is less than 3000, you want to put in your buy order for 10 more stocks. \n",
    "\n",
    "<b>Structure your codes after understanding the above requirement and as a business outcome, print out the number of purchased stocks for each day.</b>"
   ]
  },
  {
   "cell_type": "code",
   "execution_count": 35,
   "metadata": {},
   "outputs": [
    {
     "name": "stdout",
     "output_type": "stream",
     "text": [
      "input close price: 2700\n",
      "70\n"
     ]
    }
   ],
   "source": [
    "close_price = int(input('input close price: '))\n",
    "\n",
    "# > 3100: 60 + 30\n",
    "# 3000-3100: 60\n",
    "# < 3000: 60 + 10\n",
    "\n",
    "print(90 if close_price > 3100 else (70 if close_price < 3000 else 60))\n"
   ]
  },
  {
   "cell_type": "markdown",
   "metadata": {},
   "source": [
    "<b>11. Write a Python function to split a given list into two parts where the length of the first list is given.</b>\n",
    "\n",
    ">Example: \n",
    "<br><br>Original list: \n",
    "<br>[1, 2, 2, 3, 3, 4, 5, 2] \n",
    "<br><br>Length of the first list: 3 \n",
    "<br><br>Split the said list into two parts: \n",
    "<br>([1, 2, 2], [3, 3, 4, 5, 2]) "
   ]
  },
  {
   "cell_type": "code",
   "execution_count": 39,
   "metadata": {},
   "outputs": [
    {
     "data": {
      "text/plain": [
       "([1, 2, 2], [3, 3, 4, 5, 2])"
      ]
     },
     "execution_count": 39,
     "metadata": {},
     "output_type": "execute_result"
    }
   ],
   "source": [
    "def split_list(lst , n):\n",
    "    return (lst[:n], lst[n:])\n",
    "\n",
    "split_list([1, 2, 2, 3, 3, 4, 5, 2], 3)"
   ]
  },
  {
   "cell_type": "markdown",
   "metadata": {},
   "source": [
    "<b>12. Write a Python program to remove the parenthesis area in a string.</b>\n",
    "\n",
    ">Example: \n",
    "<br><br>Sample data : [\"MS(.com)\", \"rise\", \"github (.com)\", \"google (.com)\"] \n",
    "<br><br>Expected Output: \n",
    "<br>MS\n",
    "<br>rise\n",
    "<br>github\n",
    "<br>google "
   ]
  },
  {
   "cell_type": "code",
   "execution_count": null,
   "metadata": {},
   "outputs": [],
   "source": []
  },
  {
   "cell_type": "markdown",
   "metadata": {},
   "source": [
    "<b>13. Write a Python program to print all unique values in a dictionary. </b>\n",
    "\n",
    ">Example:  \n",
    "<br>Sample Data : [{\"V\":\"S001\"}, {\"V\": \"S002\"}, {\"VI\": \"S001\"}, {\"VI\": \"S005\"}, {\"VII\":\"S005\"}, \n",
    "{\"V\":\"S009\"},{\"VIII\":\"S007\"}] \n",
    "<br><br>Expected Output : Unique Values: {'S005', 'S002', 'S007', 'S001', 'S009'} "
   ]
  },
  {
   "cell_type": "code",
   "execution_count": null,
   "metadata": {},
   "outputs": [],
   "source": []
  },
  {
   "cell_type": "markdown",
   "metadata": {},
   "source": [
    "<b>14. Write a Python program to get the top three priced items in a shop.</b>\n",
    "\n",
    ">Example:  \n",
    "<br>Sample data: {'item1': 45.50, 'item2':35, 'item3': 41.30, 'item4':55, 'item5': 24} \n",
    "<br><br>Expected Output:\n",
    "<br>item4 55 \n",
    "<br>item1 45.5 \n",
    "<br>item3 41.3 "
   ]
  },
  {
   "cell_type": "code",
   "execution_count": null,
   "metadata": {},
   "outputs": [],
   "source": []
  },
  {
   "cell_type": "markdown",
   "metadata": {},
   "source": [
    "<b>15. Extract all the hashtags from a given text using regex.</b>"
   ]
  },
  {
   "cell_type": "code",
   "execution_count": null,
   "metadata": {},
   "outputs": [],
   "source": []
  },
  {
   "cell_type": "markdown",
   "metadata": {},
   "source": [
    "<b>16. Consider the following matrices and calculate the following:</b>\n",
    "\n",
    ">i) Calculate the element-wise sum of Matrix A and Matrix B and store the result in a new matrix C.\n",
    "<br>ii) Calculate the dot product of Matrix A and Matrix B and store the result in a new matrix D.\n",
    "<br>iii) Transpose Matrix A and store the result in a new matrix E."
   ]
  },
  {
   "cell_type": "code",
   "execution_count": null,
   "metadata": {},
   "outputs": [],
   "source": [
    "# i) Calculate the element-wise sum of Matrix A and Matrix B and store the result in a new matrix C.\n"
   ]
  },
  {
   "cell_type": "code",
   "execution_count": null,
   "metadata": {},
   "outputs": [],
   "source": [
    "# ii) Calculate the dot product of Matrix A and Matrix B and store the result in a new matrix D.\n"
   ]
  },
  {
   "cell_type": "code",
   "execution_count": null,
   "metadata": {},
   "outputs": [],
   "source": [
    "# iii) Calculate the transpose of Matrix A and store the result in a new matrix E.\n"
   ]
  },
  {
   "cell_type": "markdown",
   "metadata": {},
   "source": [
    "##### The End\n",
    "[Back to Content](#tc)\n"
   ]
  },
  {
   "cell_type": "markdown",
   "metadata": {},
   "source": [
    "Copyright © 2023 by Boston Consulting Group. All rights reserved."
   ]
  }
 ],
 "metadata": {
  "anaconda-cloud": {},
  "celltoolbar": "Raw Cell Format",
  "kernelspec": {
   "display_name": "Python 3 (ipykernel)",
   "language": "python",
   "name": "python3"
  },
  "language_info": {
   "codemirror_mode": {
    "name": "ipython",
    "version": 3
   },
   "file_extension": ".py",
   "mimetype": "text/x-python",
   "name": "python",
   "nbconvert_exporter": "python",
   "pygments_lexer": "ipython3",
   "version": "3.11.5"
  }
 },
 "nbformat": 4,
 "nbformat_minor": 1
}
