{
 "cells": [
  {
   "cell_type": "markdown",
   "metadata": {},
   "source": [
    "<table class=\"table table-bordered\">\n",
    "    <tr>\n",
    "        <th style=\"width:200px;\">\n",
    "            <img src='https://bcgriseacademy.com/hs-fs/hubfs/RISE%202.0%20Logo_Options_25Jan23_RISE%20-%20For%20Black%20Background.png?width=3522&height=1986&name=RISE%202.0%20Logo_Options_25Jan23_RISE%20-%20For%20Black%20Background.png' style=\"background-color:black; width: 100%; height: 100%;\">\n",
    "        </th>\n",
    "        <th style=\"text-align:center;\">\n",
    "            <h1>IBF TFIP</h1>\n",
    "            <h2>Python Programming I</h2>\n",
    "        </th>\n",
    "    </tr>\n",
    "</table>"
   ]
  },
  {
   "cell_type": "markdown",
   "metadata": {},
   "source": [
    "# Learning Objectives\n",
    "#### After completing this lesson, you should be able to:\n",
    "\n",
    "1. LO1 : Appreciate and Use features of Jupyter Notebook\n",
    "2. LO2 : Understand Basics of Python (Variables, Datatypes)\n",
    "3. LO3 : Implement Python to perform operations and formatting on different datatypes\n",
    "4. LO4 : Implement Type casting in Python\n",
    "5. LO5 : Understand and Use user inputs in Python \n"
   ]
  },
  {
   "cell_type": "markdown",
   "metadata": {},
   "source": [
    "# Table of Contents <a id='tc'></a>\n",
    "\n",
    "1. [Introduction to Jupyter Notebook and User Interface](#p1)\n",
    "2. [Introduction to Python](#p2)\n",
    "3. [Variables](#p3)\n",
    "4. [Python Datatypes](#p4)\n",
    "5. [Python Operators](#p5)\n",
    "6. [Type Casting](#p6)\n",
    "7. [Working with user inputs](#p7)"
   ]
  },
  {
   "cell_type": "markdown",
   "metadata": {},
   "source": [
    "# 1. Introduction to Jupyter Notebook and User Interface <a id='p1' />\n",
    "## 1.1 What is Jupyter Notebook?"
   ]
  },
  {
   "cell_type": "markdown",
   "metadata": {},
   "source": [
    "Jupyter Notebook is an open-source web-based IDE (Integrated Development Environment) that allows users to create and share codes, visualizations and documentations. It help users to streamline the work in a more structured way and enable productivity and easy collaboration. The Jupyter Notebook has kernel attached which is a \"computational engine\" that helps in executing the code contained in a Jupyter Notebook. The RAM is not released until the kernel is shut down.\n",
    "\n",
    "When you launched the Jupyter Notebook app from Anaconda, the first component that opens up is the **Notebook Dashboard**. The Notebook Dashboard is used to open notebook documents, upload/ download files, creating files and folders, managing kernels etc.\n",
    "\n",
    "Once, you are in a Jupyter Notebook document like this, you will see gray boxes which are **Cells**. The cell type can be changed by a user. By default the cell type is **Code**, allowing users to write codes. To produce a text paragraph, users can also use **Markdown**. "
   ]
  },
  {
   "cell_type": "markdown",
   "metadata": {},
   "source": [
    "### 1.1.1 Kernel -> Restart & Run All\n",
    "\n",
    "Using \"Kernel -> Restart & Run All\" in Jupyter Notebook is a helpful command for executing all the code cells in the notebook from start to finish. It restarts the kernel, which clears the memory and starts with a fresh execution environment, and then runs each code cell in sequential order.\n",
    "\n",
    "It is a good practice to perform `Kernel -> Restart & Run All` and here are some benefits:\n",
    "\n",
    "* Consistent execution: It ensures that all code cells are executed in the same order, without any prior state or interference from previous runs. This helps in obtaining consistent and reliable results, especially when working on a complex notebook with dependencies between cells.\n",
    "\n",
    "* Reproducibility: By running all cells from the beginning, you can easily reproduce the entire notebook's execution and obtain the same results. This is particularly useful when sharing or collaborating on notebooks, as it eliminates any ambiguity regarding cell execution order.\n",
    "\n",
    "* Debugging and error-checking: Running all cells helps identify any issues or errors that might arise due to changes in the notebook's state or cell dependencies. It allows you to catch errors early on and ensure that the notebook executes as expected.\n",
    "\n",
    "* Workflow validation: Running all cells allows you to validate the workflow and logic of your notebook. It helps ensure that each cell executes without errors and produces the desired output, providing confidence in the correctness of the notebook's overall structure and functionality.\n",
    "\n",
    "* Time-saving: Running all cells at once eliminates the need to manually execute each cell individually, particularly when working with a large notebook. It saves time and streamlines the process of re-executing the entire notebook when needed.\n",
    "\n",
    "However, it's important to note that \"Kernel -> Restart & Run All\" will reset the notebook's state, which includes clearing variables, resetting imported modules, and erasing any stored data in memory. Therefore, be cautious and save any important data or results before using this command."
   ]
  },
  {
   "cell_type": "markdown",
   "metadata": {},
   "source": [
    "### 1.1.2 Kernel -> Restart & Clear Output\n",
    "\n",
    "Using \"Kernel -> Restart & Clear Output\" in Jupyter Notebook is a command that restarts the kernel and clears the output of all code cells in the notebook. It provides a way to reset the notebook's execution state and remove any previously displayed outputs.\n",
    "\n",
    "It is a good practice to perform `Kernel -> Restart & Clear Output` and here are some benefits:\n",
    "\n",
    "* Clean and organized presentation: When preparing a notebook for sharing, publication, or presentation, clearing the output ensures a clean and clutter-free view. It removes all previously executed output cells, making the notebook more readable and focused on the code and explanations.\n",
    "\n",
    "* File size reduction: Clearing the output helps reduce the file size of the notebook, especially if there are large outputs or plots generated during previous executions. This can be helpful when sharing or storing notebooks with limited storage or bandwidth constraints.\n",
    "\n",
    "* Quick rerun without re-execution: If you need to rerun the notebook but don't require the previous outputs, using \"Restart & Clear Output\" provides a way to reset the execution state without the need to re-execute the code cells. This can save time, particularly for long-running notebooks or those with computationally expensive code.\n",
    "\n",
    "* Privacy and security: Clearing the output before sharing or distributing a notebook helps ensure that any sensitive or confidential information displayed in previous outputs is not inadvertently disclosed. It helps protect the privacy and security of the data contained within the notebook.\n",
    "\n",
    "* Debugging and troubleshooting: When encountering issues or errors in a notebook, using \"Restart & Clear Output\" can be an initial step in the debugging process. By clearing the output and restarting the kernel, you can start with a clean state and isolate the source of the problem more effectively.\n",
    "\n",
    "It's important to note that using \"Kernel -> Restart & Clear Output\" will reset the notebook's execution state, clearing all output cells. The code cells remain intact, and you can rerun them as needed. However, any variables, imported modules, or stored data in memory will be reset."
   ]
  },
  {
   "cell_type": "markdown",
   "metadata": {},
   "source": [
    "### 1.1.3 Active and Inactive Cells\n",
    "\n",
    "In Jupyter Notebook, cells can have different colors to indicate their state. By default, active cells are highlighted in green, while inactive cells are displayed in blue. \n",
    "\n",
    "**Active Cells (Green Color):**\n",
    "\n",
    "- Active cells have a green border or background color to signify that they are currently selected or being worked on.\n",
    "- When you click on a cell or navigate to it using the keyboard, it becomes active, and the green color is applied to indicate its active state.\n",
    "- Active cells are editable, and you can modify their contents or execute the code within them.\n",
    "\n",
    "**Inactive Cells (Blue Color):**\n",
    "\n",
    "- Inactive cells are displayed with a blue border or background color to indicate that they are not currently selected or being edited.\n",
    "- When you click outside of a cell or navigate away from it using the keyboard, it becomes inactive, and the blue color is applied to represent its inactive state.\n",
    "- Inactive cells are not editable by default, and you cannot modify their contents unless you make them active again.\n",
    "\n",
    "\n",
    "To switch between active and inactive cells in Jupyter Notebook, you can use various methods:\n",
    "\n",
    "- Mouse Click: Click on a cell to make it active. The border around the cell indicates the active state.\n",
    "- Keyboard Navigation: Use the arrow keys to move the selection to a different cell. Pressing Enter or double-clicking on a cell activates it.\n",
    "- Command Mode: Press the Esc key to enter the command mode. In this mode, the currently selected cell becomes inactive, and you can navigate through the notebook using keyboard shortcuts.\n",
    "- Cell Toolbar: Some Jupyter Notebook interfaces provide a cell toolbar where you can select the cell type (code, markdown, etc.). Interacting with the toolbar doesn't activate or deactivate a cell but allows you to specify the type of cell.\n",
    "\n",
    "It's important to note that only active cells can be executed. When you run a cell (using Shift+Enter or the \"Run\" button), the active cell's code is executed, and the output, if any, is displayed below the cell.\n",
    "\n",
    "Understanding the active and inactive states of cells in Jupyter Notebook is essential for editing and executing code effectively. It allows you to work on specific cells while keeping others inactive or read-only."
   ]
  },
  {
   "cell_type": "markdown",
   "metadata": {},
   "source": [
    "### 1.1.4 Useful Shortcut Keys\n",
    "\n",
    "In Jupyter Notebook there are various useful shortcut keys, some of them that comes really handy are:\n",
    "\n",
    "- `\"a\" - Inserts cell above` : When you press the \"a\" key in command mode (pressing the Esc key to enter command mode if necessary), a new code cell will be inserted above the currently selected cell. You can start typing code in the newly inserted cell.\n",
    "\n",
    "- `\"b\" - Inserts cell below` : Similarly, pressing the \"b\" key in command mode will insert a new code cell below the currently selected cell. This allows you to quickly add a new cell for writing code.\n",
    "\n",
    "- `\"dd\" - Delete cell` : To delete a cell, select it and press the \"d\" key twice in quick succession. The selected cell will be deleted, removing it from the notebook.\n",
    "\n",
    "\n",
    "It's important to note that these shortcuts work when you are in command mode only. If you are in edit mode (indicated by the green cell border), you can press the Esc key to switch to command or inactive mode (indicated by blue cell border).\n",
    "\n",
    "Command mode allows you to perform various notebook-level operations without editing the contents of individual cells. These shortcuts provide a quick and efficient way to insert and delete cells as you work on your notebook.\n",
    "\n",
    "Remember to use these shortcuts carefully, as deleted cells cannot be recovered unless you have a backup or version control system in place.\n",
    "\n",
    "\n",
    "\n",
    "\n",
    "\n"
   ]
  },
  {
   "cell_type": "code",
   "execution_count": null,
   "metadata": {},
   "outputs": [],
   "source": []
  },
  {
   "cell_type": "markdown",
   "metadata": {},
   "source": [
    "## 1.2 Running Cells\n",
    "\n",
    "We can type code in a cell, but until we push the `run` button at the top, press `Shift+Enter` or press `Ctrl+Enter` it has not been \"run.\" We can check this because there will not be a number in the prompt to the side. When a cell has a number to the side that means that the cell has been **executed**. That number also tells you the order that the cell was executed in. \n",
    "\n",
    "You can choose to execute one cell before the other.\n",
    "\n",
    "In Jupyter Notebook, the sequence of cell execution follows the order in which you run the cells. Each code cell is executed independently, and the results or outputs are displayed below the corresponding cell. Each code cell has a unique number assigned to it, typically displayed in square brackets on the left side of the cell like **In[x]**.\n",
    "The numbering reflects the order in which the cells were executed. Newly executed cells receive the next available number."
   ]
  },
  {
   "cell_type": "code",
   "execution_count": null,
   "metadata": {},
   "outputs": [],
   "source": [
    "#Execute this cell second\n",
    "\n"
   ]
  },
  {
   "cell_type": "code",
   "execution_count": null,
   "metadata": {},
   "outputs": [],
   "source": [
    "#Execute this cell first\n",
    "\n"
   ]
  },
  {
   "cell_type": "markdown",
   "metadata": {},
   "source": [
    "As you use a variable name, `a_number` in this case, it persists throughout until it is updated to a new value."
   ]
  },
  {
   "cell_type": "code",
   "execution_count": null,
   "metadata": {},
   "outputs": [],
   "source": []
  },
  {
   "cell_type": "markdown",
   "metadata": {},
   "source": [
    "## 1.3 Notebook Features\n",
    "\n",
    "#### 1.3.1 Tab Completion\n",
    "Tab-completion: When you press `tab` it auto completes or provides a dropdown to choose from."
   ]
  },
  {
   "cell_type": "code",
   "execution_count": null,
   "metadata": {},
   "outputs": [],
   "source": [
    "#Place your cursor at the `_` and press tab\n"
   ]
  },
  {
   "cell_type": "markdown",
   "metadata": {},
   "source": [
    "#### 1.3.2 Documentation\n",
    "So far, you would have noticed the lines starting with '#' and green colored texts.  Those lines are **comments**. Their purpose is to provide information to the person reading the code. They help make codes more readable and is encouraged to be used as much as possible. <br>\n",
    "However, commenting should be used for explanation by the developer of the code.  You should not typically provide information on things that are part of standard Python already. <br>\n",
    "Fortunately, for help related to any Python function, it is always a click away. Whenever you have a function and you are unsure about its functionality, you can have the Notebook look it up for you by pressing `Shift+Tab` inside the parentheses."
   ]
  },
  {
   "cell_type": "code",
   "execution_count": null,
   "metadata": {},
   "outputs": [],
   "source": [
    "#Place your cursor after the `(` and press Shift+Tab\n"
   ]
  },
  {
   "cell_type": "markdown",
   "metadata": {},
   "source": [
    "#### 1.3.3 Commenting multiple lines\n",
    "\n",
    "You can also easily comment multiple lines in one go. Just select multiple lines with your cursor and then press `Cmd and /` (`Ctrl and /` for Windows) <br>\n",
    "(You can uncomment multiple lines with the same key command)"
   ]
  },
  {
   "cell_type": "code",
   "execution_count": null,
   "metadata": {},
   "outputs": [],
   "source": [
    "#Highlight the lines and then press Cmd+/ or Ctrl+/ (for windows)\n",
    "\n"
   ]
  },
  {
   "cell_type": "markdown",
   "metadata": {},
   "source": [
    "#### 1.3.4 Indenting multiple lines\n",
    "\n",
    "As code gets complex, blocks of code (see above) can occur inside other blocks. As you write your code, you may change the structure of your program and may need to change the indentation of multiple lines of code.\n",
    "You can indent multiple lines by selecting them and then pressing `Tab`.\n",
    "To de-indent, you press `Shift+Tab` instead."
   ]
  },
  {
   "cell_type": "code",
   "execution_count": null,
   "metadata": {},
   "outputs": [],
   "source": [
    "#Highlight the lines and then press tab\n",
    "\n"
   ]
  },
  {
   "cell_type": "markdown",
   "metadata": {},
   "source": [
    "There are more such key commands that you can leverage.\n",
    "To see the list of keyboard commands just press `Esc` and then `h`, that will bring up the entire list of keyboard commands."
   ]
  },
  {
   "cell_type": "markdown",
   "metadata": {},
   "source": [
    "# 2. Introduction to Python <a id='p2' />\n",
    "\n",
    "## 2.1 What is Python?\n",
    "\n",
    "Python is a high-level, interpreted, and general-purpose programming language. Python emphasizes code readability and simplicity, making it accessible to beginners while remaining powerful enough for experienced programmers.\n",
    "\n",
    "Python is widely used in various domains, including web development, data analysis, scientific computing, artificial intelligence, machine learning, automation, and scripting. It is known for its simplicity, readability, and the ease with which developers can write and maintain code.\n",
    "\n",
    "Due to its popularity and versatility, Python has a vast ecosystem of libraries and frameworks, such as Django, Flask, NumPy, pandas, TensorFlow, and scikit-learn, which further extend its functionality and make it a preferred choice for many developers and organizations.\n",
    "\n",
    "## 2.2 Why is Python so popular?\n",
    "\n",
    "* `Readability`: Python has a clean and easy-to-understand syntax that emphasizes the use of whitespace and indentation for code structure. This results in code that is highly readable and enhances the overall maintainability of Python programs.\n",
    "\n",
    "* `Versatility`: Python is a versatile language that supports multiple programming paradigms, including procedural, object-oriented, and functional programming. It offers a wide range of libraries and frameworks that facilitate tasks such as web development, data analysis, scientific computing, machine learning, and more.\n",
    "\n",
    "* `Large Standard Library`: Python comes with a comprehensive standard library, providing a rich set of pre-built modules and functions for various tasks. This library eliminates the need to write code from scratch for common functionalities, enabling developers to work efficiently and focus on solving problems.\n",
    "\n",
    "* `Cross-platform`: Python is cross-platform, meaning that it can run on different operating systems such as Windows, macOS, and Linux without significant modifications. This allows developers to write code once and run it on multiple platforms.\n",
    "\n",
    "* `Dynamically Typed`: Python is dynamically typed, which means that variable types are determined automatically at runtime. This allows for flexible programming and reduces the need for explicit type declarations.\n",
    "\n",
    "* `Interpreted`: Python is an interpreted language, meaning that code is executed line by line at runtime, without the need for explicit compilation. This leads to quicker development cycles and easier debugging.\n",
    "\n",
    "* `Community and Ecosystem`: Python has a large and active community of developers who contribute to its growth and development. This vibrant community has created numerous third-party libraries, frameworks, and tools, expanding Python's capabilities and making it suitable for a wide range of applications."
   ]
  },
  {
   "attachments": {
    "image.png": {
     "image/png": "[encoded data removed]"
    }
   },
   "cell_type": "markdown",
   "metadata": {},
   "source": [
    "\n",
    "\n",
    "# 3. Variables <a id='p3' />\n",
    "\n",
    "## 3.1 Variables naming conventions\n",
    "\n",
    "A variable is a named storage location that holds a value. It acts as a container to store data that can be accessed and manipulated throughout your code. In Python, variables are used to store values that can be referenced and manipulated in your code. \n",
    "\n",
    "When you declare a variable in Python, you assign a value to it using the assignment operator (=). Here's the general syntax:\n",
    "\n",
    "`variable_name = value`\n",
    "\n",
    "* Names with two leading and trailing underscores (e.g., \\__name\\__) generally have special meaning to the Python interpreter, thus avoid this pattern for your own names\n",
    "* Class names usually start with an upper case alphabet\n",
    "* Module names start with a lower case alphabet\n",
    "\n",
    "![image.png](attachment:image.png)\n",
    "* Variable names are not declared before being used – but they must be initialized\n",
    "* When a variable is assigned to an object, it references that object\n",
    "* Thus the statement a = 3 does the following :\n",
    "    * create an object to represent the value 3\n",
    "    * create the variable a, if it does not yet exist\n",
    "    * link the variable a to the new object 3 –: a is a reference to 3\n",
    "    \n",
    "* Conceptually each time a new value is generated in script by running an expression, Python creates a new object (a chunk of memory) to represent that value.\n",
    "* As an optimization, Python internally caches and reuses certain kinds of unchangeable objects, such as small integers and strings (each 0 is not really a new piece of memory)\n",
    "\n",
    "* An object is a chunk of memory used to hold :\n",
    "    * the actual object values\n",
    "    * a type designator used to mark the type of the object\n",
    "    * a reference counter used to determine when it’s OK to reclaim the object\n",
    "* Thus the type is associated with the object and not with the variable :\n",
    "    * a variable can be assigned to different objects of different types at different times\n"
   ]
  },
  {
   "cell_type": "code",
   "execution_count": null,
   "metadata": {},
   "outputs": [],
   "source": [
    "# the `=` sign here is called the assignment operator\n"
   ]
  },
  {
   "cell_type": "markdown",
   "metadata": {},
   "source": [
    "Here we have created `a_number` as the **variable** and assigned `20` as its **value**. \n",
    "\n",
    "Now at any time we can use our variable `a_number` again, or just look at its value. \n",
    "\n",
    "We can look at the content of a variable using the `print()` function."
   ]
  },
  {
   "cell_type": "markdown",
   "metadata": {},
   "source": [
    "## 3.2 Simple built-in functions in Python\n",
    "\n",
    "Built-in functions in Python are pre-defined functions that are available for use without the need for importing external libraries or modules. These functions are built into the Python interpreter and provide a wide range of functionalities to perform common operations and tasks. \n",
    "\n",
    "We will use built-in functions in python and a couple of them that will be very heavily used are:\n",
    "\n",
    "- print() : The print() function in Python is used to display output to the console or terminal. It allows you to print text, variables, expressions, and more. \n",
    "\n",
    "    Syntax:\n",
    "\n",
    "    print(value1, value2, ..., sep=' ', end='\\n', file=sys.stdout, flush=False)\n",
    "\n",
    "    Parameters:\n",
    "    \n",
    "    value1, value2, ...: The values or expressions to be printed. Multiple values can be separated by commas.\n",
    "\n",
    "    sep (optional): Specifies the separator between the values. The default value is a space (' ').\n",
    "\n",
    "    end (optional): Specifies the string appended after the last value. The default value is a newline character ('\\n').\n",
    "\n",
    "    file (optional): Specifies the file-like object where the output is directed. The default is the standard output (sys.stdout).\n",
    "    \n",
    "    flush (optional): If True, the output is forcibly flushed. The default value is False.\n",
    "\n",
    "The print() function is a versatile tool for displaying output in Python. It is commonly used for debugging, printing intermediate results, and providing information to the user during program execution.\n",
    "\n",
    "- type() : The type() function in Python is used to determine the data type of an object or value. It returns the type of the object as an output. \n",
    "\n",
    "    Syntax:\n",
    "\n",
    "    type(object)\n",
    "\n",
    "    Parameter:\n",
    "\n",
    "    object: The object whose type needs to be determined.\n",
    "    \n",
    "The output is enclosed in <class '...'> notation, indicating the class or type of the object.\n",
    "\n",
    "The type() function is commonly used for type checking, debugging, and handling different data types within Python programs. It allows you to dynamically determine the type of an object at runtime and perform appropriate operations based on that type."
   ]
  },
  {
   "cell_type": "code",
   "execution_count": null,
   "metadata": {},
   "outputs": [],
   "source": []
  },
  {
   "cell_type": "markdown",
   "metadata": {},
   "source": [
    "In Python, we don't need to explicitly define the datatype of a variable, Python is intelligent enough to understand a variable's datatype. We can check the data type that Python assigned to the defined variables."
   ]
  },
  {
   "cell_type": "code",
   "execution_count": null,
   "metadata": {},
   "outputs": [],
   "source": [
    "#python  automatically determines the datatype of whatever you have assigned to it"
   ]
  },
  {
   "cell_type": "code",
   "execution_count": null,
   "metadata": {},
   "outputs": [],
   "source": []
  },
  {
   "cell_type": "markdown",
   "metadata": {},
   "source": [
    "Once a variable is created, we can perform several operations on it:"
   ]
  },
  {
   "cell_type": "code",
   "execution_count": null,
   "metadata": {},
   "outputs": [],
   "source": [
    "# here we are performing multiplication"
   ]
  },
  {
   "cell_type": "markdown",
   "metadata": {},
   "source": [
    "In the above piece of code, you are not updating the value of the variable but only seeing the output of the operation performed."
   ]
  },
  {
   "cell_type": "markdown",
   "metadata": {},
   "source": [
    "Be mindful that only those operations that are appropriate to datatype can be performed. Can you think of what happens if you try to add a text with a number???\n",
    "\n",
    "Python, also can't operate on such situations, and if you try to perform such operations, it ends up giving errors."
   ]
  },
  {
   "cell_type": "code",
   "execution_count": null,
   "metadata": {},
   "outputs": [],
   "source": []
  },
  {
   "cell_type": "markdown",
   "metadata": {},
   "source": [
    "As variable means something that can vary. Hence, a variable can have its value changed."
   ]
  },
  {
   "cell_type": "code",
   "execution_count": null,
   "metadata": {},
   "outputs": [],
   "source": [
    "#initial value of a_number\n",
    "\n",
    "#changed value of a_number"
   ]
  },
  {
   "cell_type": "markdown",
   "metadata": {},
   "source": [
    "# 4. Python Datatypes <a id='p4' />\n",
    "\n",
    "In Python, there are several built-in datatypes that can be used to represent different kinds of values. In this section, we will understand the basic datatypes in Python that is capable of storing single values.\n",
    "\n",
    "The basic datatypes in Python are:\n",
    "\n",
    "* Integers\n",
    "* Floats\n",
    "* Booleans\n",
    "* Strings"
   ]
  },
  {
   "cell_type": "markdown",
   "metadata": {},
   "source": [
    "## 4.1 Integers\n",
    "\n",
    "An integer in python is equivalent to a **natural number** in Mathematics. They are numbers that is countable.\n",
    "\n",
    "Python allows you to perform basic arithmetic operations with integers whether you define variables or not. Some of the common operations like addition, subtraction, multiplication, division, power, root, etc. can be easily performed."
   ]
  },
  {
   "cell_type": "code",
   "execution_count": null,
   "metadata": {},
   "outputs": [],
   "source": []
  },
  {
   "cell_type": "code",
   "execution_count": null,
   "metadata": {},
   "outputs": [],
   "source": []
  },
  {
   "cell_type": "code",
   "execution_count": null,
   "metadata": {},
   "outputs": [],
   "source": []
  },
  {
   "cell_type": "code",
   "execution_count": null,
   "metadata": {},
   "outputs": [],
   "source": []
  },
  {
   "cell_type": "code",
   "execution_count": null,
   "metadata": {},
   "outputs": [],
   "source": []
  },
  {
   "cell_type": "markdown",
   "metadata": {},
   "source": [
    "We can also store the result of an operation into a variable. The variable will store the evaluated answer, not the arithmetic expression."
   ]
  },
  {
   "cell_type": "code",
   "execution_count": null,
   "metadata": {},
   "outputs": [],
   "source": []
  },
  {
   "cell_type": "markdown",
   "metadata": {},
   "source": [
    "We see that the division operator stores the answer that we are used to, which is $6.3\\bar{3}$. This behavior for the division operator is actually new in Python 3! Before in Python 2 when we would do the operation \n",
    "\n",
    "`first_result = 19 / 3`\n",
    "\n",
    "We would get the result:\n",
    "\n",
    "`print( first_result ) ==> 3`\n",
    "\n",
    "This was because it was thought that if we divide one integer by another integer, the operation should also return an integer in order to keep all the variable types the same. "
   ]
  },
  {
   "cell_type": "markdown",
   "metadata": {},
   "source": [
    "## 4.2 Floats\n",
    "\n",
    "Floats in Python is equivalent to **rational number** in Mathematics. While floats are meant to replicate on the computer **real numbers**, the fact is that one can only use a limited amount of storage to keep a number so it is impossible to store an **irrational number** such as **pi**. "
   ]
  },
  {
   "cell_type": "code",
   "execution_count": null,
   "metadata": {},
   "outputs": [],
   "source": [
    " "
   ]
  },
  {
   "cell_type": "code",
   "execution_count": null,
   "metadata": {},
   "outputs": [],
   "source": []
  },
  {
   "cell_type": "markdown",
   "metadata": {},
   "source": [
    "Notice that int, float, type, print etc. are colored green. This is because these words are defined and reserved by the language."
   ]
  },
  {
   "cell_type": "markdown",
   "metadata": {},
   "source": [
    "## 4.3 Floats Booleans\n",
    "\n",
    "A Boolean datatype is like a **logical variable**. The name Boolean refers to **George Boole** who first defined an algebraic system of logic in the mid 19th century. The Boolean data type is primarily associated with conditional statements, which allow different actions and change control flow depending on whether a programmer-specified Boolean condition evaluates to `True` or `False`.\n",
    "\n",
    "With just these two variable values we can implement basic logic and check for truth in a programming language."
   ]
  },
  {
   "cell_type": "code",
   "execution_count": null,
   "metadata": {},
   "outputs": [],
   "source": []
  },
  {
   "cell_type": "code",
   "execution_count": null,
   "metadata": {},
   "outputs": [],
   "source": []
  },
  {
   "cell_type": "code",
   "execution_count": null,
   "metadata": {},
   "outputs": [],
   "source": []
  },
  {
   "cell_type": "code",
   "execution_count": null,
   "metadata": {},
   "outputs": [],
   "source": []
  },
  {
   "cell_type": "markdown",
   "metadata": {},
   "source": [
    "## 4.4 Strings\n",
    "\n",
    "Strings in python are equivalent to texts. It is an **ordered sequence of characters**. \n",
    "\n"
   ]
  },
  {
   "cell_type": "code",
   "execution_count": null,
   "metadata": {},
   "outputs": [],
   "source": []
  },
  {
   "cell_type": "code",
   "execution_count": null,
   "metadata": {},
   "outputs": [],
   "source": []
  },
  {
   "cell_type": "markdown",
   "metadata": {},
   "source": [
    "Some basic operations can be performed using strings in python."
   ]
  },
  {
   "cell_type": "code",
   "execution_count": null,
   "metadata": {},
   "outputs": [],
   "source": []
  },
  {
   "cell_type": "markdown",
   "metadata": {},
   "source": [
    "You can even just multiply a string to make it longer."
   ]
  },
  {
   "cell_type": "code",
   "execution_count": null,
   "metadata": {},
   "outputs": [],
   "source": []
  },
  {
   "cell_type": "markdown",
   "metadata": {},
   "source": [
    "However, only those mathematical operations can be performed on strings that are unambiguous. Again, as you cannot think of how diving two strings or a string and a number would look like, Python also cannot perform such operations.\n",
    "\n"
   ]
  },
  {
   "cell_type": "code",
   "execution_count": null,
   "metadata": {},
   "outputs": [],
   "source": []
  },
  {
   "cell_type": "code",
   "execution_count": null,
   "metadata": {},
   "outputs": [],
   "source": []
  },
  {
   "cell_type": "markdown",
   "metadata": {},
   "source": [
    "### 4.4.1 String Indexing\n",
    "\n",
    "Strings are ordered collection of characters. As they are collections, you can access its elements individually or in groups. \n",
    "\n",
    "You can access a single character in a string by **indexing**. \n",
    "\n",
    "**To index a single element, you add `[ ]` after the variable name** and tell it the numerical index of the element you want to access.\n",
    "\n",
    "Keep in mind that indexing in Python starts with a 0, ehich means that numerical index for the first element is actually 0."
   ]
  },
  {
   "cell_type": "code",
   "execution_count": null,
   "metadata": {},
   "outputs": [],
   "source": []
  },
  {
   "cell_type": "code",
   "execution_count": null,
   "metadata": {},
   "outputs": [],
   "source": [
    "# How to extract P from Python? With index 0\n",
    "\n"
   ]
  },
  {
   "cell_type": "code",
   "execution_count": null,
   "metadata": {},
   "outputs": [],
   "source": [
    "# to extract n \n",
    "\n"
   ]
  },
  {
   "cell_type": "markdown",
   "metadata": {},
   "source": [
    "For longer strings it might be hard to figure out the index of the final elements. To circumvent that difficulty, Python allows you to access elements by counting from the end of the string too.\n",
    "\n",
    "When counting from the end, you use negative indicies. So, if you count backward, the index strats from **`-1`**."
   ]
  },
  {
   "cell_type": "code",
   "execution_count": null,
   "metadata": {},
   "outputs": [],
   "source": [
    "# to extract n from Python, you can also use negative indexing\n",
    "\n",
    "\n"
   ]
  },
  {
   "cell_type": "markdown",
   "metadata": {},
   "source": [
    "Beware that if you try to access an element, then the element must exist. This means that since the word `Python` is six characters long, you cannot try to access the element with index `6`."
   ]
  },
  {
   "cell_type": "code",
   "execution_count": null,
   "metadata": {},
   "outputs": [],
   "source": []
  },
  {
   "cell_type": "markdown",
   "metadata": {},
   "source": [
    "### 4.4.2 String Slicing\n",
    "\n",
    "What if we wanted to get out more than one element from a string? We can do that too by using the concept of slicing.\n",
    "\n",
    "The syntax for slicing is deceptively simple, the simple syntax is:\n",
    "`variable[start_index : stop_index]`\n",
    "\n",
    "You'll see that all of the inputs go within the `[]` and the `:` separates each input. \n",
    "\n",
    "The `start_index` tells python which index we want to start getting elements from.\n",
    "\n",
    "The `stop_index` tells python which index we want elements **up to but not including**"
   ]
  },
  {
   "cell_type": "code",
   "execution_count": null,
   "metadata": {},
   "outputs": [],
   "source": []
  },
  {
   "cell_type": "markdown",
   "metadata": {},
   "source": [
    "If we want to access the 'Python is' part of the string"
   ]
  },
  {
   "cell_type": "code",
   "execution_count": null,
   "metadata": {},
   "outputs": [],
   "source": []
  },
  {
   "cell_type": "code",
   "execution_count": null,
   "metadata": {},
   "outputs": [],
   "source": [
    "# you can also write this as:\n",
    "\n"
   ]
  },
  {
   "cell_type": "code",
   "execution_count": null,
   "metadata": {},
   "outputs": [],
   "source": [
    "# can you use negative index to extract much?\n",
    "\n"
   ]
  },
  {
   "cell_type": "code",
   "execution_count": null,
   "metadata": {},
   "outputs": [],
   "source": [
    "# Let's now try to extract fun! using negative index.\n",
    "\n"
   ]
  },
  {
   "cell_type": "markdown",
   "metadata": {},
   "source": [
    "### 4.4.3 String Formatting\n",
    "\n",
    "Python uses C-style string formatting to create new, formatted strings. The \"%\" operator is used to format a set of variables enclosed in a \"tuple\" (a fixed size list), together with a format string, which contains normal text together with \"argument specifiers\", special symbols like \"%s\" and \"%d\"."
   ]
  },
  {
   "cell_type": "code",
   "execution_count": null,
   "metadata": {},
   "outputs": [],
   "source": []
  },
  {
   "cell_type": "code",
   "execution_count": null,
   "metadata": {},
   "outputs": [],
   "source": [
    "# If format requires a single argument, values can be a single object.\n"
   ]
  },
  {
   "cell_type": "code",
   "execution_count": null,
   "metadata": {},
   "outputs": [],
   "source": [
    "# The Pythonic way of string formatting is:\n",
    "\n"
   ]
  },
  {
   "cell_type": "code",
   "execution_count": null,
   "metadata": {},
   "outputs": [],
   "source": [
    "# You can also write in the below format\n",
    "\n"
   ]
  },
  {
   "cell_type": "code",
   "execution_count": null,
   "metadata": {},
   "outputs": [],
   "source": [
    "# Some variables can be used multiple times\n",
    "\n"
   ]
  },
  {
   "cell_type": "markdown",
   "metadata": {},
   "source": [
    "In Python, both single quotes ('') and double quotes (\"\") can be used to define string literals. There is no difference in terms of functionality between using single or double quotes to define a string. However, there are a few scenarios where one may be preferred over the other:\n",
    "\n",
    "- Quoting within the string:\n",
    "\n",
    "If your string contains a quote character, you can use the other type of quote to avoid escaping the inner quote.\n",
    "For example, if your string contains a single quote, you can define it using double quotes: \"It's a string.\". Alternatively, if your string contains double quotes, you can use single quotes: 'He said, \"Hello!\"'.\n",
    "\n",
    "- Consistency with existing code:\n",
    "\n",
    "If you're working with existing code that uses one type of quote, it can be beneficial to maintain consistency throughout the codebase. This improves code readability and reduces confusion.\n",
    "\n",
    "- Personal preference or style guidelines:\n",
    "\n",
    "Some developers and coding style guides may have a preference for using single or double quotes for strings. It's important to follow the conventions established by your team or project to maintain consistency and readability.\n",
    "\n",
    "Remember, the key point is that Python treats single and double quotes as equivalent for defining strings. Choose the one that best fits the situation and maintains consistency within your codebase."
   ]
  },
  {
   "cell_type": "code",
   "execution_count": null,
   "metadata": {},
   "outputs": [],
   "source": [
    "# examples demonstrating the usage of both single and double quotes for string literals:"
   ]
  },
  {
   "cell_type": "markdown",
   "metadata": {},
   "source": [
    "# 5. Python Operators <a id='p5' />\n",
    "\n",
    "There are various Operators in Python that carries out arithmetic or logical computation:\n",
    "\n",
    "- Arithmetic Operators\n",
    "- Relational Operators\n",
    "- Assignment Operators\n",
    "- Logical Operators\n",
    "- Membership Operators\n",
    "- Identity Operators\n",
    "\n"
   ]
  },
  {
   "cell_type": "markdown",
   "metadata": {},
   "source": [
    "## 5.1 Arithmetic Operators"
   ]
  },
  {
   "cell_type": "code",
   "execution_count": null,
   "metadata": {},
   "outputs": [],
   "source": [
    "#addition\n",
    "#subtraction\n",
    "#multiplication\n",
    "#division\n",
    "#remainder. The % operator is also known as modulus.\n",
    "#quotient\n",
    "#power"
   ]
  },
  {
   "cell_type": "markdown",
   "metadata": {},
   "source": [
    "## 5.2 Relational Operators"
   ]
  },
  {
   "cell_type": "code",
   "execution_count": null,
   "metadata": {},
   "outputs": [],
   "source": [
    "## Relational Operators checks if the LHS is equivalent to the RHS. This is used for comparing numbers or texts\n",
    "\n",
    "# Equality\n",
    "\n",
    "\n",
    "# Greater Than equals Operator\n",
    "\n",
    "# Not equal to operator\n",
    "\n",
    "\n"
   ]
  },
  {
   "cell_type": "markdown",
   "metadata": {},
   "source": [
    "## 5.3 Assignment Operators"
   ]
  },
  {
   "cell_type": "code",
   "execution_count": null,
   "metadata": {},
   "outputs": [],
   "source": [
    "\n",
    "\n",
    "#this is a long version\n",
    "\n",
    "\n",
    "\n",
    "# this is an alternative way of writing\n",
    "\n",
    "\n"
   ]
  },
  {
   "cell_type": "markdown",
   "metadata": {},
   "source": [
    "## 5.4 Logical Operators"
   ]
  },
  {
   "cell_type": "code",
   "execution_count": null,
   "metadata": {},
   "outputs": [],
   "source": []
  },
  {
   "cell_type": "markdown",
   "metadata": {},
   "source": [
    "## 5.5 Membership Operators"
   ]
  },
  {
   "cell_type": "code",
   "execution_count": null,
   "metadata": {},
   "outputs": [],
   "source": []
  },
  {
   "cell_type": "markdown",
   "metadata": {},
   "source": [
    "## 5.6 Identity Operators\n",
    "\n"
   ]
  },
  {
   "cell_type": "code",
   "execution_count": null,
   "metadata": {},
   "outputs": [],
   "source": [
    "\n",
    "#a==b\n",
    "\n",
    "#a!=b\n",
    "\n",
    "#a==c\n"
   ]
  },
  {
   "cell_type": "markdown",
   "metadata": {},
   "source": [
    "# 6. Type Casting <a id='p6' />\n",
    "\n",
    "You can perform datatype conversion from one datatype to another. This is also termed as type casting."
   ]
  },
  {
   "cell_type": "code",
   "execution_count": null,
   "metadata": {},
   "outputs": [],
   "source": [
    "# Converting string to an integer\n"
   ]
  },
  {
   "attachments": {
    "image.png": {
     "image/png": "[encoded data removed]"
    }
   },
   "cell_type": "markdown",
   "metadata": {},
   "source": [
    "You might lose some information when performing typecasting.\n",
    "\n",
    "![image.png](attachment:image.png)\n",
    "\n",
    "Here, if we try to convert 6.2 (float) to 6 (integer), we are losing data of 0.2."
   ]
  },
  {
   "cell_type": "code",
   "execution_count": null,
   "metadata": {},
   "outputs": [],
   "source": []
  },
  {
   "cell_type": "markdown",
   "metadata": {},
   "source": [
    "Not all type casting is possible! Can you think of how would converting a string \"Python\" to integer look like?\n"
   ]
  },
  {
   "cell_type": "code",
   "execution_count": null,
   "metadata": {},
   "outputs": [],
   "source": []
  },
  {
   "cell_type": "markdown",
   "metadata": {},
   "source": [
    "# 7. Working with user inputs <a id='p7' />\n",
    "\n",
    "Working with user inputs in Python involves taking input from the user during program execution and utilizing it for various purposes, such as processing, validation, or generating dynamic output. Python provides several built-in functions and methods to interact with the user and obtain input."
   ]
  },
  {
   "cell_type": "markdown",
   "metadata": {},
   "source": [
    "The input() function is a built-in function in Python that allows you to prompt the user for input. It reads a line of text entered by the user and returns it as a string. You can assign the input to a variable for further processing. "
   ]
  },
  {
   "cell_type": "code",
   "execution_count": null,
   "metadata": {},
   "outputs": [],
   "source": []
  },
  {
   "cell_type": "markdown",
   "metadata": {},
   "source": [
    "You can also convert the input to specific datatypes.\n",
    "\n",
    "By default, the input() function returns the user's input as a string. If you need the input as a different data type, such as an integer or float, you can use appropriate conversion functions like int() or float(). Here's an example:"
   ]
  },
  {
   "cell_type": "code",
   "execution_count": null,
   "metadata": {},
   "outputs": [],
   "source": [
    "\n"
   ]
  },
  {
   "cell_type": "markdown",
   "metadata": {},
   "source": [
    "##### The End\n",
    "[Back to Content](#tc)\n"
   ]
  },
  {
   "cell_type": "markdown",
   "metadata": {},
   "source": [
    "Copyright © 2023 by Boston Consulting Group. All rights reserved."
   ]
  }
 ],
 "metadata": {
  "anaconda-cloud": {},
  "celltoolbar": "Raw Cell Format",
  "kernelspec": {
   "display_name": "Python 3 (ipykernel)",
   "language": "python",
   "name": "python3"
  },
  "language_info": {
   "codemirror_mode": {
    "name": "ipython",
    "version": 3
   },
   "file_extension": ".py",
   "mimetype": "text/x-python",
   "name": "python",
   "nbconvert_exporter": "python",
   "pygments_lexer": "ipython3",
   "version": "3.11.5"
  }
 },
 "nbformat": 4,
 "nbformat_minor": 1
}
