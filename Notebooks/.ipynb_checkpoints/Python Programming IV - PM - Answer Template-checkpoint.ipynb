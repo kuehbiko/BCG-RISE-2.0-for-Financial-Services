{
 "cells": [
  {
   "cell_type": "markdown",
   "id": "a1db17f3",
   "metadata": {},
   "source": [
    "<table class=\"table table-bordered\">\n",
    "    <tr>\n",
    "        <th style=\"width:200px;\">\n",
    "            <img src='https://bcgriseacademy.com/hs-fs/hubfs/RISE%202.0%20Logo_Options_25Jan23_RISE%20-%20For%20Black%20Background.png?width=3522&height=1986&name=RISE%202.0%20Logo_Options_25Jan23_RISE%20-%20For%20Black%20Background.png' style=\"background-color:black; width: 100%; height: 100%;\">\n",
    "        </th>\n",
    "        <th style=\"text-align:center;\">\n",
    "            <h1>IBF TFIP</h1>\n",
    "            <h2>Python Programming IV - Answer Template</h2>\n",
    "        </th>\n",
    "    </tr>\n",
    "</table>"
   ]
  },
  {
   "cell_type": "markdown",
   "id": "f2a3a658",
   "metadata": {},
   "source": [
    "### Question 1: List of Even Integers\t\n",
    "\n",
    "In this challenge, you are required to implement a function that:\n",
    "is named even.\n",
    "takes 2 integer arguments, start, and n.\n",
    "returns a list of n smallest even integers greater than or equal to start, in ascending order.\n",
    " \n",
    "Implementation of the function will be tested by a provided code stub on several input files. Each input file contains parameters for the function call. The function will be called with those parameters, and the result of its execution will be printed to the standard output by the provided code.\n",
    "\n",
    "**Sample Input 1**\n",
    "\n",
    "5   7       ->      start = 5, n = 7\n",
    "\n",
    "\n",
    "**Sample Output 1**\n",
    "\n",
    "6 8 10 12 14 16 18\n",
    "\n",
    "**Explanation**\n",
    "\n",
    "The function must return a list of the 7 smallest even integers that are greater than or equal to 5, sorted in ascending order: 6, 8, 10, 12, 14, 16, 18.\n",
    "\n",
    "\n",
    "\n"
   ]
  },
  {
   "cell_type": "code",
   "execution_count": 6,
   "id": "374dc783",
   "metadata": {},
   "outputs": [
    {
     "name": "stdout",
     "output_type": "stream",
     "text": [
      "Start: 5\n",
      "n: 7\n"
     ]
    },
    {
     "data": {
      "text/plain": [
       "[6, 8, 10, 12, 14, 16, 18]"
      ]
     },
     "execution_count": 6,
     "metadata": {},
     "output_type": "execute_result"
    }
   ],
   "source": [
    "# Question 1: insert your code here\n",
    "\n",
    "def even(s = int(input('Start: ')), n = int(input('n: '))):\n",
    "    s = s+1 if s%2 else s #s+1 if s is odd, else s\n",
    "    return [s + 2*i for i in range(n)]\n",
    "\n",
    "even()"
   ]
  },
  {
   "cell_type": "markdown",
   "id": "8dc15ed3",
   "metadata": {},
   "source": [
    "### Question 2:  Alphabet Filter\n",
    "\n",
    "Given a string consisting of only lowercase characters, create two methods that remove all the consonants or vowels from the given word. They must retain the original order of the characters in the returned strings.\n",
    "\n",
    "**Example:**\n",
    "\n",
    "s = 'onomatopoeia'\n",
    "\n",
    "The filter_vowels method removes all vowels from s and returns the string 'nmtp'.\n",
    "\n",
    "The filter_consonants method removes all consonants from s and returns the string 'ooaooeia'.\n",
    "\n",
    "**Function Description**\n",
    " \n",
    "For a given definition of a class LetterFilter, complete its methods filter_vowels and filter_consonants. The class takes a string in the constructor and stores it to its s attribute. The method filter_vowels must return a new string with all vowels removed from it. Similarly, the method filter_consonants must return a new string with all consonants removed from it.\n",
    "\n",
    "**Constraints**\n",
    "\n",
    "The string contains only lowercase letters in the range ascii[a-z]\n",
    "\n",
    "The string contains at least one vowel and at least one consonant\n",
    "\n",
    "\n",
    "**Sample Input**\n",
    "\n",
    "String s = 'programming'\n",
    "\n",
    "**Sample Output**\n",
    "\n",
    "Prgrmmng\n",
    "\n",
    "oai\n",
    "\n",
    "**Explanation**\n",
    "\n",
    "The first result is after removing all vowels, {a, e, i, o, u}, from the string.\n",
    "\n",
    "The second result is after removing all consonants.\n",
    "\n",
    "\n"
   ]
  },
  {
   "cell_type": "code",
   "execution_count": 5,
   "id": "f23c0332",
   "metadata": {},
   "outputs": [
    {
     "name": "stdout",
     "output_type": "stream",
     "text": [
      "Enter word: PrOgramming\n",
      "prgrmmng\n",
      "oai\n"
     ]
    }
   ],
   "source": [
    "# Question 2: insert your code here\n",
    "\n",
    "class LetterFilter:\n",
    "\n",
    "    def __init__(self, s):\n",
    "        self.s = s\n",
    "    \n",
    "    def is_vowel(self, s): # created extra function to determine vowels\n",
    "        return s in ['a', 'e', 'i', 'o', 'u']\n",
    "\n",
    "    def filter_vowels(self): \n",
    "        # list comprehension of letters that are not vowels\n",
    "        return \"\".join([i for i in s if not self.is_vowel(i)])\n",
    "\n",
    "    def filter_consonants(self):\n",
    "        # list comprehendion of letters that are vowels\n",
    "        return \"\".join([i for i in s if self.is_vowel(i)])\n",
    "\n",
    "\n",
    "s = input(\"Enter word: \")\n",
    "f = LetterFilter(s)\n",
    "print(f.filter_vowels())\n",
    "print(f.filter_consonants())"
   ]
  },
  {
   "cell_type": "markdown",
   "id": "fd1a580c",
   "metadata": {},
   "source": [
    "### Question 3: Word Sorting\n",
    "\n",
    "A word's weight is the product of its length and the sum of the values of its letters. 'a' has the value 1, 'b' 2, and 'z' 26. For example, the weight of \"aba\" is 3 * (1 + 2 + 1) = 12.\u000b",
    " \n",
    "Implement a function that takes a list of words and returns the list sorted in ascending order of their weights. If two words have the same weight, the one that appears earlier in the list of words appears earlier in the results.\n",
    "\n",
    "**Example**\n",
    "\n",
    "*words = [\"gnat\", \"brown\", \"tang\", \"blue\"]*\n",
    " \n",
    "Their weights are 168, 360, 168, 160 respectively, so [\"blue\", \"gnat\", \"tang\", \"brown\"] is returned.\n",
    "\n",
    "**Function Description**\n",
    "\n",
    "sort_words has the following parameter:\n",
    "   string words[n]: the list of words\n",
    " \n",
    "**Returns**\n",
    "\n",
    "    string[n]: list sorted in ascending order by weight with equal weight words in order of appearance\n",
    " \n",
    "**Sample Input 1**\n",
    "\n",
    "3         ->  words[] size n = 3\n",
    "\n",
    "big      ->  words = ['big', 'brown', 'dog']\n",
    "\n",
    "brown \n",
    "\n",
    "dog\n",
    "\n",
    "**Sample Output 1**\n",
    "\n",
    "big\n",
    "\n",
    "dog\n",
    "\n",
    "brown\n",
    "\n",
    "**Explanation 1**\n",
    "\n",
    "The weights of 'big', 'brown' and 'dog' are 54, 360 and 78 respectively.\n",
    "\n",
    "\n",
    " \n",
    "**Sample Input 2**\n",
    "\n",
    "3\n",
    "\n",
    "silent  \n",
    "\n",
    "listen \n",
    "\n",
    "eyes\n",
    "\n",
    "**Sample Output 2**\n",
    "\n",
    "eyes\n",
    "\n",
    "silent\n",
    "\n",
    "listen\n",
    "\n",
    "**Explanation 2**\n",
    "\n",
    "The weights of 'silent', 'listen', and 'eyes' are 474, 474, and 216 respectively. silent and listen have the same score, 'silent' comes before 'listen' in the original list so it appears before 'listen' in the sorted list.\n"
   ]
  },
  {
   "cell_type": "code",
   "execution_count": 33,
   "id": "9cba406e",
   "metadata": {},
   "outputs": [
    {
     "name": "stdout",
     "output_type": "stream",
     "text": [
      "['eyes', 'silent', 'listen']\n"
     ]
    }
   ],
   "source": [
    "# Question 3: insert your code here\n",
    "\n",
    "def word_weights(word_list):\n",
    "    \n",
    "    # easy indexing to get the value of each letter\n",
    "    alphabet = '0abcdefghijklmnopqrstuvwxyz'\n",
    "    \n",
    "    # 1. get word length: \n",
    "    # 2. get sum of value: sum(alphabet.index() for letter in word)\n",
    "    # 3. multiply 1 and 2\n",
    "    word_dict = {word : len(word) * sum([alphabet.index(letter) for letter in word]) for word in word_list}\n",
    "    \n",
    "    # iterate through dictionary\n",
    "    ans = []\n",
    "    while word_dict: # while dict is not empty\n",
    "        # append the key with minimum value, then remove that key\n",
    "        ans.append(min(word_dict, key = word_dict.get))\n",
    "        word_dict.pop(ans[-1])\n",
    "    \n",
    "    print(ans)\n",
    "\n",
    "word_weights([\"silent\", \"listen\", \"eyes\"] )"
   ]
  },
  {
   "cell_type": "markdown",
   "id": "35c7905c",
   "metadata": {},
   "source": [
    "##### The End\n",
    "[Back to Content](#tc)\n"
   ]
  },
  {
   "cell_type": "markdown",
   "id": "3ec34e9b",
   "metadata": {},
   "source": [
    "Copyright © 2023 by Boston Consulting Group. All rights reserved."
   ]
  }
 ],
 "metadata": {
  "kernelspec": {
   "display_name": "Python 3 (ipykernel)",
   "language": "python",
   "name": "python3"
  },
  "language_info": {
   "codemirror_mode": {
    "name": "ipython",
    "version": 3
   },
   "file_extension": ".py",
   "mimetype": "text/x-python",
   "name": "python",
   "nbconvert_exporter": "python",
   "pygments_lexer": "ipython3",
   "version": "3.11.5"
  }
 },
 "nbformat": 4,
 "nbformat_minor": 5
}
