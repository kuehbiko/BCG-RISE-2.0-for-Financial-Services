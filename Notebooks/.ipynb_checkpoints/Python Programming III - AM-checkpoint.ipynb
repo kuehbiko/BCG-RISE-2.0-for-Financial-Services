{
 "cells": [
  {
   "cell_type": "markdown",
   "metadata": {},
   "source": [
    "<table class=\"table table-bordered\">\n",
    "    <tr>\n",
    "        <th style=\"width:200px;\">\n",
    "            <img src='https://bcgriseacademy.com/hs-fs/hubfs/RISE%202.0%20Logo_Options_25Jan23_RISE%20-%20For%20Black%20Background.png?width=3522&height=1986&name=RISE%202.0%20Logo_Options_25Jan23_RISE%20-%20For%20Black%20Background.png' style=\"background-color:black; width: 100%; height: 100%;\">\n",
    "        </th>\n",
    "        <th style=\"text-align:center;\">\n",
    "            <h1>IBF TFIP</h1>\n",
    "            <h2>Python Programming III </h2>\n",
    "        </th>\n",
    "    </tr>\n",
    "</table>"
   ]
  },
  {
   "cell_type": "markdown",
   "metadata": {},
   "source": [
    "# Learning Objectives\n",
    "#### After completing this lesson, you should be able to:\n",
    "\n",
    "1. LO1 : Understand and use modules\n",
    "2. LO2 : Understand the Numpy module\n",
    "3. LO3 : Apply operations on Numpy arrays\n",
    "\n",
    "\n"
   ]
  },
  {
   "cell_type": "markdown",
   "metadata": {},
   "source": [
    "# Table of Contents <a id='tc'></a>\n",
    "\n",
    "1. [Modules](#p1)\n",
    "2. [Numpy](#p2)\n",
    "3. [Hands-On Practice Exercise](#p3)\n"
   ]
  },
  {
   "cell_type": "markdown",
   "metadata": {},
   "source": [
    "# 1. Modules <a id='p1' />\n",
    "\n",
    "- Modules are the highest-level program organization unit.\n",
    "- Modules package program code and data for reuse.\n",
    "- Modules provide self-contained namespaces that minimize variable name clashes across programs.\n",
    "- Modules might also correspond to extensions coded in external languages such as C, Java, or C#, and even to directories in package imports\n",
    "- Modules are processed with two statements and one important function :\n",
    " - import : Lets a client (importer) fetch a module as a whole\n",
    " - from : Allows clients to fetch particular names from a module\n",
    " - reload (imp.reload in 3.X) : Provides a way to reload a module’s code without stopping Python\n",
    "- import statements are executed at runtime\n",
    "- import runs statements in the target file one at a time to create its contents\n",
    "- There is a large collection of utility modules known as the standard library.\n",
    "- This collection contains platform-independent support for common programming tasks : operating system interfaces, object persistence, text pattern matching, network and Internet scripting, GUI construction etc.\n",
    "- None of these tools are part of the Python language itself, but they can be used by importing the appropriate modules on any standard Python installation.\n"
   ]
  },
  {
   "cell_type": "markdown",
   "metadata": {},
   "source": [
    "## 1.1 Module imports - Basics \n",
    "\n",
    "* Every Python source code file with a '.py' extension is a module.\n",
    "* The contents of a module are made available to the outside world through its attributes.\n",
    "* Larger programs usually take the form of multiple module files, which import tools from other module files.\n",
    "* One of the modules is designated as the main or top-level file, or “script”— the file launched to start the entire program, which runs line by line \n",
    "    * Below this level, it’s all about modules importing modules\n",
    "* Import runs the code in a file that is being loaded as a final step – thus importing a file is another way to launch it.\n",
    "* Example :\n",
    "    import first"
   ]
  },
  {
   "cell_type": "markdown",
   "metadata": {},
   "source": [
    "* 'import' runs only once per session (process) by default.\n",
    "* After the first import, later imports do nothing –  even if the source file is modified. This is because :\n",
    "    * imports are an expensive operation to repeat more than once per file, per session\n",
    "    * imports must find files, compile them to byte code, and run the code\n",
    "* If it is required that Python must run the file again in the same session (without stopping and restarting the session) – call the reload function available in the imp standard library module as follows :\n",
    "\n",
    ">        from imp import reload\n",
    ">        reload(first)\n",
    "\n",
    "* The reload function expects the name of an already loaded module object"
   ]
  },
  {
   "cell_type": "markdown",
   "metadata": {},
   "source": [
    "## 1.2 The import statement\n",
    "\n",
    "- It is a runtime operation that performs three distinct steps the first time a program imports a given file:\n",
    "    - find the module’s file\n",
    "    - compile it to byte code (if needed)\n",
    "    - run the module’s code to build the objects it defines\n",
    "\n",
    "- Later imports of the same module in a program run bypass all these steps and simply fetch the already loaded module object in memory\n",
    "\n",
    "- This is done by storing loaded modules in a table named sys.modules and checking there at the start of an import operation.\n",
    " - If the module is not present, the three-step process begins."
   ]
  },
  {
   "cell_type": "markdown",
   "metadata": {},
   "source": [
    "Let's say we want to calculate the log of a number."
   ]
  },
  {
   "cell_type": "code",
   "execution_count": null,
   "metadata": {},
   "outputs": [],
   "source": [
    "log(348)"
   ]
  },
  {
   "cell_type": "markdown",
   "metadata": {},
   "source": [
    "We encounter a NameError that 'log' is not defined because 'normal' python doesn't know what 'log' means. We never defined `log(number)` \n",
    "This error occurs because log is part of Python standard library that we need to import first before using."
   ]
  },
  {
   "cell_type": "code",
   "execution_count": null,
   "metadata": {},
   "outputs": [],
   "source": [
    "# importing the math module\n",
    "import math"
   ]
  },
  {
   "cell_type": "code",
   "execution_count": null,
   "metadata": {},
   "outputs": [],
   "source": [
    "log(348)"
   ]
  },
  {
   "cell_type": "markdown",
   "metadata": {},
   "source": [
    "But still we have a `NameError`, What's going on here? Well to access all the functions in `math` we need to first tell python what we really mean when we say `log` is a specific function written in the math library:"
   ]
  },
  {
   "cell_type": "code",
   "execution_count": null,
   "metadata": {},
   "outputs": [],
   "source": [
    "math.log(348)"
   ]
  },
  {
   "cell_type": "markdown",
   "metadata": {},
   "source": [
    "Great! Suppose we thought that was a little tedious to type `math` over and over again and we really need the `math` library is for `log`, we don't care about all the other functions that it has. Well, we could just type:"
   ]
  },
  {
   "cell_type": "code",
   "execution_count": null,
   "metadata": {},
   "outputs": [],
   "source": [
    "from math import log"
   ]
  },
  {
   "cell_type": "markdown",
   "metadata": {},
   "source": [
    "And now `log()` should work out just fine:"
   ]
  },
  {
   "cell_type": "code",
   "execution_count": null,
   "metadata": {},
   "outputs": [],
   "source": [
    "log(348)"
   ]
  },
  {
   "cell_type": "markdown",
   "metadata": {},
   "source": [
    "If you want to be sure that these two things are entirely equivalent:\n",
    "    "
   ]
  },
  {
   "cell_type": "code",
   "execution_count": null,
   "metadata": {},
   "outputs": [],
   "source": [
    "math.log(348) == log(348)"
   ]
  },
  {
   "cell_type": "markdown",
   "metadata": {},
   "source": [
    "How you choose to import functions from a library might depend a lot on your project. You'll also frequently see something like this:"
   ]
  },
  {
   "cell_type": "code",
   "execution_count": null,
   "metadata": {},
   "outputs": [],
   "source": [
    "import math as m"
   ]
  },
  {
   "cell_type": "markdown",
   "metadata": {},
   "source": [
    "All we did was kind of rename `math`. Our function should work exactly the same as before though: "
   ]
  },
  {
   "cell_type": "code",
   "execution_count": null,
   "metadata": {},
   "outputs": [],
   "source": [
    "m.log(348)"
   ]
  },
  {
   "cell_type": "code",
   "execution_count": null,
   "metadata": {},
   "outputs": [],
   "source": [
    "m.log(348) == math.log(348)"
   ]
  },
  {
   "cell_type": "markdown",
   "metadata": {},
   "source": [
    "There is a final way of importing libraries that you might see, but we're not going to actually run the code because it's the worst.\n",
    "```\n",
    "from math import *\n",
    "```\n",
    "You might be able to guess what this is doing and why it's a terrible idea. Instead of having to type `math.log()`, importing in this manner will let us access every function in math directly by name `log()`, `exp()`, etc. This might seem nice and easy, but do you know everything that is in the `math` library? It might be huge. And what if our code is analyzing the revenues of a timber company and we happen to have a variable called `log` that refers to the price of a fallen tree. Depending on the order of when we run the code and imports, `log` might either refer to a function or variable. \n",
    "\n",
    "If we use \n",
    "```\n",
    "from math import log\n",
    "```\n",
    "we have the same problem as we also have a variable `log` but we are explicitly reminded of the name of the function that we are importing. And if we are looking at the timber company's data we might deal with this in our ways. But by using the first syntax:\n",
    "```\n",
    "from math import *\n",
    "```\n",
    "We're importing many functions whose name we don't even know.\n"
   ]
  },
  {
   "cell_type": "markdown",
   "metadata": {},
   "source": [
    "## 1.4 Documentation\n",
    "\n",
    "So we found the logarithm of 348 in a number of ways. But the astute among you may ask, logarithm of base what? Well, Jupyter (Ipython Notebook) can be really helpful here."
   ]
  },
  {
   "cell_type": "code",
   "execution_count": null,
   "metadata": {},
   "outputs": [],
   "source": [
    "math.log?"
   ]
  },
  {
   "cell_type": "markdown",
   "metadata": {},
   "source": [
    "A helpful little box should have popped up explaining a bit about math.log (which you can close by clicking the x in the upper right corner).\n",
    "We could also type `math.log` then Shift+Tab."
   ]
  },
  {
   "cell_type": "code",
   "execution_count": null,
   "metadata": {},
   "outputs": [],
   "source": [
    "math.log"
   ]
  },
  {
   "cell_type": "code",
   "execution_count": null,
   "metadata": {},
   "outputs": [],
   "source": [
    "help(math.log)"
   ]
  },
  {
   "cell_type": "markdown",
   "metadata": {},
   "source": [
    "From either of these options we learned that `math.log` needs a number `x`. We could also give it a second number separated by a comma to specify the base. If we don't give that second argument, then it will default to `e`, the natural logarithm."
   ]
  },
  {
   "cell_type": "code",
   "execution_count": null,
   "metadata": {},
   "outputs": [],
   "source": [
    "print(math.log(348))\n",
    "print(math.log(348, 2))\n",
    "print(math.log(348, 10))"
   ]
  },
  {
   "cell_type": "code",
   "execution_count": null,
   "metadata": {},
   "outputs": [],
   "source": [
    "# to get help on the entire module\n",
    "help(math)"
   ]
  },
  {
   "cell_type": "markdown",
   "metadata": {},
   "source": [
    "It is a good practice to look at documentation when you use a library or a function that you've never used before. Thankfully Jupyter gives us a lot of options on how to do so. \n"
   ]
  },
  {
   "cell_type": "markdown",
   "metadata": {},
   "source": [
    "## 1.3 Writing and importing own module\n",
    "\n",
    "In a new python file named `calculations.py`, we will write the following functions:\n",
    "\n",
    "def add(x,y):\n",
    "\n",
    "    return (x+y)     #Adding two numbers\n",
    "    \n",
    "def sub(x,y):\n",
    "\n",
    "    return (x-y)     #Substracting two numbers'\n",
    "    \n",
    "    \n",
    "So, calculations.py is our own module that we created with multiple functions. We will now import calculations and use the function within calculations. The two functions in the module are add and subtract, we will perform these operations by calling the function from the `calculations` module."
   ]
  },
  {
   "cell_type": "code",
   "execution_count": null,
   "metadata": {},
   "outputs": [],
   "source": [
    "import calculations as c"
   ]
  },
  {
   "cell_type": "code",
   "execution_count": null,
   "metadata": {},
   "outputs": [],
   "source": [
    "c.add(10,20)"
   ]
  },
  {
   "cell_type": "code",
   "execution_count": null,
   "metadata": {},
   "outputs": [],
   "source": [
    "c.sub(30,20)"
   ]
  },
  {
   "attachments": {
    "image.png": {
     "image/png": "[encoded data removed]"
    }
   },
   "cell_type": "markdown",
   "metadata": {},
   "source": [
    "# 2. NumPy <a id='p2' />\n",
    "\n",
    "### Definition\n",
    "* NumPy’s main object is the homogeneous multidimensional array. It is a table of elements (usually numbers), all of the same type, indexed by a tuple of positive integers. In NumPy dimensions are called axes.\n",
    "\n",
    "    ### Import Lib\n",
    "    <i> import numpy </i>\n",
    "\n",
    "\n",
    "* NumPy is an extension to the Python programming language, adding support for large, multidimensional arrays and matrices, along with a large library of high-level mathematical functions to operate on these arrays \n",
    "* NumPy is the fundamental library needed for scientific computing with Python\n",
    "* This contains: \n",
    "    * N-dimensional array object\n",
    "    * Array slicing methods\n",
    "    * Array reshaping methods\n",
    "\n",
    "### Application\n",
    "\n",
    "![image.png](attachment:image.png)\n",
    "\n"
   ]
  },
  {
   "cell_type": "markdown",
   "metadata": {},
   "source": [
    "### numpy - ndarray attributes\n",
    "\n",
    "\n",
    "* ndarray.ndim \n",
    "    * Gives dimensions (rank or axes) of the array\n",
    "* ndarray.shape\n",
    "    * For a matrix with n rows and m columns, shape will be a tuple (n,m). The length of the shape tuple is therefore the rank, or number of dimensions, ndim\n",
    "* ndarray.size\n",
    "    * The total number of elements of the array, equal to the product of the elements of shape. n*m\n",
    "* ndarray.dtype\n",
    "    *  An object describing the type of the elements in the array. One can create or specify dtype using standard Python types. NumPy provides many, for example bool_, character, int_, int8, int16, int32, int64, float, float8, float16, float32, float64, complex_, complex64, object\n",
    "* ndarray.itemsize\n",
    "    * The size in bytes of each element of the array. E.g. for elements of type float64, itemsize is 8 (-64/8), while complex32 has itemsize 4 (-32/8) (equivalent to ndarray.dtype.itemsize)\n",
    "* ndarray.data\n",
    "    * The buffer containing the actual elements of the array. \n",
    "\n",
    "\n"
   ]
  },
  {
   "cell_type": "code",
   "execution_count": null,
   "metadata": {},
   "outputs": [],
   "source": [
    "# Import the library\n",
    "import numpy as np"
   ]
  },
  {
   "cell_type": "code",
   "execution_count": null,
   "metadata": {},
   "outputs": [],
   "source": [
    "# Creating a simple Numpy Array\n",
    "a = np.array([4, 5, 6])\n",
    "type(a)"
   ]
  },
  {
   "cell_type": "code",
   "execution_count": null,
   "metadata": {},
   "outputs": [],
   "source": [
    "# Generate Numbers within a particular range\n",
    "np.arange(0, 100, 5)"
   ]
  },
  {
   "cell_type": "code",
   "execution_count": null,
   "metadata": {},
   "outputs": [],
   "source": [
    "# Generate Random Numbers\n",
    "np.random.rand(1,5)"
   ]
  },
  {
   "cell_type": "code",
   "execution_count": null,
   "metadata": {},
   "outputs": [],
   "source": [
    "# Generate Random Numbers by setting the seed\n",
    "np.random.seed(45) #To reset, call this line without passing any argument to \"()\"\n",
    "np.random.rand(1,5)"
   ]
  },
  {
   "cell_type": "markdown",
   "metadata": {},
   "source": [
    "## 2.1 Simple mathematical operations using numpy"
   ]
  },
  {
   "cell_type": "markdown",
   "metadata": {},
   "source": [
    "Commonly used numpy mathematical operations"
   ]
  },
  {
   "cell_type": "code",
   "execution_count": null,
   "metadata": {},
   "outputs": [],
   "source": [
    "#Addition\n",
    "np.add(1, 2) #addition"
   ]
  },
  {
   "cell_type": "code",
   "execution_count": null,
   "metadata": {},
   "outputs": [],
   "source": [
    "#Subtraction\n",
    "np.subtract(2, 1)"
   ]
  },
  {
   "cell_type": "code",
   "execution_count": null,
   "metadata": {},
   "outputs": [],
   "source": [
    "#Multiplication\n",
    "np.multiply(3, 4)"
   ]
  },
  {
   "cell_type": "code",
   "execution_count": null,
   "metadata": {},
   "outputs": [],
   "source": [
    "#Division\n",
    "np.divide(9, 3) "
   ]
  },
  {
   "cell_type": "code",
   "execution_count": null,
   "metadata": {},
   "outputs": [],
   "source": [
    "#Exponentiation\n",
    "np.power(5, 2) "
   ]
  },
  {
   "cell_type": "code",
   "execution_count": null,
   "metadata": {},
   "outputs": [],
   "source": [
    "#Square root\n",
    "np.sqrt(25) "
   ]
  },
  {
   "cell_type": "code",
   "execution_count": null,
   "metadata": {},
   "outputs": [],
   "source": [
    "#Exponential\n",
    "np.exp(1) "
   ]
  },
  {
   "cell_type": "code",
   "execution_count": null,
   "metadata": {},
   "outputs": [],
   "source": [
    "#Natural logarithm\n",
    "np.log(2.718281828459045) "
   ]
  },
  {
   "cell_type": "code",
   "execution_count": null,
   "metadata": {},
   "outputs": [],
   "source": [
    "#Absolute value\n",
    "np.abs(-5.24)"
   ]
  },
  {
   "cell_type": "code",
   "execution_count": null,
   "metadata": {},
   "outputs": [],
   "source": [
    "#Trigonometric functions & inverse trigonometric functions\n",
    "np.sin(np.pi/6) \n",
    "np.cos(np.pi/3)\n",
    "np.tan(np.pi/8)\n",
    "np.arcsin(0.5)\n",
    "np.arccos(0.5)\n",
    "np.arctan(1)\n",
    "\n",
    "trigo_values = np.array([np.sin(np.pi/6), np.cos(np.pi/3), np.tan(np.pi/8)])\n",
    "print(trigo_values)\n",
    "\n",
    "inv_trigo_values = np.array([np.arcsin(0.5), np.arccos(0.5), np.arctan(1)])\n",
    "print(inv_trigo_values)"
   ]
  },
  {
   "cell_type": "code",
   "execution_count": null,
   "metadata": {},
   "outputs": [],
   "source": [
    "# We are creating 2-D numpy array\n",
    "x = np.array([[11,12],[13,14]], dtype=np.float64)\n",
    "y = np.array([[15,16],[17,18]], dtype=np.float64)\n",
    "print(np.add(x, y))\n",
    "print(np.subtract(x, y))"
   ]
  },
  {
   "cell_type": "markdown",
   "metadata": {},
   "source": [
    "## 2.2 Numpy array using List\n",
    "\n"
   ]
  },
  {
   "cell_type": "code",
   "execution_count": null,
   "metadata": {},
   "outputs": [],
   "source": [
    "# Creating a list \n",
    "list = [\n",
    "    [1, 2, 3],\n",
    "    [5, 10, 15],\n",
    "    [10, 20, 30]\n",
    "]\n",
    "\n",
    "# Creating an array using numpy. This creates a 2-D numpy array\n",
    "arr = np.array(list)\n",
    "print(arr)"
   ]
  },
  {
   "cell_type": "code",
   "execution_count": null,
   "metadata": {},
   "outputs": [],
   "source": [
    "# shape of the array\n",
    "arr.shape"
   ]
  },
  {
   "cell_type": "code",
   "execution_count": null,
   "metadata": {},
   "outputs": [],
   "source": [
    "# datatype of the array\n",
    "arr.dtype"
   ]
  },
  {
   "cell_type": "code",
   "execution_count": null,
   "metadata": {},
   "outputs": [],
   "source": [
    "# accessing the 0th index element from the array, which is another array\n",
    "arr[0]"
   ]
  },
  {
   "cell_type": "code",
   "execution_count": null,
   "metadata": {},
   "outputs": [],
   "source": [
    "# accessing the 1st index element from the array of array, 2\n",
    "print(arr[0,1])\n",
    "# or\n",
    "print(arr[0][1])"
   ]
  },
  {
   "cell_type": "code",
   "execution_count": null,
   "metadata": {},
   "outputs": [],
   "source": [
    "# slicing of array\n",
    "arr[:, 0]"
   ]
  },
  {
   "cell_type": "code",
   "execution_count": null,
   "metadata": {},
   "outputs": [],
   "source": [
    "arr"
   ]
  },
  {
   "cell_type": "code",
   "execution_count": null,
   "metadata": {},
   "outputs": [],
   "source": [
    "# you can also write\n",
    "print(arr[:, 0:3])\n",
    "\n",
    "# or\n",
    "\n",
    "print(arr[:, :])"
   ]
  },
  {
   "cell_type": "markdown",
   "metadata": {},
   "source": [
    "## 2.3 Updating values to a column\n",
    "\n",
    "Updating values of column is often needed for various reason depending on use cases. \n",
    "\n",
    "We will be updating columns of an array.\n"
   ]
  },
  {
   "cell_type": "code",
   "execution_count": null,
   "metadata": {},
   "outputs": [],
   "source": [
    "arr[:, 0:2] = [[9,9], [8,8], [7,7]]\n",
    "arr"
   ]
  },
  {
   "cell_type": "markdown",
   "metadata": {},
   "source": [
    "## 2.4 Generating an array with zeros\n",
    "\n",
    "\n",
    "Returns a new array of given shape and type, filled with zeros. It's a quick way to generate an array with zeros. \n",
    "\n",
    "In below example we will be generating an array with integer type and the of the array will be 3\n"
   ]
  },
  {
   "cell_type": "code",
   "execution_count": null,
   "metadata": {},
   "outputs": [],
   "source": [
    "arr = np.zeros(3, dtype=np.int64)\n",
    "arr"
   ]
  },
  {
   "cell_type": "markdown",
   "metadata": {},
   "source": [
    "## 2.5 Generating an array of integers with values as 1\n",
    "\n",
    " numpy.ones(shape, dtype=None, order='C')\n",
    "\n",
    "\n",
    "Returns a new array of given shape and type, filled with ones. It's a quick way to generate an array with ones. \n",
    "\n",
    "In below example we will be generating an array of length 5, filled with ones.\n"
   ]
  },
  {
   "cell_type": "code",
   "execution_count": null,
   "metadata": {},
   "outputs": [],
   "source": [
    "arr = np.ones(5)\n",
    "arr"
   ]
  },
  {
   "cell_type": "markdown",
   "metadata": {},
   "source": [
    "## 2.6 Numpy array over List\n",
    "\n",
    "\n",
    "One of the questions that we have when learning about `numpy` array is that why do we need numpy array if we already have Python Lists?\n",
    "\n",
    "Let's try to understand this with a simple example!\n",
    "\n"
   ]
  },
  {
   "cell_type": "code",
   "execution_count": null,
   "metadata": {},
   "outputs": [],
   "source": [
    "# We have a list and we want to multiply 2 to the elements of list. How can we do this?\n",
    "\n",
    "l1 = [7,2,6,8]\n",
    "\n",
    "l1*2 "
   ]
  },
  {
   "cell_type": "markdown",
   "metadata": {},
   "source": [
    "This is not what we intend to do. In this situation, numpy array can be very useful."
   ]
  },
  {
   "cell_type": "code",
   "execution_count": null,
   "metadata": {},
   "outputs": [],
   "source": [
    "# you can convert the above list to a numpy array\n",
    "\n",
    "arr1 = np.array(l1)\n",
    "\n",
    "# multiply 2 to the array\n",
    "arr2 = arr1*2\n",
    "print(arr2)# we can see that we are able to multiple 2 to the elements of the list.\n",
    "print(type(arr2))"
   ]
  },
  {
   "cell_type": "code",
   "execution_count": null,
   "metadata": {},
   "outputs": [],
   "source": [
    "# If you wish to save the array back to list then we can do that as well.\n",
    "arr2 = arr2.tolist()\n",
    "\n",
    "print(type(arr2))"
   ]
  },
  {
   "cell_type": "markdown",
   "metadata": {},
   "source": [
    "Element-wise operations refer to performing operations on each element of a data structure (e.g., a list, array, or matrix) individually and independently.\n",
    "\n",
    "Let's compare between Python Lists and NumPy arrays regarding element-wise operations:"
   ]
  },
  {
   "cell_type": "code",
   "execution_count": null,
   "metadata": {},
   "outputs": [],
   "source": [
    "#Python Lists do not directly support element-wise operations \n",
    "#Loops or list comprehensions are needed to iterate through the elements and perform the operation, hence it is less efficient.\n",
    "my_list = [1, 2, 3, 4, 5]\n",
    "add_one_list = []\n",
    "for element in my_list:\n",
    "    add_one_list.append(element + 1)\n",
    "print(add_one_list)  # Output: [2, 3, 4, 5, 6]"
   ]
  },
  {
   "cell_type": "code",
   "execution_count": null,
   "metadata": {},
   "outputs": [],
   "source": [
    "#numpy arrays are designed to support element-wise operations efficiently\n",
    "arr3 = np.array([1, 2, 3, 4, 5])\n",
    "add_one_array = arr3 + 1\n",
    "print(add_one_array)  # Output: [2 3 4 5 6]"
   ]
  },
  {
   "cell_type": "markdown",
   "metadata": {},
   "source": [
    "## 2.7 Generating array with arange\n",
    "Returns evenly spaced values within a given interval. Values are generated within the half-open interval [start, stop) (in other words, the interval including start but excluding stop). For integer arguments the function is equivalent to the Python built-in range function, but returns an ndarray rather than a list. This is used when we need a running number array for some computations.\n",
    "\n",
    "<b>Syntax:</b>\n",
    "\n",
    "    numpy.arange([start, ]stop, [step, ]dtype=None)\n",
    "    For more information use: help(numpy.arange) \n",
    "In below example we will be generating an array with integer from 0 to 4 and length will be 5\n"
   ]
  },
  {
   "cell_type": "code",
   "execution_count": null,
   "metadata": {},
   "outputs": [],
   "source": [
    "# only giving the stop, by default start is from 0\n",
    "arr = np.arange(5)\n",
    "arr"
   ]
  },
  {
   "cell_type": "code",
   "execution_count": null,
   "metadata": {},
   "outputs": [],
   "source": [
    "# both start and stop provided, start is inclusive and stop is exclusive\n",
    "arr = np.arange(0.1, 11 )\n",
    "\n",
    "arr"
   ]
  },
  {
   "cell_type": "code",
   "execution_count": null,
   "metadata": {},
   "outputs": [],
   "source": [
    "# generate array with all the parameters\n",
    "\n",
    "arr = np.arange(0.1,10.1,0.1)\n",
    "\n",
    "arr"
   ]
  },
  {
   "cell_type": "code",
   "execution_count": null,
   "metadata": {},
   "outputs": [],
   "source": [
    "# array backward\n",
    "\n",
    "arr = np.arange(10, 0, -0.1)\n",
    "\n",
    "arr"
   ]
  },
  {
   "cell_type": "code",
   "execution_count": null,
   "metadata": {},
   "outputs": [],
   "source": [
    "# array with every alternate number\n",
    "arr = np.arange(0, 11, 2)\n",
    "arr"
   ]
  },
  {
   "cell_type": "markdown",
   "metadata": {},
   "source": [
    "## 2.8 Same array object\n",
    "We use = operator to create a copy of an object. You may think that this creates a new object; it doesn't. It only creates a new variable that shares the reference of the original object.\n",
    "\n",
    "In below example we will be copying an array to object named arr2.\n",
    "\n"
   ]
  },
  {
   "cell_type": "code",
   "execution_count": null,
   "metadata": {},
   "outputs": [],
   "source": [
    "arr1 = np.array([1, 5, 9, 2])\n",
    "\n",
    "arr2 = arr1\n",
    "\n",
    "arr2"
   ]
  },
  {
   "cell_type": "code",
   "execution_count": null,
   "metadata": {},
   "outputs": [],
   "source": [
    "arr1 == arr2"
   ]
  },
  {
   "cell_type": "code",
   "execution_count": null,
   "metadata": {},
   "outputs": [],
   "source": [
    "arr1 is arr2"
   ]
  },
  {
   "cell_type": "markdown",
   "metadata": {},
   "source": [
    "## 2.9 Deep Copy vs Shallow Copy\n",
    "\n",
    "### 2.9.1 Shallow Copy\n",
    "\n",
    "A shallow copy creates a new object that references the original object's memory location. In other words, it creates a new container object but still shares the internal elements (sub-objects) with the original object. Changes made to the elements of one object are reflected in the other.\n",
    "\n",
    "NumPy has ndarray.view() method which is a new array object that looks at the same data of the original array. Also, note that change in dimensions of the new array doesn’t change dimensions of the original.\n",
    "\n",
    "Create a copy of arr1 as arr2, which is not shared by arr1. \n",
    "\n"
   ]
  },
  {
   "cell_type": "code",
   "execution_count": null,
   "metadata": {},
   "outputs": [],
   "source": [
    "numbers = [1,2,3,4,5]\n",
    "\n",
    "new_numbers = numbers\n",
    "\n",
    "type(numbers)"
   ]
  },
  {
   "cell_type": "code",
   "execution_count": null,
   "metadata": {},
   "outputs": [],
   "source": [
    "# updating value from 1 to 9\n",
    "new_numbers[0] = 9\n"
   ]
  },
  {
   "cell_type": "code",
   "execution_count": null,
   "metadata": {},
   "outputs": [],
   "source": [
    "print(new_numbers)"
   ]
  },
  {
   "cell_type": "code",
   "execution_count": null,
   "metadata": {},
   "outputs": [],
   "source": [
    "print(numbers)"
   ]
  },
  {
   "cell_type": "markdown",
   "metadata": {},
   "source": [
    "As you update the value of new_numbers, numbers is also updated."
   ]
  },
  {
   "cell_type": "code",
   "execution_count": null,
   "metadata": {},
   "outputs": [],
   "source": [
    "# Let's see for arrays\n",
    "\n",
    "arr_old = np.array([1,2,3,4,5])\n",
    "\n",
    "arr_new = arr_old.view() #new view of array with the same data"
   ]
  },
  {
   "cell_type": "code",
   "execution_count": null,
   "metadata": {},
   "outputs": [],
   "source": [
    "# updating the value of 1 to 9\n",
    "arr_new[0] = 9"
   ]
  },
  {
   "cell_type": "code",
   "execution_count": null,
   "metadata": {},
   "outputs": [],
   "source": [
    "# both the data is updated\n",
    "print(arr_old)\n",
    "\n",
    "print(arr_new)"
   ]
  },
  {
   "cell_type": "code",
   "execution_count": null,
   "metadata": {},
   "outputs": [],
   "source": [
    "# The elements are same\n",
    "arr_old == arr_new"
   ]
  },
  {
   "cell_type": "code",
   "execution_count": null,
   "metadata": {},
   "outputs": [],
   "source": [
    "# But they are different objects\n",
    "arr_old is arr_new"
   ]
  },
  {
   "cell_type": "code",
   "execution_count": null,
   "metadata": {},
   "outputs": [],
   "source": [
    "# another example with a 2-D array\n",
    "arr1 = np.array([[1, 2, 3], [4, 5, 6], [7,8,9]])\n",
    "\n",
    "new_arr = arr1.view()\n",
    "print(new_arr) "
   ]
  },
  {
   "cell_type": "code",
   "execution_count": null,
   "metadata": {},
   "outputs": [],
   "source": [
    "# updating the value of 3 to 10\n",
    "new_arr[0][2] = 10\n",
    "\n",
    "print(arr1)\n",
    "\n",
    "print(new_arr)\n",
    "\n",
    "# Again we can see that both the arrays are updated"
   ]
  },
  {
   "cell_type": "markdown",
   "metadata": {},
   "source": [
    "### 2.9.2 Deep Copy\n",
    "\n",
    "A deep copy creates a new object with a separate memory location for both the container object and its internal elements. It recursively creates copies of all the sub-objects, ensuring complete independence between the original and copied objects.\n",
    "\n",
    "The ndarray.copy() function creates a deep copy, i.e. it is a complete copy of the array and its data, and doesn’t share with the original array.\n",
    "\n",
    "Create a copy of arr1 as arr2, which is not shared by arr1. "
   ]
  },
  {
   "cell_type": "code",
   "execution_count": null,
   "metadata": {},
   "outputs": [],
   "source": [
    "# Instead of simply copying the array or creating a view, let's try to create a deep copy of the array\n",
    "arr_deep = np.array([1,2,3,4])\n",
    "\n",
    "arr_deep_new = arr_deep.copy()"
   ]
  },
  {
   "cell_type": "code",
   "execution_count": null,
   "metadata": {},
   "outputs": [],
   "source": [
    "# updating the value 1 to 10\n",
    "arr_deep_new[0] = 10 "
   ]
  },
  {
   "cell_type": "code",
   "execution_count": null,
   "metadata": {},
   "outputs": [],
   "source": [
    "# printing both the arrays\n",
    "\n",
    "print(arr_deep)\n",
    "print(arr_deep_new)"
   ]
  },
  {
   "cell_type": "code",
   "execution_count": null,
   "metadata": {},
   "outputs": [],
   "source": [
    "# Let's see if two arrays are same?\n",
    "\n",
    "arr1 = np.array([1, 5, 9, 2])\n",
    "\n",
    "arr2 = arr1.copy()\n",
    "\n",
    "arr1[1] = 7\n",
    "arr1 == arr2 #the elements are not same"
   ]
  },
  {
   "cell_type": "code",
   "execution_count": null,
   "metadata": {},
   "outputs": [],
   "source": [
    "arr1 is arr2 #and they are two different objects"
   ]
  },
  {
   "cell_type": "markdown",
   "metadata": {},
   "source": [
    "#### Key Differences:\n",
    "\n",
    "- `Shallow copy` creates a new object but shares the internal elements, while `deep copy` creates a new object with completely independent copies of all the elements.\n",
    "- `Shallow copy` is relatively faster and less memory-intensive since it shares memory, while `deep copy` is slower and more memory-intensive due to creating separate copies.\n",
    "- `Shallow copy` allows changes to propagate between objects, while deep copy ensures changes in one object do not affect the other.\n",
    "\n",
    "Choosing between deep copy and shallow copy depends on the specific requirements of your program. If you want to create an independent copy that is unaffected by changes to the original object, use deep copy. If you want to create a new object that shares internal elements with the original object, use shallow copy to save memory and maintain certain relationships."
   ]
  },
  {
   "cell_type": "markdown",
   "metadata": {},
   "source": [
    "#### Note on copy() vs view()\n",
    "\n",
    "When the contents are physically stored in another location, it is called `Copy (deep copy)`. If on the other hand, a different view of the same memory content is provided, we call it as `View (shallow copy)`.\n",
    "\n"
   ]
  },
  {
   "cell_type": "markdown",
   "metadata": {},
   "source": [
    "## 2.10 Operations\n",
    "\n",
    "Basic operations can be performed on numpy.ndarray."
   ]
  },
  {
   "cell_type": "code",
   "execution_count": null,
   "metadata": {},
   "outputs": [],
   "source": [
    "# division\n",
    "arr1 = np.array([5, 5, 5, 5])\n",
    "arr2 = np.array([5, 5, 5, 5])\n",
    "arr1/arr2"
   ]
  },
  {
   "cell_type": "code",
   "execution_count": null,
   "metadata": {},
   "outputs": [],
   "source": [
    "# multiplication\n",
    "arr1 = np.array([1, 2, 3])\n",
    "arr2 = np.array([4, 5, 6])\n",
    "\n",
    "arr1 * arr2"
   ]
  },
  {
   "cell_type": "code",
   "execution_count": null,
   "metadata": {},
   "outputs": [],
   "source": [
    "arr = np.arange(5)\n",
    "div = arr % 2 == 0  #check if the values in the array is even number\n",
    "\n",
    "print(arr) \n",
    "div"
   ]
  },
  {
   "cell_type": "code",
   "execution_count": null,
   "metadata": {},
   "outputs": [],
   "source": [
    "arr[div]"
   ]
  },
  {
   "cell_type": "code",
   "execution_count": null,
   "metadata": {},
   "outputs": [],
   "source": [
    "# Calculating the sum of array elements\n",
    "\n",
    "\n",
    "arr = np.array([1, 2, 3, 4, 5])\n",
    "sum_result = np.sum(arr)\n",
    "print(sum_result)\n"
   ]
  },
  {
   "cell_type": "code",
   "execution_count": null,
   "metadata": {},
   "outputs": [],
   "source": [
    "# Calculating the mean of array elements\n",
    "\n",
    "mean_result = np.mean(arr)\n",
    "print(mean_result)\n",
    "\n"
   ]
  },
  {
   "cell_type": "code",
   "execution_count": null,
   "metadata": {},
   "outputs": [],
   "source": [
    "# Calculating the median of array elements\n",
    "\n",
    "\n",
    "median = np.median(arr)\n",
    "print(median)"
   ]
  },
  {
   "cell_type": "code",
   "execution_count": null,
   "metadata": {},
   "outputs": [],
   "source": [
    "# calculating the standard deviation of array elements\n",
    "std = arr.std()\n",
    "print(std)"
   ]
  },
  {
   "cell_type": "code",
   "execution_count": null,
   "metadata": {},
   "outputs": [],
   "source": [
    "# calculating the max of array elements\n",
    "\n",
    "ma = arr.max()\n",
    "print(ma)"
   ]
  },
  {
   "cell_type": "code",
   "execution_count": null,
   "metadata": {},
   "outputs": [],
   "source": [
    "# calculating the min of array elements\n",
    "\n",
    "mi = arr.min()\n",
    "print(mi)"
   ]
  },
  {
   "cell_type": "markdown",
   "metadata": {},
   "source": [
    "### All | Any | NonZero\n",
    "\n",
    "\n",
    "* all operation-> if all values attributes to True, returns True\n",
    "* any operation -> if any value attributes to True, returns True\n",
    "* nonzero operation -> returns the index of the non-zero elements in the array"
   ]
  },
  {
   "cell_type": "code",
   "execution_count": null,
   "metadata": {},
   "outputs": [],
   "source": [
    "# if all values attributes to True, returns True\n",
    "\n",
    "arr = np.array([1, 2, 3, 4, 5])\n",
    "arr.all()\n"
   ]
  },
  {
   "cell_type": "code",
   "execution_count": null,
   "metadata": {},
   "outputs": [],
   "source": [
    "arr1 = np.array([0,1,2,3])\n",
    "\n",
    "arr1.all()"
   ]
  },
  {
   "cell_type": "code",
   "execution_count": null,
   "metadata": {},
   "outputs": [],
   "source": [
    "# if any value attributes to True, returns True\n",
    "print(arr.any())\n",
    "print(arr1.any())"
   ]
  },
  {
   "cell_type": "code",
   "execution_count": null,
   "metadata": {},
   "outputs": [],
   "source": [
    "# returns the index of the non-zero elements in the array\n",
    "print(arr.nonzero())\n",
    "print(arr1.nonzero())"
   ]
  },
  {
   "cell_type": "markdown",
   "metadata": {},
   "source": [
    "## 2.11 Access array object by index"
   ]
  },
  {
   "cell_type": "code",
   "execution_count": null,
   "metadata": {},
   "outputs": [],
   "source": [
    "arr = np.arange(20, 9, -1)\n",
    "indices = [1, 5, 6, 4]\n",
    "print(arr)\n",
    "print(arr[indices])"
   ]
  },
  {
   "cell_type": "code",
   "execution_count": null,
   "metadata": {},
   "outputs": [],
   "source": [
    "arr1 = np.array(['a', 'b', 'c', 'd'])\n",
    "indices = [1,3]\n",
    "\n",
    "arr1[indices]"
   ]
  },
  {
   "cell_type": "markdown",
   "metadata": {},
   "source": [
    "## 2.12 Sorting\n",
    "\n",
    "A variety of sorting related functions are available in NumPy. These sorting functions implement different sorting algorithms, each of them characterized by the speed of execution, performance, the workspace required and the stability of algorithms. \n",
    "\n",
    "* numpy.sort() : This function returns a sorted copy of an array. \n",
    "* numpy.argsort(): The numpy.argsort() function performs an indirect sort on input array, along the given axis and using a specified kind of sort to return the array of indices of data. This indices array is used to construct the sorted array.\n"
   ]
  },
  {
   "cell_type": "code",
   "execution_count": null,
   "metadata": {},
   "outputs": [],
   "source": [
    "# numpy.sort()\n",
    "arr = np.array([10, 30, 5.5, 9.2, 5.3, 7])\n",
    "arr.sort()\n",
    "\n",
    "arr\n"
   ]
  },
  {
   "cell_type": "code",
   "execution_count": null,
   "metadata": {},
   "outputs": [],
   "source": [
    "# another method\n",
    "\n",
    "arr = np.array([10, 30, 5.5, 9.2, 5.3, 7])\n",
    "\n",
    "np.sort(arr)\n"
   ]
  },
  {
   "cell_type": "code",
   "execution_count": null,
   "metadata": {},
   "outputs": [],
   "source": [
    "# but original array have not changed\n",
    "\n",
    "arr"
   ]
  },
  {
   "cell_type": "code",
   "execution_count": null,
   "metadata": {},
   "outputs": [],
   "source": [
    "# to get the sorted index\n",
    "\n",
    "arr.argsort()"
   ]
  },
  {
   "cell_type": "markdown",
   "metadata": {},
   "source": [
    "## 2.13 Array Functions\n",
    "\n",
    "A few array functions that's worth mentioning: transpose, invert, eye, dot.\n",
    "\n",
    "\n",
    "* numpy.transpose() : This function permutes the dimension of the given array. It returns a view wherever possible. The function takes the following parameters.\n",
    "* numpy.invert() : Compute bit-wise inversion, or bit-wise NOT, element-wise. Computes the bit-wise NOT of the underlying binary representation of the integers in the input arrays. \n",
    "* numpy.identity() : The identity returns an identity array. An identity array is a square matrix with all the main diagonal elements as 1 and the rest as 0.\n",
    "* numpy.eye() : The eye returns a 2-D array with 1's as the diagonal and 0's elsewhere. The diagonal can be main, upper or lower depending on the optional parameter k . A positive k is for the upper diagonal, a negative k is for the lower, and a 0 k (default) is for the main diagonal.\n",
    "   \n",
    "* numpy.dot() : This function returns the dot product of two arrays. For 2-D vectors, it is the equivalent to matrix multiplication. For 1-D arrays, it is the inner product of the vectors. For N-dimensional arrays, it is a sum product over the last axis of a and the second-last axis of b. \n",
    "[2 Mins video: Matrix Multiplication and Numpy Dot](https://www.youtube.com/watch?v=QvyZmzcwx7M)\n"
   ]
  },
  {
   "cell_type": "code",
   "execution_count": null,
   "metadata": {},
   "outputs": [],
   "source": [
    "# defining a 2-D array\n",
    "arr = np.array([[9, 8], [7, 6]])\n",
    "\n",
    "arr"
   ]
  },
  {
   "cell_type": "code",
   "execution_count": null,
   "metadata": {},
   "outputs": [],
   "source": [
    "# transpose\n",
    "arr.transpose()"
   ]
  },
  {
   "cell_type": "code",
   "execution_count": null,
   "metadata": {},
   "outputs": [],
   "source": [
    "# Invert\n",
    "\n",
    "np.invert(arr) "
   ]
  },
  {
   "cell_type": "code",
   "execution_count": null,
   "metadata": {},
   "outputs": [],
   "source": [
    "# identity\n",
    "np.identity(3)# numpy.identity(3)"
   ]
  },
  {
   "cell_type": "code",
   "execution_count": null,
   "metadata": {},
   "outputs": [],
   "source": [
    "# eye\n",
    "\n",
    "np.eye(8, 7, k = 1)    # 8 X 7 Dimensional array with first upper diagonal 1.\n"
   ]
  },
  {
   "cell_type": "code",
   "execution_count": null,
   "metadata": {},
   "outputs": [],
   "source": [
    "# eye\n",
    "\n",
    "np.eye(8, 7, k = -1)    # 8 X 7 Dimensional array with first upper diagonal 1.\n"
   ]
  },
  {
   "cell_type": "code",
   "execution_count": null,
   "metadata": {},
   "outputs": [],
   "source": [
    "# dot\n",
    "arr = np.array([[0.0, -1.0], [1.0, 0.0]])\n",
    "arr"
   ]
  },
  {
   "cell_type": "code",
   "execution_count": null,
   "metadata": {},
   "outputs": [],
   "source": [
    "np.dot(arr, arr)"
   ]
  },
  {
   "cell_type": "markdown",
   "metadata": {},
   "source": [
    "## 2.14 Numpy Datatypes\n",
    "\n",
    "NumPy supports a much greater variety of numerical types than Python does. \n",
    "\n",
    "\n",
    "The following table shows different scalar data types defined in NumPy:"
   ]
  },
  {
   "cell_type": "markdown",
   "metadata": {},
   "source": [
    "| Basic type        | Available numpy type                         | Comments                                                                                                                                        |\n",
    "|:-------------------|:---------------------------------------------|:------------------------------------------------------------------------------------------------------------------------------------------------|\n",
    "| Boolean           | bool                                         | Elements are 1 byte in size                                                                                                                     |\n",
    "| Integer           | int8, int16, int32, int64, int128,int        | int defaults to the size of int in C for the platform                                                                                           |\n",
    "| Unsigned Integer  | uint8, uint16, uint32, uint64,uint128, uint  | uint defaults to the size of unsigned int in C for the platform                                                                                 |\n",
    "| Float             | float32, float64, float, longfloat,          | Float is always a double precision floating point value (64 bits). longfloat represents large precision floats. Its size is platform dependent  |\n",
    "| Complex           | complex64, complex128,complex                | The real and complex elements of a complex64 are each represented by a single precision (32 bit) value for a total size of 64 bits              |\n",
    "| Strings           | str, unicode                                 | Unicode is always UTF32 (UCS4)                                                                                                                  |\n",
    "| Object            | Object                                       | Represent items in array as Python objects                                                                                                      |\n",
    "| Records           | Void                                         | Used for arbitrary data structures in record arrays                                                                                             |\n"
   ]
  },
  {
   "cell_type": "markdown",
   "metadata": {},
   "source": [
    "## (Optional) 2.15 DIY Debugging using ChatGPT"
   ]
  },
  {
   "cell_type": "markdown",
   "metadata": {},
   "source": [
    "ChatGPT, a powerful language model, can be utilized for interactive debugging, helping programmers troubleshoot and resolve issues in their code, as demonstrated in the two examples below."
   ]
  },
  {
   "cell_type": "markdown",
   "metadata": {},
   "source": [
    "### Example 1: Debugging NumPy Array"
   ]
  },
  {
   "cell_type": "markdown",
   "metadata": {},
   "source": [
    "You have created a NumPy array but are getting an error when trying to access its elements."
   ]
  },
  {
   "cell_type": "markdown",
   "metadata": {},
   "source": [
    "import numpy as np\n",
    "\n",
    "arr = np.array([1, 2, 3, 4, 5])\n",
    "\n",
    "print(arr[5])"
   ]
  },
  {
   "cell_type": "markdown",
   "metadata": {},
   "source": [
    "#### Prompt for debugging:\n",
    "\n",
    "<i>I have a NumPy array called 'arr' as shown below:"
   ]
  },
  {
   "cell_type": "code",
   "execution_count": null,
   "metadata": {},
   "outputs": [],
   "source": [
    "import numpy as np\n",
    "\n",
    "arr = np.array([1, 2, 3, 4, 5])"
   ]
  },
  {
   "cell_type": "markdown",
   "metadata": {},
   "source": [
    "<i>However, I'm encountering an 'IndexError' when trying to access an element using 'arr[5]'. I expect the output to be '5', but it's giving me an error. \n",
    "\n",
    "<i>Help me understand what's going wrong and how to fix it"
   ]
  },
  {
   "cell_type": "markdown",
   "metadata": {},
   "source": [
    "#### Example ChatGPT response for debugging:\n",
    "\n",
    "<i>The 'IndexError' occurs when you try to access an element using an index that is out of bounds for the array. In Python, indexing starts at 0, so the valid indices for an array of length 'n' are from 0 to 'n-1'. In your case, 'arr' has a length of 5, so valid indices are 0 to 4.\n",
    "\n",
    "<i>To fix the issue, you need to access the elements within the valid index range. If you want to access the last element, you can use 'arr[-1]' instead of 'arr[5]'. This will give you the expected output of '5'.\n",
    "\n",
    "<i>Here's the corrected code:"
   ]
  },
  {
   "cell_type": "code",
   "execution_count": null,
   "metadata": {},
   "outputs": [],
   "source": [
    "import numpy as np\n",
    "\n",
    "arr = np.array([1, 2, 3, 4, 5])\n",
    "\n",
    "print(arr[-1])"
   ]
  },
  {
   "cell_type": "markdown",
   "metadata": {},
   "source": [
    "### Example 2: Debugging NumPy Operations"
   ]
  },
  {
   "cell_type": "markdown",
   "metadata": {},
   "source": [
    "You are trying to perform element-wise addition on two NumPy arrays but getting a 'ValueError' related to incompatible shapes."
   ]
  },
  {
   "cell_type": "code",
   "execution_count": null,
   "metadata": {},
   "outputs": [],
   "source": [
    "import numpy as np\n",
    "\n",
    "arr1 = np.array([1, 2, 3])\n",
    "arr2 = np.array([4, 5, 6, 7])\n",
    "\n",
    "result = arr1 + arr2\n",
    "print(\"Result:\", result)"
   ]
  },
  {
   "cell_type": "markdown",
   "metadata": {},
   "source": [
    "#### Prompt for Debugging:"
   ]
  },
  {
   "cell_type": "markdown",
   "metadata": {},
   "source": [
    "<i> I have two NumPy arays 'arr1' and 'arr2' as shown below:"
   ]
  },
  {
   "cell_type": "code",
   "execution_count": null,
   "metadata": {},
   "outputs": [],
   "source": [
    "import numpy as np\n",
    "\n",
    "arr1 = np.array([1, 2, 3])\n",
    "arr2 = np.array([4, 5, 6, 7])"
   ]
  },
  {
   "cell_type": "markdown",
   "metadata": {},
   "source": [
    "<i> I'm trying to perform element-wise addition using 'arr1 + arr2', but I'm encountering a 'ValueError' with the message 'operands could not be broadcast together'. I expect the result to be '[5, 7, 9]', but it's giving me an error.\n",
    "\n",
    "<i>Help me understand what's going wrong and how to fix it?"
   ]
  },
  {
   "cell_type": "markdown",
   "metadata": {},
   "source": [
    "#### Example ChatGPT Response for Debugging:"
   ]
  },
  {
   "cell_type": "markdown",
   "metadata": {},
   "source": [
    "<i>The 'ValueError' occurs when you try to perform element-wise operations on arrays with incompatible shapes. For element-wise addition, both arrays should have the same shape, or one of them should have a shape that can be broadcasted to the other.\n",
    "\n",
    "<i>In your case, 'arr1' has a shape of (3,) and 'arr2' has a shape of (4,). These shapes are not compatible for element-wise addition.\n",
    "\n",
    "<i>To fix the issue, you can either reshape 'arr2' to have the same shape as 'arr1', or you can use NumPy's broadcasting feature to perform the addition.\n",
    "\n",
    "<i>Here's how you can fix the code using broadcasting:"
   ]
  },
  {
   "cell_type": "code",
   "execution_count": null,
   "metadata": {},
   "outputs": [],
   "source": [
    "import numpy as np\n",
    "\n",
    "arr1 = np.array([1, 2, 3])\n",
    "arr2 = np.array([4, 5, 6, 7])\n",
    "\n",
    "result = arr1 + arr2[:3]  # Broadcasting arr2 to match the shape of arr1\n",
    "print(\"Result:\", result)  # Output: [5 7 9]"
   ]
  },
  {
   "cell_type": "markdown",
   "metadata": {},
   "source": [
    "# 3. Hands-On Practice Exercise <a id='p3' />\n",
    "\n"
   ]
  },
  {
   "cell_type": "markdown",
   "metadata": {},
   "source": [
    "1. Create a 2D numpy array named 'my_array' with 100 random integers between 0 and 10, using the `numpy.random.randint()` function. "
   ]
  },
  {
   "cell_type": "code",
   "execution_count": null,
   "metadata": {},
   "outputs": [],
   "source": [
    "my_array = numpy.random.randint(0,10)"
   ]
  },
  {
   "cell_type": "markdown",
   "metadata": {},
   "source": [
    "2. Print the sum, mean, max and min of each 1D array in my_array."
   ]
  },
  {
   "cell_type": "code",
   "execution_count": null,
   "metadata": {},
   "outputs": [],
   "source": []
  },
  {
   "cell_type": "markdown",
   "metadata": {},
   "source": [
    "3. Sort my_array in ascending order."
   ]
  },
  {
   "cell_type": "code",
   "execution_count": null,
   "metadata": {},
   "outputs": [],
   "source": []
  },
  {
   "cell_type": "markdown",
   "metadata": {},
   "source": [
    "4. Print only the unique values in each 1D array in my_array."
   ]
  },
  {
   "cell_type": "code",
   "execution_count": null,
   "metadata": {},
   "outputs": [],
   "source": []
  },
  {
   "cell_type": "markdown",
   "metadata": {},
   "source": [
    "5. Write a function that takes a 2D NumPy array as input and returns the largest element in the array."
   ]
  },
  {
   "cell_type": "code",
   "execution_count": null,
   "metadata": {},
   "outputs": [],
   "source": []
  },
  {
   "cell_type": "markdown",
   "metadata": {},
   "source": [
    "6. Write a function that takes two 2D NumPy arrays as input and performs matrix multiplication between them. Ensure that the dimensions of the input arrays are compatible for matrix multiplication."
   ]
  },
  {
   "cell_type": "code",
   "execution_count": null,
   "metadata": {},
   "outputs": [],
   "source": []
  },
  {
   "cell_type": "markdown",
   "metadata": {},
   "source": [
    "7. Write a function that takes two 2D NumPy arrays as input and performs the following operations:\n",
    "\n",
    "    i) Transpose the first array.\n",
    "    \n",
    "    ii) Multiply each element of the transposed array with the corresponding element in the second array.\n",
    "\n",
    "    iii) Return the resulting matrix."
   ]
  },
  {
   "cell_type": "code",
   "execution_count": null,
   "metadata": {},
   "outputs": [],
   "source": []
  },
  {
   "cell_type": "markdown",
   "metadata": {},
   "source": [
    "8. Write a function that takes a 2D NumPy array as input and returns the unique rows in the array, removing any duplicates."
   ]
  },
  {
   "cell_type": "code",
   "execution_count": null,
   "metadata": {},
   "outputs": [],
   "source": []
  },
  {
   "cell_type": "markdown",
   "metadata": {},
   "source": [
    "9. Write a function that takes a 2D NumPy array as input and calculates the mean and standard deviation of each row, returning the results as separate arrays."
   ]
  },
  {
   "cell_type": "code",
   "execution_count": null,
   "metadata": {},
   "outputs": [],
   "source": []
  },
  {
   "cell_type": "markdown",
   "metadata": {},
   "source": [
    "10. Write a function that takes a 1D NumPy array as input and performs the following operations:\n",
    "\n",
    "    i) Filter out the elements in the array that are greater than a given threshold.\n",
    "    \n",
    "    ii) Calculate the mean of the remaining elements.\n",
    "\n",
    "    iii)Return the mean value."
   ]
  },
  {
   "cell_type": "code",
   "execution_count": null,
   "metadata": {},
   "outputs": [],
   "source": []
  },
  {
   "cell_type": "markdown",
   "metadata": {},
   "source": [
    "11. Write a function that takes a 2D NumPy array representing a dataset and performs standardization on the features, scaling each feature to have zero mean and unit variance.\n",
    "\n",
    "    *Hint : Data standardization is (data - mean)/std*"
   ]
  },
  {
   "cell_type": "code",
   "execution_count": null,
   "metadata": {},
   "outputs": [],
   "source": []
  },
  {
   "cell_type": "markdown",
   "metadata": {},
   "source": [
    "##### The End\n",
    "[Back to Content](#tc)"
   ]
  },
  {
   "cell_type": "markdown",
   "metadata": {},
   "source": [
    "Copyright © 2023 by Boston Consulting Group. All rights reserved."
   ]
  }
 ],
 "metadata": {
  "anaconda-cloud": {},
  "celltoolbar": "Raw Cell Format",
  "kernelspec": {
   "display_name": "Python 3 (ipykernel)",
   "language": "python",
   "name": "python3"
  },
  "language_info": {
   "codemirror_mode": {
    "name": "ipython",
    "version": 3
   },
   "file_extension": ".py",
   "mimetype": "text/x-python",
   "name": "python",
   "nbconvert_exporter": "python",
   "pygments_lexer": "ipython3",
   "version": "3.11.5"
  }
 },
 "nbformat": 4,
 "nbformat_minor": 1
}
