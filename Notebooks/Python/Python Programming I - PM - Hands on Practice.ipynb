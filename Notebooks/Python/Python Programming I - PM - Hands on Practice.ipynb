{
 "cells": [
  {
   "cell_type": "markdown",
   "metadata": {},
   "source": [
    "<table class=\"table table-bordered\">\n",
    "    <tr>\n",
    "        <th style=\"width:200px;\">\n",
    "            <img src='https://bcgriseacademy.com/hs-fs/hubfs/RISE%202.0%20Logo_Options_25Jan23_RISE%20-%20For%20Black%20Background.png?width=3522&height=1986&name=RISE%202.0%20Logo_Options_25Jan23_RISE%20-%20For%20Black%20Background.png' style=\"background-color:black; width: 100%; height: 100%;\">\n",
    "        </th>\n",
    "        <th style=\"text-align:center;\">\n",
    "            <h1>IBF TFIP</h1>\n",
    "            <h2>Python Programming I</h2>\n",
    "        </th>\n",
    "    </tr>\n",
    "</table>"
   ]
  },
  {
   "cell_type": "markdown",
   "metadata": {},
   "source": [
    "# Learning Objectives\n",
    "#### After completing this lesson, you should be able to:\n",
    "\n",
    "1. LO1 : Understand Python Features, Execution and Interactive Sessions\n",
    "2. LO2 : Apply operations on Python Objects (Lists, Tuples, Dictionaries, Sets)\n",
    "3. LO3 : Understand and apply various types of assignments\n"
   ]
  },
  {
   "cell_type": "markdown",
   "metadata": {},
   "source": [
    "# Table of Contents <a id='tc'></a>\n",
    "\n",
    "1. [Python Features, Execution and Interactive Sessions](#p1)\n",
    "2. [Python Objects](#p2)\n",
    "3. [Type Casting across sets, lists and tuples](#p3)\n",
    "4. [Assignments](#p4)\n",
    "5. [None Object](#p5)\n",
    "6. [Hands-On Practice Exercise](#p6)"
   ]
  },
  {
   "cell_type": "markdown",
   "metadata": {},
   "source": [
    "# 1. Python Features, Execution and Interactive Sessions <a id='p1' />\n"
   ]
  },
  {
   "cell_type": "markdown",
   "metadata": {},
   "source": [
    " ## 1.1 Features <a id='p2.1' />\n",
    "* __Software Quality :__\n",
    "\n",
    "Python code is designed to be readable, and hence reusable and maintainable. Python has deep support for more advanced software reuse mechanisms, such as object-oriented (OO).\n",
    " \n",
    "* __Developer Productivity :__\n",
    "\n",
    "Python code is typically one-third to one-fifth the size of equivalent C++ or Java code. That means there is less to type, less to debug, and less to maintain. Python programs also run immediately, without the lengthy compile and link steps required by some other tools, further boosting programmer speed.\n",
    "\n",
    "\n",
    "* __Program Portability :__\n",
    "\n",
    "Most Python programs run unchanged on all major computer platforms. Porting Python code between Linux and Windows, for example, is usually just a matter of copying a script’s code between machines.\n",
    " \n",
    "* __Support Libraries :__\n",
    "\n",
    "Python comes with a large collection of prebuilt and portable functionality, known as the standard library.\n",
    " \n",
    "* __Component Integration :__\n",
    "\n",
    "Python scripts can easily communicate with other parts of an application, using a variety of integration mechanisms. Such integrations allow Python to be used as a product customization and extension tool. Python code can invoke C and C++ libraries, can be called from C and C++ programs, can integrate with Java and .NET components, can communicate over frameworks such as COM and Silverlight, can interface with devices over serial ports, and can interact over networks with interfaces like SOAP, XML-RPC, and CORBA.\n",
    "\n",
    "[![IMAGE ALT TEXT](http://img.youtube.com/vi/IkDFQBC1Lys/0.jpg)](http://www.youtube.com/watch?v=IkDFQBC1Lys \"Why Python - Click to watch\")"
   ]
  },
  {
   "cell_type": "markdown",
   "metadata": {},
   "source": [
    "## 1.2 Program Execution <a id='p2.2' />\n",
    "* Python program is a text file with a '.py' extension\n",
    "* When Python is instructed to run a script - \n",
    "    * the code is compiled to byte code :\n",
    "        * byte code is a lower-level, platform-independent representation\n",
    "        * it is stored in a file with a '.pyc' extension\n",
    "    * then it is routed to virtual machine\n",
    "* Byte code generation is a start up speed optimization\n",
    "    * when unmodified source code is executed next time, the compilation step is ignored\n",
    "* Byte code is saved in files only for files that are imported, not for the top-level files of a program that are only run as scripts - it’s an import optimization.\n",
    "* To create a .pyc file for a module that is not imported, use the py_compile module as follows:\n",
    "\n",
    ">        Import py_compile\n",
    ">        py_compile.compile('abc.py')\n",
    "\n"
   ]
  },
  {
   "cell_type": "markdown",
   "metadata": {},
   "source": [
    "## 1.3 Interactive Session <a id='p3.1' />\n",
    "* To start an interactive session on linux :\n",
    "    * type python at the prompt – displays the python prompt\n",
    "    * Example : print ('Hello everyone')\n",
    "    * ^D to end the session\n",
    "\n",
    "* To start an interactive session on windows:\n",
    "    * Type python in anaconda prompt\n",
    "    * Example : print ('Hello everyone')\n",
    "    \n",
    "    \n",
    "\n",
    "* When coding interactively, any number of Python commands can be typed – each is run immediately after it is entered.\n",
    "* The interactive session automatically prints the results of typed expressions, thus it is usually not needed to say “print” explicitly at the prompt.\n",
    "\n"
   ]
  },
  {
   "cell_type": "markdown",
   "metadata": {},
   "source": [
    "# 2. Python Objects <a id='p2' />\n",
    "\n",
    "#### Definition: \n",
    "Object is simply a collection of data (variables) and methods (functions) that act on those data.\n",
    "\n",
    "* Python objects can be:\n",
    "    * Mutable:\n",
    "        * these can be changed in-place\n",
    "        * that is, these objects' values can be changed any time\n",
    "    * Immutable:\n",
    "        * the original object can not be changed through any means\n",
    "        \n",
    "        \n",
    "* Objects can be :\n",
    "    * built-in OR core data types – provided by python\n",
    "    * created by programmers using Python classes or external language tools such as C extension libraries\n",
    "    \n",
    "    \n",
    "In the previous module,we have learnt about some built-in objects:\n",
    "\n",
    "- Numbers\n",
    "- Strings\n",
    "- Boolean\n",
    "\n",
    "In this module, we will learn about more built-in objects:\n",
    "\n",
    "- Lists\n",
    "- Tuples\n",
    "- Sets\n",
    "- Dictionaries\n"
   ]
  },
  {
   "cell_type": "markdown",
   "metadata": {},
   "source": [
    "## 2.1 Lists\n",
    "\n",
    "**Lists** are ordered sequence of elements. The order is specified as the list is created or as elements are added to the list.\n",
    "\n",
    "    1. Lists are created using the `[]` syntax.\n",
    "    \n",
    "    2. Lists can include mixed data types.\n",
    "    \n",
    "    3. List elements are accessed by index.\n",
    "    \n",
    "    4. Lists are **mutable**. You can add, remove, and replace values using functions such as `append()`, `extend()`, `insert()`, `pop()`, `remove()`, and `del`. "
   ]
  },
  {
   "cell_type": "markdown",
   "metadata": {},
   "source": [
    "In the BCG RISE BDA program, you get to learn a plethora of tools. So, let's say we want to create a list of tools taught."
   ]
  },
  {
   "cell_type": "code",
   "execution_count": null,
   "metadata": {},
   "outputs": [],
   "source": [
    "\n",
    "\n",
    "# you can print the variable tools\n",
    "\n",
    "\n",
    "\n",
    "# the datatype of the variable\n",
    "\n",
    "\n",
    "\n"
   ]
  },
  {
   "cell_type": "markdown",
   "metadata": {},
   "source": [
    "Notice that the list printed the elements in the same order in which they were created and hence they are ordered sequence of elements. \n",
    "\n",
    "Unlike strings, **lists are mutable**. Thus, we can change them. \n",
    "\n",
    "In the next section we will learn about different methods of list."
   ]
  },
  {
   "cell_type": "markdown",
   "metadata": {},
   "source": [
    "## 2.1.1 Methods of List\n",
    "\n",
    "As lists are mutable in nature, you can add elements to a list, remove elements from a list, assign a new value to an element of a list and many more. Most of these can be done using various methods of the list."
   ]
  },
  {
   "cell_type": "markdown",
   "metadata": {},
   "source": [
    "#### Functions and Object Method\n",
    "\n",
    "We have used built in functions in Python like print(), type(). Now, we are using object methods of various python objects. You might be thinking if they are the same? If not, then what is the difference?\n",
    "\n",
    "Functions are standalone and can be used independently, while object methods are associated with specific objects and operate on their data and behavior. Functions can be used on various objects or values, whereas object methods are accessed through objects and have access to the object's specific data. The differences between Python functions and object methods also lies in their relationship to objects and how they are accessed and invoked:\n",
    "\n",
    "* Definition:\n",
    "\n",
    "    - Functions: Functions in Python are standalone blocks of reusable code that perform a specific task. They can be defined outside of any class or object and can be accessed from anywhere in the code.\n",
    "\n",
    "    - Object Methods: Object methods, also known as instance methods, are functions defined within a class and associated with specific objects or instances of that class. They operate on the data and behavior of the object and are accessed through the object or instance using the dot notation.\n",
    "    \n",
    "    \n",
    "* Invocation:\n",
    "\n",
    "    - Functions: Functions are invoked by calling their name followed by parentheses. They can be used on different objects or values, but they are not tied to any specific object or instance. Examples of function calls include len(), print(), or type().\n",
    "\n",
    "    - Object Methods: Object methods are invoked on specific objects or instances by calling the method on the object using the dot notation. The method operates on the object's data and can access its attributes and other methods. Examples of method calls include object.method().\n",
    "\n",
    "* Access to Data:\n",
    "\n",
    "    - Functions: Functions operate on the input parameters passed to them as arguments. They may or may not have access to specific data or attributes unless explicitly passed as arguments.\n",
    "\n",
    "    - Object Methods: Object methods have access to the data and attributes of the specific object or instance on which they are invoked. They can directly interact with the object's data and modify it if necessary.\n",
    "\n"
   ]
  },
  {
   "cell_type": "markdown",
   "metadata": {},
   "source": [
    "Let's say in the BDA program, we introduce a new tool and would like to add that to the list of tools. We can use **`append()`** to add a new element to the list. "
   ]
  },
  {
   "cell_type": "code",
   "execution_count": null,
   "metadata": {},
   "outputs": [],
   "source": [
    "# This piece of code is used to append one element to the list\n",
    "\n"
   ]
  },
  {
   "cell_type": "markdown",
   "metadata": {},
   "source": [
    "If we want to add multiple additional values, we can either append them one by one, or we can `extend()` our list `tools` with the list of additional tools that we want to add."
   ]
  },
  {
   "cell_type": "code",
   "execution_count": null,
   "metadata": {},
   "outputs": [],
   "source": [
    "# to add multiple elements, use the extend function instead\n",
    "\n",
    "# Method 1:\n",
    "\n"
   ]
  },
  {
   "cell_type": "code",
   "execution_count": null,
   "metadata": {},
   "outputs": [],
   "source": [
    "# can you think of another way to perform this task?\n",
    "\n",
    "# Method 2:\n",
    "\n"
   ]
  },
  {
   "cell_type": "markdown",
   "metadata": {},
   "source": [
    "You can see that like strings, we can use both of the additive math operators. We will use a small number here so as not to flood the screen, but we can multiply the list too."
   ]
  },
  {
   "cell_type": "code",
   "execution_count": null,
   "metadata": {},
   "outputs": [],
   "source": []
  },
  {
   "cell_type": "markdown",
   "metadata": {},
   "source": [
    "As for strings, subtraction and division are not implemented so it is for lists.  The reason is that it is not clear what subtracting two lists should produce."
   ]
  },
  {
   "cell_type": "code",
   "execution_count": null,
   "metadata": {},
   "outputs": [],
   "source": []
  },
  {
   "cell_type": "markdown",
   "metadata": {},
   "source": [
    "Then how can we renove elements from a list?\n",
    "\n",
    "I can see that I have added Alteryx and ChatGPT twice, I would like to remove them."
   ]
  },
  {
   "cell_type": "code",
   "execution_count": null,
   "metadata": {},
   "outputs": [],
   "source": [
    "\n",
    "# note that remove removes the first occurence of the element to be removed. \n",
    "# You cannot pass a list of elements to  be removed in one go.\n"
   ]
  },
  {
   "cell_type": "markdown",
   "metadata": {},
   "source": [
    "We can also use another method 'pop' to remove elements of a list. In the pop method you have to specify the index of the element that you want to remove, the default is -1.\n",
    "\n",
    "The method returns the element that is deleted.\n",
    "\n",
    "Can you think of a situation when pop is helpful over remove??"
   ]
  },
  {
   "cell_type": "code",
   "execution_count": null,
   "metadata": {},
   "outputs": [],
   "source": [
    "\n",
    "\n"
   ]
  },
  {
   "cell_type": "code",
   "execution_count": null,
   "metadata": {},
   "outputs": [],
   "source": []
  },
  {
   "cell_type": "markdown",
   "metadata": {},
   "source": [
    "## 2.1.2 Indexing and Slicing\n",
    "\n",
    "Since a list comprises multiple elements, just as a string comprises multiple chracters, it is helpful to be able to access a single element by its index or to access a section of the list using slicing. To access an element by its index we use the syntax: `variable[index]`.\n",
    "\n",
    "It is useful to keep track of the number of elements in a list. You can obtain this number using the built-in function `len()`:"
   ]
  },
  {
   "cell_type": "code",
   "execution_count": null,
   "metadata": {},
   "outputs": [],
   "source": []
  },
  {
   "cell_type": "code",
   "execution_count": null,
   "metadata": {},
   "outputs": [],
   "source": [
    "# extracting "
   ]
  },
  {
   "cell_type": "markdown",
   "metadata": {},
   "source": [
    "In order to obtain a access a section of a list, we use the slicing syntax  `variable[start_index : stop_index : step]` where:\n",
    "\n",
    "start_index is always **inclusive** and the stop_index is **exclusive**."
   ]
  },
  {
   "cell_type": "code",
   "execution_count": null,
   "metadata": {},
   "outputs": [],
   "source": []
  },
  {
   "cell_type": "code",
   "execution_count": null,
   "metadata": {},
   "outputs": [],
   "source": []
  },
  {
   "cell_type": "code",
   "execution_count": null,
   "metadata": {},
   "outputs": [],
   "source": [
    "# slicing\n"
   ]
  },
  {
   "cell_type": "markdown",
   "metadata": {},
   "source": [
    "As lists are mutable, we can not only add and remove elements, we can also change the value of the elements. "
   ]
  },
  {
   "cell_type": "code",
   "execution_count": null,
   "metadata": {},
   "outputs": [],
   "source": []
  },
  {
   "cell_type": "markdown",
   "metadata": {},
   "source": [
    "Sometimes, we know that a certain value is included in a list but do not know its index in the list. If we want to find out the index of a given value, we use the built-in function `index()`. "
   ]
  },
  {
   "cell_type": "code",
   "execution_count": null,
   "metadata": {},
   "outputs": [],
   "source": []
  },
  {
   "cell_type": "markdown",
   "metadata": {},
   "source": [
    "## 2.1.3 Ordering Lists\n",
    "\n",
    "Lists have other built-in methods too. For example, you can sort a list , reverse a list etc."
   ]
  },
  {
   "cell_type": "code",
   "execution_count": null,
   "metadata": {},
   "outputs": [],
   "source": []
  },
  {
   "cell_type": "markdown",
   "metadata": {},
   "source": [
    "The elements in a list can also be sorted.  If the elements are numbers, the standard ordering of numbers is used. If the elements are string, then alphabetical ordering is used."
   ]
  },
  {
   "cell_type": "code",
   "execution_count": null,
   "metadata": {},
   "outputs": [],
   "source": []
  },
  {
   "cell_type": "markdown",
   "metadata": {},
   "source": [
    "However, we can't sort lists that contains both alphabets and numbers."
   ]
  },
  {
   "cell_type": "code",
   "execution_count": null,
   "metadata": {},
   "outputs": [],
   "source": [
    "\n"
   ]
  },
  {
   "cell_type": "markdown",
   "metadata": {},
   "source": [
    "## 2.1.4 Nesting\n",
    "\n",
    "A list can nest Python's core data types in any combination and to any depth.\n",
    "\n",
    "Example: a list can contain a dictionary, which can contain another list and so on ...\n",
    "\n",
    "Application: lists can be used to create multi-dimensional arrays"
   ]
  },
  {
   "cell_type": "code",
   "execution_count": null,
   "metadata": {},
   "outputs": [],
   "source": [
    "# list of lists\n"
   ]
  },
  {
   "cell_type": "code",
   "execution_count": null,
   "metadata": {},
   "outputs": [],
   "source": [
    "# Accessing element at index 1 results to a list\n",
    "\n"
   ]
  },
  {
   "cell_type": "code",
   "execution_count": null,
   "metadata": {},
   "outputs": [],
   "source": [
    "# Accessing element at index 2 from the above list\n"
   ]
  },
  {
   "cell_type": "markdown",
   "metadata": {},
   "source": [
    "## 2.2 Tuples\n",
    "\n",
    "Tuples are very similar to `list`:\n",
    "\n",
    "Here are a few similarities:\n",
    "\n",
    "* Both Tuples and Lists contain a sequence of individual elements\n",
    "* Both Tuples and Lists are stored in the order that they were added\n",
    "* Both Tuples and Lists can store mixed data types\n",
    "* We access individual elements using their index with the syntax `variable[index]`\n",
    "\n",
    "So then what is the difference? \n",
    "\n",
    "The major difference between a list and tuple is that tuples are an **immutable** data type (like strings). This means that none of the functions that are built-in to modify variables can be applied to tuples.\n",
    "\n",
    "In order to indicate this **crucial** difference between lists and tuples, Python uses a different syntax to create a tuple.\n",
    "The syntax for creating a `list` uses `[]`. The syntax to create a `tuple` uses `()`. \n"
   ]
  },
  {
   "cell_type": "code",
   "execution_count": null,
   "metadata": {},
   "outputs": [],
   "source": [
    "# Create a tuple that stores the RISE courses\n",
    "\n"
   ]
  },
  {
   "cell_type": "markdown",
   "metadata": {},
   "source": [
    "Because tuples are immutable element assignment does not work. \n",
    "\n"
   ]
  },
  {
   "cell_type": "code",
   "execution_count": null,
   "metadata": {},
   "outputs": [],
   "source": []
  },
  {
   "cell_type": "markdown",
   "metadata": {},
   "source": [
    "It does not support element removal too."
   ]
  },
  {
   "cell_type": "code",
   "execution_count": null,
   "metadata": {},
   "outputs": [],
   "source": []
  },
  {
   "cell_type": "code",
   "execution_count": null,
   "metadata": {},
   "outputs": [],
   "source": [
    "# adding new elements is the only operation you can perform\n"
   ]
  },
  {
   "cell_type": "markdown",
   "metadata": {},
   "source": [
    "Note that when we add something to a tuple we are not changing the tuple, we are creating a new tuple by overwriting the older tuple. The old variable (tuple) rise is overwritten by new tuple. \n",
    "\n",
    "Tuples require a non-obvious syntax when they have a single element.  Specifically, a tuple with a single element must be written as using the syntax `(value, )`. Without theo comma, the Python interpreter would decide that we are passing a string or number and will not support the operation."
   ]
  },
  {
   "cell_type": "code",
   "execution_count": null,
   "metadata": {},
   "outputs": [],
   "source": []
  },
  {
   "cell_type": "code",
   "execution_count": null,
   "metadata": {},
   "outputs": [],
   "source": []
  },
  {
   "cell_type": "markdown",
   "metadata": {},
   "source": [
    "## 2.3 Sets\n",
    "\n",
    "A Python set is an unordered collection that prevents the repetition of values from occurring.  To create a `set` we use the syntax `{}`. \n",
    "\n",
    "* Because they are unordered, they don’t support sequence operations like indexing and slicing\n",
    "* Sets can only contain immutable types – thus lists, sets and dictionaries cannot be embedded in sets, tuples can be\n"
   ]
  },
  {
   "cell_type": "code",
   "execution_count": null,
   "metadata": {},
   "outputs": [],
   "source": []
  },
  {
   "cell_type": "markdown",
   "metadata": {},
   "source": [
    "The way to add an element to a set is using the function `add()`. However, if we try to add an element that already exists in the set, that element will just be ignored."
   ]
  },
  {
   "cell_type": "code",
   "execution_count": null,
   "metadata": {},
   "outputs": [],
   "source": []
  },
  {
   "cell_type": "markdown",
   "metadata": {},
   "source": [
    "Sets are also **mutable**, like a `list`. However, they don't use the same built-in functions. To add an item, you use the built-in function `add()`. To remove an element, you use the built-in function `discard()`.  Notice, however, that **sets cannot be added or multiplied**."
   ]
  },
  {
   "cell_type": "code",
   "execution_count": null,
   "metadata": {},
   "outputs": [],
   "source": [
    "\n",
    "\n",
    " #remove elements from a set\n"
   ]
  },
  {
   "cell_type": "markdown",
   "metadata": {},
   "source": [
    "\n",
    "Another set of operations that can be performed on sets are `intersection`, `union`, and `difference`. These operations are identical to mathematical operations in set."
   ]
  },
  {
   "cell_type": "code",
   "execution_count": null,
   "metadata": {},
   "outputs": [],
   "source": []
  },
  {
   "cell_type": "markdown",
   "metadata": {},
   "source": [
    "### 2.4 Dictionaries\n",
    "\n",
    "A Python dictionary is a mapping of unique keys to values. Dictionaries are mutable, which means they can be changed. The elements of a dictionary are accessed using **keys**.\n",
    "\n",
    " * Dictionaries are not sequences – they are known as mappings\n",
    "\n",
    " * Dictionaries are created using the `{}` syntax.\n",
    "    \n",
    " * These collections store objects by key instead of by relative position. Dictionaries are composed of `key, value` pairs.\n",
    "\n",
    " * Each `key, value` pair is called an *item*.\n",
    "    \n",
    " * `Items` can be added to a dictionary using the built-in method `update()`.\n",
    "    \n",
    " * `Items` can be removed usind the functions `del` and the method `pop()`.\n",
    "    \n",
    " * Dictionaries allow nesting with all data types.\n",
    "\n",
    " * We can access all `items`, `keys`, and `values` in a dictionary."
   ]
  },
  {
   "cell_type": "markdown",
   "metadata": {},
   "source": [
    "A Python dictionary is a very useful data type that expands on the offerings by lists.  In a list one keeps track of the elements by an index and indices are integers.  **Dictionaries keep track of elements by their `key`!**\n",
    "\n",
    "Each element in a dictionary is called an **item**, and every `item` is made up of **key** and a **value**. You use the `key` to extract the `value`. All `keys` **must** be unique.\n",
    "\n",
    "The dictionaries are also created using`{}`. If we are initializing a dictionary, we enter `key-value` pairs separated by commas; for each `item`, the key is separated from the value by a colon.\n",
    "\n",
    "`a_dict = {key : value, another_key : another_value}`"
   ]
  },
  {
   "cell_type": "code",
   "execution_count": null,
   "metadata": {},
   "outputs": [],
   "source": [
    "# Let us create a dictionary\n",
    "#a blank dictionary\n",
    "\n",
    "# 'Name' is the `key`, 'Jess' is the `value`\n"
   ]
  },
  {
   "cell_type": "code",
   "execution_count": null,
   "metadata": {},
   "outputs": [],
   "source": []
  },
  {
   "cell_type": "code",
   "execution_count": null,
   "metadata": {},
   "outputs": [],
   "source": [
    " # It is a list of strings\n",
    " # It is a list and can have mixed datatypes\n",
    "  # It is list of tuples"
   ]
  },
  {
   "cell_type": "markdown",
   "metadata": {},
   "source": [
    "To remove a `key-value` pair from a `dict` variable, we can use `del` and provide the `key`. Guess what happens if you provide a `key` that does not exist? \n",
    "\n",
    "Alternatively, you can use the built-in method `pop()` and provide a `key`. This method deletes the `item` with `key` and returns the `value`.\n"
   ]
  },
  {
   "cell_type": "code",
   "execution_count": null,
   "metadata": {},
   "outputs": [],
   "source": []
  },
  {
   "cell_type": "code",
   "execution_count": null,
   "metadata": {},
   "outputs": [],
   "source": []
  },
  {
   "cell_type": "code",
   "execution_count": null,
   "metadata": {},
   "outputs": [],
   "source": [
    "# change the value of place from Singapore to Australia\n",
    "\n"
   ]
  },
  {
   "cell_type": "markdown",
   "metadata": {},
   "source": [
    "#### Comparing Lists, Tuples, Sets and Dictionaries\n",
    "\n",
    "|             | Lists                               | Tuples                              | Dictionaries                             | Sets                                    |\n",
    "|-------------|-------------------------------------|-------------------------------------|------------------------------------------|-----------------------------------------|\n",
    "| Mutability  | Mutable                             | Immutable                           | Mutable                                  | Mutable                                 |\n",
    "| Order       | Ordered                             | Ordered                             | Unordered                                | Unordered                               |\n",
    "| Indexing    | Access elements by index             | Access elements by index             | Access elements by key                    | No indexing                             |\n",
    "| Duplicate Values | Allows duplicate values         | Allows duplicate values             | Keys must be unique, values can be duplicate | No duplicate values                     |\n",
    "| Syntax      | Enclosed in square brackets `[]`    | Enclosed in parentheses `()`         | Enclosed in curly braces `{}`             | Enclosed in curly braces `{}`            |\n",
    "| Example     | numbers = [1, 2, 3]                 | point = (4, 5)                       | person = {\"name\": \"John\", \"age\": 25}      | fruits = {\"apple\", \"banana\", \"orange\"}  |\n",
    "| Use Cases   | Collection of related items, sequence operations, mutable data | Data that shouldn't be modified, return multiple values from a function | Storing key-value pairs, quick lookup based on key | Collection of unique elements, membership testing, set operations |\n",
    "| Simple Use Cases | Shopping cart, to-do list, student grades | Coordinates of a point, RGB color values | Phonebook with names and phone numbers, dictionary-based configurations | List of unique user IDs, removing duplicates from a list |\n"
   ]
  },
  {
   "cell_type": "markdown",
   "metadata": {},
   "source": [
    "# 3. Type Casting across sets, lists and tuples <a id='p3' />\n",
    "\n",
    "\n",
    "Since `sets`, `lists`, and `tuples` are all collections of elements, Python allows us to easily convert variables from one object type to another. You have seen this in the previous module for integers, strings and floats."
   ]
  },
  {
   "cell_type": "code",
   "execution_count": null,
   "metadata": {},
   "outputs": [],
   "source": [
    "#countries_one was originally a set!\n"
   ]
  },
  {
   "cell_type": "code",
   "execution_count": null,
   "metadata": {},
   "outputs": [],
   "source": []
  },
  {
   "cell_type": "code",
   "execution_count": null,
   "metadata": {},
   "outputs": [],
   "source": []
  },
  {
   "cell_type": "markdown",
   "metadata": {},
   "source": [
    "# 4. Assignments <a id='p4' />\n",
    "\n",
    "\n",
    " The purpose of Python's assignment statement is to associate names with values in your program. It is the only statement that does not start with a keyword. An assignment statement is a line containing at least one single equal sign (=) that is not inside parentheses.\n",
    "\n",
    "Here is the general form of an assignment statement:\n",
    "\n",
    "         target0 = target1 = ... = expression\n",
    "\n",
    "\n",
    "In most cases, there will be one target that is a name. Python will evaluate the expression, reducing it to a single value, and then bind that name to the that value. \n",
    "\n"
   ]
  },
  {
   "cell_type": "code",
   "execution_count": null,
   "metadata": {},
   "outputs": [],
   "source": [
    "# simple assignment you are already familiar with\n",
    "\n"
   ]
  },
  {
   "cell_type": "markdown",
   "metadata": {},
   "source": [
    "## 4.1 Tuple and list unpacking assignment :\n",
    "\n",
    "- When there is a tuple or list on the left side of the '=' the objects on the right side are paired with targets on the left by position and assignment happens from left to right\n",
    "- Internally a tuple of the items on the right is made – hence this is called tuple-unpacking assignment\n"
   ]
  },
  {
   "cell_type": "code",
   "execution_count": null,
   "metadata": {},
   "outputs": [],
   "source": [
    " # Tuple assignment (positional)\n",
    " # List assignment (positional)\n"
   ]
  },
  {
   "cell_type": "code",
   "execution_count": null,
   "metadata": {},
   "outputs": [],
   "source": []
  },
  {
   "cell_type": "markdown",
   "metadata": {},
   "source": [
    "In the following example, a temporary tuple is created that saves the original values of the variables on the right while the statement runs – thus unpacking assignments are also a way to swap two variables’ values without creating any temporary variable:"
   ]
  },
  {
   "cell_type": "code",
   "execution_count": null,
   "metadata": {},
   "outputs": [],
   "source": []
  },
  {
   "cell_type": "markdown",
   "metadata": {},
   "source": [
    "## 4.2 Sequence assignment \n",
    "\n",
    "Any sequence of names can be assigned to any sequence of values – the items will be assigned one at a time by position"
   ]
  },
  {
   "cell_type": "code",
   "execution_count": null,
   "metadata": {},
   "outputs": [],
   "source": [
    "  # Sequence assignment\n"
   ]
  },
  {
   "cell_type": "code",
   "execution_count": null,
   "metadata": {},
   "outputs": [],
   "source": []
  },
  {
   "cell_type": "markdown",
   "metadata": {},
   "source": [
    "## 4.3 Extended sequence unpacking \n",
    "- Matches 'a' with the first character in the string on the right and 'b' with the rest : a is assigned 'p', and b is assigned 'art'"
   ]
  },
  {
   "cell_type": "code",
   "execution_count": null,
   "metadata": {},
   "outputs": [],
   "source": []
  },
  {
   "cell_type": "code",
   "execution_count": null,
   "metadata": {},
   "outputs": [],
   "source": []
  },
  {
   "cell_type": "code",
   "execution_count": null,
   "metadata": {},
   "outputs": [],
   "source": []
  },
  {
   "cell_type": "markdown",
   "metadata": {},
   "source": [
    "## 4.4 Multiple target assignment"
   ]
  },
  {
   "cell_type": "code",
   "execution_count": null,
   "metadata": {},
   "outputs": [],
   "source": []
  },
  {
   "cell_type": "code",
   "execution_count": null,
   "metadata": {},
   "outputs": [],
   "source": []
  },
  {
   "cell_type": "code",
   "execution_count": null,
   "metadata": {},
   "outputs": [],
   "source": []
  },
  {
   "cell_type": "markdown",
   "metadata": {},
   "source": [
    "## 4.5 Augmented Assignment\n"
   ]
  },
  {
   "cell_type": "code",
   "execution_count": null,
   "metadata": {},
   "outputs": [],
   "source": []
  },
  {
   "cell_type": "code",
   "execution_count": null,
   "metadata": {},
   "outputs": [],
   "source": []
  },
  {
   "cell_type": "markdown",
   "metadata": {},
   "source": [
    "## 4.6 Advanced sequence unpacking assignment "
   ]
  },
  {
   "cell_type": "code",
   "execution_count": null,
   "metadata": {},
   "outputs": [],
   "source": []
  },
  {
   "cell_type": "markdown",
   "metadata": {},
   "source": [
    "# 5. None Object <a id='p5' />\n",
    "\n",
    "- This is special object always considered to be false\n",
    "- It serves like a empty placeholder\n",
    "- It is also the default return value of functions that don’t exit by running into a return statement with a result value\n"
   ]
  },
  {
   "cell_type": "code",
   "execution_count": null,
   "metadata": {},
   "outputs": [],
   "source": []
  },
  {
   "cell_type": "code",
   "execution_count": null,
   "metadata": {},
   "outputs": [],
   "source": []
  },
  {
   "cell_type": "code",
   "execution_count": null,
   "metadata": {},
   "outputs": [],
   "source": []
  },
  {
   "cell_type": "code",
   "execution_count": null,
   "metadata": {},
   "outputs": [],
   "source": [
    "# since a is none type we cannot perform any operation\n",
    "\n"
   ]
  },
  {
   "cell_type": "markdown",
   "metadata": {},
   "source": [
    "# 6. Hands-On Practice Exercise <a id='p6' />"
   ]
  },
  {
   "cell_type": "markdown",
   "metadata": {},
   "source": [
    "1. Create a dictionary called person with the following key-value pairs:\n",
    "   - \"name\": \"John\"\n",
    "   - \"age\": 30\n",
    "   - \"city\": \"New York\"\n",
    "2. Add a new key-value pair to the person dictionary: \"occupation\": \"Engineer\".\n",
    "3. Remove the \"age\" key-value pair from the person dictionary.\n",
    "4. Update the value of the \"name\" key to \"Jane\" in the person dictionary.\n",
    "5. Check if the \"occupation\" key is present in the person dictionary and print the result.\n",
    "6. Create a nested dictionary called address with the following key-value pairs:\n",
    "    - \"street\": \"Main Street\"\n",
    "    - \"zip\": \"12345\"\n",
    "7. Add the address dictionary as a value for the \"address\" key in the person dictionary.\n",
    "8. Access and print the value associated with the \"zip\" key in the nested address dictionary.\n",
    "9. Create a list called hobbies with the elements \"reading\", \"painting\", \"traveling\".\n",
    "10. Add the hobbies list as a value for the \"hobbies\" key in the person dictionary.\n",
    "11. Print all the keys in the person dictionary.\n",
    "12. Print all the values in the person dictionary.\n",
    "13. Iterate over the key-value pairs in the person dictionary and print them.\n",
    "14. Create a new dictionary called person2 with the same key-value pairs as the person dictionary.\n",
    "15. Check if the person and person2 dictionaries are equal and print the result."
   ]
  },
  {
   "cell_type": "code",
   "execution_count": null,
   "metadata": {},
   "outputs": [],
   "source": []
  },
  {
   "cell_type": "markdown",
   "metadata": {},
   "source": [
    "##### The End\n",
    "[Back to Content](#tc)\n"
   ]
  },
  {
   "cell_type": "markdown",
   "metadata": {},
   "source": [
    "Copyright © 2023 by Boston Consulting Group. All rights reserved."
   ]
  }
 ],
 "metadata": {
  "anaconda-cloud": {},
  "celltoolbar": "Raw Cell Format",
  "kernelspec": {
   "display_name": "Python 3 (ipykernel)",
   "language": "python",
   "name": "python3"
  },
  "language_info": {
   "codemirror_mode": {
    "name": "ipython",
    "version": 3
   },
   "file_extension": ".py",
   "mimetype": "text/x-python",
   "name": "python",
   "nbconvert_exporter": "python",
   "pygments_lexer": "ipython3",
   "version": "3.9.13"
  }
 },
 "nbformat": 4,
 "nbformat_minor": 1
}
