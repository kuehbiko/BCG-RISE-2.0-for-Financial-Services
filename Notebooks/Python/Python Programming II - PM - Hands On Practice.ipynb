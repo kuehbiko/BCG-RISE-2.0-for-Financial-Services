{
 "cells": [
  {
   "cell_type": "markdown",
   "metadata": {},
   "source": [
    "<table class=\"table table-bordered\">\n",
    "    <tr>\n",
    "        <th style=\"width:200px;\">\n",
    "            <img src='https://bcgriseacademy.com/hs-fs/hubfs/RISE%202.0%20Logo_Options_25Jan23_RISE%20-%20For%20Black%20Background.png?width=3522&height=1986&name=RISE%202.0%20Logo_Options_25Jan23_RISE%20-%20For%20Black%20Background.png' style=\"background-color:black; width: 100%; height: 100%;\">\n",
    "        </th>\n",
    "        <th style=\"text-align:center;\">\n",
    "            <h1>IBF TFIP</h1>\n",
    "            <h2>Python Programming II</h2>\n",
    "        </th>\n",
    "    </tr>\n",
    "</table>"
   ]
  },
  {
   "cell_type": "markdown",
   "metadata": {},
   "source": [
    "# Learning Objectives\n",
    "#### After completing this lesson, you should be able to:\n",
    "\n",
    "1. LO1 : Understand and Implement user defined functions and lambda functions\n",
    "2. LO2 : Understand Python Exceptions\n",
    "3. LO3 : Apply Exceptions Handling methods\n",
    "\n",
    "\n"
   ]
  },
  {
   "cell_type": "markdown",
   "metadata": {},
   "source": [
    "# Table of Contents <a id='tc'></a>\n",
    "\n",
    "1. [Functions](#p1)\n",
    "2. [Lambda Functions](#p2)\n",
    "3. [Python Exceptions](#p3)\n",
    "4. [Exceptions Handling](#p4)\n",
    "5. [[Optional Self-Learning] DIY Debugging with ChatGPT](#p5)"
   ]
  },
  {
   "cell_type": "markdown",
   "metadata": {},
   "source": [
    "# 1. Functions <a id='p1' />\n",
    "\n",
    "Functions in Python are blocks of reusable code that perform a specific task or operation. They allow you to break down your code into smaller, more manageable pieces, making it easier to read, understand, and maintain. Functions provide modularity and reusability by encapsulating a set of instructions that can be called and executed multiple times.\n",
    "\n",
    "1. **Modular** code is more readable, easier to maintain, and less prone to running into bugs.\n",
    "\n",
    "2. **Reusability** of code is a critical part of developing modular code.\n",
    "\n",
    "3. Functions are the underpins of modular code. They enable a programmer to avoid repeating lines of code across a project.\n",
    "\n",
    "Things to keep in mind when creating functions:\n",
    "    \n",
    "- Descriptive function names increase code readability.\n",
    "- Appropriate documentation of a function makes it easier to avoid logical errors.\n",
    "\n",
    "Some key features and characteristics of functions in Python:\n",
    "\n",
    "- Function Definition: Functions are defined using the def keyword, followed by the function name and a pair of parentheses. The parentheses may contain input parameters or arguments that the function can accept.\n",
    "\n",
    "- Function Body: The body of the function consists of one or more statements that define the functionality of the function. It is indented under the def statement and can include any valid Python code.\n",
    "\n",
    "- Input Parameters: Functions can have zero or more input parameters, which are placeholders for values that can be passed to the function when it is called. These parameters allow functions to accept different inputs and perform operations based on those inputs.\n",
    "\n",
    "- Return Value: Functions can optionally return a value using the return statement. The return value is the result or output of the function's computation, which can be used further in the program.\n",
    "\n",
    "- Function Call: To execute a function and perform its defined task, you call the function by using its name followed by parentheses. If the function accepts parameters, you can pass values or variables as arguments within the parentheses.\n",
    "\n",
    "This is the syntax:\n",
    "\n",
    "    def function_name():\n",
    "\n",
    "        statements\n",
    "\n",
    "        return something (optional)\n",
    "    \n",
    "As mentioned earlier, functions help us avoid repeating the same set of statements everytime we want to repeat a task. Functions increase code readability. Functions make testing of your code easier and more reliable.\n",
    "\n",
    "In order to execute the code in a function, you use the syntax `function_name()`. If you do not \"call\" your function in your code, then it is never executed.  However, the Python interpreter will still check its code for syntax errors."
   ]
  },
  {
   "cell_type": "markdown",
   "metadata": {},
   "source": [
    "## 1.1 Functions without arguments"
   ]
  },
  {
   "cell_type": "markdown",
   "metadata": {},
   "source": [
    "Let's write a very simple function."
   ]
  },
  {
   "cell_type": "code",
   "execution_count": null,
   "metadata": {},
   "outputs": [],
   "source": [
    "# a function that divides two numbers 100 by 20\n",
    "\n",
    "# FUNCTION DEFINITION\n"
   ]
  },
  {
   "cell_type": "markdown",
   "metadata": {},
   "source": [
    "You just wrote a simple function! Notice that after writing it nothing was printed. That is because you didn't *call* the function. You just defined one.\n",
    "\n",
    "To see the function in action, you need to *call* the function just by writing the function name along with the parentheses:"
   ]
  },
  {
   "cell_type": "code",
   "execution_count": null,
   "metadata": {},
   "outputs": [],
   "source": [
    "# Function call\n"
   ]
  },
  {
   "cell_type": "markdown",
   "metadata": {},
   "source": [
    "This is great! Every time we want to divide 100 by 20, we call the function `div` and the job is done. So, to perform the same task repeatedly, you don't need to write the same code again and again. Instead, you can write the code in a function body, and call the function as and when required.\n",
    "\n",
    "In the above example, we defined a function that divides two hard coded numbers 100 by 20. What if we don't always want to divide 100 by 20? Instead we want to divide two other different numbers. Will writing the function once and reusing it still holds true?\n",
    "\n",
    "Yes! It still holds true and it can be achieved by defining arguments within the function.\n"
   ]
  },
  {
   "cell_type": "markdown",
   "metadata": {},
   "source": [
    "## 1.2 Functions with arguments\n",
    "\n",
    "In Python, function arguments are the values or variables that are passed to a function when it is called. They allow you to provide input data to the function so that it can perform operations or computations based on that data. There are different types of function arguments:\n",
    "\n",
    "### 1.2.1 Positional Arguments\n",
    "\n",
    "Positional arguments are passed to a function in the order they are defined in the function's parameter list. The values are assigned to the corresponding parameters based on their position. \n",
    "\n",
    "This time round, we want to divide two numbers but we will not hard code the values."
   ]
  },
  {
   "cell_type": "code",
   "execution_count": null,
   "metadata": {},
   "outputs": [],
   "source": []
  },
  {
   "cell_type": "code",
   "execution_count": null,
   "metadata": {},
   "outputs": [],
   "source": []
  },
  {
   "cell_type": "markdown",
   "metadata": {},
   "source": [
    "Here, the function div_param() has two positional arguments a and b. When the function is called with div_param(200, 50), the value 200 is assigned to a, and 50 is assigned to b, resulting in the division of 200 and 50.\n",
    "\n",
    "When we call the function, we must pass the arguments within brackets. These numbers can vary based on what you want to divide.\n",
    "\n",
    "Notice, that these arguments are positional arguments. In this case, the first number you pass is a dividend and the second number you pass is the divisor. \n",
    "\n",
    "If you change the position, the result also changes. \n",
    "\n"
   ]
  },
  {
   "cell_type": "code",
   "execution_count": null,
   "metadata": {},
   "outputs": [],
   "source": []
  },
  {
   "cell_type": "markdown",
   "metadata": {},
   "source": [
    "### 1.2.2 Keyword Arguments\n",
    "\n",
    "Keyword arguments are passed to a function using the key=value syntax, where the argument is explicitly assigned to a specific parameter based on its name. Keyword arguments allow you to pass arguments in any order and are particularly useful when a function has many parameters.\n",
    "\n",
    "In the below example, the function greet() has two keyword arguments name and message. By using the key=value syntax, the arguments can be passed in any order, and they will be assigned to the corresponding parameters based on their names."
   ]
  },
  {
   "cell_type": "code",
   "execution_count": null,
   "metadata": {},
   "outputs": [],
   "source": []
  },
  {
   "cell_type": "markdown",
   "metadata": {},
   "source": [
    "In the earlier `div_param` example as well, you may specify the parameter values explicitly and if you change the positions then the result will not be impacted. This is because you are passing the arguments through keywords."
   ]
  },
  {
   "cell_type": "code",
   "execution_count": null,
   "metadata": {},
   "outputs": [],
   "source": []
  },
  {
   "cell_type": "markdown",
   "metadata": {},
   "source": [
    "In Python 3.X (but not 2.X), functions can also specify arguments that must be passed by name with keyword arguments, not by position.\n"
   ]
  },
  {
   "cell_type": "code",
   "execution_count": null,
   "metadata": {},
   "outputs": [],
   "source": []
  },
  {
   "cell_type": "code",
   "execution_count": null,
   "metadata": {},
   "outputs": [],
   "source": []
  },
  {
   "cell_type": "code",
   "execution_count": null,
   "metadata": {},
   "outputs": [],
   "source": [
    " # error"
   ]
  },
  {
   "cell_type": "markdown",
   "metadata": {},
   "source": [
    "### Keyword arguments and their default values work as expected"
   ]
  },
  {
   "cell_type": "code",
   "execution_count": null,
   "metadata": {},
   "outputs": [],
   "source": []
  },
  {
   "cell_type": "markdown",
   "metadata": {},
   "source": [
    "#### Why do we need keyword only arguments?\n",
    "\n",
    "Keyword-only arguments in Python are function parameters that can only be passed by specifying their names as keywords in the function call. They are denoted by an asterisk (*) before the parameter name, which means that all arguments after the asterisk must be passed as keyword arguments.\n",
    "\n",
    "Keyword-only arguments are useful in cases where you want to enforce that certain arguments must be specified using keywords to improve the clarity and readability of the code. It allows you to create functions with a flexible number of positional arguments but also require certain arguments to be passed using keyword names.\n",
    "\n",
    "Here's a simple applicative example to illustrate the use of keyword-only arguments:"
   ]
  },
  {
   "cell_type": "code",
   "execution_count": null,
   "metadata": {},
   "outputs": [],
   "source": []
  },
  {
   "cell_type": "code",
   "execution_count": null,
   "metadata": {},
   "outputs": [],
   "source": []
  },
  {
   "cell_type": "code",
   "execution_count": null,
   "metadata": {},
   "outputs": [],
   "source": []
  },
  {
   "cell_type": "markdown",
   "metadata": {},
   "source": [
    "### 1.2.3 Default Arguments\n",
    "\n",
    "Default arguments are parameters that have a default value assigned to them. If an argument is not provided when calling the function, the default value is used instead. Default arguments are defined by using the parameter=value syntax in the function definition.\n",
    "\n",
    "Let's try to understand this with a scenario and use the `div_param` function that we had created earlier. This time we will call the **div_param** function with one missing parameter."
   ]
  },
  {
   "cell_type": "code",
   "execution_count": null,
   "metadata": {},
   "outputs": [],
   "source": []
  },
  {
   "cell_type": "markdown",
   "metadata": {},
   "source": [
    "Here, if you read the error, it clearly states that there is 1 positional argument that is missing. While calling the function, we have to provide all the arguments that was used at the time of defining the function. If we wish to have an argument as default, we can define the function in that way. Here is how we do this:"
   ]
  },
  {
   "cell_type": "code",
   "execution_count": null,
   "metadata": {},
   "outputs": [],
   "source": []
  },
  {
   "cell_type": "code",
   "execution_count": null,
   "metadata": {},
   "outputs": [],
   "source": [
    "# calling the function\n"
   ]
  },
  {
   "cell_type": "markdown",
   "metadata": {},
   "source": [
    "Here we can see that even if we do not pass the second parameter b, still the function assigns a default value of 20 and perform the division."
   ]
  },
  {
   "cell_type": "code",
   "execution_count": null,
   "metadata": {},
   "outputs": [],
   "source": [
    "# Here is another example\n",
    "\n",
    "\n",
    "\n"
   ]
  },
  {
   "cell_type": "markdown",
   "metadata": {},
   "source": [
    "In the above example, the greet() function has a default argument message with the value \"Welcome\". If the argument is not provided when calling the function, the default value is used."
   ]
  },
  {
   "cell_type": "markdown",
   "metadata": {},
   "source": [
    "## 1.3 Return Statement\n",
    "\n",
    "In Python, the return statement is used in functions to specify the value that the function should return when it is called. It allows the function to compute a result or perform some operation and provide the output back to the caller.\n",
    "\n",
    "Here are some key points about the return statement:\n",
    "\n",
    "**Syntax**: The return statement is followed by an expression or a value that represents the result of the function. It is typically written as return <expression>.\n",
    "\n",
    "**Returning a Value**: When a return statement is encountered in a function, the execution of the function is immediately halted, and the value specified after return is returned as the result of the function.\n",
    "\n",
    "**Multiple Return Statements**: A function can have multiple return statements, but only one of them will be executed. Once a return statement is encountered, the function exits and returns the specified value. Any subsequent code after the return statement is not executed.\n",
    "\n",
    "**Returning None**: If no value is specified after the return statement, or if the return statement is omitted altogether, the function returns None by default. None represents the absence of a value and is often used to indicate that a function does not produce a specific result.\n",
    "\n",
    "**Returning Multiple Values**: Although a function can only have one return value, you can return multiple values as a tuple or other data structure. For example, return a, b will return a tuple (a, b)."
   ]
  },
  {
   "cell_type": "code",
   "execution_count": null,
   "metadata": {},
   "outputs": [],
   "source": [
    "\n",
    "# Here, the above function returns a value 8."
   ]
  },
  {
   "cell_type": "markdown",
   "metadata": {},
   "source": [
    "#### Difference between having a return vs print in function\n",
    "\n",
    "The main difference between using return and print in a function lies in their purpose and how they handle the output or result of the function.\n",
    "\n",
    "The key distinction between a return and print is that return is used to provide a value as the result of a function, which can be used for further computations, assignment to variables, or as input for other functions. \n",
    "\n",
    "On the other hand, print is used for displaying information or outputting values to the console for human-readable purposes during program execution. Let's try to understand this with an example.\n",
    "\n",
    "Let's say we define a function to multiply two numbers and then add 5 to the result. "
   ]
  },
  {
   "cell_type": "code",
   "execution_count": null,
   "metadata": {},
   "outputs": [],
   "source": [
    "# Let's try to use a print\n",
    "\n",
    "\n",
    "\n",
    "#add 5 to the number\n"
   ]
  },
  {
   "cell_type": "markdown",
   "metadata": {},
   "source": [
    "Can you guess why we have this error? Let's try to understand the error. The error here states that we are trying to add a None type object with an integer. Let's take a step back to understand this.\n",
    "\n"
   ]
  },
  {
   "cell_type": "code",
   "execution_count": null,
   "metadata": {},
   "outputs": [],
   "source": [
    "# check the datatype of result\n"
   ]
  },
  {
   "cell_type": "markdown",
   "metadata": {},
   "source": [
    "Well, from this we can see that the function is just displaying the result with a print statement and really not storing or **returning** any value. To make this work as intended, we have to add a return statement to the function."
   ]
  },
  {
   "cell_type": "code",
   "execution_count": null,
   "metadata": {},
   "outputs": [],
   "source": [
    "# replace print with a return\n"
   ]
  },
  {
   "cell_type": "markdown",
   "metadata": {},
   "source": [
    "### 1.3.1 Multiple Return Statements\n",
    "\n",
    "Multiple return statements in a function are used when you want the function to have different exit points or when you need to return different values based on specific conditions or scenarios. However, note that the program exits the function body as soon as it hits one of the return statement."
   ]
  },
  {
   "cell_type": "code",
   "execution_count": null,
   "metadata": {},
   "outputs": [],
   "source": [
    "\n",
    "\n",
    "# Function calls\n",
    "   # The result of division is: 5.0\n",
    "    # Error: Division by zero is not allowed.\n"
   ]
  },
  {
   "cell_type": "markdown",
   "metadata": {},
   "source": [
    "## 1.4 Polymorphism\n",
    "\n",
    "Polymorphism in functions refers to the ability of a function to behave differently based on the type of object or arguments it receives. It allows a single function to handle different types or variations of input and produce different results or  behaviours accordingly. Due to this characteristic of a function:\n",
    "\n",
    "- Argument types are not specified while defining functions\n",
    "- What a function means and does depends on what is passed to it. The same function can generally be applied to a whole category of object types automatically as long as those objects support the expected interface the function can process them\n",
    "\t\n",
    "__Example :__"
   ]
  },
  {
   "cell_type": "code",
   "execution_count": null,
   "metadata": {},
   "outputs": [],
   "source": [
    "\n",
    "\n",
    "# function multiplying two numbers\n",
    "\n",
    "# function multiplying a string and a number\n",
    "\n"
   ]
  },
  {
   "cell_type": "markdown",
   "metadata": {},
   "source": [
    "Here, when defining the function arguments, we did not explicitly define what kind of datatype the arguments will take. The function performs the task of multiplication and based on the values it receives in the arguments, it behaves exactly how it should giving the obvious results. But, it can only perform the operation as long as the function can process them. "
   ]
  },
  {
   "cell_type": "code",
   "execution_count": null,
   "metadata": {},
   "outputs": [],
   "source": []
  },
  {
   "cell_type": "markdown",
   "metadata": {},
   "source": [
    "Here, if we try to multiple two strings, then the operation is not possible resulting in the function throwing an error.\n",
    "\n",
    "Thus any two objects that support the '*' operator in that order can be passed to this function.\n"
   ]
  },
  {
   "cell_type": "markdown",
   "metadata": {},
   "source": [
    "- Python is a dynamically typed language (types are associated with values not variables) – thus polymorphism runs unrestricted.\n",
    "- This is a major difference between Python and statically typed languages like C++ and Java.\n",
    "- In Python, your code is not supposed to care about specific data types. If it does, it will be limited to working on just the types anticipated at the time of coding. It will not support other compatible object types that may be coded in the future\n",
    "\n"
   ]
  },
  {
   "cell_type": "markdown",
   "metadata": {},
   "source": [
    "## 1.5 Local and Global Variables\n",
    "\n",
    "### 1.5.1 Local Variables\n",
    "\n",
    "It is a name that is visible only to code inside the function def and that exists only while the function runs. They are created when a function is called or when a block of code is executed, and they are destroyed when the function or block of code completes.\n"
   ]
  },
  {
   "cell_type": "code",
   "execution_count": null,
   "metadata": {},
   "outputs": [],
   "source": []
  },
  {
   "cell_type": "code",
   "execution_count": null,
   "metadata": {},
   "outputs": [],
   "source": [
    "# error : can not access 'res' out of scope of function 'pow'"
   ]
  },
  {
   "cell_type": "markdown",
   "metadata": {},
   "source": [
    "Can you think of a reason why there is a name error there? In spite of having the variable `res` present in the runtime. \n",
    "This is because python can not access 'res' variable as it is out of scope of function 'pow'. This means that the variable `res` is only accessible within the function pow(). The variable is not accessible outside the function body. And this is the concept of **Local Variables**."
   ]
  },
  {
   "cell_type": "code",
   "execution_count": null,
   "metadata": {},
   "outputs": [],
   "source": [
    "# Value of i is from outside the function"
   ]
  },
  {
   "cell_type": "markdown",
   "metadata": {},
   "source": [
    "- Arguments are passed by assignment, so x and y are also local\n",
    "- Function’s local variables won’t remember values between calls\n",
    "\n",
    "__Names assigned inside a def do not clash with variables outside the def, even if the same names are used elsewhere, and the values are also not updated.__\n",
    "\n"
   ]
  },
  {
   "cell_type": "code",
   "execution_count": null,
   "metadata": {},
   "outputs": [],
   "source": []
  },
  {
   "cell_type": "code",
   "execution_count": null,
   "metadata": {},
   "outputs": [],
   "source": []
  },
  {
   "cell_type": "markdown",
   "metadata": {},
   "source": [
    "Inside the function, the value of `i` is **2** in the final iteration and the value of `res` is **1000**, but still when we print the values of `i` and `res` respectively, we get the values these variables are storing outside the function. "
   ]
  },
  {
   "cell_type": "code",
   "execution_count": null,
   "metadata": {},
   "outputs": [],
   "source": []
  },
  {
   "cell_type": "markdown",
   "metadata": {},
   "source": [
    "### 1.5.2 Global Variables\n",
    "\n",
    "Global variables are defined outside of any function or block of code, at the top level of the program. They are accessible from anywhere in the program, including inside functions, as long as they are in the same global scope.\n"
   ]
  },
  {
   "cell_type": "code",
   "execution_count": null,
   "metadata": {},
   "outputs": [],
   "source": [
    "\n"
   ]
  },
  {
   "cell_type": "markdown",
   "metadata": {},
   "source": [
    "Here, you can see that even after defining the same variable names inside and outside the scope of the function, the values of the variables inside the function don't overwrite the values of the variables outside the function. "
   ]
  },
  {
   "cell_type": "markdown",
   "metadata": {},
   "source": [
    "### Thus variables may be assigned in three different places :\n",
    "- a variable assigned inside a def – it is local to that function\n",
    "- a variable assigned in an enclosing def – it is nonlocal to nested functions\n",
    "- a variable assigned outside all defs – it is global to the entire file"
   ]
  },
  {
   "cell_type": "markdown",
   "metadata": {},
   "source": [
    "- By default, all the names assigned inside a function definition are put in the local scope.\n",
    " - A name in a function can be declared in a global statement to access the name outside the function, but only after the function has been executed.\n"
   ]
  },
  {
   "cell_type": "code",
   "execution_count": null,
   "metadata": {},
   "outputs": [],
   "source": [
    "\n"
   ]
  },
  {
   "cell_type": "markdown",
   "metadata": {},
   "source": [
    "In the above code, variable x defined outside the scope of the function is assigned a value of 20. Inside the function, we declare the variable x as a global variable using the global keyword. This tells Python that we want to access and modify the global variable x, not create a new local variable with the same name and the value of the global variable x is changed to 20. Hence, when we print the value of x outside the function, the value is updated from 10 to 20 for the entire program scope."
   ]
  },
  {
   "cell_type": "markdown",
   "metadata": {},
   "source": [
    "Note the use of the `global` keyword within the function. This is necessary to inform Python that we are referring to the global variable x and not creating a new local variable. Without the global keyword, x would be treated as a local variable within the function, and the global variable would not be modified.\n",
    "\n",
    "By using the global keyword, we can access and modify global variables from within a function. However, it is generally recommended to use global variables sparingly and with caution, as excessive reliance on global state can make code harder to understand and maintain.\n"
   ]
  },
  {
   "cell_type": "code",
   "execution_count": null,
   "metadata": {},
   "outputs": [],
   "source": []
  },
  {
   "cell_type": "code",
   "execution_count": null,
   "metadata": {},
   "outputs": [],
   "source": []
  },
  {
   "cell_type": "markdown",
   "metadata": {},
   "source": [
    "# 2. Lambda Functions <a id='p2' />\n",
    "\n",
    "\n",
    "\n",
    "### Definition and application\n",
    "* lambda operator or lambda function is used for creating small, one-time and anonymous function objects in Python.\n",
    "\n",
    "### Basic syntax\n",
    "    lambda arguments : expression\n",
    "    \n",
    "    \n",
    "    \n",
    "* In case you wish to make your functions more concise, easy to write and read, you can create Lambda functions. \n",
    "* Anonymous Lambda function can be defined using the keyword lambda\n",
    "* However there are few constraints, that you need to follow:\n",
    "    * They are syntactically restricted to a single expression (i.e. they are one-line functions)\n",
    "    * Lambda functions cannot contain commands, and they cannot contain more than one expression\n",
    "    * Lambda function can take any number of arguments (including optional arguments) and returns the value of a single expression\n",
    "\n"
   ]
  },
  {
   "cell_type": "markdown",
   "metadata": {},
   "source": [
    "lambda arguments: expression"
   ]
  },
  {
   "cell_type": "markdown",
   "metadata": {},
   "source": [
    "Below lambda function will increment the passed value by 5, (num + incr=5)"
   ]
  },
  {
   "cell_type": "code",
   "execution_count": null,
   "metadata": {},
   "outputs": [],
   "source": []
  },
  {
   "cell_type": "markdown",
   "metadata": {},
   "source": [
    "Calling Increment by passing values 5, 10, this will override the default value of (incr=5)  to 10 and return 15 as output"
   ]
  },
  {
   "cell_type": "code",
   "execution_count": null,
   "metadata": {},
   "outputs": [],
   "source": [
    "# lambda function \n",
    "\n",
    "\n",
    "# Calling Increment by passing value 5\n"
   ]
  },
  {
   "cell_type": "code",
   "execution_count": null,
   "metadata": {},
   "outputs": [],
   "source": [
    "# calling Increment by passing values 5, 10\n",
    "## this will override the default value of (incr=5)  to 10\n"
   ]
  },
  {
   "cell_type": "code",
   "execution_count": null,
   "metadata": {},
   "outputs": [],
   "source": [
    "# Using Lambda function within a function\n"
   ]
  },
  {
   "cell_type": "code",
   "execution_count": null,
   "metadata": {},
   "outputs": [],
   "source": [
    "\n",
    "# Passing a value 5\n"
   ]
  },
  {
   "cell_type": "code",
   "execution_count": null,
   "metadata": {},
   "outputs": [],
   "source": [
    "# Passing values 5, 10\n"
   ]
  },
  {
   "cell_type": "markdown",
   "metadata": {},
   "source": [
    "### Lambda inside a list "
   ]
  },
  {
   "cell_type": "code",
   "execution_count": null,
   "metadata": {},
   "outputs": [],
   "source": []
  },
  {
   "cell_type": "markdown",
   "metadata": {},
   "source": [
    "### Lambda inside a dictionary"
   ]
  },
  {
   "cell_type": "code",
   "execution_count": null,
   "metadata": {},
   "outputs": [],
   "source": []
  },
  {
   "cell_type": "markdown",
   "metadata": {},
   "source": [
    "# 3. Python Exceptions <a id='p3' />\n",
    "\n",
    "#### Programming and Errors\n",
    "\n",
    "As a program grow in complexity and the number of lines of code and instructions for the computer to carry out grow, the more likely it is that our code will have errors. We've encountered errors along the way as we've learnt what can and can't be done, but now it's time to look at errors in a more systematic manner. \n",
    "\n",
    "Just like there are different data types, there are also different error types. Having different error types help us to easily identify what has gone wrong in our code. \n",
    "\n",
    "## 3.1 Syntax errors\n",
    "\n",
    "Like all programming languages, Python needs you to write code in a **syntactically correct manner** so that it can understand your commands and translate them to the machine. If you don't follow the correct syntax in your code, such as not having matched parentheses, brackets, or quotations marks, your code will generate a `SyntaxError`."
   ]
  },
  {
   "cell_type": "code",
   "execution_count": null,
   "metadata": {},
   "outputs": [],
   "source": [
    "value = 3\n",
    "sentence = 'This is a sentence\n",
    "print(value)"
   ]
  },
  {
   "cell_type": "markdown",
   "metadata": {},
   "source": [
    "What you're seeing above is the **exception** and the **traceback**. The first part is the **traceback**.\n",
    "\n",
    "`File ..ipykernel_16048\\2973963433.py\"`\n",
    "\n",
    "It tells us about the \"file\" that the compiler was processing when the error occurred. Since we are using a Jupyter notebook and are not calling any functions defined in external files, this line is not providing any additional information to us.\n",
    "\n",
    "We then learn that the error occurred at \n",
    "\n",
    "`line 2`\n",
    "\n",
    "and that the parsing problem occurred at \n",
    "\n",
    "`sentence = 'This is a sentence`\n",
    "\n",
    "**Be aware that this information isn't always accurate**. Depending upon the type of error and the complexity of the line of code, the actual error could be above or below where it points out that the error is occurring.\n",
    "\n",
    "The second part is the **exception**. \n",
    "\n",
    "`SyntaxError: EOL while scanning string literal`\n",
    "\n",
    "It tells us what issue generated the error. In this case, we have a `SyntaxError` because Python reached the end of the line (`EOL`) while it was scanning the string we started with `'` and it couldn't find the closing `'`.\n",
    "\n",
    "Another type of syntax error that can occur in Python is an `Indentation Error`.   Consider the following code snippet:"
   ]
  },
  {
   "cell_type": "code",
   "execution_count": null,
   "metadata": {},
   "outputs": [],
   "source": [
    "for i in range(3):\n",
    "  j = i * 2\n",
    "    print(i, j)\n"
   ]
  },
  {
   "cell_type": "markdown",
   "metadata": {},
   "source": [
    "The third line in the code snippet - `print(i, j)` - should be aligned vertically with the beginning of the second line - `j = i * 2` - but it is not. "
   ]
  },
  {
   "cell_type": "markdown",
   "metadata": {},
   "source": [
    "## 3.2 Type errors\n",
    "\n",
    "A very common Python error is the `TypeError`. This happens when we try to use a method that is for one data type on another data type that does not support it. Remember how strings cannot be subtracted or divided? "
   ]
  },
  {
   "cell_type": "code",
   "execution_count": null,
   "metadata": {},
   "outputs": [],
   "source": [
    "new_string = 'python ' + 'java'\n",
    "print(new_string)\n",
    "new_string = 'python ' - 'java'\n",
    "print(new_string)"
   ]
  },
  {
   "cell_type": "markdown",
   "metadata": {},
   "source": [
    "As you can see, the Python interpreter correctly executed the first two lines of our code and printed\n",
    "\n",
    "`python java`\n",
    "\n",
    "Also, as expected, Python tells the line the error occurred on. Python does not have a rule for how to subtract strings, so it lets us know that the operation `-` is not supported and informs us that this is a `TypeError`."
   ]
  },
  {
   "cell_type": "code",
   "execution_count": null,
   "metadata": {},
   "outputs": [],
   "source": [
    "new_string = 'python ' * 3\n",
    "print(new_string)\n",
    "\n",
    "new_string = 'python ' + 'java'\n",
    "print(new_string)\n",
    "\n",
    "new_string = 'python ' / 3\n",
    "print(new_string)"
   ]
  },
  {
   "cell_type": "markdown",
   "metadata": {},
   "source": [
    "We see that here is a `TypeError` in line 4.\n",
    "\n",
    "**Remember:** The type of data you're working with really matters, and that's what `TypeError`'s are all about. A valid operation for a `list` might not work for a `tuple` and Python will try to remind you of that fact.\n",
    "\n"
   ]
  },
  {
   "cell_type": "markdown",
   "metadata": {},
   "source": [
    "## 3.3 Name errors\n",
    "\n",
    "Variables in Python must be initialized before they can be used.  If we try to use a variable prior to initialization, we will get a `NameError`. For example, imagine we try to use the new variable `varr1`"
   ]
  },
  {
   "cell_type": "code",
   "execution_count": null,
   "metadata": {},
   "outputs": [],
   "source": [
    "var1 = 5\n",
    "print( varr1 )"
   ]
  },
  {
   "cell_type": "markdown",
   "metadata": {},
   "source": [
    "## 3.4 Index errors\n",
    "\n",
    "\n",
    "As you will remember, specific characters in a string can be accessed using an `index`. The index ranges from 0 to the length of the string minus one.  If we try to access a character in a string by index, and that index doesn't exist in the variable, the Python interpreter returns an `IndexError`."
   ]
  },
  {
   "cell_type": "code",
   "execution_count": null,
   "metadata": {},
   "outputs": [],
   "source": [
    "code_string = 'Python'\n",
    "print( code_string[2] ) \n",
    "print( code_string[12] ) "
   ]
  },
  {
   "cell_type": "markdown",
   "metadata": {},
   "source": [
    "A similar type of error is a `KeyError` which can occur when dealing with dictionaries. \n",
    "\n"
   ]
  },
  {
   "cell_type": "markdown",
   "metadata": {},
   "source": [
    "## 3.5 Value errors\n",
    "\n",
    "Functions (or methods) in Python are written to only work with arguments of specific types. If we call a function with a non-compliant argument, we get a `ValueError`. "
   ]
  },
  {
   "cell_type": "code",
   "execution_count": null,
   "metadata": {},
   "outputs": [],
   "source": [
    "example_string = 'rise'\n",
    "\n",
    "print( example_string )\n",
    "print( type(example_string) ) # data type\n",
    "print( len(example_string) ) # for the length\n",
    "float(example_string)"
   ]
  },
  {
   "cell_type": "markdown",
   "metadata": {},
   "source": [
    "## 3.6 Attribute errors\n",
    "\n",
    "Many Python objects have attributes that can be easily retrieved using the name of the attribute. For example, an attribute of a string is its capitalized form or its upper case form. However, while one can obtain the length of a string using the default function `len()`, strings do not have a `len()` attribute."
   ]
  },
  {
   "cell_type": "code",
   "execution_count": null,
   "metadata": {},
   "outputs": [],
   "source": [
    "print( example_string.capitalize() )\n",
    "print( example_string.upper() )\n",
    "print( example_string.lower() )\n",
    "print( len(example_string) )\n",
    "print( example_string.len() )\n"
   ]
  },
  {
   "cell_type": "markdown",
   "metadata": {},
   "source": [
    "The examples above illustrate some of the errors that you are most likely to encounter when programming. For the full list of exceptions and errors you can refer to the official Python documentation.\n",
    "\n",
    "Python Built-in Exceptions docs:\n",
    "https://docs.python.org/3.4/library/exceptions.html\n",
    "\n",
    "Python Error Handling docs:\n",
    "https://docs.python.org/3.4/tutorial/errors.html\n",
    "\n",
    "The important thing to remember is to look at the error message. It takes a little bit of practice but pretty soon you'll be able to see that the Python interpreter is trying hard to tell you exactly where and why you made a mistake."
   ]
  },
  {
   "cell_type": "markdown",
   "metadata": {},
   "source": [
    "# 4. Exceptions Handling <a id='p4' />\n",
    "\n",
    "\n",
    "\n",
    "Code with syntax errors will not run. However, code with other types of errors will still run until it comes upon an exception, at which point it will crash.  This is not nice. As much as possible, you will want to prevent your code from crashing so that you can save whatever information has been generated up to that point and also that you can tell the user of the program WHY the code crashed.\n",
    "\n",
    "Consider the following situation: We want to use the `input()` function to ask for a number and then return the square of that number."
   ]
  },
  {
   "cell_type": "code",
   "execution_count": null,
   "metadata": {},
   "outputs": [],
   "source": []
  },
  {
   "cell_type": "markdown",
   "metadata": {},
   "source": [
    "But what happens if you entered 'a' instead of 5? Let's try!"
   ]
  },
  {
   "cell_type": "code",
   "execution_count": null,
   "metadata": {},
   "outputs": [],
   "source": []
  },
  {
   "cell_type": "markdown",
   "metadata": {},
   "source": [
    "You got a `ValueError` because you can't convert 'a' to an integer. \n",
    "\n",
    "In order to avoid having the program crash, we can use the `try ... except ...` construction so that we test for possible errors and avoid the crash. Let's try using an 'a' now. "
   ]
  },
  {
   "cell_type": "code",
   "execution_count": null,
   "metadata": {},
   "outputs": [],
   "source": []
  },
  {
   "cell_type": "code",
   "execution_count": null,
   "metadata": {},
   "outputs": [],
   "source": []
  },
  {
   "cell_type": "markdown",
   "metadata": {},
   "source": [
    "Here with a try-except, your code did not break. \n",
    "\n",
    "When you are writing code that takes as inputs information provided by a user or from a source over which you have no control, **it is crucial that you test your code for all possible types of inputs**. That way you will prevent the user from having the pleasure of making your code crash.\n",
    "\n",
    "However, if the functions in your code are taking as input only information that is generated internally by your code, you will not need to make those checks.  **This does not mean that your code will not generate exceptions**. Your code might very well generate exceptions because of logical errors in your code: **That is your code might not be doing what you expect it to be doing!**\n",
    "\n"
   ]
  },
  {
   "cell_type": "markdown",
   "metadata": {},
   "source": [
    "## 4.1 Catching Specific Exceptions\n",
    "\n",
    "You can use try-except to catch specific types of exceptions and handle them differently. This is useful when you know the type of exception that might occur and want to provide specific error handling for each case. "
   ]
  },
  {
   "cell_type": "code",
   "execution_count": null,
   "metadata": {},
   "outputs": [],
   "source": []
  },
  {
   "cell_type": "markdown",
   "metadata": {},
   "source": [
    "## 4.2 Handling Multiple Exceptions\n",
    "\n",
    "You can handle multiple types of exceptions in a single try-except block by specifying multiple except clauses. This allows you to provide different error handling for each exception type. "
   ]
  },
  {
   "cell_type": "code",
   "execution_count": null,
   "metadata": {},
   "outputs": [],
   "source": []
  },
  {
   "cell_type": "markdown",
   "metadata": {},
   "source": [
    "## 4.3 Generic Exception Handling\n",
    "\n",
    "You can use a generic except clause without specifying a specific exception type to catch any unexpected exceptions that may occur. This allows you to provide a general error handling mechanism. However, it's generally recommended to catch specific exceptions whenever possible to handle them appropriately."
   ]
  },
  {
   "cell_type": "code",
   "execution_count": null,
   "metadata": {},
   "outputs": [],
   "source": []
  },
  {
   "cell_type": "markdown",
   "metadata": {},
   "source": [
    "## 4.4 Finally Block\n",
    "\n",
    "You can include a finally block after the try-except block to specify code that will be executed regardless of whether an exception occurs or not. This block is useful for performing clean-up tasks or releasing resources."
   ]
  },
  {
   "cell_type": "code",
   "execution_count": null,
   "metadata": {},
   "outputs": [],
   "source": []
  },
  {
   "cell_type": "markdown",
   "metadata": {},
   "source": [
    "By using try-except appropriately, you can gracefully handle errors, prevent program crashes, and provide meaningful error messages or alternative behaviors when exceptions occur during program execution."
   ]
  },
  {
   "attachments": {
    "image.png": {
     "image/png": "[encoded data removed]"
    }
   },
   "cell_type": "markdown",
   "metadata": {},
   "source": [
    "# 5. [Optional Self-Learning] DIY Debugging with ChatGPT <a id='p5' />\n",
    "\n",
    "We may use chatGPT to debug our codes too!\n",
    "\n",
    "We will try to use the same example from above to see how we can use ChatGPT to debug our code and give the right way to handle it!\n",
    "\n",
    "![image.png](attachment:image.png)"
   ]
  },
  {
   "attachments": {
    "image.png": {
     "image/png": "[encoded data removed]"
    }
   },
   "cell_type": "markdown",
   "metadata": {},
   "source": [
    "It not only gives the explanation of the error, but gives the correct code too.\n",
    "\n",
    "![image.png](attachment:image.png)\n",
    "\n",
    "Below are some examples of Prompts that you can leverage for python programming.\n",
    "\n",
    "\n",
    "| Item | Description                            | Prompt Example                           |\n",
    "|------|----------------------------------------|----------------------------------|\n",
    "| Troubleshooting Support | Seek help to resolve python code | `<Paste code> `My code is showing errors `<paste error>`, can you help me to debug it? |\n",
    "| Interactive Demonstrations | Request ChatGPT to explain certain codes | Explain me the working of this code `<snippet of code> `|\n",
    "| Generate Python code | Get ChatGPT to generate code for specific use case | Write me a code to check if a number is a prime number or not. |\n",
    "| Gather Feedback | Submit code to allow ChatGPT to optimize it | `<snippet of code> `Help me optimize this code to run faster. |\n",
    "\n",
    "You can use these prompt examples to debug and identify the errors in codes that we have used in this session."
   ]
  },
  {
   "cell_type": "markdown",
   "metadata": {},
   "source": [
    "##### The End\n",
    "[Back to Content](#tc)\n"
   ]
  },
  {
   "cell_type": "markdown",
   "metadata": {},
   "source": [
    "Copyright © 2023 by Boston Consulting Group. All rights reserved."
   ]
  }
 ],
 "metadata": {
  "anaconda-cloud": {},
  "celltoolbar": "Raw Cell Format",
  "kernelspec": {
   "display_name": "Python 3 (ipykernel)",
   "language": "python",
   "name": "python3"
  },
  "language_info": {
   "codemirror_mode": {
    "name": "ipython",
    "version": 3
   },
   "file_extension": ".py",
   "mimetype": "text/x-python",
   "name": "python",
   "nbconvert_exporter": "python",
   "pygments_lexer": "ipython3",
   "version": "3.9.13"
  }
 },
 "nbformat": 4,
 "nbformat_minor": 1
}
