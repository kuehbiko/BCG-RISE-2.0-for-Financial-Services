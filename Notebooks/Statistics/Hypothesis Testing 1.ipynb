{
 "cells": [
  {
   "cell_type": "markdown",
   "metadata": {},
   "source": [
    "<table class=\"table table-bordered\">\n",
    "    <tr>\n",
    "        <th style=\"width:250px;\">\n",
    "            <img src='./images/RISE_FFS_2_Light BG@4x.png' style=\"background-color:white; width: 100%; height: 100%; padding: 20px\">\n",
    "        </th>\n",
    "        <th style=\"text-align:center;\">\n",
    "            <h1>Hypothesis Testing 1</h1>\n",
    "            <h3>IBF TFIP</h3>\n",
    "        </th>\n",
    "    </tr>\n",
    "</table>"
   ]
  },
  {
   "cell_type": "markdown",
   "metadata": {},
   "source": [
    "<a id=contentpage></a>\n",
    "### Lesson Content\n",
    "\n",
    "- [1: Hypothesis Testing of Population Mean z-test](#ac1)\n",
    "- [2: Hypothesis Testing of Population Mean t-test](#ac2)\n",
    "- [3: Hypothesis Testing of Population Proportion z-test](#ac3)\n",
    "- [4: Practice Exercise](#ex)"
   ]
  },
  {
   "cell_type": "markdown",
   "metadata": {},
   "source": [
    "<a id=\"ac1\"></a>\n",
    "\n",
    "\n",
    "## 1: Hypothesis Testing of Population Mean z-test\n",
    "\n",
    "### One sample mean z-test (weight of adult in Asia)\n",
    "\n",
    "A report claims that the average weight of an adult in Asia is 60kg. A random sample of 500 adult is examined and it is found that the mean weight = 60.616 with a known population standard deviation of 15.13078 . Assume that the standard deviation does not vary, test at 5% level, whether the report is understating the average adult weight."
   ]
  },
  {
   "cell_type": "code",
   "execution_count": 1,
   "metadata": {},
   "outputs": [
    {
     "name": "stdout",
     "output_type": "stream",
     "text": [
      "60.616\n"
     ]
    }
   ],
   "source": [
    "import pandas as pd\n",
    "weight_sample = pd.read_csv('./data/weight_sample.csv')\n",
    "mean_weight = weight_sample['Weight'].mean()\n",
    "print(mean_weight)"
   ]
  },
  {
   "cell_type": "code",
   "execution_count": 2,
   "metadata": {},
   "outputs": [
    {
     "name": "stdout",
     "output_type": "stream",
     "text": [
      "15.130781341358427\n",
      "500\n"
     ]
    }
   ],
   "source": [
    "import numpy as np\n",
    "print(np.std(weight_sample['Weight']))\n",
    "print(len(weight_sample))"
   ]
  },
  {
   "cell_type": "markdown",
   "metadata": {},
   "source": [
    "\"The average weight of an adult in Asia is 60kg, while the average weight of an adult in Europe is 70kg\".\n",
    "<br>\n",
    "We suspect is that this value is an understatement. Construct a null and alternative hypothesis and conduct a one sample z test using the sample data obtained above. Assume population standard deviation is known to be 15 kg. \n",
    "We can use the z test as the sample size is greater than 30, and each individual observation is independent of other observations."
   ]
  },
  {
   "cell_type": "markdown",
   "metadata": {},
   "source": [
    "### Step 1: Construct the null and alternative hypothesis\n",
    "\n",
    "<br>\n",
    "$ H_0: \\text{The average weight of an adult in Asia is 60 kg.} $\n",
    "<br>\n",
    "$ H_1: \\text{The average weight of an adult in Asia is > 60 kg.} $\n"
   ]
  },
  {
   "cell_type": "code",
   "execution_count": 3,
   "metadata": {},
   "outputs": [],
   "source": [
    "null_hypothesis = 60"
   ]
  },
  {
   "cell_type": "markdown",
   "metadata": {},
   "source": [
    "### Step 2: Specify one-tailed or two-tailed test?\n",
    "<br> Carry out a one-tailed test as the alternative is that the mean is > 60\n",
    "### Step 3 & 4: Level of significance and Critical value\n",
    "<br>\n",
    "\n",
    "- Level of significance: $\\alpha = 0.05$\n",
    "- This means that there is 5% chance that we will reject a null hypothesis wrongly (Type 1 error or false positive)\n",
    "- To put it in another way, there is a 5% chance that we will claim the mean weight is more than 60 years when in fact it is not."
   ]
  },
  {
   "cell_type": "code",
   "execution_count": 4,
   "metadata": {},
   "outputs": [],
   "source": [
    "sig_level = 0.05"
   ]
  },
  {
   "cell_type": "code",
   "execution_count": 5,
   "metadata": {},
   "outputs": [
    {
     "name": "stdout",
     "output_type": "stream",
     "text": [
      "1.6448536269514722\n"
     ]
    }
   ],
   "source": [
    "# Critical value\n",
    "import scipy.stats\n",
    "critical_value = scipy.stats.norm.ppf(.95,0,1)\n",
    "print(critical_value)"
   ]
  },
  {
   "cell_type": "markdown",
   "metadata": {},
   "source": [
    "### Step 5: Calculate test statistic\n",
    "\n",
    "    \n",
    "---\n",
    "In the cases where population standard deviation is known, the test statistic is z and computed by\n",
    "    $z = \\frac{\\bar{x} - \\bar{\\mu}}{\\frac{\\sigma}{\\sqrt{n}}}$\n",
    "    \n"
   ]
  },
  {
   "cell_type": "code",
   "execution_count": 6,
   "metadata": {},
   "outputs": [
    {
     "name": "stdout",
     "output_type": "stream",
     "text": [
      "p-value is 0.1813212096801589\n",
      "z-statistic is 0.9103415369402249\n"
     ]
    }
   ],
   "source": [
    "from scipy import stats\n",
    "from statsmodels.stats import weightstats as stests\n",
    "\n",
    "# alternative = 'larger' as the alternative hypothesis is > 60. Other options include \"smaller\", and \"two-sided\"\n",
    "# value = 60 which is the mean stated in the null hypothesis\n",
    "# one sample test we only have x1 and x2 = None.\n",
    "\n",
    "ztest ,pval = stests.ztest(weight_sample['Weight'], alternative = 'larger', x2=None, value=null_hypothesis, ddof = 0)\n",
    "print(f\"p-value is {float(pval)}\")\n",
    "print(f\"z-statistic is {float(ztest)}\")"
   ]
  },
  {
   "cell_type": "markdown",
   "metadata": {},
   "source": [
    "### Step 6: Make a decision\n",
    "$\\alpha$ our level of significance is 0.05. \n",
    "\n",
    "If using z-test statistic and critical value:\n",
    "- if z- test > critical value, there is evidence to reject the null hypothesis\n",
    "- if z - test < critical value, then there is insufficient evidence to reject null hypothesis\n",
    "\n",
    "If using p-value:\n",
    "- if $p\\text{-value} < \\alpha$, then there is evidence to reject the null hypothesis, in favor of the alternative hypothesis ($H_1$).\n",
    "- if $p\\text{-value} > \\alpha$, then there is insufficient evidence to reject the null hypothesis"
   ]
  },
  {
   "cell_type": "code",
   "execution_count": 7,
   "metadata": {},
   "outputs": [
    {
     "name": "stdout",
     "output_type": "stream",
     "text": [
      "Accept null hypothesis, that the average weight of an adult in Asia is 60kg.\n"
     ]
    }
   ],
   "source": [
    "if ztest > critical_value:\n",
    "    print(\"Reject null hypothesis, in favor the alternative hypothesis that average weight of an adult in Asia is more than 60kg. \")\n",
    "else:\n",
    "    print(\"Accept null hypothesis, that the average weight of an adult in Asia is 60kg.\")"
   ]
  },
  {
   "cell_type": "markdown",
   "metadata": {},
   "source": [
    "The codes below shows you how to find the p-value for a one-tailed test. "
   ]
  },
  {
   "cell_type": "code",
   "execution_count": 8,
   "metadata": {},
   "outputs": [
    {
     "data": {
      "text/plain": [
       "0.1813212096801589"
      ]
     },
     "execution_count": 8,
     "metadata": {},
     "output_type": "execute_result"
    }
   ],
   "source": [
    "# The p-value can also be found from the z-test statistic\n",
    "# To find the probability that the variable has a value GREATER than or\n",
    "# equal to 0.91, you'd use SF Survival Function \n",
    "import scipy.stats\n",
    "scipy.stats.norm.sf(ztest, 0,1)"
   ]
  },
  {
   "cell_type": "markdown",
   "metadata": {},
   "source": [
    "[Back to top](#contentpage)"
   ]
  },
  {
   "cell_type": "markdown",
   "metadata": {},
   "source": [
    "<a id=\"ac2\"></a>\n",
    "\n",
    "\n",
    "##  2: Hypothesis Testing of Population Mean t-test\n",
    "\n",
    "### Two sample mean t-test (Customer Satisfaction Survey) \n",
    "\n",
    "30 customers from outlet A and another 30 customers from outlet B were randomly select to compare the customer satisfaction levels between the two retail outlets. Customers were asked to rate their experience at the outlets on a ten-point scale, with 1 being least satisfied and 10 most satisfied. We are interested if the customer satisfaction levels at the two outlets differed at a 10% level of significance.\n",
    "\n",
    "\n",
    "\n",
    "### Step 1: Construct the null and alternative hypothesis\n",
    "\n",
    "<br>\n",
    "$ H_0: {\\mu_1 = \\mu_2} $\n",
    "<br>\n",
    "$ H_1: {\\mu_1 \\neq \\mu_2}$\n",
    "\n",
    "Alternatively:\n",
    "<br>\n",
    "$ H_0: {\\mu_1 - \\mu_2 = 0}$ \n",
    "<br>\n",
    "$ H_1:{\\mu_1 - \\mu_2 \\neq 0} $\n",
    "<br>\n",
    "  "
   ]
  },
  {
   "cell_type": "code",
   "execution_count": 9,
   "metadata": {},
   "outputs": [],
   "source": [
    "null_hypothesis = 0"
   ]
  },
  {
   "cell_type": "markdown",
   "metadata": {},
   "source": [
    "### Step 2: Specify one-tailed or two-tailed test?\n",
    "- Carry out a two-tailed test \n",
    "### Step 3 & 4: Level of significance and Critical value\n",
    "<br>\n",
    "\n",
    "- Level of significance: $\\alpha = 0.10$\n",
    "- This means that there is 10% chance that we will reject a null hypothesis wrongly (Type 1 error or false positive)\n",
    "- To put it in another way, there is a 10% chance that we will claim the two outlets differed in their customer satisfaction levels."
   ]
  },
  {
   "cell_type": "code",
   "execution_count": 10,
   "metadata": {},
   "outputs": [],
   "source": [
    "sig_level = 0.1"
   ]
  },
  {
   "cell_type": "code",
   "execution_count": 11,
   "metadata": {},
   "outputs": [
    {
     "name": "stdout",
     "output_type": "stream",
     "text": [
      "1.6991270265334972\n"
     ]
    }
   ],
   "source": [
    "# Critical value\n",
    "from scipy import stats\n",
    "critical_value = stats.t.ppf(1-0.05, 29) # df = 29\n",
    "print(critical_value)"
   ]
  },
  {
   "cell_type": "markdown",
   "metadata": {},
   "source": [
    "### Step 5: Calculate test statistic\n",
    "\n",
    "---\n",
    "\n",
    "The test statistic is t and computed by\n",
    "   $t = \\frac{\\bar{x}_1 - \\bar{x}_2-0}{\\sqrt{\\frac{s_1^2}{n_1} + \\frac{s_2^2}{n_2}}}$ \n",
    "    \n"
   ]
  },
  {
   "cell_type": "code",
   "execution_count": 12,
   "metadata": {},
   "outputs": [
    {
     "name": "stdout",
     "output_type": "stream",
     "text": [
      "t-stat: -1.9429739908177037\n",
      "p-value: 0.05687840318740868\n"
     ]
    }
   ],
   "source": [
    "OutletA = np.array([3,3,3,4,4,4,4,5,5,5,5,5,5,5,5,5,6,6,6,6,7,7,7,7,7,8,8,8,8,8])\n",
    "OutletB = np.array([6,5,9,5,7,5,6,8,6,7,6,5,6,7,5,6,7,8,9,5,6,7,5,5,6,5,5,7,9,8])\n",
    "\n",
    "t_stat, p_value = stats.ttest_ind(OutletA, OutletB)\n",
    "print(f\"t-stat: {t_stat}\")\n",
    "print(f\"p-value: {p_value}\")"
   ]
  },
  {
   "cell_type": "code",
   "execution_count": 13,
   "metadata": {},
   "outputs": [
    {
     "name": "stdout",
     "output_type": "stream",
     "text": [
      "t-test (manual): -1.9429739908177037\n"
     ]
    }
   ],
   "source": [
    "# manual calculation gives the same t-score\n",
    "mean_A = OutletA.mean()\n",
    "mean_B = OutletB.mean()\n",
    "var_A = (np.var(OutletA, ddof = 1))\n",
    "var_B = (np.var(OutletB, ddof = 1))\n",
    "import math\n",
    "t = (mean_A - mean_B)/(math.sqrt(var_A/30 + var_B/30))\n",
    "print(f\"t-test (manual): {t}\")"
   ]
  },
  {
   "cell_type": "code",
   "execution_count": 14,
   "metadata": {},
   "outputs": [
    {
     "name": "stdout",
     "output_type": "stream",
     "text": [
      "p-value (manual): 0.05687840318740862\n"
     ]
    }
   ],
   "source": [
    "# manual calculation for p-value \n",
    "lower_tail = stats.t.cdf(-abs(t), 30+30-2)\n",
    "upper_tail = 1 - stats.t.cdf(abs(t), 30+30-2)\n",
    "pval = lower_tail + upper_tail\n",
    "print(f\"p-value (manual): {pval}\")"
   ]
  },
  {
   "cell_type": "markdown",
   "metadata": {},
   "source": [
    "### Step 6: Make a decision\n",
    "Our level of significance, $\\alpha$ = 0.10. \n",
    "\n",
    "If using t-test statistic and critical value:\n",
    "- if |t- test| > |critical value|, there is evidence to reject the null hypothesis\n",
    "- if |t- test| < |critical value|, then there is insufficient evidence to reject null hypothesis\n",
    "\n",
    "If using p-value:\n",
    "- if $p\\text{-value} < \\alpha$, then there is evidence to reject the null hypothesis, in favor of the alternative hypothesis ($H_1$).\n",
    "- if $p\\text{-value} > \\alpha$, then there is insufficient evidence to reject the null hypothesis"
   ]
  },
  {
   "cell_type": "code",
   "execution_count": 15,
   "metadata": {},
   "outputs": [
    {
     "name": "stdout",
     "output_type": "stream",
     "text": [
      "Reject null hypothesis, the customer satisfaction levels at the two outlets differed. \n"
     ]
    }
   ],
   "source": [
    "if p_value < sig_level:\n",
    "    print(\"Reject null hypothesis, the customer satisfaction levels at the two outlets differed. \")\n",
    "else:\n",
    "    print(\"Accept null hypothesis, that there is no difference in the customer satisfaction levels between the two retail outlets.\")"
   ]
  },
  {
   "cell_type": "markdown",
   "metadata": {},
   "source": [
    "[Back to top](#contentpage)"
   ]
  },
  {
   "cell_type": "markdown",
   "metadata": {},
   "source": [
    "<a id=\"ac3\"></a>\n",
    "\n",
    "##  3: Hypothesis Testing of Population Proportion z-test\n",
    "\n",
    "### One sample proportion z-test ( Fitness Centre Membership )\n",
    "\n",
    "A fitness centre claimed that 80% of its member renew their membership every year. In a  random sample of 500 customer, 395 customer were found to renew their annual membership. Test at the 10% significance level whether this claim has been overstated.\n",
    "<br>\n",
    "\n",
    "### Step 1: Construct the null and alternative hypothesis\n",
    "\n",
    "<br>\n",
    "$ H_0: \\text{p = 0.8} $\n",
    "<br>\n",
    "$ H_1: \\text{p < 0.8} $\n"
   ]
  },
  {
   "cell_type": "code",
   "execution_count": 16,
   "metadata": {},
   "outputs": [],
   "source": [
    "null_hypothesis = 0.8"
   ]
  },
  {
   "cell_type": "markdown",
   "metadata": {},
   "source": [
    "### Step 2: Specify one-tailed or two-tailed test?\n",
    "- Carry out a one-tailed test as the alternative is that the proportion is < 0.8\n",
    "\n",
    "### Step 3 & 4: Level of significance and Critical value\n",
    "<br>\n",
    "\n",
    "- Level of significance: $\\alpha = 0.10$\n",
    "- This means that there is 10% chance that we will reject a null hypothesis wrongly (Type 1 error or false positive)\n",
    "- To put it in another way, there is a 10% chance that we will claim the proportion is more than 0.8 when in fact it is not."
   ]
  },
  {
   "cell_type": "code",
   "execution_count": 17,
   "metadata": {},
   "outputs": [],
   "source": [
    "sig_level = 0.1"
   ]
  },
  {
   "cell_type": "code",
   "execution_count": 18,
   "metadata": {},
   "outputs": [
    {
     "name": "stdout",
     "output_type": "stream",
     "text": [
      "-1.2815515655446004\n"
     ]
    }
   ],
   "source": [
    "# Critical value\n",
    "import scipy.stats\n",
    "critical_value = scipy.stats.norm.ppf(.9,0,1)\n",
    "\n",
    "# since the rejection region is on the left, the critical value is negative\n",
    "critical_value = -critical_value\n",
    "print(critical_value)"
   ]
  },
  {
   "cell_type": "markdown",
   "metadata": {},
   "source": [
    "### Step 5: Calculate test statistic\n",
    "\n",
    "    \n",
    "---\n",
    "The test statistic is z and computed by\n",
    "$z = \\frac{\\hat{p} - p_o}{\\sqrt{\\frac{p_o q_o}{n}}}$\n",
    "    "
   ]
  },
  {
   "cell_type": "code",
   "execution_count": 19,
   "metadata": {},
   "outputs": [
    {
     "name": "stdout",
     "output_type": "stream",
     "text": [
      "z-test: -0.559016994374948\n",
      "p-value: 0.28807506101528924\n"
     ]
    }
   ],
   "source": [
    "from statsmodels.stats.proportion import proportions_ztest\n",
    "count = 395 # the number of customers whom renewed their annual membership\n",
    "nobs = 500 # number of observations\n",
    "# prop_var is for proportion variance.  \n",
    "# Common use case is to use the proportion under the Null hypothesis to specify the variance of the proportion estimate.\n",
    "stat, pval = proportions_ztest(count, nobs, value = null_hypothesis, alternative='smaller', prop_var=0.8)\n",
    "print(f\"z-test: {stat}\")\n",
    "print(f\"p-value: {pval}\")"
   ]
  },
  {
   "cell_type": "markdown",
   "metadata": {},
   "source": [
    "### Step 6: Make a decision\n",
    "Level of significance $\\alpha$  = 0.1. \n",
    "\n",
    "If using z-test statistic and critical value:\n",
    "- if z- test < critical value, there is evidence to reject the null hypothesis\n",
    "- if z - test > critical value, then there is insufficient evidence to reject null hypothesis\n",
    "\n",
    "If using p-value:\n",
    "- if $p\\text{-value} < \\alpha$, then there is evidence to reject the null hypothesis, in favor of the alternative hypothesis ($H_1$).\n",
    "- if $p\\text{-value} > \\alpha$, then there is insufficient evidence to reject the null hypothesis"
   ]
  },
  {
   "cell_type": "code",
   "execution_count": 20,
   "metadata": {},
   "outputs": [
    {
     "name": "stdout",
     "output_type": "stream",
     "text": [
      "Accept null hypothesis, that the proportion of customers whom renewed their annual memberships is 80%.\n"
     ]
    }
   ],
   "source": [
    "if pval < sig_level:\n",
    "    print(\"Reject null hypothesis, in favor the alternative hypothesis that the proportion of customers whom renewed their annual memberships is overstated. \")\n",
    "else:\n",
    "    print(\"Accept null hypothesis, that the proportion of customers whom renewed their annual memberships is 80%.\")"
   ]
  },
  {
   "cell_type": "markdown",
   "metadata": {},
   "source": [
    "[Back to top](#contentpage)"
   ]
  },
  {
   "cell_type": "markdown",
   "metadata": {},
   "source": [
    "## Summary\n",
    "\n",
    "Six steps to hypothesis testing:\n",
    "- Step 1: Formulate the null ($H_0$) and alternative ($H_1$) hypotheses.\n",
    "- Step 2: Determine whether to use a One-Tailed or Two-Tailed Test.\n",
    "- Step 3: Select a Level of Significance (𝛼 %).\n",
    "- Step 4: Determine the Critical Value(s) and the Region of Acceptance & Rejection. \n",
    "- Step 5: Calculate the appropriate test statistic (z-score or t-score).\n",
    "- Step 6: Deciding whether to accept or reject $H_0$"
   ]
  },
  {
   "cell_type": "markdown",
   "metadata": {},
   "source": [
    "<a id=\"ex\"></a>\n",
    "\n",
    "##  4: Practice Exercise: \n",
    "\n",
    "### One sample proportion z-test ( Online Banking )\n",
    "####  Refer to Activity3 in the lecture slide for reference\n",
    "<br>\n",
    "It is claimed that 85% of a bank customers prefer banking online. In a random sample of 200 customer, 160 customer were found to prefer to perform their banking online. Test at the 5% significance level whether this claim has been overstated.\n",
    "<br>\n",
    "\n",
    "\n"
   ]
  },
  {
   "cell_type": "markdown",
   "metadata": {},
   "source": [
    "### Step 1: Construct the null and alternative hypothesis\n",
    "\n",
    "<br>\n",
    "$ H_0: \\text{p = 0.85} $\n",
    "<br>\n",
    "$ H_1: \\text{p < 0.85} $"
   ]
  },
  {
   "cell_type": "code",
   "execution_count": 21,
   "metadata": {},
   "outputs": [],
   "source": [
    "null_hypothesis = 0.85"
   ]
  },
  {
   "cell_type": "markdown",
   "metadata": {},
   "source": [
    "### Step 2: Specify one-tailed or two-tailed test?\n",
    "- Carry out a one-tailed test as the alternative is that the proportion is < 0.85\n",
    "\n",
    "### Step 3 & 4: Level of significance and Critical value\n",
    "<br>\n",
    "\n",
    "- Level of significance: $\\alpha = 0.05$\n",
    "- This means that there is 5% chance that we will reject a null hypothesis wrongly (Type 1 error or false positive)\n",
    "- To put it in another way, there is a 5% chance that we will claim the proportion is less than 0.85 when in fact it is not."
   ]
  },
  {
   "cell_type": "code",
   "execution_count": 22,
   "metadata": {},
   "outputs": [],
   "source": [
    "sig_level = 0.05"
   ]
  },
  {
   "cell_type": "code",
   "execution_count": 23,
   "metadata": {},
   "outputs": [
    {
     "name": "stdout",
     "output_type": "stream",
     "text": [
      "-1.6448536269514722\n"
     ]
    }
   ],
   "source": [
    "# Critical value\n",
    "import scipy.stats\n",
    "critical_value = scipy.stats.norm.ppf(.95,0,1)\n",
    "\n",
    "# since the rejection region is on the left, the critical value is negative\n",
    "critical_value = -critical_value\n",
    "print(critical_value)"
   ]
  },
  {
   "cell_type": "markdown",
   "metadata": {},
   "source": [
    "### Step 5: Calculate test statistic\n",
    "    \n",
    "---\n",
    "The test statistic is z and computed by\n",
    "$z = \\frac{\\hat{p} - p_o}{\\sqrt{\\frac{p_o q_o}{n}}}$"
   ]
  },
  {
   "cell_type": "code",
   "execution_count": 24,
   "metadata": {},
   "outputs": [
    {
     "name": "stdout",
     "output_type": "stream",
     "text": [
      "z-test: -1.980295085953346\n",
      "p-value: 0.02383519032808086\n"
     ]
    }
   ],
   "source": [
    "from statsmodels.stats.proportion import proportions_ztest\n",
    "count = 160 # the number of customers whom prefer banking online\n",
    "nobs = 200 # number of observations\n",
    "# prop_var is for proportion variance.  \n",
    "# Common use case is to use the proportion under the Null hypothesis to specify the variance of the proportion estimate.\n",
    "stat, pval = proportions_ztest(count, nobs, value = null_hypothesis, alternative='smaller', prop_var=0.85)\n",
    "print(f\"z-test: {stat}\")\n",
    "print(f\"p-value: {pval}\")"
   ]
  },
  {
   "cell_type": "markdown",
   "metadata": {},
   "source": [
    "### Step 6: Make a decision\n",
    "Level of significance $\\alpha$  = 0.05. \n",
    "\n",
    "If using z-test statistic and critical value:\n",
    "- if z- test < critical value, there is evidence to reject the null hypothesis\n",
    "- if z - test > critical value, then there is insufficient evidence to reject null hypothesis\n",
    "\n",
    "If using p-value:\n",
    "- if $p\\text{-value} < \\alpha$, then there is evidence to reject the null hypothesis, in favor of the alternative hypothesis ($H_1$).\n",
    "- if $p\\text{-value} > \\alpha$, then there is insufficient evidence to reject the null hypothesis"
   ]
  },
  {
   "cell_type": "code",
   "execution_count": 25,
   "metadata": {},
   "outputs": [
    {
     "name": "stdout",
     "output_type": "stream",
     "text": [
      "Reject null hypothesis, in favor the alternative hypothesis that 85% of customers prefer online banking is over-estimated. \n"
     ]
    }
   ],
   "source": [
    "if pval < sig_level:\n",
    "    print(\"Reject null hypothesis, in favor the alternative hypothesis that 85% of customers prefer online banking is over-estimated. \")\n",
    "else:\n",
    "    print(\"Accept null hypothesis, that the proportion of customers whom prefer online banking is 80%.\")"
   ]
  },
  {
   "cell_type": "markdown",
   "metadata": {},
   "source": [
    "[Back to top](#contentpage)"
   ]
  }
 ],
 "metadata": {
  "kernelspec": {
   "display_name": "Python 3 (ipykernel)",
   "language": "python",
   "name": "python3"
  },
  "language_info": {
   "codemirror_mode": {
    "name": "ipython",
    "version": 3
   },
   "file_extension": ".py",
   "mimetype": "text/x-python",
   "name": "python",
   "nbconvert_exporter": "python",
   "pygments_lexer": "ipython3",
   "version": "3.9.13"
  }
 },
 "nbformat": 4,
 "nbformat_minor": 4
}
