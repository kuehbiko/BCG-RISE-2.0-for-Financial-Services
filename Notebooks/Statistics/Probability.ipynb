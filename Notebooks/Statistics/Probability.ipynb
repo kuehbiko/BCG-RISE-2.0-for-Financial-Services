{
 "cells": [
  {
   "cell_type": "markdown",
   "metadata": {},
   "source": [
    "<table class=\"table table-bordered\">\n",
    "    <tr>\n",
    "        <th style=\"width:250px;\">\n",
    "            <img src='./images/RISE_FFS_2_Light BG@4x.png' style=\"background-color:white; width: 100%; height: 100%; padding: 20px\">\n",
    "        </th>\n",
    "        <th style=\"text-align:center;\">\n",
    "            <h1>Introduction to Probability</h1>\n",
    "            <h3>IBF TFIP</h3>\n",
    "        </th>\n",
    "    </tr>\n",
    "</table>"
   ]
  },
  {
   "cell_type": "markdown",
   "metadata": {},
   "source": [
    "<a id=contentpage></a>\n",
    "### Objectives\n",
    "After completing this practical exercise, you should be able to understand:\n",
    "- [1: Sets](#a)\n",
    "- [2: Probability](#b)\n",
    "- [3: Conditional probability](#c)\n",
    "- [4: Bayes' Law](#d)\n"
   ]
  },
  {
   "cell_type": "code",
   "execution_count": 1,
   "metadata": {},
   "outputs": [],
   "source": [
    "import pandas as pd\n",
    "import numpy as np"
   ]
  },
  {
   "cell_type": "markdown",
   "metadata": {},
   "source": [
    "<a id=\"a\"></a>\n",
    "##  1. Sets"
   ]
  },
  {
   "cell_type": "markdown",
   "metadata": {},
   "source": [
    "#### Union of two sets"
   ]
  },
  {
   "cell_type": "code",
   "execution_count": 2,
   "metadata": {},
   "outputs": [
    {
     "name": "stdout",
     "output_type": "stream",
     "text": [
      "A Union B:  {1, 2, 3, 4, 6}\n",
      "AUB:  {1, 2, 3, 4, 6}\n",
      "AuB has 5 elements\n"
     ]
    }
   ],
   "source": [
    "# first set\n",
    "A = {2,4,6}\n",
    "\n",
    "# second set\n",
    "B = {1,2,3}\n",
    "\n",
    "# perform union operation using \"|\"\n",
    "print('A Union B: ', A|B)\n",
    "\n",
    "# alternative method using union() method\n",
    "print('AUB: ', A.union(B))\n",
    "\n",
    "# length of a set\n",
    "print(f\"AuB has {len(A|B)} elements\") # since \"2\" belongs in both A and B it is should be counted only once."
   ]
  },
  {
   "cell_type": "markdown",
   "metadata": {},
   "source": [
    "#### Intersection of two sets"
   ]
  },
  {
   "cell_type": "code",
   "execution_count": 3,
   "metadata": {},
   "outputs": [
    {
     "name": "stdout",
     "output_type": "stream",
     "text": [
      "female & manager:  {'Jane', 'Kyra'}\n",
      "AnB:  {'Jane', 'Kyra'}\n"
     ]
    }
   ],
   "source": [
    "# first set of female staff\n",
    "C = {\"Jane\", \"Kyra\", \"Crystal\", \"Sheryl\"}\n",
    "\n",
    "# second set of managers\n",
    "D = {\"Kyra\", \"Jane\", \"Ben\", \"Ken\"}\n",
    "\n",
    "# find the intersection using \"&\"\n",
    "print(\"female & manager: \", C&D)\n",
    "\n",
    "# alternatively using intersection() method\n",
    "print(\"AnB: \", C.intersection(D))"
   ]
  },
  {
   "cell_type": "markdown",
   "metadata": {},
   "source": [
    "#### Difference of two sets"
   ]
  },
  {
   "cell_type": "code",
   "execution_count": 4,
   "metadata": {
    "scrolled": false
   },
   "outputs": [
    {
     "name": "stdout",
     "output_type": "stream",
     "text": [
      "D excluding elements of C:  {'Ben', 'Ken'}\n",
      "C'nD:  {'Ben', 'Ken'}\n"
     ]
    }
   ],
   "source": [
    "# Find the difference using \"-\"\n",
    "print(\"D excluding elements of C: \", D-C)\n",
    "\n",
    "# alternatively using difference()\n",
    "print(\"C'nD: \", D.difference(C))"
   ]
  },
  {
   "cell_type": "markdown",
   "metadata": {},
   "source": [
    "#### Check if two sets are equal"
   ]
  },
  {
   "cell_type": "code",
   "execution_count": 5,
   "metadata": {
    "scrolled": true
   },
   "outputs": [
    {
     "name": "stdout",
     "output_type": "stream",
     "text": [
      "Set C and D are not equal\n"
     ]
    }
   ],
   "source": [
    "# Find if two sets are equivalent using \"==\"\n",
    "if(C==D):\n",
    "    print(\"Set C and D are equal\")\n",
    "else:\n",
    "    print(\"Set C and D are not equal\")"
   ]
  },
  {
   "cell_type": "markdown",
   "metadata": {},
   "source": [
    "#### Check if two sets have any intersection"
   ]
  },
  {
   "cell_type": "code",
   "execution_count": 6,
   "metadata": {
    "scrolled": true
   },
   "outputs": [
    {
     "name": "stdout",
     "output_type": "stream",
     "text": [
      "No common elements!\n"
     ]
    }
   ],
   "source": [
    "E = {\"Cow\", \"Rabbit\"}\n",
    "if(D.isdisjoint(E)):\n",
    "    print(\"No common elements!\")"
   ]
  },
  {
   "cell_type": "markdown",
   "metadata": {},
   "source": [
    "#### Exercises: Consider these three sets shown below:\n",
    "twelve = {1,2,3,4,6,12}\n",
    "eighteen = {1,2,3,6,9,18}\n",
    "fifteen = {1,3,5,15}\n",
    "\n",
    "(i) Find the common factors of all three numbers\n",
    "\n",
    "(ii) Find the common factors of 12 and 18\n",
    "\n",
    "(iii) Find the factors of of 15 that are not factors of 12 or 18\n",
    "\n",
    "(iv) How many factors are there for twelve, eighteen, or fifteen? (no duplicates)"
   ]
  },
  {
   "cell_type": "code",
   "execution_count": 7,
   "metadata": {},
   "outputs": [
    {
     "name": "stdout",
     "output_type": "stream",
     "text": [
      "common factors:  {1, 3}\n",
      "common factors of 12 and 18: {1, 2, 3, 6}\n",
      "factors of 15 only:  {5, 15}\n",
      "{1, 2, 3, 4, 5, 6, 9, 12, 15, 18} are factors of 12,18 or fifteen.\n",
      "There are 10 factors for 12,18 or fifteen.\n"
     ]
    }
   ],
   "source": [
    "# factors of 12\n",
    "twelve = {1,2,3,4,6,12}\n",
    "\n",
    "# factors of 18\n",
    "eighteen = {1,2,3,6,9,18}\n",
    "\n",
    "# factors of 15\n",
    "fifteen = {1,3,5,15}\n",
    "\n",
    "# (i) find the common factors of all three numbers\n",
    "print(f\"common factors: \", twelve&eighteen&fifteen)\n",
    "\n",
    "# (ii) find the common factors of 12 and 18\n",
    "print(f\"common factors of 12 and 18:\", twelve&eighteen)\n",
    "\n",
    "# (iii) find the factors of of 15 that are not factors of 12 or 18\n",
    "print(f\"factors of 15 only: \", fifteen - (eighteen|twelve))\n",
    "\n",
    "# (iv) How many factors are there for twelve, eighteen, and fifteen?\n",
    "print(\"{0} are factors of 12,18 or fifteen.\".format(twelve|eighteen|fifteen))\n",
    "print(\"There are {0} factors for 12,18 or fifteen.\".format(len(twelve|eighteen|fifteen)))"
   ]
  },
  {
   "cell_type": "markdown",
   "metadata": {},
   "source": [
    "<a id=\"b\"></a>\n",
    "##  2. Probability"
   ]
  },
  {
   "cell_type": "code",
   "execution_count": 8,
   "metadata": {},
   "outputs": [
    {
     "data": {
      "text/plain": [
       "5"
      ]
     },
     "execution_count": 8,
     "metadata": {},
     "output_type": "execute_result"
    }
   ],
   "source": [
    "np.random.seed(0)\n",
    "dice = [1,2,3,4,5,6]\n",
    "np.random.choice(dice)"
   ]
  },
  {
   "cell_type": "code",
   "execution_count": 9,
   "metadata": {},
   "outputs": [
    {
     "data": {
      "text/plain": [
       "6"
      ]
     },
     "execution_count": 9,
     "metadata": {},
     "output_type": "execute_result"
    }
   ],
   "source": [
    "# another way to generate random integer between (start, stop). stop value is excluded\n",
    "np.random.randint(1,7)"
   ]
  },
  {
   "cell_type": "markdown",
   "metadata": {},
   "source": [
    "###  Example 1: We can create a function to simulate the probability of obtaining a particular value from the sum of two dice."
   ]
  },
  {
   "cell_type": "code",
   "execution_count": 10,
   "metadata": {},
   "outputs": [],
   "source": [
    "# Sum of two dice.\n",
    "def sum_of_two_dice(num, n):  # create a method with n as number of trials\n",
    "    count = 0\n",
    "    for i in range(n):\n",
    "        \n",
    "        if(np.random.randint(1,7) + np.random.randint(1,7)==num): # roll dice and sum them up\n",
    "            count+=1   # add to count whenever the two dice matches\n",
    "         \n",
    "    return count / n    # find the probability = no of times it match/ total no of tries  \n",
    "    "
   ]
  },
  {
   "cell_type": "markdown",
   "metadata": {},
   "source": [
    "#### Probability that the sum of two dice is 3"
   ]
  },
  {
   "cell_type": "code",
   "execution_count": 11,
   "metadata": {
    "scrolled": true
   },
   "outputs": [
    {
     "name": "stdout",
     "output_type": "stream",
     "text": [
      "0.051\n"
     ]
    }
   ],
   "source": [
    "x=sum_of_two_dice(3,1000)\n",
    "print(x)"
   ]
  },
  {
   "cell_type": "code",
   "execution_count": 12,
   "metadata": {},
   "outputs": [
    {
     "name": "stdout",
     "output_type": "stream",
     "text": [
      "0.05555555555555555\n"
     ]
    }
   ],
   "source": [
    "# Calculate the probability of obtaining sum of 3 P(1,2) + P(2,1)\n",
    "p2 = 1/6*1/6 +1/6*1/6\n",
    "print(p2)"
   ]
  },
  {
   "cell_type": "markdown",
   "metadata": {},
   "source": [
    "#### Probability that the sum of two dice is 7"
   ]
  },
  {
   "cell_type": "code",
   "execution_count": 13,
   "metadata": {},
   "outputs": [
    {
     "name": "stdout",
     "output_type": "stream",
     "text": [
      "0.169\n"
     ]
    }
   ],
   "source": [
    "x = sum_of_two_dice(7,1000)\n",
    "print(x)"
   ]
  },
  {
   "cell_type": "code",
   "execution_count": 14,
   "metadata": {
    "scrolled": true
   },
   "outputs": [
    {
     "name": "stdout",
     "output_type": "stream",
     "text": [
      "0.16666666666666666\n"
     ]
    }
   ],
   "source": [
    "# calculate the probability of obtaining 7 (1&6)+(2&5)+(3&4)+(4&3)+(5&2)+(6&1)\n",
    "p7 = (1/6*1/6)*6\n",
    "print(p7)"
   ]
  },
  {
   "cell_type": "markdown",
   "metadata": {},
   "source": [
    "### Example 2: Calculate probability of obtaining two marbles that are the same color "
   ]
  },
  {
   "cell_type": "code",
   "execution_count": 15,
   "metadata": {},
   "outputs": [],
   "source": [
    "marbles = ['red','red','red','red','red','blue','blue','blue']"
   ]
  },
  {
   "cell_type": "code",
   "execution_count": 16,
   "metadata": {},
   "outputs": [
    {
     "name": "stdout",
     "output_type": "stream",
     "text": [
      "['red' 'red']\n",
      "match\n"
     ]
    }
   ],
   "source": [
    "x =np.random.choice(marbles,size = 2, replace = False)\n",
    "print(x)\n",
    "if(x[0] == x[1]):\n",
    "    print(\"match\")\n",
    "else:\n",
    "    print(\"tak match\")"
   ]
  },
  {
   "cell_type": "code",
   "execution_count": 17,
   "metadata": {},
   "outputs": [],
   "source": [
    "def same_col(n):\n",
    "    count = 0\n",
    "    for i in range(n):\n",
    "        draws = np.random.choice(marbles,size = 2, replace = False) # draw two without replacement\n",
    "        \n",
    "        if draws[0] == draws[1]:\n",
    "            count+=1    # increment count if the two marbles match\n",
    "    \n",
    "   \n",
    "    return count/n  # Calculate and return probability\n",
    "        "
   ]
  },
  {
   "cell_type": "code",
   "execution_count": 18,
   "metadata": {
    "scrolled": true
   },
   "outputs": [
    {
     "data": {
      "text/plain": [
       "0.4626"
      ]
     },
     "execution_count": 18,
     "metadata": {},
     "output_type": "execute_result"
    }
   ],
   "source": [
    "same_col(10000)"
   ]
  },
  {
   "cell_type": "code",
   "execution_count": 19,
   "metadata": {
    "scrolled": true
   },
   "outputs": [
    {
     "name": "stdout",
     "output_type": "stream",
     "text": [
      "0.35714285714285715\n"
     ]
    }
   ],
   "source": [
    "# calculate the probability p(first marble red) x p(second marble red)\n",
    "p = 5/8*4/7\n",
    "print(p)"
   ]
  },
  {
   "cell_type": "code",
   "execution_count": 20,
   "metadata": {},
   "outputs": [],
   "source": [
    "# Create similar function with replacement\n",
    "def same_col2(n):\n",
    "    count = 0\n",
    "    for i in range(n):\n",
    "        draws = np.random.choice(marbles,size = 2, replace = True) # draw two with replacement\n",
    "        \n",
    "        if draws[0] == draws[1]:\n",
    "            count+=1  # increment count if the two marbles match\n",
    "    \n",
    "    return count/n  # Calculate probability"
   ]
  },
  {
   "cell_type": "code",
   "execution_count": 21,
   "metadata": {},
   "outputs": [
    {
     "data": {
      "text/plain": [
       "0.528"
      ]
     },
     "execution_count": 21,
     "metadata": {},
     "output_type": "execute_result"
    }
   ],
   "source": [
    "same_col2(1000)"
   ]
  },
  {
   "cell_type": "code",
   "execution_count": 22,
   "metadata": {},
   "outputs": [
    {
     "name": "stdout",
     "output_type": "stream",
     "text": [
      "0.390625\n"
     ]
    }
   ],
   "source": [
    "# calculate the probability p(first marble red) x p(second marble red) with replacement\n",
    "p = 5/8*5/8\n",
    "print(p)"
   ]
  },
  {
   "cell_type": "markdown",
   "metadata": {},
   "source": [
    "### Example 3: Create a probability distribution for the sum of two dice"
   ]
  },
  {
   "cell_type": "code",
   "execution_count": 23,
   "metadata": {},
   "outputs": [],
   "source": [
    "def dist_sum(n):\n",
    "    sums = []\n",
    "    for i in range(n):\n",
    "        sums.append(np.random.randint(1,7) + np.random.randint(1,7))\n",
    "    return sums"
   ]
  },
  {
   "cell_type": "code",
   "execution_count": 24,
   "metadata": {
    "scrolled": true
   },
   "outputs": [
    {
     "data": {
      "image/png": "[encoded data removed]",
      "text/plain": [
       "<Figure size 640x480 with 1 Axes>"
      ]
     },
     "metadata": {},
     "output_type": "display_data"
    }
   ],
   "source": [
    "import matplotlib.pyplot as plt\n",
    "plt.hist(dist_sum(1000),bins = 11)\n",
    "plt.xticks(np.arange(1, 13)) # set the xaxis ticks to show all the numbers from 1 to 12\n",
    "plt.show()"
   ]
  },
  {
   "cell_type": "markdown",
   "metadata": {},
   "source": [
    "Obtaining sum of 7 has the highest frequency, which correlates to our understanding that obtaining 7 has the highest probability."
   ]
  },
  {
   "cell_type": "markdown",
   "metadata": {},
   "source": [
    "###  Example 4: Create a distribution for the number of flips before head is obtained\n",
    "How do you expect the distribution to look like?"
   ]
  },
  {
   "cell_type": "code",
   "execution_count": 25,
   "metadata": {},
   "outputs": [
    {
     "data": {
      "text/plain": [
       "'head'"
      ]
     },
     "execution_count": 25,
     "metadata": {},
     "output_type": "execute_result"
    }
   ],
   "source": [
    "import random\n",
    "coin = [\"head\", \"tail\"]\n",
    "random.choice(coin)"
   ]
  },
  {
   "cell_type": "code",
   "execution_count": 26,
   "metadata": {},
   "outputs": [],
   "source": [
    "\n",
    "def flips(n):\n",
    "    tries = []                           # stores number of tries before head obtained\n",
    "    coin = [\"head\", \"tail\"]\n",
    "    for i in range(n):                   # repeated n times\n",
    "        count = 0                        # start the count on each loop\n",
    "        while(True):\n",
    "            toss = random.choice(coin) # gets head or tail\n",
    "            if(toss != 'head'):\n",
    "                count+=1                 # continue the loop so long as it's not a head\n",
    "            else:\n",
    "                break                    # if its a head exit the while loop\n",
    "        tries.append(count)              # append that count into tries array\n",
    "    return tries"
   ]
  },
  {
   "cell_type": "code",
   "execution_count": 27,
   "metadata": {},
   "outputs": [
    {
     "data": {
      "text/plain": [
       "12"
      ]
     },
     "execution_count": 27,
     "metadata": {},
     "output_type": "execute_result"
    }
   ],
   "source": [
    "no_of_tries = flips(1000)\n",
    "max(no_of_tries)"
   ]
  },
  {
   "cell_type": "code",
   "execution_count": 28,
   "metadata": {
    "scrolled": false
   },
   "outputs": [
    {
     "data": {
      "image/png": "[encoded data removed]",
      "text/plain": [
       "<Figure size 640x480 with 1 Axes>"
      ]
     },
     "metadata": {},
     "output_type": "display_data"
    }
   ],
   "source": [
    "plt.hist(no_of_tries, bins =10)\n",
    "plt.xticks(np.arange(1, max(no_of_tries)))\n",
    "plt.show()"
   ]
  },
  {
   "cell_type": "markdown",
   "metadata": {},
   "source": [
    "Approximately half of the tries get \"head\" on first try, which is what we expect of an unbiased die. There are some instances that up to 7,8,9,10 ... tries are needed before \"head\" is obtained, but those occurances has very low probability."
   ]
  },
  {
   "cell_type": "markdown",
   "metadata": {},
   "source": [
    "[Back to top](#contentpage)"
   ]
  },
  {
   "cell_type": "markdown",
   "metadata": {},
   "source": [
    "<a id=\"c\"></a>\n",
    "##  3. Conditional probability"
   ]
  },
  {
   "cell_type": "markdown",
   "metadata": {},
   "source": [
    "Calculate the Conditional probabilty given the following:"
   ]
  },
  {
   "cell_type": "markdown",
   "metadata": {},
   "source": [
    "|        |         | credit rating |     |\n",
    "|--------|---------|------|-----|\n",
    "| status |         | good | bad |\n",
    "|        | approved| 8    | 6   |\n",
    "|        | denied  | 2    | 6   |"
   ]
  },
  {
   "cell_type": "markdown",
   "metadata": {},
   "source": [
    "(i) P(loan is approved | credit rating is good)\n",
    "\n",
    "(ii) P(loan is denied | credit rating is good)\n",
    "\n",
    "(iii) P(credit rating is bad | loan is denied)"
   ]
  },
  {
   "cell_type": "code",
   "execution_count": 29,
   "metadata": {},
   "outputs": [
    {
     "name": "stdout",
     "output_type": "stream",
     "text": [
      "P(loan is approved | credit rating is good) = 0.8\n"
     ]
    }
   ],
   "source": [
    "# Ans (i):\n",
    "prob = 8 / (8+2)\n",
    "print(f\"P(loan is approved | credit rating is good) = {prob}\")"
   ]
  },
  {
   "cell_type": "code",
   "execution_count": 30,
   "metadata": {},
   "outputs": [
    {
     "name": "stdout",
     "output_type": "stream",
     "text": [
      "P(loan is denied | credit rating is good) = 0.2\n"
     ]
    }
   ],
   "source": [
    "# Ans (ii):\n",
    "prob = 2 / (8 + 2)\n",
    "print(f\"P(loan is denied | credit rating is good) = {prob}\")"
   ]
  },
  {
   "cell_type": "code",
   "execution_count": 31,
   "metadata": {},
   "outputs": [
    {
     "name": "stdout",
     "output_type": "stream",
     "text": [
      "P(credit rating is bad | loan is denied) = 0.75\n"
     ]
    }
   ],
   "source": [
    "# Ans (iii):\n",
    "prob = 6 / (6+2)\n",
    "print(f\"P(credit rating is bad | loan is denied) = {prob}\")"
   ]
  },
  {
   "cell_type": "markdown",
   "metadata": {},
   "source": [
    "[Back to top](#contentpage)"
   ]
  },
  {
   "cell_type": "markdown",
   "metadata": {},
   "source": [
    "<a id=\"d\"></a>\n",
    "##  4. Bayes' Law"
   ]
  },
  {
   "cell_type": "markdown",
   "metadata": {},
   "source": [
    "[Back to top](#contentpage)"
   ]
  },
  {
   "cell_type": "code",
   "execution_count": 32,
   "metadata": {
    "scrolled": true
   },
   "outputs": [
    {
     "data": {
      "text/html": [
       "<div>\n",
       "<style scoped>\n",
       "    .dataframe tbody tr th:only-of-type {\n",
       "        vertical-align: middle;\n",
       "    }\n",
       "\n",
       "    .dataframe tbody tr th {\n",
       "        vertical-align: top;\n",
       "    }\n",
       "\n",
       "    .dataframe thead th {\n",
       "        text-align: right;\n",
       "    }\n",
       "</style>\n",
       "<table border=\"1\" class=\"dataframe\">\n",
       "  <thead>\n",
       "    <tr style=\"text-align: right;\">\n",
       "      <th></th>\n",
       "      <th>late</th>\n",
       "      <th>rain</th>\n",
       "    </tr>\n",
       "  </thead>\n",
       "  <tbody>\n",
       "    <tr>\n",
       "      <th>0</th>\n",
       "      <td>True</td>\n",
       "      <td>True</td>\n",
       "    </tr>\n",
       "    <tr>\n",
       "      <th>1</th>\n",
       "      <td>True</td>\n",
       "      <td>False</td>\n",
       "    </tr>\n",
       "    <tr>\n",
       "      <th>2</th>\n",
       "      <td>False</td>\n",
       "      <td>True</td>\n",
       "    </tr>\n",
       "    <tr>\n",
       "      <th>3</th>\n",
       "      <td>False</td>\n",
       "      <td>False</td>\n",
       "    </tr>\n",
       "    <tr>\n",
       "      <th>4</th>\n",
       "      <td>True</td>\n",
       "      <td>True</td>\n",
       "    </tr>\n",
       "  </tbody>\n",
       "</table>\n",
       "</div>"
      ],
      "text/plain": [
       "    late   rain\n",
       "0   True   True\n",
       "1   True  False\n",
       "2  False   True\n",
       "3  False  False\n",
       "4   True   True"
      ]
     },
     "execution_count": 32,
     "metadata": {},
     "output_type": "execute_result"
    }
   ],
   "source": [
    "# Sam is often late, in order to analyze his behavior, records were taken down.\n",
    "sam = pd.read_csv(\"./data/lateness.csv\")\n",
    "sam.head()"
   ]
  },
  {
   "cell_type": "code",
   "execution_count": 33,
   "metadata": {},
   "outputs": [
    {
     "data": {
      "text/plain": [
       "0.43333333333333335"
      ]
     },
     "execution_count": 33,
     "metadata": {},
     "output_type": "execute_result"
    }
   ],
   "source": [
    "# calculate the unconditional probability of Sam being late\n",
    "p_late = sam['late'].mean() # true = 1, false = 0\n",
    "p_late"
   ]
  },
  {
   "cell_type": "code",
   "execution_count": 34,
   "metadata": {},
   "outputs": [
    {
     "data": {
      "text/plain": [
       "0.8"
      ]
     },
     "execution_count": 34,
     "metadata": {},
     "output_type": "execute_result"
    }
   ],
   "source": [
    "# calculate the unconditional probability of rain\n",
    "p_rain = sam['rain'].mean()\n",
    "p_rain"
   ]
  },
  {
   "cell_type": "code",
   "execution_count": 35,
   "metadata": {
    "scrolled": true
   },
   "outputs": [
    {
     "data": {
      "text/plain": [
       "0.6538461538461539"
      ]
     },
     "execution_count": 35,
     "metadata": {},
     "output_type": "execute_result"
    }
   ],
   "source": [
    "# calculate the probability of there being rain given Sam is late \n",
    "p_rain_given_late = sam.loc[sam['late']]['rain'].mean()\n",
    "p_rain_given_late"
   ]
  },
  {
   "cell_type": "markdown",
   "metadata": {},
   "source": [
    "Using the Bayes' Law:\n",
    "P(A|B) = $\\frac{P(B|A)xP(A)) }{P(B)}$,, Calculate the probability of Sam being late, given that it rained."
   ]
  },
  {
   "cell_type": "code",
   "execution_count": 36,
   "metadata": {},
   "outputs": [
    {
     "data": {
      "text/plain": [
       "0.35416666666666663"
      ]
     },
     "execution_count": 36,
     "metadata": {},
     "output_type": "execute_result"
    }
   ],
   "source": [
    "# calculate the probability of Sam being late given that it rained\n",
    "p_late_given_rain = p_rain_given_late*p_late/p_rain\n",
    "p_late_given_rain"
   ]
  },
  {
   "cell_type": "code",
   "execution_count": 37,
   "metadata": {},
   "outputs": [
    {
     "data": {
      "text/plain": [
       "0.3541666666666667"
      ]
     },
     "execution_count": 37,
     "metadata": {},
     "output_type": "execute_result"
    }
   ],
   "source": [
    "# check your answer since the data is available\n",
    "sam.loc[sam['rain']]['late'].mean()"
   ]
  },
  {
   "cell_type": "markdown",
   "metadata": {},
   "source": [
    "[Back to top](#contentpage)"
   ]
  }
 ],
 "metadata": {
  "kernelspec": {
   "display_name": "Python 3 (ipykernel)",
   "language": "python",
   "name": "python3"
  },
  "language_info": {
   "codemirror_mode": {
    "name": "ipython",
    "version": 3
   },
   "file_extension": ".py",
   "mimetype": "text/x-python",
   "name": "python",
   "nbconvert_exporter": "python",
   "pygments_lexer": "ipython3",
   "version": "3.9.13"
  }
 },
 "nbformat": 4,
 "nbformat_minor": 4
}
