{
 "cells": [
  {
   "cell_type": "markdown",
   "id": "077a7d1e",
   "metadata": {},
   "source": [
    "<table class=\"table table-bordered\">\n",
    "    <tr>\n",
    "        <th style=\"width:200px;\">\n",
    "            <img src='https://bcgriseacademy.com/hs-fs/hubfs/RISE%202.0%20Logo_Options_25Jan23_RISE%20-%20For%20Black%20Background.png?width=3522&height=1986&name=RISE%202.0%20Logo_Options_25Jan23_RISE%20-%20For%20Black%20Background.png' style=\"background-color:black; width: 100%; height: 100%;\">\n",
    "        </th>\n",
    "        <th style=\"text-align:center;\">\n",
    "            <h1>IBF TFIP</h1>\n",
    "            <h2>Classification using Scikitlearn</h2>\n",
    "        </th>\n",
    "    </tr>\n",
    "</table>"
   ]
  },
  {
   "cell_type": "markdown",
   "id": "12b280d5",
   "metadata": {},
   "source": [
    "### Please use the User_data.csv\" dataset to create a Logistic Regression model by executing the intermediate steps as mentioned below\n",
    "**User Database**: This dataset comprises data from a company's database on users. It includes UserID, Gender, Age, EstimatedSalary, and Purchased data. With the use of this dataset, we can forecast if a customer would buy the recently announced product of the business.\n",
    "\n",
    "1. Import packages, functions, and classes\n",
    "2. Get data to work with and, if appropriate, transform it\n",
    "3. Create a classification model and train (or fit) it with your existing data\n",
    "4. Calculate Confusion Matrix and Accuracy Score used to evaluate the model performance \n",
    "5. Create Visualisation for the Confusion matrix with a subplot\n",
    "6. Visualise the performance of the model with a listed colormap"
   ]
  },
  {
   "cell_type": "code",
   "execution_count": 15,
   "id": "97761f36",
   "metadata": {},
   "outputs": [],
   "source": [
    "#importing libraries\n",
    "import pandas as pd\n",
    "import numpy as np\n",
    "import matplotlib.pyplot as plt"
   ]
  },
  {
   "cell_type": "code",
   "execution_count": 16,
   "id": "e4260a4c",
   "metadata": {},
   "outputs": [],
   "source": [
    "#Read and Explore the data\n",
    "dataset = pd.read_csv(\"Datasets/User_Data.csv\")\n"
   ]
  },
  {
   "cell_type": "markdown",
   "id": "91f05a53",
   "metadata": {},
   "source": [
    "Now, to predict whether a user will purchase the product or not, we need to find out the relationship between Age and Estimated Salary. \n",
    "Here User ID and Gender are not important factors for finding out this"
   ]
  },
  {
   "cell_type": "code",
   "execution_count": 17,
   "id": "a879d29c-13b6-473f-b444-918a7d4543fa",
   "metadata": {},
   "outputs": [
    {
     "data": {
      "text/html": [
       "<div>\n",
       "<style scoped>\n",
       "    .dataframe tbody tr th:only-of-type {\n",
       "        vertical-align: middle;\n",
       "    }\n",
       "\n",
       "    .dataframe tbody tr th {\n",
       "        vertical-align: top;\n",
       "    }\n",
       "\n",
       "    .dataframe thead th {\n",
       "        text-align: right;\n",
       "    }\n",
       "</style>\n",
       "<table border=\"1\" class=\"dataframe\">\n",
       "  <thead>\n",
       "    <tr style=\"text-align: right;\">\n",
       "      <th></th>\n",
       "      <th>User ID</th>\n",
       "      <th>Gender</th>\n",
       "      <th>Age</th>\n",
       "      <th>Estimated Salary</th>\n",
       "      <th>Purchased</th>\n",
       "    </tr>\n",
       "  </thead>\n",
       "  <tbody>\n",
       "    <tr>\n",
       "      <th>0</th>\n",
       "      <td>1099</td>\n",
       "      <td>Male</td>\n",
       "      <td>48</td>\n",
       "      <td>1200000</td>\n",
       "      <td>1</td>\n",
       "    </tr>\n",
       "    <tr>\n",
       "      <th>1</th>\n",
       "      <td>2091</td>\n",
       "      <td>Male</td>\n",
       "      <td>30</td>\n",
       "      <td>60410</td>\n",
       "      <td>0</td>\n",
       "    </tr>\n",
       "  </tbody>\n",
       "</table>\n",
       "</div>"
      ],
      "text/plain": [
       "   User ID Gender  Age  Estimated Salary  Purchased\n",
       "0     1099   Male   48           1200000          1\n",
       "1     2091   Male   30             60410          0"
      ]
     },
     "execution_count": 17,
     "metadata": {},
     "output_type": "execute_result"
    }
   ],
   "source": [
    "dataset.head(2)"
   ]
  },
  {
   "cell_type": "code",
   "execution_count": 18,
   "id": "886436ba-6342-4905-98f1-70d9a9192e30",
   "metadata": {},
   "outputs": [],
   "source": [
    "mapping_gender = {'Male':0, 'Female':1}"
   ]
  },
  {
   "cell_type": "code",
   "execution_count": 19,
   "id": "f37faa2e-7211-4744-9321-1359441a6d46",
   "metadata": {},
   "outputs": [
    {
     "data": {
      "text/plain": [
       "0     0\n",
       "1     0\n",
       "2     0\n",
       "3     0\n",
       "4     1\n",
       "5     1\n",
       "6     1\n",
       "7     1\n",
       "8     0\n",
       "9     0\n",
       "10    0\n",
       "11    0\n",
       "12    1\n",
       "13    1\n",
       "14    1\n",
       "15    1\n",
       "16    0\n",
       "17    0\n",
       "18    0\n",
       "19    0\n",
       "20    1\n",
       "21    1\n",
       "22    1\n",
       "23    1\n",
       "24    0\n",
       "25    0\n",
       "26    0\n",
       "27    0\n",
       "28    1\n",
       "29    1\n",
       "30    1\n",
       "31    1\n",
       "32    0\n",
       "Name: Gender, dtype: int64"
      ]
     },
     "execution_count": 19,
     "metadata": {},
     "output_type": "execute_result"
    }
   ],
   "source": [
    "dataset.Gender.map(mapping_gender)"
   ]
  },
  {
   "cell_type": "code",
   "execution_count": 21,
   "id": "1b015932-a91c-4138-a006-c9c230eadc41",
   "metadata": {},
   "outputs": [
    {
     "data": {
      "text/plain": [
       "0     1\n",
       "1     1\n",
       "2     1\n",
       "3     1\n",
       "4     0\n",
       "5     0\n",
       "6     0\n",
       "7     0\n",
       "8     1\n",
       "9     1\n",
       "10    1\n",
       "11    1\n",
       "12    0\n",
       "13    0\n",
       "14    0\n",
       "15    0\n",
       "16    1\n",
       "17    1\n",
       "18    1\n",
       "19    1\n",
       "20    0\n",
       "21    0\n",
       "22    0\n",
       "23    0\n",
       "24    1\n",
       "25    1\n",
       "26    1\n",
       "27    1\n",
       "28    0\n",
       "29    0\n",
       "30    0\n",
       "31    0\n",
       "32    1\n",
       "Name: Gender, dtype: int64"
      ]
     },
     "execution_count": 21,
     "metadata": {},
     "output_type": "execute_result"
    }
   ],
   "source": [
    "(dataset.Gender == \"Male\").astype(int)"
   ]
  },
  {
   "cell_type": "code",
   "execution_count": 22,
   "id": "60e30113",
   "metadata": {},
   "outputs": [],
   "source": [
    "\n",
    "# input\n",
    "x = dataset.iloc[:, [2, 3]].values\n",
    "\n",
    "# output\n",
    "y = dataset.iloc[:, 4].values\n"
   ]
  },
  {
   "cell_type": "markdown",
   "id": "5da17509",
   "metadata": {},
   "source": [
    "### Splitting The Dataset: Train and Test dataset\n",
    "75% of data is used for training the model and 25% of it is used to test the performance of our model. "
   ]
  },
  {
   "cell_type": "code",
   "execution_count": 23,
   "id": "c6fdfdab",
   "metadata": {},
   "outputs": [],
   "source": [
    "\n",
    "from sklearn.model_selection import train_test_split\n",
    "\n",
    "xtrain, xtest, ytrain, ytest = train_test_split(\n",
    "\tx, y, test_size=0.25, random_state=0)\n"
   ]
  },
  {
   "cell_type": "markdown",
   "id": "307309e0",
   "metadata": {},
   "source": [
    "Now, it is very important to perform feature scaling here because Age and Estimated Salary values lie in different ranges. If we don’t scale the features then the Estimated Salary feature will dominate the Age feature when the model finds the nearest neighbor to a data point in the data space. "
   ]
  },
  {
   "cell_type": "code",
   "execution_count": 24,
   "id": "18c8ea2a-be3e-4321-85db-a6855730c734",
   "metadata": {},
   "outputs": [],
   "source": [
    "from sklearn.preprocessing import StandardScaler\n",
    "\n",
    "sc_x = StandardScaler()\n",
    "\n",
    "xtrain = sc_x.fit_transform(xtrain)\n",
    "xtest = sc_x.transform(xtest)"
   ]
  },
  {
   "cell_type": "code",
   "execution_count": 25,
   "id": "0e5899fd-169c-4dcc-8dfe-521bca006b62",
   "metadata": {},
   "outputs": [
    {
     "name": "stdout",
     "output_type": "stream",
     "text": [
      "[[-0.0768322   2.20752572]\n",
      " [-0.81442137  0.4821147 ]\n",
      " [ 0.66075696 -0.55319595]\n",
      " [-0.72222273  1.17415824]\n",
      " [-0.81442137 -0.00494765]\n",
      " [ 0.66075696 -0.59057782]\n",
      " [-1.36761325 -0.57913765]\n",
      " [-0.44562679  0.50345323]\n",
      " [ 1.12175019 -0.57837942]\n",
      " [ 0.66075696 -0.58866104]]\n"
     ]
    }
   ],
   "source": [
    "print (xtrain[0:10, :])"
   ]
  },
  {
   "cell_type": "markdown",
   "id": "95a0d185",
   "metadata": {},
   "source": [
    "Here we observe that Age and Estimated salary features values are scaled and now there in the range -1 to 1. Hence, each feature will contribute equally to decision making i.e. finalizing the hypothesis. \n",
    "Finally, we are training our Logistic Regression model. "
   ]
  },
  {
   "cell_type": "markdown",
   "id": "3d0c4301",
   "metadata": {},
   "source": [
    "#### Train the Model"
   ]
  },
  {
   "cell_type": "code",
   "execution_count": 26,
   "id": "2abc4511",
   "metadata": {},
   "outputs": [
    {
     "data": {
      "text/plain": [
       "LogisticRegression(random_state=0)"
      ]
     },
     "execution_count": 26,
     "metadata": {},
     "output_type": "execute_result"
    }
   ],
   "source": [
    "from sklearn.linear_model import LogisticRegression\n",
    "\n",
    "classifier = LogisticRegression(random_state = 0)\n",
    "classifier.fit(xtrain, ytrain)\n"
   ]
  },
  {
   "cell_type": "markdown",
   "id": "2cfe46f7",
   "metadata": {},
   "source": [
    "After training the model, it is time to use it to do predictions on testing data. "
   ]
  },
  {
   "cell_type": "code",
   "execution_count": 27,
   "id": "1c47ce79",
   "metadata": {},
   "outputs": [],
   "source": [
    "y_pred = classifier.predict(xtest)"
   ]
  },
  {
   "cell_type": "markdown",
   "id": "27854a7e",
   "metadata": {},
   "source": [
    "Let’s test the performance of our model by Confusion Matrix "
   ]
  },
  {
   "cell_type": "code",
   "execution_count": 28,
   "id": "3a16aac7",
   "metadata": {},
   "outputs": [
    {
     "name": "stdout",
     "output_type": "stream",
     "text": [
      "Confusion Matrix : \n",
      " [[1 1]\n",
      " [1 6]]\n"
     ]
    }
   ],
   "source": [
    "from sklearn.metrics import confusion_matrix\n",
    "\n",
    "cm = confusion_matrix(ytest, y_pred)\n",
    "print (\"Confusion Matrix : \\n\", cm)\n"
   ]
  },
  {
   "cell_type": "code",
   "execution_count": 29,
   "id": "68d37a49",
   "metadata": {},
   "outputs": [
    {
     "data": {
      "image/png": "[encoded data removed]",
      "text/plain": [
       "<Figure size 576x576 with 1 Axes>"
      ]
     },
     "metadata": {
      "needs_background": "light"
     },
     "output_type": "display_data"
    }
   ],
   "source": [
    "\n",
    "fig, ax = plt.subplots(figsize=(8, 8))\n",
    "ax.imshow(cm)\n",
    "ax.grid(False)\n",
    "ax.xaxis.set(ticks=(0, 1), ticklabels=('Predicted 0s', 'Predicted 1s'))\n",
    "ax.yaxis.set(ticks=(0, 1), ticklabels=('Actual 0s', 'Actual 1s'))\n",
    "ax.set_ylim(1.5, -0.5)\n",
    "for i in range(2):\n",
    "    for j in range(2):\n",
    "        ax.text(j, i, cm[i, j], ha='center', va='center', color='red')\n",
    "plt.show()"
   ]
  },
  {
   "cell_type": "markdown",
   "id": "f5628f92",
   "metadata": {},
   "source": [
    "The obtained matrix shows the following:\n",
    "\n",
    "1. One true negative prediction\n",
    "\n",
    "2. One false negative prediction\n",
    "\n",
    "3. One false positive prediction\n",
    "\n",
    "4. Six true positive predictions"
   ]
  },
  {
   "cell_type": "markdown",
   "id": "f848bcfa",
   "metadata": {},
   "source": [
    "Now Let us evaluate the accuracy of the model"
   ]
  },
  {
   "cell_type": "code",
   "execution_count": 10,
   "id": "b9df868a",
   "metadata": {},
   "outputs": [
    {
     "name": "stdout",
     "output_type": "stream",
     "text": [
      "Accuracy :  0.7777777777777778\n"
     ]
    }
   ],
   "source": [
    "from sklearn.metrics import accuracy_score\n",
    "\n",
    "print (\"Accuracy : \", accuracy_score(ytest, y_pred))\n",
    "\n"
   ]
  },
  {
   "cell_type": "markdown",
   "id": "17fd5237",
   "metadata": {},
   "source": [
    "Visualising the Logistic Regression Model "
   ]
  },
  {
   "cell_type": "code",
   "execution_count": 30,
   "id": "2d3acc51-3538-428d-a717-1724b72058d3",
   "metadata": {},
   "outputs": [
    {
     "data": {
      "text/plain": [
       "array([[-1.09101731, -0.58581949],\n",
       "       [ 0.9373529 , -0.58355979],\n",
       "       [ 0.29196238,  2.79866728],\n",
       "       [-0.90662002, -0.54510471],\n",
       "       [-0.44562679, -0.02966202],\n",
       "       [ 0.38416102,  1.06692353],\n",
       "       [ 1.39834613, -0.55483395],\n",
       "       [ 0.38416102,  2.20675456],\n",
       "       [ 0.19976373,  0.55310798]])"
      ]
     },
     "execution_count": 30,
     "metadata": {},
     "output_type": "execute_result"
    }
   ],
   "source": [
    "X_set"
   ]
  },
  {
   "cell_type": "code",
   "execution_count": 32,
   "id": "107ec3a9-7e90-40ab-b0b9-82eafe388580",
   "metadata": {},
   "outputs": [],
   "source": [
    "#np.arange(start = X_set[:, 0].min() - 1,stop = X_set[:, 0].max() + 1, step = 0.01)"
   ]
  },
  {
   "cell_type": "code",
   "execution_count": 35,
   "id": "a6ab44bb-4018-4e65-a614-dc3a6404d5ad",
   "metadata": {},
   "outputs": [],
   "source": [
    "#np.arange(start = X_set[:, 1].min() - 1,stop = X_set[:, 1].max() + 1, step = 0.01)"
   ]
  },
  {
   "cell_type": "code",
   "execution_count": 36,
   "id": "133b6769",
   "metadata": {},
   "outputs": [
    {
     "name": "stderr",
     "output_type": "stream",
     "text": [
      "<ipython-input-36-ae64191e2c0d>:16: UserWarning: *c* argument looks like a single numeric RGB or RGBA sequence, which should be avoided as value-mapping will have precedence in case its length matches with *x* & *y*.  Please use the *color* keyword-argument or provide a 2D array with a single row if you intend to specify the same RGB or RGBA value for all points.\n",
      "  plt.scatter(X_set[y_set == j, 0], X_set[y_set == j, 1],\n"
     ]
    },
    {
     "data": {
      "image/png": "[encoded data removed]",
      "text/plain": [
       "<Figure size 432x288 with 1 Axes>"
      ]
     },
     "metadata": {
      "needs_background": "light"
     },
     "output_type": "display_data"
    }
   ],
   "source": [
    "from matplotlib.colors import ListedColormap\n",
    "\n",
    "X_set, y_set = xtest, ytest\n",
    "\n",
    "\n",
    "X1, X2 = np.meshgrid(np.arange(start = X_set[:, 0].min() - 1,stop = X_set[:, 0].max() + 1, step = 0.01),np.arange(start = X_set[:, 1].min() - 1,stop = X_set[:, 1].max() + 1, step = 0.01))\n",
    "\n",
    "plt.contourf(X1, X2, classifier.predict(\n",
    "\t\t\tnp.array([X1.ravel(), X2.ravel()]).T).reshape(\n",
    "\t\t\tX1.shape), alpha = 0.75, cmap = ListedColormap(('red', 'green')))\n",
    "\n",
    "plt.xlim(X1.min(), X1.max())\n",
    "plt.ylim(X2.min(), X2.max())\n",
    "\n",
    "for i, j in enumerate(np.unique(y_set)):\n",
    "\tplt.scatter(X_set[y_set == j, 0], X_set[y_set == j, 1],\n",
    "\t\t\t\tc = ListedColormap(('red', 'green'))(i), label = j)\n",
    "\t\n",
    "plt.title('Classifier (Test set)')\n",
    "plt.xlabel('Age')\n",
    "plt.ylabel('Estimated Salary')\n",
    "plt.legend()\n",
    "plt.show()"
   ]
  },
  {
   "cell_type": "markdown",
   "id": "f7490be2",
   "metadata": {},
   "source": [
    "Analyzing the performance measures – accuracy and confusion matrix and the graph, we can come to a conclusion thats this model performance is moderate."
   ]
  },
  {
   "cell_type": "markdown",
   "id": "e0c7fa3e",
   "metadata": {},
   "source": [
    "**************************   This is the end of our session ******************************"
   ]
  },
  {
   "cell_type": "markdown",
   "id": "453e07dc",
   "metadata": {},
   "source": [
    "Copyright © 2023 by Boston Consulting Group. All rights reserved."
   ]
  }
 ],
 "metadata": {
  "kernelspec": {
   "display_name": "Python 3",
   "language": "python",
   "name": "python3"
  },
  "language_info": {
   "codemirror_mode": {
    "name": "ipython",
    "version": 3
   },
   "file_extension": ".py",
   "mimetype": "text/x-python",
   "name": "python",
   "nbconvert_exporter": "python",
   "pygments_lexer": "ipython3",
   "version": "3.8.5"
  }
 },
 "nbformat": 4,
 "nbformat_minor": 5
}
