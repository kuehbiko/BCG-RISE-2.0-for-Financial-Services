{
 "cells": [
  {
   "cell_type": "markdown",
   "id": "077a7d1e",
   "metadata": {},
   "source": [
    "<table class=\"table table-bordered\">\n",
    "    <tr>\n",
    "        <th style=\"width:200px;\">\n",
    "            <img src='https://bcgriseacademy.com/hs-fs/hubfs/RISE%202.0%20Logo_Options_25Jan23_RISE%20-%20For%20Black%20Background.png?width=3522&height=1986&name=RISE%202.0%20Logo_Options_25Jan23_RISE%20-%20For%20Black%20Background.png' style=\"background-color:black; width: 100%; height: 100%;\">\n",
    "        </th>\n",
    "        <th style=\"text-align:center;\">\n",
    "            <h1>IBF TFIP</h1>\n",
    "            <h2>Tree Based Algorithms</h2>\n",
    "        </th>\n",
    "    </tr>\n",
    "</table>"
   ]
  },
  {
   "cell_type": "markdown",
   "id": "12b280d5",
   "metadata": {},
   "source": [
    "### We'll start by importing the required libraries and loading the Housing dataset\n",
    "\n",
    "1. Create a Decision Tree Regression Model\n",
    "2. Fit the Model \n",
    "3. Calculate MSE & R², Check the explained Variance\n",
    "4. Apply Grid Search to identify best params\n",
    "5. Calculate predicted value\n",
    "6. Write a code to visualize the Regression Line\n",
    "7. Plot regression line and the residuals\n",
    "8. Plot actual response and the estimated response"
   ]
  },
  {
   "cell_type": "markdown",
   "id": "e0c7fa3e",
   "metadata": {},
   "source": [
    "                **************************> This is the end of our session ******************************"
   ]
  },
  {
   "cell_type": "markdown",
   "id": "453e07dc",
   "metadata": {},
   "source": [
    "Copyright © 2023 by Boston Consulting Group. All rights reserved."
   ]
  }
 ],
 "metadata": {
  "kernelspec": {
   "display_name": "Python 3 (ipykernel)",
   "language": "python",
   "name": "python3"
  },
  "language_info": {
   "codemirror_mode": {
    "name": "ipython",
    "version": 3
   },
   "file_extension": ".py",
   "mimetype": "text/x-python",
   "name": "python",
   "nbconvert_exporter": "python",
   "pygments_lexer": "ipython3",
   "version": "3.9.13"
  },
  "toc": {
   "base_numbering": 1,
   "nav_menu": {},
   "number_sections": true,
   "sideBar": true,
   "skip_h1_title": false,
   "title_cell": "Table of Contents",
   "title_sidebar": "Contents",
   "toc_cell": false,
   "toc_position": {},
   "toc_section_display": true,
   "toc_window_display": false
  }
 },
 "nbformat": 4,
 "nbformat_minor": 5
}
