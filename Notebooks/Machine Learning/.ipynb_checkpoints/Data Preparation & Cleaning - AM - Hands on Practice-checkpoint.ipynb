{
 "cells": [
  {
   "cell_type": "markdown",
   "metadata": {},
   "source": [
    "<table class=\"table table-bordered\">\n",
    "    <tr>\n",
    "        <th style=\"width:200px;\">\n",
    "            <img src='https://bcgriseacademy.com/hs-fs/hubfs/RISE%202.0%20Logo_Options_25Jan23_RISE%20-%20For%20Black%20Background.png?width=3522&height=1986&name=RISE%202.0%20Logo_Options_25Jan23_RISE%20-%20For%20Black%20Background.png' style=\"background-color:black; width: 100%; height: 100%;\">\n",
    "        </th>\n",
    "        <th style=\"text-align:center;\">\n",
    "            <h1>IBF TFIP</h1>\n",
    "            <h2>Data Preparation and Cleaning </h2>\n",
    "        </th>\n",
    "    </tr>\n",
    "</table>"
   ]
  },
  {
   "cell_type": "markdown",
   "metadata": {},
   "source": [
    "# Learning Objectives\n",
    "#### After completing this lesson, you should be able to:\n",
    "\n",
    "1. LO1 : Understand Data Preparation\n",
    "2. LO2 : Understand Data Pre-processing steps for Machine Learning\n",
    "3. LO3 : Apply Data Pre-processing on dataset"
   ]
  },
  {
   "cell_type": "markdown",
   "metadata": {},
   "source": [
    "# Table of Contents <a id='tc'></a>\n",
    "\n",
    "1. [Data Preparation](#p1)\n",
    "2. [Data Pre-processing for ML](#p2)\n",
    "3. [Hands-On Practice Exercise](#p3)\n"
   ]
  },
  {
   "cell_type": "markdown",
   "metadata": {},
   "source": [
    "# 1. Data Preparation <a id='p1' />"
   ]
  },
  {
   "cell_type": "markdown",
   "metadata": {},
   "source": [
    "## 1.1 What is data preparation and why is it important? \n",
    "__What__: Data preparation is followed by Model building <br>\n",
    "__Why__: The better the data preparation is, the more reliable is the output of model"
   ]
  },
  {
   "cell_type": "markdown",
   "metadata": {},
   "source": [
    "Data preparation, if done properly, helps us avoid stirring the pile again and again and thus saves us a lot of time."
   ]
  },
  {
   "cell_type": "markdown",
   "metadata": {},
   "source": [
    "## 1.2 Basic overview on the different steps in data preparation\n",
    "\n",
    "Below is the basic overview on the different steps which are followed in data development in a sequential order:\n",
    "\n",
    "1. __Understanding basic information regarding data__: It includes checking number of columns and rows, their data types, basic statistics like mean, median, mode, variance etc., identifying dependent and independent features etc.\n",
    "\n",
    "\n",
    "2. __Basic data manipulation__: It includes changing data types of columns, modifying columns names and deleting columns which are irrelevant to the problem based on business sense etc.\n",
    "\n",
    "\n",
    "3. __Missing value treatment__: It is important that we do the missing value treatment as we can't input features into the model which have missing values. We can either remove features which have high percentage of missing values or we can replace those missing values with some other value if the percentage of missing values is less.\n",
    "\n",
    "\n",
    "4. __Outlier treatment__: Outliers are points that are distant from remaining observations. As a result, they can potentially skew or bias any analysis performed on the dataset. It is therefore very important to detect and adequately deal with outliers.\n",
    "\n",
    "\n",
    "5. __Univariate, Bivariate analysis and Multivariate analysis__: This analysis is extremely useful because it can help measure cause and effect among variables and draw conclusions among those variables.\n",
    "\n",
    "\n",
    "6. __Variable transformation__: Variable transformation means creating new variables by taking log, square, cube etc. of the existing variables. This helps us take into account the non-linear relationship between dependent variable and independent variable.\n",
    "\n",
    "\n",
    "7. __Dummy encoding of categorical variables__: Many machine learning algorithms cannot operate on label data directly. They require all input variables and output variables to be numeric. This means that categorical variables must be converted to a numerical form and this conversion is known as dummy encoding.\n",
    "\n",
    "\n",
    "8. __Feature Selection__: Feature selection, also known as variable selection, is the process of selecting a subset of relevant features for use in model construction. Logic is that we want to select only those features in your data that are most useful or most relevant to the problem one is working on.\n",
    "\n",
    "\n",
    "9. __Splitting the data set into train, test and cross validation data sets__: Model learns from the training data, model output are then checked on the cross validation data set to avoid overfitting (to be covered later) and then model is tested on the test data set to see how it is performing on an unseen data set.\n",
    "\n",
    "\n",
    "10. __Scaling the features__: It means normalizing all the input features so that they are on the same scale. A dataset might contain features highly varying in magnitudes, units and range. But since, most of the machine learning algorithms use Euclidean distance between two data points in their computations, this is a problem. If feature scaling is not done then features with high magnitudes will weigh in a lot more in the distance calculations than features with low magnitudes which creates bias in the model."
   ]
  },
  {
   "cell_type": "markdown",
   "metadata": {},
   "source": [
    "# 2. Data Pre-processing for ML<a id='p2' />"
   ]
  },
  {
   "cell_type": "markdown",
   "metadata": {},
   "source": [
    "## 2.1 Understanding the Problem \n",
    "\n",
    "__Problem statement__: Use the New York energy data to build a model that can predict the Energy Star Score of a building and interpret the results to find the factors which influence the score.\n",
    "\n",
    "1. Data is publicly available [here](http://www.nyc.gov/html/gbee/html/plan/ll84_scores.shtml)\n",
    "2. Data dictionary [here](http://www.nyc.gov/html/gbee/downloads/misc/nyc_benchmarking_disclosure_data_definitions_2017.pdf)\n",
    "\n",
    "A 1-to-100 percentile ranking based on self-reported energy usage for the reporting year. The [Energy Star score](https://www.energystar.gov/buildings/facility-owners-and-managers/existing-buildings/use-portfolio-manager/interpret-your-results/what) is a relative measure used for comparing the energy efficiency of buildings."
   ]
  },
  {
   "cell_type": "markdown",
   "metadata": {},
   "source": [
    "Now that we know about the problem and also have a basic understanding about the steps in the data development, let's try to understand each of these steps in detail along with the code."
   ]
  },
  {
   "cell_type": "markdown",
   "metadata": {},
   "source": [
    "## 2.2 Import library in Notebook\n",
    "\n",
    "First we need to import all the libraries at once that we are going to use in this exercise."
   ]
  },
  {
   "cell_type": "code",
   "execution_count": null,
   "metadata": {},
   "outputs": [],
   "source": [
    "import pandas as pd\n",
    "import numpy as np\n",
    "from scipy import stats\n",
    "\n",
    "# Splitting data into training and testing\n",
    "from sklearn.model_selection import train_test_split\n",
    "\n",
    "# Imputing missing values and scaling values\n",
    "from sklearn.impute import SimpleImputer as Imputer\n",
    "from sklearn.preprocessing import MinMaxScaler, StandardScaler\n",
    "\n",
    "# Machine Learning Models\n",
    "from sklearn.linear_model import LinearRegression\n",
    "from sklearn.ensemble import RandomForestRegressor, GradientBoostingRegressor\n",
    "from sklearn.svm import SVR\n",
    "from sklearn.neighbors import KNeighborsRegressor\n",
    "\n",
    "# Hyperparameter tuning\n",
    "from sklearn.model_selection import RandomizedSearchCV, GridSearchCV\n",
    "\n",
    "# Visualizations\n",
    "import matplotlib.pyplot as plt\n",
    "import seaborn as sns\n",
    "\n",
    "#taking care of warnings\n",
    "import warnings\n",
    "warnings.filterwarnings(\"ignore\")\n",
    "\n",
    "#for chi square test\n",
    "from scipy.stats import chi2_contingency\n",
    "from scipy.stats import chi2\n",
    "\n",
    "#for ANOVA test\n",
    "import statsmodels.api as sm\n",
    "from statsmodels.formula.api import ols\n",
    "\n",
    "#for PCA\n",
    "from sklearn.decomposition import PCA"
   ]
  },
  {
   "cell_type": "markdown",
   "metadata": {},
   "source": [
    "## 2.3 Setting Parameters for notebook \n",
    "\n",
    "\n",
    "There are certain parameters which need to be set to a certain value."
   ]
  },
  {
   "cell_type": "code",
   "execution_count": null,
   "metadata": {},
   "outputs": [],
   "source": [
    "# No warnings about setting value on copy of slice\n",
    "pd.options.mode.chained_assignment = None\n",
    "\n",
    "# Display up to 60 columns of a dataframe\n",
    "pd.set_option('display.max_columns', 60)\n",
    "\n",
    "# Inline graphs\n",
    "%matplotlib inline\n",
    "\n",
    "# Set default font size\n",
    "plt.rcParams['font.size'] = 24\n",
    "\n",
    "# Internal ipython tool for setting figure size\n",
    "from IPython.core.pylabtools import figsize\n",
    "\n",
    "# Font size for seaborn\n",
    "sns.set(font_scale = 2)"
   ]
  },
  {
   "cell_type": "markdown",
   "metadata": {},
   "source": [
    "## 2.4 Load data in Notebook "
   ]
  },
  {
   "cell_type": "markdown",
   "metadata": {},
   "source": [
    "Load the data as pandas dataframe ([pandas.read_csv()](https://pandas.pydata.org/pandas-docs/stable/generated/pandas.read_csv.html))"
   ]
  },
  {
   "cell_type": "code",
   "execution_count": null,
   "metadata": {},
   "outputs": [],
   "source": [
    "data = pd.read_csv(\"data/Energy_and_Water_Data_Disclosure_for_Local_Law_84_2017__Data_for_Calendar_Year_2016_.csv\")"
   ]
  },
  {
   "cell_type": "markdown",
   "metadata": {},
   "source": [
    "## 2.5 View the data "
   ]
  },
  {
   "cell_type": "code",
   "execution_count": null,
   "metadata": {},
   "outputs": [],
   "source": [
    "#view only a subset of data using head function\n",
    "data.head()"
   ]
  },
  {
   "cell_type": "markdown",
   "metadata": {},
   "source": [
    "## 2.6 Basic Information about data \n",
    "\n",
    "We can use __info()__ to understand data types across Pandas dataframe."
   ]
  },
  {
   "cell_type": "code",
   "execution_count": null,
   "metadata": {
    "scrolled": true
   },
   "outputs": [],
   "source": [
    "data.info()"
   ]
  },
  {
   "cell_type": "markdown",
   "metadata": {},
   "source": [
    "<mark>__Observation:__<mark>\n",
    "* <mark>There are a number of columns with numbers that have been recorded as object datatypes<mark>\n",
    "* <mark>These will have to be converted to float datatype before we can do any numerical analysis<mark>"
   ]
  },
  {
   "cell_type": "markdown",
   "metadata": {},
   "source": [
    "## 2.7 Descriptive statistics\n",
    "\n",
    "Generate descriptive statistics that summarize the central tendency, dispersion and shape of the various features present in the data.\n",
    "\n",
    "[describe()](https://pandas.pydata.org/pandas-docs/stable/generated/pandas.DataFrame.describe.html)"
   ]
  },
  {
   "cell_type": "markdown",
   "metadata": {},
   "source": [
    "### 2.7.1 Generate descriptive statistics for continuous variables"
   ]
  },
  {
   "cell_type": "code",
   "execution_count": null,
   "metadata": {
    "scrolled": true
   },
   "outputs": [],
   "source": [
    "data.describe(percentiles=np.linspace(0,1,11)).T"
   ]
  },
  {
   "cell_type": "markdown",
   "metadata": {},
   "source": [
    "### 2.7.2 Generate descriptive statistics for categorical variables"
   ]
  },
  {
   "cell_type": "code",
   "execution_count": null,
   "metadata": {
    "scrolled": true
   },
   "outputs": [],
   "source": [
    "data.describe(include = \"O\").T"
   ]
  },
  {
   "cell_type": "markdown",
   "metadata": {},
   "source": [
    "# 2.8 Data Cleaning"
   ]
  },
  {
   "cell_type": "markdown",
   "metadata": {},
   "source": [
    "### 2.8.1 Replace with nan\n",
    "\n",
    "It is important to replace values which doesn't give any information with nan so that it becomes easy to do the missing value treatment using in-built functions of python.\n",
    "\n",
    "Replace \"Not available\" with nan<br>\n",
    "Hint: numpy not a number is the ideal replacement for any 'not available' values\n",
    "* [pandas - replace](https://pandas.pydata.org/pandas-docs/stable/generated/pandas.DataFrame.replace.html)\n",
    "* [numpy - nan](https://docs.scipy.org/doc/numpy-1.13.0/user/misc.html)"
   ]
  },
  {
   "cell_type": "code",
   "execution_count": null,
   "metadata": {},
   "outputs": [],
   "source": [
    "data['ENERGY STAR Score'].describe()"
   ]
  },
  {
   "cell_type": "code",
   "execution_count": null,
   "metadata": {},
   "outputs": [],
   "source": [
    "data = data.replace({\"Not Available\": np.nan})"
   ]
  },
  {
   "cell_type": "code",
   "execution_count": null,
   "metadata": {},
   "outputs": [],
   "source": [
    "data['ENERGY STAR Score'].describe()"
   ]
  },
  {
   "cell_type": "markdown",
   "metadata": {},
   "source": [
    "### 2.8.2 Convert data to correct data types\n",
    "\n",
    "It is a good practice to correct data types before we pass these features to the model as interpretation of numerical and categorical features is different with respect to model."
   ]
  },
  {
   "cell_type": "markdown",
   "metadata": {},
   "source": [
    "**Convert object data types to numbers**\n",
    "\n",
    "[documentation](https://pandas.pydata.org/pandas-docs/stable/generated/pandas.DataFrame.astype.html)"
   ]
  },
  {
   "cell_type": "code",
   "execution_count": null,
   "metadata": {},
   "outputs": [],
   "source": [
    "for col in list(data.columns):\n",
    "    # Select columns that should be numeric\n",
    "    if ('ft²' in col or 'kBtu' in col or 'Metric Tons CO2e' in col or 'kWh' in \n",
    "        col or 'therms' in col or 'gal' in col or 'Score' in col):\n",
    "        # Convert the data type to float\n",
    "        data[col] = data[col].astype(float)"
   ]
  },
  {
   "cell_type": "code",
   "execution_count": null,
   "metadata": {
    "scrolled": true
   },
   "outputs": [],
   "source": [
    "data.info()"
   ]
  },
  {
   "cell_type": "code",
   "execution_count": null,
   "metadata": {},
   "outputs": [],
   "source": [
    "data.describe()"
   ]
  },
  {
   "cell_type": "markdown",
   "metadata": {},
   "source": [
    "<mark>__Observations:__<mark>\n",
    "\n",
    "<mark>Zeros in the min block indicates missing values. We can either remove features which have high percentage of missing values or we can replace those missing values with some other value if the percentage of missing values is less.\n",
    "<mark>"
   ]
  },
  {
   "cell_type": "markdown",
   "metadata": {},
   "source": [
    "### 2.8.3 Change target variable name \n",
    "\n",
    "It is a good practice to shorten the target variable name as it will be used frequently in the later part of the code."
   ]
  },
  {
   "cell_type": "markdown",
   "metadata": {},
   "source": [
    "**Change the name of the target variable to \"score\"**\n",
    "\n",
    "[df.rename](https://pandas.pydata.org/pandas-docs/stable/generated/pandas.DataFrame.rename.html)"
   ]
  },
  {
   "cell_type": "code",
   "execution_count": null,
   "metadata": {},
   "outputs": [],
   "source": [
    "data = data.rename(columns={'ENERGY STAR Score': 'score'})"
   ]
  },
  {
   "cell_type": "code",
   "execution_count": null,
   "metadata": {
    "scrolled": true
   },
   "outputs": [],
   "source": [
    "data.columns"
   ]
  },
  {
   "cell_type": "markdown",
   "metadata": {},
   "source": [
    "## 2.9 Data Quality "
   ]
  },
  {
   "cell_type": "markdown",
   "metadata": {},
   "source": [
    "### 2.9.1 Missing value treatment \n",
    "\n",
    "It is important that we calculate percentage of missing values in each of the input features and then remove feature with high percentage of missing values as it is difficult to infer anything about the relationship between input feature and output feature with limited data and the output might get biased.\n",
    "\n",
    "__Why is it important?__\n",
    " \n",
    "* Missing data in a data set can reduce the power of a model or can lead to a biased model because we have not analysed the behaviour and relationship with other variables correctly. It can lead to wrong prediction or classification\n",
    "* Some of the machine learning algorithms don't accept features with missing values\n",
    "\n",
    "Now we will try to understand how missing values treatment is done in detail below."
   ]
  },
  {
   "cell_type": "markdown",
   "metadata": {},
   "source": [
    "**Calculate percentage of missing value for each column**"
   ]
  },
  {
   "cell_type": "markdown",
   "metadata": {},
   "source": [
    "[isnull()](https://pandas.pydata.org/pandas-docs/stable/generated/pandas.DataFrame.isnull.html)"
   ]
  },
  {
   "cell_type": "code",
   "execution_count": null,
   "metadata": {},
   "outputs": [],
   "source": [
    "# Function to calculate missing values by column\n",
    "def missing_values_table(df):\n",
    "        # Total missing values\n",
    "        mis_val = df.isnull().sum()\n",
    "        \n",
    "        # Percentage of missing values\n",
    "        mis_val_percent = 100 * df.isnull().sum() / len(df)\n",
    "        \n",
    "        # Make a table with the results\n",
    "        mis_val_table = pd.concat([mis_val, mis_val_percent], axis=1)\n",
    "        \n",
    "        # Rename the columns\n",
    "        mis_val_table_ren_columns = mis_val_table.rename(\n",
    "        columns = {0 : 'Missing Values', 1 : '% of Total Values'})\n",
    "        \n",
    "        # Sort the table by percentage of missing descending\n",
    "        mis_val_table_ren_columns = mis_val_table_ren_columns[\n",
    "            mis_val_table_ren_columns.iloc[:,1] != 0].sort_values(\n",
    "        '% of Total Values', ascending=False).round(1)\n",
    "        \n",
    "        # Print some summary information\n",
    "        print (\"Your selected dataframe has \" + str(df.shape[1]) + \" columns.\\n\"      \n",
    "            \"There are \" + str(mis_val_table_ren_columns.shape[0]) +\n",
    "              \" columns that have missing values.\")\n",
    "        \n",
    "        # Return the dataframe with missing information\n",
    "        return mis_val_table_ren_columns"
   ]
  },
  {
   "cell_type": "code",
   "execution_count": null,
   "metadata": {
    "scrolled": true
   },
   "outputs": [],
   "source": [
    "missing_values_table(data)"
   ]
  },
  {
   "cell_type": "markdown",
   "metadata": {},
   "source": [
    "<mark>__Observations:__<mark>\n",
    "\n",
    "<mark>Although we want to be careful to not discard information and should be careful when dropping columns, if a column has a high percentage of missing values, then it probably will not be of much use.<mark>"
   ]
  },
  {
   "cell_type": "markdown",
   "metadata": {},
   "source": [
    "### 2.9.1.1 Drop columns with more than 50% missing values"
   ]
  },
  {
   "cell_type": "markdown",
   "metadata": {},
   "source": [
    "[df.drop()](https://pandas.pydata.org/pandas-docs/stable/generated/pandas.DataFrame.drop.html)"
   ]
  },
  {
   "cell_type": "code",
   "execution_count": null,
   "metadata": {},
   "outputs": [],
   "source": [
    "missing_df = missing_values_table(data)\n",
    "missing_columns = list(missing_df[missing_df['% of Total Values'] > 50].index)\n",
    "print('We will remove %d columns.' % len(missing_columns))"
   ]
  },
  {
   "cell_type": "code",
   "execution_count": null,
   "metadata": {},
   "outputs": [],
   "source": [
    "data = data.drop(columns=list(missing_columns))"
   ]
  },
  {
   "cell_type": "markdown",
   "metadata": {},
   "source": [
    "<mark>__NOTE__: There are still certain columns which have some percentage of missing values less than 50%. It will be taken care of in the code below.<mark>"
   ]
  },
  {
   "cell_type": "markdown",
   "metadata": {},
   "source": [
    "### 2.9.1.2 Imputing missing Values\n",
    "\n",
    "__What is imputing missing values?__\n",
    "\n",
    "* Imputation is a method to fill in the missing values with estimated ones\n",
    "* The objective is to employ known relationships that can be identified in the valid values of the data set to assist in estimating the missing values\n",
    "* Mean / Mode / Median imputation is one of the most frequently used methods. It consists of replacing the missing data for a given attribute by the mean or median (quantitative attribute) or mode (qualitative attribute) of all known values of that variable\n",
    "\n",
    "\n",
    "__How it is done?__\n",
    "\n",
    "We have already removed features with more than 50% missing values in the first part, here we will focus on filling in these missing values<br>\n",
    "In the code below, we create a Scikit-learn Imputer object to fill in missing values with the median of the column. Notice that we train the imputer (using the Imputer.fit method) on the training data but not the testing data. We then transform (using Imputer.transform) both the training data and testing data. This means that the missing values in the testing set are filled in with the median value of the corresponding columns in the training set. This is one way to avoid the problem known as data leakage where information from the testing data set \"leaks\" into the training process."
   ]
  },
  {
   "cell_type": "markdown",
   "metadata": {},
   "source": [
    "#### Using imputer function"
   ]
  },
  {
   "cell_type": "code",
   "execution_count": null,
   "metadata": {},
   "outputs": [],
   "source": [
    "missing_value_imputation_data = data[['score', 'Site EUI (kBtu/ft²)', \n",
    "                      'Weather Normalized Source EUI (kBtu/ft²)']]\n",
    "\n",
    "missing_value_imputation_data.isnull().sum()"
   ]
  },
  {
   "cell_type": "code",
   "execution_count": null,
   "metadata": {},
   "outputs": [],
   "source": [
    "missing_values_table(missing_value_imputation_data)"
   ]
  },
  {
   "cell_type": "code",
   "execution_count": null,
   "metadata": {},
   "outputs": [],
   "source": [
    "#### Using Imputer from sklearn\n",
    "imputer = Imputer(strategy='median')\n",
    "imputer.fit(missing_value_imputation_data)"
   ]
  },
  {
   "cell_type": "code",
   "execution_count": null,
   "metadata": {},
   "outputs": [],
   "source": [
    "###### Imputer.transform will return numpy \n",
    "X = imputer.transform(missing_value_imputation_data)\n",
    "missing_values_table(pd.DataFrame(X))"
   ]
  },
  {
   "cell_type": "markdown",
   "metadata": {},
   "source": [
    "#### Using fillna function in pandas"
   ]
  },
  {
   "cell_type": "code",
   "execution_count": null,
   "metadata": {},
   "outputs": [],
   "source": [
    "missing_value_imputation_data = data[['score', 'Site EUI (kBtu/ft²)', \n",
    "                      'Weather Normalized Source EUI (kBtu/ft²)']]\n",
    "\n",
    "missing_value_imputation_data['Weather Normalized Source EUI (kBtu/ft²)'].fillna(missing_value_imputation_data['Weather Normalized Source EUI (kBtu/ft²)'].mean(), inplace=True)\n",
    "\n",
    "missing_value_imputation_data.isnull().sum()"
   ]
  },
  {
   "cell_type": "code",
   "execution_count": null,
   "metadata": {},
   "outputs": [],
   "source": [
    "#create a copy of the data\n",
    "data_copy = data.copy()"
   ]
  },
  {
   "cell_type": "markdown",
   "metadata": {},
   "source": [
    "### 2.9.2 Outlier treatment \n",
    "\n",
    "__What is outlier treatment and why it is an important step?__\n",
    "\n",
    "Outliers are points that are distant from remaining observations. As a result, they can potentially skew or bias any analysis performed on the dataset. It is therefore very important to detect and adequately deal with outliers.\n",
    "\n",
    "__How to remove Outliers?__\n",
    "\n",
    "Most of the ways to deal with outliers are similar to the methods of missing values like deleting observations, transforming them, binning them, treating them as a separate group, imputing values and other statistical methods. \n",
    "\n",
    "Here, we will discuss the common techniques used to deal with outliers: \n",
    "* __Deleting observations__ : We delete outlier values if it is due to data entry error, data processing error or outlier observations are very small in numbers. We can also use trimming at both ends to remove outliers.\n",
    "* __Capping values__: Transforming variables can also eliminate outliers. Natural log of a value reduces the variation caused by extreme values. Binning is also a form of variable transformation. __As a rule of thumb Capping of higher values is done (uptil 99th percentile) and Flooring of small values is done (uptil 1st percentile) to avoid biasing in model__\n",
    "* __Treat separately__: If there are significant number of outliers, we should treat them separately in the statistical model. One of the approaches is to treat both groups as two different groups and build individual model for both groups and then combine the output. Since in our case we have only 2 rows (almost 0.14% of the data), which has values different from the rest. We can perform outlier treatment by deleting these observations."
   ]
  },
  {
   "cell_type": "markdown",
   "metadata": {},
   "source": [
    "### 2.9.2.1 Remove outliers (IQR)\n",
    "\n",
    "Hint: extract quartile from describe()"
   ]
  },
  {
   "cell_type": "code",
   "execution_count": null,
   "metadata": {},
   "outputs": [],
   "source": [
    "# Calculate first and third quartile\n",
    "first_quartile = data['Site EUI (kBtu/ft²)'].describe()['25%']\n",
    "third_quartile = data['Site EUI (kBtu/ft²)'].describe()['75%']"
   ]
  },
  {
   "cell_type": "code",
   "execution_count": null,
   "metadata": {},
   "outputs": [],
   "source": [
    "# Interquartile range\n",
    "iqr = third_quartile - first_quartile"
   ]
  },
  {
   "cell_type": "code",
   "execution_count": null,
   "metadata": {},
   "outputs": [],
   "source": [
    "# Remove outliers\n",
    "data = data[(data['Site EUI (kBtu/ft²)'] > (first_quartile - 3 * iqr)) &\n",
    "            (data['Site EUI (kBtu/ft²)'] < (third_quartile + 3 * iqr))]\n"
   ]
  },
  {
   "cell_type": "code",
   "execution_count": null,
   "metadata": {},
   "outputs": [],
   "source": [
    "figsize(8, 8)\n",
    "plt.hist(data['Site EUI (kBtu/ft²)'].dropna(),\n",
    "        bins=20,\n",
    "        edgecolor='black');\n",
    "plt.xlabel('Site EUI');\n",
    "plt.ylabel('count');\n",
    "plt.title('Site EUI distribution')"
   ]
  },
  {
   "cell_type": "markdown",
   "metadata": {},
   "source": [
    "## Brain teaser question \n",
    "\n",
    "<mark>__Should we do outlier treatment before data exploration?__<mark>\n",
    "\n",
    "Think about what could happen if we don't do outlier treatment and then go ahead with data exploration?\n",
    "\n",
    "Not so straightforward, is it?\n",
    "\n",
    "Let's think about it this way. Suppose one of the independent feature contains outlier and we go ahead with data exploration without doing outlier treatment. \n",
    "\n",
    "Let's take an __example__- let's check the frequency distribution of Site EUI before doing outlier treatment."
   ]
  },
  {
   "cell_type": "code",
   "execution_count": null,
   "metadata": {},
   "outputs": [],
   "source": [
    "figsize(8, 8)\n",
    "plt.hist(data_copy['Site EUI (kBtu/ft²)'].dropna(),\n",
    "        bins=20,\n",
    "        edgecolor='black');\n",
    "plt.xlabel('Site EUI');\n",
    "plt.ylabel('count');\n",
    "plt.title('Site EUI distribution')"
   ]
  },
  {
   "cell_type": "markdown",
   "metadata": {},
   "source": [
    "We have seen this graph before, haven't we?<br>\n",
    "Refer to the outlier detection section and you will see a frequency distribution graph of Site EUI after outlier treatment. Now compare that graph with this.<br>\n",
    "\n",
    "Do you see any difference?<br>\n",
    "Are you able to draw conclusion about the distribution of values in Site EUI column?<br>\n",
    "\n",
    "No, right? <br>\n",
    "This is because of the presence of an outlier and that's why the x axis is stretched to accommodate that point."
   ]
  },
  {
   "cell_type": "markdown",
   "metadata": {},
   "source": [
    "## 2.10 Feature Engineering \n",
    "\n",
    "Feature engineering is the process of transforming raw data into features that better represent the underlying problem to the predictive models, resulting in improved model accuracy on unseen data.<br>\n",
    "Feature engineering answers this question: what is the best representation of the sample data to learn a solution to your problem?<br>\n",
    "Feature engineering encompasses a lot of concepts like feature selection, feature construction etc. Let's discuss two these concepts in detail."
   ]
  },
  {
   "cell_type": "markdown",
   "metadata": {},
   "source": [
    "### 2.10.1 Feature construction "
   ]
  },
  {
   "cell_type": "markdown",
   "metadata": {},
   "source": [
    "### Derived Features\n",
    "\n",
    "Existing features in the data set can only give you so much accuracy. What else can we do to increase the model accuracy?\n",
    "This is where feature construction becomes helpful.<br>\n",
    "\n",
    "With tabular data, it often means a mixture of aggregating or combining features to create new features, and decomposing or splitting features to create new features.\n",
    "\n",
    "With textual data, it often means devising document or context specific indicators relevant to the problem. With image data, it can often mean enormous amounts of time prescribing automatic filters to pick out relevant structures.\n",
    "\n",
    "Some real case __examples__:\n",
    "\n",
    "* Let's say you are building a cross sell model for an insurance client. You have a date in the data when a customer bought the first product from your company and he/she is still active. Using this information, you can derive a feature which will indicate the life span of the customer. Hypothesis would be higher the life span of the customer, higher the chances that he/she will go for another product\n",
    "* On similar problem, we can count the number of products a customer has and create a derived feature using this idea. Hypothesis would be higher the number of products owned by a customer, higher the chances that he/she will go for another product."
   ]
  },
  {
   "cell_type": "markdown",
   "metadata": {},
   "source": [
    "### 2.10.2 Variable Transformation - Numeric\n",
    "\n",
    "__Variable transformation in data modelling__ \n",
    "\n",
    "* Transformation refers to the replacement of a variable by a function. For instance, replacing a variable x by the square / cube root or logarithm x is a transformation. In other words, transformation is a process that changes the distribution or relationship of a variable with others. \n",
    "\n",
    "__Why should we use Variable Transformation?__\n",
    "\n",
    "* When we want to change the scale of a variable or standardize the values of a variable for better understanding. While this transformation is a must if you have data in different scales, this transformation does not change the shape of the variable distribution. \n",
    "* When we can transform complex non-linear relationships into linear relationships. Existence of a linear relationship between variables is easier to comprehend compared to a non-linear or curved relation. Transformation helps us to convert a non-linear relation into linear relation. Scatter plot can be used to find the relationship between two continuous variables. These transformations also improve the prediction. Log transformation is one of the commonly used transformation techniques used in these situations.\n",
    "\n",
    "__What are the common methods of Variable Transformation?__\n",
    "\n",
    "There are various methods used to transform variables. Some of them include:\n",
    "* Square root\n",
    "* Cube root\n",
    "* Logarithmic\n",
    "* Binning\n",
    "* Reciprocal \n",
    "* and many others\n",
    "* Logarithm: Log of a variable is a common transformation method used to change the shape of distribution of the variable on a distribution plot. It is generally used for reducing right skewness of variables. Though, It can’t be applied to zero or negative values as well.\n",
    "\n",
    "__An example on when we use which type of transformation__\n",
    "\n",
    "* __Log transformation__: The log transformation can be used to make highly skewed distributions less skewed. This can be valuable both for making patterns in the data more interpretable and for helping to meet the assumptions of inferential statistics."
   ]
  },
  {
   "cell_type": "markdown",
   "metadata": {},
   "source": [
    "<div style=\"width: 80%; display: inline-block; text-align: center;\">\n",
    "        <img src=\"images/log_example.gif\" height=\"800\">\n",
    "</div>"
   ]
  },
  {
   "cell_type": "markdown",
   "metadata": {},
   "source": [
    "Picture above shows an example of how a log transformation can make patterns more visible. Both graphs plot the brain weight of animals as a function of their body weight. The raw weights are shown in the upper panel; the log-transformed weights are plotted in the lower panel.\n",
    "It is hard to discern a pattern in the upper panel whereas the strong relationship is shown clearly in the right panel."
   ]
  },
  {
   "cell_type": "markdown",
   "metadata": {},
   "source": [
    "<mark>__Observation__<mark>\n",
    "\n",
    "* <mark>Certain transformations can't be applied to negative values like log transformation, square root etc.<mark>\n",
    "* <mark>Exponential transformation of a very large value might result in infinite value as an output.<mark>"
   ]
  },
  {
   "cell_type": "markdown",
   "metadata": {},
   "source": [
    "To account for possible __non-linear relationships__, we can take square root and natural log transformations of the features and then calculate the correlation coefficients with the score."
   ]
  },
  {
   "cell_type": "markdown",
   "metadata": {},
   "source": [
    "#### Take square root and natural log transformations of the features\n",
    "\n",
    "[numpy.sqrt()](https://docs.scipy.org/doc/numpy-1.15.0/reference/generated/numpy.sqrt.html)\n",
    "[numpy.log()](https://docs.scipy.org/doc/numpy-1.15.0/reference/generated/numpy.log.html)"
   ]
  },
  {
   "cell_type": "code",
   "execution_count": null,
   "metadata": {},
   "outputs": [],
   "source": [
    "numeric_subset = data.select_dtypes('number')\n",
    "\n",
    "for col in numeric_subset.columns:\n",
    "    # Skip the Energy Star Score column\n",
    "    if col == 'score':\n",
    "        next\n",
    "    else:\n",
    "        numeric_subset['sqrt_' + col] = np.sqrt(numeric_subset[col])\n",
    "        numeric_subset['log_' + col] = np.log(numeric_subset[col])"
   ]
  },
  {
   "cell_type": "markdown",
   "metadata": {},
   "source": [
    "### 2.10.3 Dummy encoding - Categorical \n",
    "\n",
    "__What is dummy encoding and why do we do it?__\n",
    "\n",
    "* Many machine learning algorithms cannot operate on label data directly. They require all input variables and output variables to be numeric. This means that categorical variable must be converted to a numerical form and this conversion is known as dummy encoding\n",
    "* It is useful to take categorical variable as a predictor in statistical models. Categorical variable can take values 0 and 1\n",
    "\n",
    "**Example:** Let’s take a variable ‘gender’. We can produce two variables, namely, “Var_Male” with values 1 (Male) and 0 (No male) and “Var_Female” with values 1 (Female) and 0 (No Female). We can also create dummy variables for more than two classes of a categorical variables with n or n-1 dummy variables in a similar way.\n",
    "\n",
    "To try and capture any possible relationships between the borough or building type (remember these are categorical variables) and the score we will have to one-hot encode these columns."
   ]
  },
  {
   "cell_type": "markdown",
   "metadata": {},
   "source": [
    "[pandas.get_dummies](https://pandas.pydata.org/pandas-docs/stable/generated/pandas.get_dummies.html)"
   ]
  },
  {
   "cell_type": "markdown",
   "metadata": {},
   "source": [
    "**One-hot encoding for categorical variables**\n",
    "\n",
    "Below code creates dummies of 2 categorical variables using get_dummies function in python."
   ]
  },
  {
   "cell_type": "code",
   "execution_count": null,
   "metadata": {},
   "outputs": [],
   "source": [
    "categorical_subset = data[['Borough', 'Largest Property Use Type']]\n",
    "categorical_subset = pd.get_dummies(categorical_subset, drop_first = True)\n",
    "\n",
    "categorical_subset.head()"
   ]
  },
  {
   "cell_type": "markdown",
   "metadata": {},
   "source": [
    "<mark>__Observation__<mark>\n",
    "\n",
    "* <mark>Borough variable have 5 distinct values. After creating dummies, 4 new continuous variables have been created as can be seen above.<mark>\n",
    "* <mark>5th variable has been dropped randomly because 5th variable provides redundant information. If we know the values present inside any 4 columns created from borough column, then we can easily guess what is the value inside the 5th column.<mark>\n",
    "* <mark>This is exactly what drop_first snippet inside pd.get_dummies do<mark>\n",
    "* <mark>This is why we get n-1 variables when we convert a categorical variable with n distinct values to a numeric variable<mark>"
   ]
  },
  {
   "cell_type": "markdown",
   "metadata": {},
   "source": [
    "**One-hot encoding for ordinal variables**\n",
    "\n",
    "__What are ordinal variables?__\n",
    "\n",
    "A ordinal variable, is one where the order matters but not the difference between values. For example, you might ask patients to express the amount of pain they are feeling on a scale of 1 to 10. A score of 7 means more pain that a score of 5, and that is more than a score of 3. But the difference between the 7 and the 5 may not be the same as that between 5 and 3. The values simply express an order."
   ]
  },
  {
   "cell_type": "markdown",
   "metadata": {},
   "source": [
    "<mark>__NOTE__<mark>\n",
    "\n",
    "<mark>In order to create dummy on ordinal variable, we need to follow the exact same process which we followed for nominal categorical variables above.<mark>"
   ]
  },
  {
   "cell_type": "markdown",
   "metadata": {},
   "source": [
    "### 2.10.4 Feature Selection \n",
    "\n",
    "__What is it?__\n",
    "\n",
    "Feature Selection is the process where you automatically or manually select those features which contribute the most to your prediction variable or output in which you are interested in.\n",
    "\n",
    "__Why is it important?__\n",
    "\n",
    "Machine learning works on a simple rule – if you put garbage in, you will only get garbage to come out. By garbage here, I mean noise in data. Feature selection becomes even more important when the number of features are very large. You need not use every feature at your disposal for creating an algorithm. You can assist your algorithm by feeding in only those features that are really important.\n",
    "* It enables the machine learning algorithm to train faster.\n",
    "* It reduces the complexity of a model and makes it easier to interpret.\n",
    "* It improves the accuracy of a model if the right subset is chosen.\n",
    "* It reduces overfitting.\n",
    "\n",
    "There are plenty of more methods for feature selection. Some popular methods include principal components analysis (PCA) which transforms the features into a reduced number of dimensions that preserve the greatest variance, or independent components analysis (ICA) which aims to find the independent sources in a set of features. However, while these methods are effective at reducing the number of features, they create new features that have no physical meaning and hence make interpreting a model nearly impossible."
   ]
  },
  {
   "cell_type": "markdown",
   "metadata": {},
   "source": [
    "### 2.10.5 Variable Reduction "
   ]
  },
  {
   "cell_type": "markdown",
   "metadata": {},
   "source": [
    "__What is variable reduction?__\n",
    "\n",
    "Variable reduction is a crucial step for accelerating model building without losing the potential predictive power of the data. It is one of the ways to perform feature selection.\n",
    "\n",
    "__Why is it important?__\n",
    "\n",
    "It serves as a fundamental technique to identify those variables which are most efficient and effective for a given problem and features which are not able to explain the dependent variable are dropped.\n",
    "\n",
    "__Common methods to perform Variable Reduction?__\n",
    "\n",
    "1. __Missing Values__: Drop the variables - if we have too many missing values. It has already been explained in this notebook above.\n",
    "\n",
    "\n",
    "2. __Low Variance__: Drop variables having low variance compared to others because these variables will not explain the variation in target variables.\n",
    "\n",
    "\n",
    "3. __High Correlation__: Dimensions exhibiting higher correlation can lower down the performance of model. Moreover, it is not good to have multiple variables of similar information or variation also known as “Multicollinearity”. VIF (variance inflation factor) is used to detect multicollinearity. Variables having higher value ( VIF > 5 ) can be dropped. We will discuss multicollinearity in detail in subsequent sessions.\n",
    "\n",
    "\n",
    "4. __Factor Analysis__: Let’s say some variables are highly correlated. These variables can be grouped by their correlations i.e. all variables in a particular group can be highly correlated among themselves but have low correlation with variables of other group(s). Here each group represents a single underlying construct or factor. These factors are small in number as compared to large number of dimensions. However, these factors are difficult to observe. There are basically two methods of performing factor analysis:\n",
    "\n",
    "    * EFA (Exploratory Factor Analysis)\n",
    "    * CFA (Confirmatory Factor Analysis)\n",
    "\n",
    "\n",
    "\n",
    "5. __Principal Component Analysis (PCA)__: In this technique, variables are transformed into a new set of variables, which are linear combination of original variables. These new set of variables are known as principal components. They are obtained in such a way that first principal component accounts for most of the possible variation of original data after which each succeeding component has the highest possible variance.  \n",
    "The second principal component must be orthogonal to the first principal component. In other words, it does its best to capture the variance in the data that is not captured by the first principal component. For two-dimensional dataset, there can be only two principal components. Below is a snapshot of the data and its first and second principal components."
   ]
  },
  {
   "cell_type": "markdown",
   "metadata": {},
   "source": [
    "<div style=\"width: 80%; display: inline-block; text-align: center;\">\n",
    "        <img src=\"images/pca.png\" height=\"500\" width=\"500\">\n",
    "</div>"
   ]
  },
  {
   "cell_type": "markdown",
   "metadata": {},
   "source": [
    "You can notice that second principal component is orthogonal (perpendicular) to first principle component. "
   ]
  },
  {
   "cell_type": "markdown",
   "metadata": {},
   "source": [
    "### 2.10.5.1 Correlation\n",
    "\n",
    "Correlation is a statistical technique that can show whether and how strongly pairs of variables are related.<br>\n",
    "For __example__, height and weight are related; taller people tend to be heavier than shorter people. The relationship isn't perfect. People of the same height vary in weight, and you can easily think of two people you know where the shorter one is heavier than the taller one. Nonetheless, the average weight of people 5'5'' is less than the average weight of people 5'6'', and their average weight is less than that of people 5'7'', etc. \n",
    "\n",
    "Correlation can tell you just how much of the variation in peoples' weights is related to their heights."
   ]
  },
  {
   "cell_type": "markdown",
   "metadata": {},
   "source": [
    "#### Correlation between two continuous variables\n",
    "\n",
    "__Pearson correlation method__: In order to quantify correlations between the features (variables) and the target, we can calculate the Pearson correlation coefficient. This is a measure of the strength and direction of a linear relationship between two variables: a value of -1 means the two variables are perfectly negatively linearly correlated and a value of +1 means the two variables are perfectly positively linearly correlated.<br>\n",
    "Since dependent variables in this problem is a continuous variable, we can check for correlation between all continuous independent variables and the dependent variable using Pearson correlation method."
   ]
  },
  {
   "cell_type": "markdown",
   "metadata": {},
   "source": [
    "__Find correlation between features and the target__\n",
    "\n",
    "[df.corr()](https://pandas.pydata.org/pandas-docs/stable/generated/pandas.DataFrame.corr.html)"
   ]
  },
  {
   "cell_type": "code",
   "execution_count": null,
   "metadata": {},
   "outputs": [],
   "source": [
    "correlations_data = data.corr()['score'].sort_values()\n",
    "\n",
    "print(correlations_data.head(15), '\\n')\n",
    "\n",
    "print(correlations_data.tail(15))"
   ]
  },
  {
   "cell_type": "markdown",
   "metadata": {},
   "source": [
    "<mark>__Observations:__ There are several strong negative correlations between the features and the target<mark>\n",
    "* <mark>The most negative correlations with the score are the different categories of Energy Use Intensity (EUI), Site EUI (kBtu/ft²) and  Weather Normalized Site EUI (kBtu/ft²) (these vary slightly in how they are calculated).<mark>\n",
    "* <mark>The EUI is the amount of energy used by a building divided by the square footage of the buildings and is meant to be a measure of the efficiency of a building with a lower score being better. Intuitively, these correlations then make sense: as the EUI increases, the Energy Star Score tends to decrease.<mark>"
   ]
  },
  {
   "cell_type": "markdown",
   "metadata": {},
   "source": [
    "We can also visually identify correlation between two continuous variables by drawing Pearson correlation matrix. "
   ]
  },
  {
   "cell_type": "code",
   "execution_count": null,
   "metadata": {
    "scrolled": true
   },
   "outputs": [],
   "source": [
    "data.columns"
   ]
  },
  {
   "cell_type": "code",
   "execution_count": null,
   "metadata": {},
   "outputs": [],
   "source": [
    "#selecting only a subset of continuous columns from the main data set so that it is easier to visualize the correlation\n",
    "data_corr = data.loc[:, ['Weather Normalized Site EUI (kBtu/ft²)', 'Site EUI (kBtu/ft²)', \n",
    "                         'Weather Normalized Site Electricity Intensity (kWh/ft²)', 'Water Intensity (All Water Sources) (gal/ft²)'\n",
    "                         , 'Community Board', 'Census Tract']]"
   ]
  },
  {
   "cell_type": "code",
   "execution_count": null,
   "metadata": {},
   "outputs": [],
   "source": [
    "#correlation matrix\n",
    "corrmat = data_corr.corr()\n",
    "f, ax = plt.subplots(figsize=(4, 4))\n",
    "sns.heatmap(corrmat, vmax=.6, square=False);"
   ]
  },
  {
   "cell_type": "markdown",
   "metadata": {},
   "source": [
    "<mark>__Observation__<mark>\n",
    "\n",
    "* <mark>Weather Normalized Site EUI (kBtu/ft²) & Site EUI (kBtu/ft²) seems much correlated.<mark>\n",
    "* <mark>If two variables are highly correlated i.e. correlation score > 0.8 then it makes sense to keep only one variable out of the two as both the variables are providing almost the same information<mark>"
   ]
  },
  {
   "cell_type": "markdown",
   "metadata": {},
   "source": [
    "#### [Optional] Correlation between two categorical variables\n",
    "\n",
    "This becomes useful when we need to understand the relationship between a categorical dependent variable and a categorical independent variable.\n",
    "\n",
    "__Chi Square test of independence__\n",
    "\n",
    "The Chi-Square test of independence is used to determine if there is a significant relationship between two nominal (categorical) variables. The frequency of each category for one nominal variable is compared across the categories of the second nominal variable.<br>"
   ]
  },
  {
   "cell_type": "markdown",
   "metadata": {},
   "source": [
    "__What is a contingency table?__\n",
    "\n",
    "A contingency table, sometimes called a two-way frequency table, is a tabular mechanism with at least two rows and two columns used in statistics to present categorical data in terms of frequency counts.\n",
    "This is how a contingency table looks like:"
   ]
  },
  {
   "cell_type": "markdown",
   "metadata": {},
   "source": [
    "<div style=\"width: 80%; display: inline-block; text-align: center;\">\n",
    "        <img src=\"images/contingency.png\" height=\"500\" width=\"400\">\n",
    "</div>"
   ]
  },
  {
   "cell_type": "code",
   "execution_count": null,
   "metadata": {},
   "outputs": [],
   "source": [
    "#code implementation of chi square test\n",
    "contingency_table = pd.crosstab(data['Largest Property Use Type'], data['Borough'])\n",
    "\n",
    "#extracting basic statistics from the chi square output\n",
    "stat, p, dof, expected = chi2_contingency(contingency_table)\n",
    "\n",
    "print('probability=%.3f, stat=%.3f' % (p, stat))"
   ]
  },
  {
   "cell_type": "markdown",
   "metadata": {},
   "source": [
    "<mark>__Observation__<mark>\n",
    "\n",
    "<mark>As p value came out to be less than 0.05, we can say that there is a significant relationship between these two categorical variables<mark>"
   ]
  },
  {
   "cell_type": "markdown",
   "metadata": {},
   "source": [
    "#### [Optional] Correlation between a continuous and a categorical variable\n",
    "\n",
    "What if we have a categorical dependent variable and we want to understand the relationship between the dependent variables and a continuous independent variable?\n",
    "\n",
    "__ANOVA__\n",
    "\n",
    "Analysis of variance (ANOVA) is a statistical technique that is used to check if the means of two or more groups are significantly different from each other. ANOVA checks the impact of one or more factors by comparing the means of different samples.<br>"
   ]
  },
  {
   "cell_type": "code",
   "execution_count": null,
   "metadata": {},
   "outputs": [],
   "source": [
    "#code implementation of ANOVA test\n",
    "results = ols('score ~ Borough', data = data).fit()\n",
    "results.summary()"
   ]
  },
  {
   "cell_type": "markdown",
   "metadata": {},
   "source": [
    "<mark>__Observation__<mark>\n",
    "\n",
    "<mark>As p value came out to be less than 0.05, we can say that there is a significant relationship between these two variables<mark>"
   ]
  },
  {
   "cell_type": "markdown",
   "metadata": {},
   "source": [
    "## 2.11 Splitting DataFrame for Modelling"
   ]
  },
  {
   "cell_type": "markdown",
   "metadata": {},
   "source": [
    "## Train and Test data set <a id='p6.1' />\n",
    "\n",
    "__What is training data set?__\n",
    "\n",
    "Training means creating or learning the model. That is, you show the model labelled examples and enable the model to gradually learn the relationships between features and label.\n",
    "\n",
    "    - Features refer to the independent variables in the data set.\n",
    "    - Label refer to the dependent variable in the data set. This is also known as target.\n",
    "\n",
    "__What is test data set?__\n",
    "\n",
    "A test data set is a labelled data set used to evaluate the model developed from a training set. Model can only be called as a good one if it is performing almost equally well on an unseen data set as it was performing on the training data set.\n",
    "\n",
    "There can be two scenarios with respect to data:\n",
    "\n",
    "* __Scenario 1__\n",
    "\n",
    "Two separate labeled datasets for train and test.\n",
    "-- Hurray! Life is easy and go ahead and apply EDA/data prep to both datasets. Build model using training data and evaluate using test.\n",
    "\n",
    "* __Scenario 2__\n",
    "\n",
    "One labelled dataset as input. Now we have to split that data into two parts - train and test.\n",
    "\n",
    "Now let's see how we can split that data into two parts - train and test.\n",
    "\n",
    "## Train - Test split <a id='p6.2' />\n",
    "\n",
    "- Most common practice, 80% of data as train and 20% as test. Depending on the use case and number of data points you have to fix the optimal train and test size.\n",
    "- In most cases, you will have the 80-20 split as __random__. In some scenarios you might have controlled sampling/stratified sampling for train - test split.\n",
    "- scikit learn package has inbuilt <i>train_test_split</i> module to do random split.\n"
   ]
  },
  {
   "attachments": {
    "image.png": {
     "image/png": "[encoded data removed]"
    }
   },
   "cell_type": "markdown",
   "metadata": {},
   "source": [
    "![image.png](attachment:image.png)"
   ]
  },
  {
   "cell_type": "markdown",
   "metadata": {},
   "source": [
    "## 2.12 Feature scaling\n",
    "\n",
    "__What is feature scaling?__\n",
    "\n",
    "Feature scaling is a method used to standardize the range of independent variables or features of data.\n",
    "\n",
    "__Why is it important?__\n",
    "\n",
    "Scaling the features is necessary because features are in different units, and we want to normalize the features so the units do not affect the algorithm. __Decision Tree and Random Forest do not require feature scaling__, but other methods, such as support vector machines and k nearest neighbours, do require it because they take into account the Euclidean distance between observations. For this reason, it is a best practice to scale features when we are comparing multiple algorithms.\n",
    "\n",
    "__How it is done?__\n",
    "\n",
    "There are two ways to scale features:\n",
    "* For each value, subtract the mean of the feature and divide by the standard deviation of the feature. This is known as standardization and results in each feature having a mean of 0 and a standard deviation of 1. This is exactly what StandardScaler() does\n",
    "* For each value, subtract the minimum value of the feature and divide by the maximum minus the minimum for the feature (the range). This assures that all the values for a feature are between 0 and 1 and is called scaling to a range or normalization. This is exactly what MinMaxScaler() does"
   ]
  },
  {
   "cell_type": "markdown",
   "metadata": {},
   "source": [
    "### 2.12.1 Standard Scaler\n",
    "\n",
    "* StandardScaler scales the features such that they have a mean of 0 and a standard deviation of 1.\n",
    "* It transforms the data to have a standard normal distribution, centered around 0.\n",
    "* This scaling is suitable for algorithms that assume that the features are normally distributed, such as many linear models, gradient descent-based algorithms, and SVM.\n",
    "* It works well when the features have significantly different scales, and it helps to prevent the domination of certain features over others during the learning process."
   ]
  },
  {
   "cell_type": "code",
   "execution_count": null,
   "metadata": {},
   "outputs": [],
   "source": [
    "ss_scaler = StandardScaler()\n",
    "\n",
    "ss_scaler.fit(data.select_dtypes(np.number).dropna())\n",
    "\n",
    "##### Below will return a numpy matrix which is scaled\n",
    "X = ss_scaler.transform(data.select_dtypes(np.number).dropna())\n",
    "X"
   ]
  },
  {
   "cell_type": "markdown",
   "metadata": {},
   "source": [
    "### 2.12.2 Min Max Scaler\n",
    "\n",
    "* MinMaxScaler scales the features to a specified range, typically between 0 and 1.\n",
    "* It linearly transforms the features such that the minimum value of each feature becomes 0, and the maximum value becomes 1.\n",
    "* MinMax scaling is useful when the features have different ranges, and you want to bring them all into a common range.\n",
    "* It is suitable for algorithms that use distances or similarities between data points, such as k-nearest neighbors and neural networks.\n",
    "* MinMax scaling preserves the relative relationships between the data points."
   ]
  },
  {
   "cell_type": "code",
   "execution_count": null,
   "metadata": {},
   "outputs": [],
   "source": [
    "mm_scaler = MinMaxScaler(feature_range=(0, 1))\n",
    "\n",
    "mm_scaler.fit(data.select_dtypes(np.number).dropna())\n",
    "\n",
    "##### Below will return a numpy matrix which is scaled\n",
    "X = mm_scaler.transform(data.select_dtypes(np.number).dropna())\n",
    "\n",
    "X"
   ]
  },
  {
   "cell_type": "markdown",
   "metadata": {},
   "source": [
    "## Brain teaser question\n",
    "\n",
    "<mark>__Should we do feature scaling before or after train test split?__<mark>\n",
    "\n",
    "Think about it for a moment. Many machine learning practitioners still make mistake when it comes to this."
   ]
  },
  {
   "cell_type": "markdown",
   "metadata": {},
   "source": [
    "Don' forget the point that we want to test the model on an unseen data set. Feature normalization of the explanatory variables is a technique used to centre and normalise the data by subtracting the mean and dividing by the variance. If you take the mean and variance of the whole dataset you'll be introducing future information into the training explanatory variables (i.e. the mean and variance) which is wrong.\n",
    "\n",
    "Therefore, __you should perform feature normalisation over the training data__. Then perform normalisation on testing instances as well, but this time using the mean and variance of training explanatory variables. In this way, we can test and evaluate whether our model can generalize well to new, unseen data points."
   ]
  },
  {
   "cell_type": "markdown",
   "metadata": {},
   "source": [
    "# 3. Hands-On Practice Exercise <a id='p3' />\n",
    "\n",
    "We will use the `titanic dataset` from seaborn library to work on this Hands-On Practice Exercise.\n",
    "\n",
    "You may use ChatGPT to complete this exercise."
   ]
  },
  {
   "cell_type": "code",
   "execution_count": null,
   "metadata": {},
   "outputs": [],
   "source": [
    "# load the dataset\n",
    "titanic = sns.load_dataset('titanic')\n",
    "titanic.head(10)"
   ]
  },
  {
   "cell_type": "markdown",
   "metadata": {},
   "source": [
    "**Task 1: Impute Missing values**\n",
    "\n",
    "* 1.1 For the 'age' column, replace missing values with the median age of passengers.\n",
    "* 1.2 For the 'embarked' column, replace missing values with the most frequent value.\n",
    "* 1.3 Drop the 'deck' column as it has too many missing values."
   ]
  },
  {
   "cell_type": "code",
   "execution_count": null,
   "metadata": {},
   "outputs": [],
   "source": [
    "# Task 1\n",
    "# 1.1\n"
   ]
  },
  {
   "cell_type": "code",
   "execution_count": null,
   "metadata": {},
   "outputs": [],
   "source": [
    "# 1.2\n"
   ]
  },
  {
   "cell_type": "code",
   "execution_count": null,
   "metadata": {},
   "outputs": [],
   "source": [
    "# 1.3 \n"
   ]
  },
  {
   "cell_type": "markdown",
   "metadata": {},
   "source": [
    "**Task 2: Perform one hot encoding on the pclass column and embarked column**"
   ]
  },
  {
   "cell_type": "code",
   "execution_count": null,
   "metadata": {},
   "outputs": [],
   "source": [
    "# Task 2\n"
   ]
  },
  {
   "cell_type": "markdown",
   "metadata": {},
   "source": [
    "**Task 3: Split the data into features and target; then into training and testing**"
   ]
  },
  {
   "cell_type": "code",
   "execution_count": null,
   "metadata": {},
   "outputs": [],
   "source": [
    "# Task 3:\n"
   ]
  },
  {
   "cell_type": "markdown",
   "metadata": {},
   "source": [
    "**Task 4: Scale the 'age' and 'fare' columns using Standardization**\n"
   ]
  },
  {
   "cell_type": "code",
   "execution_count": null,
   "metadata": {},
   "outputs": [],
   "source": [
    "# Task 4:\n"
   ]
  },
  {
   "cell_type": "code",
   "execution_count": null,
   "metadata": {},
   "outputs": [],
   "source": []
  },
  {
   "cell_type": "markdown",
   "metadata": {},
   "source": [
    "##### The End\n",
    "[Back to Content](#tc)"
   ]
  },
  {
   "cell_type": "markdown",
   "metadata": {},
   "source": [
    "Copyright © 2023 by Boston Consulting Group. All rights reserved."
   ]
  }
 ],
 "metadata": {
  "kernelspec": {
   "display_name": "Python 3 (ipykernel)",
   "language": "python",
   "name": "python3"
  },
  "language_info": {
   "codemirror_mode": {
    "name": "ipython",
    "version": 3
   },
   "file_extension": ".py",
   "mimetype": "text/x-python",
   "name": "python",
   "nbconvert_exporter": "python",
   "pygments_lexer": "ipython3",
   "version": "3.11.5"
  },
  "toc": {
   "base_numbering": 1,
   "nav_menu": {},
   "number_sections": true,
   "sideBar": true,
   "skip_h1_title": false,
   "title_cell": "Contents of Notebook",
   "title_sidebar": "Contents",
   "toc_cell": true,
   "toc_position": {
    "height": "689px",
    "left": "26px",
    "top": "110px",
    "width": "374px"
   },
   "toc_section_display": true,
   "toc_window_display": false
  },
  "varInspector": {
   "cols": {
    "lenName": 16,
    "lenType": 16,
    "lenVar": 40
   },
   "kernels_config": {
    "python": {
     "delete_cmd_postfix": "",
     "delete_cmd_prefix": "del ",
     "library": "var_list.py",
     "varRefreshCmd": "print(var_dic_list())"
    },
    "r": {
     "delete_cmd_postfix": ") ",
     "delete_cmd_prefix": "rm(",
     "library": "var_list.r",
     "varRefreshCmd": "cat(var_dic_list()) "
    }
   },
   "types_to_exclude": [
    "module",
    "function",
    "builtin_function_or_method",
    "instance",
    "_Feature"
   ],
   "window_display": false
  }
 },
 "nbformat": 4,
 "nbformat_minor": 4
}
