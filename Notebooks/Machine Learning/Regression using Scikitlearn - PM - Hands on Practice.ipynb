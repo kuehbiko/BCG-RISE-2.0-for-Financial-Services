{
 "cells": [
  {
   "cell_type": "markdown",
   "id": "4d40ad61",
   "metadata": {},
   "source": [
    "<table class=\"table table-bordered\">\n",
    "    <tr>\n",
    "        <th style=\"width:200px;\">\n",
    "            <img src='https://bcgriseacademy.com/hs-fs/hubfs/RISE%202.0%20Logo_Options_25Jan23_RISE%20-%20For%20Black%20Background.png?width=3522&height=1986&name=RISE%202.0%20Logo_Options_25Jan23_RISE%20-%20For%20Black%20Background.png' style=\"background-color:black; width: 100%; height: 100%;\">\n",
    "        </th>\n",
    "        <th style=\"text-align:center;\">\n",
    "            <h1>RISE2.0 Business and Data Analytics</h1>\n",
    "            <h2>IU 3.7.4 Linear Regression Part 2 Hands On Practice</h2>\n",
    "        </th>\n",
    "    </tr>\n",
    "</table>"
   ]
  },
  {
   "cell_type": "markdown",
   "id": "e1890f37",
   "metadata": {},
   "source": [
    "### Multiple Linear Regression"
   ]
  },
  {
   "cell_type": "markdown",
   "id": "c30770da",
   "metadata": {},
   "source": [
    "### Please use the dataset below to create a Multiple Linear Regresssion Model\n",
    "Independent Variables=[[0, 1], [5, 1], [15, 2], [25, 5], [35, 11], [45, 15], [55, 34], [60, 35]]\n",
    "\n",
    "Dependent Variable=[15, 40, 28, 76, 38, 76, 89]\n",
    "\n",
    "1. Create a Multiple Linear Regression Model\n",
    "2. Calculate R²\n",
    "3. Calculate Model Intercept and Model Coefficient\n",
    "4. Calculate Estimated y value\n",
    "5. Evaluate the accuracy of the model\n",
    "6. Plot actual response and the estimated response\n",
    "7. Plot regression line and the residuals\n"
   ]
  },
  {
   "cell_type": "code",
   "execution_count": null,
   "id": "6d2130a4",
   "metadata": {},
   "outputs": [],
   "source": [
    "# Write your code here"
   ]
  },
  {
   "cell_type": "markdown",
   "id": "0d4b4c6e",
   "metadata": {},
   "source": [
    "### Polynomial Regression"
   ]
  },
  {
   "cell_type": "markdown",
   "id": "22a7e4ef",
   "metadata": {},
   "source": [
    "### Please use the dataset below to create a Polynomial Regresssion Model\n",
    "Independent Variables=[5, 15, 25, 35, 45, 55]\n",
    "\n",
    "Dependent Variable=[15, 11, 2, 8, 25, 32]\n",
    "\n",
    "1. Create a Quadratic Polynomial Regression Model (degrees=2)\n",
    "2. Calculate Model Intercept and Model Coefficient\n",
    "3. Calculate R²\n",
    "5. Calculate Estimated y value\n",
    "6. Evaluate the accuracy of the model\n",
    "7. Visualise the model with degrees(2,3,4,5) and compare the same \n"
   ]
  },
  {
   "cell_type": "code",
   "execution_count": null,
   "id": "5b07b2f8",
   "metadata": {},
   "outputs": [],
   "source": [
    "#### Write your code here"
   ]
  }
 ],
 "metadata": {
  "kernelspec": {
   "display_name": "Python 3 (ipykernel)",
   "language": "python",
   "name": "python3"
  },
  "language_info": {
   "codemirror_mode": {
    "name": "ipython",
    "version": 3
   },
   "file_extension": ".py",
   "mimetype": "text/x-python",
   "name": "python",
   "nbconvert_exporter": "python",
   "pygments_lexer": "ipython3",
   "version": "3.10.1"
  }
 },
 "nbformat": 4,
 "nbformat_minor": 5
}
