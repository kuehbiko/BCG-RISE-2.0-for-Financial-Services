{
 "cells": [
  {
   "cell_type": "markdown",
   "id": "077a7d1e",
   "metadata": {},
   "source": [
    "<table class=\"table table-bordered\">\n",
    "    <tr>\n",
    "        <th style=\"width:200px;\">\n",
    "            <img src='https://bcgriseacademy.com/hs-fs/hubfs/RISE%202.0%20Logo_Options_25Jan23_RISE%20-%20For%20Black%20Background.png?width=3522&height=1986&name=RISE%202.0%20Logo_Options_25Jan23_RISE%20-%20For%20Black%20Background.png' style=\"background-color:black; width: 100%; height: 100%;\">\n",
    "        </th>\n",
    "        <th style=\"text-align:center;\">\n",
    "            <h1>IBF TFIP</h1>\n",
    "            <h2>Tree Based Algorithms</h2>\n",
    "        </th>\n",
    "    </tr>\n",
    "</table>"
   ]
  },
  {
   "cell_type": "markdown",
   "id": "12b280d5",
   "metadata": {},
   "source": [
    "### We'll start by importing the required libraries and loading the Breast Cancer dataset\n",
    "\n",
    "1. Create various Ensemble Models\n",
    "2. Fit the Model \n",
    "3. Get Confusion matrix, Plot ROC curve\n",
    "4. Apply Grid Search to identify best params\n",
    "5. Calculate predicted value\n",
    "6. Get model accuracy metrics\n",
    "7. Plot ROC Curve"
   ]
  },
  {
   "cell_type": "code",
   "execution_count": null,
   "id": "97761f36",
   "metadata": {},
   "outputs": [],
   "source": [
    "# load libraries\n",
    "%matplotlib inline\n",
    "import pandas as pd\n",
    "import numpy as np\n",
    "import math as m\n",
    "import matplotlib.pyplot as plt\n",
    "import seaborn as sns\n",
    "import time\n",
    "import random\n",
    "from sklearn.model_selection import train_test_split\n",
    "from sklearn.ensemble import RandomForestClassifier, GradientBoostingClassifier\n",
    "from sklearn.metrics import accuracy_score, confusion_matrix, classification_report\n",
    "\n",
    "import warnings\n",
    "warnings.filterwarnings('ignore')"
   ]
  },
  {
   "cell_type": "code",
   "execution_count": null,
   "id": "f17755b6",
   "metadata": {},
   "outputs": [],
   "source": [
    "# Load the Breast Cancer dataset\n",
    "\n",
    "from sklearn.datasets import load_breast_cancer\n",
    "\n",
    "data = load_breast_cancer()\n",
    "X, y = data.data, data.target"
   ]
  },
  {
   "cell_type": "code",
   "execution_count": null,
   "id": "decdf5a5",
   "metadata": {},
   "outputs": [],
   "source": [
    "# Split the dataset into training and testing sets\n"
   ]
  },
  {
   "cell_type": "markdown",
   "id": "2f6da113",
   "metadata": {},
   "source": [
    "### Random Forest Classifier\n",
    "Create and fit the Random Forest Classifier model."
   ]
  },
  {
   "cell_type": "code",
   "execution_count": null,
   "id": "3138c030",
   "metadata": {},
   "outputs": [],
   "source": [
    "# Create a RandomForestClassifier\n"
   ]
  },
  {
   "cell_type": "code",
   "execution_count": null,
   "id": "89bdcf60",
   "metadata": {},
   "outputs": [],
   "source": [
    "# Fit the training data to the model\n"
   ]
  },
  {
   "cell_type": "code",
   "execution_count": null,
   "id": "a31a472b",
   "metadata": {},
   "outputs": [],
   "source": [
    "# Use the model to make predictions on the test data\n"
   ]
  },
  {
   "cell_type": "code",
   "execution_count": null,
   "id": "ef4d2f86",
   "metadata": {},
   "outputs": [],
   "source": [
    "# For reference: Feature Importance\n",
    "# feat_imp={'Columns':x_train.columns.values,'Coefficients':rf.feature_importances_}\n",
    "# feat_imp=pd.DataFrame()\n",
    "# feat_imp['Features']=x_train.columns.values\n",
    "# feat_imp['importance']=rf.feature_importances_\n",
    "# feat_imp=feat_imp.sort_values(by='importance', ascending=False)\n",
    "# sns.barplot(y=\"Features\", x=\"importance\", data=feat_imp)"
   ]
  },
  {
   "cell_type": "code",
   "execution_count": null,
   "id": "2063640f",
   "metadata": {},
   "outputs": [],
   "source": [
    "# Generate confusion matrix based on test data predictions\n"
   ]
  },
  {
   "cell_type": "code",
   "execution_count": null,
   "id": "04609d6a",
   "metadata": {},
   "outputs": [],
   "source": [
    "# Generate classification report based on test data predictions\n"
   ]
  },
  {
   "cell_type": "code",
   "execution_count": null,
   "id": "846317fa",
   "metadata": {},
   "outputs": [],
   "source": [
    "# Plot ROC curve for model\n"
   ]
  },
  {
   "cell_type": "markdown",
   "id": "e3279001",
   "metadata": {},
   "source": [
    "<font><font style=\"font-family:Trebuchet MS;\">\n",
    "<a id=\"section6\"></a>\n",
    "\n",
    "#### Perform Hyperparameter Optimization<br>"
   ]
  },
  {
   "cell_type": "code",
   "execution_count": null,
   "id": "974066c1",
   "metadata": {},
   "outputs": [],
   "source": [
    "# Create a new RandomForestClassifier model\n"
   ]
  },
  {
   "cell_type": "code",
   "execution_count": null,
   "id": "1c927ee6",
   "metadata": {},
   "outputs": [],
   "source": [
    "# Use GridSearch to derive optimal hyperparameters of RandomForestClassifier model\n"
   ]
  },
  {
   "cell_type": "code",
   "execution_count": null,
   "id": "7b5655bf",
   "metadata": {},
   "outputs": [],
   "source": [
    "# Set best parameters given by grid search\n"
   ]
  },
  {
   "cell_type": "code",
   "execution_count": null,
   "id": "080bceb3",
   "metadata": {},
   "outputs": [],
   "source": [
    "# Fit the training data to the model\n"
   ]
  },
  {
   "cell_type": "code",
   "execution_count": null,
   "id": "325f2074",
   "metadata": {},
   "outputs": [],
   "source": [
    "# Use the model to make predictions on the test data\n"
   ]
  },
  {
   "cell_type": "code",
   "execution_count": null,
   "id": "438434f8",
   "metadata": {},
   "outputs": [],
   "source": [
    "# Review the test accuracy scores before and after hyperparameter optimization\n"
   ]
  },
  {
   "cell_type": "markdown",
   "id": "20f0c70a",
   "metadata": {},
   "source": [
    "<font><font style=\"font-family:Trebuchet MS;\">\n",
    "\n",
    "## For Learner Reference (optional reading)\n",
    "### 1. Gradient Boosting Method<br>    "
   ]
  },
  {
   "cell_type": "code",
   "execution_count": null,
   "id": "f8e7c7b2",
   "metadata": {},
   "outputs": [],
   "source": [
    "from sklearn.ensemble import GradientBoostingClassifier\n",
    "start= time.time()\n",
    "gbm0 = GradientBoostingClassifier(random_state=10)\n",
    "gbm0.fit(x_train,y_train)\n",
    "y_pred_gbm=gbm0.predict(x_test)\n",
    "end = time.time()\n",
    "print('Time taken in algo run: {0: .2f}'.format(end - start))"
   ]
  },
  {
   "cell_type": "code",
   "execution_count": null,
   "id": "88364454",
   "metadata": {},
   "outputs": [],
   "source": [
    "# classification report\n",
    "from sklearn import metrics \n",
    "from sklearn.metrics import classification_report\n",
    "from sklearn.metrics import accuracy_score\n",
    "print(\"accuracy score\",round(accuracy_score(y_test, y_pred_gbm),2))\n",
    "print(classification_report(y_test, y_pred_gbm))"
   ]
  },
  {
   "cell_type": "code",
   "execution_count": null,
   "id": "60b2346d",
   "metadata": {},
   "outputs": [],
   "source": [
    "from sklearn.model_selection import train_test_split, GridSearchCV\n",
    "gbm_cv = GradientBoostingClassifier(learning_rate=0.1,max_features='sqrt', subsample=0.8, random_state=10)\n",
    "np.random.seed(42)\n",
    "start = time.time()\n",
    "param_test1 = {'max_depth':range(1,20,2), 'min_samples_split':range(2,20,3),'min_samples_leaf':range(1,12,2),'n_estimators':range(20,81,10)}\n",
    "cv_gb_tree1 =GridSearchCV(gbm_cv, cv = 3,\n",
    "                     param_grid = param_test1, scoring='accuracy',n_jobs=4)\n",
    "\n",
    "cv_gb_tree1.fit(x_train,y_train)\n",
    "y_pred_gbm_cv1=cv_gb_tree1.predict(x_test)\n",
    "print('Best Parameters using grid search: \\n',\n",
    "    cv_gb_tree1.best_params_)  \n",
    "end = time.time()\n",
    "print('Time taken in grid search: {0: .2f}'.format(end - start))"
   ]
  },
  {
   "cell_type": "code",
   "execution_count": null,
   "id": "e84c43dc",
   "metadata": {},
   "outputs": [],
   "source": [
    "gbm_cv = GradientBoostingClassifier(learning_rate=0.1,max_depth=9,min_samples_leaf=5,min_samples_split=17,max_features='sqrt', random_state=10,n_estimators=50)\n",
    "np.random.seed(42)\n",
    "start = time.time()\n",
    "param_test2 = {'subsample':[0.6,0.7,0.75,0.8,0.85,0.9]}\n",
    "cv_gb_tree2 =GridSearchCV(gbm_cv, cv = 3,\n",
    "                     param_grid= param_test2, scoring='accuracy',n_jobs=4)\n",
    "\n",
    "cv_gb_tree2.fit(x_train,y_train)\n",
    "y_pred_gbm_cv2=cv_gb_tree2.predict(x_test)\n",
    "print('Best Parameters using grid search: \\n',\n",
    "    cv_gb_tree2.best_params_)  \n",
    "end = time.time()\n",
    "print('Time taken in grid search: {0: .2f}'.format(end - start))"
   ]
  },
  {
   "cell_type": "code",
   "execution_count": null,
   "id": "5f4818d5",
   "metadata": {},
   "outputs": [],
   "source": [
    "gbm1 = GradientBoostingClassifier(max_depth=5,min_samples_leaf=5,min_samples_split=2,subsample=0.77,n_estimators=50,random_state=10)\n",
    "gbm1.fit(x_train,y_train)\n",
    "y_pred_gbm1=gbm1.predict(x_test)\n",
    "print(\"accuracy score\",round(accuracy_score(y_test, y_pred_gbm1),2))\n",
    "print(classification_report(y_test, y_pred_gbm1))"
   ]
  },
  {
   "cell_type": "markdown",
   "id": "9b55b26c",
   "metadata": {},
   "source": [
    "### 2. XGBoost"
   ]
  },
  {
   "cell_type": "code",
   "execution_count": null,
   "id": "6636bc48",
   "metadata": {},
   "outputs": [],
   "source": [
    "import xgboost as xgb\n",
    "from xgboost.sklearn import XGBClassifier"
   ]
  },
  {
   "cell_type": "code",
   "execution_count": null,
   "id": "4ccc7372",
   "metadata": {},
   "outputs": [],
   "source": [
    "start = time.time()\n",
    "xgb = XGBClassifier(learning_rate =0.1,n_estimators=1000,max_depth=5,min_child_weight=1,gamma=0,subsample=0.8,colsample_bytree=0.8,\n",
    " objective= 'binary:logistic',nthread=4,scale_pos_weight=1,seed=27)\n",
    "#xgb= XGBClassifier(nthread=11,objective= 'binary:logistic')\n",
    "xgb.fit(x_train,y_train)\n",
    "y_pred_xgb=xgb.predict(x_test)\n",
    "end = time.time()\n",
    "print('Time taken in algo run: {0: .2f}'.format(end - start))"
   ]
  },
  {
   "cell_type": "code",
   "execution_count": null,
   "id": "d3ab9fdd",
   "metadata": {},
   "outputs": [],
   "source": [
    "# classification report\n",
    "from sklearn import metrics \n",
    "from sklearn.metrics import classification_report\n",
    "from sklearn.metrics import accuracy_score\n",
    "print(\"accuracy score\",round(accuracy_score(y_test, y_pred_xgb),2))\n",
    "print(classification_report(y_test, y_pred_xgb))"
   ]
  },
  {
   "cell_type": "code",
   "execution_count": null,
   "id": "a60ae394",
   "metadata": {},
   "outputs": [],
   "source": [
    "from sklearn.model_selection import train_test_split, GridSearchCV\n",
    "xgb_cv = XGBClassifier(learning_rate=0.1,max_features='sqrt', subsample=0.8, random_state=10)\n",
    "np.random.seed(42)\n",
    "start = time.time()\n",
    "param_test1 = {'max_depth':range(1,20,2), 'min_samples_split':range(2,20,3),'min_samples_leaf':range(1,12,2),'n_estimators':range(20,81,10)}\n",
    "cv_xgb_tree1 =GridSearchCV(xgb_cv, cv = 3,\n",
    "                     param_grid = param_test1, scoring='accuracy',n_jobs=4)\n",
    "\n",
    "cv_xgb_tree1.fit(x_train,y_train)\n",
    "y_pred_xgb_cv1=cv_xgb_tree1.predict(x_test)\n",
    "print('Best Parameters using grid search: \\n',\n",
    "    cv_xgb_tree1.best_params_)  \n",
    "end = time.time()\n",
    "print('Time taken in grid search: {0: .2f}'.format(end - start))"
   ]
  },
  {
   "cell_type": "code",
   "execution_count": null,
   "id": "92766f65",
   "metadata": {},
   "outputs": [],
   "source": [
    "xgb1 = XGBClassifier(max_depth=1,min_samples_leaf=1,min_samples_split=2,subsample=0.8,n_estimators=70, random_state=10)\n",
    "xgb1.fit(x_train,y_train)\n",
    "y_pred_xgb1=xgb1.predict(x_test)\n",
    "print(\"accuracy score\",round(accuracy_score(y_test, y_pred_xgb1),2))\n",
    "print(classification_report(y_test, y_pred_xgb1))"
   ]
  },
  {
   "cell_type": "markdown",
   "id": "e0c7fa3e",
   "metadata": {},
   "source": [
    "                **************************> This is the end of our session ******************************"
   ]
  },
  {
   "cell_type": "markdown",
   "id": "453e07dc",
   "metadata": {},
   "source": [
    "Copyright © 2023 by Boston Consulting Group. All rights reserved."
   ]
  }
 ],
 "metadata": {
  "kernelspec": {
   "display_name": "Python 3 (ipykernel)",
   "language": "python",
   "name": "python3"
  },
  "language_info": {
   "codemirror_mode": {
    "name": "ipython",
    "version": 3
   },
   "file_extension": ".py",
   "mimetype": "text/x-python",
   "name": "python",
   "nbconvert_exporter": "python",
   "pygments_lexer": "ipython3",
   "version": "3.9.13"
  },
  "toc": {
   "base_numbering": 1,
   "nav_menu": {},
   "number_sections": true,
   "sideBar": true,
   "skip_h1_title": false,
   "title_cell": "Table of Contents",
   "title_sidebar": "Contents",
   "toc_cell": false,
   "toc_position": {},
   "toc_section_display": true,
   "toc_window_display": false
  }
 },
 "nbformat": 4,
 "nbformat_minor": 5
}
