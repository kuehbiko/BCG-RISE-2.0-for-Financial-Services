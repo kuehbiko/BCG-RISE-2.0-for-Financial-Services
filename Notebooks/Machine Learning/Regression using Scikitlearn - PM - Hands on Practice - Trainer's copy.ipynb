{
 "cells": [
  {
   "cell_type": "markdown",
   "id": "4d40ad61",
   "metadata": {},
   "source": [
    "<table class=\"table table-bordered\">\n",
    "    <tr>\n",
    "        <th style=\"width:200px;\">\n",
    "            <img src='https://bcgriseacademy.com/hs-fs/hubfs/RISE%202.0%20Logo_Options_25Jan23_RISE%20-%20For%20Black%20Background.png?width=3522&height=1986&name=RISE%202.0%20Logo_Options_25Jan23_RISE%20-%20For%20Black%20Background.png' style=\"background-color:black; width: 100%; height: 100%;\">\n",
    "        </th>\n",
    "        <th style=\"text-align:center;\">\n",
    "            <h1>IBF TFIP</h1>\n",
    "            <h2>Regression with Scikitlearn</h2>\n",
    "        </th>\n",
    "    </tr>\n",
    "</table>"
   ]
  },
  {
   "cell_type": "markdown",
   "id": "e1890f37",
   "metadata": {},
   "source": [
    "### Multiple Linear Regression"
   ]
  },
  {
   "cell_type": "markdown",
   "id": "c30770da",
   "metadata": {},
   "source": [
    "### Please use the dataset below to create a Multiple Linear Regresssion Model\n",
    "Independent Variables=[[0, 1], [5, 1], [15, 2], [25, 5], [35, 11], [45, 15], [55, 34], [60, 35]]\n",
    "\n",
    "Dependent Variable=[15, 40, 28, 76, 38, 76, 89]\n",
    "\n",
    "1. Create a Multiple Linear Regression Model\n",
    "2. Calculate R²\n",
    "3. Calculate Model Intercept and Model Coefficient\n",
    "4. Calculate Estimated y value\n",
    "5. Evaluate the accuracy of the model\n",
    "6. Plot actual response and the estimated response\n",
    "7. Plot regression line and the residuals\n"
   ]
  },
  {
   "cell_type": "code",
   "execution_count": 73,
   "id": "e9389624",
   "metadata": {},
   "outputs": [],
   "source": [
    "import numpy as np\n",
    "from sklearn.linear_model import LinearRegression"
   ]
  },
  {
   "cell_type": "code",
   "execution_count": 74,
   "id": "fdc07093",
   "metadata": {},
   "outputs": [],
   "source": [
    "x = [[0, 1], [5, 1], [15, 2], [25, 5], [35, 11], [45, 15], [55, 34], [60, 35]]\n",
    "y = [8, 10, 40, 28, 64, 44, 76, 86]"
   ]
  },
  {
   "cell_type": "code",
   "execution_count": 75,
   "id": "96d5bd9b",
   "metadata": {},
   "outputs": [],
   "source": [
    "x = np.array(x)\n",
    "y = np.array(y)"
   ]
  },
  {
   "cell_type": "code",
   "execution_count": 76,
   "id": "1ea13afa",
   "metadata": {},
   "outputs": [
    {
     "name": "stdout",
     "output_type": "stream",
     "text": [
      "(8, 2)\n",
      "(8,)\n"
     ]
    }
   ],
   "source": [
    "print(x.shape)\n",
    "print(y.shape)"
   ]
  },
  {
   "cell_type": "code",
   "execution_count": 77,
   "id": "5dd363ca",
   "metadata": {},
   "outputs": [],
   "source": [
    "model = LinearRegression().fit(x, y)"
   ]
  },
  {
   "cell_type": "code",
   "execution_count": 78,
   "id": "e7763092",
   "metadata": {},
   "outputs": [
    {
     "name": "stdout",
     "output_type": "stream",
     "text": [
      "0.8615939258756776\n"
     ]
    }
   ],
   "source": [
    "r_sq = model.score(x, y)\n",
    "print(r_sq)"
   ]
  },
  {
   "cell_type": "code",
   "execution_count": 79,
   "id": "a578c6ce",
   "metadata": {},
   "outputs": [
    {
     "name": "stdout",
     "output_type": "stream",
     "text": [
      "11.04515855039638\n",
      "[0.8941393  0.51005096]\n"
     ]
    }
   ],
   "source": [
    "print(model.intercept_)\n",
    "print(model.coef_)"
   ]
  },
  {
   "cell_type": "code",
   "execution_count": 80,
   "id": "dccfa88d",
   "metadata": {},
   "outputs": [],
   "source": [
    "y_est = model.predict(x)"
   ]
  },
  {
   "cell_type": "code",
   "execution_count": 81,
   "id": "5cba61ab",
   "metadata": {},
   "outputs": [
    {
     "data": {
      "text/plain": [
       "(array([11.55520951, 16.025906  , 25.47734994, 35.94889581, 47.95059456,\n",
       "        58.93219139, 77.56455266, 82.54530011]),\n",
       " array([ 8, 10, 40, 28, 64, 44, 76, 86]))"
      ]
     },
     "execution_count": 81,
     "metadata": {},
     "output_type": "execute_result"
    }
   ],
   "source": [
    "y_est, y"
   ]
  },
  {
   "cell_type": "code",
   "execution_count": 82,
   "id": "5748011a",
   "metadata": {},
   "outputs": [
    {
     "data": {
      "text/plain": [
       "Text(0, 0.5, 'Predicted')"
      ]
     },
     "execution_count": 82,
     "metadata": {},
     "output_type": "execute_result"
    },
    {
     "data": {
      "image/png": "[encoded data removed]",
      "text/plain": [
       "<Figure size 432x288 with 1 Axes>"
      ]
     },
     "metadata": {
      "needs_background": "light"
     },
     "output_type": "display_data"
    }
   ],
   "source": [
    "# Plot the Results\n",
    "# We will plot the scatter plot between actual values and predicted values. Use xlabel to label the x-axis and use ylabel to label the y-axis.\n",
    "import matplotlib.pyplot as plt\n",
    "plt.scatter(y,y_est);\n",
    "plt.xlabel('Actual');\n",
    "plt.ylabel('Predicted')"
   ]
  },
  {
   "cell_type": "code",
   "execution_count": 83,
   "id": "0e2a88fd",
   "metadata": {},
   "outputs": [
    {
     "data": {
      "image/png": "[encoded data removed]",
      "text/plain": [
       "<Figure size 432x288 with 1 Axes>"
      ]
     },
     "metadata": {
      "needs_background": "light"
     },
     "output_type": "display_data"
    }
   ],
   "source": [
    "import seaborn as sns\n",
    "sns.regplot(x=y,y=y_est,ci=None,color ='red');"
   ]
  },
  {
   "cell_type": "code",
   "execution_count": 84,
   "id": "e777ce93",
   "metadata": {},
   "outputs": [
    {
     "name": "stdout",
     "output_type": "stream",
     "text": [
      "[[0 1]\n",
      " [2 3]\n",
      " [4 5]\n",
      " [6 7]\n",
      " [8 9]]\n"
     ]
    }
   ],
   "source": [
    "x_new = np.arange(10).reshape((-1, 2))\n",
    "print(x_new)"
   ]
  },
  {
   "cell_type": "code",
   "execution_count": 85,
   "id": "c7fa8fff",
   "metadata": {},
   "outputs": [
    {
     "data": {
      "text/plain": [
       "array([11.55520951, 14.36359003, 17.17197055, 19.98035108, 22.7887316 ])"
      ]
     },
     "execution_count": 85,
     "metadata": {},
     "output_type": "execute_result"
    }
   ],
   "source": [
    "model.predict(x_new)"
   ]
  },
  {
   "cell_type": "markdown",
   "id": "0d4b4c6e",
   "metadata": {},
   "source": [
    "### Polynomial Regression"
   ]
  },
  {
   "cell_type": "markdown",
   "id": "22a7e4ef",
   "metadata": {},
   "source": [
    "### Please use the dataset below to create a Polynomial Regresssion Model\n",
    "Independent Variables=[5, 15, 25, 35, 45, 55]\n",
    "\n",
    "Dependent Variable=[15, 11, 2, 8, 25, 32]\n",
    "\n",
    "1. Create a Quadratic Polynomial Regression Model (degrees=2)\n",
    "2. Calculate Model Intercept and Model Coefficient\n",
    "3. Calculate R²\n",
    "5. Calculate Estimated y value\n",
    "6. Evaluate the accuracy of the model\n",
    "7. Visualise the model with degrees(2,3,4,5) and compare the same \n"
   ]
  },
  {
   "cell_type": "code",
   "execution_count": 86,
   "id": "ccc1b0ba",
   "metadata": {},
   "outputs": [],
   "source": [
    "import numpy as np\n",
    "from sklearn.linear_model import LinearRegression\n",
    "from sklearn.preprocessing import PolynomialFeatures"
   ]
  },
  {
   "cell_type": "code",
   "execution_count": 87,
   "id": "f731f112",
   "metadata": {},
   "outputs": [
    {
     "name": "stdout",
     "output_type": "stream",
     "text": [
      "[[ 5]\n",
      " [15]\n",
      " [25]\n",
      " [35]\n",
      " [45]\n",
      " [55]]\n"
     ]
    }
   ],
   "source": [
    "x = np.array([5, 15, 25, 35, 45, 55]).reshape((-1, 1))\n",
    "y = np.array([15, 11, 2, 8, 25, 32])\n",
    "print(x)"
   ]
  },
  {
   "cell_type": "code",
   "execution_count": 88,
   "id": "e8dcb9e6",
   "metadata": {},
   "outputs": [],
   "source": [
    "transformer = PolynomialFeatures(degree=2, include_bias=False)"
   ]
  },
  {
   "cell_type": "code",
   "execution_count": 89,
   "id": "88d1e306",
   "metadata": {},
   "outputs": [
    {
     "name": "stdout",
     "output_type": "stream",
     "text": [
      "[[   5.   25.]\n",
      " [  15.  225.]\n",
      " [  25.  625.]\n",
      " [  35. 1225.]\n",
      " [  45. 2025.]\n",
      " [  55. 3025.]]\n"
     ]
    }
   ],
   "source": [
    "x_ = transformer.fit_transform(x)\n",
    "print(x_)"
   ]
  },
  {
   "cell_type": "code",
   "execution_count": 90,
   "id": "821adfe3",
   "metadata": {},
   "outputs": [],
   "source": [
    "model = LinearRegression().fit(x_, y)"
   ]
  },
  {
   "cell_type": "code",
   "execution_count": 91,
   "id": "db4b3d79",
   "metadata": {},
   "outputs": [
    {
     "name": "stdout",
     "output_type": "stream",
     "text": [
      "21.37232142857144\n",
      "[-1.32357143  0.02839286]\n"
     ]
    }
   ],
   "source": [
    "print(model.intercept_)\n",
    "print(model.coef_)"
   ]
  },
  {
   "cell_type": "code",
   "execution_count": 92,
   "id": "8d089a04",
   "metadata": {},
   "outputs": [
    {
     "name": "stdout",
     "output_type": "stream",
     "text": [
      "0.8908516262498564\n"
     ]
    }
   ],
   "source": [
    "r_sq = model.score(x_, y)\n",
    "print(r_sq)"
   ]
  },
  {
   "cell_type": "code",
   "execution_count": 93,
   "id": "d898930e",
   "metadata": {},
   "outputs": [
    {
     "name": "stdout",
     "output_type": "stream",
     "text": [
      "[-0.46428571  3.09285714 -4.02857143 -1.82857143  5.69285714 -2.46428571]\n"
     ]
    }
   ],
   "source": [
    "y_est = model.predict(x_)\n",
    "print(y - y_est)"
   ]
  },
  {
   "cell_type": "code",
   "execution_count": 94,
   "id": "c9598b14",
   "metadata": {},
   "outputs": [
    {
     "data": {
      "image/png": "[encoded data removed]",
      "text/plain": [
       "<Figure size 864x864 with 4 Axes>"
      ]
     },
     "metadata": {
      "needs_background": "light"
     },
     "output_type": "display_data"
    }
   ],
   "source": [
    "# Visualizing polynomial regression\n",
    "# Using observations x and y from the dataset to plot the model\n",
    "\n",
    "fig, axs = plt.subplots(2, 2, figsize=(12, 12))\n",
    "\n",
    "transformers = []\n",
    "degrees = [1, 2, 3, 5]\n",
    "X_ = []\n",
    "models = []\n",
    "\n",
    "for k, degree in enumerate(degrees):\n",
    "    \n",
    "    transformers.append(PolynomialFeatures(degree=degree, include_bias=False))\n",
    "    \n",
    "    X_.append(transformers[k].fit_transform(x))\n",
    "    \n",
    "    models.append(LinearRegression().fit(X_[k] , y))\n",
    "\n",
    "x_min, x_max = 0, 60\n",
    "x_nodes = np.linspace(x_min, x_max, 101)\n",
    "    \n",
    "for k, ax in enumerate(axs.reshape(-1)):\n",
    "    \n",
    "    # responses\n",
    "    ax.plot(x, y, '.g', markersize=18, label=r'Actual response, $y_i$', zorder=3)\n",
    "    \n",
    "    # get predicted values on a finer x-grid using the x_nodes array\n",
    "    x_nodes_transformed = transformers[k].fit_transform(x_nodes.reshape(-1, 1))\n",
    "    ax.plot(x_nodes, models[k].predict(x_nodes_transformed), 'k', \n",
    "            linewidth=2, label=r'Estimated regression line, $f(x)$', zorder=2)\n",
    "    \n",
    "    # legend\n",
    "    ax.legend(loc='upper center')\n",
    "    \n",
    "    # title\n",
    "    deg = f'Degree: {degrees[k]}, '\n",
    "    R2 = r'$R^2 = $'\n",
    "    score = str(round(models[k].score(X_[k], y), 2))\n",
    "    ax.set_title(deg + R2 + score)\n",
    "        \n",
    "    # styles, etc.\n",
    "    ax.set_yticks(range(x_min, x_max, 10))\n",
    "    ax.set_xticks(range(x_min, x_max, 10))\n",
    "    ax.grid(color='white')\n",
    "    ax.set_facecolor((0.95, 0.95, 0.95))\n",
    "    ax.set_xlabel('x', fontsize=12, fontweight='bold')\n",
    "    ax.set_ylabel('y', fontsize=12, fontweight='bold', rotation=0)\n"
   ]
  },
  {
   "cell_type": "markdown",
   "id": "b3dd13b7",
   "metadata": {},
   "source": [
    "                **************************> This is the end of our session ******************************"
   ]
  },
  {
   "cell_type": "markdown",
   "id": "623bd6b5",
   "metadata": {},
   "source": [
    "Copyright © 2023 by Boston Consulting Group. All rights reserved."
   ]
  }
 ],
 "metadata": {
  "kernelspec": {
   "display_name": "Python 3 (ipykernel)",
   "language": "python",
   "name": "python3"
  },
  "language_info": {
   "codemirror_mode": {
    "name": "ipython",
    "version": 3
   },
   "file_extension": ".py",
   "mimetype": "text/x-python",
   "name": "python",
   "nbconvert_exporter": "python",
   "pygments_lexer": "ipython3",
   "version": "3.9.13"
  }
 },
 "nbformat": 4,
 "nbformat_minor": 5
}
