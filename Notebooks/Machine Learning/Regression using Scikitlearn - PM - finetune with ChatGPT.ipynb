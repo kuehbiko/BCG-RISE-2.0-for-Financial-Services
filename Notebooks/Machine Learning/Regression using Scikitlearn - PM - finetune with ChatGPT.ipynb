{
 "cells": [
  {
   "cell_type": "markdown",
   "metadata": {},
   "source": [
    "### Table of Contents<a id='toc0_'></a>     \n",
    "  [1. Troubleshooting Linear Regression with ChatGPT](#toc2_)    \n",
    "  - [1.1 Set up your ChatGPT](#toc2_1_)    \n",
    "  - [1.2 Ask ChatGPT to explain code](#toc2_2_)    \n",
    "  - [1.3 Ask ChatGPT to optimize code](#toc2_3_)    \n",
    "\n",
    "<!-- vscode-jupyter-toc-config\n",
    "\tnumbering=false\n",
    "\tanchor=true\n",
    "\tflat=false\n",
    "\tminLevel=1\n",
    "\tmaxLevel=6\n",
    "\t/vscode-jupyter-toc-config -->\n",
    "<!-- THIS CELL WILL BE REPLACED ON TOC UPDATE. DO NOT WRITE YOUR TEXT IN THIS CELL -->"
   ]
  },
  {
   "cell_type": "markdown",
   "metadata": {},
   "source": [
    "# <a id='toc2_'></a>[1.0 Troubleshooting Linear Regression with ChatGPT](#toc0_)\n",
    "\n",
    "In this section, we will focus on using ChatGPT as a learning tool. It definitely can’t replace you as a programmer, but it can help you to improve your code and learn in the process."
   ]
  },
  {
   "cell_type": "markdown",
   "metadata": {},
   "source": [
    "## <a id='toc2_1_'></a>[1.1 Set up your ChatGPT](#toc0_)\n",
    "\n",
    "To access ChatGPT, you need to create an account with OpenAI. When you first head to <a href=\"https://chat.openai.com\">chat.openai.com</a>, then you’ll be prompted to either sign in or sign up:\n",
    "\n",
    "<img src='images/CG1.jpg' width=\"600\" height=\"400\" align=\"center\"/></font>\n",
    "\n",
    "\n",
    "If you’ve already played with ChatGPT before and have an active account, then sign in.\n",
    "\n",
    "Once you have signed in, you will be redirected to the ChatGPT main page where you can interact with the LLM through a conversational interface.\n",
    "\n",
    "<img src='images/CG2.jpg' width=\"600\" height=\"400\" align=\"center\"/></font>"
   ]
  },
  {
   "cell_type": "markdown",
   "metadata": {},
   "source": [
    "## <a id='toc2_2_'></a>[1.2 Ask ChatGPT to explain code](#toc0_)\n",
    "\n",
    "Let's say you are required to write a snippet of code and seeking ChatGPT's help in framing the code. But, there might be situation where you are not able to understand the logic and ask ChatGPT to explain the code too. Here is an example: We want to write a python code to check heteroscedasticity:\n",
    "\n",
    "<img src='images/CG3.jpg' width=\"800\" height=\"400\" align=\"center\"/></font>\n",
    "\n",
    "With ChatGPT's response:\n",
    "\n",
    "<img src='images/CG4.jpg' width=\"600\" height=\"600\" align=\"center\"/></font>\n",
    "\n",
    "and a detailed explanation too!\n",
    "\n",
    "<img src='images/CG5.jpg' width=\"800\" height=\"400\" align=\"center\"/></font>"
   ]
  },
  {
   "cell_type": "markdown",
   "metadata": {},
   "source": [
    "## <a id='toc2_3_'></a>[1.3 Ask ChatGPT to optimize code](#toc0_)\n",
    "\n",
    "We can also ask chatGPT to optimize a code in case it is too complex to comprehend. We can see the example below:\n",
    "\n",
    "<img src='images/CG6.jpg' width=\"800\" height=\"400\" align=\"center\"/></font>\n",
    "\n",
    "Response from ChatGPT\n",
    "\n",
    "<img src='images/CG7.jpg' width=\"700\" height=\"600\" align=\"center\"/></font>\n",
    "\n",
    "Look how ChatGPT can explain clearly\n",
    "\n",
    "<img src='images/CG8.jpg' width=\"600\" height=\"600\" align=\"center\"/></font>"
   ]
  }
 ],
 "metadata": {
  "kernelspec": {
   "display_name": "Python 3",
   "language": "python",
   "name": "python3"
  },
  "language_info": {
   "codemirror_mode": {
    "name": "ipython",
    "version": 3
   },
   "file_extension": ".py",
   "mimetype": "text/x-python",
   "name": "python",
   "nbconvert_exporter": "python",
   "pygments_lexer": "ipython3",
   "version": "3.10.1"
  },
  "orig_nbformat": 4
 },
 "nbformat": 4,
 "nbformat_minor": 2
}
