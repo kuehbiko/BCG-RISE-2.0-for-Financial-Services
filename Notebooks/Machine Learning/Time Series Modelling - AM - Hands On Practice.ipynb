{
 "cells": [
  {
   "cell_type": "markdown",
   "id": "077a7d1e",
   "metadata": {},
   "source": [
    "<table class=\"table table-bordered\">\n",
    "    <tr>\n",
    "        <th style=\"width:200px;\">\n",
    "            <img src='https://bcgriseacademy.com/hs-fs/hubfs/RISE%202.0%20Logo_Options_25Jan23_RISE%20-%20For%20Black%20Background.png?width=3522&height=1986&name=RISE%202.0%20Logo_Options_25Jan23_RISE%20-%20For%20Black%20Background.png' style=\"background-color:black; width: 100%; height: 100%;\">\n",
    "        </th>\n",
    "        <th style=\"text-align:center;\">\n",
    "            <h1>IBF TFIP</h1>\n",
    "            <h2>Time Series Modelling</h2>\n",
    "        </th>\n",
    "    </tr>\n",
    "</table>"
   ]
  },
  {
   "cell_type": "markdown",
   "id": "591a6d4d",
   "metadata": {},
   "source": [
    "### Let's perform forecasting on a sanitized Time Series dataset"
   ]
  },
  {
   "cell_type": "markdown",
   "id": "12b280d5",
   "metadata": {},
   "source": [
    "### We'll start by importing the required libraries and loading the dataset\n",
    "\n",
    "1. Vsualize Trend, Seasonality, Residual of the time series data\n",
    "2. Fit the Model using Facebook prophet Model\n",
    "3. Make predictions\n",
    "4. Evaluate the Forecast "
   ]
  },
  {
   "cell_type": "code",
   "execution_count": null,
   "id": "76df8b0d",
   "metadata": {},
   "outputs": [],
   "source": [
    "import IPython.core.display\n",
    "import matplotlib\n",
    "\n",
    "def apply_styles():\n",
    "    matplotlib.rcParams['font.size'] = 12\n",
    "    matplotlib.rcParams['figure.figsize'] = (18, 6)\n",
    "    matplotlib.rcParams['lines.linewidth'] = 1\n",
    "\n",
    "apply_styles()"
   ]
  },
  {
   "cell_type": "code",
   "execution_count": null,
   "id": "5116270a",
   "metadata": {},
   "outputs": [],
   "source": [
    "import pandas as pd\n",
    "import matplotlib.pyplot as plt\n",
    "\n",
    "# Load the example dataset\n",
    "df = pd.read_csv('data/ts_data.csv')\n",
    "df.head()"
   ]
  },
  {
   "cell_type": "code",
   "execution_count": null,
   "id": "403cfee4",
   "metadata": {},
   "outputs": [],
   "source": []
  },
  {
   "cell_type": "markdown",
   "id": "e0c7fa3e",
   "metadata": {},
   "source": [
    "                **************************> This is the end of our session ******************************"
   ]
  },
  {
   "cell_type": "markdown",
   "id": "453e07dc",
   "metadata": {},
   "source": [
    "Copyright © 2023 by Boston Consulting Group. All rights reserved."
   ]
  }
 ],
 "metadata": {
  "kernelspec": {
   "display_name": "Python 3 (ipykernel)",
   "language": "python",
   "name": "python3"
  },
  "language_info": {
   "codemirror_mode": {
    "name": "ipython",
    "version": 3
   },
   "file_extension": ".py",
   "mimetype": "text/x-python",
   "name": "python",
   "nbconvert_exporter": "python",
   "pygments_lexer": "ipython3",
   "version": "3.9.13"
  },
  "toc": {
   "base_numbering": 1,
   "nav_menu": {},
   "number_sections": true,
   "sideBar": true,
   "skip_h1_title": false,
   "title_cell": "Table of Contents",
   "title_sidebar": "Contents",
   "toc_cell": false,
   "toc_position": {},
   "toc_section_display": true,
   "toc_window_display": false
  }
 },
 "nbformat": 4,
 "nbformat_minor": 5
}
