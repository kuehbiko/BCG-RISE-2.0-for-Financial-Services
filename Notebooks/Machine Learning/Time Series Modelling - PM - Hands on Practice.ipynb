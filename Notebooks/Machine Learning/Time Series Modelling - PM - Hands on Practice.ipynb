{
 "cells": [
  {
   "cell_type": "markdown",
   "metadata": {},
   "source": [
    "<table class=\"table table-bordered\">\n",
    "    <tr>\n",
    "        <th style=\"width:200px;\">\n",
    "            <img src='https://bcgriseacademy.com/hs-fs/hubfs/RISE%202.0%20Logo_Options_25Jan23_RISE%20-%20For%20Black%20Background.png?width=3522&height=1986&name=RISE%202.0%20Logo_Options_25Jan23_RISE%20-%20For%20Black%20Background.png' style=\"background-color:black; width: 100%; height: 100%;\">\n",
    "        </th>\n",
    "        <th style=\"text-align:center;\">\n",
    "            <h1>IBF TFIP</h1>\n",
    "            <h2>Time Series Modelling</h2>\n",
    "        </th>\n",
    "    </tr>\n",
    "</table>"
   ]
  },
  {
   "cell_type": "markdown",
   "metadata": {},
   "source": [
    "### Tasks ###\n",
    "\n",
    "1. Import all the required libraries deemed necessary to perform forecasting.\n",
    "2. Read the data 'data_Inv_level.csv'.\n",
    "3. Perform Exploratory Data Analysis and plot the data to check for any outliers or skewness\n",
    "4. Choose an appropriate method to treat the outliers identifiers in previous task.\n",
    "5. Perform log transformation of the quantity column (y).\n",
    "6. Drop the existing column y and rename the new log transformed column to y.\n",
    "7. Write a function to check stationarity of each SKU in the data.\n",
    "8. For all the stationary SKUs identified, run the Prophet model to make forecast for the next 3 months.\n",
    "9. Check if the forecasting is reasonable using appropriate metrics.\n",
    "9. Visualize the forecasted output for each SKU and check if the forecasting is reasonable.\n",
    "10. Perform an anti-log conversion for the forecasted values.\n",
    "11. For the non stationary SKUs, perform a first order differencing and check if they are stationary after the operation.\n",
    "12. Run the Prophet model to make forecast for all these SKUs for the next 3 months.\n",
    "13. Check if the forecasting is reasonable using appropriate metrics.\n",
    "14. Visualize the forecasted output for each SKU and check if the forecasting is reasonable.\n",
    "15. Perform an anti-log conversion for the forecasted values.\n"
   ]
  },
  {
   "cell_type": "code",
   "execution_count": null,
   "metadata": {},
   "outputs": [],
   "source": []
  },
  {
   "cell_type": "markdown",
   "metadata": {},
   "source": [
    "Copyright © 2023 by Boston Consulting Group. All rights reserved."
   ]
  }
 ],
 "metadata": {
  "kernelspec": {
   "display_name": "Python 3 (ipykernel)",
   "language": "python",
   "name": "python3"
  },
  "language_info": {
   "codemirror_mode": {
    "name": "ipython",
    "version": 3
   },
   "file_extension": ".py",
   "mimetype": "text/x-python",
   "name": "python",
   "nbconvert_exporter": "python",
   "pygments_lexer": "ipython3",
   "version": "3.9.13"
  }
 },
 "nbformat": 4,
 "nbformat_minor": 2
}
