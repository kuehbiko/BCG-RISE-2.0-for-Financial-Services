{
 "cells": [
  {
   "cell_type": "code",
   "execution_count": 1,
   "id": "0ebd3344",
   "metadata": {},
   "outputs": [],
   "source": [
    "# data context and data dictionary"
   ]
  },
  {
   "cell_type": "code",
   "execution_count": 2,
   "id": "d8ec547f",
   "metadata": {},
   "outputs": [],
   "source": [
    "# objective\n",
    "# You are tasked to analyze and prevent retail customers churn by creating a predictive model to identify \n",
    "# customers with a higher propensity to churn."
   ]
  },
  {
   "cell_type": "markdown",
   "id": "c3f3761b",
   "metadata": {},
   "source": [
    "|Feature|Description|Data Type|\n",
    "|-----|-----|-----|\n",
    "|CID|Customer ID|integer\n",
    "|CreditScore|Credit Score of customer based on the past history|integer|\n",
    "|Country|Country that customer resides in|string|\n",
    "|Gender|Gender of Customer|string|\n",
    "|Age|Age of Customer|integer|\n",
    "|Tenure|Number of years the customer has been a client with the bank|integer|\n",
    "|Balance|Customer's savings account balance in the bank|float|\n",
    "|NumOfProducts|Number of products the customer has purchased through the bank|integer|\n",
    "|HasCrCard|Whether the customer has a credit card with the bank|binary (1=yes, 0=no)|\n",
    "|IsActiveMember|Whether the customer is an active member of bank|binary (1=yes, 0=no)|\n",
    "|EstimatedSalary|Estimated salary of the customer|float|\n",
    "|Churned|Whether the customer left the bank (target variable)|binary (1=yes, 0=no)|"
   ]
  },
  {
   "cell_type": "markdown",
   "id": "292ae22c",
   "metadata": {},
   "source": [
    "***"
   ]
  },
  {
   "cell_type": "code",
   "execution_count": 3,
   "id": "c8985c27",
   "metadata": {},
   "outputs": [],
   "source": [
    "#!pip install xgboost"
   ]
  },
  {
   "cell_type": "code",
   "execution_count": 4,
   "id": "0b3a5200",
   "metadata": {},
   "outputs": [],
   "source": [
    "# import libraries\n",
    "import pandas as pd\n",
    "import numpy as np\n",
    "from scipy import stats\n",
    "\n",
    "# Splitting data into training and testing\n",
    "from sklearn.model_selection import train_test_split\n",
    "\n",
    "# Imputing missing values and scaling values\n",
    "from sklearn.impute import SimpleImputer as Imputer\n",
    "from sklearn.preprocessing import MinMaxScaler, StandardScaler\n",
    "\n",
    "# Machine Learning Models\n",
    "from sklearn.model_selection import train_test_split\n",
    "\n",
    "from sklearn.linear_model import LogisticRegression\n",
    "from sklearn.tree import DecisionTreeClassifier\n",
    "from sklearn import svm\n",
    "from sklearn.ensemble import RandomForestClassifier, GradientBoostingClassifier\n",
    "import xgboost as xgb\n",
    "\n",
    "# Hyperparameter tuning\n",
    "from sklearn.model_selection import RandomizedSearchCV, GridSearchCV, KFold\n",
    "\n",
    "# model evaluation\n",
    "from sklearn import metrics\n",
    "\n",
    "# Visualizations\n",
    "import matplotlib.pyplot as plt\n",
    "import seaborn as sns\n",
    "\n",
    "# taking care of warnings\n",
    "import warnings\n",
    "warnings.filterwarnings(\"ignore\")"
   ]
  },
  {
   "cell_type": "markdown",
   "id": "874c0c9f",
   "metadata": {},
   "source": [
    "***"
   ]
  },
  {
   "cell_type": "code",
   "execution_count": 5,
   "id": "5fe23b45",
   "metadata": {},
   "outputs": [],
   "source": [
    "# read data\n",
    "df = pd.read_csv(\"bank_churn.csv\")"
   ]
  },
  {
   "cell_type": "code",
   "execution_count": 6,
   "id": "5a9feebd",
   "metadata": {},
   "outputs": [
    {
     "data": {
      "text/html": [
       "<div>\n",
       "<style scoped>\n",
       "    .dataframe tbody tr th:only-of-type {\n",
       "        vertical-align: middle;\n",
       "    }\n",
       "\n",
       "    .dataframe tbody tr th {\n",
       "        vertical-align: top;\n",
       "    }\n",
       "\n",
       "    .dataframe thead th {\n",
       "        text-align: right;\n",
       "    }\n",
       "</style>\n",
       "<table border=\"1\" class=\"dataframe\">\n",
       "  <thead>\n",
       "    <tr style=\"text-align: right;\">\n",
       "      <th></th>\n",
       "      <th>CID</th>\n",
       "      <th>CreditScore</th>\n",
       "      <th>Country</th>\n",
       "      <th>Gender</th>\n",
       "      <th>Age</th>\n",
       "      <th>Tenure</th>\n",
       "      <th>Balance</th>\n",
       "      <th>NumOfProducts</th>\n",
       "      <th>HasCrCard</th>\n",
       "      <th>IsActiveMember</th>\n",
       "      <th>EstimatedSalary</th>\n",
       "      <th>Churned</th>\n",
       "    </tr>\n",
       "  </thead>\n",
       "  <tbody>\n",
       "    <tr>\n",
       "      <th>0</th>\n",
       "      <td>634602</td>\n",
       "      <td>619</td>\n",
       "      <td>France</td>\n",
       "      <td>Female</td>\n",
       "      <td>42</td>\n",
       "      <td>2</td>\n",
       "      <td>0.00</td>\n",
       "      <td>1</td>\n",
       "      <td>1</td>\n",
       "      <td>1</td>\n",
       "      <td>101348.88</td>\n",
       "      <td>1</td>\n",
       "    </tr>\n",
       "    <tr>\n",
       "      <th>1</th>\n",
       "      <td>647311</td>\n",
       "      <td>608</td>\n",
       "      <td>Spain</td>\n",
       "      <td>Female</td>\n",
       "      <td>41</td>\n",
       "      <td>1</td>\n",
       "      <td>83807.86</td>\n",
       "      <td>1</td>\n",
       "      <td>0</td>\n",
       "      <td>1</td>\n",
       "      <td>112542.58</td>\n",
       "      <td>0</td>\n",
       "    </tr>\n",
       "    <tr>\n",
       "      <th>2</th>\n",
       "      <td>619304</td>\n",
       "      <td>502</td>\n",
       "      <td>France</td>\n",
       "      <td>Female</td>\n",
       "      <td>42</td>\n",
       "      <td>8</td>\n",
       "      <td>159660.80</td>\n",
       "      <td>3</td>\n",
       "      <td>1</td>\n",
       "      <td>0</td>\n",
       "      <td>113931.57</td>\n",
       "      <td>1</td>\n",
       "    </tr>\n",
       "    <tr>\n",
       "      <th>3</th>\n",
       "      <td>701354</td>\n",
       "      <td>699</td>\n",
       "      <td>France</td>\n",
       "      <td>Female</td>\n",
       "      <td>39</td>\n",
       "      <td>1</td>\n",
       "      <td>0.00</td>\n",
       "      <td>2</td>\n",
       "      <td>0</td>\n",
       "      <td>0</td>\n",
       "      <td>93826.63</td>\n",
       "      <td>0</td>\n",
       "    </tr>\n",
       "    <tr>\n",
       "      <th>4</th>\n",
       "      <td>737888</td>\n",
       "      <td>850</td>\n",
       "      <td>Spain</td>\n",
       "      <td>Female</td>\n",
       "      <td>43</td>\n",
       "      <td>2</td>\n",
       "      <td>125510.82</td>\n",
       "      <td>1</td>\n",
       "      <td>1</td>\n",
       "      <td>1</td>\n",
       "      <td>79084.10</td>\n",
       "      <td>0</td>\n",
       "    </tr>\n",
       "  </tbody>\n",
       "</table>\n",
       "</div>"
      ],
      "text/plain": [
       "      CID  CreditScore Country  Gender  Age  Tenure    Balance  NumOfProducts  \\\n",
       "0  634602          619  France  Female   42       2       0.00              1   \n",
       "1  647311          608   Spain  Female   41       1   83807.86              1   \n",
       "2  619304          502  France  Female   42       8  159660.80              3   \n",
       "3  701354          699  France  Female   39       1       0.00              2   \n",
       "4  737888          850   Spain  Female   43       2  125510.82              1   \n",
       "\n",
       "   HasCrCard  IsActiveMember  EstimatedSalary  Churned  \n",
       "0          1               1        101348.88        1  \n",
       "1          0               1        112542.58        0  \n",
       "2          1               0        113931.57        1  \n",
       "3          0               0         93826.63        0  \n",
       "4          1               1         79084.10        0  "
      ]
     },
     "execution_count": 6,
     "metadata": {},
     "output_type": "execute_result"
    }
   ],
   "source": [
    "# view data\n",
    "df.head()"
   ]
  },
  {
   "cell_type": "markdown",
   "id": "0fe7239c",
   "metadata": {},
   "source": [
    "***"
   ]
  },
  {
   "cell_type": "code",
   "execution_count": 7,
   "id": "eaee1cc4",
   "metadata": {},
   "outputs": [],
   "source": [
    "# get info\n",
    "#1. structure of data\n",
    "#2. describe data\n",
    "#3. missing values\n",
    "#4. duplicate values\n",
    "#5. categorical variables - count of categories, unique values\n",
    "#6. variance of variables\n",
    "#7. correlation of variables"
   ]
  },
  {
   "cell_type": "code",
   "execution_count": 8,
   "id": "aebe7ae2",
   "metadata": {},
   "outputs": [
    {
     "name": "stdout",
     "output_type": "stream",
     "text": [
      "<class 'pandas.core.frame.DataFrame'>\n",
      "RangeIndex: 10000 entries, 0 to 9999\n",
      "Data columns (total 12 columns):\n",
      " #   Column           Non-Null Count  Dtype  \n",
      "---  ------           --------------  -----  \n",
      " 0   CID              10000 non-null  int64  \n",
      " 1   CreditScore      10000 non-null  int64  \n",
      " 2   Country          10000 non-null  object \n",
      " 3   Gender           10000 non-null  object \n",
      " 4   Age              10000 non-null  int64  \n",
      " 5   Tenure           10000 non-null  int64  \n",
      " 6   Balance          10000 non-null  float64\n",
      " 7   NumOfProducts    10000 non-null  int64  \n",
      " 8   HasCrCard        10000 non-null  int64  \n",
      " 9   IsActiveMember   10000 non-null  int64  \n",
      " 10  EstimatedSalary  10000 non-null  float64\n",
      " 11  Churned          10000 non-null  int64  \n",
      "dtypes: float64(2), int64(8), object(2)\n",
      "memory usage: 937.6+ KB\n"
     ]
    }
   ],
   "source": [
    "# get basic information about the data\n",
    "df.info()"
   ]
  },
  {
   "cell_type": "code",
   "execution_count": 9,
   "id": "9ffb81f3",
   "metadata": {},
   "outputs": [
    {
     "data": {
      "text/plain": [
       "(10000, 12)"
      ]
     },
     "execution_count": 9,
     "metadata": {},
     "output_type": "execute_result"
    }
   ],
   "source": [
    "df.shape"
   ]
  },
  {
   "cell_type": "code",
   "execution_count": 36,
   "id": "48c05859",
   "metadata": {},
   "outputs": [
    {
     "data": {
      "text/html": [
       "<div>\n",
       "<style scoped>\n",
       "    .dataframe tbody tr th:only-of-type {\n",
       "        vertical-align: middle;\n",
       "    }\n",
       "\n",
       "    .dataframe tbody tr th {\n",
       "        vertical-align: top;\n",
       "    }\n",
       "\n",
       "    .dataframe thead th {\n",
       "        text-align: right;\n",
       "    }\n",
       "</style>\n",
       "<table border=\"1\" class=\"dataframe\">\n",
       "  <thead>\n",
       "    <tr style=\"text-align: right;\">\n",
       "      <th></th>\n",
       "      <th>count</th>\n",
       "      <th>mean</th>\n",
       "      <th>std</th>\n",
       "      <th>min</th>\n",
       "      <th>25%</th>\n",
       "      <th>50%</th>\n",
       "      <th>75%</th>\n",
       "      <th>max</th>\n",
       "    </tr>\n",
       "  </thead>\n",
       "  <tbody>\n",
       "    <tr>\n",
       "      <th>CID</th>\n",
       "      <td>10000.0</td>\n",
       "      <td>690940.569400</td>\n",
       "      <td>71936.186123</td>\n",
       "      <td>565701.00</td>\n",
       "      <td>628528.25</td>\n",
       "      <td>690738.000</td>\n",
       "      <td>753233.7500</td>\n",
       "      <td>815690.00</td>\n",
       "    </tr>\n",
       "    <tr>\n",
       "      <th>CreditScore</th>\n",
       "      <td>10000.0</td>\n",
       "      <td>650.528800</td>\n",
       "      <td>96.653299</td>\n",
       "      <td>350.00</td>\n",
       "      <td>584.00</td>\n",
       "      <td>652.000</td>\n",
       "      <td>718.0000</td>\n",
       "      <td>850.00</td>\n",
       "    </tr>\n",
       "    <tr>\n",
       "      <th>Age</th>\n",
       "      <td>10000.0</td>\n",
       "      <td>38.921800</td>\n",
       "      <td>10.487806</td>\n",
       "      <td>18.00</td>\n",
       "      <td>32.00</td>\n",
       "      <td>37.000</td>\n",
       "      <td>44.0000</td>\n",
       "      <td>92.00</td>\n",
       "    </tr>\n",
       "    <tr>\n",
       "      <th>Tenure</th>\n",
       "      <td>10000.0</td>\n",
       "      <td>5.012800</td>\n",
       "      <td>2.892174</td>\n",
       "      <td>0.00</td>\n",
       "      <td>3.00</td>\n",
       "      <td>5.000</td>\n",
       "      <td>7.0000</td>\n",
       "      <td>10.00</td>\n",
       "    </tr>\n",
       "    <tr>\n",
       "      <th>Balance</th>\n",
       "      <td>10000.0</td>\n",
       "      <td>76485.889288</td>\n",
       "      <td>62397.405202</td>\n",
       "      <td>0.00</td>\n",
       "      <td>0.00</td>\n",
       "      <td>97198.540</td>\n",
       "      <td>127644.2400</td>\n",
       "      <td>250898.09</td>\n",
       "    </tr>\n",
       "    <tr>\n",
       "      <th>NumOfProducts</th>\n",
       "      <td>10000.0</td>\n",
       "      <td>1.530200</td>\n",
       "      <td>0.581654</td>\n",
       "      <td>1.00</td>\n",
       "      <td>1.00</td>\n",
       "      <td>1.000</td>\n",
       "      <td>2.0000</td>\n",
       "      <td>4.00</td>\n",
       "    </tr>\n",
       "    <tr>\n",
       "      <th>HasCrCard</th>\n",
       "      <td>10000.0</td>\n",
       "      <td>0.705500</td>\n",
       "      <td>0.455840</td>\n",
       "      <td>0.00</td>\n",
       "      <td>0.00</td>\n",
       "      <td>1.000</td>\n",
       "      <td>1.0000</td>\n",
       "      <td>1.00</td>\n",
       "    </tr>\n",
       "    <tr>\n",
       "      <th>IsActiveMember</th>\n",
       "      <td>10000.0</td>\n",
       "      <td>0.515100</td>\n",
       "      <td>0.499797</td>\n",
       "      <td>0.00</td>\n",
       "      <td>0.00</td>\n",
       "      <td>1.000</td>\n",
       "      <td>1.0000</td>\n",
       "      <td>1.00</td>\n",
       "    </tr>\n",
       "    <tr>\n",
       "      <th>EstimatedSalary</th>\n",
       "      <td>10000.0</td>\n",
       "      <td>100090.239881</td>\n",
       "      <td>57510.492818</td>\n",
       "      <td>11.58</td>\n",
       "      <td>51002.11</td>\n",
       "      <td>100193.915</td>\n",
       "      <td>149388.2475</td>\n",
       "      <td>199992.48</td>\n",
       "    </tr>\n",
       "    <tr>\n",
       "      <th>Churned</th>\n",
       "      <td>10000.0</td>\n",
       "      <td>0.203700</td>\n",
       "      <td>0.402769</td>\n",
       "      <td>0.00</td>\n",
       "      <td>0.00</td>\n",
       "      <td>0.000</td>\n",
       "      <td>0.0000</td>\n",
       "      <td>1.00</td>\n",
       "    </tr>\n",
       "  </tbody>\n",
       "</table>\n",
       "</div>"
      ],
      "text/plain": [
       "                   count           mean           std        min        25%  \\\n",
       "CID              10000.0  690940.569400  71936.186123  565701.00  628528.25   \n",
       "CreditScore      10000.0     650.528800     96.653299     350.00     584.00   \n",
       "Age              10000.0      38.921800     10.487806      18.00      32.00   \n",
       "Tenure           10000.0       5.012800      2.892174       0.00       3.00   \n",
       "Balance          10000.0   76485.889288  62397.405202       0.00       0.00   \n",
       "NumOfProducts    10000.0       1.530200      0.581654       1.00       1.00   \n",
       "HasCrCard        10000.0       0.705500      0.455840       0.00       0.00   \n",
       "IsActiveMember   10000.0       0.515100      0.499797       0.00       0.00   \n",
       "EstimatedSalary  10000.0  100090.239881  57510.492818      11.58   51002.11   \n",
       "Churned          10000.0       0.203700      0.402769       0.00       0.00   \n",
       "\n",
       "                        50%          75%        max  \n",
       "CID              690738.000  753233.7500  815690.00  \n",
       "CreditScore         652.000     718.0000     850.00  \n",
       "Age                  37.000      44.0000      92.00  \n",
       "Tenure                5.000       7.0000      10.00  \n",
       "Balance           97198.540  127644.2400  250898.09  \n",
       "NumOfProducts         1.000       2.0000       4.00  \n",
       "HasCrCard             1.000       1.0000       1.00  \n",
       "IsActiveMember        1.000       1.0000       1.00  \n",
       "EstimatedSalary  100193.915  149388.2475  199992.48  \n",
       "Churned               0.000       0.0000       1.00  "
      ]
     },
     "execution_count": 36,
     "metadata": {},
     "output_type": "execute_result"
    }
   ],
   "source": [
    "# get descriptive stats\n",
    "df.describe().T # for continuous variables"
   ]
  },
  {
   "cell_type": "code",
   "execution_count": 11,
   "id": "b6c7926f",
   "metadata": {},
   "outputs": [
    {
     "data": {
      "text/html": [
       "<div>\n",
       "<style scoped>\n",
       "    .dataframe tbody tr th:only-of-type {\n",
       "        vertical-align: middle;\n",
       "    }\n",
       "\n",
       "    .dataframe tbody tr th {\n",
       "        vertical-align: top;\n",
       "    }\n",
       "\n",
       "    .dataframe thead th {\n",
       "        text-align: right;\n",
       "    }\n",
       "</style>\n",
       "<table border=\"1\" class=\"dataframe\">\n",
       "  <thead>\n",
       "    <tr style=\"text-align: right;\">\n",
       "      <th></th>\n",
       "      <th>count</th>\n",
       "      <th>unique</th>\n",
       "      <th>top</th>\n",
       "      <th>freq</th>\n",
       "    </tr>\n",
       "  </thead>\n",
       "  <tbody>\n",
       "    <tr>\n",
       "      <th>Country</th>\n",
       "      <td>10000</td>\n",
       "      <td>3</td>\n",
       "      <td>France</td>\n",
       "      <td>5014</td>\n",
       "    </tr>\n",
       "    <tr>\n",
       "      <th>Gender</th>\n",
       "      <td>10000</td>\n",
       "      <td>2</td>\n",
       "      <td>Male</td>\n",
       "      <td>5457</td>\n",
       "    </tr>\n",
       "  </tbody>\n",
       "</table>\n",
       "</div>"
      ],
      "text/plain": [
       "         count unique     top  freq\n",
       "Country  10000      3  France  5014\n",
       "Gender   10000      2    Male  5457"
      ]
     },
     "execution_count": 11,
     "metadata": {},
     "output_type": "execute_result"
    }
   ],
   "source": [
    "# get descriptive stats\n",
    "df.describe(include = \"O\").T # for categorical variables"
   ]
  },
  {
   "cell_type": "code",
   "execution_count": 12,
   "id": "d9145cc8",
   "metadata": {},
   "outputs": [],
   "source": [
    "# get and update data structure"
   ]
  },
  {
   "cell_type": "code",
   "execution_count": 13,
   "id": "31cbc356",
   "metadata": {},
   "outputs": [
    {
     "data": {
      "text/plain": [
       "Index(['CID', 'CreditScore', 'Country', 'Gender', 'Age', 'Tenure', 'Balance',\n",
       "       'NumOfProducts', 'HasCrCard', 'IsActiveMember', 'EstimatedSalary',\n",
       "       'Churned'],\n",
       "      dtype='object')"
      ]
     },
     "execution_count": 13,
     "metadata": {},
     "output_type": "execute_result"
    }
   ],
   "source": [
    "# show all column names\n",
    "df.columns"
   ]
  },
  {
   "cell_type": "code",
   "execution_count": 14,
   "id": "71c1a8be",
   "metadata": {
    "scrolled": true
   },
   "outputs": [
    {
     "data": {
      "text/plain": [
       "Country\n",
       "France     5014\n",
       "Germany    2509\n",
       "Spain      2477\n",
       "Name: count, dtype: int64"
      ]
     },
     "execution_count": 14,
     "metadata": {},
     "output_type": "execute_result"
    }
   ],
   "source": [
    "df['Country'].value_counts()"
   ]
  },
  {
   "cell_type": "code",
   "execution_count": 15,
   "id": "e130439a",
   "metadata": {},
   "outputs": [
    {
     "data": {
      "text/plain": [
       "Gender\n",
       "Male      5457\n",
       "Female    4543\n",
       "Name: count, dtype: int64"
      ]
     },
     "execution_count": 15,
     "metadata": {},
     "output_type": "execute_result"
    }
   ],
   "source": [
    "df['Gender'].value_counts()"
   ]
  },
  {
   "cell_type": "code",
   "execution_count": 37,
   "id": "939fcb7c",
   "metadata": {},
   "outputs": [
    {
     "data": {
      "text/plain": [
       "HasCrCard\n",
       "1    7055\n",
       "0    2945\n",
       "Name: count, dtype: int64"
      ]
     },
     "execution_count": 37,
     "metadata": {},
     "output_type": "execute_result"
    }
   ],
   "source": [
    "df['HasCrCard'].value_counts()"
   ]
  },
  {
   "cell_type": "code",
   "execution_count": 16,
   "id": "c0d56946",
   "metadata": {},
   "outputs": [],
   "source": [
    "# missing values"
   ]
  },
  {
   "cell_type": "code",
   "execution_count": 17,
   "id": "9718bb39",
   "metadata": {},
   "outputs": [
    {
     "data": {
      "text/plain": [
       "CID                0\n",
       "CreditScore        0\n",
       "Country            0\n",
       "Gender             0\n",
       "Age                0\n",
       "Tenure             0\n",
       "Balance            0\n",
       "NumOfProducts      0\n",
       "HasCrCard          0\n",
       "IsActiveMember     0\n",
       "EstimatedSalary    0\n",
       "Churned            0\n",
       "dtype: int64"
      ]
     },
     "execution_count": 17,
     "metadata": {},
     "output_type": "execute_result"
    }
   ],
   "source": [
    "# check for missing values\n",
    "df.isnull().sum()"
   ]
  },
  {
   "cell_type": "code",
   "execution_count": 18,
   "id": "c1ea55de",
   "metadata": {},
   "outputs": [],
   "source": [
    "# no missing values -> no need to impute or drop columns"
   ]
  },
  {
   "cell_type": "code",
   "execution_count": 19,
   "id": "2d62dc4e",
   "metadata": {},
   "outputs": [],
   "source": [
    "# duplicates"
   ]
  },
  {
   "cell_type": "code",
   "execution_count": 20,
   "id": "146db5cf",
   "metadata": {},
   "outputs": [
    {
     "data": {
      "text/plain": [
       "0"
      ]
     },
     "execution_count": 20,
     "metadata": {},
     "output_type": "execute_result"
    }
   ],
   "source": [
    "# check for duplicates\n",
    "df.duplicated().sum()"
   ]
  },
  {
   "cell_type": "code",
   "execution_count": 21,
   "id": "f6bc4e10",
   "metadata": {},
   "outputs": [],
   "source": [
    "# no missing values\n",
    "# no duplicate values\n",
    "# no need to replace anything with 'nan'"
   ]
  },
  {
   "cell_type": "markdown",
   "id": "c291fbc2",
   "metadata": {},
   "source": [
    "***"
   ]
  },
  {
   "cell_type": "code",
   "execution_count": null,
   "id": "1fb9561e",
   "metadata": {},
   "outputs": [],
   "source": [
    "# explore data"
   ]
  },
  {
   "cell_type": "code",
   "execution_count": 23,
   "id": "92d59a9a",
   "metadata": {},
   "outputs": [],
   "source": [
    "# Calculate first and third quartile\n",
    "first_quartile = df['Tenure'].describe()['25%']\n",
    "third_quartile = df['Tenure'].describe()['75%']"
   ]
  },
  {
   "cell_type": "code",
   "execution_count": 24,
   "id": "1be01156",
   "metadata": {},
   "outputs": [],
   "source": [
    "# Interquartile range\n",
    "iqr = third_quartile - first_quartile"
   ]
  },
  {
   "cell_type": "code",
   "execution_count": 25,
   "id": "1789e98b",
   "metadata": {},
   "outputs": [],
   "source": [
    "# Remove outliers\n",
    "df2 = df[(df['Tenure'] > (first_quartile - 3 * iqr)) &\n",
    "         (df['Tenure'] < (third_quartile + 3 * iqr))]"
   ]
  },
  {
   "cell_type": "code",
   "execution_count": 30,
   "id": "160f8905",
   "metadata": {},
   "outputs": [
    {
     "data": {
      "text/plain": [
       "Text(0.5, 1.0, 'Site EUI distribution')"
      ]
     },
     "execution_count": 30,
     "metadata": {},
     "output_type": "execute_result"
    },
    {
     "data": {
      "image/png": "[encoded data removed]",
      "text/plain": [
       "<Figure size 640x480 with 1 Axes>"
      ]
     },
     "metadata": {},
     "output_type": "display_data"
    }
   ],
   "source": [
    "#figsize(8, 8)\n",
    "plt.hist(df2['Tenure'],\n",
    "        bins=10,\n",
    "        edgecolor='black');\n",
    "plt.xlabel('Tenure');\n",
    "plt.ylabel('count');\n",
    "plt.title('Tenure'')"
   ]
  },
  {
   "cell_type": "code",
   "execution_count": 32,
   "id": "f9a65cb6",
   "metadata": {},
   "outputs": [
    {
     "data": {
      "image/png": "[encoded data removed]",
      "text/plain": [
       "<Figure size 1700x300 with 1 Axes>"
      ]
     },
     "metadata": {},
     "output_type": "display_data"
    }
   ],
   "source": [
    "# check outliers in `tenure`\n",
    "plt.figure(figsize=(17,3))\n",
    "plt.title('Tenure')\n",
    "sns.boxplot(data=None, x=df['Tenure'], fliersize=1);"
   ]
  },
  {
   "cell_type": "code",
   "execution_count": 33,
   "id": "f601bc69",
   "metadata": {},
   "outputs": [
    {
     "name": "stdout",
     "output_type": "stream",
     "text": [
      "Lower limit: -3.0\n",
      "Upper limit: 13.0\n",
      "Number of rows in the data containing outliers in `tenure`: 0\n"
     ]
    }
   ],
   "source": [
    "# determine the number of rows containing outliers\n",
    "# calculate the 25th percentile value in `tenure`\n",
    "percentile25 = df['Tenure'].quantile(0.25)\n",
    "\n",
    "# calculate the 75th percentile value in `tenure`\n",
    "percentile75 = df['Tenure'].quantile(0.75)\n",
    "\n",
    "# calculate the interquartile range in `tenure`\n",
    "iqr = percentile75 - percentile25\n",
    "\n",
    "# define the upper limit and lower limit for non-outlier values in `tenure`\n",
    "upper_limit = percentile75 + 1.5 * iqr\n",
    "lower_limit = percentile25 - 1.5 * iqr\n",
    "print(f\"Lower limit: {lower_limit}\")\n",
    "print(f\"Upper limit: {upper_limit}\")\n",
    "\n",
    "# identify subset of data containing outliers in `tenure`\n",
    "outliers = df[(df['Tenure'] > upper_limit) | (df['Tenure'] < lower_limit)]\n",
    "\n",
    "# count how many rows in the data contain outliers in `tenure`\n",
    "print(f\"Number of rows in the data containing outliers in `tenure`: {len(outliers)}\")"
   ]
  },
  {
   "cell_type": "code",
   "execution_count": null,
   "id": "1ab1f7a2",
   "metadata": {},
   "outputs": [],
   "source": [
    "# check variance\n",
    "# check correlation"
   ]
  },
  {
   "cell_type": "code",
   "execution_count": 38,
   "id": "da53fec9",
   "metadata": {},
   "outputs": [],
   "source": [
    "df_num = df.select_dtypes(exclude='O')\n",
    "df_cont = df_num.drop(columns = ['CID','HasCrCard','IsActiveMember','Churned'])"
   ]
  },
  {
   "cell_type": "code",
   "execution_count": 39,
   "id": "c74b0fb4",
   "metadata": {},
   "outputs": [
    {
     "data": {
      "text/plain": [
       "CreditScore        9.341860e+03\n",
       "Age                1.099941e+02\n",
       "Tenure             8.364673e+00\n",
       "Balance            3.893436e+09\n",
       "NumOfProducts      3.383218e-01\n",
       "EstimatedSalary    3.307457e+09\n",
       "dtype: float64"
      ]
     },
     "execution_count": 39,
     "metadata": {},
     "output_type": "execute_result"
    }
   ],
   "source": [
    "df_cont.var()"
   ]
  },
  {
   "cell_type": "code",
   "execution_count": 41,
   "id": "33c6a5d1",
   "metadata": {},
   "outputs": [],
   "source": [
    "df_corr = df_cont.corr()"
   ]
  },
  {
   "cell_type": "code",
   "execution_count": 42,
   "id": "8735c2c7",
   "metadata": {},
   "outputs": [
    {
     "data": {
      "image/png": "[encoded data removed]",
      "text/plain": [
       "<Figure size 640x480 with 2 Axes>"
      ]
     },
     "metadata": {},
     "output_type": "display_data"
    }
   ],
   "source": [
    "m = np.ones_like(df_corr)\n",
    "m[np.tril_indices_from(m)]=0\n",
    "sns.heatmap(df_corr, annot=True, fmt = '.2f', linewidths=2, linecolor='white', cmap = 'Blues', mask=m)\n",
    "plt.show()"
   ]
  },
  {
   "cell_type": "code",
   "execution_count": null,
   "id": "01f1c1d1",
   "metadata": {},
   "outputs": [],
   "source": [
    "# explore class difference"
   ]
  },
  {
   "cell_type": "code",
   "execution_count": null,
   "id": "fd2fe60c",
   "metadata": {},
   "outputs": [],
   "source": [
    "df['Churned'].value_counts(normalize=True)"
   ]
  },
  {
   "cell_type": "code",
   "execution_count": null,
   "id": "06bfe4d1",
   "metadata": {},
   "outputs": [],
   "source": [
    "import plotly.express as px\n",
    "\n",
    "fig = px.bar(df['Churned'].value_counts(), width=800, height=500)\n",
    "fig.show()"
   ]
  },
  {
   "cell_type": "code",
   "execution_count": null,
   "id": "565b8843",
   "metadata": {},
   "outputs": [],
   "source": [
    "# some class imbalance -> will use the stratify=y parameter when splitting the data later "
   ]
  },
  {
   "cell_type": "markdown",
   "id": "275f7483",
   "metadata": {},
   "source": [
    "***"
   ]
  },
  {
   "cell_type": "code",
   "execution_count": null,
   "id": "5e27c07c",
   "metadata": {},
   "outputs": [],
   "source": [
    "# feature engineering"
   ]
  },
  {
   "cell_type": "markdown",
   "id": "c064895d",
   "metadata": {},
   "source": [
    "***"
   ]
  },
  {
   "cell_type": "code",
   "execution_count": null,
   "id": "cc0d952d",
   "metadata": {},
   "outputs": [],
   "source": [
    "# machine learning models: (hyperparameter tuning not yet taught so lets not do gridsearchcv cos im lazy)\n",
    "# 1. Single: Logistic Regression\n",
    "# 2. Single: Decision Tree\n",
    "# 3. Single: SVM\n",
    "# 4. Ensemble: Random Forest\n",
    "# 5. Ensemble: Gradient Boost\n",
    "# 6. Ensemble: XGBoost"
   ]
  },
  {
   "cell_type": "code",
   "execution_count": null,
   "id": "c59f61d2",
   "metadata": {},
   "outputs": [],
   "source": [
    "# select features\n",
    "features = ['CreditScore', \n",
    "            'Age', \n",
    "            'Tenure', \n",
    "            'Balance', \n",
    "            'NumOfProducts', \n",
    "            'HasCrCard', \n",
    "            'IsActiveMember', \n",
    "            'EstimatedSalary']\n",
    "\n",
    "# separate into features / outcome\n",
    "X = df[features]\n",
    "y = df['Churned']\n",
    "\n",
    "# train test split\n",
    "# stratifying the split because the class weight is unbalanced\n",
    "X_train, X_test, y_train, y_test = train_test_split(X, y, test_size=0.3, random_state=42, stratify=y)"
   ]
  },
  {
   "cell_type": "code",
   "execution_count": null,
   "id": "0d3d9dd0",
   "metadata": {},
   "outputs": [],
   "source": [
    "# 1. logistic regression"
   ]
  },
  {
   "cell_type": "code",
   "execution_count": null,
   "id": "f5372219",
   "metadata": {},
   "outputs": [],
   "source": [
    "# logistic regression - no tuning\n",
    "# Instantiate model object and fit model\n",
    "log_reg = LogisticRegression(max_iter=300)\n",
    "log_reg_model = log_reg.fit(X_train, y_train)\n",
    "\n",
    "# Perform prediction with the model\n",
    "y_pred = log_reg_model.predict(X_test)\n",
    "\n",
    "# Then we pass in the test outcome and the predicted outcome to get the accuracy score\n",
    "print(metrics.accuracy_score(y_test, y_pred))"
   ]
  },
  {
   "cell_type": "code",
   "execution_count": null,
   "id": "64a39562",
   "metadata": {},
   "outputs": [],
   "source": [
    "# logistic regression with crossvalidation\n",
    "# Split the data into ten set\n",
    "kf = KFold(n_splits=10)\n",
    "\n",
    "# Create logistic regression object\n",
    "log_reg = LogisticRegression(max_iter=300)\n",
    "\n",
    "# List of accuracy for each fold\n",
    "k_fold_accuracy = []\n",
    "\n",
    "# Iterate through each fold and calculate the RMSE for each fold\n",
    "for train_index, test_index in kf.split(X):\n",
    "    \n",
    "    # Extract the training and test data\n",
    "    X_train, X_test = X.iloc[train_index], X.iloc[test_index]\n",
    "    y_train, y_test = y.iloc[train_index], y.iloc[test_index]\n",
    "    \n",
    "    # Fit model\n",
    "    log_reg_model = log_reg.fit(X_train, y_train)\n",
    "    y_pred = log_reg_model.predict(X_test)\n",
    "    \n",
    "    #Calculate Accuracy for the fold and append it\n",
    "    accuracy = metrics.accuracy_score(y_test, y_pred)\n",
    "    k_fold_accuracy.append(accuracy)\n",
    "    \n",
    "print('The accuracy for each fold is:', k_fold_accuracy)\n",
    "print('The average accuracy is:', statistics.mean(k_fold_accuracy))"
   ]
  },
  {
   "cell_type": "code",
   "execution_count": null,
   "id": "4098fc17",
   "metadata": {},
   "outputs": [],
   "source": [
    "# 2. single decision tree"
   ]
  },
  {
   "cell_type": "code",
   "execution_count": null,
   "id": "e9706c9d",
   "metadata": {},
   "outputs": [],
   "source": [
    "# single decision tree - no tuning\n",
    "# Instantiate model object and fit model\n",
    "decision_tree_classifier = DecisionTreeClassifier(random_state=42)\n",
    "decision_tree_classifier.fit(X_train,y_train)\n",
    "\n",
    "# Perform prediction with the model\n",
    "y_pred = decision_tree_classifier.predict(X_test)\n",
    "\n",
    "# Then we pass in the test outcome and the predicted outcome to get the accuracy score\n",
    "print(metrics.accuracy_score(y_test, y_pred))"
   ]
  },
  {
   "cell_type": "code",
   "execution_count": null,
   "id": "e8dd6b7d",
   "metadata": {},
   "outputs": [],
   "source": [
    "# decision tree with kfold cross validation\n",
    "# Split the data into ten set\n",
    "kf = KFold(n_splits=5)\n",
    "\n",
    "# Create SVM model object\n",
    "decision_tree_classifier = DecisionTreeClassifier(random_state=42)\n",
    "\n",
    "# List of RMSE for each fold\n",
    "k_fold_Accuracy = []\n",
    "\n",
    "# Iterate through each fold and calculate the RMSE for each fold\n",
    "for train_index, test_index in kf.split(X):\n",
    "    \n",
    "    # Extract the training and test data\n",
    "    X_train, X_test = X.iloc[train_index], X.iloc[test_index]\n",
    "    y_train, y_test = y.iloc[train_index], y.iloc[test_index]\n",
    "    \n",
    "    # Fit model\n",
    "    decision_tree_classifier_model = decision_tree_classifier.fit(X_train,y_train)\n",
    "    y_pred = decision_tree_classifier_model.predict(X_test)\n",
    "    \n",
    "    #Calculate RMSE for the fold and append it\n",
    "    accuracy = metrics.accuracy_score(y_test, y_pred)\n",
    "    k_fold_Accuracy.append(accuracy)\n",
    "    \n",
    "print('The Accuracy for each fold is:', k_fold_Accuracy)\n",
    "print('The average accuracy is:', statistics.mean(k_fold_Accuracy))"
   ]
  },
  {
   "cell_type": "code",
   "execution_count": null,
   "id": "69f5916b",
   "metadata": {},
   "outputs": [],
   "source": [
    "# 3. single svm"
   ]
  },
  {
   "cell_type": "code",
   "execution_count": null,
   "id": "925c059c",
   "metadata": {},
   "outputs": [],
   "source": [
    "# single svm - no tuning\n",
    "# Instantiate model object and fit model\n",
    "svm_classifier = svm.SVC(C=1)\n",
    "svm_classifier.fit(X_train,y_train)\n",
    "\n",
    "# Perform prediction with the model\n",
    "y_pred = svm_classifier.predict(X_test)\n",
    "\n",
    "# Then we pass in the test outcome and the predicted outcome to get the accuracy score\n",
    "print(metrics.accuracy_score(y_test, y_pred))"
   ]
  },
  {
   "cell_type": "code",
   "execution_count": null,
   "id": "c4f4ec76",
   "metadata": {},
   "outputs": [],
   "source": [
    "# svm with kfold crossvalidation\n",
    "import statistics\n",
    "\n",
    "# Split the data into ten set\n",
    "kf = KFold(n_splits=10)\n",
    "\n",
    "# Create SVM model object\n",
    "svm_classifier = svm.SVC(C=1)\n",
    "\n",
    "# List of RMSE for each fold\n",
    "k_fold_Accuracy = []\n",
    "\n",
    "# Iterate through each fold and calculate the RMSE for each fold\n",
    "for train_index, test_index in kf.split(X):\n",
    "    \n",
    "    # Extract the training and test data\n",
    "    X_train, X_test = X.iloc[train_index], X.iloc[test_index]\n",
    "    y_train, y_test = y.iloc[train_index], y.iloc[test_index]\n",
    "    \n",
    "    # Fit model\n",
    "    svm_classifier_model = svm_classifier.fit(X_train,y_train)\n",
    "    y_pred = svm_classifier_model.predict(X_test)\n",
    "    \n",
    "    #Calculate RMSE for the fold and append it\n",
    "    accuracy = metrics.accuracy_score(y_test, y_pred)\n",
    "    k_fold_Accuracy.append(accuracy)\n",
    "    \n",
    "print('The Accuracy for each fold is:', k_fold_Accuracy)\n",
    "print('The average accuracy is:', statistics.mean(k_fold_Accuracy))"
   ]
  },
  {
   "cell_type": "code",
   "execution_count": null,
   "id": "d3593449",
   "metadata": {},
   "outputs": [],
   "source": [
    "# 4. random forest"
   ]
  },
  {
   "cell_type": "code",
   "execution_count": null,
   "id": "8685e133",
   "metadata": {},
   "outputs": [],
   "source": [
    "# Instantiate the model object\n",
    "model = RandomForestClassifier(random_state=5)\n",
    "\n",
    "# Fit the model with the training data\n",
    "model.fit(X_train, y_train)\n",
    "print('Number of Trees used : ', model.n_estimators) # Find out number of trees used\n",
    "\n",
    "# Predict the target on the test dataset\n",
    "y_predict = model.predict(X_test)\n",
    "#print('\\nPrediction on test data', y_predict) \n",
    "\n",
    "# Accuracy Score on test dataset\n",
    "accuracy_test = metrics.accuracy_score(y_test, y_predict)\n",
    "print('\\nAccuracy_score on test dataset : ', accuracy_test)"
   ]
  },
  {
   "cell_type": "code",
   "execution_count": null,
   "id": "3d66a427",
   "metadata": {},
   "outputs": [],
   "source": [
    "# 5. gradient boost"
   ]
  },
  {
   "cell_type": "code",
   "execution_count": null,
   "id": "c037c364",
   "metadata": {},
   "outputs": [],
   "source": [
    "# instantiate model\n",
    "model = GradientBoostingClassifier(learning_rate=0.01,random_state=5)\n",
    "\n",
    "# fit model\n",
    "model.fit(X_train, y_train)\n",
    "\n",
    "y_predict = model.predict(X_test)\n",
    "#print('\\nPrediction on test data', y_predict) \n",
    "\n",
    "accuracy_test = metrics.accuracy_score(y_test, y_predict)\n",
    "print('\\nAccuracy_score on test dataset : ', accuracy_test)"
   ]
  },
  {
   "cell_type": "code",
   "execution_count": null,
   "id": "bc7d72a9",
   "metadata": {},
   "outputs": [],
   "source": [
    "# 6. xgboost"
   ]
  },
  {
   "cell_type": "code",
   "execution_count": null,
   "id": "08040893",
   "metadata": {},
   "outputs": [],
   "source": [
    "# Instantiate the model object\n",
    "model = xgb.XGBClassifier(learning_rate=0.1, random_state=5)\n",
    "\n",
    "# Fit the model with the training data\n",
    "model.fit(X_train, y_train)\n",
    "\n",
    "# predict the target on the test dataset\n",
    "y_predict = model.predict(X_test)\n",
    "print('\\nPrediction on test data', y_predict) \n",
    "\n",
    "# Accuracy Score on test dataset\n",
    "accuracy_test = metrics.accuracy_score(y_test, y_predict)\n",
    "print('\\nAccuracy_score on test dataset : ', accuracy_test)"
   ]
  },
  {
   "cell_type": "markdown",
   "id": "8a06165b",
   "metadata": {},
   "source": [
    "***"
   ]
  },
  {
   "cell_type": "code",
   "execution_count": null,
   "id": "9315aace",
   "metadata": {},
   "outputs": [],
   "source": [
    "# evaluate models"
   ]
  },
  {
   "cell_type": "code",
   "execution_count": null,
   "id": "14cf1e84",
   "metadata": {},
   "outputs": [],
   "source": []
  }
 ],
 "metadata": {
  "kernelspec": {
   "display_name": "Python 3 (ipykernel)",
   "language": "python",
   "name": "python3"
  },
  "language_info": {
   "codemirror_mode": {
    "name": "ipython",
    "version": 3
   },
   "file_extension": ".py",
   "mimetype": "text/x-python",
   "name": "python",
   "nbconvert_exporter": "python",
   "pygments_lexer": "ipython3",
   "version": "3.11.5"
  }
 },
 "nbformat": 4,
 "nbformat_minor": 5
}
