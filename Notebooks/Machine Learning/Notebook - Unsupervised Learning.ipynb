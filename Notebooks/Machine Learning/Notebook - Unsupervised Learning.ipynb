{
 "cells": [
  {
   "cell_type": "markdown",
   "id": "aff13a4e",
   "metadata": {},
   "source": [
    "<table class=\"table table-bordered\">\n",
    "    <tr>\n",
    "        <th style=\"width:250px;\">\n",
    "            <img src='https://bcgriseacademy.com/hs-fs/hubfs/rise2.0_black_logo.png' style=\"background-color:white; width: 100%; height: 100%; padding: 20px\">\n",
    "        </th>\n",
    "        <th style=\"text-align:center;\">\n",
    "            <h1>Mini project - Unsupervised Learning</h1>\n",
    "            <h3>IBF TFIP</h3>\n",
    "        </th>\n",
    "    </tr>\n",
    "</table>"
   ]
  },
  {
   "cell_type": "markdown",
   "id": "330fc27f",
   "metadata": {},
   "source": [
    "## Know the context\n",
    "\n",
    "You are a data analyst working in a retail bank based in the Middle East, where they have been doing traditional mass marketing campaigns for years. The bank is now keen to explore the benefits of running tailored marketing campaigns for their customer base.\n",
    "\n",
    "## Business problem\n",
    "\n",
    "The retail bank is facing a couple of challenges:\n",
    "1. Profitability pressure from reduced utilization by existing customers\n",
    "2. Increasingly competitive landscape where other banks are running personalized ad campaigns using differentiated products and services\n",
    "\n",
    "## Project objectives and description\n",
    "\n",
    "In this discovery phase, the objective is to understand the various segments that exist in the bank's customer base, based on the customers' demographics and utilization patterns.\n",
    "___"
   ]
  },
  {
   "cell_type": "markdown",
   "id": "30b926a6",
   "metadata": {},
   "source": [
    "## 1. Initial Setup"
   ]
  },
  {
   "cell_type": "code",
   "execution_count": null,
   "id": "7ac9d26e",
   "metadata": {},
   "outputs": [],
   "source": [
    "# Import libraries\n",
    "import pandas as pd\n",
    "import numpy as np\n",
    "import matplotlib.pyplot as plt\n",
    "import os\n",
    "\n",
    "from sklearn.cluster import KMeans\n",
    "from sklearn.metrics import silhouette_score\n",
    "\n",
    "from scipy.cluster.hierarchy import linkage, dendrogram\n",
    "from sklearn import metrics\n",
    "\n",
    "from sklearn.cluster import AgglomerativeClustering\n",
    "import matplotlib.cm as cm\n",
    "\n",
    "import warnings\n",
    "warnings.filterwarnings('ignore')"
   ]
  },
  {
   "cell_type": "markdown",
   "id": "ebf513aa",
   "metadata": {},
   "source": [
    "#### (1.1) Read the raw CSV file from the Data folder into pandas"
   ]
  },
  {
   "cell_type": "code",
   "execution_count": null,
   "id": "3c7dc33d",
   "metadata": {},
   "outputs": [],
   "source": [
    "# insert your code here\n"
   ]
  },
  {
   "cell_type": "markdown",
   "id": "e9228649",
   "metadata": {},
   "source": [
    "#### (1.2) View the first 5 rows of the data"
   ]
  },
  {
   "cell_type": "code",
   "execution_count": null,
   "id": "ce61f51c",
   "metadata": {},
   "outputs": [],
   "source": [
    "# insert your code here\n"
   ]
  },
  {
   "cell_type": "markdown",
   "id": "e2288653",
   "metadata": {},
   "source": [
    "___\n",
    "## 2. Data Exploration"
   ]
  },
  {
   "cell_type": "markdown",
   "id": "6635b20f",
   "metadata": {},
   "source": [
    "#### (2.1) Find the shape and data types of the dataset"
   ]
  },
  {
   "cell_type": "code",
   "execution_count": null,
   "id": "956f88e1",
   "metadata": {},
   "outputs": [],
   "source": [
    "# insert your code here\n"
   ]
  },
  {
   "cell_type": "markdown",
   "id": "c01fdbdb",
   "metadata": {},
   "source": [
    "#### (2.2) Convert the columns to the appropriate data type (wherever necessary)\n",
    "- HINT: Review date related columns"
   ]
  },
  {
   "cell_type": "code",
   "execution_count": null,
   "id": "0abeeb2e",
   "metadata": {},
   "outputs": [],
   "source": [
    "# insert your code here\n"
   ]
  },
  {
   "cell_type": "markdown",
   "id": "920d7150",
   "metadata": {},
   "source": [
    "#### (2.3) Check if there are any null values in the columns"
   ]
  },
  {
   "cell_type": "code",
   "execution_count": null,
   "id": "1aae648c",
   "metadata": {},
   "outputs": [],
   "source": [
    "# insert your code here\n"
   ]
  },
  {
   "cell_type": "markdown",
   "id": "a7eb2e8b",
   "metadata": {},
   "source": [
    "#### (2.4) For each categorical column, count the number of unique categories\n",
    "- HINT: Instead of doing it one by one, filter by dtypes that are equal to object, and print the unique count using `.nunique()`"
   ]
  },
  {
   "cell_type": "code",
   "execution_count": null,
   "id": "c96cc9d6",
   "metadata": {},
   "outputs": [],
   "source": [
    "# insert your code here\n"
   ]
  },
  {
   "cell_type": "markdown",
   "id": "9dff3a4a",
   "metadata": {},
   "source": [
    "#### (2.5) For numerical columns, check the data distributions using appropriate functions and plots (e.g., box plots)"
   ]
  },
  {
   "cell_type": "code",
   "execution_count": null,
   "id": "1a425e03",
   "metadata": {
    "scrolled": true
   },
   "outputs": [],
   "source": [
    "# insert your code here\n"
   ]
  },
  {
   "cell_type": "markdown",
   "id": "d9b27561",
   "metadata": {},
   "source": [
    "**Note**\n",
    "- For this dataset, there are a few very large values (outliers) in the monthly average balance.\n",
    "- Instead of dropping outliers, we will convert them into categories in the next step. \n",
    "- Note that dropping outliers is a bad move if we do not know exactly what is going on. For bank accounts, there will definitely be outliers because some customers are more wealthy than the rest. These are not data errors, so should not be dropped just because they are 'inconvenient' for our analysis"
   ]
  },
  {
   "cell_type": "markdown",
   "id": "be7049cb",
   "metadata": {},
   "source": [
    "___\n",
    "## 3. Data preprocessing\n",
    "\n",
    "The goal here is to convert all values to numerical so that record of each customer will be in the form of numeric feature vectors"
   ]
  },
  {
   "cell_type": "markdown",
   "id": "051acc08",
   "metadata": {},
   "source": [
    "#### (3.1) Create a new column `Tenure` for the number of months (rounded to nearest integer) since the customer has opened the account\n",
    "- HINT: The snapshot date is 01 Mar 2022, so you should find the date difference between the snapshot date and the account opening date.\n",
    "- Feel free to search for 'Pandas - Number of Months Between Two Dates' on StackOverflow for the answer"
   ]
  },
  {
   "cell_type": "code",
   "execution_count": null,
   "id": "5f6e11d2",
   "metadata": {},
   "outputs": [],
   "source": [
    "# insert your code here\n"
   ]
  },
  {
   "cell_type": "markdown",
   "id": "ee857d24",
   "metadata": {},
   "source": [
    "#### (3.2) Clean the `Monthly Average Balance` column by converting all negative balance values to 0"
   ]
  },
  {
   "cell_type": "code",
   "execution_count": null,
   "id": "0d83b61e",
   "metadata": {},
   "outputs": [],
   "source": [
    "# insert your code here\n"
   ]
  },
  {
   "cell_type": "markdown",
   "id": "7774feec",
   "metadata": {},
   "source": [
    "#### (3.3) Rather than discarding outliers, we want to group customers into the following categories based on the following monthly average balance deciles. \n",
    "\n",
    "- $\\ge$95%: 'Very High'\n",
    "- $\\ge$80% - 95%: 'High'\n",
    "- $\\ge$50% - 80%: 'Upper'\n",
    "- $\\lt$50%: 'Normal'\n",
    "\n",
    "#### Create Python variables to store these decile cutoffs\n",
    "- HINT: Only need to create 3 variables to indicate Very High, High, and Middle. Use the `.quantile` method"
   ]
  },
  {
   "cell_type": "code",
   "execution_count": null,
   "id": "a1f0a73f",
   "metadata": {},
   "outputs": [],
   "source": [
    "# insert your code here\n"
   ]
  },
  {
   "cell_type": "markdown",
   "id": "d6ae5a86",
   "metadata": {},
   "source": [
    "#### (3.4) Using the decile cutoff variables above, create a new column called `Balance Level` by splitting the `Monthly Average Balance` column into 4 categories and giving them the corresponding integer labels: 1, 2, 3, 4 (where 4 corresponds to the very high balance category)\n",
    "- HINT: Refer to https://stackoverflow.com/questions/44314670/create-rename-categories-with-pandas on how to use `pd.cut`. For the `bins` parameter, suggest to see the lowest value as -0.01 and highest value as 99999999"
   ]
  },
  {
   "cell_type": "code",
   "execution_count": null,
   "id": "af437b03",
   "metadata": {},
   "outputs": [],
   "source": [
    "# insert your code here\n"
   ]
  },
  {
   "cell_type": "markdown",
   "id": "c2a482b9",
   "metadata": {},
   "source": [
    "#### (3.5) For categorical columns, convert them to numeric format\n",
    "- Hint: use pandas dummy encoding "
   ]
  },
  {
   "cell_type": "code",
   "execution_count": null,
   "id": "d0aca89c",
   "metadata": {},
   "outputs": [],
   "source": [
    "# insert your code here\n"
   ]
  },
  {
   "cell_type": "markdown",
   "id": "e5b82564",
   "metadata": {},
   "source": [
    "#### (3.6) Drop columns that are no longer informative for downstream clustering\n",
    "- `Customer No`, `Customer Nationality`, `Account Opening Date`, `Monthly Average Balance`"
   ]
  },
  {
   "cell_type": "code",
   "execution_count": null,
   "id": "cad5962d",
   "metadata": {},
   "outputs": [],
   "source": [
    "# insert your code here\n"
   ]
  },
  {
   "cell_type": "markdown",
   "id": "2ea3e1b5",
   "metadata": {},
   "source": [
    "#### (3.6) Standardize the numerical values in the dataset\n",
    "Note: Perform min max scaling"
   ]
  },
  {
   "cell_type": "markdown",
   "id": "ccd59d1a",
   "metadata": {},
   "source": [
    "**💬 Checkpoint** \n",
    "- Why do we need to standardize the dataset before clustering?"
   ]
  },
  {
   "cell_type": "code",
   "execution_count": null,
   "id": "74ceedcb",
   "metadata": {},
   "outputs": [],
   "source": [
    "# insert your code here\n"
   ]
  },
  {
   "cell_type": "markdown",
   "id": "6beb8e1b",
   "metadata": {},
   "source": [
    "___\n",
    "## 4. K-Means Clustering\n",
    "The objective is to\n",
    "- Find the most appropriate k value using the Elbow method\n",
    "- Calculate and store the silhouette coefficient values"
   ]
  },
  {
   "cell_type": "markdown",
   "id": "ad103d40",
   "metadata": {},
   "source": [
    "#### (4.1) Create a baseline k-means model with `k=3` and `random_state=0` by fitting on the scaled data"
   ]
  },
  {
   "cell_type": "code",
   "execution_count": null,
   "id": "177f4285",
   "metadata": {},
   "outputs": [],
   "source": [
    "# insert your code here\n"
   ]
  },
  {
   "cell_type": "markdown",
   "id": "618060fb",
   "metadata": {},
   "source": [
    "#### (4.2) Obtain the inertia value and silhouette score of this model\n",
    "HINT: For silhouette score, you will need to first get predictions with `fit_predict`"
   ]
  },
  {
   "cell_type": "code",
   "execution_count": null,
   "id": "e8c955f5",
   "metadata": {},
   "outputs": [],
   "source": [
    "# insert your code here\n"
   ]
  },
  {
   "cell_type": "markdown",
   "id": "64611d80",
   "metadata": {},
   "source": [
    "#### (4.3) Repeat the above two steps but for the range of k values from 2 to 12. Save the inertia scores and silhouette scores in separate dictionaries"
   ]
  },
  {
   "cell_type": "code",
   "execution_count": null,
   "id": "3bbb18c9",
   "metadata": {},
   "outputs": [],
   "source": [
    "# insert your code here\n"
   ]
  },
  {
   "cell_type": "markdown",
   "id": "43eb89be",
   "metadata": {},
   "source": [
    "#### (4.4) Use the Elbow method (along with showing the plot) to determine the optimal number of clusters. "
   ]
  },
  {
   "cell_type": "code",
   "execution_count": null,
   "id": "0d5e467a",
   "metadata": {},
   "outputs": [],
   "source": [
    "# insert your code here\n"
   ]
  },
  {
   "cell_type": "markdown",
   "id": "98a516c1",
   "metadata": {},
   "source": [
    "#### (4.5) Use the Silhouette method (along with showing the plot) to determine the optimal number of clusters. \n",
    "- HINT: This part is NOT about generating the silhouette analysis graphs. Instead, repeat the code in Step 4.4, but instead of using inertia values, use the silhouette scores that you have already saved from Step 4.3"
   ]
  },
  {
   "cell_type": "code",
   "execution_count": null,
   "id": "52b19df5",
   "metadata": {},
   "outputs": [],
   "source": [
    "# insert your code here\n"
   ]
  },
  {
   "cell_type": "markdown",
   "id": "c97bc567",
   "metadata": {},
   "source": [
    "#### (4.6) What can we summarize from the elbow and silhouette plots, and what is the optimal cluster number you would choose?"
   ]
  },
  {
   "cell_type": "markdown",
   "id": "89dbaec4",
   "metadata": {},
   "source": [
    "Answer: "
   ]
  },
  {
   "cell_type": "markdown",
   "id": "748c8489",
   "metadata": {},
   "source": [
    "___\n",
    "## 5. Hierarchical clustering"
   ]
  },
  {
   "cell_type": "markdown",
   "id": "e1678afa",
   "metadata": {},
   "source": [
    "#### (5.1) Using the scaled data we created earlier, produce a dendrogram with hierarchical clustering"
   ]
  },
  {
   "cell_type": "code",
   "execution_count": null,
   "id": "9cdd0219",
   "metadata": {},
   "outputs": [],
   "source": [
    "# insert your code here\n"
   ]
  },
  {
   "cell_type": "markdown",
   "id": "a586e443",
   "metadata": {},
   "source": [
    "#### (5.2) What can we summarize from the dendrogram, and what is the optimal cluster number you would choose?"
   ]
  },
  {
   "cell_type": "markdown",
   "id": "f4e2896e",
   "metadata": {},
   "source": [
    "Answer: "
   ]
  },
  {
   "cell_type": "markdown",
   "id": "28a0d84e",
   "metadata": {},
   "source": [
    "#### (5.3) Using the optimal number of clusters above, create a hierarchical clustering model\n",
    "- Use `AgglomerativeClustering`"
   ]
  },
  {
   "cell_type": "code",
   "execution_count": null,
   "id": "452b337f",
   "metadata": {},
   "outputs": [],
   "source": [
    "# insert your code here\n"
   ]
  },
  {
   "cell_type": "markdown",
   "id": "4efa57ed",
   "metadata": {},
   "source": [
    "#### (5.4) Calculate the silhouette score"
   ]
  },
  {
   "cell_type": "code",
   "execution_count": null,
   "id": "7fabe4f9",
   "metadata": {},
   "outputs": [],
   "source": [
    "# insert your code here\n"
   ]
  },
  {
   "cell_type": "markdown",
   "id": "6d2d4fec",
   "metadata": {},
   "source": [
    "___\n",
    "## 6. Generating cluster labels"
   ]
  },
  {
   "cell_type": "markdown",
   "id": "4ab1a152",
   "metadata": {},
   "source": [
    "#### (6.1) Compare the silhouette score of k-means model (with k=3) and hierarchical clustering model (with k=4), and determine which is the ideal model to use. Explain your choice of model."
   ]
  },
  {
   "cell_type": "markdown",
   "id": "1521274f",
   "metadata": {},
   "source": [
    "Answer: "
   ]
  },
  {
   "cell_type": "markdown",
   "id": "c2ce3b78",
   "metadata": {},
   "source": [
    "#### (6.2) Using the model with the higher silhouette score, generate the predicted labels for each customer in the dataset, and save it the output array in a variable called `labels`\n",
    "- HINT: Use `fit_predict`"
   ]
  },
  {
   "cell_type": "code",
   "execution_count": null,
   "id": "71ef547b",
   "metadata": {},
   "outputs": [],
   "source": [
    "# insert your code here\n"
   ]
  },
  {
   "cell_type": "markdown",
   "id": "ac282372",
   "metadata": {},
   "source": [
    "#### (6.3) Append the `labels` array as a column (with the same name) to the processed dataframe from Step 3.6, so that each customer now has an assigned label"
   ]
  },
  {
   "cell_type": "code",
   "execution_count": null,
   "id": "02e7db45",
   "metadata": {},
   "outputs": [],
   "source": [
    "# insert your code here\n"
   ]
  },
  {
   "cell_type": "markdown",
   "id": "962adfd0",
   "metadata": {},
   "source": [
    "#### (6.4) Append the `labels` array as a column (with the same name) to the original dataset"
   ]
  },
  {
   "cell_type": "code",
   "execution_count": null,
   "id": "8b19ea82",
   "metadata": {},
   "outputs": [],
   "source": [
    "# insert your code here\n"
   ]
  },
  {
   "cell_type": "markdown",
   "id": "e42f126a",
   "metadata": {},
   "source": [
    "___\n",
    "## 7. Extracting Insights\n",
    "Now that we have assigned each customer to the relevant cluster labels, it is time to better understand how the clusters differ in terms of profile"
   ]
  },
  {
   "cell_type": "markdown",
   "id": "08822e59",
   "metadata": {},
   "source": [
    "#### (7.1) Compare the customer ages across the clusters\n",
    "- HINT: Sample code: `df.groupby(['labels'])['Column name'].mean().round(2)`"
   ]
  },
  {
   "cell_type": "code",
   "execution_count": null,
   "id": "d6157f0c",
   "metadata": {},
   "outputs": [],
   "source": [
    "# insert your code here\n"
   ]
  },
  {
   "cell_type": "markdown",
   "id": "3b2b8955",
   "metadata": {},
   "source": [
    "#### (7.2) Compare the average monthly balance across the clusters\n",
    "- HINT: Use the right dataset that contains the column required"
   ]
  },
  {
   "cell_type": "code",
   "execution_count": null,
   "id": "b3456941",
   "metadata": {
    "scrolled": true
   },
   "outputs": [],
   "source": [
    "# insert your code here\n"
   ]
  },
  {
   "cell_type": "markdown",
   "id": "2971ff59",
   "metadata": {},
   "source": [
    "#### (7.3) Compare the tenure across the clusters\n",
    "- HINT: Use the right dataset that contains the column required"
   ]
  },
  {
   "cell_type": "code",
   "execution_count": null,
   "id": "5e81a268",
   "metadata": {
    "scrolled": true
   },
   "outputs": [],
   "source": [
    "# insert your code here\n"
   ]
  },
  {
   "cell_type": "markdown",
   "id": "d3a79dcd",
   "metadata": {},
   "source": [
    "___"
   ]
  }
 ],
 "metadata": {
  "kernelspec": {
   "display_name": "Python 3 (ipykernel)",
   "language": "python",
   "name": "python3"
  },
  "language_info": {
   "codemirror_mode": {
    "name": "ipython",
    "version": 3
   },
   "file_extension": ".py",
   "mimetype": "text/x-python",
   "name": "python",
   "nbconvert_exporter": "python",
   "pygments_lexer": "ipython3",
   "version": "3.9.13"
  }
 },
 "nbformat": 4,
 "nbformat_minor": 5
}
