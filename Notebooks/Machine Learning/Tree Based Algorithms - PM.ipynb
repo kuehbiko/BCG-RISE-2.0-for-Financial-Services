{
 "cells": [
  {
   "cell_type": "markdown",
   "metadata": {},
   "source": [
    "<table class=\"table table-bordered\">\n",
    "    <tr>\n",
    "        <th style=\"width:200px;\">\n",
    "            <img src='https://bcgriseacademy.com/hs-fs/hubfs/RISE%202.0%20Logo_Options_25Jan23_RISE%20-%20For%20Black%20Background.png?width=3522&height=1986&name=RISE%202.0%20Logo_Options_25Jan23_RISE%20-%20For%20Black%20Background.png' style=\"background-color:black; width: 100%; height: 100%;\">\n",
    "        </th>\n",
    "        <th style=\"text-align:center;\">\n",
    "            <h1>IBF TFIP</h1>\n",
    "            <h2>Tree Based Algorithms</h2>\n",
    "        </th>\n",
    "    </tr>\n",
    "</table>"
   ]
  },
  {
   "cell_type": "markdown",
   "metadata": {},
   "source": [
    "# <a id='toc1_'></a>[Learning Objectives](#toc0_)\n",
    "#### <a id='toc1_1_1_1_'></a>[After completing this lesson, you should be able to:](#toc0_)\n",
    "1. LO1: Understand when to use Tree-Based Ensemble Algorithms\n",
    "2. LO2: How to model a classification tree using ensemble algorithms\n",
    "3. LO3: Perform Hyperparameter optimization"
   ]
  },
  {
   "cell_type": "markdown",
   "metadata": {},
   "source": [
    "**<h1>Table of Contents</h1>**<a id='toc0_'></a>       \n",
    "- [1.Ensemble Methods Introduction](#toc2_)    \n",
    "  - [1.1 What is Bagging ? <br>](#toc2_1_)    \n",
    "  - [1.2 What is Random Forest ?](#toc2_2_)    \n",
    "  - [1.3 How Random Forest works ?](#toc2_3_)    \n",
    "  - [<span style=\"background-color: #9dbcf1\">1.4 Difference between Decision Tree & Random Forest ?<br></span>](#toc2_4_)    \n",
    "  - [1.5 Why Random Forest ? <br>](#toc2_5_)    \n",
    "    - [<span style=\"background-color: #FFFF00\">1.5.1 Example 2 :Modeling Random Forest<span>](#toc2_5_1_)    \n",
    "    - [1.5.2 Importing Libraries](#toc2_5_2_)    \n",
    "    - [1.5.3 Data Preprocessing<br>](#toc2_5_3_)    \n",
    "    - [<span style=\"background-color: #FFFF00\">1.5.4 Example 1 :Modeling Random Forest<span>](#toc2_5_4_)    \n",
    "    - [1.5.5 Hyper parameter Optimization <br>](#toc2_5_5_)    \n",
    "    - [1.5.6 Disadvantages of Random Forest <br>](#toc2_5_6_)    \n",
    "  - [1.6 What is Boosting ? <br>](#toc2_6_)    \n",
    "    - [1.6.1 Gradient Boosting Method<br>](#toc2_6_1_)    \n",
    "    - [1.6.2 Intuition behind GBM<br>](#toc2_6_2_)    \n",
    "    - [1.6.3 Steps to fit a GBM model<br>](#toc2_6_3_)    \n",
    "    - [1.6.4 Visualization of working GBM Tree<br>](#toc2_6_4_)    \n",
    "    - [<span style=\"background-color: #FFFF00\">1.6.5 Example 3:Modelling GBM </span>](#toc2_6_5_)    \n",
    "      - [1.6.5.1 Hyper Parameter Optimization<br>](#toc2_6_5_1_)    \n",
    "      - [1.6.5.2 Tree Based Parameters<br>](#toc2_6_5_2_)    \n",
    "      - [1.6.5.3 Boosting Parameters<br>](#toc2_6_5_3_)    \n",
    "    - [<span style=\"background-color: #9dbcf1\">1.6.6 Difference between Random Forest and GBM and when should you use what ?<br></span>](#toc2_6_6_)    \n",
    "    - [<span style=\"background-color: #9dbcf1\">1.6.7 Handling of missing values<br></span>](#toc2_6_7_)    \n",
    "    - [1.6.8 Extreme Gradient Boosting(XGBoost)<br>](#toc2_6_8_)    \n",
    "    - [1.6.9 XGBoost Features<br>](#toc2_6_9_)    \n",
    "    - [1.6.10 Why Use XGBoost?](#toc2_6_10_)    \n",
    "    - [1.6.11 What Algorithm Does XGBoost Use?<br>](#toc2_6_11_)    \n",
    "    - [1.6.12 Comparing GBM and XGBoost<br>](#toc2_6_12_)    \n",
    "    - [<span style=\"background-color: #FFFF00\">1.6.13 Example 4: Modelling XGBoost</span>](#toc2_6_13_)    \n",
    "      - [1.6.13.1 Hyper Parameter Optimization](#toc2_6_13_1_)    \n",
    "  - [1.7 Model Comparision](#toc2_7_)    \n",
    "  - [1.8 Model Cheat Sheet](#toc2_8_)    \n",
    "- [2.Stacking](#toc3_)    \n",
    "\n",
    "<!-- vscode-jupyter-toc-config\n",
    "\tnumbering=false\n",
    "\tanchor=true\n",
    "\tflat=false\n",
    "\tminLevel=1\n",
    "\tmaxLevel=6\n",
    "\t/vscode-jupyter-toc-config -->\n",
    "<!-- THIS CELL WILL BE REPLACED ON TOC UPDATE. DO NOT WRITE YOUR TEXT IN THIS CELL -->"
   ]
  },
  {
   "cell_type": "markdown",
   "metadata": {},
   "source": [
    "\n",
    "# <a id='toc2_'></a>[1.Ensemble Methods Introduction](#toc0_)\n",
    "\n",
    "Like every other model, a tree based model also suffers from the plague of bias and variance. Bias means, how much on an average are the predicted values different from the actual value. Variance means, how different will the predictions of the model be at the same point if different samples are taken from the same population.\n",
    "\n",
    "If we build a small tree and we will get a model with low variance and high bias. How do we manage to balance the trade off between bias and variance ?\n",
    "\n",
    "Normally, as we increase the complexity of your model, we will see a reduction in prediction error due to lower bias in the model. As we continue to make your model more complex, we end up over-fitting our model and our model will start suffering from high variance.\n",
    "\n",
    "A champion model should maintain a balance between these two types of errors. This is known as the trade-off management of bias-variance errors. Ensemble learning is one way to execute this trade off analysis.\n",
    "\n",
    "Some of the commonly used ensemble methods include: Bagging, Boosting and Stacking. <br>\n",
    "\n",
    "<img src=\"./Images/bias_var.jpg\" width=\"420\" height=\"420\" align=\"center\"/>\n",
    "<img src=\"./Images/ensemble.jpg\" width=\"420\" height=\"420\" align=\"center\"/>\n",
    "    \n",
    "\\* More reference in the External Link Library\n",
    "\n"
   ]
  },
  {
   "cell_type": "markdown",
   "metadata": {},
   "source": [
    "<font><font style=\"font-family:Trebuchet MS;\">\n",
    "\n",
    "## <a id='toc2_1_'></a>[1.1 What is Bagging ? <br>](#toc0_)\n",
    "A nice trick we can use to reduce the variance of our models is to train many models and average their predictions. This is called ensemble learning. Ensembling can work with the same model trained on different subsets of the original training data randomly sampled with replacement. This technique is known as bootstrap aggregating or bagging.Bagging is a technique predominantly used with decision trees to reduce the variance while keeping bias to the same. \n",
    "\n",
    "- The intuition behind bagging is that we first generate (with replacement) numerous random samples of the training dataset (this is bootstrapping).\n",
    "- From there, train a model (typically a decision tree) on each of the samples.\n",
    "- All the training is done in parallel, and results of these individual models are combined using average or majority voting (this is aggregating)\n",
    "<img src=\"./Images/bagging.png\" width=\"500\" height=\"250\" align=\"center\"/> <br>\n",
    "Random forest is an example of bagging technique<br>"
   ]
  },
  {
   "cell_type": "markdown",
   "metadata": {},
   "source": [
    "<font><font style=\"font-family:Trebuchet MS;\">\n",
    "    \n",
    "<a id=\"section1\"></a>\n",
    "\n",
    "## <a id='toc2_2_'></a>[1.2 What is Random Forest ?](#toc0_)\n",
    "\n",
    "In earlier tutorial, we have learned how to use Decision trees to make a binary prediction. To improve our technique, we can train a group of Decision Tree classifiers, each on a different random subset of the train set. To make a prediction, we just obtain the predictions of all individuals trees, then predict the class that gets the most votes. This technique is called Random Forest.<br>\n",
    "    \n",
    "Random Forest adds additional randomness to the model, while growing the trees. Instead of searching for the most important feature while splitting a node, it searches for the best feature among a random subset of features. This results in a wide diversity that generally results in a better model.<br>\n",
    "    \n",
    "Therefore, in Random Forest, only a random subset of the features is taken into consideration by the algorithm for splitting a node. We can even make trees more random, by additionally using random thresholds for each feature rather than searching for the best possible thresholds (like a normal decision tree does).<br>\n",
    "\n",
    "\n",
    "<img src=\"./Images/rf.jpg\" width=\"420\" height=\"420\" align=\"center\"/>"
   ]
  },
  {
   "cell_type": "markdown",
   "metadata": {},
   "source": [
    "<font><font style=\"font-family:Trebuchet MS;\">\n",
    "    \n",
    "<a id=\"section1\"></a>\n",
    "\n",
    "## <a id='toc2_3_'></a>[1.3 How Random Forest works ?](#toc0_)\n",
    "\n",
    "Let’s look at the pseudo code for random forest algorithm and later we can walk through each step in the random forest algorithm.\n",
    "\n",
    "The pseudocode for random forest algorithm can split into two stages.\n",
    "\n",
    "- Random forest creation pseudo code.\n",
    "- Pseudo code to perform prediction from the created random forest classifier.\n",
    "First, let’s begin with random forest creation pseudo code\n",
    "\n",
    "__Random Forest pseudo code__\n",
    "\n",
    "- Randomly select “k” features from total “m” features. Where k << m.\n",
    "- Among the “k” features, calculate the node “d” using the best split point.\n",
    "- Split the node into child nodes using the best split.\n",
    "- Repeat 1 to 3 steps until “l” number of nodes has been reached.\n",
    "- Build forest by repeating steps 1 to 4 for “n” number times to create “n” number of trees.\n",
    "\n",
    "The beginning of random forest algorithm starts with randomly selecting “k” features out of total “m” features. In the image, we can observe that we are randomly taking features and observations.\n",
    "\n",
    "In the next stage, we are using the randomly selected “k” features to find the root node by using the best split approach.\n",
    "\n",
    "The next stage, We will be calculating the child nodes using the same best split approach. Will the first 3 stages until we form the tree with a root node and having the target as the leaf node.\n",
    "\n",
    "Finally, we repeat 1 to 4 stages to create “n” randomly created trees. This randomly created trees forms the random forest.\n",
    "\n",
    "__Random forest prediction pseudocode__ \n",
    "\n",
    "To perform prediction using the trained random forest algorithm uses the below pseudocode.\n",
    "\n",
    "- Takes the test features and use the rules of each randomly created decision tree to predict the oucome and stores the predicted outcome (target)\n",
    "- Calculate the votes for each predicted target.\n",
    "- Consider the high voted predicted target as the final prediction from the random forest algorithm.\n",
    "\n",
    "To perform the prediction using the trained random forest algorithm we need to pass the test features through the rules of each randomly created trees. Suppose let’s say we formed 100 random decision trees to from the random forest.\n",
    "\n",
    "Each random forest will predict different target (outcome) for the same test feature. Then by considering each predicted target votes will be calculated. Suppose the 100 random decision trees prediction are 3 unique targets x, y, z then the votes of x is nothing but out of 100 random decision tree how many trees prediction is x.\n",
    "\n",
    "Likewise for other 2 targets (y, z). If x is getting high votes. Let’s say out of 100 random decision trees 60 trees are predicting the target will be x. Then the final random forest returns the x as the predicted target.\n",
    "\n",
    "This concept of voting is known as majority voting.\n",
    "\n",
    "\\* More reference in the External Link Library"
   ]
  },
  {
   "cell_type": "markdown",
   "metadata": {},
   "source": [
    "<font><font style=\"font-family:Trebuchet MS;\">\n",
    "    \n",
    "## <a id='toc2_4_'></a>[<span style=\"background-color: #9dbcf1\">1.4 Difference between Decision Tree & Random Forest ?<br></span>](#toc0_)\n",
    "\n",
    "\n",
    "Random Forest is a collection of Decision Trees, but there are some differences.\n",
    "- If you input a training dataset with features and labels into a decision tree, it will formulate some set of rules, which will be used to make the predictions.<br>\n",
    "For example, if you want to predict whether a person will click on an online advertisement, we could collect the ad’s the person had clicked in the past and some features that describe his decision. If we put the features and labels into a decision tree, it will generate some rules. Then we can predict whether the advertisement will be clicked or not. In comparison, the Random Forest algorithm randomly selects observations and features to build several decision trees and then averages the results.<br>\n",
    "- Another difference is that deep decision trees might suffer from over-fitting. Random Forest prevents over-fitting most of the time, by creating random subsets of the features and building smaller trees using these subsets. Afterwards, it combines the subtrees. Note that this doesn't work every time and that it also makes the computation slower, depending on how many trees your random forest builds."
   ]
  },
  {
   "cell_type": "markdown",
   "metadata": {},
   "source": [
    "<font><font style=\"font-family:Trebuchet MS;\">\n",
    "\n",
    "## <a id='toc2_5_'></a>[1.5 Why Random Forest ? <br>](#toc0_)\n",
    "- Random forest algorithm or the random forest classifier can be used for both classification and the regression task.\n",
    "- Random forest classifier will handle the missing values.\n",
    "- When we have more trees in the forest, random forest classifier won't over-fit the model.<br>"
   ]
  },
  {
   "cell_type": "markdown",
   "metadata": {},
   "source": [
    "<a id=\"section3\"></a>\n",
    "### <a id='toc2_5_1_'></a>[<span style=\"background-color: #FFFF00\">1.5.1 Example 2 :Modeling Random Forest<span>](#toc0_)\n",
    "\n",
    "We will use the scikit-learn library to build the random forest model.<br>\n",
    "    \n",
    "### <a id='toc2_5_2_'></a>[1.5.2 Importing Libraries](#toc0_)"
   ]
  },
  {
   "cell_type": "code",
   "execution_count": 1,
   "metadata": {},
   "outputs": [],
   "source": [
    "# load libraries\n",
    "%matplotlib inline\n",
    "import pandas as pd\n",
    "import numpy as np\n",
    "import math as m\n",
    "import matplotlib.pyplot as plt\n",
    "import seaborn as sns\n",
    "import time\n",
    "import random\n",
    "import warnings\n",
    "warnings.filterwarnings('ignore')"
   ]
  },
  {
   "cell_type": "code",
   "execution_count": 2,
   "metadata": {},
   "outputs": [],
   "source": [
    "df =pd.read_csv(\"Data/trainf.csv\")"
   ]
  },
  {
   "cell_type": "markdown",
   "metadata": {},
   "source": [
    "The dataset contains 14 columns and 614 rows.\n"
   ]
  },
  {
   "cell_type": "code",
   "execution_count": 3,
   "metadata": {},
   "outputs": [
    {
     "name": "stdout",
     "output_type": "stream",
     "text": [
      "Here's the dimensions of our data frame:\n",
      " (614, 14)\n"
     ]
    }
   ],
   "source": [
    "print(\"Here's the dimensions of our data frame:\\n\",\n",
    "     df.shape)"
   ]
  },
  {
   "cell_type": "markdown",
   "metadata": {},
   "source": [
    "<font><font style=\"font-family:Trebuchet MS;\">\n",
    "Here are the data types of our columns. Variable Loan_Status is the predictor variable"
   ]
  },
  {
   "cell_type": "code",
   "execution_count": 4,
   "metadata": {},
   "outputs": [
    {
     "name": "stdout",
     "output_type": "stream",
     "text": [
      "<class 'pandas.core.frame.DataFrame'>\n",
      "RangeIndex: 614 entries, 0 to 613\n",
      "Data columns (total 14 columns):\n",
      " #   Column            Non-Null Count  Dtype  \n",
      "---  ------            --------------  -----  \n",
      " 0   Loan_ID           614 non-null    object \n",
      " 1   Gender            614 non-null    object \n",
      " 2   Married           614 non-null    object \n",
      " 3   Dependents        614 non-null    object \n",
      " 4   Education         614 non-null    object \n",
      " 5   Self_Employed     614 non-null    object \n",
      " 6   ApplicantIncome   614 non-null    float64\n",
      " 7   LoanAmount        614 non-null    float64\n",
      " 8   Loan_Amount_Term  614 non-null    int64  \n",
      " 9   Credit_History    614 non-null    float64\n",
      " 10  Property_Area     614 non-null    object \n",
      " 11  Loan_Status       614 non-null    object \n",
      " 12  Total_Income      614 non-null    float64\n",
      " 13  Capacity%         614 non-null    float64\n",
      "dtypes: float64(5), int64(1), object(8)\n",
      "memory usage: 67.3+ KB\n"
     ]
    }
   ],
   "source": [
    "df.info()"
   ]
  },
  {
   "cell_type": "markdown",
   "metadata": {},
   "source": [
    "<font><font style=\"font-family:Trebuchet MS;\">\n",
    "Next, we will employ a function that gives us standard descriptive statistics for each feature including mean, standard deviation, minimum value, maximum value, and range intervals."
   ]
  },
  {
   "cell_type": "code",
   "execution_count": 5,
   "metadata": {},
   "outputs": [
    {
     "data": {
      "text/html": [
       "<div>\n",
       "<style scoped>\n",
       "    .dataframe tbody tr th:only-of-type {\n",
       "        vertical-align: middle;\n",
       "    }\n",
       "\n",
       "    .dataframe tbody tr th {\n",
       "        vertical-align: top;\n",
       "    }\n",
       "\n",
       "    .dataframe thead th {\n",
       "        text-align: right;\n",
       "    }\n",
       "</style>\n",
       "<table border=\"1\" class=\"dataframe\">\n",
       "  <thead>\n",
       "    <tr style=\"text-align: right;\">\n",
       "      <th></th>\n",
       "      <th>ApplicantIncome</th>\n",
       "      <th>LoanAmount</th>\n",
       "      <th>Loan_Amount_Term</th>\n",
       "      <th>Credit_History</th>\n",
       "      <th>Total_Income</th>\n",
       "      <th>Capacity%</th>\n",
       "    </tr>\n",
       "  </thead>\n",
       "  <tbody>\n",
       "    <tr>\n",
       "      <th>count</th>\n",
       "      <td>614.000000</td>\n",
       "      <td>614.000000</td>\n",
       "      <td>614.000000</td>\n",
       "      <td>614.000000</td>\n",
       "      <td>614.000000</td>\n",
       "      <td>614.000000</td>\n",
       "    </tr>\n",
       "    <tr>\n",
       "      <th>mean</th>\n",
       "      <td>8.341213</td>\n",
       "      <td>146.412162</td>\n",
       "      <td>342.000000</td>\n",
       "      <td>0.842199</td>\n",
       "      <td>8.669414</td>\n",
       "      <td>2.401664</td>\n",
       "    </tr>\n",
       "    <tr>\n",
       "      <th>std</th>\n",
       "      <td>0.645263</td>\n",
       "      <td>84.037468</td>\n",
       "      <td>64.372489</td>\n",
       "      <td>0.349681</td>\n",
       "      <td>0.545102</td>\n",
       "      <td>0.894732</td>\n",
       "    </tr>\n",
       "    <tr>\n",
       "      <th>min</th>\n",
       "      <td>5.010635</td>\n",
       "      <td>9.000000</td>\n",
       "      <td>12.000000</td>\n",
       "      <td>0.000000</td>\n",
       "      <td>7.273786</td>\n",
       "      <td>0.252292</td>\n",
       "    </tr>\n",
       "    <tr>\n",
       "      <th>25%</th>\n",
       "      <td>7.964677</td>\n",
       "      <td>100.250000</td>\n",
       "      <td>360.000000</td>\n",
       "      <td>1.000000</td>\n",
       "      <td>8.334712</td>\n",
       "      <td>1.936150</td>\n",
       "    </tr>\n",
       "    <tr>\n",
       "      <th>50%</th>\n",
       "      <td>8.246040</td>\n",
       "      <td>129.000000</td>\n",
       "      <td>360.000000</td>\n",
       "      <td>1.000000</td>\n",
       "      <td>8.597205</td>\n",
       "      <td>2.417435</td>\n",
       "    </tr>\n",
       "    <tr>\n",
       "      <th>75%</th>\n",
       "      <td>8.664750</td>\n",
       "      <td>164.750000</td>\n",
       "      <td>360.000000</td>\n",
       "      <td>1.000000</td>\n",
       "      <td>8.925549</td>\n",
       "      <td>2.834513</td>\n",
       "    </tr>\n",
       "    <tr>\n",
       "      <th>max</th>\n",
       "      <td>11.302204</td>\n",
       "      <td>700.000000</td>\n",
       "      <td>480.000000</td>\n",
       "      <td>1.000000</td>\n",
       "      <td>11.302204</td>\n",
       "      <td>8.271164</td>\n",
       "    </tr>\n",
       "  </tbody>\n",
       "</table>\n",
       "</div>"
      ],
      "text/plain": [
       "       ApplicantIncome  LoanAmount  Loan_Amount_Term  Credit_History  \\\n",
       "count       614.000000  614.000000        614.000000      614.000000   \n",
       "mean          8.341213  146.412162        342.000000        0.842199   \n",
       "std           0.645263   84.037468         64.372489        0.349681   \n",
       "min           5.010635    9.000000         12.000000        0.000000   \n",
       "25%           7.964677  100.250000        360.000000        1.000000   \n",
       "50%           8.246040  129.000000        360.000000        1.000000   \n",
       "75%           8.664750  164.750000        360.000000        1.000000   \n",
       "max          11.302204  700.000000        480.000000        1.000000   \n",
       "\n",
       "       Total_Income   Capacity%  \n",
       "count    614.000000  614.000000  \n",
       "mean       8.669414    2.401664  \n",
       "std        0.545102    0.894732  \n",
       "min        7.273786    0.252292  \n",
       "25%        8.334712    1.936150  \n",
       "50%        8.597205    2.417435  \n",
       "75%        8.925549    2.834513  \n",
       "max       11.302204    8.271164  "
      ]
     },
     "execution_count": 5,
     "metadata": {},
     "output_type": "execute_result"
    }
   ],
   "source": [
    "df.describe()"
   ]
  },
  {
   "cell_type": "markdown",
   "metadata": {},
   "source": [
    "<font><font style=\"font-family:Trebuchet MS;\">\n",
    "Let's preview the data set utilizing the head() function, which will provide the first five values of our data frame."
   ]
  },
  {
   "cell_type": "code",
   "execution_count": 6,
   "metadata": {},
   "outputs": [
    {
     "data": {
      "text/html": [
       "<div>\n",
       "<style scoped>\n",
       "    .dataframe tbody tr th:only-of-type {\n",
       "        vertical-align: middle;\n",
       "    }\n",
       "\n",
       "    .dataframe tbody tr th {\n",
       "        vertical-align: top;\n",
       "    }\n",
       "\n",
       "    .dataframe thead th {\n",
       "        text-align: right;\n",
       "    }\n",
       "</style>\n",
       "<table border=\"1\" class=\"dataframe\">\n",
       "  <thead>\n",
       "    <tr style=\"text-align: right;\">\n",
       "      <th></th>\n",
       "      <th>Loan_ID</th>\n",
       "      <th>Gender</th>\n",
       "      <th>Married</th>\n",
       "      <th>Dependents</th>\n",
       "      <th>Education</th>\n",
       "      <th>Self_Employed</th>\n",
       "      <th>ApplicantIncome</th>\n",
       "      <th>LoanAmount</th>\n",
       "      <th>Loan_Amount_Term</th>\n",
       "      <th>Credit_History</th>\n",
       "      <th>Property_Area</th>\n",
       "      <th>Loan_Status</th>\n",
       "      <th>Total_Income</th>\n",
       "      <th>Capacity%</th>\n",
       "    </tr>\n",
       "  </thead>\n",
       "  <tbody>\n",
       "    <tr>\n",
       "      <th>0</th>\n",
       "      <td>LP001002</td>\n",
       "      <td>Male</td>\n",
       "      <td>No</td>\n",
       "      <td>0</td>\n",
       "      <td>Graduate</td>\n",
       "      <td>No</td>\n",
       "      <td>8.674026</td>\n",
       "      <td>146.412162</td>\n",
       "      <td>360</td>\n",
       "      <td>1.0</td>\n",
       "      <td>Urban</td>\n",
       "      <td>Y</td>\n",
       "      <td>8.674026</td>\n",
       "      <td>2.503200</td>\n",
       "    </tr>\n",
       "    <tr>\n",
       "      <th>1</th>\n",
       "      <td>LP001003</td>\n",
       "      <td>Male</td>\n",
       "      <td>Yes</td>\n",
       "      <td>1</td>\n",
       "      <td>Graduate</td>\n",
       "      <td>No</td>\n",
       "      <td>8.430109</td>\n",
       "      <td>128.000000</td>\n",
       "      <td>360</td>\n",
       "      <td>1.0</td>\n",
       "      <td>Rural</td>\n",
       "      <td>N</td>\n",
       "      <td>8.714568</td>\n",
       "      <td>2.101461</td>\n",
       "    </tr>\n",
       "    <tr>\n",
       "      <th>2</th>\n",
       "      <td>LP001005</td>\n",
       "      <td>Male</td>\n",
       "      <td>Yes</td>\n",
       "      <td>0</td>\n",
       "      <td>Graduate</td>\n",
       "      <td>Yes</td>\n",
       "      <td>8.006368</td>\n",
       "      <td>66.000000</td>\n",
       "      <td>360</td>\n",
       "      <td>1.0</td>\n",
       "      <td>Urban</td>\n",
       "      <td>Y</td>\n",
       "      <td>8.006368</td>\n",
       "      <td>2.200000</td>\n",
       "    </tr>\n",
       "    <tr>\n",
       "      <th>3</th>\n",
       "      <td>LP001006</td>\n",
       "      <td>Male</td>\n",
       "      <td>Yes</td>\n",
       "      <td>0</td>\n",
       "      <td>Not Graduate</td>\n",
       "      <td>No</td>\n",
       "      <td>7.856707</td>\n",
       "      <td>120.000000</td>\n",
       "      <td>360</td>\n",
       "      <td>1.0</td>\n",
       "      <td>Urban</td>\n",
       "      <td>Y</td>\n",
       "      <td>8.505323</td>\n",
       "      <td>2.428658</td>\n",
       "    </tr>\n",
       "    <tr>\n",
       "      <th>4</th>\n",
       "      <td>LP001008</td>\n",
       "      <td>Male</td>\n",
       "      <td>No</td>\n",
       "      <td>0</td>\n",
       "      <td>Graduate</td>\n",
       "      <td>No</td>\n",
       "      <td>8.699515</td>\n",
       "      <td>141.000000</td>\n",
       "      <td>360</td>\n",
       "      <td>1.0</td>\n",
       "      <td>Urban</td>\n",
       "      <td>Y</td>\n",
       "      <td>8.699515</td>\n",
       "      <td>2.350000</td>\n",
       "    </tr>\n",
       "  </tbody>\n",
       "</table>\n",
       "</div>"
      ],
      "text/plain": [
       "    Loan_ID Gender Married Dependents     Education Self_Employed  \\\n",
       "0  LP001002   Male      No          0      Graduate            No   \n",
       "1  LP001003   Male     Yes          1      Graduate            No   \n",
       "2  LP001005   Male     Yes          0      Graduate           Yes   \n",
       "3  LP001006   Male     Yes          0  Not Graduate            No   \n",
       "4  LP001008   Male      No          0      Graduate            No   \n",
       "\n",
       "   ApplicantIncome  LoanAmount  Loan_Amount_Term  Credit_History  \\\n",
       "0         8.674026  146.412162               360             1.0   \n",
       "1         8.430109  128.000000               360             1.0   \n",
       "2         8.006368   66.000000               360             1.0   \n",
       "3         7.856707  120.000000               360             1.0   \n",
       "4         8.699515  141.000000               360             1.0   \n",
       "\n",
       "  Property_Area Loan_Status  Total_Income  Capacity%  \n",
       "0         Urban           Y      8.674026   2.503200  \n",
       "1         Rural           N      8.714568   2.101461  \n",
       "2         Urban           Y      8.006368   2.200000  \n",
       "3         Urban           Y      8.505323   2.428658  \n",
       "4         Urban           Y      8.699515   2.350000  "
      ]
     },
     "execution_count": 6,
     "metadata": {},
     "output_type": "execute_result"
    }
   ],
   "source": [
    "df.head(5)"
   ]
  },
  {
   "cell_type": "markdown",
   "metadata": {},
   "source": [
    "<font><font style=\"font-family:Trebuchet MS;\">\n",
    "All missing values are imputed in the EDA section"
   ]
  },
  {
   "cell_type": "code",
   "execution_count": 7,
   "metadata": {},
   "outputs": [
    {
     "name": "stdout",
     "output_type": "stream",
     "text": [
      "Number of missing values in each column of train data \n",
      " Loan_ID             0\n",
      "Gender              0\n",
      "Married             0\n",
      "Dependents          0\n",
      "Education           0\n",
      "Self_Employed       0\n",
      "ApplicantIncome     0\n",
      "LoanAmount          0\n",
      "Loan_Amount_Term    0\n",
      "Credit_History      0\n",
      "Property_Area       0\n",
      "Loan_Status         0\n",
      "Total_Income        0\n",
      "Capacity%           0\n",
      "dtype: int64\n"
     ]
    }
   ],
   "source": [
    "#check missing values in train data\n",
    "print(\"Number of missing values in each column of train data \\n\", df.isnull().sum())"
   ]
  },
  {
   "cell_type": "code",
   "execution_count": 8,
   "metadata": {},
   "outputs": [
    {
     "data": {
      "text/plain": [
       "Y    422\n",
       "N    192\n",
       "Name: Loan_Status, dtype: int64"
      ]
     },
     "execution_count": 8,
     "metadata": {},
     "output_type": "execute_result"
    }
   ],
   "source": [
    "## To check target column is imbalanced or not \n",
    "df['Loan_Status'].value_counts()"
   ]
  },
  {
   "cell_type": "markdown",
   "metadata": {},
   "source": [
    "<a id=\"section3\"></a>\n",
    "<font><font style=\"font-family:Trebuchet MS;\">\n",
    "\n",
    "### <a id='toc2_5_3_'></a>[1.5.3 Data Preprocessing<br>](#toc0_)\n",
    "\n",
    "__Label Encoder__\n",
    "\n",
    "Here we are converting all the categorical variables to numeric\n",
    "\n",
    "[Guide to Encoding Categorical Values in Python](http://pbpython.com/categorical-encoding.html)"
   ]
  },
  {
   "cell_type": "code",
   "execution_count": 9,
   "metadata": {},
   "outputs": [
    {
     "data": {
      "text/html": [
       "<div>\n",
       "<style scoped>\n",
       "    .dataframe tbody tr th:only-of-type {\n",
       "        vertical-align: middle;\n",
       "    }\n",
       "\n",
       "    .dataframe tbody tr th {\n",
       "        vertical-align: top;\n",
       "    }\n",
       "\n",
       "    .dataframe thead th {\n",
       "        text-align: right;\n",
       "    }\n",
       "</style>\n",
       "<table border=\"1\" class=\"dataframe\">\n",
       "  <thead>\n",
       "    <tr style=\"text-align: right;\">\n",
       "      <th></th>\n",
       "      <th>Loan_ID</th>\n",
       "      <th>Gender</th>\n",
       "      <th>Married</th>\n",
       "      <th>Dependents</th>\n",
       "      <th>Education</th>\n",
       "      <th>Self_Employed</th>\n",
       "      <th>ApplicantIncome</th>\n",
       "      <th>LoanAmount</th>\n",
       "      <th>Loan_Amount_Term</th>\n",
       "      <th>Credit_History</th>\n",
       "      <th>Property_Area</th>\n",
       "      <th>Loan_Status</th>\n",
       "      <th>Total_Income</th>\n",
       "      <th>Capacity%</th>\n",
       "    </tr>\n",
       "  </thead>\n",
       "  <tbody>\n",
       "    <tr>\n",
       "      <th>0</th>\n",
       "      <td>LP001002</td>\n",
       "      <td>1</td>\n",
       "      <td>0</td>\n",
       "      <td>0</td>\n",
       "      <td>0</td>\n",
       "      <td>0</td>\n",
       "      <td>8.674026</td>\n",
       "      <td>146.412162</td>\n",
       "      <td>360</td>\n",
       "      <td>1.0</td>\n",
       "      <td>2</td>\n",
       "      <td>1</td>\n",
       "      <td>8.674026</td>\n",
       "      <td>2.503200</td>\n",
       "    </tr>\n",
       "    <tr>\n",
       "      <th>1</th>\n",
       "      <td>LP001003</td>\n",
       "      <td>1</td>\n",
       "      <td>1</td>\n",
       "      <td>1</td>\n",
       "      <td>0</td>\n",
       "      <td>0</td>\n",
       "      <td>8.430109</td>\n",
       "      <td>128.000000</td>\n",
       "      <td>360</td>\n",
       "      <td>1.0</td>\n",
       "      <td>0</td>\n",
       "      <td>0</td>\n",
       "      <td>8.714568</td>\n",
       "      <td>2.101461</td>\n",
       "    </tr>\n",
       "    <tr>\n",
       "      <th>2</th>\n",
       "      <td>LP001005</td>\n",
       "      <td>1</td>\n",
       "      <td>1</td>\n",
       "      <td>0</td>\n",
       "      <td>0</td>\n",
       "      <td>1</td>\n",
       "      <td>8.006368</td>\n",
       "      <td>66.000000</td>\n",
       "      <td>360</td>\n",
       "      <td>1.0</td>\n",
       "      <td>2</td>\n",
       "      <td>1</td>\n",
       "      <td>8.006368</td>\n",
       "      <td>2.200000</td>\n",
       "    </tr>\n",
       "    <tr>\n",
       "      <th>3</th>\n",
       "      <td>LP001006</td>\n",
       "      <td>1</td>\n",
       "      <td>1</td>\n",
       "      <td>0</td>\n",
       "      <td>1</td>\n",
       "      <td>0</td>\n",
       "      <td>7.856707</td>\n",
       "      <td>120.000000</td>\n",
       "      <td>360</td>\n",
       "      <td>1.0</td>\n",
       "      <td>2</td>\n",
       "      <td>1</td>\n",
       "      <td>8.505323</td>\n",
       "      <td>2.428658</td>\n",
       "    </tr>\n",
       "    <tr>\n",
       "      <th>4</th>\n",
       "      <td>LP001008</td>\n",
       "      <td>1</td>\n",
       "      <td>0</td>\n",
       "      <td>0</td>\n",
       "      <td>0</td>\n",
       "      <td>0</td>\n",
       "      <td>8.699515</td>\n",
       "      <td>141.000000</td>\n",
       "      <td>360</td>\n",
       "      <td>1.0</td>\n",
       "      <td>2</td>\n",
       "      <td>1</td>\n",
       "      <td>8.699515</td>\n",
       "      <td>2.350000</td>\n",
       "    </tr>\n",
       "  </tbody>\n",
       "</table>\n",
       "</div>"
      ],
      "text/plain": [
       "    Loan_ID  Gender  Married  Dependents  Education  Self_Employed  \\\n",
       "0  LP001002       1        0           0          0              0   \n",
       "1  LP001003       1        1           1          0              0   \n",
       "2  LP001005       1        1           0          0              1   \n",
       "3  LP001006       1        1           0          1              0   \n",
       "4  LP001008       1        0           0          0              0   \n",
       "\n",
       "   ApplicantIncome  LoanAmount  Loan_Amount_Term  Credit_History  \\\n",
       "0         8.674026  146.412162               360             1.0   \n",
       "1         8.430109  128.000000               360             1.0   \n",
       "2         8.006368   66.000000               360             1.0   \n",
       "3         7.856707  120.000000               360             1.0   \n",
       "4         8.699515  141.000000               360             1.0   \n",
       "\n",
       "   Property_Area  Loan_Status  Total_Income  Capacity%  \n",
       "0              2            1      8.674026   2.503200  \n",
       "1              0            0      8.714568   2.101461  \n",
       "2              2            1      8.006368   2.200000  \n",
       "3              2            1      8.505323   2.428658  \n",
       "4              2            1      8.699515   2.350000  "
      ]
     },
     "execution_count": 9,
     "metadata": {},
     "output_type": "execute_result"
    }
   ],
   "source": [
    "from sklearn.preprocessing import LabelEncoder\n",
    "var_mod=['Gender','Married','Dependents','Education','Self_Employed','Property_Area','Loan_Status']\n",
    "le=LabelEncoder()\n",
    "for i in var_mod:\n",
    "    df[i]=le.fit_transform(df[i])\n",
    "\n",
    "df.head(5)"
   ]
  },
  {
   "cell_type": "markdown",
   "metadata": {},
   "source": [
    "<a id=\"section4\"></a>\n",
    "<font><font style=\"font-family:Trebuchet MS;\">\n",
    "Let's split the data set into our training and test sets, which will be pseudo-randomly selected to create a 80-20% split. We will use the training set to train the model and perform some optimization. We will use the test set, which will act as unseen data, to assess model performance."
   ]
  },
  {
   "cell_type": "code",
   "execution_count": 10,
   "metadata": {},
   "outputs": [
    {
     "data": {
      "text/plain": [
       "(411, 12)"
      ]
     },
     "execution_count": 10,
     "metadata": {},
     "output_type": "execute_result"
    }
   ],
   "source": [
    "x=df.drop(['Loan_ID','Loan_Status'],axis=1)\n",
    "y=df['Loan_Status']\n",
    "from sklearn.model_selection import train_test_split\n",
    "x_train, x_test, y_train, y_test = train_test_split(x, y, test_size=0.33, random_state=42)\n",
    "x_train.shape"
   ]
  },
  {
   "cell_type": "markdown",
   "metadata": {},
   "source": [
    "<font><font style=\"font-family:Trebuchet MS;\">\n",
    "\n",
    "<a id=\"section3\"></a>\n",
    "### <a id='toc2_5_4_'></a>[<span style=\"background-color: #FFFF00\">1.5.4 Example 1 :Modeling Random Forest<span>](#toc0_)\n",
    "\n",
    "We will use the scikit-learn library to build the random forest model.<br>"
   ]
  },
  {
   "cell_type": "code",
   "execution_count": 11,
   "metadata": {},
   "outputs": [
    {
     "data": {
      "text/html": [
       "<style>#sk-container-id-1 {color: black;background-color: white;}#sk-container-id-1 pre{padding: 0;}#sk-container-id-1 div.sk-toggleable {background-color: white;}#sk-container-id-1 label.sk-toggleable__label {cursor: pointer;display: block;width: 100%;margin-bottom: 0;padding: 0.3em;box-sizing: border-box;text-align: center;}#sk-container-id-1 label.sk-toggleable__label-arrow:before {content: \"▸\";float: left;margin-right: 0.25em;color: #696969;}#sk-container-id-1 label.sk-toggleable__label-arrow:hover:before {color: black;}#sk-container-id-1 div.sk-estimator:hover label.sk-toggleable__label-arrow:before {color: black;}#sk-container-id-1 div.sk-toggleable__content {max-height: 0;max-width: 0;overflow: hidden;text-align: left;background-color: #f0f8ff;}#sk-container-id-1 div.sk-toggleable__content pre {margin: 0.2em;color: black;border-radius: 0.25em;background-color: #f0f8ff;}#sk-container-id-1 input.sk-toggleable__control:checked~div.sk-toggleable__content {max-height: 200px;max-width: 100%;overflow: auto;}#sk-container-id-1 input.sk-toggleable__control:checked~label.sk-toggleable__label-arrow:before {content: \"▾\";}#sk-container-id-1 div.sk-estimator input.sk-toggleable__control:checked~label.sk-toggleable__label {background-color: #d4ebff;}#sk-container-id-1 div.sk-label input.sk-toggleable__control:checked~label.sk-toggleable__label {background-color: #d4ebff;}#sk-container-id-1 input.sk-hidden--visually {border: 0;clip: rect(1px 1px 1px 1px);clip: rect(1px, 1px, 1px, 1px);height: 1px;margin: -1px;overflow: hidden;padding: 0;position: absolute;width: 1px;}#sk-container-id-1 div.sk-estimator {font-family: monospace;background-color: #f0f8ff;border: 1px dotted black;border-radius: 0.25em;box-sizing: border-box;margin-bottom: 0.5em;}#sk-container-id-1 div.sk-estimator:hover {background-color: #d4ebff;}#sk-container-id-1 div.sk-parallel-item::after {content: \"\";width: 100%;border-bottom: 1px solid gray;flex-grow: 1;}#sk-container-id-1 div.sk-label:hover label.sk-toggleable__label {background-color: #d4ebff;}#sk-container-id-1 div.sk-serial::before {content: \"\";position: absolute;border-left: 1px solid gray;box-sizing: border-box;top: 0;bottom: 0;left: 50%;z-index: 0;}#sk-container-id-1 div.sk-serial {display: flex;flex-direction: column;align-items: center;background-color: white;padding-right: 0.2em;padding-left: 0.2em;position: relative;}#sk-container-id-1 div.sk-item {position: relative;z-index: 1;}#sk-container-id-1 div.sk-parallel {display: flex;align-items: stretch;justify-content: center;background-color: white;position: relative;}#sk-container-id-1 div.sk-item::before, #sk-container-id-1 div.sk-parallel-item::before {content: \"\";position: absolute;border-left: 1px solid gray;box-sizing: border-box;top: 0;bottom: 0;left: 50%;z-index: -1;}#sk-container-id-1 div.sk-parallel-item {display: flex;flex-direction: column;z-index: 1;position: relative;background-color: white;}#sk-container-id-1 div.sk-parallel-item:first-child::after {align-self: flex-end;width: 50%;}#sk-container-id-1 div.sk-parallel-item:last-child::after {align-self: flex-start;width: 50%;}#sk-container-id-1 div.sk-parallel-item:only-child::after {width: 0;}#sk-container-id-1 div.sk-dashed-wrapped {border: 1px dashed gray;margin: 0 0.4em 0.5em 0.4em;box-sizing: border-box;padding-bottom: 0.4em;background-color: white;}#sk-container-id-1 div.sk-label label {font-family: monospace;font-weight: bold;display: inline-block;line-height: 1.2em;}#sk-container-id-1 div.sk-label-container {text-align: center;}#sk-container-id-1 div.sk-container {/* jupyter's `normalize.less` sets `[hidden] { display: none; }` but bootstrap.min.css set `[hidden] { display: none !important; }` so we also need the `!important` here to be able to override the default hidden behavior on the sphinx rendered scikit-learn.org. See: https://github.com/scikit-learn/scikit-learn/issues/21755 */display: inline-block !important;position: relative;}#sk-container-id-1 div.sk-text-repr-fallback {display: none;}</style><div id=\"sk-container-id-1\" class=\"sk-top-container\"><div class=\"sk-text-repr-fallback\"><pre>RandomForestClassifier(random_state=42)</pre><b>In a Jupyter environment, please rerun this cell to show the HTML representation or trust the notebook. <br />On GitHub, the HTML representation is unable to render, please try loading this page with nbviewer.org.</b></div><div class=\"sk-container\" hidden><div class=\"sk-item\"><div class=\"sk-estimator sk-toggleable\"><input class=\"sk-toggleable__control sk-hidden--visually\" id=\"sk-estimator-id-1\" type=\"checkbox\" checked><label for=\"sk-estimator-id-1\" class=\"sk-toggleable__label sk-toggleable__label-arrow\">RandomForestClassifier</label><div class=\"sk-toggleable__content\"><pre>RandomForestClassifier(random_state=42)</pre></div></div></div></div></div>"
      ],
      "text/plain": [
       "RandomForestClassifier(random_state=42)"
      ]
     },
     "execution_count": 11,
     "metadata": {},
     "output_type": "execute_result"
    }
   ],
   "source": [
    "from sklearn.ensemble import RandomForestClassifier\n",
    "rf = RandomForestClassifier(random_state = 42)\n",
    "rf.fit(x_train,y_train)"
   ]
  },
  {
   "cell_type": "markdown",
   "metadata": {},
   "source": [
    "<font><font style=\"font-family:Trebuchet MS;\">\n",
    "Now, we will use the trained classifier/ model to predict the labels of the test attributes."
   ]
  },
  {
   "cell_type": "code",
   "execution_count": 12,
   "metadata": {},
   "outputs": [],
   "source": [
    "y_pred_rf=rf.predict(x_test)"
   ]
  },
  {
   "cell_type": "code",
   "execution_count": 13,
   "metadata": {},
   "outputs": [
    {
     "data": {
      "text/plain": [
       "<AxesSubplot:xlabel='importance', ylabel='Features'>"
      ]
     },
     "execution_count": 13,
     "metadata": {},
     "output_type": "execute_result"
    },
    {
     "data": {
      "image/png": "[encoded data removed]",
      "text/plain": [
       "<Figure size 640x480 with 1 Axes>"
      ]
     },
     "metadata": {},
     "output_type": "display_data"
    }
   ],
   "source": [
    "#feature Importance\n",
    "feat_imp={'Columns':x_train.columns.values,'Coefficients':rf.feature_importances_}\n",
    "feat_imp=pd.DataFrame()\n",
    "feat_imp['Features']=x_train.columns.values\n",
    "feat_imp['importance']=rf.feature_importances_\n",
    "feat_imp=feat_imp.sort_values(by='importance', ascending=False)\n",
    "sns.barplot(y=\"Features\", x=\"importance\", data=feat_imp)"
   ]
  },
  {
   "cell_type": "code",
   "execution_count": 14,
   "metadata": {},
   "outputs": [
    {
     "name": "stdout",
     "output_type": "stream",
     "text": [
      "Confusion matrix:\n",
      "[[ 40  32]\n",
      " [  5 126]]\n"
     ]
    }
   ],
   "source": [
    "from sklearn.metrics import confusion_matrix\n",
    "confusion_matrix = confusion_matrix(y_test, y_pred_rf)\n",
    "print(\"Confusion matrix:\\n%s\" % confusion_matrix)"
   ]
  },
  {
   "cell_type": "code",
   "execution_count": 15,
   "metadata": {},
   "outputs": [
    {
     "name": "stdout",
     "output_type": "stream",
     "text": [
      "accuracy score 0.82\n",
      "              precision    recall  f1-score   support\n",
      "\n",
      "           0       0.89      0.56      0.68        72\n",
      "           1       0.80      0.96      0.87       131\n",
      "\n",
      "    accuracy                           0.82       203\n",
      "   macro avg       0.84      0.76      0.78       203\n",
      "weighted avg       0.83      0.82      0.81       203\n",
      "\n"
     ]
    }
   ],
   "source": [
    "# classification report\n",
    "from sklearn import metrics \n",
    "from sklearn.metrics import classification_report\n",
    "from sklearn.metrics import accuracy_score\n",
    "print(\"accuracy score\",round(accuracy_score(y_test, y_pred_rf),2))\n",
    "print(classification_report(y_test, y_pred_rf))"
   ]
  },
  {
   "cell_type": "code",
   "execution_count": 16,
   "metadata": {
    "scrolled": false
   },
   "outputs": [
    {
     "data": {
      "image/png": "[encoded data removed]",
      "text/plain": [
       "<Figure size 1000x1000 with 1 Axes>"
      ]
     },
     "metadata": {},
     "output_type": "display_data"
    }
   ],
   "source": [
    "import sys\n",
    "from sklearn.metrics import roc_curve, auc\n",
    "fpr, tpr, thresholds =roc_curve(y_test, y_pred_rf)\n",
    "roc_auc = auc(fpr, tpr)\n",
    "\n",
    "def plot_roc_curve(fpr, tpr, auc, mod, xlim=None, ylim=None):\n",
    "    \"\"\"\n",
    "    Purpose\n",
    "    ----------\n",
    "    Function creates ROC Curve for respective model given selected parameters.\n",
    "    Optional x and y limits to zoom into graph\n",
    "\n",
    "    Parameters\n",
    "    ----------\n",
    "    fpr:  Array returned from sklearn.metrics.roc_curve for increasing\n",
    "         false positive rates\n",
    "    tpr:  Array returned from sklearn.metrics.roc_curve for increasing\n",
    "         true positive rates\n",
    "    auc:  Float returned from sklearn.metrics.auc (Area under Curve)\n",
    "    mod:  String represenation of appropriate model, can only contain the\n",
    "         following: ['knn', 'rf', 'nn']\n",
    "    xlim: Set upper and lower x-limits\n",
    "    ylim: Set upper and lower y-limits\n",
    "\n",
    "    Returns:\n",
    "    ----------\n",
    "    Returns plot of Receiving Operating Curve for specific model. Allowing user to\n",
    "    specify x and y-limits.\n",
    "    \"\"\"\n",
    "    mod_list = ['knn', 'rf', 'nn']\n",
    "    method = [('Kth Nearest Neighbor', 'deeppink'),\n",
    "          ('Random Forest', 'red'),\n",
    "          ('Neural Network', 'purple')]\n",
    "\n",
    "    plot_title = ''\n",
    "    color_value = ''\n",
    "    for i in range(0, 3):\n",
    "        if mod_list[i] == mod:\n",
    "            plot_title = method[i][0]\n",
    "            color_value = method[i][1]\n",
    "\n",
    "    fig, ax = plt.subplots(figsize=(10, 10))\n",
    "    #ax.set_axis_bgcolor('#fafafa')\n",
    "\n",
    "    plt.plot(fpr, tpr,\n",
    "         color=color_value,\n",
    "         linewidth=1)\n",
    "    plt.title('ROC Curve For {0} (AUC = {1: 0.3f}) \\\n",
    "          \\nLoan Prediction Diagnostic'\\\n",
    "          .format(plot_title, auc))\n",
    "\n",
    "    plt.plot([0, 1], [0, 1], 'k--', lw=2) # Add Diagonal line\n",
    "    plt.plot([0, 0], [1, 0], 'k--', lw=2, color = 'black')\n",
    "    plt.plot([1, 0], [1, 1], 'k--', lw=2, color = 'black')\n",
    "    if xlim is not None:\n",
    "        plt.xlim(*xlim)\n",
    "    if ylim is not None:\n",
    "        plt.ylim(*ylim)\n",
    "    plt.xlabel('False Positive Rate')\n",
    "    plt.ylabel('True Positive Rate')\n",
    "    plt.show()\n",
    "    plt.close()\n",
    "    \n",
    "plot_roc_curve(fpr, tpr, roc_auc, 'rf',\n",
    "           xlim=(-0.01, 1.05),\n",
    "           ylim=(0.001, 1.05))"
   ]
  },
  {
   "cell_type": "markdown",
   "metadata": {},
   "source": [
    "<font><font style=\"font-family:Trebuchet MS;\">\n",
    "<a id=\"section10\"></a>\n",
    "\n",
    "### <a id='toc2_5_5_'></a>[1.5.5 Hyper parameter Optimization <br>](#toc0_)\n",
    "\n",
    "The Hyper parameters in random forest are either used to increase the predictive power of the model or to make the model faster.\n",
    "\n",
    "__1. Increasing the Predictive Power__\n",
    "\n",
    "Firstly, there is the __n_estimators__ hyper parameter, which is just the number of trees the algorithm builds before taking the maximum voting or taking averages of predictions. In general, a higher number of trees increases the performance and makes the predictions more stable, but it also slows down the computation.\n",
    "\n",
    "Another important hyper parameter is __max_features__, which is the maximum number of features Random Forest considers to split a node. Sklearn provides several options, described in their documentation.\n",
    "\n",
    "The last important hyper-parameter we will talk about in terms of speed, is __min_sample_leaf__. This determines, like its name already says, the minimum number of leafs that are required to split an internal node.\n",
    "\n",
    "__2. Increasing the Models Speed__\n",
    "\n",
    "The __n_jobs__ hyper parameter tells the engine how many processors it is allowed to use. If it has a value of 1, it can only use one processor. A value of “-1” means that there is no limit.\n",
    "\n",
    "__random_state__ makes the model's output replicable . The model will always produce the same results when it has a definite value of random_state and if it has been given the same hyper parameters and the same training data.\n",
    "\n",
    "Lastly, there is the __oob_score__ (also called oob sampling), which is a random forest cross validation method. In this sampling, about one-third of the data is not used to train the model and can be used to evaluate its performance. These samples are called the out of bag samples. It is very similar to the leave-one-out cross-validation method, but almost no additional computational burden goes along with it.\n",
    "\n",
    "Now, let's create the model, starting with parameter tuning. Here are some of the parameters we will be tuning in this tutorial: \n",
    "-  __max_depth__: The maximum splits for all trees in the forest.The more the splits more flexible the model is\n",
    "-  __max_features__: The maximum number of features that will be used in node splitting.\n",
    "-  __criterion__: This is the metric used to asses the stopping criteria for the decision trees.\n",
    "The parameters helps to control regularization and model complexity"
   ]
  },
  {
   "cell_type": "code",
   "execution_count": 17,
   "metadata": {},
   "outputs": [],
   "source": [
    "rf_tree_cv = RandomForestClassifier(random_state=42)"
   ]
  },
  {
   "cell_type": "code",
   "execution_count": 18,
   "metadata": {},
   "outputs": [
    {
     "name": "stdout",
     "output_type": "stream",
     "text": [
      "Best Parameters using grid search: \n",
      " {'criterion': 'gini', 'max_depth': 4, 'max_features': None}\n",
      "Time taken in grid search:  19.22\n"
     ]
    }
   ],
   "source": [
    "from sklearn.model_selection import train_test_split, GridSearchCV\n",
    "np.random.seed(42)\n",
    "start = time.time()\n",
    "\n",
    "param_dist = {'max_depth': [2, 3, 4],\n",
    "              'max_features': ['auto', 'sqrt', 'log2', None],\n",
    "              'criterion': ['gini', 'entropy']}\n",
    "\n",
    "cv_rf_tree =GridSearchCV(rf_tree_cv, cv = 10,\n",
    "                     param_grid=param_dist,\n",
    "                     n_jobs = 3,scoring='accuracy')\n",
    "\n",
    "cv_rf_tree.fit(x_train,y_train)\n",
    "print('Best Parameters using grid search: \\n',\n",
    "     cv_rf_tree.best_params_)\n",
    "end = time.time()\n",
    "print('Time taken in grid search: {0: .2f}'.format(end - start))"
   ]
  },
  {
   "cell_type": "markdown",
   "metadata": {},
   "source": [
    "<font><font style=\"font-family:Trebuchet MS;\">\n",
    "Once we find the best parameter combination, we can set the parameters to our model."
   ]
  },
  {
   "cell_type": "code",
   "execution_count": 19,
   "metadata": {},
   "outputs": [
    {
     "data": {
      "text/html": [
       "<style>#sk-container-id-2 {color: black;background-color: white;}#sk-container-id-2 pre{padding: 0;}#sk-container-id-2 div.sk-toggleable {background-color: white;}#sk-container-id-2 label.sk-toggleable__label {cursor: pointer;display: block;width: 100%;margin-bottom: 0;padding: 0.3em;box-sizing: border-box;text-align: center;}#sk-container-id-2 label.sk-toggleable__label-arrow:before {content: \"▸\";float: left;margin-right: 0.25em;color: #696969;}#sk-container-id-2 label.sk-toggleable__label-arrow:hover:before {color: black;}#sk-container-id-2 div.sk-estimator:hover label.sk-toggleable__label-arrow:before {color: black;}#sk-container-id-2 div.sk-toggleable__content {max-height: 0;max-width: 0;overflow: hidden;text-align: left;background-color: #f0f8ff;}#sk-container-id-2 div.sk-toggleable__content pre {margin: 0.2em;color: black;border-radius: 0.25em;background-color: #f0f8ff;}#sk-container-id-2 input.sk-toggleable__control:checked~div.sk-toggleable__content {max-height: 200px;max-width: 100%;overflow: auto;}#sk-container-id-2 input.sk-toggleable__control:checked~label.sk-toggleable__label-arrow:before {content: \"▾\";}#sk-container-id-2 div.sk-estimator input.sk-toggleable__control:checked~label.sk-toggleable__label {background-color: #d4ebff;}#sk-container-id-2 div.sk-label input.sk-toggleable__control:checked~label.sk-toggleable__label {background-color: #d4ebff;}#sk-container-id-2 input.sk-hidden--visually {border: 0;clip: rect(1px 1px 1px 1px);clip: rect(1px, 1px, 1px, 1px);height: 1px;margin: -1px;overflow: hidden;padding: 0;position: absolute;width: 1px;}#sk-container-id-2 div.sk-estimator {font-family: monospace;background-color: #f0f8ff;border: 1px dotted black;border-radius: 0.25em;box-sizing: border-box;margin-bottom: 0.5em;}#sk-container-id-2 div.sk-estimator:hover {background-color: #d4ebff;}#sk-container-id-2 div.sk-parallel-item::after {content: \"\";width: 100%;border-bottom: 1px solid gray;flex-grow: 1;}#sk-container-id-2 div.sk-label:hover label.sk-toggleable__label {background-color: #d4ebff;}#sk-container-id-2 div.sk-serial::before {content: \"\";position: absolute;border-left: 1px solid gray;box-sizing: border-box;top: 0;bottom: 0;left: 50%;z-index: 0;}#sk-container-id-2 div.sk-serial {display: flex;flex-direction: column;align-items: center;background-color: white;padding-right: 0.2em;padding-left: 0.2em;position: relative;}#sk-container-id-2 div.sk-item {position: relative;z-index: 1;}#sk-container-id-2 div.sk-parallel {display: flex;align-items: stretch;justify-content: center;background-color: white;position: relative;}#sk-container-id-2 div.sk-item::before, #sk-container-id-2 div.sk-parallel-item::before {content: \"\";position: absolute;border-left: 1px solid gray;box-sizing: border-box;top: 0;bottom: 0;left: 50%;z-index: -1;}#sk-container-id-2 div.sk-parallel-item {display: flex;flex-direction: column;z-index: 1;position: relative;background-color: white;}#sk-container-id-2 div.sk-parallel-item:first-child::after {align-self: flex-end;width: 50%;}#sk-container-id-2 div.sk-parallel-item:last-child::after {align-self: flex-start;width: 50%;}#sk-container-id-2 div.sk-parallel-item:only-child::after {width: 0;}#sk-container-id-2 div.sk-dashed-wrapped {border: 1px dashed gray;margin: 0 0.4em 0.5em 0.4em;box-sizing: border-box;padding-bottom: 0.4em;background-color: white;}#sk-container-id-2 div.sk-label label {font-family: monospace;font-weight: bold;display: inline-block;line-height: 1.2em;}#sk-container-id-2 div.sk-label-container {text-align: center;}#sk-container-id-2 div.sk-container {/* jupyter's `normalize.less` sets `[hidden] { display: none; }` but bootstrap.min.css set `[hidden] { display: none !important; }` so we also need the `!important` here to be able to override the default hidden behavior on the sphinx rendered scikit-learn.org. See: https://github.com/scikit-learn/scikit-learn/issues/21755 */display: inline-block !important;position: relative;}#sk-container-id-2 div.sk-text-repr-fallback {display: none;}</style><div id=\"sk-container-id-2\" class=\"sk-top-container\"><div class=\"sk-text-repr-fallback\"><pre>RandomForestClassifier(criterion=&#x27;entropy&#x27;, max_depth=3, max_features=None,\n",
       "                       random_state=42)</pre><b>In a Jupyter environment, please rerun this cell to show the HTML representation or trust the notebook. <br />On GitHub, the HTML representation is unable to render, please try loading this page with nbviewer.org.</b></div><div class=\"sk-container\" hidden><div class=\"sk-item\"><div class=\"sk-estimator sk-toggleable\"><input class=\"sk-toggleable__control sk-hidden--visually\" id=\"sk-estimator-id-2\" type=\"checkbox\" checked><label for=\"sk-estimator-id-2\" class=\"sk-toggleable__label sk-toggleable__label-arrow\">RandomForestClassifier</label><div class=\"sk-toggleable__content\"><pre>RandomForestClassifier(criterion=&#x27;entropy&#x27;, max_depth=3, max_features=None,\n",
       "                       random_state=42)</pre></div></div></div></div></div>"
      ],
      "text/plain": [
       "RandomForestClassifier(criterion='entropy', max_depth=3, max_features=None,\n",
       "                       random_state=42)"
      ]
     },
     "execution_count": 19,
     "metadata": {},
     "output_type": "execute_result"
    }
   ],
   "source": [
    "# Set best parameters given by grid search\n",
    "rf_tree_cv.set_params(criterion = 'entropy',max_features = None,max_depth = 3)"
   ]
  },
  {
   "cell_type": "code",
   "execution_count": 20,
   "metadata": {},
   "outputs": [],
   "source": [
    "rf_tree_cv.fit(x_train,y_train)\n",
    "y_pred_rf_cv=rf_tree_cv.predict(x_test)"
   ]
  },
  {
   "cell_type": "code",
   "execution_count": 21,
   "metadata": {},
   "outputs": [
    {
     "name": "stdout",
     "output_type": "stream",
     "text": [
      "accuracy score 0.81\n"
     ]
    }
   ],
   "source": [
    "from sklearn.metrics import accuracy_score\n",
    "print(\"accuracy score\",round(accuracy_score(y_test, y_pred_rf_cv),2))"
   ]
  },
  {
   "cell_type": "markdown",
   "metadata": {},
   "source": [
    "We can see that the accuracy on the test set has increased. You may tune other parameters of the decision tree and check how they affect the decision boundary in a similar way. You can check the other parameters.<br>"
   ]
  },
  {
   "cell_type": "markdown",
   "metadata": {},
   "source": [
    "<font><font style=\"font-family:Trebuchet MS;\">\n",
    "### <a id='toc2_5_6_'></a>[1.5.6 Disadvantages of Random Forest <br>](#toc0_)\n",
    "It surely does a good job at classification but not as good as for regression problem as it does not give precise continuous nature predictions. In case of regression, it doesn’t predict beyond the range in the training data, and that they may over-fit data sets that are particularly noisy."
   ]
  },
  {
   "cell_type": "markdown",
   "metadata": {},
   "source": [
    "<font><font style=\"font-family:Trebuchet MS;\">\n",
    "    \n",
    "## <a id='toc2_6_'></a>[1.6 What is Boosting ? <br>](#toc0_)\n",
    "\n",
    "Boosting refers to a family of algorithms that are able to convert weak learners to strong learners. It helps to reduce model's bias. \n",
    "\n",
    "- Boosting sequentially fits a family of predictors\n",
    "- First prediction is performed on entire dataset \n",
    "- Following predictions are learned on training set based on the performance of previous ones\n",
    "- Over fitting is controlled to an extent by learning rate\n",
    "\n",
    "<br>\n",
    "<img src=\"./Images/boosting.png\" width=\"600\" align=\"center\"/> <br>\n",
    "    \n",
    "Example of boosting algorithms are\n",
    "<font><font style=\"font-family:Trebuchet MS;\" color=\"#999900\">\n",
    "-  __GBM__\n",
    "-  __XGBoost__\n",
    "-  __AdaBoost__\n",
    "\n",
    "[Reference material : What is boosting ?](https://medium.com/sfu-cspmp/xgboost-a-deep-dive-into-boosting-f06c9c41349)"
   ]
  },
  {
   "cell_type": "markdown",
   "metadata": {},
   "source": [
    "<font><font style=\"font-family:Trebuchet MS;\">\n",
    "\n",
    "### <a id='toc2_6_1_'></a>[1.6.1 Gradient Boosting Method<br>](#toc0_)\n",
    "GBM is a machine learning technique for regression and classification problems, which produces a prediction model in the form of an ensemble of weak prediction models,typically decision trees. \n",
    "The objective of any supervised learning algorithm is to define a loss function and minimize it. Let’s see how maths work out for Gradient Boosting algorithm. Say we have mean squared error (MSE) as loss defined as<br>\n",
    "    \n",
    "<img src=\"./Images/gbm1.jpg\" width=\"320\" height=\"320\" align=\"center\"/>\n",
    "    \n",
    "We want our predictions, such that our loss function (MSE) is minimum. By using gradient descent and updating our predictions based on a learning rate, we can find the values where MSE is minimum.\n",
    "    \n",
    "<img src=\"./Images/gbm2.jpg\" width=\"320\" height=\"320\" align=\"center\"/>\n",
    "    \n",
    "So, we are basically updating the predictions such that the sum of our residuals is close to 0 (or minimum) and predicted values are sufficiently close to actual values."
   ]
  },
  {
   "cell_type": "markdown",
   "metadata": {},
   "source": [
    "<font><font style=\"font-family:Trebuchet MS;\">\n",
    "\n",
    "### <a id='toc2_6_2_'></a>[1.6.2 Intuition behind GBM<br>](#toc0_)\n",
    "    \n",
    "A basic assumption of linear regression is that sum of its residuals is 0, i.e. the residuals should be spread randomly around zero.\n",
    "    \n",
    "<img src=\"./Images/gbm3.jpg\" width=\"320\" height=\"320\" align=\"center\"/>\n",
    "    \n",
    "Now think of these residuals as mistakes committed by our predictor model. Although, tree-based models (considering decision tree as base models for our gradient boosting here) are not based on such assumptions, but if we think logically (not statistically) about this assumption, we might argue that, if we are able to see some pattern of residuals around 0, we can leverage that pattern to fit a model.<br>\n",
    "So, the intuition behind gradient boosting algorithm is to repetitively leverage the patterns in residuals and strengthen a model with weak predictions and make it better. Once we reach a stage that residuals do not have any pattern that could be modeled, we can stop modeling residuals (otherwise it might lead to over fitting). Algorithmically, we are minimizing our loss function, such that test loss reach its minima.  \n",
    "\n",
    "In summary, <br>\n",
    "• We first model data with simple models and analyze data for errors. <br>\n",
    "• These errors signify data points that are difficult to fit by a simple model. <br>\n",
    "• Then for later models, we particularly focus on those hard to fit data to get them right. <br>\n",
    "• In the end, we combine all the predictors by giving some weights to each predictor.<br>"
   ]
  },
  {
   "cell_type": "markdown",
   "metadata": {},
   "source": [
    "<font><font style=\"font-family:Trebuchet MS;\">\n",
    "\n",
    "### <a id='toc2_6_3_'></a>[1.6.3 Steps to fit a GBM model<br>](#toc0_)\n",
    "\n",
    "Let’s consider simulated data as shown in scatter plot below with 1 input (x) and 1 output (y) variables.\n",
    "    \n",
    "<img src=\"./Images/gbm4.jpg\" width=\"320\" height=\"320\" align=\"center\"/>\n",
    "\n",
    "1 Fit a simple linear regressor or decision tree on data (call x as input and y as output)<br>\n",
    "2 Calculate error residuals. Actual target value, minus predicted target value [e1= y - y_predicted1 ]<br>\n",
    "3 Fit a new model on error residuals as target variable with same input variables [call it e1_predicted]<br>\n",
    "4 Add the predicted residuals to the previous predictions\n",
    "[y_predicted2 = y_predicted1 + e1_predicted]<br>\n",
    "5 Fit another model on residuals that is still left. i.e. [e2 = y - y_predicted2] and repeat steps 2 to 5 until it starts overfitting or the sum of residuals become constant. Overfitting can be controlled by consistently checking accuracy on validation data."
   ]
  },
  {
   "cell_type": "markdown",
   "metadata": {},
   "source": [
    "<font><font style=\"font-family:Trebuchet MS;\">\n",
    "\n",
    "### <a id='toc2_6_4_'></a>[1.6.4 Visualization of working GBM Tree<br>](#toc0_)\n",
    "* Blue dots (left) plots are input (x) vs. output (y)<br>\n",
    "* Red line (left) shows values predicted by decision tree <br>\n",
    "* Green dots (right) shows residuals vs. input (x) for ith iteration <br>\n",
    "* Iteration represent sequential order of fitting gradient boosting tree <br>\n",
    "\n",
    "<img src=\"./Images/gbm5.jpg\" width=\"320\" height=\"320\" align=\"center\"/><br>\n",
    "<img src=\"./Images/gbm6.jpg\" width=\"320\" height=\"320\" align=\"center\"/><br>\n",
    "    \n",
    "We observe that after 20th iteration , residuals are randomly distributed (I am not saying random normal here) around 0 and our predictions are very close to true values. (iterations are called n_estimators in sklearn implementation). This would be a good point to stop or our model otherwise it will start overfitting.<br>\n",
    "\n",
    "Let’s see how our model look like for 50th iteration.<br>\n",
    "    \n",
    "<img src=\"./Images/gbm7.jpg\" width=\"320\" height=\"320\" align=\"center\"/><br>\n",
    "    \n",
    "We see that even after 50th iteration, residuals vs. x plot look similar to what we see at 20th iteration. But the model is becoming more complex and predictions are overfitting on the training data and are trying to learn each training data. So, it would have been better to stop at 20th iteration"
   ]
  },
  {
   "cell_type": "markdown",
   "metadata": {},
   "source": [
    "<font><font style=\"font-family:Trebuchet MS;\">\n",
    "\n",
    "### <a id='toc2_6_5_'></a>[<span style=\"background-color: #FFFF00\">1.6.5 Example 3:Modelling GBM </span>](#toc0_)"
   ]
  },
  {
   "cell_type": "code",
   "execution_count": 22,
   "metadata": {},
   "outputs": [
    {
     "name": "stdout",
     "output_type": "stream",
     "text": [
      "Time taken in algo run:  0.09\n"
     ]
    }
   ],
   "source": [
    "from sklearn.ensemble import GradientBoostingClassifier\n",
    "start= time.time()\n",
    "gbm0 = GradientBoostingClassifier(random_state=10)\n",
    "gbm0.fit(x_train,y_train)\n",
    "y_pred_gbm=gbm0.predict(x_test)\n",
    "end = time.time()\n",
    "print('Time taken in algo run: {0: .2f}'.format(end - start))"
   ]
  },
  {
   "cell_type": "code",
   "execution_count": 23,
   "metadata": {},
   "outputs": [
    {
     "name": "stdout",
     "output_type": "stream",
     "text": [
      "accuracy score 0.79\n",
      "              precision    recall  f1-score   support\n",
      "\n",
      "           0       0.81      0.53      0.64        72\n",
      "           1       0.78      0.93      0.85       131\n",
      "\n",
      "    accuracy                           0.79       203\n",
      "   macro avg       0.80      0.73      0.74       203\n",
      "weighted avg       0.79      0.79      0.78       203\n",
      "\n"
     ]
    }
   ],
   "source": [
    "# classification report\n",
    "from sklearn import metrics \n",
    "from sklearn.metrics import classification_report\n",
    "from sklearn.metrics import accuracy_score\n",
    "print(\"accuracy score\",round(accuracy_score(y_test, y_pred_gbm),2))\n",
    "print(classification_report(y_test, y_pred_gbm))"
   ]
  },
  {
   "cell_type": "markdown",
   "metadata": {},
   "source": [
    "<font><font style=\"font-family:Trebuchet MS;\">\n",
    "Model accuracy is ~0.79. Parameter tuning can be done on this model to increase the accuracy<br>  \n",
    "    "
   ]
  },
  {
   "cell_type": "markdown",
   "metadata": {},
   "source": [
    "<font><font style=\"font-family:Trebuchet MS;\">\n",
    "\n",
    "#### <a id='toc2_6_5_1_'></a>[1.6.5.1 Hyper Parameter Optimization<br>](#toc0_)\n",
    "There are two types of parameter to be tuned\n",
    "\n",
    "- Tree based parameters\n",
    "- Boosting parameters. \n",
    "\n",
    "There are no optimum values for learning rate as low values always work better, given that we train on sufficient number of trees.Though, GBM is robust enough to not over-fit with increasing trees, but a high number for a particular learning rate can lead to over fitting. But as we reduce the learning rate and increase trees, the computation becomes expensive and would take a long time to run on standard personal computers."
   ]
  },
  {
   "cell_type": "markdown",
   "metadata": {},
   "source": [
    "<font><font style=\"font-family:Trebuchet MS;\">\n",
    "    \n",
    "#### <a id='toc2_6_5_2_'></a>[1.6.5.2 Tree Based Parameters<br>](#toc0_)\n",
    "In order to decide on boosting parameters, we need to set some initial values of other parameters. Lets take the following values as thumb rule\n",
    "\n",
    "- min_samples_split = 6: This should be ~0.5-1% of total values.\n",
    "- min_samples_leaf = 5 : Can be selected based on intuition. This is just used for preventing overfitting.\n",
    "- max_depth = 5 : Should be chosen (5-8) based on the number of observations and predictors. \n",
    "- max_features = ‘sqrt’ : Its a general thumb-rule to start with square root.\n",
    "\n",
    "\n",
    "Lets take the default learning rate of 0.1 here and check the optimum number of trees for that. For this purpose, we can do a grid search and test out values for n_estimators(number of trees to be used in the forest) from 20 to 80 in steps of 10."
   ]
  },
  {
   "cell_type": "code",
   "execution_count": 24,
   "metadata": {},
   "outputs": [
    {
     "name": "stdout",
     "output_type": "stream",
     "text": [
      "Best Parameters using grid search: \n",
      " {'max_depth': 11, 'min_samples_leaf': 7, 'min_samples_split': 17, 'n_estimators': 40}\n",
      "Time taken in grid search:  255.46\n"
     ]
    }
   ],
   "source": [
    "from sklearn.model_selection import train_test_split, GridSearchCV\n",
    "gbm_cv = GradientBoostingClassifier(learning_rate=0.1,max_features='sqrt', subsample=0.8, random_state=10)\n",
    "np.random.seed(42)\n",
    "start = time.time()\n",
    "param_test1 = {'max_depth':range(1,20,2), 'min_samples_split':range(2,20,3),'min_samples_leaf':range(1,12,2),'n_estimators':range(20,81,10)}\n",
    "cv_gb_tree1 =GridSearchCV(gbm_cv, cv = 5,\n",
    "                     param_grid = param_test1, scoring='accuracy',n_jobs=4)\n",
    "\n",
    "cv_gb_tree1.fit(x_train,y_train)\n",
    "y_pred_gbm_cv1=cv_gb_tree1.predict(x_test)\n",
    "print('Best Parameters using grid search: \\n',\n",
    "    cv_gb_tree1.best_params_)  \n",
    "end = time.time()\n",
    "print('Time taken in grid search: {0: .2f}'.format(end - start))"
   ]
  },
  {
   "cell_type": "markdown",
   "metadata": {},
   "source": [
    "<font><font style=\"font-family:Trebuchet MS;\">\n",
    "    \n",
    "#### <a id='toc2_6_5_3_'></a>[1.6.5.3 Boosting Parameters<br>](#toc0_)\n",
    "\n",
    "The next step would be to try different subsample values. Lets take values 0.6,0.7,0.75,0.8,0.85,0.9.\n",
    "We will use the best parameters from previous model"
   ]
  },
  {
   "cell_type": "code",
   "execution_count": 25,
   "metadata": {},
   "outputs": [
    {
     "name": "stdout",
     "output_type": "stream",
     "text": [
      "Best Parameters using grid search: \n",
      " {'subsample': 0.8}\n",
      "Time taken in grid search:  0.74\n"
     ]
    }
   ],
   "source": [
    "gbm_cv = GradientBoostingClassifier(learning_rate=0.1,max_depth=9,min_samples_leaf=5,min_samples_split=17,max_features='sqrt', random_state=10,n_estimators=50)\n",
    "np.random.seed(42)\n",
    "start = time.time()\n",
    "param_test2 = {'subsample':[0.6,0.7,0.75,0.8,0.85,0.9]}\n",
    "cv_gb_tree2 =GridSearchCV(gbm_cv, cv = 5,\n",
    "                     param_grid= param_test2, scoring='accuracy',n_jobs=4)\n",
    "\n",
    "cv_gb_tree2.fit(x_train,y_train)\n",
    "y_pred_gbm_cv2=cv_gb_tree2.predict(x_test)\n",
    "print('Best Parameters using grid search: \\n',\n",
    "    cv_gb_tree2.best_params_)  \n",
    "end = time.time()\n",
    "print('Time taken in grid search: {0: .2f}'.format(end - start))"
   ]
  },
  {
   "cell_type": "markdown",
   "metadata": {},
   "source": [
    "<font><font style=\"font-family:Trebuchet MS;\">\n",
    "Best subsample 0.8, you can change the learning_rate and n_estimators to get a better fit for the model"
   ]
  },
  {
   "cell_type": "code",
   "execution_count": 26,
   "metadata": {},
   "outputs": [
    {
     "name": "stdout",
     "output_type": "stream",
     "text": [
      "accuracy score 0.81\n",
      "              precision    recall  f1-score   support\n",
      "\n",
      "           0       0.82      0.58      0.68        72\n",
      "           1       0.80      0.93      0.86       131\n",
      "\n",
      "    accuracy                           0.81       203\n",
      "   macro avg       0.81      0.76      0.77       203\n",
      "weighted avg       0.81      0.81      0.80       203\n",
      "\n"
     ]
    }
   ],
   "source": [
    "gbm1 = GradientBoostingClassifier(learning_rate=0.1,max_depth=9,min_samples_leaf=5,min_samples_split=17,subsample=0.8,n_estimators=50,max_features='sqrt', random_state=10)\n",
    "gbm1.fit(x_train,y_train)\n",
    "y_pred_gbm1=gbm1.predict(x_test)\n",
    "print(\"accuracy score\",round(accuracy_score(y_test, y_pred_gbm1),2))\n",
    "print(classification_report(y_test, y_pred_gbm1))"
   ]
  },
  {
   "cell_type": "markdown",
   "metadata": {},
   "source": [
    "\\* More reference in the External Link Library\n"
   ]
  },
  {
   "cell_type": "markdown",
   "metadata": {},
   "source": [
    "<font><font style=\"font-family:Trebuchet MS;\">\n",
    "    \n",
    "### <a id='toc2_6_6_'></a>[<span style=\"background-color: #9dbcf1\">1.6.6 Difference between Random Forest and GBM and when should you use what ?<br></span>](#toc0_)\n",
    "\n",
    "GBM and RF both are ensemble learning methods and predict (regression or classification) by combining the outputs from individual trees\n",
    "\n",
    "__Gradient Boosting__\n",
    "\n",
    "- __Real-world application__\n",
    "\n",
    "  A great application of GBM is anomaly detection in supervised learning settings where data is often highly unbalanced such as  DNA sequences, credit card transactions or cyber security.<br>\n",
    " 1) It performs the optimization in function space (rather than in parameter space) which makes the use of custom loss functions much easier.<br>\n",
    " 2) Boosting focuses step by step on difficult examples that gives a nice strategy to deal with unbalanced datasets by strengthening the impact of the positive class.<br>\n",
    " \n",
    "\n",
    "- __Strengths of the model__<br>\n",
    "<br>    \n",
    "1) Boosted trees, specifically gradient-boosted machines (GBMs), optimize an objective function through a process that utilizes the gradient of the loss function. The training process is adaptive, in that each new tree tries to correct for the errors made by the sequence of existing trees. This iterative optimization can, indeed, be used for a wide range of objective functions, as long as their gradient (or the \"direction of steepest ascent\") can be calculated<br>\n",
    "<br>\n",
    "2) GBMs can handle a broad variety of regression and classification problems. They are flexible enough to incorporate various loss functions, including those relevant for ranking (like pairwise or listwise loss functions) and count data models such as Poisson regression.<br>\n",
    "<br>\n",
    "- __Weaknesses of the model__\n",
    "\n",
    " 1) GBMs are more sensitive to over-fitting if the data is noisy.<br>\n",
    " 2) Training generally takes longer because of the fact that trees are built sequentially.<br>\n",
    " 3) GBMs are harder to tune than RF. There are typically three parameters: number of trees, depth of trees and learning rate,  and the each tree built is generally shallow.<br>\n",
    "<br> \n",
    "    \n",
    "__Random Forest__\n",
    "<br>\n",
    "RFs train each tree independently, using a random sample of the data. This randomness helps to make the model more robust than a single decision tree, and less likely to overfit on the training data.\n",
    "\n",
    "- __Real-world application__\n",
    "\n",
    "  The most prominent application of random forest is multi-class object detection in large-scale real-world computer vision    problems.RF methods can handle large amount of training data efficiently and are inherently suited for multi-class problems.\n",
    "  Another application is in bioinformatics, like medical diagnosis. This method is especially attractive for this application in   the following cases:<br>\n",
    "\n",
    " 1) The real world data is noisy and contains many missing values, some of the attributes are categorical, or semi-continuous.<br>\n",
    " 2) There are needs to integrate different data sources which face the issue of weighting them.<br>\n",
    " 3) We need high predictive accuracy for a high-dimensional problem with highly correlated features.<br>\n",
    "\n",
    "\n",
    "- __Strengths of the model__\n",
    "\n",
    " 1) RF's are much easier to tune than GBM. There are typically two parameters in RF: number of trees and number of features to  be selected at each node.<br>\n",
    " 2) RF's are harder to overfit than GBM.<br>\n",
    " 3) Random forests, in contrast, are less flexible in this regard. Random forests use an ensemble of decision trees that are trained independently, with each tree split based on a measure like the Gini impurity or the information gain. Therefore, random forests are not naturally suited to optimizing arbitrary objective functions, particularly those used for tasks like ranking or Poisson regression.<br>   \n",
    "\n",
    "\n",
    "- __Weaknesses of the model__\n",
    "\n",
    " 1) The main limitation of the Random Forests algorithm is that a large number of trees may make the algorithm slow for real-time prediction.<br>\n",
    " 2) For data including categorical variables with different number of levels, random forests are biased in favor of those attributes with more levels. Therefore, the variable importance scores from random forest are not reliable for this type of data. Methods such as partial permutations were used to solve the problem.<br>\n",
    " 3) If the data contain groups of correlated features of similar relevance for the output, then smaller groups are favored over larger groups.<br>"
   ]
  },
  {
   "cell_type": "markdown",
   "metadata": {},
   "source": [
    "<font><font style=\"font-family:Trebuchet MS;\">\n",
    "\n",
    "### <a id='toc2_6_7_'></a>[<span style=\"background-color: #9dbcf1\">1.6.7 Handling of missing values<br></span>](#toc0_)\n",
    "Note: A very important point regarding how RF and GBM methods are handling missing data. Gradient Boosting Trees uses CART trees. CART trees are also used in Random Forests. CART handles missing values either by imputation with average, either by rough average/mode, either by an averaging/mode based on proximities. However, one can build a GBM or RF with other type of decision trees. The usual replacement for CART is C4.5. In C4.5 the missing values are not replaced on data set. Instead, the impurity function computed takes into account the missing values by penalizing the impurity score with the ratio of missing values"
   ]
  },
  {
   "cell_type": "markdown",
   "metadata": {},
   "source": [
    "<font><font style=\"font-family:Trebuchet MS;\">\n",
    "### <a id='toc2_6_8_'></a>[1.6.8 Extreme Gradient Boosting(XGBoost)<br>](#toc0_)\n",
    "XGBoost is an algorithm that has recently been dominating applied machine learning and Kaggle competitions for structured or tabular data.XGBoost is an implementation of gradient boosted decision trees designed for speed and performance.<br> \n",
    "   "
   ]
  },
  {
   "cell_type": "markdown",
   "metadata": {},
   "source": [
    "<font><font style=\"font-family:Trebuchet MS;\">\n",
    "### <a id='toc2_6_9_'></a>[1.6.9 XGBoost Features<br>](#toc0_)\n",
    "\n",
    "__Model Features__\n",
    "\n",
    "The implementation of the model supports the features of the scikit-learn and R implementations, with new additions like regularization. Three main forms of gradient boosting are supported:\n",
    "\n",
    "- Gradient Boosting algorithm also called gradient boosting machine including the learning rate.\n",
    "- Stochastic Gradient Boosting with sub-sampling at the row, column and column per split levels.\n",
    "- Regularized Gradient Boosting with both L1 and L2 regularization.\n",
    "\n",
    "__System Features__\n",
    "\n",
    "The library provides a system for use in a range of computing environments, not least:\n",
    "\n",
    "- Parallelization of tree construction using all of CPU cores during training.\n",
    "- Distributed Computing for training very large models using a cluster of machines.\n",
    "- Out-of-Core Computing for very large datasets that don’t fit into memory.\n",
    "- Cache Optimization of data structures and algorithm to make best use of hardware.\n",
    "\n",
    "__Algorithm Features__\n",
    "\n",
    "The implementation of the algorithm was engineered for efficiency of compute time and memory resources. A design goal was to make the best use of available resources to train the model. Some key algorithm implementation features include:\n",
    "\n",
    "- Sparse Aware implementation with automatic handling of missing data values.\n",
    "- Block Structure to support the parallelization of tree construction.\n",
    "- Continued Training to further boost an already fitted model on new data <br>"
   ]
  },
  {
   "cell_type": "markdown",
   "metadata": {},
   "source": [
    "<font><font style=\"font-family:Trebuchet MS;\">\n",
    "\n",
    "### <a id='toc2_6_10_'></a>[1.6.10 Why Use XGBoost?](#toc0_)\n",
    "The two reasons to use XGBoost are \n",
    "\n",
    "__1. Execution Speed<br>__\n",
    "__2. Model Performance<br>__\n",
    "\n",
    "__1. XGBoost Execution Speed__<br>\n",
    "Generally, XGBoost is fast. Really fast when compared to other implementations of gradient boosting.\n",
    "<img src=\"./Images/xgb.png\" width=\"420\" height=\"620\" align=\"center\"/>\n",
    "\n",
    "\n",
    "__2. XGBoost Model Performance__<br>\n",
    "\n",
    "XGBoost dominates structured or tabular datasets on classification and regression predictive modeling problems.<br>\n",
    "The evidence is that it is the go-to algorithm for competition winners on the Kaggle competitive data science platform.<br>\n",
    "\n",
    "\\* More reference in the External Link Library\n"
   ]
  },
  {
   "cell_type": "markdown",
   "metadata": {},
   "source": [
    "<font><font style=\"font-family:Trebuchet MS;\">\n",
    "### <a id='toc2_6_11_'></a>[1.6.11 What Algorithm Does XGBoost Use?<br>](#toc0_)\n",
    "    \n",
    "* The XGBoost library implements the gradient boosting decision tree algorithm.<br>\n",
    "* This algorithm goes by lots of different names such as gradient boosting, multiple additive regression trees, stochastic gradient boosting or gradient boosting machines.<br>\n",
    "* Boosting is an ensemble technique where new models are added to correct the errors made by existing models. Models are added sequentially until no further improvements can be made. A popular example is the AdaBoost algorithm that weights data points that are hard to predict.<br>\n",
    "* Gradient boosting is an approach where new models are created that predict the residuals or errors of prior models and then added together to make the final prediction. It is called gradient boosting because it uses a gradient descent algorithm to minimize the loss when adding new models.<br>\n",
    "* This approach supports both regression and classification predictive modeling problems.<br>\n",
    "    \n",
    " \\* More reference in the External Link Library\n"
   ]
  },
  {
   "cell_type": "markdown",
   "metadata": {},
   "source": [
    "<font><font style=\"font-family:Trebuchet MS;\">\n",
    "    \n",
    "### <a id='toc2_6_12_'></a>[1.6.12 Comparing GBM and XGBoost<br>](#toc0_)\n",
    "\n",
    "GBM has broader application. At each iteration, both GBM and XGBoost need to calculate gradient at current estimate. XGBoost also needs to calculate hessian, requiring the objective function to be twice differentiable (strictly convex). GBM only requires a differentiable loss function, thus it can be used in more applications.\n",
    "- __XGBoost is faster__ Comparing the weights calculated by GBM and XGBoost, for GBM, the weight is simply the average value of the gradients, while for XGBoost, it is the sum of gradients scaled by the sum of hessians.\n",
    "<img src=\"./Images/xgb1.jpg\" width=\"220\" height=\"220\" align=\"center\"/>\n",
    "For XGBoost, the weight is also known as the Newton “step”, which naturally has step length of 1. Thus, line search is not necessary for XGBoost. This might be the reason why XGBoost is always much faster than GBM.\n",
    "\n",
    "- __XGBoost provides more regularization options__ including L1(α) and L2(λ) regularization as well as penalization on the number of leaf nodes(γ).\n",
    "<img src=\"./Images/xgb2.jpg\" width=\"220\" height=\"220\" align=\"center\"/>\n",
    "However, in terms of GBM in sklearn package, various useful regularization strategies are also provided. In version 0.19, parameter tuning,min_impurity_decrease, similar to γ in XGBoost, is added.\n",
    "All tree based estimators now accept a min_impurity_decrease parameter in lieu of the min_impurity_split, which is now deprecated. The min_impurity_decrease helps stop splitting the nodes in which the weighted impurity decrease from splitting is no longer at least min_impurity_decrease.\n",
    "Besides, for each tree in the ensemble, regularization options, including min_samples_split , min_samples_leaf , min_weight_fraction_leaf and max_leaf_nodes, are implemented. For XGBoost, individual tree is regularized by max_depth, min_child_weight, max_delta_step as well as L1 and L2 penalization.\n",
    "\n",
    "- __XGBoost introduces more randomization__ For GBM in sklearn package, we have parameter subsample (similar to subsample in XGBoost) to implement Stochastic Gradient Boosting, and max_features for column sampling. XGBoost also provides two similar options. The only difference is that XGBoost provides two levels of column sampling, colsample_bytree and colsample_bylevel, thus introducing more randomness into the learning process.<br>\n",
    "    \n",
    "\\* More reference in the External Link Library\n"
   ]
  },
  {
   "cell_type": "markdown",
   "metadata": {},
   "source": [
    "<font><font style=\"font-family:Trebuchet MS;\">\n",
    "    \n",
    "### <a id='toc2_6_13_'></a>[<span style=\"background-color: #FFFF00\">1.6.13 Example 4: Modelling XGBoost</span>](#toc0_)"
   ]
  },
  {
   "cell_type": "code",
   "execution_count": 27,
   "metadata": {},
   "outputs": [],
   "source": [
    "import xgboost as xgb\n",
    "from xgboost.sklearn import XGBClassifier"
   ]
  },
  {
   "cell_type": "code",
   "execution_count": 28,
   "metadata": {},
   "outputs": [
    {
     "name": "stdout",
     "output_type": "stream",
     "text": [
      "Time taken in algo run:  0.38\n"
     ]
    }
   ],
   "source": [
    "start = time.time()\n",
    "xgb = XGBClassifier(learning_rate =0.1,n_estimators=1000,max_depth=5,min_child_weight=1,gamma=0,subsample=0.8,colsample_bytree=0.8,\n",
    " objective= 'binary:logistic',nthread=4,scale_pos_weight=1,seed=27)\n",
    "#xgb= XGBClassifier(nthread=11,objective= 'binary:logistic')\n",
    "xgb.fit(x_train,y_train)\n",
    "y_pred_xgb=xgb.predict(x_test)\n",
    "end = time.time()\n",
    "print('Time taken in algo run: {0: .2f}'.format(end - start))"
   ]
  },
  {
   "cell_type": "code",
   "execution_count": 29,
   "metadata": {},
   "outputs": [
    {
     "name": "stdout",
     "output_type": "stream",
     "text": [
      "accuracy score 0.77\n",
      "              precision    recall  f1-score   support\n",
      "\n",
      "           0       0.72      0.57      0.64        72\n",
      "           1       0.79      0.88      0.83       131\n",
      "\n",
      "    accuracy                           0.77       203\n",
      "   macro avg       0.75      0.72      0.73       203\n",
      "weighted avg       0.76      0.77      0.76       203\n",
      "\n"
     ]
    }
   ],
   "source": [
    "# classification report\n",
    "from sklearn import metrics \n",
    "from sklearn.metrics import classification_report\n",
    "from sklearn.metrics import accuracy_score\n",
    "print(\"accuracy score\",round(accuracy_score(y_test, y_pred_xgb),2))\n",
    "print(classification_report(y_test, y_pred_xgb))"
   ]
  },
  {
   "cell_type": "markdown",
   "metadata": {},
   "source": [
    "#### <a id='toc2_6_13_1_'></a>[1.6.13.1 Hyper Parameter Optimization](#toc0_)"
   ]
  },
  {
   "cell_type": "code",
   "execution_count": 30,
   "metadata": {},
   "outputs": [
    {
     "name": "stdout",
     "output_type": "stream",
     "text": [
      "[15:53:26] WARNING: C:/buildkite-agent/builds/buildkite-windows-cpu-autoscaling-group-i-0fc7796c793e6356f-1/xgboost/xgboost-ci-windows/src/learner.cc:767: \n",
      "Parameters: { \"max_features\", \"min_samples_leaf\", \"min_samples_split\" } are not used.\n",
      "\n",
      "Best Parameters using grid search: \n",
      " {'max_depth': 5, 'min_samples_leaf': 1, 'min_samples_split': 2, 'n_estimators': 30}\n",
      "Time taken in grid search:  250.68\n"
     ]
    }
   ],
   "source": [
    "from sklearn.model_selection import train_test_split, GridSearchCV\n",
    "xgb_cv = XGBClassifier(learning_rate=0.1,max_features='sqrt', subsample=0.8, random_state=10)\n",
    "np.random.seed(42)\n",
    "start = time.time()\n",
    "param_test1 = {'max_depth':range(1,20,2), 'min_samples_split':range(2,20,3),'min_samples_leaf':range(1,12,2),'n_estimators':range(20,81,10)}\n",
    "cv_xgb_tree1 =GridSearchCV(xgb_cv, cv = 5,\n",
    "                     param_grid = param_test1, scoring='accuracy',n_jobs=4)\n",
    "\n",
    "cv_xgb_tree1.fit(x_train,y_train)\n",
    "y_pred_xgb_cv1=cv_xgb_tree1.predict(x_test)\n",
    "print('Best Parameters using grid search: \\n',\n",
    "    cv_xgb_tree1.best_params_)  \n",
    "end = time.time()\n",
    "print('Time taken in grid search: {0: .2f}'.format(end - start))"
   ]
  },
  {
   "cell_type": "code",
   "execution_count": 31,
   "metadata": {},
   "outputs": [
    {
     "name": "stdout",
     "output_type": "stream",
     "text": [
      "[15:53:26] WARNING: C:/buildkite-agent/builds/buildkite-windows-cpu-autoscaling-group-i-0fc7796c793e6356f-1/xgboost/xgboost-ci-windows/src/learner.cc:767: \n",
      "Parameters: { \"max_features\", \"min_samples_leaf\", \"min_samples_split\" } are not used.\n",
      "\n",
      "accuracy score 0.8\n",
      "              precision    recall  f1-score   support\n",
      "\n",
      "           0       0.90      0.49      0.63        72\n",
      "           1       0.77      0.97      0.86       131\n",
      "\n",
      "    accuracy                           0.80       203\n",
      "   macro avg       0.84      0.73      0.75       203\n",
      "weighted avg       0.82      0.80      0.78       203\n",
      "\n"
     ]
    }
   ],
   "source": [
    "xgb1 = XGBClassifier(learning_rate=0.1,max_depth=1,min_samples_leaf=10,min_samples_split=2,subsample=0.8,n_estimators=40,max_features='sqrt', random_state=10)\n",
    "xgb1.fit(x_train,y_train)\n",
    "y_pred_xgb1=xgb1.predict(x_test)\n",
    "print(\"accuracy score\",round(accuracy_score(y_test, y_pred_xgb1),2))\n",
    "print(classification_report(y_test, y_pred_xgb1))"
   ]
  },
  {
   "cell_type": "markdown",
   "metadata": {},
   "source": [
    "<font><font style=\"font-family:Trebuchet MS;\">\n",
    "\n",
    "## <a id='toc2_7_'></a>[1.7 Model Comparision](#toc0_)"
   ]
  },
  {
   "cell_type": "markdown",
   "metadata": {},
   "source": [
    "\n",
    "<img src=\"./Images/mo.jpg\" width=\"600\" height=\"620\" align=\"center\"/> <br>"
   ]
  },
  {
   "cell_type": "markdown",
   "metadata": {},
   "source": [
    "We can further tune more parameters to improve the model performance. Choice of model also depends on type of data and business problem.<br>\n",
    "Notice the accuracy of the model doesn't increase beyond 0.8 inspite of using different models. At this stage we should look for more variables and better feature engineering to increase the model accuracy\n"
   ]
  },
  {
   "cell_type": "markdown",
   "metadata": {},
   "source": [
    "<font><font style=\"font-family:Trebuchet MS;\">\n",
    "\n",
    "## <a id='toc2_8_'></a>[1.8 Model Cheat Sheet](#toc0_)"
   ]
  },
  {
   "cell_type": "markdown",
   "metadata": {},
   "source": [
    "<img src=\"./Images/mo2.jpg\" width=\"620\" height=\"620\" align=\"center\"/>"
   ]
  },
  {
   "cell_type": "markdown",
   "metadata": {},
   "source": [
    "<img src=\"./Images/mo3.jpg\" width=\"620\" height=\"620\" align=\"center\"/>"
   ]
  },
  {
   "cell_type": "markdown",
   "metadata": {},
   "source": [
    "# <a id='toc3_'></a>[2.Stacking](#toc0_)"
   ]
  },
  {
   "cell_type": "markdown",
   "metadata": {},
   "source": [
    "<a id=\"section15\"></a>\n",
    "<font><font style=\"font-family:Trebuchet MS;\">\n",
    "\n",
    "Stacking is another ensemble model, where a new model is trained from the combined predictions of two (or more) previous model. The predictions from the models are used as inputs for each sequential layer, and combined to form a new set of predictions. These can be used on additional layers, or the process can stop here with a final result.<br><br>\n",
    "\n",
    "\n",
    "__Why Stacking?__<br>\n",
    "\n",
    "Stacking is a different paradigm however. The point of stacking is to __explore a space of different models for the same problem__. The idea is that you can attack a learning problem with different types of models which are capable to learn some part of the problem, but not the whole space of the problem. So you can build multiple different learners and you use them to build an intermediate prediction, one prediction for each learned model. Then you add a new model which learns from the intermediate predictions the same target. This final model is said to be stacked on the top of the others, hence the name. Thus you might improve your overall performance, and often you end up with a model which is better than any individual intermediate model. However that it does not gives you any guarantee, as is often the case with any machine learning technique.\n",
    "\n",
    "\\* More reference in the External Link Library\n",
    "\n",
    "\n",
    "<img src=\"./Images/stack.jpg\" width=\"620\" height=\"620\" align=\"center\"/>"
   ]
  },
  {
   "cell_type": "markdown",
   "metadata": {},
   "source": [
    "<font><font style=\"font-family:Trebuchet MS;\">\n",
    "<Font size = \"3\"><b> <u>References</u> </b></Font> \n",
    "\n",
    "\\* More reference in the External Link Library\n"
   ]
  }
 ],
 "metadata": {
  "kernelspec": {
   "display_name": "Python 3 (ipykernel)",
   "language": "python",
   "name": "python3"
  },
  "language_info": {
   "codemirror_mode": {
    "name": "ipython",
    "version": 3
   },
   "file_extension": ".py",
   "mimetype": "text/x-python",
   "name": "python",
   "nbconvert_exporter": "python",
   "pygments_lexer": "ipython3",
   "version": "3.9.13"
  },
  "toc": {
   "base_numbering": 1,
   "nav_menu": {},
   "number_sections": true,
   "sideBar": true,
   "skip_h1_title": false,
   "title_cell": "Table of Contents",
   "title_sidebar": "Contents",
   "toc_cell": true,
   "toc_position": {
    "height": "calc(100% - 180px)",
    "left": "10px",
    "top": "150px",
    "width": "439.069px"
   },
   "toc_section_display": true,
   "toc_window_display": true
  }
 },
 "nbformat": 4,
 "nbformat_minor": 4
}
