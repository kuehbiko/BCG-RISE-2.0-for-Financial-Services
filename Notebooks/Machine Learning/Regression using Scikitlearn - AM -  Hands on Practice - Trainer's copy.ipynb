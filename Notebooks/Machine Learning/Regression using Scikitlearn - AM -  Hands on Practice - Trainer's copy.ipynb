{
 "cells": [
  {
   "cell_type": "markdown",
   "id": "077a7d1e",
   "metadata": {},
   "source": [
    "<table class=\"table table-bordered\">\n",
    "    <tr>\n",
    "        <th style=\"width:200px;\">\n",
    "            <img src='https://bcgriseacademy.com/hs-fs/hubfs/RISE%202.0%20Logo_Options_25Jan23_RISE%20-%20For%20Black%20Background.png?width=3522&height=1986&name=RISE%202.0%20Logo_Options_25Jan23_RISE%20-%20For%20Black%20Background.png' style=\"background-color:black; width: 100%; height: 100%;\">\n",
    "        </th>\n",
    "        <th style=\"text-align:center;\">\n",
    "            <h1>IBF TFIP</h1>\n",
    "            <h2>Regression using Scikitlearn</h2>\n",
    "        </th>\n",
    "    </tr>\n",
    "</table>"
   ]
  },
  {
   "cell_type": "markdown",
   "id": "12b280d5",
   "metadata": {},
   "source": [
    "### Please use the dataset below to create a Linear Regression model by executing the intermediate steps as mentioned below\n",
    "x(independent variable)=[15, 30, 50, 70, 90, 110] \n",
    "\n",
    "y(dependent variable)=[15, 40, 28, 76, 38, 76, 89]\n",
    "\n",
    "1. Use np.array to convert the dataset into array. use reshape to flatten the structure\n",
    "2. Create a Linear Regression Model\n",
    "3. Calculate Model Intercept\n",
    "4. Calculate Model Coefficient\n",
    "5. Calculate R²\n",
    "6. Calculate predicted y value, x new and y new\n",
    "7. Write a code to visualize the Regression Line\n",
    "8. Plot regression line and the residuals\n",
    "9. Plot actual response and the estimated response"
   ]
  },
  {
   "cell_type": "code",
   "execution_count": 15,
   "id": "97761f36",
   "metadata": {},
   "outputs": [],
   "source": [
    "import numpy as np\n",
    "from sklearn.linear_model import LinearRegression\n",
    "import matplotlib.pyplot as plt"
   ]
  },
  {
   "cell_type": "code",
   "execution_count": 16,
   "id": "e4260a4c",
   "metadata": {},
   "outputs": [],
   "source": [
    "x = np.array([15, 30, 50, 70, 90, 110]).reshape((-1, 1))\n",
    "y = np.array([15, 40, 28, 76, 38, 76])"
   ]
  },
  {
   "cell_type": "code",
   "execution_count": 17,
   "id": "60e30113",
   "metadata": {},
   "outputs": [
    {
     "name": "stdout",
     "output_type": "stream",
     "text": [
      "(6, 1)\n"
     ]
    }
   ],
   "source": [
    "print(x.shape)"
   ]
  },
  {
   "cell_type": "code",
   "execution_count": 18,
   "id": "c6fdfdab",
   "metadata": {},
   "outputs": [
    {
     "name": "stdout",
     "output_type": "stream",
     "text": [
      "(6,)\n"
     ]
    }
   ],
   "source": [
    "print(y.shape)"
   ]
  },
  {
   "cell_type": "code",
   "execution_count": 19,
   "id": "1a1297d2",
   "metadata": {},
   "outputs": [],
   "source": [
    "model = LinearRegression()"
   ]
  },
  {
   "cell_type": "code",
   "execution_count": 20,
   "id": "37778fd2",
   "metadata": {},
   "outputs": [
    {
     "data": {
      "text/plain": [
       "LinearRegression()"
      ]
     },
     "execution_count": 20,
     "metadata": {},
     "output_type": "execute_result"
    }
   ],
   "source": [
    "model.fit(x, y)"
   ]
  },
  {
   "cell_type": "code",
   "execution_count": 21,
   "id": "1c47ce79",
   "metadata": {},
   "outputs": [
    {
     "data": {
      "text/plain": [
       "14.550798722044732"
      ]
     },
     "execution_count": 21,
     "metadata": {},
     "output_type": "execute_result"
    }
   ],
   "source": [
    "model.intercept_"
   ]
  },
  {
   "cell_type": "code",
   "execution_count": 22,
   "id": "3a16aac7",
   "metadata": {},
   "outputs": [
    {
     "data": {
      "text/plain": [
       "array([0.50875399])"
      ]
     },
     "execution_count": 22,
     "metadata": {},
     "output_type": "execute_result"
    }
   ],
   "source": [
    "model.coef_"
   ]
  },
  {
   "cell_type": "code",
   "execution_count": 23,
   "id": "b9df868a",
   "metadata": {},
   "outputs": [
    {
     "name": "stdout",
     "output_type": "stream",
     "text": [
      "0.5301684855668027\n"
     ]
    }
   ],
   "source": [
    "r_sq = model.score(x, y)\n",
    "print(r_sq)"
   ]
  },
  {
   "cell_type": "code",
   "execution_count": 24,
   "id": "133b6769",
   "metadata": {},
   "outputs": [
    {
     "name": "stdout",
     "output_type": "stream",
     "text": [
      "[22.18210863 29.81341853 39.9884984  50.16357827 60.33865815 70.51373802]\n"
     ]
    }
   ],
   "source": [
    "y_pred = model.predict(x)\n",
    "print(y_pred)"
   ]
  },
  {
   "cell_type": "code",
   "execution_count": 25,
   "id": "4633f3e0",
   "metadata": {},
   "outputs": [
    {
     "data": {
      "text/plain": [
       "array([[22.18210863],\n",
       "       [29.81341853],\n",
       "       [39.9884984 ],\n",
       "       [50.16357827],\n",
       "       [60.33865815],\n",
       "       [70.51373802]])"
      ]
     },
     "execution_count": 25,
     "metadata": {},
     "output_type": "execute_result"
    }
   ],
   "source": [
    "model.intercept_ + model.coef_ * x"
   ]
  },
  {
   "cell_type": "code",
   "execution_count": 26,
   "id": "6f7713ca",
   "metadata": {},
   "outputs": [
    {
     "name": "stdout",
     "output_type": "stream",
     "text": [
      "[[0]\n",
      " [1]\n",
      " [2]\n",
      " [3]\n",
      " [4]]\n"
     ]
    }
   ],
   "source": [
    "x_new = np.arange(5).reshape((-1, 1))\n",
    "print(x_new)"
   ]
  },
  {
   "cell_type": "code",
   "execution_count": 27,
   "id": "6b692faf",
   "metadata": {},
   "outputs": [
    {
     "name": "stdout",
     "output_type": "stream",
     "text": [
      "[14.55079872 15.05955272 15.56830671 16.0770607  16.5858147 ]\n"
     ]
    }
   ],
   "source": [
    "y_new = model.predict(x_new)\n",
    "print(y_new)"
   ]
  },
  {
   "cell_type": "code",
   "execution_count": 28,
   "id": "cea2f2dd",
   "metadata": {},
   "outputs": [
    {
     "data": {
      "image/png": "[encoded data removed]",
      "text/plain": [
       "<Figure size 720x432 with 1 Axes>"
      ]
     },
     "metadata": {
      "needs_background": "light"
     },
     "output_type": "display_data"
    }
   ],
   "source": [
    "# Extra code added to visualize regression line\n",
    "fig, ax = plt.subplots(figsize=(10, 6))\n",
    "\n",
    "# plot regression line\n",
    "regression_line, = ax.plot([0, *x.reshape(-1)], [model.intercept_, *y_pred], 'k', linewidth=2)\n",
    "\n",
    "# plot residuals\n",
    "residuals = []\n",
    "for a, b, c in zip(x, y, y_pred):\n",
    "    \n",
    "    residuals.append(ax.plot([a, a], [b, c], '--', linewidth=2, color='gray'))\n",
    "\n",
    "# plot actual response\n",
    "response, = ax.plot(x, y, '.g', markersize=20)\n",
    "\n",
    "# plot estimated response\n",
    "predictions, = ax.plot(x, y_pred, 'sr', markersize=10)\n",
    "\n",
    "# horizontal line at y = b_0\n",
    "ax.plot([0, 60], [model.intercept_] * 2, color='gray', linewidth=0.5)\n",
    "\n",
    "# axes labels, limits, and intercept\n",
    "ax.set_xlabel('x', fontsize=12, fontweight='bold')\n",
    "ax.set_ylabel('y', fontsize=12, fontweight='bold', rotation=0)\n",
    "ax.set_ylim(0, 40)\n",
    "ax.set_xlim(0, 60)\n",
    "ax.text(-2, model.intercept_, r'$b_0$')\n",
    "ax.set_yticks([0, 10, 20, 30, 40])\n",
    "\n",
    "# legend, done manually because of residuals\n",
    "ax.legend([regression_line, response, predictions, residuals[0][0]], \n",
    "          ['Estimated regression line, $f(x)=b_0+b_1x$',\n",
    "           r'Actual response, $y_i$',\n",
    "           r'Predicted response, $f(x_i)=b_0+b_1x_i$',\n",
    "           r'Residuals, $y_i - f(x_i)$'\n",
    "])\n",
    "\n",
    "# styles\n",
    "ax.set_facecolor((0.95, 0.95, 0.95))\n",
    "ax.grid(color='white')\n"
   ]
  },
  {
   "cell_type": "markdown",
   "id": "e0c7fa3e",
   "metadata": {},
   "source": [
    "                **************************> This is the end of our session ******************************"
   ]
  },
  {
   "cell_type": "markdown",
   "id": "453e07dc",
   "metadata": {},
   "source": [
    "Copyright © 2023 by Boston Consulting Group. All rights reserved."
   ]
  }
 ],
 "metadata": {
  "kernelspec": {
   "display_name": "Python 3 (ipykernel)",
   "language": "python",
   "name": "python3"
  },
  "language_info": {
   "codemirror_mode": {
    "name": "ipython",
    "version": 3
   },
   "file_extension": ".py",
   "mimetype": "text/x-python",
   "name": "python",
   "nbconvert_exporter": "python",
   "pygments_lexer": "ipython3",
   "version": "3.11.5"
  }
 },
 "nbformat": 4,
 "nbformat_minor": 5
}
